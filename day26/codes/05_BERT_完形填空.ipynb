{
 "cells": [
  {
   "cell_type": "code",
   "execution_count": 1,
   "id": "796aa3e5-b646-41e2-852a-7cd891354be9",
   "metadata": {},
   "outputs": [
    {
     "name": "stderr",
     "output_type": "stream",
     "text": [
      "2024-12-15 15:21:48.493900: I tensorflow/core/platform/cpu_feature_guard.cc:210] This TensorFlow binary is optimized to use available CPU instructions in performance-critical operations.\n",
      "To enable the following instructions: AVX2 FMA, in other operations, rebuild TensorFlow with the appropriate compiler flags.\n",
      "2024-12-15 15:21:49.900195: W tensorflow/compiler/tf2tensorrt/utils/py_utils.cc:38] TF-TRT Warning: Could not find TensorRT\n"
     ]
    }
   ],
   "source": [
    "from transformers import pipeline"
   ]
  },
  {
   "cell_type": "code",
   "execution_count": 7,
   "id": "50e87f63-deb5-40c0-b273-cde11d7ec19f",
   "metadata": {},
   "outputs": [
    {
     "name": "stderr",
     "output_type": "stream",
     "text": [
      "Some weights of the model checkpoint at bert-base-chinese were not used when initializing BertForMaskedLM: ['bert.pooler.dense.bias', 'bert.pooler.dense.weight', 'cls.seq_relationship.bias', 'cls.seq_relationship.weight']\n",
      "- This IS expected if you are initializing BertForMaskedLM from the checkpoint of a model trained on another task or with another architecture (e.g. initializing a BertForSequenceClassification model from a BertForPreTraining model).\n",
      "- This IS NOT expected if you are initializing BertForMaskedLM from the checkpoint of a model that you expect to be exactly identical (initializing a BertForSequenceClassification model from a BertForSequenceClassification model).\n",
      "Device set to use cuda:0\n"
     ]
    }
   ],
   "source": [
    "unmasker = pipeline(task='fill-mask', model='bert-base-chinese')"
   ]
  },
  {
   "cell_type": "code",
   "execution_count": 18,
   "id": "a6447f05-2687-4c68-b2c3-b9f8c9d0d09e",
   "metadata": {},
   "outputs": [
    {
     "name": "stderr",
     "output_type": "stream",
     "text": [
      "You seem to be using the pipelines sequentially on GPU. In order to maximize efficiency please use a dataset\n"
     ]
    },
    {
     "data": {
      "text/plain": [
       "[{'score': 0.28214317560195923,\n",
       "  'token': 6496,\n",
       "  'token_str': '象',\n",
       "  'sequence': '大 象 很 可 爱, 我 打 算 养 一 只 ！'},\n",
       " {'score': 0.11957237869501114,\n",
       "  'token': 4344,\n",
       "  'token_str': '猫',\n",
       "  'sequence': '大 猫 很 可 爱, 我 打 算 养 一 只 ！'},\n",
       " {'score': 0.08747342228889465,\n",
       "  'token': 4220,\n",
       "  'token_str': '熊',\n",
       "  'sequence': '大 熊 很 可 爱, 我 打 算 养 一 只 ！'},\n",
       " {'score': 0.03849504142999649,\n",
       "  'token': 4318,\n",
       "  'token_str': '狗',\n",
       "  'sequence': '大 狗 很 可 爱, 我 打 算 养 一 只 ！'},\n",
       " {'score': 0.03810378909111023,\n",
       "  'token': 1520,\n",
       "  'token_str': '哥',\n",
       "  'sequence': '大 哥 很 可 爱, 我 打 算 养 一 只 ！'}]"
      ]
     },
     "execution_count": 18,
     "metadata": {},
     "output_type": "execute_result"
    }
   ],
   "source": [
    "unmasker(inputs=\"大[MASK]很可爱,我打算养一只！\")"
   ]
  },
  {
   "cell_type": "code",
   "execution_count": null,
   "id": "8f884d3c-74b2-491f-97d5-c238f6718aeb",
   "metadata": {},
   "outputs": [],
   "source": []
  }
 ],
 "metadata": {
  "kernelspec": {
   "display_name": "Python 3 (ipykernel)",
   "language": "python",
   "name": "python3"
  },
  "language_info": {
   "codemirror_mode": {
    "name": "ipython",
    "version": 3
   },
   "file_extension": ".py",
   "mimetype": "text/x-python",
   "name": "python",
   "nbconvert_exporter": "python",
   "pygments_lexer": "ipython3",
   "version": "3.10.14"
  }
 },
 "nbformat": 4,
 "nbformat_minor": 5
}
