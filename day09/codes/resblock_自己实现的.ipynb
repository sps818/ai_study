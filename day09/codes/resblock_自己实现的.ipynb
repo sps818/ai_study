{
 "cells": [
  {
   "cell_type": "code",
   "execution_count": 1,
   "id": "c24ab112-80f2-4977-8991-51b999fce669",
   "metadata": {},
   "outputs": [],
   "source": [
    "import torch\n",
    "from torch import nn"
   ]
  },
  {
   "cell_type": "code",
   "execution_count": 2,
   "id": "a9e91192-b417-471f-95bc-21e0406873f7",
   "metadata": {},
   "outputs": [],
   "source": [
    "class IdentityShortcut(nn.Module):\n",
    "    \"\"\"\n",
    "        构建一个 输入/输出维度相同的ResBlock，也可以叫 基本形式（Identity Shortcut）\n",
    "        输入输出的channel不变\n",
    "    \"\"\"\n",
    "    def __init__(self):\n",
    "        super().__init__()\n",
    "        # 卷积抽特征\n",
    "        self.conv = nn.Conv2d(in_channels=3, out_channels=3, kernel_size=3, stride=1, padding=1)\n",
    "\n",
    "    def forward(self, x):\n",
    "        \"\"\"\n",
    "            identity \n",
    "        \"\"\"\n",
    "        return self.conv(x) + x"
   ]
  },
  {
   "cell_type": "code",
   "execution_count": 3,
   "id": "dae767fc-a024-4db7-96ee-124087543238",
   "metadata": {},
   "outputs": [
    {
     "name": "stdout",
     "output_type": "stream",
     "text": [
      "torch.Size([1, 3, 64, 64])\n"
     ]
    }
   ],
   "source": [
    "# 模拟一个输入\n",
    "X = torch.randn(1, 3, 64, 64)\n",
    "# 实例化\n",
    "identity_sc = IdentityShortcut()\n",
    "# 前向传播\n",
    "y_pred = identity_sc(X)\n",
    "# 查看输入前后通道数，没有变化 -> 不变 就是Identity Shortcut的特点\n",
    "print(y_pred.shape)"
   ]
  },
  {
   "cell_type": "code",
   "execution_count": null,
   "id": "575b9d9b-65d6-4705-9f89-9744075f1564",
   "metadata": {},
   "outputs": [],
   "source": []
  },
  {
   "cell_type": "code",
   "execution_count": 4,
   "id": "22ca8651-dab2-4148-92ab-cf91b3ff8430",
   "metadata": {},
   "outputs": [],
   "source": [
    "class ProjectionShortcut(nn.Module):\n",
    "    \"\"\"\n",
    "        构建一个 输入/输出维度不同的ResBlock，也可以叫 维度变化形式（Projection Shortcut）\n",
    "        输入输出的channel有变化\n",
    "    \"\"\"\n",
    "    def __init__(self):\n",
    "        super().__init__()\n",
    "        # 正常 进行卷积抽特征\n",
    "        self.conv = nn.Conv2d(in_channels=3, out_channels=18, kernel_size=3, stride=2, padding=1)\n",
    "        # 调整通道\n",
    "        self.shortcut = nn.Conv2d(in_channels=3, out_channels=18, kernel_size=1, stride=2, padding=0)\n",
    "\n",
    "    def forward(self, x):\n",
    "        \"\"\"\n",
    "            identity \n",
    "        \"\"\"\n",
    "        return self.conv(x) + self.shortcut(x)    "
   ]
  },
  {
   "cell_type": "code",
   "execution_count": 5,
   "id": "1024ca49-da03-4202-b96d-7fd744471bb6",
   "metadata": {},
   "outputs": [
    {
     "name": "stdout",
     "output_type": "stream",
     "text": [
      "torch.Size([1, 18, 32, 32])\n"
     ]
    }
   ],
   "source": [
    "# 模拟一个输入\n",
    "X = torch.randn(1, 3, 64, 64)\n",
    "# 实例化\n",
    "projection_sc = ProjectionShortcut()\n",
    "# 前向传播\n",
    "y_pred = projection_sc(X)\n",
    "# 查看输入前后通道数，有变化 -> 变 就是Bottleneck Shortcut的特点\n",
    "print(y_pred.shape)"
   ]
  },
  {
   "cell_type": "markdown",
   "id": "351f40e6-5009-47dc-80ac-c8254ebba0b3",
   "metadata": {},
   "source": [
    "### 基本 ResBlock - 整合以上两种情况"
   ]
  },
  {
   "cell_type": "code",
   "execution_count": 6,
   "id": "ff4328a2-3cfa-4430-b046-74c490b16248",
   "metadata": {},
   "outputs": [
    {
     "name": "stdout",
     "output_type": "stream",
     "text": [
      "输出shape: torch.Size([4, 16, 32, 32])\n"
     ]
    }
   ],
   "source": [
    "import torch.nn as nn\n",
    "import torch\n",
    "\n",
    "class BasicResBlock(nn.Module):\n",
    "    def __init__(self, in_channels, out_channels, stride=1):\n",
    "        super().__init__()\n",
    "        self.conv1 = nn.Conv2d(\n",
    "            in_channels, out_channels, kernel_size=3, stride=stride, padding=1)\n",
    "        self.bn1 = nn.BatchNorm2d(out_channels)\n",
    "        self.conv2 = nn.Conv2d(out_channels, out_channels,\n",
    "                               kernel_size=3, stride=1, padding=1, bias=False)\n",
    "        self.bn2 = nn.BatchNorm2d(out_channels)\n",
    "\n",
    "        # 处理维度不匹配的情况\n",
    "        self.shortcut = nn.Sequential()\n",
    "        if stride != 1 or in_channels != out_channels:\n",
    "            self.shortcut = nn.Sequential(nn.Conv2d(in_channels, out_channels, kernel_size=1, stride=stride, bias=False),\n",
    "                                          nn.BatchNorm2d(out_channels))\n",
    "\n",
    "    def forward(self, x):\n",
    "        out = nn.ReLU()(self.bn1(self.conv1(x)))\n",
    "        out = self.bn2(self.conv2(out))\n",
    "        return nn.ReLU()(out + self.shortcut(x))\n",
    "\n",
    "\n",
    "if __name__ == \"__main__\":\n",
    "    # 假设输入通道为3，输出通道为16，步幅为1\n",
    "    block = BasicResBlock(in_channels=3, out_channels=16, stride=1)\n",
    "    # 构造一个batch size为4，3通道，32x32的输入\n",
    "    x = torch.randn(4, 3, 32, 32)\n",
    "    y = block(x)\n",
    "    print(\"输出shape:\", y.shape)"
   ]
  },
  {
   "cell_type": "code",
   "execution_count": null,
   "id": "e6a34413-dea9-4803-81bd-aa4a78ca4972",
   "metadata": {},
   "outputs": [],
   "source": []
  }
 ],
 "metadata": {
  "kernelspec": {
   "display_name": "Python(py311)",
   "language": "python",
   "name": "py311"
  },
  "language_info": {
   "codemirror_mode": {
    "name": "ipython",
    "version": 3
   },
   "file_extension": ".py",
   "mimetype": "text/x-python",
   "name": "python",
   "nbconvert_exporter": "python",
   "pygments_lexer": "ipython3",
   "version": "3.11.11"
  }
 },
 "nbformat": 4,
 "nbformat_minor": 5
}
