{
 "cells": [
  {
   "cell_type": "markdown",
   "id": "5b703147-3765-45e5-8877-4cf9c13bfed3",
   "metadata": {},
   "source": [
    "### 1. 原始数据读取\n",
    "- 并不是把所有图像全部读进内存！\n",
    "- 而是把所有图像的`路径`和`类别`归纳和梳理出来！\n",
    "- img_path\n",
    "- img_label"
   ]
  },
  {
   "cell_type": "code",
   "execution_count": 1,
   "id": "998dca66-4693-45b3-b007-5e615ac0bd50",
   "metadata": {},
   "outputs": [
    {
     "name": "stdout",
     "output_type": "stream",
     "text": [
      "D:\\workspaces\\ai_study\\day08\\codes\\gesture\\train\n"
     ]
    }
   ],
   "source": [
    "\"\"\"\n",
    "    尝试读取 train \n",
    "\"\"\"\n",
    "import os\n",
    "\n",
    "# 当前目录\n",
    "current_dir = os.getcwd()\n",
    "\n",
    "# 获取上一级目录\n",
    "parent_dir = os.path.abspath(os.path.join(current_dir, \"..\", \"..\"))\n",
    "\n",
    "train_root = os.path.join(parent_dir, \"day08\", \"codes\", \"gesture\", \"train\")\n",
    "train_paths = []\n",
    "train_labels = []\n",
    "print(train_root)\n",
    "\n",
    "for label in os.listdir(train_root):\n",
    "    label_root = os.path.join(train_root, label)\n",
    "    for file in os.listdir(label_root):\n",
    "        file_path = os.path.join(label_root, file)\n",
    "        train_paths.append(file_path)\n",
    "        train_labels.append(label)"
   ]
  },
  {
   "cell_type": "code",
   "execution_count": 2,
   "id": "75056aa5-1d52-430d-bbc7-22bc2b56633b",
   "metadata": {
    "scrolled": true
   },
   "outputs": [],
   "source": [
    "\"\"\"\n",
    "    尝试读取 test \n",
    "\"\"\"\n",
    "import os\n",
    "test_root = os.path.join(parent_dir, \"day08\", \"codes\", \"gesture\", \"test\")\n",
    "test_paths = []\n",
    "test_labels = []\n",
    "\n",
    "for label in os.listdir(test_root):\n",
    "    label_root = os.path.join(test_root, label)\n",
    "    for file in os.listdir(label_root):\n",
    "        file_path = os.path.join(label_root, file)\n",
    "        test_paths.append(file_path)\n",
    "        test_labels.append(label)"
   ]
  },
  {
   "cell_type": "code",
   "execution_count": 3,
   "id": "e30812bd-cebb-4ce9-bd58-e8eab6178c67",
   "metadata": {},
   "outputs": [],
   "source": [
    "# 构建 标签字典 label dict\n",
    "labels = [\"zero\", \"one\", \"two\", \"three\", \"four\", \"five\", \"six\", \"seven\", \"eight\", \"nine\"]\n",
    "label2idx = {label: idx for idx, label in enumerate(labels)}\n",
    "idx2label = {idx: label for label, idx in label2idx.items()}"
   ]
  },
  {
   "cell_type": "markdown",
   "id": "14894725-4e0f-452e-8993-634659dcd0ff",
   "metadata": {},
   "source": [
    "### 2. 批量化打包\n",
    "- 继承 `Dataset`，自定义一个数据集\n",
    "- 实例化 `DataLoader`"
   ]
  },
  {
   "cell_type": "code",
   "execution_count": 4,
   "id": "c0da1507-535a-482c-a00d-a1ee882df85a",
   "metadata": {},
   "outputs": [],
   "source": [
    "# 引入必要的工具类\n",
    "from torch.utils.data import Dataset\n",
    "from torch.utils.data import DataLoader\n",
    "from PIL import Image\n",
    "from torchvision import transforms\n",
    "import torch"
   ]
  },
  {
   "cell_type": "code",
   "execution_count": 5,
   "id": "f1bc009b-d0f2-4332-90c3-bbfc0c83e24b",
   "metadata": {},
   "outputs": [],
   "source": [
    "class GestureDataset(Dataset):\n",
    "    \"\"\"\n",
    "        自定义手势识别数据集\n",
    "    \"\"\"\n",
    "    def __init__(self, X, y):\n",
    "        \"\"\"\n",
    "            初始化\n",
    "        \"\"\"\n",
    "        self.X = X\n",
    "        self.y = y\n",
    "\n",
    "    def __getitem__(self, idx):\n",
    "        \"\"\"\n",
    "            实现：\n",
    "                - 按下标来索引一个样本\n",
    "        \"\"\"\n",
    "        # 获取图像路径\n",
    "        img_path = self.X[idx]\n",
    "        # 读取图像\n",
    "        img = Image.open(fp=img_path)\n",
    "        # 统一大小\n",
    "        img = img.resize((32, 32))\n",
    "        # 转张量 [C, H, W]\n",
    "        # [0, 1]\n",
    "        img = transforms.ToTensor()(img)\n",
    "        # [-1, 1]\n",
    "        img = transforms.Normalize(mean=[0.5, 0.5, 0.5], std=[0.5, 0.5, 0.5])(img)\n",
    "\n",
    "        # 读取标签\n",
    "        img_label = self.y[idx]\n",
    "        # 标签转 id\n",
    "        img_idx = label2idx.get(img_label)\n",
    "        # 转张量\n",
    "        label = torch.tensor(data=img_idx, dtype=torch.long)\n",
    "\n",
    "        return img, label\n",
    "\n",
    "    \n",
    "    def __len__(self):\n",
    "        \"\"\"\n",
    "            返回该数据集的样本个数\n",
    "        \"\"\"\n",
    "        return len(self.X)"
   ]
  },
  {
   "cell_type": "code",
   "execution_count": 6,
   "id": "0b57844a-ff16-4ca6-9ae6-a9d332802473",
   "metadata": {},
   "outputs": [],
   "source": [
    "# 训练集加载器\n",
    "train_dataset = GestureDataset(X=train_paths, y=train_labels)\n",
    "train_dataloader = DataLoader(dataset=train_dataset, batch_size=16, shuffle=True)\n",
    "# 测试集加载器\n",
    "test_dataset = GestureDataset(X=test_paths, y=test_labels)\n",
    "test_dataloader = DataLoader(dataset=test_dataset, batch_size=32, shuffle=False)"
   ]
  },
  {
   "cell_type": "code",
   "execution_count": 7,
   "id": "e942fe0b-184f-4f77-9c84-69e0b04fbdaf",
   "metadata": {},
   "outputs": [
    {
     "name": "stdout",
     "output_type": "stream",
     "text": [
      "torch.Size([32, 3, 32, 32])\n",
      "torch.Size([32])\n"
     ]
    }
   ],
   "source": [
    "# 测试\n",
    "for X, y in test_dataloader:\n",
    "    print(X.shape)\n",
    "    print(y.shape)\n",
    "    break"
   ]
  },
  {
   "cell_type": "markdown",
   "id": "236557bf-9ffe-4446-8ad0-aa3a594696f1",
   "metadata": {},
   "source": [
    "### 3. 搭建模型"
   ]
  },
  {
   "cell_type": "code",
   "execution_count": 8,
   "id": "7da41cdc-9476-462a-8ac8-a71802f22573",
   "metadata": {},
   "outputs": [],
   "source": [
    "import torch\n",
    "from torch import nn"
   ]
  },
  {
   "cell_type": "code",
   "execution_count": 9,
   "id": "a6acb798-8940-425a-9cce-bd1b4c8cf781",
   "metadata": {},
   "outputs": [],
   "source": [
    "class Model(nn.Module):\n",
    "    \"\"\"\n",
    "        自定义一个神经网络\n",
    "    \"\"\"\n",
    "    def __init__(self, in_channels=3, n_classes=10):\n",
    "        \"\"\"\n",
    "            初始化\n",
    "        \"\"\"\n",
    "        super(Model, self).__init__()\n",
    "\n",
    "        # 1. 特征抽取\n",
    "        self.feature_extractor = nn.Sequential(\n",
    "            nn.Conv2d(in_channels=in_channels, \n",
    "                               out_channels=6, \n",
    "                               kernel_size=5,\n",
    "                               stride=1,\n",
    "                               padding=0),\n",
    "            nn.MaxPool2d(kernel_size=2, \n",
    "                                stride=2,\n",
    "                                padding=0),\n",
    "            nn.Conv2d(in_channels=6,\n",
    "                              out_channels=16,\n",
    "                              kernel_size=5,\n",
    "                              stride=1,\n",
    "                              padding=0),\n",
    "            nn.MaxPool2d(kernel_size=2, \n",
    "                               stride=2,\n",
    "                               padding=0)\n",
    "        )\n",
    "\n",
    "        # 2. 分类输出\n",
    "        self.classifier = nn.Sequential(\n",
    "            nn.Flatten(start_dim=1, end_dim=-1),\n",
    "            nn.Linear(in_features=400, out_features=120),\n",
    "            nn.Linear(in_features=120, out_features=84),\n",
    "            nn.Linear(in_features=84, out_features=n_classes)\n",
    "        )\n",
    "\n",
    "    def forward(self, x):\n",
    "        \"\"\"\n",
    "            前向传播\n",
    "        \"\"\"\n",
    "        # 1. 先做特征抽取\n",
    "        x = self.feature_extractor(x)\n",
    "        # 2. 再做分类回归\n",
    "        x = self.classifier(x)\n",
    "        return x"
   ]
  },
  {
   "cell_type": "markdown",
   "id": "3807907a-5220-4c9a-a785-25d17defd3b5",
   "metadata": {},
   "source": [
    "### 4. 训练过程"
   ]
  },
  {
   "cell_type": "code",
   "execution_count": 12,
   "id": "17a46475-ca0b-4e5e-84ee-bd9cff8e4807",
   "metadata": {},
   "outputs": [],
   "source": [
    "def train():\n",
    "    \"\"\"\n",
    "        定义训练函数\n",
    "    \"\"\"\n",
    "    for epoch in range(epochs):\n",
    "        for batch_X, batch_y in train_dataloader:\n",
    "            # 1. 数据搬家\n",
    "            batch_X = batch_X.to(device=device)\n",
    "            batch_y = batch_y.to(device=device)\n",
    "            # 2. 正向传播\n",
    "            y_pred = model(batch_X)\n",
    "            # 3. 计算损失\n",
    "            loss = loss_fn(y_pred, batch_y)\n",
    "            # 4. 反向传播\n",
    "            loss.backward()\n",
    "            # 5. 优化一步\n",
    "            optimizer.step()\n",
    "            # 6. 清空梯度\n",
    "            optimizer.zero_grad()\n",
    "        # 7. 打印损失\n",
    "        print(loss.item())           "
   ]
  },
  {
   "cell_type": "code",
   "execution_count": 13,
   "id": "24ebabd2-165f-4281-9740-f2f3123fa513",
   "metadata": {},
   "outputs": [],
   "source": [
    "# 设置训练轮次\n",
    "epochs = 50\n",
    "# 设备\n",
    "device = \"cuda\" if torch.cuda.is_available() else \"cpu\"\n",
    "# 实例化模型\n",
    "model = Model()\n",
    "model.to(device=device)\n",
    "# 优化器\n",
    "optimizer = torch.optim.Adam(params=model.parameters(), lr=1e-3)\n",
    "# 损失函数\n",
    "loss_fn = nn.CrossEntropyLoss()"
   ]
  },
  {
   "cell_type": "code",
   "execution_count": 14,
   "id": "fa8c6816-28d8-4c43-a2c5-b8c195661c30",
   "metadata": {
    "scrolled": true
   },
   "outputs": [
    {
     "name": "stdout",
     "output_type": "stream",
     "text": [
      "0.968528687953949\n",
      "0.5537124872207642\n",
      "0.11572491377592087\n",
      "0.20999424159526825\n",
      "0.35636427998542786\n",
      "0.04770141467452049\n",
      "0.40265074372291565\n",
      "0.019015749916434288\n",
      "0.03408932313323021\n",
      "0.018282009288668633\n",
      "0.013586784712970257\n",
      "0.030104253441095352\n",
      "0.09641117602586746\n",
      "0.01463738176971674\n",
      "0.19347600638866425\n",
      "0.09610701352357864\n",
      "0.006743032485246658\n",
      "0.02750261314213276\n",
      "0.0005216533900238574\n",
      "0.00012698538193944842\n",
      "9.357242379337549e-05\n",
      "5.9960399084957317e-05\n",
      "0.00034650228917598724\n",
      "0.0005969497142359614\n",
      "0.0028842701576650143\n",
      "0.0012410080526024103\n",
      "0.0007446525269187987\n",
      "2.1252277292660438e-05\n",
      "0.00049805041635409\n",
      "5.107428660267033e-05\n",
      "0.00012534546840470284\n",
      "0.0004467817780096084\n",
      "0.000269952550297603\n",
      "3.882762939610984e-06\n",
      "0.0008299491018988192\n",
      "0.00018438413098920137\n",
      "0.00012798899842891842\n",
      "2.0885026970063336e-05\n",
      "0.00026031082961708307\n",
      "0.00012170946138212457\n",
      "1.3555200894188602e-05\n",
      "3.564019061741419e-05\n",
      "8.418938523391262e-05\n",
      "5.451918696053326e-05\n",
      "6.67059575789608e-05\n",
      "6.946310895727947e-05\n",
      "0.00022757952683605254\n",
      "6.964988187974086e-06\n",
      "6.915740232216194e-05\n",
      "7.640039984835312e-05\n"
     ]
    }
   ],
   "source": [
    "train()"
   ]
  },
  {
   "cell_type": "code",
   "execution_count": 15,
   "id": "aee3a788-2f1c-46c7-8b97-c8a26db3d7a4",
   "metadata": {},
   "outputs": [
    {
     "data": {
      "text/plain": [
       "'\\n    1. 过程监控（准确率accuracy）\\n    2. 可视化loss和accuracy曲线\\n    3. 早停设置（在测试集上，如果连续N=3轮没有性能提升，则停止训练）\\n    4. 模型的best.pt和last.pt保存\\n    5. 加载预训练模型 last.pt\\n    6. 模型加载、推理流程\\n'"
      ]
     },
     "execution_count": 15,
     "metadata": {},
     "output_type": "execute_result"
    }
   ],
   "source": [
    "\"\"\"\n",
    "    1. 过程监控（准确率accuracy）\n",
    "    2. 可视化loss和accuracy曲线\n",
    "    3. 早停设置（在测试集上，如果连续N=3轮没有性能提升，则停止训练）\n",
    "    4. 模型的best.pt和last.pt保存\n",
    "    5. 加载预训练模型 last.pt\n",
    "    6. 模型加载、推理流程\n",
    "\"\"\""
   ]
  },
  {
   "cell_type": "code",
   "execution_count": null,
   "id": "8c0563f9-7e5e-483d-a7a1-c19262b50f18",
   "metadata": {},
   "outputs": [],
   "source": []
  }
 ],
 "metadata": {
  "kernelspec": {
   "display_name": "Python(py311)",
   "language": "python",
   "name": "py311"
  },
  "language_info": {
   "codemirror_mode": {
    "name": "ipython",
    "version": 3
   },
   "file_extension": ".py",
   "mimetype": "text/x-python",
   "name": "python",
   "nbconvert_exporter": "python",
   "pygments_lexer": "ipython3",
   "version": "3.11.11"
  }
 },
 "nbformat": 4,
 "nbformat_minor": 5
}
