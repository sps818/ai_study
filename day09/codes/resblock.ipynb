{
 "cells": [
  {
   "cell_type": "code",
   "execution_count": 2,
   "id": "bbcd705b-4972-42ca-a650-faa3bfb74008",
   "metadata": {},
   "outputs": [],
   "source": [
    "import torch\n",
    "from torch import nn"
   ]
  },
  {
   "cell_type": "code",
   "execution_count": 16,
   "id": "f9e9a952-8323-4c55-b413-25cf88a5aca4",
   "metadata": {},
   "outputs": [
    {
     "data": {
      "text/plain": [
       "Identity()"
      ]
     },
     "execution_count": 16,
     "metadata": {},
     "output_type": "execute_result"
    }
   ],
   "source": [
    "nn.Identity()"
   ]
  },
  {
   "cell_type": "code",
   "execution_count": 12,
   "id": "41b46db0-6ece-4053-8716-4fc9820d317b",
   "metadata": {},
   "outputs": [],
   "source": [
    "class IdentityBlock(nn.Module):\n",
    "    def __init__(self):\n",
    "        super(ResBlock, self).__init__()\n",
    "        self.conv = nn.Conv2d(in_channels=3, out_channels=3, kernel_size=3, stride=1, padding=1)\n",
    "    def forward(self, x):\n",
    "        \"\"\"\n",
    "            identity \n",
    "        \"\"\"\n",
    "        x = self.conv(x) + x\n",
    "        return x"
   ]
  },
  {
   "cell_type": "code",
   "execution_count": 13,
   "id": "9b1c12af-1162-43ce-bbd6-1c31fe5c7233",
   "metadata": {},
   "outputs": [],
   "source": [
    "X = torch.randn(2, 3, 32, 32)"
   ]
  },
  {
   "cell_type": "code",
   "execution_count": 14,
   "id": "c92b2e64-52e0-4b40-8c91-46b488b9f01c",
   "metadata": {},
   "outputs": [],
   "source": [
    "res_block = ResBlock()"
   ]
  },
  {
   "cell_type": "code",
   "execution_count": 15,
   "id": "6e444e0e-ec44-4e2c-86c2-d734e7c236b5",
   "metadata": {},
   "outputs": [
    {
     "data": {
      "text/plain": [
       "torch.Size([2, 3, 32, 32])"
      ]
     },
     "execution_count": 15,
     "metadata": {},
     "output_type": "execute_result"
    }
   ],
   "source": [
    "res_block(X).shape"
   ]
  },
  {
   "cell_type": "code",
   "execution_count": 30,
   "id": "3cb3de6c-bc02-46d3-91b8-7a12d63238b1",
   "metadata": {},
   "outputs": [],
   "source": [
    "class ResBlock(nn.Module):\n",
    "    def __init__(self):\n",
    "        super(ResBlock, self).__init__()\n",
    "        # 抽特征\n",
    "        self.conv = nn.Conv2d(in_channels=3, out_channels=8, kernel_size=3, stride=2, padding=1)\n",
    "        # 调整通道\n",
    "        self.short_cut = nn.Conv2d(in_channels=3, out_channels=8, kernel_size=1, stride=2, padding=0)\n",
    "    def forward(self, x):\n",
    "         x = self.conv(x) + self.short_cut(x)\n",
    "         return x"
   ]
  },
  {
   "cell_type": "code",
   "execution_count": 31,
   "id": "4c08fa0b-c6ef-4950-ae82-eb3ac8ab4f1b",
   "metadata": {},
   "outputs": [],
   "source": [
    "res_block = ResBlock()"
   ]
  },
  {
   "cell_type": "code",
   "execution_count": 32,
   "id": "9514b5ca-a0dd-4083-bc3e-7f461632ff2a",
   "metadata": {},
   "outputs": [
    {
     "data": {
      "text/plain": [
       "torch.Size([2, 3, 32, 32])"
      ]
     },
     "execution_count": 32,
     "metadata": {},
     "output_type": "execute_result"
    }
   ],
   "source": [
    "X.shape"
   ]
  },
  {
   "cell_type": "code",
   "execution_count": 33,
   "id": "a989306d-ca20-43e8-82ff-9e904cb7b5bc",
   "metadata": {},
   "outputs": [
    {
     "data": {
      "text/plain": [
       "torch.Size([2, 8, 16, 16])"
      ]
     },
     "execution_count": 33,
     "metadata": {},
     "output_type": "execute_result"
    }
   ],
   "source": [
    "res_block(X).shape"
   ]
  },
  {
   "cell_type": "code",
   "execution_count": null,
   "id": "2537144c-6f66-4964-af47-d71a18af1c35",
   "metadata": {},
   "outputs": [],
   "source": []
  },
  {
   "cell_type": "code",
   "execution_count": null,
   "id": "cf89f91e-5c73-4b66-a890-a2a687786de7",
   "metadata": {},
   "outputs": [],
   "source": []
  }
 ],
 "metadata": {
  "kernelspec": {
   "display_name": "Python(py311)",
   "language": "python",
   "name": "py311"
  },
  "language_info": {
   "codemirror_mode": {
    "name": "ipython",
    "version": 3
   },
   "file_extension": ".py",
   "mimetype": "text/x-python",
   "name": "python",
   "nbconvert_exporter": "python",
   "pygments_lexer": "ipython3",
   "version": "3.11.11"
  }
 },
 "nbformat": 4,
 "nbformat_minor": 5
}
