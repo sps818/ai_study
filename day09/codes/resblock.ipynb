{
 "cells": [
  {
   "cell_type": "code",
   "execution_count": 1,
   "id": "bbcd705b-4972-42ca-a650-faa3bfb74008",
   "metadata": {},
   "outputs": [],
   "source": [
    "import torch\n",
    "from torch import nn"
   ]
  },
  {
   "cell_type": "code",
   "execution_count": 2,
   "id": "f9e9a952-8323-4c55-b413-25cf88a5aca4",
   "metadata": {},
   "outputs": [
    {
     "data": {
      "text/plain": [
       "Identity()"
      ]
     },
     "execution_count": 2,
     "metadata": {},
     "output_type": "execute_result"
    }
   ],
   "source": [
    "nn.Identity()"
   ]
  },
  {
   "cell_type": "code",
   "execution_count": 3,
   "id": "41b46db0-6ece-4053-8716-4fc9820d317b",
   "metadata": {},
   "outputs": [],
   "source": [
    "class IdentityShortcut(nn.Module):\n",
    "    \"\"\"\n",
    "        构建一个 输入/输出维度相同的ResBlock，也可以叫 基本形式（Identity Shortcut）\n",
    "        输入输出的channel不变\n",
    "    \"\"\"\n",
    "    def __init__(self):\n",
    "        super().__init__()\n",
    "        self.conv = nn.Conv2d(in_channels=3, out_channels=3, kernel_size=3, stride=1, padding=1)\n",
    "    def forward(self, x):\n",
    "        \"\"\"\n",
    "            identity \n",
    "        \"\"\"\n",
    "        x = self.conv(x) + x\n",
    "        return x"
   ]
  },
  {
   "cell_type": "code",
   "execution_count": 4,
   "id": "9b1c12af-1162-43ce-bbd6-1c31fe5c7233",
   "metadata": {},
   "outputs": [],
   "source": [
    "X = torch.randn(2, 3, 32, 32)"
   ]
  },
  {
   "cell_type": "code",
   "execution_count": 5,
   "id": "c92b2e64-52e0-4b40-8c91-46b488b9f01c",
   "metadata": {},
   "outputs": [],
   "source": [
    "identity_sc = IdentityShortcut()"
   ]
  },
  {
   "cell_type": "code",
   "execution_count": 6,
   "id": "6e444e0e-ec44-4e2c-86c2-d734e7c236b5",
   "metadata": {},
   "outputs": [
    {
     "data": {
      "text/plain": [
       "torch.Size([2, 3, 32, 32])"
      ]
     },
     "execution_count": 6,
     "metadata": {},
     "output_type": "execute_result"
    }
   ],
   "source": [
    "identity_sc(X).shape"
   ]
  },
  {
   "cell_type": "code",
   "execution_count": 7,
   "id": "3cb3de6c-bc02-46d3-91b8-7a12d63238b1",
   "metadata": {},
   "outputs": [],
   "source": [
    "class ProjectionShortcut(nn.Module):\n",
    "    \"\"\"\n",
    "        构建一个 输入/输出维度不同的ResBlock，也可以叫 维度变化形式（Projection Shortcut）\n",
    "        输入输出的channel有变化\n",
    "    \"\"\"\n",
    "    def __init__(self):\n",
    "        super().__init__()\n",
    "        # 抽特征\n",
    "        self.conv = nn.Conv2d(in_channels=3, out_channels=8, kernel_size=3, stride=2, padding=1)\n",
    "        # 调整通道\n",
    "        self.short_cut = nn.Conv2d(in_channels=3, out_channels=8, kernel_size=1, stride=2, padding=0)\n",
    "    def forward(self, x):\n",
    "         x = self.conv(x) + self.short_cut(x)\n",
    "         return x"
   ]
  },
  {
   "cell_type": "code",
   "execution_count": 8,
   "id": "4c08fa0b-c6ef-4950-ae82-eb3ac8ab4f1b",
   "metadata": {},
   "outputs": [],
   "source": [
    "bottleneck_sc = ProjectionShortcut()"
   ]
  },
  {
   "cell_type": "code",
   "execution_count": 9,
   "id": "9514b5ca-a0dd-4083-bc3e-7f461632ff2a",
   "metadata": {},
   "outputs": [
    {
     "data": {
      "text/plain": [
       "torch.Size([2, 3, 32, 32])"
      ]
     },
     "execution_count": 9,
     "metadata": {},
     "output_type": "execute_result"
    }
   ],
   "source": [
    "X.shape"
   ]
  },
  {
   "cell_type": "code",
   "execution_count": 10,
   "id": "a989306d-ca20-43e8-82ff-9e904cb7b5bc",
   "metadata": {},
   "outputs": [
    {
     "data": {
      "text/plain": [
       "torch.Size([2, 8, 16, 16])"
      ]
     },
     "execution_count": 10,
     "metadata": {},
     "output_type": "execute_result"
    }
   ],
   "source": [
    "bottleneck_sc(X).shape"
   ]
  },
  {
   "cell_type": "code",
   "execution_count": null,
   "id": "a9d2105b-4510-4c98-830a-b958b355e9f8",
   "metadata": {},
   "outputs": [],
   "source": []
  }
 ],
 "metadata": {
  "kernelspec": {
   "display_name": "Python(py311)",
   "language": "python",
   "name": "py311"
  },
  "language_info": {
   "codemirror_mode": {
    "name": "ipython",
    "version": 3
   },
   "file_extension": ".py",
   "mimetype": "text/x-python",
   "name": "python",
   "nbconvert_exporter": "python",
   "pygments_lexer": "ipython3",
   "version": "3.11.11"
  }
 },
 "nbformat": 4,
 "nbformat_minor": 5
}
