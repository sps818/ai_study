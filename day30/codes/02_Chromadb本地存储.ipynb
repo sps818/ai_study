{
 "cells": [
  {
   "cell_type": "code",
   "execution_count": 1,
   "id": "862b1285-b261-4f2d-af20-9f676c4e6a73",
   "metadata": {
    "scrolled": true
   },
   "outputs": [
    {
     "name": "stderr",
     "output_type": "stream",
     "text": [
      "D:\\software\\anaconda3\\Lib\\site-packages\\onnxruntime\\capi\\onnxruntime_validation.py:26: UserWarning: Unsupported Windows version (11). ONNX Runtime supports Windows 10 and above, only.\n",
      "  warnings.warn(\n"
     ]
    }
   ],
   "source": [
    "from chromadb import Client\n",
    "from chromadb import Settings"
   ]
  },
  {
   "cell_type": "code",
   "execution_count": 2,
   "id": "3548c099-7127-4376-8f16-09ab42cef4b6",
   "metadata": {},
   "outputs": [],
   "source": [
    "settings = Settings(persist_directory=r\"C:\\Users\\86138\\Desktop\\day30\\codes\\chroma\", is_persistent=True)"
   ]
  },
  {
   "cell_type": "code",
   "execution_count": 3,
   "id": "f183491b-4421-42ae-94af-7e929d3dd9a7",
   "metadata": {},
   "outputs": [],
   "source": [
    "client = Client(settings=settings)"
   ]
  },
  {
   "cell_type": "code",
   "execution_count": 4,
   "id": "1f64ebde-74e7-4e74-9e70-116d6cb1288e",
   "metadata": {},
   "outputs": [],
   "source": [
    "collection = client.get_or_create_collection(name=\"langchain\")"
   ]
  },
  {
   "cell_type": "code",
   "execution_count": 5,
   "id": "02c1e42c-672f-47a8-ae4a-646621dd8c1f",
   "metadata": {},
   "outputs": [],
   "source": [
    "collection.add(ids=[\"123\", \"456\"], \n",
    "              documents=[\"你好\", \"我好\"])"
   ]
  },
  {
   "cell_type": "code",
   "execution_count": null,
   "id": "641c338f-eb3b-4008-a34a-1f0da1daa701",
   "metadata": {},
   "outputs": [],
   "source": []
  }
 ],
 "metadata": {
  "kernelspec": {
   "display_name": "Python 3 (ipykernel)",
   "language": "python",
   "name": "python3"
  },
  "language_info": {
   "codemirror_mode": {
    "name": "ipython",
    "version": 3
   },
   "file_extension": ".py",
   "mimetype": "text/x-python",
   "name": "python",
   "nbconvert_exporter": "python",
   "pygments_lexer": "ipython3",
   "version": "3.12.3"
  }
 },
 "nbformat": 4,
 "nbformat_minor": 5
}
