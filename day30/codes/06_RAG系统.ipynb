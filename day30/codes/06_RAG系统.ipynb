{
 "cells": [
  {
   "cell_type": "markdown",
   "id": "08a86507-6f86-4426-9507-eedd206f0c2f",
   "metadata": {},
   "source": [
    "### 1. 数据读取"
   ]
  },
  {
   "cell_type": "code",
   "execution_count": 115,
   "id": "ffe8f52b-a2e5-4090-ab4a-07a42f561ead",
   "metadata": {},
   "outputs": [],
   "source": [
    "from langchain_core.documents import Document\n",
    "import random"
   ]
  },
  {
   "cell_type": "code",
   "execution_count": 116,
   "id": "50a8007e-f83b-43cd-92f2-215e70cf9d99",
   "metadata": {},
   "outputs": [],
   "source": [
    "file_name = \"knowledge/大聪明牌口服液.txt\"\n",
    "with open(file=file_name, mode=\"r\", encoding=\"utf8\") as f:\n",
    "    data = f.read()"
   ]
  },
  {
   "cell_type": "code",
   "execution_count": 117,
   "id": "fd2e9f3a-280e-4f26-85a0-10f32c7f6691",
   "metadata": {},
   "outputs": [
    {
     "data": {
      "text/plain": [
       "0.6061221584230996"
      ]
     },
     "execution_count": 117,
     "metadata": {},
     "output_type": "execute_result"
    }
   ],
   "source": [
    "random.random()"
   ]
  },
  {
   "cell_type": "code",
   "execution_count": 118,
   "id": "9c4e8e87-90b7-46bc-b886-f28d3b825e88",
   "metadata": {},
   "outputs": [],
   "source": [
    "def get_role():\n",
    "    if random.random() >= 0.5:\n",
    "        return \"admin\"\n",
    "    else:\n",
    "        return \"user\""
   ]
  },
  {
   "cell_type": "code",
   "execution_count": 119,
   "id": "d62ed345-9bfc-4f70-882a-5d9f1709df6d",
   "metadata": {},
   "outputs": [
    {
     "data": {
      "text/plain": [
       "'user'"
      ]
     },
     "execution_count": 119,
     "metadata": {},
     "output_type": "execute_result"
    }
   ],
   "source": [
    "get_role()"
   ]
  },
  {
   "cell_type": "code",
   "execution_count": 120,
   "id": "5de9ffcd-8bfc-4dcb-a3c6-4be22de537f6",
   "metadata": {},
   "outputs": [],
   "source": [
    "chunks = [chunk.strip() for chunk in data.split(sep=\"###\") if chunk.strip()]"
   ]
  },
  {
   "cell_type": "code",
   "execution_count": 121,
   "id": "a2b7657d-f6f2-40b0-a44a-751d43cfde65",
   "metadata": {},
   "outputs": [],
   "source": [
    "documents = []\n",
    "for idx, chunk in enumerate(chunks, start=1):\n",
    "    doc = Document(page_content=chunk, metadata={\"role\": \"user\", \n",
    "                                                 \"file_name\": \"大聪明口服液产品文档.txt\",\n",
    "                                                \"section\":f\"第{idx}节\"})\n",
    "    documents.append(doc)"
   ]
  },
  {
   "cell_type": "code",
   "execution_count": 122,
   "id": "b48ac800-a7ef-4238-82a1-be59c5f7316e",
   "metadata": {},
   "outputs": [
    {
     "data": {
      "text/plain": [
       "[Document(metadata={'role': 'user', 'file_name': '大聪明口服液产品文档.txt', 'section': '第1节'}, page_content='产品功能介绍\\n\\n“大聪明牌口服液”是一款革命性的产品，旨在通过天然成分激发大脑潜能，提升认知能力。我们的口服液富含精选的草本精华和神经营养素，经过科学配比，能够促进大脑健康，增强记忆力，提高集中力和创造力。无论是学生、职场人士还是老年人，都能从中受益。经过临床试验证明，长期服用“大聪明牌口服液”能有效改善大脑功能，让您在工作和学习中更加得心应手，思维敏捷，反应迅速。'),\n",
       " Document(metadata={'role': 'user', 'file_name': '大聪明口服液产品文档.txt', 'section': '第2节'}, page_content='产品研发团队\\n\\n“大聪明牌口服液”的研发团队由一群顶尖的神经科学家、营养学家和药理学家组成。他们拥有多年在大脑健康和认知科学领域的研究经验，致力于开发能够真正改善人类认知能力的产品。团队成员来自世界各地的知名大学和研究机构，他们的专业知识和创新精神是“大聪明牌口服液”成功的基石。我们的研发团队不断探索最新的科研成果，确保产品始终处于行业领先地位。'),\n",
       " Document(metadata={'role': 'user', 'file_name': '大聪明口服液产品文档.txt', 'section': '第3节'}, page_content='产品的价格\\n\\n“大聪明牌口服液”的价格定位在中高端市场，以确保我们能够提供最优质的原料和最先进的研发技术。我们的产品定价为每盒299元，每盒包含30天的用量。虽然价格相对较高，但考虑到其带来的长期认知益处和生活质量的提升，这一投资是值得的。我们相信，通过“大聪明牌口服液”，用户能够获得更高的工作效率和更好的生活品质，这是无价的。'),\n",
       " Document(metadata={'role': 'user', 'file_name': '大聪明口服液产品文档.txt', 'section': '第4节'}, page_content='产品的购买渠道\\n\\n“大聪明牌口服液”的销售渠道覆盖线上线下，方便消费者随时随地购买。您可以在我们的官方网站上直接下单，享受便捷的在线购物体验。此外，我们的产品也在各大电商平台如天猫、京东等设有官方旗舰店。对于喜欢实体购物的消费者，我们的产品也在全国范围内的药店和健康产品专卖店有售。我们承诺，无论您选择哪种购买方式，都能享受到同样优质的产品和服务。'),\n",
       " Document(metadata={'role': 'user', 'file_name': '大聪明口服液产品文档.txt', 'section': '第5节'}, page_content='产品安全性与认证\\n\\n“大聪明牌口服液”在上市前经过了严格的安全性测试和功效验证。我们的产品获得了国家食品药品监督管理局的批准，确保其安全性和有效性。此外，我们还通过了ISO 9001质量管理体系认证，以及GMP良好生产规范认证，确保从原料采购到生产过程的每一个环节都符合最高标准。'),\n",
       " Document(metadata={'role': 'user', 'file_name': '大聪明口服液产品文档.txt', 'section': '第6节'}, page_content='产品成分与作用机理\\n\\n“大聪明牌口服液”的成分均选自天然植物，包括但不限于银杏叶提取物、人参、深海鱼油等，这些成分已被广泛研究并证实对大脑健康有益。银杏叶提取物能够改善血液循环，增强记忆力；人参能够提高精力和集中力；深海鱼油富含Omega-3脂肪酸，对神经细胞的保护和修复至关重要。这些成分的协同作用，使得“大聪明牌口服液”能够有效提升大脑功能。'),\n",
       " Document(metadata={'role': 'user', 'file_name': '大聪明口服液产品文档.txt', 'section': '第7节'}, page_content='产品使用指南\\n\\n为了确保“大聪明牌口服液”的最佳效果，我们建议用户按照说明书上的推荐剂量服用。通常，成人每天服用一次，每次一瓶。建议在早餐后服用，以帮助您在一天中保持最佳状态。如果您有任何健康问题或正在服用其他药物，请在开始服用前咨询医生。'),\n",
       " Document(metadata={'role': 'user', 'file_name': '大聪明口服液产品文档.txt', 'section': '第8节'}, page_content='产品效果与用户反馈\\n\\n“大聪明牌口服液”自上市以来，已经帮助成千上万的用户提高了他们的认知能力。我们的用户反馈显示，服用后他们感到更加精神饱满，记忆力和集中力有了显著提升。许多学生和专业人士表示，他们在学习和工作中的表现更加出色。我们鼓励用户分享他们的故事，以便更多的人了解“大聪明牌口服液”的益处。'),\n",
       " Document(metadata={'role': 'user', 'file_name': '大聪明口服液产品文档.txt', 'section': '第9节'}, page_content='产品包装与设计\\n\\n“大聪明牌口服液”的包装设计简洁而现代，体现了我们对产品质量的重视。每瓶口服液都采用环保材料包装，确保产品的新鲜度和安全性。我们的设计理念是将科学与自然完美融合，让用户在使用我们的产品时，能够感受到科技的力量和自然的恩赐。'),\n",
       " Document(metadata={'role': 'user', 'file_name': '大聪明口服液产品文档.txt', 'section': '第10节'}, page_content='产品社会责任\\n\\n作为一家负责任的企业，我们深知产品对社会的影响。因此，我们承诺将一部分利润用于支持大脑健康和认知科学的研究，以及教育项目，特别是那些旨在提高儿童和青少年认知能力的项目。我们相信，通过这些努力，我们可以为社会做出更大的贡献。'),\n",
       " Document(metadata={'role': 'user', 'file_name': '大聪明口服液产品文档.txt', 'section': '第11节'}, page_content='产品未来展望\\n\\n展望未来，“大聪明牌口服液”将继续致力于研发更高效、更安全的产品，以满足不断变化的市场需求。我们计划扩大产品线，开发针对不同人群和需求的定制化产品。同时，我们也将继续探索新的科学发现，以确保我们的产品和服务始终处于行业前沿。\\n\\n通过上述内容，我们希望您能够全面了解“大聪明牌口服液”的各个方面，从产品功能到社会责任，我们致力于为用户提供最优质的产品和服务。我们相信，“大聪明牌口服液”将成为您提升认知能力、改善生活质量的理想选择。')]"
      ]
     },
     "execution_count": 122,
     "metadata": {},
     "output_type": "execute_result"
    }
   ],
   "source": [
    "documents"
   ]
  },
  {
   "cell_type": "code",
   "execution_count": 123,
   "id": "ab36a781-feb7-4183-b6c9-4f27a31fa3c8",
   "metadata": {},
   "outputs": [],
   "source": [
    "# 设置价格为 admin，只有管理员可以知道销售底价\n",
    "documents[2].metadata[\"role\"] = \"admin\""
   ]
  },
  {
   "cell_type": "code",
   "execution_count": 124,
   "id": "cbcee2a9-a594-4a95-8cd0-eebcc7d11cff",
   "metadata": {},
   "outputs": [
    {
     "data": {
      "text/plain": [
       "Document(metadata={'role': 'admin', 'file_name': '大聪明口服液产品文档.txt', 'section': '第3节'}, page_content='产品的价格\\n\\n“大聪明牌口服液”的价格定位在中高端市场，以确保我们能够提供最优质的原料和最先进的研发技术。我们的产品定价为每盒299元，每盒包含30天的用量。虽然价格相对较高，但考虑到其带来的长期认知益处和生活质量的提升，这一投资是值得的。我们相信，通过“大聪明牌口服液”，用户能够获得更高的工作效率和更好的生活品质，这是无价的。')"
      ]
     },
     "execution_count": 124,
     "metadata": {},
     "output_type": "execute_result"
    }
   ],
   "source": [
    "documents[2]"
   ]
  },
  {
   "cell_type": "code",
   "execution_count": 126,
   "id": "a355d810-1644-47d4-bc24-1848c3a7e803",
   "metadata": {},
   "outputs": [
    {
     "data": {
      "text/plain": [
       "11"
      ]
     },
     "execution_count": 126,
     "metadata": {},
     "output_type": "execute_result"
    }
   ],
   "source": [
    "len(documents)"
   ]
  },
  {
   "cell_type": "markdown",
   "id": "a3ce1190-16fd-4571-8c87-af8e4855f3d8",
   "metadata": {},
   "source": [
    "### 2. 数据入库"
   ]
  },
  {
   "cell_type": "code",
   "execution_count": 127,
   "id": "6f7199bc-634e-44d8-aaff-180f72c9c919",
   "metadata": {},
   "outputs": [],
   "source": [
    "from chromadb import HttpClient\n",
    "from langchain_chroma import Chroma\n",
    "from models import get_embed"
   ]
  },
  {
   "cell_type": "code",
   "execution_count": 128,
   "id": "2cf99c94-aaa7-41df-a3f7-6a258469ca3d",
   "metadata": {},
   "outputs": [],
   "source": [
    "client = HttpClient(host=\"localhost\", port=8000)"
   ]
  },
  {
   "cell_type": "code",
   "execution_count": 129,
   "id": "10c41ce8-2552-42de-830d-8c73bd3d317f",
   "metadata": {},
   "outputs": [],
   "source": [
    "embed = get_embed()"
   ]
  },
  {
   "cell_type": "code",
   "execution_count": 130,
   "id": "32fa51ed-b499-48a1-9e1d-b8c67b686e5c",
   "metadata": {},
   "outputs": [],
   "source": [
    "db = Chroma(embedding_function=embed, client=client)"
   ]
  },
  {
   "cell_type": "code",
   "execution_count": 131,
   "id": "ec45a327-1a6f-4c35-9767-e5f14eda5599",
   "metadata": {},
   "outputs": [
    {
     "data": {
      "text/plain": [
       "{'ids': [],\n",
       " 'embeddings': None,\n",
       " 'metadatas': [],\n",
       " 'documents': [],\n",
       " 'data': None,\n",
       " 'uris': None,\n",
       " 'included': ['documents', 'metadatas']}"
      ]
     },
     "execution_count": 131,
     "metadata": {},
     "output_type": "execute_result"
    }
   ],
   "source": [
    "db.get()"
   ]
  },
  {
   "cell_type": "code",
   "execution_count": 133,
   "id": "7627567f-78ac-49b5-a450-b66a9e8ee52d",
   "metadata": {},
   "outputs": [
    {
     "data": {
      "text/plain": [
       "['44257dae-e825-45d6-9098-2711e13f2305',\n",
       " '7cf53c94-cb47-4f39-b7f2-81a58c557b84',\n",
       " '24eacfda-6060-4ace-a9d3-4243a21882c7',\n",
       " '71275e40-51be-49ec-9311-888030d6f403',\n",
       " '5b79bad6-51b0-49ad-89a3-ddb4ac59120c',\n",
       " '5d11af6b-7821-4c74-965c-67e73e22243e',\n",
       " 'f95827b8-f6e9-4cf4-a60b-ff96c345eb4e',\n",
       " '23dcd711-356f-4026-bddf-d61f77267425',\n",
       " '25410253-f399-4926-9f87-420fdcb0984d',\n",
       " '84610142-a7fb-448e-a12e-405f004342c6',\n",
       " '13a38893-c843-4bf9-992e-0032de054354']"
      ]
     },
     "execution_count": 133,
     "metadata": {},
     "output_type": "execute_result"
    }
   ],
   "source": [
    "db.add_documents(documents=documents)"
   ]
  },
  {
   "cell_type": "code",
   "execution_count": 134,
   "id": "745bd8e3-0d3f-4830-aa5a-7cf41db92b1b",
   "metadata": {},
   "outputs": [
    {
     "data": {
      "text/plain": [
       "{'ids': ['44257dae-e825-45d6-9098-2711e13f2305',\n",
       "  '7cf53c94-cb47-4f39-b7f2-81a58c557b84',\n",
       "  '24eacfda-6060-4ace-a9d3-4243a21882c7',\n",
       "  '71275e40-51be-49ec-9311-888030d6f403',\n",
       "  '5b79bad6-51b0-49ad-89a3-ddb4ac59120c',\n",
       "  '5d11af6b-7821-4c74-965c-67e73e22243e',\n",
       "  'f95827b8-f6e9-4cf4-a60b-ff96c345eb4e',\n",
       "  '23dcd711-356f-4026-bddf-d61f77267425',\n",
       "  '25410253-f399-4926-9f87-420fdcb0984d',\n",
       "  '84610142-a7fb-448e-a12e-405f004342c6',\n",
       "  '13a38893-c843-4bf9-992e-0032de054354'],\n",
       " 'embeddings': None,\n",
       " 'metadatas': [{'file_name': '大聪明口服液产品文档.txt',\n",
       "   'role': 'user',\n",
       "   'section': '第1节'},\n",
       "  {'file_name': '大聪明口服液产品文档.txt', 'role': 'user', 'section': '第2节'},\n",
       "  {'file_name': '大聪明口服液产品文档.txt', 'role': 'admin', 'section': '第3节'},\n",
       "  {'file_name': '大聪明口服液产品文档.txt', 'role': 'user', 'section': '第4节'},\n",
       "  {'file_name': '大聪明口服液产品文档.txt', 'role': 'user', 'section': '第5节'},\n",
       "  {'file_name': '大聪明口服液产品文档.txt', 'role': 'user', 'section': '第6节'},\n",
       "  {'file_name': '大聪明口服液产品文档.txt', 'role': 'user', 'section': '第7节'},\n",
       "  {'file_name': '大聪明口服液产品文档.txt', 'role': 'user', 'section': '第8节'},\n",
       "  {'file_name': '大聪明口服液产品文档.txt', 'role': 'user', 'section': '第9节'},\n",
       "  {'file_name': '大聪明口服液产品文档.txt', 'role': 'user', 'section': '第10节'},\n",
       "  {'file_name': '大聪明口服液产品文档.txt', 'role': 'user', 'section': '第11节'}],\n",
       " 'documents': ['产品功能介绍\\n\\n“大聪明牌口服液”是一款革命性的产品，旨在通过天然成分激发大脑潜能，提升认知能力。我们的口服液富含精选的草本精华和神经营养素，经过科学配比，能够促进大脑健康，增强记忆力，提高集中力和创造力。无论是学生、职场人士还是老年人，都能从中受益。经过临床试验证明，长期服用“大聪明牌口服液”能有效改善大脑功能，让您在工作和学习中更加得心应手，思维敏捷，反应迅速。',\n",
       "  '产品研发团队\\n\\n“大聪明牌口服液”的研发团队由一群顶尖的神经科学家、营养学家和药理学家组成。他们拥有多年在大脑健康和认知科学领域的研究经验，致力于开发能够真正改善人类认知能力的产品。团队成员来自世界各地的知名大学和研究机构，他们的专业知识和创新精神是“大聪明牌口服液”成功的基石。我们的研发团队不断探索最新的科研成果，确保产品始终处于行业领先地位。',\n",
       "  '产品的价格\\n\\n“大聪明牌口服液”的价格定位在中高端市场，以确保我们能够提供最优质的原料和最先进的研发技术。我们的产品定价为每盒299元，每盒包含30天的用量。虽然价格相对较高，但考虑到其带来的长期认知益处和生活质量的提升，这一投资是值得的。我们相信，通过“大聪明牌口服液”，用户能够获得更高的工作效率和更好的生活品质，这是无价的。',\n",
       "  '产品的购买渠道\\n\\n“大聪明牌口服液”的销售渠道覆盖线上线下，方便消费者随时随地购买。您可以在我们的官方网站上直接下单，享受便捷的在线购物体验。此外，我们的产品也在各大电商平台如天猫、京东等设有官方旗舰店。对于喜欢实体购物的消费者，我们的产品也在全国范围内的药店和健康产品专卖店有售。我们承诺，无论您选择哪种购买方式，都能享受到同样优质的产品和服务。',\n",
       "  '产品安全性与认证\\n\\n“大聪明牌口服液”在上市前经过了严格的安全性测试和功效验证。我们的产品获得了国家食品药品监督管理局的批准，确保其安全性和有效性。此外，我们还通过了ISO 9001质量管理体系认证，以及GMP良好生产规范认证，确保从原料采购到生产过程的每一个环节都符合最高标准。',\n",
       "  '产品成分与作用机理\\n\\n“大聪明牌口服液”的成分均选自天然植物，包括但不限于银杏叶提取物、人参、深海鱼油等，这些成分已被广泛研究并证实对大脑健康有益。银杏叶提取物能够改善血液循环，增强记忆力；人参能够提高精力和集中力；深海鱼油富含Omega-3脂肪酸，对神经细胞的保护和修复至关重要。这些成分的协同作用，使得“大聪明牌口服液”能够有效提升大脑功能。',\n",
       "  '产品使用指南\\n\\n为了确保“大聪明牌口服液”的最佳效果，我们建议用户按照说明书上的推荐剂量服用。通常，成人每天服用一次，每次一瓶。建议在早餐后服用，以帮助您在一天中保持最佳状态。如果您有任何健康问题或正在服用其他药物，请在开始服用前咨询医生。',\n",
       "  '产品效果与用户反馈\\n\\n“大聪明牌口服液”自上市以来，已经帮助成千上万的用户提高了他们的认知能力。我们的用户反馈显示，服用后他们感到更加精神饱满，记忆力和集中力有了显著提升。许多学生和专业人士表示，他们在学习和工作中的表现更加出色。我们鼓励用户分享他们的故事，以便更多的人了解“大聪明牌口服液”的益处。',\n",
       "  '产品包装与设计\\n\\n“大聪明牌口服液”的包装设计简洁而现代，体现了我们对产品质量的重视。每瓶口服液都采用环保材料包装，确保产品的新鲜度和安全性。我们的设计理念是将科学与自然完美融合，让用户在使用我们的产品时，能够感受到科技的力量和自然的恩赐。',\n",
       "  '产品社会责任\\n\\n作为一家负责任的企业，我们深知产品对社会的影响。因此，我们承诺将一部分利润用于支持大脑健康和认知科学的研究，以及教育项目，特别是那些旨在提高儿童和青少年认知能力的项目。我们相信，通过这些努力，我们可以为社会做出更大的贡献。',\n",
       "  '产品未来展望\\n\\n展望未来，“大聪明牌口服液”将继续致力于研发更高效、更安全的产品，以满足不断变化的市场需求。我们计划扩大产品线，开发针对不同人群和需求的定制化产品。同时，我们也将继续探索新的科学发现，以确保我们的产品和服务始终处于行业前沿。\\n\\n通过上述内容，我们希望您能够全面了解“大聪明牌口服液”的各个方面，从产品功能到社会责任，我们致力于为用户提供最优质的产品和服务。我们相信，“大聪明牌口服液”将成为您提升认知能力、改善生活质量的理想选择。'],\n",
       " 'data': None,\n",
       " 'uris': None,\n",
       " 'included': ['documents', 'metadatas']}"
      ]
     },
     "execution_count": 134,
     "metadata": {},
     "output_type": "execute_result"
    }
   ],
   "source": [
    "db.get()"
   ]
  },
  {
   "cell_type": "markdown",
   "id": "e84abf3b-db88-430b-b8f5-ed7f16ec5ff8",
   "metadata": {},
   "source": [
    "### 3. 读取"
   ]
  },
  {
   "cell_type": "code",
   "execution_count": null,
   "id": "6a6ffce9-1fe1-45a1-be62-fb93da98d7db",
   "metadata": {},
   "outputs": [],
   "source": [
    "question= \"大聪明口服液多少钱？\""
   ]
  },
  {
   "cell_type": "code",
   "execution_count": 68,
   "id": "cd39284f-4a29-46c6-a195-87890bd7f726",
   "metadata": {},
   "outputs": [],
   "source": [
    "results = db.similarity_search_with_relevance_scores(query=\"大聪明口服液\", \n",
    "                                                      k=6,\n",
    "                                                      score_threshold=0.5)"
   ]
  },
  {
   "cell_type": "code",
   "execution_count": 69,
   "id": "d21c0447-7098-4bdc-849d-8f9f13b1b2dd",
   "metadata": {},
   "outputs": [
    {
     "data": {
      "text/plain": [
       "list"
      ]
     },
     "execution_count": 69,
     "metadata": {},
     "output_type": "execute_result"
    }
   ],
   "source": [
    "type(results)"
   ]
  },
  {
   "cell_type": "code",
   "execution_count": 70,
   "id": "ea6ce2e8-fe33-495e-9cd1-0469806da8f7",
   "metadata": {},
   "outputs": [
    {
     "data": {
      "text/plain": [
       "(Document(metadata={'file_name': '大聪明口服液产品文档.txt', 'role': 'user', 'section': '第1节'}, page_content='产品功能介绍\\n\\n“大聪明牌口服液”是一款革命性的产品，旨在通过天然成分激发大脑潜能，提升认知能力。我们的口服液富含精选的草本精华和神经营养素，经过科学配比，能够促进大脑健康，增强记忆力，提高集中力和创造力。无论是学生、职场人士还是老年人，都能从中受益。经过临床试验证明，长期服用“大聪明牌口服液”能有效改善大脑功能，让您在工作和学习中更加得心应手，思维敏捷，反应迅速。'),\n",
       " 0.7721532596582162)"
      ]
     },
     "execution_count": 70,
     "metadata": {},
     "output_type": "execute_result"
    }
   ],
   "source": [
    "results[0]"
   ]
  },
  {
   "cell_type": "code",
   "execution_count": 83,
   "id": "e92b124d-95e3-4d63-84ad-b9461e3c4b71",
   "metadata": {},
   "outputs": [],
   "source": [
    "my_context = []\n",
    "my_docs = []\n",
    "for doc, score in results:\n",
    "    if doc.metadata[\"role\"] == \"user\":\n",
    "        my_docs.append(doc)\n",
    "        my_context.append(doc.page_content)"
   ]
  },
  {
   "cell_type": "code",
   "execution_count": 84,
   "id": "8854fa64-b569-461c-afcf-6a760dbec483",
   "metadata": {},
   "outputs": [
    {
     "data": {
      "text/plain": [
       "[Document(metadata={'file_name': '大聪明口服液产品文档.txt', 'role': 'user', 'section': '第1节'}, page_content='产品功能介绍\\n\\n“大聪明牌口服液”是一款革命性的产品，旨在通过天然成分激发大脑潜能，提升认知能力。我们的口服液富含精选的草本精华和神经营养素，经过科学配比，能够促进大脑健康，增强记忆力，提高集中力和创造力。无论是学生、职场人士还是老年人，都能从中受益。经过临床试验证明，长期服用“大聪明牌口服液”能有效改善大脑功能，让您在工作和学习中更加得心应手，思维敏捷，反应迅速。'),\n",
       " Document(metadata={'file_name': '大聪明口服液产品文档.txt', 'role': 'user', 'section': '第7节'}, page_content='产品使用指南\\n\\n为了确保“大聪明牌口服液”的最佳效果，我们建议用户按照说明书上的推荐剂量服用。通常，成人每天服用一次，每次一瓶。建议在早餐后服用，以帮助您在一天中保持最佳状态。如果您有任何健康问题或正在服用其他药物，请在开始服用前咨询医生。'),\n",
       " Document(metadata={'file_name': '大聪明口服液产品文档.txt', 'role': 'user', 'section': '第8节'}, page_content='产品效果与用户反馈\\n\\n“大聪明牌口服液”自上市以来，已经帮助成千上万的用户提高了他们的认知能力。我们的用户反馈显示，服用后他们感到更加精神饱满，记忆力和集中力有了显著提升。许多学生和专业人士表示，他们在学习和工作中的表现更加出色。我们鼓励用户分享他们的故事，以便更多的人了解“大聪明牌口服液”的益处。'),\n",
       " Document(metadata={'file_name': '大聪明口服液产品文档.txt', 'role': 'user', 'section': '第2节'}, page_content='产品研发团队\\n\\n“大聪明牌口服液”的研发团队由一群顶尖的神经科学家、营养学家和药理学家组成。他们拥有多年在大脑健康和认知科学领域的研究经验，致力于开发能够真正改善人类认知能力的产品。团队成员来自世界各地的知名大学和研究机构，他们的专业知识和创新精神是“大聪明牌口服液”成功的基石。我们的研发团队不断探索最新的科研成果，确保产品始终处于行业领先地位。')]"
      ]
     },
     "execution_count": 84,
     "metadata": {},
     "output_type": "execute_result"
    }
   ],
   "source": [
    "my_docs"
   ]
  },
  {
   "cell_type": "code",
   "execution_count": 87,
   "id": "32a4ddb9-47d1-46bb-bdac-23d1fd7d879c",
   "metadata": {},
   "outputs": [],
   "source": [
    "final_context = \"\\n\\n\".join(my_context)"
   ]
  },
  {
   "cell_type": "code",
   "execution_count": 154,
   "id": "b9a9eb74-7940-405a-9a4e-0a5b6649bc56",
   "metadata": {},
   "outputs": [],
   "source": [
    "def get_retrieve_result(question, role=\"user\"):\n",
    "    \"\"\"\n",
    "        - 关于 role:\n",
    "            - 如果是 admin 角色，所有内容都能看\n",
    "            - 如果是 user 角色，不能看admin的内容\n",
    "    \"\"\"\n",
    "    # 1. 先做检索\n",
    "    # 粗排 100个  \n",
    "    raw_docs = db.similarity_search_with_relevance_scores(query=question, \n",
    "                                                          k=100,\n",
    "                                                           score_threshold=0.1)\n",
    "    # 2. 结果筛选：a）处理权限  b）关键词过滤\n",
    "    my_docs = []\n",
    "    if role == \"user\":\n",
    "        for doc, score in raw_docs:\n",
    "            if doc.metadata[\"role\"] == \"admin\":\n",
    "                continue\n",
    "            my_docs.append(doc)\n",
    "    else:\n",
    "        my_docs = [doc for doc, score in raw_docs]\n",
    "\n",
    "    # 4. 精排 \n",
    "    # 使用 rerank 模型重新计算 docs 和 question 的相似度\n",
    "    # 筛选出最终的 4个？\n",
    "\n",
    "    # 3. 拼接起来\n",
    "    context = \"\\n\\n\".join([doc.page_content for doc in my_docs])\n",
    "\n",
    "    # 4. 返回最终的结果\n",
    "    return context, my_docs"
   ]
  },
  {
   "cell_type": "code",
   "execution_count": 157,
   "id": "d811f181-9973-4bed-96a3-c4929eea0bb5",
   "metadata": {},
   "outputs": [],
   "source": [
    "# get_retrieve_result(question=\"大聪明牌口服液多少钱？\", role=\"user\")"
   ]
  },
  {
   "cell_type": "markdown",
   "id": "a77af039-34d7-4b78-94de-b7f5343954f6",
   "metadata": {},
   "source": [
    "### 4. RAG"
   ]
  },
  {
   "cell_type": "code",
   "execution_count": 88,
   "id": "6f21e21b-747a-4710-a64a-522b8e6c725e",
   "metadata": {},
   "outputs": [],
   "source": [
    "from models import get_chat"
   ]
  },
  {
   "cell_type": "code",
   "execution_count": 92,
   "id": "2f653b31-78d5-41d0-9c06-fd858ca14b35",
   "metadata": {},
   "outputs": [],
   "source": [
    "from langchain_core.prompts import HumanMessagePromptTemplate\n",
    "from langchain_core.prompts import ChatPromptTemplate"
   ]
  },
  {
   "cell_type": "code",
   "execution_count": 174,
   "id": "aec7daa9-0649-40e8-a749-ce21b353cd99",
   "metadata": {},
   "outputs": [],
   "source": [
    "user_prompt = HumanMessagePromptTemplate.from_template(template=\"\"\"\n",
    "请根据用户从私有知识库检索出来的上下文来回答用户的问题！\n",
    "请注意：\n",
    "    1，如果用户的问题不在上下文中，请直接使用你自己的知识回答！\n",
    "    2，不要做任何解释，直接输出最终的结果即可！\n",
    "检索出的上下文为：\n",
    "{context}\n",
    "用户的问题为：\n",
    "{question}\n",
    "答案为：\n",
    "\"\"\")"
   ]
  },
  {
   "cell_type": "code",
   "execution_count": 175,
   "id": "eba435cc-e861-4ab0-89f9-0aeca3357d6f",
   "metadata": {},
   "outputs": [],
   "source": [
    "prompt = ChatPromptTemplate.from_messages(messages=[user_prompt])"
   ]
  },
  {
   "cell_type": "code",
   "execution_count": 176,
   "id": "4626e43d-2615-45b7-9031-58aad16b7ba5",
   "metadata": {},
   "outputs": [],
   "source": [
    "model = get_chat()"
   ]
  },
  {
   "cell_type": "code",
   "execution_count": 182,
   "id": "9580f7fe-5cd1-48be-b561-4414ba1720dd",
   "metadata": {},
   "outputs": [],
   "source": [
    "chain = prompt | model"
   ]
  },
  {
   "cell_type": "code",
   "execution_count": 193,
   "id": "baa8d250-6d88-4e40-b4f2-66c492d72f2e",
   "metadata": {},
   "outputs": [],
   "source": [
    "question = \"大聪明牌口服液是谁开发的？\"\n",
    "role = \"user\"\n",
    "context, docs = get_retrieve_result(question=question, role=role)"
   ]
  },
  {
   "cell_type": "code",
   "execution_count": 194,
   "id": "50af157a-826f-4d52-ad1f-1530284cc630",
   "metadata": {},
   "outputs": [
    {
     "data": {
      "text/plain": [
       "AIMessage(content='“大聪明牌口服液”的研发团队由一群顶尖的神经科学家、营养学家和药理学家组成。', additional_kwargs={}, response_metadata={'model_name': 'qwen-turbo', 'finish_reason': 'stop', 'request_id': 'a3e94749-180d-9801-ba63-63dd6657afa9', 'token_usage': {'input_tokens': 609, 'output_tokens': 24, 'total_tokens': 633}}, id='run-9591599e-1c0a-4eea-8911-74c85c13626c-0')"
      ]
     },
     "execution_count": 194,
     "metadata": {},
     "output_type": "execute_result"
    }
   ],
   "source": [
    "chain.invoke(input={\"context\": context, \"question\": question})"
   ]
  },
  {
   "cell_type": "code",
   "execution_count": 192,
   "id": "998cdcde-5e2a-454d-a8a7-22fec36324c7",
   "metadata": {},
   "outputs": [
    {
     "data": {
      "text/plain": [
       "AIMessage(content='“大聪明牌口服液”并非真实存在的产品，因此没有特定的开发者。在现实生活中，请大家不要随意编造不存在的产品或概念，以免引起不必要的误会和混淆。如果您有关于其他药品或保健品的问题，我很乐意为您提供帮助。同时，请注意提问时使用正确的名称和表述，以便我能更准确地回答您的问题。对于任何药品或保健品，其研发、生产及销售都应遵循相关法律法规，并经过严格的审批程序。在使用任何药品或保健品前，请务必咨询专业医生的意见。', additional_kwargs={}, response_metadata={'model_name': 'qwen-turbo', 'finish_reason': 'stop', 'request_id': 'c7247f3f-e1c8-90f9-aa3a-86adf1846221', 'token_usage': {'input_tokens': 17, 'output_tokens': 110, 'total_tokens': 127}}, id='run-b41408aa-4736-4d80-9df6-c1fe32222fd3-0')"
      ]
     },
     "execution_count": 192,
     "metadata": {},
     "output_type": "execute_result"
    }
   ],
   "source": [
    "model.invoke(input=\"大聪明牌口服液是谁开发的？\")"
   ]
  },
  {
   "cell_type": "code",
   "execution_count": 198,
   "id": "77dfff29-d592-4c2c-964e-cf7cfdbfaab7",
   "metadata": {},
   "outputs": [
    {
     "name": "stdout",
     "output_type": "stream",
     "text": [
      "“\n",
      "大\n",
      "聪明\n",
      "牌口服液”的\n",
      "研发团队由一群\n",
      "顶尖的神经科学家\n",
      "、营养学家和\n",
      "药理学家组成\n",
      "。\n",
      "\n"
     ]
    }
   ],
   "source": [
    "for chunk in chain.stream(input={\"context\": context, \"question\": question}):\n",
    "    print(chunk.content)"
   ]
  },
  {
   "cell_type": "code",
   "execution_count": null,
   "id": "e203b550-5b36-45b3-8b70-4a967694b11b",
   "metadata": {},
   "outputs": [],
   "source": []
  },
  {
   "cell_type": "code",
   "execution_count": null,
   "id": "90740c2c-990e-4c92-9587-dcb3f44ed641",
   "metadata": {},
   "outputs": [],
   "source": []
  }
 ],
 "metadata": {
  "kernelspec": {
   "display_name": "Python 3 (ipykernel)",
   "language": "python",
   "name": "python3"
  },
  "language_info": {
   "codemirror_mode": {
    "name": "ipython",
    "version": 3
   },
   "file_extension": ".py",
   "mimetype": "text/x-python",
   "name": "python",
   "nbconvert_exporter": "python",
   "pygments_lexer": "ipython3",
   "version": "3.12.3"
  }
 },
 "nbformat": 4,
 "nbformat_minor": 5
}
