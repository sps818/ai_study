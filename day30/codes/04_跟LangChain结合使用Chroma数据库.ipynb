{
 "cells": [
  {
   "cell_type": "code",
   "execution_count": 1,
   "id": "11d5a43d-a6fc-4c5c-98f8-e20f3c328da7",
   "metadata": {},
   "outputs": [],
   "source": [
    "from models import get_embed\n",
    "from models import get_chat"
   ]
  },
  {
   "cell_type": "code",
   "execution_count": 2,
   "id": "9545bdc1-b3d9-447d-8354-7d1f5c644e82",
   "metadata": {},
   "outputs": [],
   "source": [
    "embed = get_embed()"
   ]
  },
  {
   "cell_type": "code",
   "execution_count": 3,
   "id": "529d50da-f77a-41ab-8b97-451ba1ac9991",
   "metadata": {},
   "outputs": [],
   "source": [
    "model = get_chat()"
   ]
  },
  {
   "cell_type": "code",
   "execution_count": 4,
   "id": "88cf0237-3590-4da4-9b43-2412d39aefc3",
   "metadata": {},
   "outputs": [
    {
     "data": {
      "text/plain": [
       "AIMessage(content='你好！有什么我能帮助你的吗？', additional_kwargs={}, response_metadata={'model_name': 'qwen-turbo', 'finish_reason': 'stop', 'request_id': '7111bf5e-1aa8-9e32-b802-0e908284c1a1', 'token_usage': {'input_tokens': 9, 'output_tokens': 8, 'total_tokens': 17}}, id='run-afea4f75-54c4-4dd9-bf46-013200553ba3-0')"
      ]
     },
     "execution_count": 4,
     "metadata": {},
     "output_type": "execute_result"
    }
   ],
   "source": [
    "model.invoke(input=\"你好\")"
   ]
  },
  {
   "cell_type": "code",
   "execution_count": 5,
   "id": "5c5fe94e-fa24-445a-a1d8-f3146884de18",
   "metadata": {},
   "outputs": [
    {
     "name": "stderr",
     "output_type": "stream",
     "text": [
      "D:\\software\\anaconda3\\Lib\\site-packages\\onnxruntime\\capi\\onnxruntime_validation.py:26: UserWarning: Unsupported Windows version (11). ONNX Runtime supports Windows 10 and above, only.\n",
      "  warnings.warn(\n"
     ]
    }
   ],
   "source": [
    "from langchain_chroma import Chroma\n",
    "from chromadb import HttpClient"
   ]
  },
  {
   "cell_type": "code",
   "execution_count": 6,
   "id": "e753f3f7-6e77-43a8-8b59-a2157c54fd9b",
   "metadata": {},
   "outputs": [],
   "source": [
    "# 配置连接服务器的信息\n",
    "client = HttpClient(host=\"localhost\", port=8000)"
   ]
  },
  {
   "cell_type": "code",
   "execution_count": 7,
   "id": "774fcda5-57da-4ffa-b589-4b57533e8c68",
   "metadata": {},
   "outputs": [],
   "source": [
    "db = Chroma(client=client, embedding_function=embed)"
   ]
  },
  {
   "cell_type": "code",
   "execution_count": 8,
   "id": "3a1bb1d5-f775-4ee6-b609-04b216e7e0c8",
   "metadata": {},
   "outputs": [],
   "source": [
    "# db.search(query=\"今天心情好吗？\", search_type=\"similarity_score_threshold\")"
   ]
  },
  {
   "cell_type": "code",
   "execution_count": 9,
   "id": "9c18f7ec-ae11-4b08-803b-1fcf6837d744",
   "metadata": {},
   "outputs": [],
   "source": [
    "retriever = db.as_retriever(search_type=\"similarity_score_threshold\",\n",
    "                           search_kwargs={\"score_threshold\": 0.5, \"k\": 2})"
   ]
  },
  {
   "cell_type": "code",
   "execution_count": 10,
   "id": "3010569f-f011-4de2-b6a8-aaec10af48ac",
   "metadata": {},
   "outputs": [
    {
     "name": "stderr",
     "output_type": "stream",
     "text": [
      "No relevant docs were retrieved using the relevance score threshold 0.5\n"
     ]
    },
    {
     "data": {
      "text/plain": [
       "[]"
      ]
     },
     "execution_count": 10,
     "metadata": {},
     "output_type": "execute_result"
    }
   ],
   "source": [
    "retriever.invoke(input=\"外面天气怎么样？\")"
   ]
  },
  {
   "cell_type": "code",
   "execution_count": 11,
   "id": "5385d281-942e-48e6-b289-0284213f31b3",
   "metadata": {},
   "outputs": [
    {
     "data": {
      "text/plain": [
       "[]"
      ]
     },
     "execution_count": 11,
     "metadata": {},
     "output_type": "execute_result"
    }
   ],
   "source": [
    "db.similarity_search_with_relevance_scores(query=\"你好\")"
   ]
  },
  {
   "cell_type": "code",
   "execution_count": 12,
   "id": "2b7b6f84-c2ac-4e0b-952f-c63401df8426",
   "metadata": {},
   "outputs": [
    {
     "data": {
      "text/plain": [
       "{'ids': [],\n",
       " 'embeddings': None,\n",
       " 'metadatas': [],\n",
       " 'documents': [],\n",
       " 'data': None,\n",
       " 'uris': None,\n",
       " 'included': ['documents', 'metadatas']}"
      ]
     },
     "execution_count": 12,
     "metadata": {},
     "output_type": "execute_result"
    }
   ],
   "source": [
    "db.get()"
   ]
  },
  {
   "cell_type": "code",
   "execution_count": 13,
   "id": "426c2414-3ba7-437e-96b5-ccc414ed3a41",
   "metadata": {},
   "outputs": [],
   "source": [
    "db.delete(ids=['cdb5ab2f-e4ee-40e7-81a1-a082579ab6f1',\n",
    "  '6c97e056-9644-4b9a-ac58-74c044f8c0c5'])"
   ]
  },
  {
   "cell_type": "code",
   "execution_count": 14,
   "id": "33418afe-bcab-4079-805d-2e23af42e3ea",
   "metadata": {},
   "outputs": [
    {
     "data": {
      "text/plain": [
       "{'ids': [],\n",
       " 'embeddings': None,\n",
       " 'metadatas': [],\n",
       " 'documents': [],\n",
       " 'data': None,\n",
       " 'uris': None,\n",
       " 'included': ['documents', 'metadatas']}"
      ]
     },
     "execution_count": 14,
     "metadata": {},
     "output_type": "execute_result"
    }
   ],
   "source": [
    "db.get()"
   ]
  },
  {
   "cell_type": "code",
   "execution_count": 15,
   "id": "058ebaa6-8ae3-4f52-ac36-29b7c4cbaf65",
   "metadata": {},
   "outputs": [
    {
     "data": {
      "text/plain": [
       "{'ids': [],\n",
       " 'embeddings': None,\n",
       " 'metadatas': [],\n",
       " 'documents': [],\n",
       " 'data': None,\n",
       " 'uris': None,\n",
       " 'included': ['documents', 'metadatas']}"
      ]
     },
     "execution_count": 15,
     "metadata": {},
     "output_type": "execute_result"
    }
   ],
   "source": [
    "db.get()"
   ]
  },
  {
   "cell_type": "code",
   "execution_count": null,
   "id": "41e8a1d0-2065-4af1-8ef8-9b8c23a39df7",
   "metadata": {},
   "outputs": [],
   "source": []
  }
 ],
 "metadata": {
  "kernelspec": {
   "display_name": "Python 3 (ipykernel)",
   "language": "python",
   "name": "python3"
  },
  "language_info": {
   "codemirror_mode": {
    "name": "ipython",
    "version": 3
   },
   "file_extension": ".py",
   "mimetype": "text/x-python",
   "name": "python",
   "nbconvert_exporter": "python",
   "pygments_lexer": "ipython3",
   "version": "3.12.3"
  }
 },
 "nbformat": 4,
 "nbformat_minor": 5
}
