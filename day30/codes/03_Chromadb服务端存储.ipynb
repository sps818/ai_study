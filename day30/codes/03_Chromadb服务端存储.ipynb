{
 "cells": [
  {
   "cell_type": "code",
   "execution_count": 12,
   "id": "6057a425-5fa3-491c-8b32-99de7eed9cd8",
   "metadata": {},
   "outputs": [],
   "source": [
    "import uuid\n",
    "def get_uuid():\n",
    "    return str(uuid.uuid4())"
   ]
  },
  {
   "cell_type": "code",
   "execution_count": 1,
   "id": "e2e1831a-30df-410b-af8f-81717aec6796",
   "metadata": {},
   "outputs": [],
   "source": [
    "from models import get_embed"
   ]
  },
  {
   "cell_type": "code",
   "execution_count": 2,
   "id": "cf96f16e-a5f5-4987-af01-6facc38c69f9",
   "metadata": {},
   "outputs": [],
   "source": [
    "embed = get_embed()"
   ]
  },
  {
   "cell_type": "code",
   "execution_count": 3,
   "id": "eee06a63-6982-4708-b6a8-493ff5290319",
   "metadata": {},
   "outputs": [
    {
     "name": "stderr",
     "output_type": "stream",
     "text": [
      "D:\\software\\anaconda3\\Lib\\site-packages\\onnxruntime\\capi\\onnxruntime_validation.py:26: UserWarning: Unsupported Windows version (11). ONNX Runtime supports Windows 10 and above, only.\n",
      "  warnings.warn(\n"
     ]
    }
   ],
   "source": [
    "from chromadb import HttpClient"
   ]
  },
  {
   "cell_type": "code",
   "execution_count": 4,
   "id": "d21bdb0b-0936-403b-a321-0f1400aae0d5",
   "metadata": {},
   "outputs": [],
   "source": [
    "chroma_client = HttpClient(host='localhost', port=8000)"
   ]
  },
  {
   "cell_type": "code",
   "execution_count": 5,
   "id": "f0b40398-63e3-4844-8f2c-a1a7233f40af",
   "metadata": {},
   "outputs": [],
   "source": [
    "collection = chroma_client.get_or_create_collection(name=\"langchain\")"
   ]
  },
  {
   "cell_type": "code",
   "execution_count": 6,
   "id": "9c612176-de32-4481-b1d8-a092371838a9",
   "metadata": {},
   "outputs": [],
   "source": [
    "# 插入：\n",
    "documents = [\"今天很高兴\", \"外面下雨了\"]"
   ]
  },
  {
   "cell_type": "code",
   "execution_count": 10,
   "id": "631f6877-5d67-4980-93dd-0d5db8663e91",
   "metadata": {},
   "outputs": [],
   "source": [
    "embeddings = [embed.embed_query(sentence) for sentence in documents]"
   ]
  },
  {
   "cell_type": "code",
   "execution_count": 13,
   "id": "8e93585a-789d-43f8-93bc-da35f408a2ce",
   "metadata": {},
   "outputs": [],
   "source": [
    "ids = [get_uuid() for _ in range(len(documents))]"
   ]
  },
  {
   "cell_type": "code",
   "execution_count": 15,
   "id": "c6500896-874c-4eb6-ba2b-773e9b43a5e0",
   "metadata": {},
   "outputs": [],
   "source": [
    "collection.add(ids=ids, documents=documents, embeddings=embeddings)"
   ]
  },
  {
   "cell_type": "code",
   "execution_count": 18,
   "id": "abc9664e-cf84-4a78-a1c5-f2f7f95d6b7e",
   "metadata": {},
   "outputs": [],
   "source": [
    "results = collection.get(include=[\"documents\", \"embeddings\"])"
   ]
  },
  {
   "cell_type": "code",
   "execution_count": 19,
   "id": "944cd67f-3fbc-4b95-8b47-37f2be46b1f9",
   "metadata": {},
   "outputs": [
    {
     "data": {
      "text/plain": [
       "dict"
      ]
     },
     "execution_count": 19,
     "metadata": {},
     "output_type": "execute_result"
    }
   ],
   "source": [
    "type(results)"
   ]
  },
  {
   "cell_type": "code",
   "execution_count": 20,
   "id": "7fb4d6ca-16f7-474e-85f6-6acb6b282a46",
   "metadata": {},
   "outputs": [
    {
     "data": {
      "text/plain": [
       "dict_keys(['ids', 'embeddings', 'metadatas', 'documents', 'data', 'uris', 'included'])"
      ]
     },
     "execution_count": 20,
     "metadata": {},
     "output_type": "execute_result"
    }
   ],
   "source": [
    "results.keys()"
   ]
  },
  {
   "cell_type": "code",
   "execution_count": 24,
   "id": "6a76e442-7280-4e6c-bd95-5fe58fb44170",
   "metadata": {},
   "outputs": [],
   "source": [
    "v1, v2 = results[\"embeddings\"]"
   ]
  },
  {
   "cell_type": "code",
   "execution_count": 25,
   "id": "555dad77-8aee-4f26-aacc-4761cc5b5b98",
   "metadata": {},
   "outputs": [
    {
     "data": {
      "text/plain": [
       "array([-0.02312675,  0.03950341, -0.05403913, ..., -0.00152572,\n",
       "       -0.05192972, -0.03796929])"
      ]
     },
     "execution_count": 25,
     "metadata": {},
     "output_type": "execute_result"
    }
   ],
   "source": [
    "v1"
   ]
  },
  {
   "cell_type": "code",
   "execution_count": 27,
   "id": "b9851753-ee78-4039-82df-76f2f4be347f",
   "metadata": {
    "scrolled": true
   },
   "outputs": [],
   "source": [
    "import numpy as np"
   ]
  },
  {
   "cell_type": "code",
   "execution_count": 28,
   "id": "2e099998-6a75-489b-8ff4-80265c4e63fc",
   "metadata": {},
   "outputs": [],
   "source": [
    "v = np.array(embed.embed_query(text=\"今天很高兴\"))"
   ]
  },
  {
   "cell_type": "code",
   "execution_count": 29,
   "id": "3440c3f9-7251-4b52-8b68-8fc043db56ec",
   "metadata": {},
   "outputs": [
    {
     "data": {
      "text/plain": [
       "array([-0.02312675,  0.03950341, -0.05403913, ..., -0.00152572,\n",
       "       -0.05192972, -0.03796929])"
      ]
     },
     "execution_count": 29,
     "metadata": {},
     "output_type": "execute_result"
    }
   ],
   "source": [
    "v"
   ]
  },
  {
   "cell_type": "code",
   "execution_count": 30,
   "id": "12d3fab9-ecc9-4c15-9042-a4e43e15f87f",
   "metadata": {},
   "outputs": [
    {
     "data": {
      "text/plain": [
       "array([-0.02312675,  0.03950341, -0.05403913, ..., -0.00152572,\n",
       "       -0.05192972, -0.03796929])"
      ]
     },
     "execution_count": 30,
     "metadata": {},
     "output_type": "execute_result"
    }
   ],
   "source": [
    "v1"
   ]
  },
  {
   "cell_type": "code",
   "execution_count": 31,
   "id": "8dc2ec02-5846-4dea-adad-3cc5c7f484f8",
   "metadata": {},
   "outputs": [
    {
     "data": {
      "text/plain": [
       "True"
      ]
     },
     "execution_count": 31,
     "metadata": {},
     "output_type": "execute_result"
    }
   ],
   "source": [
    "np.allclose(v, v1)"
   ]
  },
  {
   "cell_type": "code",
   "execution_count": 32,
   "id": "c28dd788-efc8-434c-a9f3-1b702c4f364a",
   "metadata": {},
   "outputs": [],
   "source": [
    "# 语义检索\n",
    "text = \"外面天气怎么样？\""
   ]
  },
  {
   "cell_type": "code",
   "execution_count": 34,
   "id": "1973da2c-c2d8-435b-8ebb-8e9e0839cba7",
   "metadata": {},
   "outputs": [],
   "source": [
    "embedding = embed.embed_query(text=text)"
   ]
  },
  {
   "cell_type": "code",
   "execution_count": 40,
   "id": "897a24c8-42b1-4b47-a8cf-69c14a9d8f93",
   "metadata": {
    "scrolled": true
   },
   "outputs": [
    {
     "data": {
      "text/plain": [
       "{'ids': [['6c97e056-9644-4b9a-ac58-74c044f8c0c5']],\n",
       " 'distances': [[0.49125819017337796]],\n",
       " 'embeddings': None,\n",
       " 'metadatas': [[None]],\n",
       " 'documents': [['外面下雨了']],\n",
       " 'uris': None,\n",
       " 'data': None,\n",
       " 'included': ['distances', 'documents', 'metadatas']}"
      ]
     },
     "execution_count": 40,
     "metadata": {},
     "output_type": "execute_result"
    }
   ],
   "source": [
    "collection.query(query_embeddings=embedding, n_results=1)"
   ]
  },
  {
   "cell_type": "code",
   "execution_count": null,
   "id": "45b2d85f-60c5-4292-bdac-ea8c794db41c",
   "metadata": {},
   "outputs": [],
   "source": []
  }
 ],
 "metadata": {
  "kernelspec": {
   "display_name": "Python 3 (ipykernel)",
   "language": "python",
   "name": "python3"
  },
  "language_info": {
   "codemirror_mode": {
    "name": "ipython",
    "version": 3
   },
   "file_extension": ".py",
   "mimetype": "text/x-python",
   "name": "python",
   "nbconvert_exporter": "python",
   "pygments_lexer": "ipython3",
   "version": "3.12.3"
  }
 },
 "nbformat": 4,
 "nbformat_minor": 5
}
