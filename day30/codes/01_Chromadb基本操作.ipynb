{
 "cells": [
  {
   "cell_type": "code",
   "execution_count": 1,
   "id": "ff1a6aed-0710-4d5b-991b-a6e98568c6f1",
   "metadata": {},
   "outputs": [],
   "source": [
    "from chromadb import Client"
   ]
  },
  {
   "cell_type": "code",
   "execution_count": 2,
   "id": "50794fa0-be41-4120-9950-5d4478190f1f",
   "metadata": {},
   "outputs": [],
   "source": [
    "chroma_client = Client()"
   ]
  },
  {
   "cell_type": "code",
   "execution_count": 3,
   "id": "9b142e3f-5bb9-4fc7-8677-6fbaab57a178",
   "metadata": {},
   "outputs": [
    {
     "data": {
      "text/plain": [
       "<chromadb.api.client.Client at 0x157e0e24050>"
      ]
     },
     "execution_count": 3,
     "metadata": {},
     "output_type": "execute_result"
    }
   ],
   "source": [
    "chroma_client"
   ]
  },
  {
   "cell_type": "code",
   "execution_count": 7,
   "id": "a1b7a9cf-0eb6-4487-afb5-4ef88c9bb24d",
   "metadata": {},
   "outputs": [],
   "source": [
    "collection = chroma_client.create_collection(name=\"my_collection\", get_or_create=True)"
   ]
  },
  {
   "cell_type": "code",
   "execution_count": 8,
   "id": "a20822d3-f680-4e3b-b3ae-06f6f4aa7e90",
   "metadata": {},
   "outputs": [
    {
     "data": {
      "text/plain": [
       "'default_database'"
      ]
     },
     "execution_count": 8,
     "metadata": {},
     "output_type": "execute_result"
    }
   ],
   "source": [
    "collection.add()"
   ]
  },
  {
   "cell_type": "code",
   "execution_count": 13,
   "id": "794a27f2-0fc2-42b2-a99d-cada7148eefb",
   "metadata": {},
   "outputs": [],
   "source": []
  },
  {
   "cell_type": "code",
   "execution_count": 17,
   "id": "34fe0b6b-bba8-4e36-a2ae-4dce56b6755a",
   "metadata": {},
   "outputs": [],
   "source": [
    "import uuid\n",
    "def get_uuid():\n",
    "    return str(uuid.uuid4())"
   ]
  },
  {
   "cell_type": "code",
   "execution_count": 40,
   "id": "0ce4110a-d3c0-453b-b9c6-7b54b72be014",
   "metadata": {},
   "outputs": [
    {
     "data": {
      "text/plain": [
       "'f1d90b59-e7c7-4aef-9d91-5e0ca23c8f4e'"
      ]
     },
     "execution_count": 40,
     "metadata": {},
     "output_type": "execute_result"
    }
   ],
   "source": [
    "get_uuid()"
   ]
  },
  {
   "cell_type": "code",
   "execution_count": 41,
   "id": "01d4705f-9d48-4123-9234-1e3b5b704b94",
   "metadata": {},
   "outputs": [],
   "source": [
    "ids=[get_uuid() for _ in range(2)]"
   ]
  },
  {
   "cell_type": "code",
   "execution_count": 42,
   "id": "afde5b75-2dbd-4a92-a5d3-0be38d316239",
   "metadata": {},
   "outputs": [
    {
     "data": {
      "text/plain": [
       "['d687b743-b678-4124-8fef-15b5fd11c01e',\n",
       " 'dc2ab8d3-d7a5-4436-ac33-d1d9dce5d324']"
      ]
     },
     "execution_count": 42,
     "metadata": {},
     "output_type": "execute_result"
    }
   ],
   "source": [
    "ids"
   ]
  },
  {
   "cell_type": "code",
   "execution_count": 43,
   "id": "58030da9-e77e-4d4b-bd9c-377e506c83fb",
   "metadata": {},
   "outputs": [],
   "source": [
    "documents = [\"我今天去上学\", \"天气很好\"]"
   ]
  },
  {
   "cell_type": "code",
   "execution_count": 44,
   "id": "1c3e9df1-f078-4d08-acf0-97744b014568",
   "metadata": {},
   "outputs": [
    {
     "data": {
      "text/plain": [
       "['我今天去上学', '天气很好']"
      ]
     },
     "execution_count": 44,
     "metadata": {},
     "output_type": "execute_result"
    }
   ],
   "source": [
    "documents"
   ]
  },
  {
   "cell_type": "code",
   "execution_count": 45,
   "id": "4e5cd0e9-6a00-4d70-ab60-89e6027ee0e0",
   "metadata": {},
   "outputs": [
    {
     "name": "stderr",
     "output_type": "stream",
     "text": [
      "C:\\Users\\86138\\.cache\\chroma\\onnx_models\\all-MiniLM-L6-v2\\onnx.tar.gz: 100%|█| 79.3M/79.3M [00:26<00:00, 3.1\n"
     ]
    }
   ],
   "source": [
    "collection.add(ids=ids, documents=documents)"
   ]
  },
  {
   "cell_type": "code",
   "execution_count": 46,
   "id": "12ba2e5c-440e-484a-b3c7-8d117627be44",
   "metadata": {},
   "outputs": [
    {
     "data": {
      "text/plain": [
       "2"
      ]
     },
     "execution_count": 46,
     "metadata": {},
     "output_type": "execute_result"
    }
   ],
   "source": [
    "collection.count()"
   ]
  },
  {
   "cell_type": "code",
   "execution_count": 51,
   "id": "1d96729d-bc13-4dcb-b711-53b5e97244bb",
   "metadata": {},
   "outputs": [],
   "source": [
    "results = collection.get(include=[\"documents\", \"embeddings\"])"
   ]
  },
  {
   "cell_type": "code",
   "execution_count": 53,
   "id": "8062137b-2e85-4c0b-b0f6-4f99ed4141c3",
   "metadata": {
    "scrolled": true
   },
   "outputs": [
    {
     "data": {
      "text/plain": [
       "dict"
      ]
     },
     "execution_count": 53,
     "metadata": {},
     "output_type": "execute_result"
    }
   ],
   "source": [
    "type(results)"
   ]
  },
  {
   "cell_type": "code",
   "execution_count": 54,
   "id": "2d2163be-6061-486c-9070-f4043aaa1fb4",
   "metadata": {},
   "outputs": [
    {
     "data": {
      "text/plain": [
       "dict_keys(['ids', 'embeddings', 'documents', 'uris', 'data', 'metadatas', 'included'])"
      ]
     },
     "execution_count": 54,
     "metadata": {},
     "output_type": "execute_result"
    }
   ],
   "source": [
    "results.keys()"
   ]
  },
  {
   "cell_type": "code",
   "execution_count": 55,
   "id": "75b2d9a2-3b86-4f43-a24f-e8c9c21a548e",
   "metadata": {},
   "outputs": [
    {
     "data": {
      "text/plain": [
       "['d687b743-b678-4124-8fef-15b5fd11c01e',\n",
       " 'dc2ab8d3-d7a5-4436-ac33-d1d9dce5d324']"
      ]
     },
     "execution_count": 55,
     "metadata": {},
     "output_type": "execute_result"
    }
   ],
   "source": [
    "results[\"ids\"]"
   ]
  },
  {
   "cell_type": "code",
   "execution_count": 57,
   "id": "a6db971c-5968-4d69-9ca7-09f84f482d5f",
   "metadata": {
    "scrolled": true
   },
   "outputs": [
    {
     "data": {
      "text/plain": [
       "(2, 384)"
      ]
     },
     "execution_count": 57,
     "metadata": {},
     "output_type": "execute_result"
    }
   ],
   "source": [
    "results[\"embeddings\"].shape"
   ]
  },
  {
   "cell_type": "code",
   "execution_count": 60,
   "id": "d07c2962-d5f6-483e-a733-e71e7f2eef9e",
   "metadata": {},
   "outputs": [],
   "source": [
    "v1 = results[\"embeddings\"][0]\n",
    "v2 = results[\"embeddings\"][1]"
   ]
  },
  {
   "cell_type": "code",
   "execution_count": 65,
   "id": "9fed2c12-5807-4bdb-9203-077d2e26d730",
   "metadata": {},
   "outputs": [
    {
     "data": {
      "text/plain": [
       "['我今天去上学', '天气很好']"
      ]
     },
     "execution_count": 65,
     "metadata": {},
     "output_type": "execute_result"
    }
   ],
   "source": [
    "results[\"documents\"]"
   ]
  },
  {
   "cell_type": "code",
   "execution_count": 66,
   "id": "a30c95f3-cea5-4fa5-92bf-a5250359c052",
   "metadata": {},
   "outputs": [
    {
     "data": {
      "text/plain": [
       "{'ids': ['d687b743-b678-4124-8fef-15b5fd11c01e'],\n",
       " 'embeddings': None,\n",
       " 'documents': ['我今天去上学'],\n",
       " 'uris': None,\n",
       " 'data': None,\n",
       " 'metadatas': [None],\n",
       " 'included': [<IncludeEnum.documents: 'documents'>,\n",
       "  <IncludeEnum.metadatas: 'metadatas'>]}"
      ]
     },
     "execution_count": 66,
     "metadata": {},
     "output_type": "execute_result"
    }
   ],
   "source": [
    "collection.get(ids=results[\"ids\"][0])"
   ]
  },
  {
   "cell_type": "code",
   "execution_count": 67,
   "id": "67f54383-9434-4c87-88a2-24154955d00d",
   "metadata": {},
   "outputs": [],
   "source": [
    "collection.add(ids=get_uuid(), documents=\"外面下雨了\")"
   ]
  },
  {
   "cell_type": "code",
   "execution_count": 70,
   "id": "7d978eb8-ef51-46b5-99a8-aebc9708f302",
   "metadata": {},
   "outputs": [],
   "source": [
    "results = collection.get(include=[\"embeddings\", \"documents\"])"
   ]
  },
  {
   "cell_type": "code",
   "execution_count": 71,
   "id": "c33c6aff-9aa1-41ce-8f82-833d3bcf7116",
   "metadata": {},
   "outputs": [
    {
     "data": {
      "text/plain": [
       "['我今天去上学', '天气很好', '外面下雨了']"
      ]
     },
     "execution_count": 71,
     "metadata": {},
     "output_type": "execute_result"
    }
   ],
   "source": [
    "results[\"documents\"]"
   ]
  },
  {
   "cell_type": "code",
   "execution_count": 74,
   "id": "f31728cf-9aab-4a11-a7e2-60f043a0d012",
   "metadata": {},
   "outputs": [],
   "source": [
    "v1, v2, v3 = results[\"embeddings\"]"
   ]
  },
  {
   "cell_type": "code",
   "execution_count": 78,
   "id": "34040b7b-5691-4fac-96ec-4cef1a7f3423",
   "metadata": {},
   "outputs": [
    {
     "data": {
      "text/plain": [
       "0.6613473318286336"
      ]
     },
     "execution_count": 78,
     "metadata": {},
     "output_type": "execute_result"
    }
   ],
   "source": [
    "((v1 - v2) ** 2).sum()"
   ]
  },
  {
   "cell_type": "code",
   "execution_count": 79,
   "id": "70760675-b576-4bab-afd7-a007b44c88dc",
   "metadata": {},
   "outputs": [
    {
     "data": {
      "text/plain": [
       "0.9353393333114381"
      ]
     },
     "execution_count": 79,
     "metadata": {},
     "output_type": "execute_result"
    }
   ],
   "source": [
    "((v3 - v2) ** 2).sum()"
   ]
  },
  {
   "cell_type": "code",
   "execution_count": 80,
   "id": "43703dba-66cd-4a0a-a549-4dca97203813",
   "metadata": {},
   "outputs": [
    {
     "data": {
      "text/plain": [
       "0.6693263341409699"
      ]
     },
     "execution_count": 80,
     "metadata": {},
     "output_type": "execute_result"
    }
   ],
   "source": [
    "v1 @ v2"
   ]
  },
  {
   "cell_type": "code",
   "execution_count": 81,
   "id": "fe607bbc-a553-4c1d-8af6-bfa1699a1396",
   "metadata": {},
   "outputs": [
    {
     "data": {
      "text/plain": [
       "0.5323303377357298"
      ]
     },
     "execution_count": 81,
     "metadata": {},
     "output_type": "execute_result"
    }
   ],
   "source": [
    "v3 @ v2"
   ]
  },
  {
   "cell_type": "code",
   "execution_count": 82,
   "id": "52637f80-21dd-4779-83b7-0576cdd5007c",
   "metadata": {},
   "outputs": [],
   "source": [
    "import numpy as np"
   ]
  },
  {
   "cell_type": "code",
   "execution_count": 85,
   "id": "bb111042-95a5-454d-9818-4122169355b9",
   "metadata": {},
   "outputs": [
    {
     "data": {
      "text/plain": [
       "0.6693263341039651"
      ]
     },
     "execution_count": 85,
     "metadata": {},
     "output_type": "execute_result"
    }
   ],
   "source": [
    "v1 @ v2 / np.linalg.norm(v1) / np.linalg.norm(v2)"
   ]
  },
  {
   "cell_type": "code",
   "execution_count": 86,
   "id": "df9e2f58-1cb9-4cb3-a2fb-272d9f60c75a",
   "metadata": {},
   "outputs": [
    {
     "data": {
      "text/plain": [
       "0.5323303353980283"
      ]
     },
     "execution_count": 86,
     "metadata": {},
     "output_type": "execute_result"
    }
   ],
   "source": [
    "v3 @ v2 / np.linalg.norm(v3) / np.linalg.norm(v2)"
   ]
  },
  {
   "cell_type": "code",
   "execution_count": 87,
   "id": "01731640-726e-4f3d-9cc6-d2c681b2eab5",
   "metadata": {},
   "outputs": [
    {
     "data": {
      "text/plain": [
       "1.000000000729701"
      ]
     },
     "execution_count": 87,
     "metadata": {},
     "output_type": "execute_result"
    }
   ],
   "source": [
    "np.linalg.norm(v1)"
   ]
  },
  {
   "cell_type": "code",
   "execution_count": 88,
   "id": "752de970-b425-449e-ae4c-c5aa8fad0879",
   "metadata": {},
   "outputs": [
    {
     "data": {
      "text/plain": [
       "0.9999999993255856"
      ]
     },
     "execution_count": 88,
     "metadata": {},
     "output_type": "execute_result"
    }
   ],
   "source": [
    "np.linalg.norm(v2)"
   ]
  },
  {
   "cell_type": "code",
   "execution_count": 89,
   "id": "7bb95f7f-9436-4987-96ac-34431f20574c",
   "metadata": {},
   "outputs": [],
   "source": [
    "collection.delete(ids=['d687b743-b678-4124-8fef-15b5fd11c01e'])"
   ]
  },
  {
   "cell_type": "code",
   "execution_count": 90,
   "id": "e0b62280-f9ff-4faa-bb21-4bbd2db8c8ad",
   "metadata": {},
   "outputs": [
    {
     "data": {
      "text/plain": [
       "{'ids': ['dc2ab8d3-d7a5-4436-ac33-d1d9dce5d324',\n",
       "  '8ad95c3e-57fb-498d-884e-84d52493983b'],\n",
       " 'embeddings': None,\n",
       " 'documents': ['天气很好', '外面下雨了'],\n",
       " 'uris': None,\n",
       " 'data': None,\n",
       " 'metadatas': [None, None],\n",
       " 'included': [<IncludeEnum.documents: 'documents'>,\n",
       "  <IncludeEnum.metadatas: 'metadatas'>]}"
      ]
     },
     "execution_count": 90,
     "metadata": {},
     "output_type": "execute_result"
    }
   ],
   "source": [
    "collection.get()"
   ]
  },
  {
   "cell_type": "code",
   "execution_count": 91,
   "id": "51ef93f6-35a3-43ba-986b-f7d5d410fbf8",
   "metadata": {},
   "outputs": [],
   "source": [
    "collection.update(ids=['8ad95c3e-57fb-498d-884e-84d52493983b'],\n",
    "                 documents=[\"我今天很高兴啊\"])"
   ]
  },
  {
   "cell_type": "code",
   "execution_count": 92,
   "id": "61d1762c-51a1-4780-84a3-b1f75773479d",
   "metadata": {},
   "outputs": [
    {
     "data": {
      "text/plain": [
       "{'ids': ['dc2ab8d3-d7a5-4436-ac33-d1d9dce5d324',\n",
       "  '8ad95c3e-57fb-498d-884e-84d52493983b'],\n",
       " 'embeddings': None,\n",
       " 'documents': ['天气很好', '我今天很高兴啊'],\n",
       " 'uris': None,\n",
       " 'data': None,\n",
       " 'metadatas': [None, None],\n",
       " 'included': [<IncludeEnum.documents: 'documents'>,\n",
       "  <IncludeEnum.metadatas: 'metadatas'>]}"
      ]
     },
     "execution_count": 92,
     "metadata": {},
     "output_type": "execute_result"
    }
   ],
   "source": [
    "collection.get()"
   ]
  },
  {
   "cell_type": "code",
   "execution_count": null,
   "id": "a0cdbc72-5023-4eb2-9e5f-95890f510488",
   "metadata": {},
   "outputs": [],
   "source": [
    "# update + insert\n",
    "collection.upsert()"
   ]
  }
 ],
 "metadata": {
  "kernelspec": {
   "display_name": "Python 3 (ipykernel)",
   "language": "python",
   "name": "python3"
  },
  "language_info": {
   "codemirror_mode": {
    "name": "ipython",
    "version": 3
   },
   "file_extension": ".py",
   "mimetype": "text/x-python",
   "name": "python",
   "nbconvert_exporter": "python",
   "pygments_lexer": "ipython3",
   "version": "3.12.3"
  }
 },
 "nbformat": 4,
 "nbformat_minor": 5
}
