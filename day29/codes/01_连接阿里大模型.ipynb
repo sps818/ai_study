{
 "cells": [
  {
   "cell_type": "markdown",
   "id": "db4d31d5-218f-4540-8341-2fbadbcbb854",
   "metadata": {},
   "source": [
    "### 1. 引入模型"
   ]
  },
  {
   "cell_type": "code",
   "execution_count": 1,
   "id": "1a985051-46ea-4af9-b421-e7f5cc53d487",
   "metadata": {},
   "outputs": [],
   "source": [
    "from models import get_tongyi_chat_model"
   ]
  },
  {
   "cell_type": "code",
   "execution_count": 2,
   "id": "b0f746c4-1efe-4679-8dfb-1d93c67f76d2",
   "metadata": {},
   "outputs": [],
   "source": [
    "model = get_tongyi_chat_model()"
   ]
  },
  {
   "cell_type": "code",
   "execution_count": 3,
   "id": "31ddb8e3-01c8-4209-9943-767d9b977c32",
   "metadata": {},
   "outputs": [
    {
     "data": {
      "text/plain": [
       "AIMessage(content='你好！很高兴为你提供帮助。', additional_kwargs={}, response_metadata={'model_name': 'qwen-turbo', 'finish_reason': 'stop', 'request_id': 'b97d9cd6-f2d7-9f31-b210-dc8b77cbe200', 'token_usage': {'input_tokens': 9, 'output_tokens': 7, 'total_tokens': 16}}, id='run-049c4807-7310-4b50-be44-e29a52472fcd-0')"
      ]
     },
     "execution_count": 3,
     "metadata": {},
     "output_type": "execute_result"
    }
   ],
   "source": [
    "model.invoke(input=\"你好\")"
   ]
  },
  {
   "cell_type": "markdown",
   "id": "bc3b7a91-230f-424f-bea0-2d96b6dfec73",
   "metadata": {},
   "source": [
    "### 2. 阅读理解\n",
    "- 给你一个段落，按照段落的描述来回答问题！"
   ]
  },
  {
   "cell_type": "code",
   "execution_count": 4,
   "id": "b87ae477-23f7-45e5-8ec2-7cecf22c3074",
   "metadata": {},
   "outputs": [],
   "source": [
    "from langchain_core.messages import SystemMessage\n",
    "from langchain_core.messages import HumanMessage"
   ]
  },
  {
   "cell_type": "code",
   "execution_count": 5,
   "id": "dff6ea56-82f8-415d-84f3-ab819dbcb95d",
   "metadata": {},
   "outputs": [],
   "source": [
    "sys_msg = SystemMessage(content=\"\"\"\n",
    "你是一个阅读理解机器人！\n",
    "请认真阅读用户提供的文章，并根据文章的内容来回答用户的问题！、\n",
    "请注意：如果问题没有在文章中出现，请直接使用你自己的知识来回答！\n",
    "\"\"\")"
   ]
  },
  {
   "cell_type": "code",
   "execution_count": 6,
   "id": "1972b6ff-b1b7-42b5-a5b9-4caa7127de25",
   "metadata": {},
   "outputs": [],
   "source": [
    "user_msg = HumanMessage(content=\"\"\"\n",
    "文章为：\n",
    "\n",
    "孙中山（1866年11月12日-1925年3月12日），名文，字载之，号日新，又号逸仙，又名帝象，化名中山樵，伟大的民族英雄、伟大的爱国主义者、中国民主革命的伟大先驱 [1]，中华民国和中国国民党的缔造者，三民主义的倡导者，创立了《五权宪法》。他首举彻底反帝反封建的旗帜，“起共和而终两千年封建帝制”。 [2]\n",
    "孙中山1866年11月12日生于广东省广州府香山县（今中山市）翠亨村。孙中山原在香港学医，并成为西医医师。孙中山目睹中华民族有被西方列强瓜分的危险，决定抛弃“医人生涯”，进行“医国事业”。孙中山早期受郑观应的改良思想影响，后看清了清政府的腐败，决心推翻清王朝，建立民主共和国。 [3-4] [44]\n",
    "1894年11月24日，孙中山在檀香山创立兴中会 [4]。1905年（光绪三十一年）成立中国同盟会。1911年10月10日（宣统三年）新军中的革命党人暗中联络，决定当天晚上起义。辛亥革命后被推举为中华民国临时大总统（任期1912年1月1日——1912年4月1日）。1925年3月12日，孙中山因癌症在北京逝世。1929年6月1日，根据其生前遗愿，葬于南京紫金山中山陵。1940年，国民政府通令全国，尊称其为“中华民国国父”。\n",
    "孙中山著有《建国方略》、《建国大纲》、《三民主义》等。其著述在逝世后多次被结集出版，有中华书局1986年出版的十一卷本《孙中山全集》，台北1969、1973、1985年出版的《国父全集》等。\n",
    "\n",
    "问题为：\n",
    "\n",
    "孙中山跟毛泽东是什么关系？\n",
    "\n",
    "答案为：\n",
    "\"\"\")"
   ]
  },
  {
   "cell_type": "code",
   "execution_count": 7,
   "id": "5f5e6152-73ba-481a-acc8-5423e922737c",
   "metadata": {},
   "outputs": [],
   "source": [
    "messages = [sys_msg, user_msg]"
   ]
  },
  {
   "cell_type": "code",
   "execution_count": 8,
   "id": "a55cfc78-4b31-4ef8-89d2-740f83012298",
   "metadata": {},
   "outputs": [
    {
     "data": {
      "text/plain": [
       "AIMessage(content='文章中没有提及孙中山与毛泽东的关系。根据我自己的知识，孙中山是中国近代民主革命的先行者，而毛泽东是中华人民共和国的主要缔造者之一。两人都是中国历史上的重要人物，但他们在不同的时代活跃，孙中山是毛泽东早年的革命导师之一，对中国共产党的成立和发展有着重要的影响。', additional_kwargs={}, response_metadata={'model_name': 'qwen-turbo', 'finish_reason': 'stop', 'request_id': '7fc32746-ab86-9a82-a95b-a059a6d30c74', 'token_usage': {'input_tokens': 550, 'output_tokens': 69, 'total_tokens': 619}}, id='run-b2e9813c-daba-4c88-a564-6844fba0d82b-0')"
      ]
     },
     "execution_count": 8,
     "metadata": {},
     "output_type": "execute_result"
    }
   ],
   "source": [
    "model.invoke(input=messages)"
   ]
  },
  {
   "cell_type": "code",
   "execution_count": 9,
   "id": "373c1f16-391a-4ab7-82bb-a87254e80137",
   "metadata": {},
   "outputs": [],
   "source": [
    "# 让用户传过一篇文章和一个问题，我们根据用户的文章来回答用户的问题"
   ]
  },
  {
   "cell_type": "code",
   "execution_count": 10,
   "id": "c842c10a-579a-4653-aea7-f4dcfd72e19e",
   "metadata": {},
   "outputs": [],
   "source": [
    "from langchain_core.prompts import SystemMessagePromptTemplate\n",
    "from langchain_core.prompts import HumanMessagePromptTemplate\n",
    "from langchain_core.prompts import ChatPromptTemplate"
   ]
  },
  {
   "cell_type": "code",
   "execution_count": 11,
   "id": "64a6e0b4-57eb-420d-bf65-6be66b7f530e",
   "metadata": {},
   "outputs": [],
   "source": [
    "sys_prompt = SystemMessagePromptTemplate.from_template(template=\"\"\"\n",
    "你是一个阅读理解机器人！\n",
    "请认真阅读用户提供的文章，并根据文章的内容来回答用户的问题！\n",
    "请注意：\n",
    "    1, 如果问题没有在文章中出现，请直接使用你自己的知识来回答！\n",
    "    2, 不需要做任何的解释，直接回答问题的结果即可！\n",
    "\"\"\")\n",
    "# "
   ]
  },
  {
   "cell_type": "code",
   "execution_count": 12,
   "id": "951c0f11-805e-4657-bd8b-7298bf6b2a16",
   "metadata": {},
   "outputs": [],
   "source": [
    "user_prompt = HumanMessagePromptTemplate.from_template(template=\"\"\"\n",
    "文章为：\n",
    "{passage}\n",
    "问题为：\n",
    "{question}\n",
    "答案为：\n",
    "\"\"\")"
   ]
  },
  {
   "cell_type": "code",
   "execution_count": 13,
   "id": "f5eba20b-ecbd-4721-a267-d50354035199",
   "metadata": {},
   "outputs": [],
   "source": [
    "prompt = ChatPromptTemplate.from_messages(messages=[sys_prompt, user_prompt])"
   ]
  },
  {
   "cell_type": "code",
   "execution_count": 14,
   "id": "52ee291c-421b-483a-8ec7-d9997765b252",
   "metadata": {},
   "outputs": [],
   "source": [
    "from langchain_core.output_parsers import StrOutputParser"
   ]
  },
  {
   "cell_type": "code",
   "execution_count": 15,
   "id": "46286ba5-7e37-4d03-af35-02ac111590b3",
   "metadata": {},
   "outputs": [],
   "source": [
    "output_parser = StrOutputParser()"
   ]
  },
  {
   "cell_type": "code",
   "execution_count": 16,
   "id": "888f9ee5-98e0-4172-b10a-52333ebe0f04",
   "metadata": {},
   "outputs": [],
   "source": [
    "chain = prompt | model | output_parser"
   ]
  },
  {
   "cell_type": "code",
   "execution_count": 17,
   "id": "eb81e765-0f8c-4631-96e9-528821792cdc",
   "metadata": {},
   "outputs": [],
   "source": [
    "passage = \"\"\"\n",
    "孙中山，名文，字载之，号日新，又号逸仙，又名帝象，化名中山樵，伟大的民族英雄、伟大的爱国主义者、中国民主革命的伟大先驱 [1]，中华民国和中国国民党的缔造者，三民主义的倡导者，创立了《五权宪法》。他首举彻底反帝反封建的旗帜，“起共和而终两千年封建帝制”。 [2]\n",
    "孙中山生于广东省广州府香山县（今中山市）翠亨村。孙中山原在香港学医，并成为西医医师。孙中山目睹中华民族有被西方列强瓜分的危险，决定抛弃“医人生涯”，进行“医国事业”。孙中山早期受郑观应的改良思想影响，后看清了清政府的腐败，决心推翻清王朝，建立民主共和国。 [3-4] [44]\n",
    "1894年11月24日，孙中山在檀香山创立兴中会 [4]。1905年（光绪三十一年）成立中国同盟会。1911年10月10日（宣统三年）新军中的革命党人暗中联络，决定当天晚上起义。辛亥革命后被推举为中华民国临时大总统（任期1912年1月1日——1912年4月1日）。1925年3月12日，孙中山因癌症在北京逝世。1929年6月1日，根据其生前遗愿，葬于南京紫金山中山陵。1940年，国民政府通令全国，尊称其为“中华民国国父”。\n",
    "孙中山著有《建国方略》、《建国大纲》、《三民主义》等。其著述在逝世后多次被结集出版，有中华书局1986年出版的十一卷本《孙中山全集》，台北1969、1973、1985年出版的《国父全集》等。\n",
    "\"\"\"\n",
    "\n",
    "question = \"\"\"\n",
    "Please list 孙中山's other names!\n",
    "\"\"\""
   ]
  },
  {
   "cell_type": "code",
   "execution_count": 18,
   "id": "356f2a2e-3433-42e3-ac3c-ee770e8625e1",
   "metadata": {},
   "outputs": [
    {
     "data": {
      "text/plain": [
       "'孙中山的其他名字包括：日新、逸仙、帝象、中山樵。'"
      ]
     },
     "execution_count": 18,
     "metadata": {},
     "output_type": "execute_result"
    }
   ],
   "source": [
    "chain.invoke(input=dict(passage=passage, question=question))"
   ]
  },
  {
   "cell_type": "code",
   "execution_count": 19,
   "id": "5c9e5d2d-7da6-438e-adf3-c4c254888963",
   "metadata": {},
   "outputs": [
    {
     "data": {
      "text/plain": [
       "'\\n进一步的拓展：\\n    - 1. 公司内部的私有知识资料：\\n        - 1. 产品说明\\n        - 2. 规章制度\\n        - 3. 对外文案\\n        - ...\\n    - 2. 让大模型根据私有知识资料来回答问题！\\n\\n存在几个问题：\\n    - 1. 私有知识资料可能会很多，完全都参考？\\n    - 2. 能不能只把跟问题有关的知识让大模型参考？\\n        - 如何判断或筛选跟问题相关的知识？\\n            - 根据文本相似度来进行检索\\n                - 关键词匹配？\\n                    - 要求太高了，提前把文章的关键词准备好\\n                    - 国际化的社会，不应该有语言的差异\\n                - 语义化匹配？\\n                    - 脱离语言本身，看内涵！！！\\n                    - 跨语言、跨表达习惯！直奔这句话的本质去！\\n                    - 如何实现？\\n                        - 把私有资料按逻辑互相独立的单元来分段！\\n                        - 使用一个模型（本质：BERT，向量化）把每段知识的核心信息抽取出来，变成一个向量（比如，1024维）\\n                        - 找一个数据库（向量化。GPU）把这些知识片段及其向量都存起来！\\n                        - 提问一个问题：\\n                            - 先把问题通过向量化模型，变成一个向量\\n                            - 然后使用这个向量到向量库中，查找最相似的上下文\\n                        - 把问题和上下一起交给模型，让模型回答问题！\\n                            - 疑问：你都在库中找到答案了，还让大模型生成个毛啊？\\n                                - 检索出来的东西，有些高度相关，有些低相关，而且比较长\\n                                    需要自己再去加工的！！！\\n                                - 大模型帮我们快速筛选和判断！！而且按你的习惯来输出结果！！\\n阅读理解扩展：\\n- 准备：\\n    - Load 加载/读取私有知识\\n    - Split 切分 私有知识\\n    - Embed 向量化\\n    - Store 入库\\n- 使用：\\n    - Query 提问\\n    - Retrieve 检索（相关的上下文）\\n    - Augment 增强（在prompt中整合问题和上下文）\\n    - Generate 生成（生成最终的结果）\\n    \\n- RAG：检索增强生成\\n'"
      ]
     },
     "execution_count": 19,
     "metadata": {},
     "output_type": "execute_result"
    }
   ],
   "source": [
    "\"\"\"\n",
    "进一步的拓展：\n",
    "    - 1. 公司内部的私有知识资料：\n",
    "        - 1. 产品说明\n",
    "        - 2. 规章制度\n",
    "        - 3. 对外文案\n",
    "        - ...\n",
    "    - 2. 让大模型根据私有知识资料来回答问题！\n",
    "\n",
    "存在几个问题：\n",
    "    - 1. 私有知识资料可能会很多，完全都参考？\n",
    "    - 2. 能不能只把跟问题有关的知识让大模型参考？\n",
    "        - 如何判断或筛选跟问题相关的知识？\n",
    "            - 根据文本相似度来进行检索\n",
    "                - 关键词匹配？\n",
    "                    - 要求太高了，提前把文章的关键词准备好\n",
    "                    - 国际化的社会，不应该有语言的差异\n",
    "                - 语义化匹配？\n",
    "                    - 脱离语言本身，看内涵！！！\n",
    "                    - 跨语言、跨表达习惯！直奔这句话的本质去！\n",
    "                    - 如何实现？\n",
    "                        - 把私有资料按逻辑互相独立的单元来分段！\n",
    "                        - 使用一个模型（本质：BERT，向量化）把每段知识的核心信息抽取出来，变成一个向量（比如，1024维）\n",
    "                        - 找一个数据库（向量化。GPU）把这些知识片段及其向量都存起来！\n",
    "                        - 提问一个问题：\n",
    "                            - 先把问题通过向量化模型，变成一个向量\n",
    "                            - 然后使用这个向量到向量库中，查找最相似的上下文\n",
    "                        - 把问题和上下一起交给模型，让模型回答问题！\n",
    "                            - 疑问：你都在库中找到答案了，还让大模型生成个毛啊？\n",
    "                                - 检索出来的东西，有些高度相关，有些低相关，而且比较长\n",
    "                                    需要自己再去加工的！！！\n",
    "                                - 大模型帮我们快速筛选和判断！！而且按你的习惯来输出结果！！\n",
    "阅读理解扩展：\n",
    "- 准备：\n",
    "    - Load 加载/读取私有知识\n",
    "    - Split 切分 私有知识\n",
    "    - Embed 向量化\n",
    "    - Store 入库\n",
    "- 使用：\n",
    "    - Query 提问\n",
    "    - Retrieve 检索（相关的上下文）\n",
    "    - Augment 增强（在prompt中整合问题和上下文）\n",
    "    - Generate 生成（生成最终的结果）\n",
    "    \n",
    "- RAG：检索增强生成\n",
    "\"\"\""
   ]
  },
  {
   "cell_type": "markdown",
   "id": "cbb574c3-56c2-4e2a-b95f-cf7368bce145",
   "metadata": {},
   "source": [
    "### 向量化模型"
   ]
  },
  {
   "cell_type": "code",
   "execution_count": 20,
   "id": "1c1fb628-509c-4ef6-b93c-68449a05df8e",
   "metadata": {},
   "outputs": [],
   "source": [
    "from models import get_tongyi_embed_model"
   ]
  },
  {
   "cell_type": "code",
   "execution_count": 21,
   "id": "2d80d4d9-cd6f-43e1-8ce0-b42733813cf9",
   "metadata": {},
   "outputs": [],
   "source": [
    "embed = get_tongyi_embed_model()"
   ]
  },
  {
   "cell_type": "code",
   "execution_count": 23,
   "id": "acab4b33-408e-480d-a7c1-d1cb8237510d",
   "metadata": {
    "scrolled": true
   },
   "outputs": [],
   "source": [
    "vector = embed.embed_query(text=\"你好\")"
   ]
  },
  {
   "cell_type": "code",
   "execution_count": 24,
   "id": "2332bc41-ba18-4db9-89de-d880ef3f53bc",
   "metadata": {},
   "outputs": [
    {
     "data": {
      "text/plain": [
       "list"
      ]
     },
     "execution_count": 24,
     "metadata": {},
     "output_type": "execute_result"
    }
   ],
   "source": [
    "type(vector)"
   ]
  },
  {
   "cell_type": "code",
   "execution_count": 25,
   "id": "3dc0d55a-9ba6-4c47-9997-44d0df54de03",
   "metadata": {},
   "outputs": [
    {
     "data": {
      "text/plain": [
       "1024"
      ]
     },
     "execution_count": 25,
     "metadata": {},
     "output_type": "execute_result"
    }
   ],
   "source": [
    "len(vector)"
   ]
  },
  {
   "cell_type": "code",
   "execution_count": null,
   "id": "b4f9c288-415d-4153-aae1-48dc9109cbc0",
   "metadata": {},
   "outputs": [],
   "source": []
  }
 ],
 "metadata": {
  "kernelspec": {
   "display_name": "Python 3 (ipykernel)",
   "language": "python",
   "name": "python3"
  },
  "language_info": {
   "codemirror_mode": {
    "name": "ipython",
    "version": 3
   },
   "file_extension": ".py",
   "mimetype": "text/x-python",
   "name": "python",
   "nbconvert_exporter": "python",
   "pygments_lexer": "ipython3",
   "version": "3.12.4"
  }
 },
 "nbformat": 4,
 "nbformat_minor": 5
}
