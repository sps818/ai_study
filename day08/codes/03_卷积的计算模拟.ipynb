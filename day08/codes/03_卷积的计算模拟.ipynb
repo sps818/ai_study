{
 "cells": [
  {
   "cell_type": "code",
   "execution_count": 1,
   "id": "c7d869df-f3da-49f8-a6d4-80dce7a99992",
   "metadata": {},
   "outputs": [],
   "source": [
    "import numpy as np"
   ]
  },
  {
   "cell_type": "code",
   "execution_count": 7,
   "id": "0c34c088-5492-4a2b-ad74-76383831cd8d",
   "metadata": {},
   "outputs": [],
   "source": [
    "# 图像\n",
    "img = np.random.randn(64, 64)"
   ]
  },
  {
   "cell_type": "code",
   "execution_count": 8,
   "id": "3d98ac1c-7caf-43ec-b1a7-bbb28d108967",
   "metadata": {},
   "outputs": [],
   "source": [
    "# 卷积核\n",
    "kernel = np.random.randn(3, 3)"
   ]
  },
  {
   "cell_type": "code",
   "execution_count": 10,
   "id": "754abf5a-7768-4a4a-b31c-1724c43608dc",
   "metadata": {},
   "outputs": [],
   "source": [
    "# 初始尺寸\n",
    "H, W = img.shape\n",
    "k, k = kernel.shape\n",
    "# 结果\n",
    "result = np.zeros(shape=(H-k+1, W-k+1))"
   ]
  },
  {
   "cell_type": "code",
   "execution_count": 13,
   "id": "e7f1c4ee-93c2-411a-8272-3f4fde5ddf85",
   "metadata": {},
   "outputs": [],
   "source": [
    "\"\"\"\n",
    "    卷积的基本计算\n",
    "\"\"\"\n",
    "# 遍历 H 方向\n",
    "for h_idx in range(H-k+1):\n",
    "    # 遍历 W 方向\n",
    "    for w_idx in range(W-k+1):\n",
    "        # 图像块\n",
    "        img_block = img[h_idx: h_idx + k, w_idx: w_idx + k]\n",
    "        # 填充结果\n",
    "        result[h_idx, w_idx] = (img_block * kernel).sum()"
   ]
  },
  {
   "cell_type": "code",
   "execution_count": 12,
   "id": "ff360615-2585-41d5-831e-4f0273e0fe2c",
   "metadata": {},
   "outputs": [
    {
     "data": {
      "text/plain": [
       "array([[-1.58042033,  0.51818971,  1.9994751 , ...,  0.51063898,\n",
       "         1.34425752,  0.28461657],\n",
       "       [-0.63638043,  0.71153305,  5.06192268, ...,  1.66780248,\n",
       "        -2.83292279,  1.18196566],\n",
       "       [ 4.8456049 ,  2.45971175, -2.93410091, ...,  1.50347846,\n",
       "        -0.02551886, -3.32573907],\n",
       "       ...,\n",
       "       [-3.38490171, -1.95248707, -0.68258193, ..., -1.14360246,\n",
       "         2.90665948,  5.51052606],\n",
       "       [-0.11057278,  2.3476073 ,  1.92571644, ...,  4.82310708,\n",
       "        -1.3405835 , -4.50007021],\n",
       "       [ 5.34586639,  0.93981243, -0.7335431 , ...,  0.45115775,\n",
       "        -1.95284689,  0.08431896]])"
      ]
     },
     "execution_count": 12,
     "metadata": {},
     "output_type": "execute_result"
    }
   ],
   "source": [
    "result"
   ]
  },
  {
   "cell_type": "code",
   "execution_count": null,
   "id": "9fe6c97f-155a-4ab3-ab4e-09bc89299c69",
   "metadata": {},
   "outputs": [],
   "source": []
  }
 ],
 "metadata": {
  "kernelspec": {
   "display_name": "py311",
   "language": "python",
   "name": "python3"
  },
  "language_info": {
   "codemirror_mode": {
    "name": "ipython",
    "version": 3
   },
   "file_extension": ".py",
   "mimetype": "text/x-python",
   "name": "python",
   "nbconvert_exporter": "python",
   "pygments_lexer": "ipython3",
   "version": "3.11.11"
  }
 },
 "nbformat": 4,
 "nbformat_minor": 5
}
