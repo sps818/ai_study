{
 "cells": [
  {
   "cell_type": "markdown",
   "id": "426ac9c1-e421-4638-8130-b40a43957e48",
   "metadata": {},
   "source": [
    "### 1. 原始数据读取\n",
    "- 并不是把所有图像全部读进内存！\n",
    "- 而是把所有图像的`路径`和`类别`归纳和梳理出来！\n",
    "- train_path, test_path\n",
    "- train_label, test_label"
   ]
  },
  {
   "cell_type": "code",
   "execution_count": 1,
   "id": "7e26d730-e728-4763-9120-87753aa0ea78",
   "metadata": {},
   "outputs": [],
   "source": [
    "\"\"\"\n",
    "    尝试读取 train \n",
    "    千万不要手动拼接路径！而是要增强程序的鲁棒性，用os模块拼接。\n",
    "    善加使用 os.path.join() 和 os.listdir()\n",
    "\"\"\"\n",
    "import os\n",
    "\n",
    "train_root = os.path.join(\"gesture\",\"train\")\n",
    "train_paths = []\n",
    "train_labels = []"
   ]
  },
  {
   "cell_type": "code",
   "execution_count": 2,
   "id": "c482e083-b837-4111-b5fe-64aa09e305fd",
   "metadata": {},
   "outputs": [
    {
     "data": {
      "text/plain": [
       "['eight',\n",
       " 'five',\n",
       " 'four',\n",
       " 'nine',\n",
       " 'one',\n",
       " 'seven',\n",
       " 'six',\n",
       " 'three',\n",
       " 'two',\n",
       " 'zero']"
      ]
     },
     "execution_count": 2,
     "metadata": {},
     "output_type": "execute_result"
    }
   ],
   "source": [
    "# 列出路径下所有文件夹名 和 文件名\n",
    "os.listdir(train_root)"
   ]
  },
  {
   "cell_type": "code",
   "execution_count": 3,
   "id": "c65e1a42-4521-4992-b26d-d301124a6bd7",
   "metadata": {},
   "outputs": [],
   "source": [
    "for label in os.listdir(train_root):\n",
    "    label_root = os.path.join(train_root, label)\n",
    "    # print(f'查看train_root下所有文件夹的路径{label_root}')\n",
    "    for file in os.listdir(label_root):\n",
    "        file_path = os.path.join(label_root, file)\n",
    "        # print(f'每个图片的路径：{file_path}')\n",
    "        # print(f'每个图片的标签：{label}')\n",
    "        train_paths.append(file_path)\n",
    "        train_labels.append(label)"
   ]
  },
  {
   "cell_type": "code",
   "execution_count": 4,
   "id": "fd5fb40b-a7dc-481f-89fa-8d7fa936127e",
   "metadata": {},
   "outputs": [
    {
     "name": "stdout",
     "output_type": "stream",
     "text": [
      "1662 1662\n",
      "400 400\n"
     ]
    }
   ],
   "source": [
    "\"\"\"\n",
    "    尝试读取 test\n",
    "\"\"\"\n",
    "import os\n",
    "\n",
    "test_root = os.path.join(\"gesture\",\"test\")\n",
    "test_paths = []\n",
    "test_labels = []\n",
    "\n",
    "for label in os.listdir(test_root):\n",
    "    label_root = os.path.join(test_root, label)\n",
    "    for file in os.listdir(label_root):\n",
    "        file_path = os.path.join(label_root, file)\n",
    "        test_paths.append(file_path)\n",
    "        test_labels.append(label)\n",
    "\n",
    "# 验证数量\n",
    "print(len(train_paths), len(train_labels))\n",
    "print(len(test_paths), len(test_labels))"
   ]
  },
  {
   "cell_type": "markdown",
   "id": "578a5139-f31c-4810-8afd-ad03aaefb5fb",
   "metadata": {},
   "source": [
    "### 2. 构建 标签字典 Label Dict"
   ]
  },
  {
   "cell_type": "code",
   "execution_count": 5,
   "id": "a2922356-2050-40e2-90c9-5802aa5fdf7d",
   "metadata": {},
   "outputs": [],
   "source": [
    "labels = [\"zero\", \"one\", \"two\", \"three\", \"four\", \"five\", \"six\", \"seven\", \"eight\", \"nine\"]\n",
    "label2idx = {label: idx for idx, label in enumerate(labels)}\n",
    "idx2label = {idx:label for label, idx in label2idx.items()}"
   ]
  },
  {
   "cell_type": "code",
   "execution_count": 6,
   "id": "32aa5b62-5aea-493c-b3ef-6bf9067a2281",
   "metadata": {},
   "outputs": [
    {
     "name": "stdout",
     "output_type": "stream",
     "text": [
      "{'zero': 0, 'one': 1, 'two': 2, 'three': 3, 'four': 4, 'five': 5, 'six': 6, 'seven': 7, 'eight': 8, 'nine': 9} \n",
      " {0: 'zero', 1: 'one', 2: 'two', 3: 'three', 4: 'four', 5: 'five', 6: 'six', 7: 'seven', 8: 'eight', 9: 'nine'}\n"
     ]
    }
   ],
   "source": [
    "print(label2idx, \"\\n\", idx2label)"
   ]
  },
  {
   "cell_type": "markdown",
   "id": "9ab17c85-a0f8-4292-9007-521509b5c47c",
   "metadata": {},
   "source": [
    "### 3. 批量化打包【重要，但套路固定】\n",
    "- 继承 Dataset，自定义一个数据集\n",
    "- 实例化 DataLoader"
   ]
  },
  {
   "cell_type": "code",
   "execution_count": 7,
   "id": "d9b8db2c-6915-41cc-8fbb-967ce6bc2622",
   "metadata": {},
   "outputs": [],
   "source": [
    "import torch\n",
    "from torch.utils.data import Dataset, DataLoader\n",
    "# Torch世界里打开图片，最好跟PIL配合\n",
    "from PIL import Image\n",
    "# 转张量用的包\n",
    "from torchvision import transforms"
   ]
  },
  {
   "cell_type": "code",
   "execution_count": 8,
   "id": "5b799c9a-f52b-401b-8c34-4eda3b590d91",
   "metadata": {},
   "outputs": [],
   "source": [
    "class GestureDataset(Dataset):\n",
    "    \"\"\"\n",
    "        自定义数据集\n",
    "        __xxx__的方法是 由Python内部调用而不是人调用。\n",
    "        实际上是重载了父类的方法\n",
    "    \"\"\"\n",
    "    def __init__(self, X, y):\n",
    "        \"\"\"\n",
    "            初始化函数\n",
    "                X:图像路径\n",
    "                y:图像标签\n",
    "        \"\"\"\n",
    "        self.X = X\n",
    "        self.y = y\n",
    "\n",
    "    \n",
    "    def __getitem__(self, idx):\n",
    "        \"\"\"\n",
    "            按索引读取样本\n",
    "        \"\"\"\n",
    "        # 获取图像路径\n",
    "        img_path = self.X[idx]\n",
    "        # 打开图像\n",
    "        img = Image.open(fp=img_path)\n",
    "        # 按照LeNet5 Input的图像大小resize\n",
    "        img = img.resize((32, 32))\n",
    "        # 图片还要转成张量,转换后的结构是[C, H, W]的，且数据范围是[0, 1]\n",
    "        tensor_img = transforms.ToTensor()(img)\n",
    "        # 将张量数据的范围从[0, 1]改成[-1, 1] => 规范化\n",
    "        tensor_img = transforms.Normalize(mean=[0.5, 0.5, 0.5], std=[0.5, 0.5, 0.5])(tensor_img)\n",
    "\n",
    "        # 获取图像标签\n",
    "        img_label = self.y[idx]\n",
    "        # 标签转id\n",
    "        img_label = label2idx.get(img_label)\n",
    "        # 也得转张量。但这里是数字转张量\n",
    "        tensor_label = torch.tensor(data=img_label, dtype=torch.float32)\n",
    "        \n",
    "        return tensor_img, img_label\n",
    "\n",
    "        \n",
    "    def __len__(self):\n",
    "        \"\"\"\n",
    "            返回该数据集 样本个数\n",
    "        \"\"\"\n",
    "        return len(self.X)"
   ]
  },
  {
   "cell_type": "code",
   "execution_count": 9,
   "id": "d235d20d-8e81-49c1-a4ed-953461a258ba",
   "metadata": {},
   "outputs": [],
   "source": [
    "# 分别实例化 train数据集和test数据集\n",
    "train_dataset = GestureDataset(X=train_paths, y=train_labels)\n",
    "test_dataset = GestureDataset(X=test_paths, y=test_labels)"
   ]
  },
  {
   "cell_type": "code",
   "execution_count": 10,
   "id": "f2ae4c5d-7d76-469c-af45-6f3d25b575a2",
   "metadata": {},
   "outputs": [
    {
     "name": "stdout",
     "output_type": "stream",
     "text": [
      "1662 400\n"
     ]
    }
   ],
   "source": [
    "# 测试__len__()\n",
    "print(len(train_dataset), len(test_dataset))"
   ]
  },
  {
   "cell_type": "code",
   "execution_count": 11,
   "id": "04e1358b-1591-4c7b-92d7-f5163ec5ff79",
   "metadata": {
    "scrolled": true
   },
   "outputs": [
    {
     "data": {
      "text/plain": [
       "(tensor([[[0.3804, 0.3961, 0.4118,  ..., 0.3176, 0.2549, 0.2627],\n",
       "          [0.3882, 0.4039, 0.4196,  ..., 0.3647, 0.3020, 0.2784],\n",
       "          [0.3882, 0.4039, 0.4118,  ..., 0.3569, 0.3490, 0.3176],\n",
       "          ...,\n",
       "          [0.2392, 0.2627, 0.2863,  ..., 0.2314, 0.2157, 0.1765],\n",
       "          [0.2235, 0.2392, 0.2627,  ..., 0.2157, 0.2000, 0.1686],\n",
       "          [0.2078, 0.2235, 0.2392,  ..., 0.1922, 0.1765, 0.1451]],\n",
       " \n",
       "         [[0.3647, 0.3804, 0.4039,  ..., 0.3098, 0.2314, 0.2314],\n",
       "          [0.3725, 0.3882, 0.4039,  ..., 0.3490, 0.2784, 0.2471],\n",
       "          [0.3725, 0.3882, 0.4118,  ..., 0.3490, 0.3333, 0.2706],\n",
       "          ...,\n",
       "          [0.2235, 0.2471, 0.2706,  ..., 0.2157, 0.2078, 0.1608],\n",
       "          [0.2078, 0.2235, 0.2471,  ..., 0.2000, 0.1843, 0.1451],\n",
       "          [0.1843, 0.2000, 0.2235,  ..., 0.1843, 0.1686, 0.1294]],\n",
       " \n",
       "         [[0.3569, 0.3804, 0.4039,  ..., 0.2941, 0.1843, 0.1137],\n",
       "          [0.3804, 0.3961, 0.4118,  ..., 0.3490, 0.2627, 0.1608],\n",
       "          [0.3804, 0.3961, 0.4118,  ..., 0.3569, 0.3412, 0.2314],\n",
       "          ...,\n",
       "          [0.2314, 0.2549, 0.2784,  ..., 0.2235, 0.2157, 0.1451],\n",
       "          [0.2157, 0.2314, 0.2549,  ..., 0.2078, 0.1922, 0.1216],\n",
       "          [0.1843, 0.2157, 0.2314,  ..., 0.1922, 0.1686, 0.0980]]]),\n",
       " 8)"
      ]
     },
     "execution_count": 11,
     "metadata": {},
     "output_type": "execute_result"
    }
   ],
   "source": [
    "# 测试__getitem__()方法\n",
    "train_dataset[0]"
   ]
  },
  {
   "cell_type": "code",
   "execution_count": 12,
   "id": "11505d9c-f4b9-4ff6-b5e9-aa567fbf7f8a",
   "metadata": {
    "scrolled": true
   },
   "outputs": [
    {
     "data": {
      "text/plain": [
       "(tensor([[[-0.0745, -0.0431,  0.0431,  ..., -0.0275, -0.0745, -0.1137],\n",
       "          [-0.0510,  0.0118,  0.1608,  ...,  0.0118, -0.0353, -0.0824],\n",
       "          [-0.0118,  0.1451,  0.2157,  ...,  0.0588,  0.0118, -0.0431],\n",
       "          ...,\n",
       "          [ 0.0824,  0.1294,  0.1843,  ...,  0.0824,  0.0275, -0.0118],\n",
       "          [ 0.0510,  0.0980,  0.1294,  ...,  0.0353,  0.0118, -0.0275],\n",
       "          [ 0.0118,  0.0588,  0.0902,  ...,  0.0039, -0.0039, -0.0510]],\n",
       " \n",
       "         [[-0.0902, -0.0588,  0.0275,  ..., -0.0431, -0.0902, -0.1294],\n",
       "          [-0.0667, -0.0039,  0.1451,  ..., -0.0039, -0.0510, -0.0980],\n",
       "          [-0.0275,  0.1294,  0.2000,  ...,  0.0431, -0.0039, -0.0588],\n",
       "          ...,\n",
       "          [ 0.0745,  0.1216,  0.1765,  ...,  0.0745,  0.0196, -0.0196],\n",
       "          [ 0.0353,  0.0902,  0.1216,  ...,  0.0275, -0.0118, -0.0510],\n",
       "          [-0.0118,  0.0510,  0.0824,  ..., -0.0118, -0.0353, -0.0824]],\n",
       " \n",
       "         [[-0.0824, -0.0510,  0.0353,  ..., -0.0275, -0.0824, -0.1216],\n",
       "          [-0.0588,  0.0039,  0.1529,  ...,  0.0118, -0.0431, -0.0902],\n",
       "          [-0.0196,  0.1373,  0.2078,  ...,  0.0588, -0.0039, -0.0510],\n",
       "          ...,\n",
       "          [ 0.0510,  0.0902,  0.1451,  ...,  0.0588,  0.0118, -0.0431],\n",
       "          [ 0.0039,  0.0588,  0.0902,  ...,  0.0196, -0.0275, -0.0824],\n",
       "          [-0.0353,  0.0196,  0.0510,  ..., -0.0196, -0.0510, -0.1059]]]),\n",
       " 0)"
      ]
     },
     "execution_count": 12,
     "metadata": {},
     "output_type": "execute_result"
    }
   ],
   "source": [
    "# 测试__getitem__()方法\n",
    "test_dataset[-1]"
   ]
  },
  {
   "cell_type": "code",
   "execution_count": 13,
   "id": "579343af-2d9d-43f9-8102-e8c262d3355f",
   "metadata": {},
   "outputs": [],
   "source": [
    "# 训练集加载器，训练时需要打乱顺序\n",
    "# batch_size的设置含义： 每次加载16个图像数据，然后打乱顺序再次加载16个，循环至结束\n",
    "train_dataloader = DataLoader(dataset=train_dataset, batch_size=100, shuffle=True)"
   ]
  },
  {
   "cell_type": "code",
   "execution_count": 14,
   "id": "709c2878-1b60-44fc-872e-73d1f74dcc41",
   "metadata": {},
   "outputs": [
    {
     "name": "stdout",
     "output_type": "stream",
     "text": [
      "torch.Size([100, 3, 32, 32])\n",
      "torch.Size([100])\n"
     ]
    }
   ],
   "source": [
    "# 遍历dataloader的时候，数据才开始写入内存\n",
    "for batch_X, batch_y in train_dataloader:\n",
    "    print(batch_X.shape)\n",
    "    print(batch_y.shape)\n",
    "    break"
   ]
  },
  {
   "cell_type": "code",
   "execution_count": 15,
   "id": "a7d23fb4-ab22-472a-87e5-9df5da7e66a7",
   "metadata": {},
   "outputs": [],
   "source": [
    "# 测试集加载器, 测试的时候不必打乱顺序\n",
    "test_dataloader = DataLoader(dataset=test_dataset, batch_size=300, shuffle=False)"
   ]
  },
  {
   "cell_type": "code",
   "execution_count": 16,
   "id": "bf1e0a70-4e78-4b2b-be31-7d09a955f990",
   "metadata": {},
   "outputs": [
    {
     "name": "stdout",
     "output_type": "stream",
     "text": [
      "torch.Size([300, 3, 32, 32])\n",
      "torch.Size([300])\n"
     ]
    }
   ],
   "source": [
    "# 遍历dataloader的时候，数据才开始写入内存\n",
    "for batch_X, batch_y in test_dataloader:\n",
    "    print(batch_X.shape)\n",
    "    print(batch_y.shape)\n",
    "    break"
   ]
  },
  {
   "cell_type": "markdown",
   "id": "f21b780c-3d1e-438f-9ad2-87b11678f549",
   "metadata": {},
   "source": [
    "### 4. 搭建模型"
   ]
  },
  {
   "cell_type": "code",
   "execution_count": 17,
   "id": "c51e401c-3b89-40b1-ba4c-f6a5b8d19711",
   "metadata": {},
   "outputs": [],
   "source": [
    "import torch\n",
    "from torch import nn\n",
    "# 参考day08上午搭建的 LeNet5Cover_Gai直接拿过来"
   ]
  },
  {
   "cell_type": "code",
   "execution_count": 22,
   "id": "0cefbae2-3030-463d-b5da-11321292dd18",
   "metadata": {},
   "outputs": [],
   "source": [
    "class LeNet5Cover_Gai(nn.Module):\n",
    "    \"\"\"\n",
    "        自定义一个卷积神经网络模型 - 对上面的神经网络进行了改良.\n",
    "        改良：做了流水线\n",
    "    \"\"\"\n",
    "    def __init__(self, in_channels=1, output=10):\n",
    "        \"\"\"\n",
    "            初始化函数\n",
    "            \n",
    "            1. Flatten参数的默认值说明\n",
    "                nn.Flatten(start_dim = 1, end_dim = -1)默认值是1和-1. 意思是在[N, C, H, W]中，把从第1个维度开始到倒数第1个维度进行展平。\n",
    "                也就是[N, C, H, W]展平成[N, C * H * W]\n",
    "        \"\"\"\n",
    "        super().__init__()\n",
    "        self.pipline = nn.Sequential(\n",
    "            nn.Conv2d(in_channels=in_channels, out_channels=6, kernel_size=5, stride=1, padding=0),\n",
    "            nn.MaxPool2d(kernel_size=2, stride=2, padding=0),\n",
    "            nn.Conv2d(in_channels=6, out_channels=16, kernel_size=5, stride=1, padding=0),\n",
    "            nn.MaxPool2d(kernel_size=2, stride=2, padding=0),\n",
    "            nn.Flatten(),\n",
    "            nn.Linear(in_features=400, out_features=120),\n",
    "            nn.Linear(in_features=120, out_features=84),\n",
    "            nn.Linear(in_features=84, out_features=output)\n",
    "        )\n",
    "\n",
    "    def forward(self, x):\n",
    "        \"\"\"\n",
    "            前向传播\n",
    "        \"\"\"\n",
    "        return self.pipline(x)"
   ]
  },
  {
   "cell_type": "markdown",
   "id": "63948caf-bf5c-4d0c-80e5-cd0e6b5d0b33",
   "metadata": {},
   "source": [
    "### 5.训练过程"
   ]
  },
  {
   "cell_type": "code",
   "execution_count": 19,
   "id": "e79297e4-e9ed-44e3-8c57-8c4aec5c2994",
   "metadata": {},
   "outputs": [],
   "source": [
    "# 设置训练轮次\n",
    "epochs = 100\n",
    "# 设置学习率\n",
    "learning_rate = 1e-3\n",
    "# 设备\n",
    "device = \"cuda\" if torch.cuda.is_available() else \"cpu\"\n",
    "# 实例化模型\n",
    "model = LeNet5Cover_Gai(in_channels=3)\n",
    "model.to(device=device)\n",
    "# 优化器\n",
    "# optimizer = torch.optim.Adam(params=model.parameters(), lr=learning_rate)\n",
    "optimizer = torch.optim.AdamW(params=model.parameters(), lr=learning_rate)\n",
    "# 损失函数\n",
    "loss_fn = nn.CrossEntropyLoss()"
   ]
  },
  {
   "cell_type": "code",
   "execution_count": 20,
   "id": "3cc23a60-7dca-4543-99c6-2d32eb4b04dc",
   "metadata": {},
   "outputs": [],
   "source": [
    "def train():\n",
    "    for epoch in range(epochs):\n",
    "        total_loss = 0\n",
    "        count = 0\n",
    "        for batch_X, batch_y in train_dataloader:\n",
    "            # 1.数据搬家\n",
    "            batch_X = batch_X.to(device=device)\n",
    "            batch_y = batch_y.to(device=device)\n",
    "            # 2.正向传播\n",
    "            y_pred = model.forward(batch_X)\n",
    "            # 3.计算损失\n",
    "            loss = loss_fn(y_pred, batch_y)\n",
    "            # 4.反向传播\n",
    "            loss.backward()\n",
    "            # 5.优化一步\n",
    "            optimizer.step()\n",
    "            # 6.梯度清零\n",
    "            optimizer.zero_grad()\n",
    "            # 记录每个epoch的平均loss\n",
    "            total_loss += loss.item()\n",
    "            count += 1\n",
    "        # 7.打印损失\n",
    "        print(f\"Epoch {epoch+1}, Avg Loss: {total_loss/count:.8f}\")"
   ]
  },
  {
   "cell_type": "code",
   "execution_count": 21,
   "id": "26da3f75-6920-413b-9bcd-6724dc6c3a66",
   "metadata": {
    "scrolled": true
   },
   "outputs": [
    {
     "name": "stdout",
     "output_type": "stream",
     "text": [
      "Epoch 1, Avg Loss: 2.14648422\n",
      "Epoch 2, Avg Loss: 1.23935846\n",
      "Epoch 3, Avg Loss: 0.80352082\n",
      "Epoch 4, Avg Loss: 0.65865150\n",
      "Epoch 5, Avg Loss: 0.54208504\n",
      "Epoch 6, Avg Loss: 0.47820197\n",
      "Epoch 7, Avg Loss: 0.43114320\n",
      "Epoch 8, Avg Loss: 0.37498976\n",
      "Epoch 9, Avg Loss: 0.34552529\n",
      "Epoch 10, Avg Loss: 0.32183964\n",
      "Epoch 11, Avg Loss: 0.28210302\n",
      "Epoch 12, Avg Loss: 0.25835160\n",
      "Epoch 13, Avg Loss: 0.23069625\n",
      "Epoch 14, Avg Loss: 0.21517163\n",
      "Epoch 15, Avg Loss: 0.20172513\n",
      "Epoch 16, Avg Loss: 0.17752626\n",
      "Epoch 17, Avg Loss: 0.15319063\n",
      "Epoch 18, Avg Loss: 0.16415689\n",
      "Epoch 19, Avg Loss: 0.13115902\n",
      "Epoch 20, Avg Loss: 0.11875591\n",
      "Epoch 21, Avg Loss: 0.11414685\n",
      "Epoch 22, Avg Loss: 0.10612061\n",
      "Epoch 23, Avg Loss: 0.08914827\n",
      "Epoch 24, Avg Loss: 0.08714529\n",
      "Epoch 25, Avg Loss: 0.08339097\n",
      "Epoch 26, Avg Loss: 0.08284724\n",
      "Epoch 27, Avg Loss: 0.08065183\n",
      "Epoch 28, Avg Loss: 0.06231232\n",
      "Epoch 29, Avg Loss: 0.04699513\n",
      "Epoch 30, Avg Loss: 0.05402360\n",
      "Epoch 31, Avg Loss: 0.04005197\n",
      "Epoch 32, Avg Loss: 0.03167756\n",
      "Epoch 33, Avg Loss: 0.03264725\n",
      "Epoch 34, Avg Loss: 0.02852210\n",
      "Epoch 35, Avg Loss: 0.02199706\n",
      "Epoch 36, Avg Loss: 0.01826902\n",
      "Epoch 37, Avg Loss: 0.01911676\n",
      "Epoch 38, Avg Loss: 0.01285614\n",
      "Epoch 39, Avg Loss: 0.01023920\n",
      "Epoch 40, Avg Loss: 0.00709749\n",
      "Epoch 41, Avg Loss: 0.00605023\n",
      "Epoch 42, Avg Loss: 0.00481893\n",
      "Epoch 43, Avg Loss: 0.00405900\n",
      "Epoch 44, Avg Loss: 0.00403951\n",
      "Epoch 45, Avg Loss: 0.00378696\n",
      "Epoch 46, Avg Loss: 0.00310649\n",
      "Epoch 47, Avg Loss: 0.00289952\n",
      "Epoch 48, Avg Loss: 0.00265397\n",
      "Epoch 49, Avg Loss: 0.00241924\n",
      "Epoch 50, Avg Loss: 0.00219447\n",
      "Epoch 51, Avg Loss: 0.00206915\n",
      "Epoch 52, Avg Loss: 0.00206146\n",
      "Epoch 53, Avg Loss: 0.00178418\n",
      "Epoch 54, Avg Loss: 0.00166834\n",
      "Epoch 55, Avg Loss: 0.00161847\n",
      "Epoch 56, Avg Loss: 0.00150047\n",
      "Epoch 57, Avg Loss: 0.00142053\n",
      "Epoch 58, Avg Loss: 0.00129878\n",
      "Epoch 59, Avg Loss: 0.00129538\n",
      "Epoch 60, Avg Loss: 0.00121608\n",
      "Epoch 61, Avg Loss: 0.00119350\n",
      "Epoch 62, Avg Loss: 0.00108452\n",
      "Epoch 63, Avg Loss: 0.00105101\n",
      "Epoch 64, Avg Loss: 0.00102854\n",
      "Epoch 65, Avg Loss: 0.00095790\n",
      "Epoch 66, Avg Loss: 0.00094461\n",
      "Epoch 67, Avg Loss: 0.00090742\n",
      "Epoch 68, Avg Loss: 0.00085448\n",
      "Epoch 69, Avg Loss: 0.00080753\n",
      "Epoch 70, Avg Loss: 0.00079073\n",
      "Epoch 71, Avg Loss: 0.00076468\n",
      "Epoch 72, Avg Loss: 0.00074298\n",
      "Epoch 73, Avg Loss: 0.00070970\n",
      "Epoch 74, Avg Loss: 0.00070621\n",
      "Epoch 75, Avg Loss: 0.00066156\n",
      "Epoch 76, Avg Loss: 0.00063982\n",
      "Epoch 77, Avg Loss: 0.00062046\n",
      "Epoch 78, Avg Loss: 0.00060037\n",
      "Epoch 79, Avg Loss: 0.00058350\n",
      "Epoch 80, Avg Loss: 0.00056669\n",
      "Epoch 81, Avg Loss: 0.00055814\n",
      "Epoch 82, Avg Loss: 0.00052794\n",
      "Epoch 83, Avg Loss: 0.00051066\n",
      "Epoch 84, Avg Loss: 0.00049027\n",
      "Epoch 85, Avg Loss: 0.00047413\n",
      "Epoch 86, Avg Loss: 0.00046740\n",
      "Epoch 87, Avg Loss: 0.00045099\n",
      "Epoch 88, Avg Loss: 0.00044396\n",
      "Epoch 89, Avg Loss: 0.00042535\n",
      "Epoch 90, Avg Loss: 0.00042837\n",
      "Epoch 91, Avg Loss: 0.00040446\n",
      "Epoch 92, Avg Loss: 0.00039687\n",
      "Epoch 93, Avg Loss: 0.00038859\n",
      "Epoch 94, Avg Loss: 0.00037764\n",
      "Epoch 95, Avg Loss: 0.00036867\n",
      "Epoch 96, Avg Loss: 0.00036038\n",
      "Epoch 97, Avg Loss: 0.00035389\n",
      "Epoch 98, Avg Loss: 0.00034639\n",
      "Epoch 99, Avg Loss: 0.00033689\n",
      "Epoch 100, Avg Loss: 0.00034198\n"
     ]
    }
   ],
   "source": [
    "train()"
   ]
  },
  {
   "cell_type": "code",
   "execution_count": null,
   "id": "a7ac7705-28f7-4dc8-830f-75e42f4b6c00",
   "metadata": {},
   "outputs": [],
   "source": [
    "\"\"\"\n",
    "    后续应该继续做以下步骤：\n",
    "        1. 过程监控（准确率accuracy）\n",
    "        2. 可视化loss和accuracy曲线\n",
    "        3. 早停设置（在测试集上，如果连续N=3轮没有性能提升，则停止训练）\n",
    "        4. 模型的best.pt和last.pt保存\n",
    "        5. 加载预训练模型 last.pt\n",
    "        6. 模型加载、推理流程\n",
    "\"\"\""
   ]
  }
 ],
 "metadata": {
  "kernelspec": {
   "display_name": "Python(py311)",
   "language": "python",
   "name": "py311"
  },
  "language_info": {
   "codemirror_mode": {
    "name": "ipython",
    "version": 3
   },
   "file_extension": ".py",
   "mimetype": "text/x-python",
   "name": "python",
   "nbconvert_exporter": "python",
   "pygments_lexer": "ipython3",
   "version": "3.11.11"
  }
 },
 "nbformat": 4,
 "nbformat_minor": 5
}
