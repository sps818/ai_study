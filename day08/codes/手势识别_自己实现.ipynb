{
 "cells": [
  {
   "cell_type": "markdown",
   "id": "426ac9c1-e421-4638-8130-b40a43957e48",
   "metadata": {},
   "source": [
    "### 1. 原始数据读取\n",
    "- 并不是把所有图像全部读进内存！\n",
    "- 而是把所有图像的`路径`和`类别`归纳和梳理出来！\n",
    "- img_path\n",
    "- img_label"
   ]
  },
  {
   "cell_type": "code",
   "execution_count": 1,
   "id": "7e26d730-e728-4763-9120-87753aa0ea78",
   "metadata": {},
   "outputs": [],
   "source": [
    "\"\"\"\n",
    "    尝试读取 train \n",
    "    千万不要手动拼接路径！而是要增强程序的鲁棒性，用os模块拼接。\n",
    "    善加使用 os.path.join() 和 os.listdir()\n",
    "\"\"\"\n",
    "import os\n",
    "\n",
    "train_root = os.path.join(\"gesture\",\"train\")\n",
    "train_labels = []\n",
    "train_path = []"
   ]
  },
  {
   "cell_type": "code",
   "execution_count": 2,
   "id": "c482e083-b837-4111-b5fe-64aa09e305fd",
   "metadata": {},
   "outputs": [
    {
     "data": {
      "text/plain": [
       "['eight',\n",
       " 'five',\n",
       " 'four',\n",
       " 'nine',\n",
       " 'one',\n",
       " 'seven',\n",
       " 'six',\n",
       " 'three',\n",
       " 'two',\n",
       " 'zero']"
      ]
     },
     "execution_count": 2,
     "metadata": {},
     "output_type": "execute_result"
    }
   ],
   "source": [
    "# 列出路径下所有文件夹名 和 文件名\n",
    "os.listdir(train_root)"
   ]
  },
  {
   "cell_type": "code",
   "execution_count": null,
   "id": "c65e1a42-4521-4992-b26d-d301124a6bd7",
   "metadata": {},
   "outputs": [],
   "source": []
  }
 ],
 "metadata": {
  "kernelspec": {
   "display_name": "Python(py311)",
   "language": "python",
   "name": "py311"
  },
  "language_info": {
   "codemirror_mode": {
    "name": "ipython",
    "version": 3
   },
   "file_extension": ".py",
   "mimetype": "text/x-python",
   "name": "python",
   "nbconvert_exporter": "python",
   "pygments_lexer": "ipython3",
   "version": "3.11.11"
  }
 },
 "nbformat": 4,
 "nbformat_minor": 5
}
