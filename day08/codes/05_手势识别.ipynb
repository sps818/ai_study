{
 "cells": [
  {
   "cell_type": "markdown",
   "id": "5b703147-3765-45e5-8877-4cf9c13bfed3",
   "metadata": {},
   "source": [
    "### 1. 原始数据读取\n",
    "- 并不是把所有图像全部读进内存！\n",
    "- 而是把所有图像的`路径`和`类别`归纳和梳理出来！\n",
    "- img_path\n",
    "- img_label"
   ]
  },
  {
   "cell_type": "code",
   "execution_count": 1,
   "id": "998dca66-4693-45b3-b007-5e615ac0bd50",
   "metadata": {},
   "outputs": [],
   "source": [
    "\"\"\"\n",
    "    尝试读取 train \n",
    "\"\"\"\n",
    "import os\n",
    "train_root = os.path.join(\"gesture\", \"train\")\n",
    "train_paths = []\n",
    "train_labels = []\n",
    "\n",
    "for label in os.listdir(train_root):\n",
    "    label_root = os.path.join(train_root, label)\n",
    "    for file in os.listdir(label_root):\n",
    "        file_path = os.path.join(label_root, file)\n",
    "        train_paths.append(file_path)\n",
    "        train_labels.append(label)"
   ]
  },
  {
   "cell_type": "code",
   "execution_count": 2,
   "id": "75056aa5-1d52-430d-bbc7-22bc2b56633b",
   "metadata": {
    "scrolled": true
   },
   "outputs": [],
   "source": [
    "\"\"\"\n",
    "    尝试读取 test \n",
    "\"\"\"\n",
    "import os\n",
    "test_root = os.path.join(\"gesture\", \"test\")\n",
    "test_paths = []\n",
    "test_labels = []\n",
    "\n",
    "for label in os.listdir(test_root):\n",
    "    label_root = os.path.join(test_root, label)\n",
    "    for file in os.listdir(label_root):\n",
    "        file_path = os.path.join(label_root, file)\n",
    "        test_paths.append(file_path)\n",
    "        test_labels.append(label)"
   ]
  },
  {
   "cell_type": "code",
   "execution_count": 11,
   "id": "e30812bd-cebb-4ce9-bd58-e8eab6178c67",
   "metadata": {},
   "outputs": [],
   "source": [
    "# 构建 标签字典 label dict\n",
    "labels = [\"zero\", \"one\", \"two\", \"three\", \"four\", \"five\", \"six\", \"seven\", \"eight\", \"nine\"]\n",
    "label2idx = {label: idx for idx, label in enumerate(labels)}\n",
    "idx2label = {idx: label for label, idx in label2idx.items()}"
   ]
  },
  {
   "cell_type": "markdown",
   "id": "14894725-4e0f-452e-8993-634659dcd0ff",
   "metadata": {},
   "source": [
    "### 2. 批量化打包\n",
    "- 继承 Dataset，自定义一个数据集\n",
    "- 实例化 DataLoader"
   ]
  },
  {
   "cell_type": "code",
   "execution_count": 45,
   "id": "c0da1507-535a-482c-a00d-a1ee882df85a",
   "metadata": {},
   "outputs": [],
   "source": [
    "# 引入必要的工具类\n",
    "from torch.utils.data import Dataset\n",
    "from torch.utils.data import DataLoader\n",
    "from PIL import Image\n",
    "from torchvision import transforms\n",
    "import torch"
   ]
  },
  {
   "cell_type": "code",
   "execution_count": 46,
   "id": "f1bc009b-d0f2-4332-90c3-bbfc0c83e24b",
   "metadata": {},
   "outputs": [],
   "source": [
    "class GestureDataset(Dataset):\n",
    "    \"\"\"\n",
    "        自定义手势识别数据集\n",
    "    \"\"\"\n",
    "    def __init__(self, X, y):\n",
    "        \"\"\"\n",
    "            初始化\n",
    "        \"\"\"\n",
    "        self.X = X\n",
    "        self.y = y\n",
    "\n",
    "    def __getitem__(self, idx):\n",
    "        \"\"\"\n",
    "            实现：\n",
    "                - 按下标来索引一个样本\n",
    "        \"\"\"\n",
    "        # 获取图像路径\n",
    "        img_path = self.X[idx]\n",
    "        # 读取图像\n",
    "        img = Image.open(fp=img_path)\n",
    "        # 统一大小\n",
    "        img = img.resize((32, 32))\n",
    "        # 转张量 [C, H, W]\n",
    "        # [0, 1]\n",
    "        img = transforms.ToTensor()(img)\n",
    "        # [-1, 1]\n",
    "        img = transforms.Normalize(mean=[0.5, 0.5, 0.5], std=[0.5, 0.5, 0.5])(img)\n",
    "\n",
    "        # 读取标签\n",
    "        img_label = self.y[idx]\n",
    "        # 标签转 id\n",
    "        img_idx = label2idx.get(img_label)\n",
    "        # 转张量\n",
    "        label = torch.tensor(data=img_idx, dtype=torch.long)\n",
    "\n",
    "        return img, label\n",
    "\n",
    "    \n",
    "    def __len__(self):\n",
    "        \"\"\"\n",
    "            返回该数据集的样本个数\n",
    "        \"\"\"\n",
    "        return len(self.X)"
   ]
  },
  {
   "cell_type": "code",
   "execution_count": 51,
   "id": "0b57844a-ff16-4ca6-9ae6-a9d332802473",
   "metadata": {},
   "outputs": [],
   "source": [
    "# 训练集加载器\n",
    "train_dataset = GestureDataset(X=train_paths, y=train_labels)\n",
    "train_dataloader = DataLoader(dataset=train_dataset, shuffle=True, batch_size=16)\n",
    "# 测试集加载器\n",
    "test_dataset = GestureDataset(X=test_paths, y=test_labels)\n",
    "test_dataloader = DataLoader(dataset=test_dataset, shuffle=False, batch_size=32)"
   ]
  },
  {
   "cell_type": "code",
   "execution_count": 53,
   "id": "e942fe0b-184f-4f77-9c84-69e0b04fbdaf",
   "metadata": {},
   "outputs": [
    {
     "name": "stdout",
     "output_type": "stream",
     "text": [
      "torch.Size([32, 3, 32, 32])\n",
      "torch.Size([32])\n"
     ]
    }
   ],
   "source": [
    "# 测试\n",
    "for X, y in test_dataloader:\n",
    "    print(X.shape)\n",
    "    print(y.shape)\n",
    "    break"
   ]
  },
  {
   "cell_type": "code",
   "execution_count": null,
   "id": "88e08a8f-f7f6-45e5-a5f9-ff81363b973c",
   "metadata": {},
   "outputs": [],
   "source": []
  },
  {
   "cell_type": "code",
   "execution_count": null,
   "id": "7da41cdc-9476-462a-8ac8-a71802f22573",
   "metadata": {},
   "outputs": [],
   "source": []
  },
  {
   "cell_type": "code",
   "execution_count": null,
   "id": "a6acb798-8940-425a-9cce-bd1b4c8cf781",
   "metadata": {},
   "outputs": [],
   "source": []
  }
 ],
 "metadata": {
  "kernelspec": {
   "display_name": "Python 3 (ipykernel)",
   "language": "python",
   "name": "python3"
  },
  "language_info": {
   "codemirror_mode": {
    "name": "ipython",
    "version": 3
   },
   "file_extension": ".py",
   "mimetype": "text/x-python",
   "name": "python",
   "nbconvert_exporter": "python",
   "pygments_lexer": "ipython3",
   "version": "3.12.4"
  }
 },
 "nbformat": 4,
 "nbformat_minor": 5
}
