{
 "cells": [
  {
   "cell_type": "markdown",
   "id": "62d25792-722d-4eb3-8744-8b3b94602650",
   "metadata": {},
   "source": [
    "### 1. Simple RNN"
   ]
  },
  {
   "cell_type": "markdown",
   "id": "afb2557e-a9e8-4f48-8d9e-8b76f1c7dd52",
   "metadata": {},
   "source": [
    "<!-- ![simple_rnn.png](simple_rnn.png) -->\n",
    "<img src=\"simple_rnn.png\" width=50%>"
   ]
  },
  {
   "cell_type": "code",
   "execution_count": 17,
   "id": "36770531-497a-4cca-8407-be517fa71b48",
   "metadata": {},
   "outputs": [],
   "source": [
    "import torch\n",
    "from torch import nn"
   ]
  },
  {
   "cell_type": "code",
   "execution_count": 23,
   "id": "d77de9a1-57ea-4130-ba2e-36da73a6954e",
   "metadata": {},
   "outputs": [
    {
     "data": {
      "text/plain": [
       "(torch.Size([70, 3, 256]), torch.Size([1, 3, 512]))"
      ]
     },
     "execution_count": 23,
     "metadata": {},
     "output_type": "execute_result"
    }
   ],
   "source": [
    "# 数据结构：[seq_len, batch_size, embedding_dim]\n",
    "# seq_len:序列的长度，也就是这句话有多长\n",
    "# batch_size:有几句话，也就是有几个批次\n",
    "# embedding_dim:嵌入维度，也就是每个词是多大的向量（维度）\n",
    "X = torch.randn(70, 3, 256)\n",
    "h0 = torch.zeros(1, 3, 512, dtype=torch.float32)\n",
    "X.shape, h0.shape"
   ]
  },
  {
   "cell_type": "code",
   "execution_count": 24,
   "id": "4a7b0485-6ae3-4614-91e7-cbd4acc5a911",
   "metadata": {},
   "outputs": [],
   "source": [
    "# 构建循环神经网络\n",
    "\"\"\" \n",
    "    input_size:特征的维度\n",
    "    hidden_size：输出的维度\n",
    "\"\"\"\n",
    "rnn = nn.RNN(input_size=256, hidden_size=512)"
   ]
  },
  {
   "cell_type": "code",
   "execution_count": 25,
   "id": "79631e4d-0462-4e0a-9fe4-69c1c504e1d1",
   "metadata": {},
   "outputs": [],
   "source": [
    "# 调用RNN\n",
    "out, hn = rnn(X, h0)"
   ]
  },
  {
   "cell_type": "code",
   "execution_count": 26,
   "id": "8434c536-c9d9-4664-a51d-4b74378beb3a",
   "metadata": {},
   "outputs": [
    {
     "data": {
      "text/plain": [
       "torch.Size([70, 3, 512])"
      ]
     },
     "execution_count": 26,
     "metadata": {},
     "output_type": "execute_result"
    }
   ],
   "source": [
    "# [seq_len, batch_size, hidden_size] 所有步\n",
    "out.shape"
   ]
  },
  {
   "cell_type": "code",
   "execution_count": 27,
   "id": "ffe981ba-8653-4d66-9c98-4d0200ba034f",
   "metadata": {},
   "outputs": [
    {
     "data": {
      "text/plain": [
       "torch.Size([1, 3, 512])"
      ]
     },
     "execution_count": 27,
     "metadata": {},
     "output_type": "execute_result"
    }
   ],
   "source": [
    "# [seq_len, batch_size, hidden_size] 最后一步\n",
    "hn.shape"
   ]
  },
  {
   "cell_type": "markdown",
   "id": "005d2a32-39ab-4530-93c0-5230af96ee3f",
   "metadata": {},
   "source": [
    "### 2. LSTM 长短期记忆网络(资料：https://colah.github.io/posts/2015-08-Understanding-LSTMs/)\n",
    "- Long 长\n",
    "- Short 短\n",
    "- Term 期\n",
    "- Memory 记忆\n",
    "- 序列很长的时候，RNN就会丢失，跟熊瞎子掰苞米一样，所以需要LSTM"
   ]
  },
  {
   "cell_type": "markdown",
   "id": "f7b2ace6-7287-451b-b14e-754287610b23",
   "metadata": {},
   "source": [
    "<img src=\"lstm.png\" width=60%>"
   ]
  },
  {
   "cell_type": "code",
   "execution_count": 36,
   "id": "6fc22b93-c758-4b09-b1e4-5b383b9dcd6b",
   "metadata": {},
   "outputs": [],
   "source": [
    "# 全自动\n",
    "# Inputs: input, (h_0, c_0)\n",
    "# Outputs: output, (h_n, c_n)\n",
    "lstm = nn.LSTM(input_size=256, hidden_size=512)"
   ]
  },
  {
   "cell_type": "code",
   "execution_count": 37,
   "id": "7a40ff90-bff3-4c5f-b6b0-26c872f95eca",
   "metadata": {},
   "outputs": [],
   "source": [
    "# 准备数据\n",
    "X = torch.randn(70, 3, 256)\n",
    "h0 = torch.zeros(1, 3, 512, dtype=torch.float32)\n",
    "c0 = torch.zeros(1, 3, 512, dtype=torch.float32)"
   ]
  },
  {
   "cell_type": "code",
   "execution_count": 38,
   "id": "a2a9a2a8-340e-4718-b26f-7273282d1527",
   "metadata": {},
   "outputs": [],
   "source": [
    "out, (hn, cn) = lstm(X, (h0, c0))"
   ]
  },
  {
   "cell_type": "code",
   "execution_count": 39,
   "id": "73c69dd1-6f80-4e66-aebc-9c8cd93486e5",
   "metadata": {},
   "outputs": [
    {
     "data": {
      "text/plain": [
       "torch.Size([70, 3, 512])"
      ]
     },
     "execution_count": 39,
     "metadata": {},
     "output_type": "execute_result"
    }
   ],
   "source": [
    "out.shape"
   ]
  },
  {
   "cell_type": "code",
   "execution_count": 40,
   "id": "dc9d3fb0-f2e7-49ed-aca7-7f03d7d1e8c3",
   "metadata": {},
   "outputs": [
    {
     "data": {
      "text/plain": [
       "torch.Size([1, 3, 512])"
      ]
     },
     "execution_count": 40,
     "metadata": {},
     "output_type": "execute_result"
    }
   ],
   "source": [
    "hn.shape"
   ]
  },
  {
   "cell_type": "code",
   "execution_count": 41,
   "id": "294bbb77-a940-440b-863b-a2149f82f3df",
   "metadata": {},
   "outputs": [
    {
     "data": {
      "text/plain": [
       "torch.Size([1, 3, 512])"
      ]
     },
     "execution_count": 41,
     "metadata": {},
     "output_type": "execute_result"
    }
   ],
   "source": [
    "cn.shape"
   ]
  },
  {
   "cell_type": "code",
   "execution_count": 46,
   "id": "be0a563f-6c5c-4bb2-b55b-3471b281aeb6",
   "metadata": {},
   "outputs": [],
   "source": [
    "# 单步\n",
    "# Inputs: input, (h_0, c_0)\n",
    "# Outputs: (h_1, c_1)\n",
    "lstm_cell = nn.LSTMCell(input_size=256, hidden_size=512)"
   ]
  },
  {
   "cell_type": "code",
   "execution_count": 47,
   "id": "881a83a7-2115-4577-97f3-83094bcde73c",
   "metadata": {},
   "outputs": [],
   "source": [
    "X = torch.randn(70, 3, 256)\n",
    "h0 = torch.zeros(3, 512, dtype=torch.float32)\n",
    "c0 = torch.zeros(3, 512, dtype=torch.float32)"
   ]
  },
  {
   "cell_type": "code",
   "execution_count": 48,
   "id": "4b0c1821-b570-4bb5-b0cc-f4dd4de9ade5",
   "metadata": {},
   "outputs": [],
   "source": [
    "# 取出一步的数据\n",
    "X0 = X[0, :, :]"
   ]
  },
  {
   "cell_type": "code",
   "execution_count": 49,
   "id": "7862aff8-3b9f-48d1-9e65-7c26d7973bf4",
   "metadata": {},
   "outputs": [
    {
     "data": {
      "text/plain": [
       "torch.Size([3, 256])"
      ]
     },
     "execution_count": 49,
     "metadata": {},
     "output_type": "execute_result"
    }
   ],
   "source": [
    "X0.shape"
   ]
  },
  {
   "cell_type": "code",
   "execution_count": 50,
   "id": "57fcd0e9-34ef-4eb0-9614-da4b2c94170d",
   "metadata": {},
   "outputs": [],
   "source": [
    "hn, cn = lstm_cell(X0, (h0, c0))"
   ]
  },
  {
   "cell_type": "code",
   "execution_count": 51,
   "id": "082810a6-de62-463a-adca-383262fa2058",
   "metadata": {},
   "outputs": [
    {
     "data": {
      "text/plain": [
       "torch.Size([3, 512])"
      ]
     },
     "execution_count": 51,
     "metadata": {},
     "output_type": "execute_result"
    }
   ],
   "source": [
    "hn.shape"
   ]
  },
  {
   "cell_type": "code",
   "execution_count": 52,
   "id": "b175bff0-d070-4ad4-9edb-e09f11bd4515",
   "metadata": {},
   "outputs": [
    {
     "data": {
      "text/plain": [
       "torch.Size([3, 512])"
      ]
     },
     "execution_count": 52,
     "metadata": {},
     "output_type": "execute_result"
    }
   ],
   "source": [
    "cn.shape"
   ]
  },
  {
   "cell_type": "code",
   "execution_count": 57,
   "id": "36c11b1e-b8eb-4478-8ad9-066884be4d0d",
   "metadata": {},
   "outputs": [
    {
     "data": {
      "text/plain": [
       "70"
      ]
     },
     "execution_count": 57,
     "metadata": {},
     "output_type": "execute_result"
    }
   ],
   "source": [
    "X.size(0)"
   ]
  },
  {
   "cell_type": "code",
   "execution_count": 58,
   "id": "7c5d0735-e14e-4e20-b67e-27b000b455d6",
   "metadata": {},
   "outputs": [],
   "source": [
    "out = []\n",
    "for x in X:\n",
    "    h0, c0 = lstm_cell(x, (h0, c0))\n",
    "    out.append(h0)"
   ]
  },
  {
   "cell_type": "code",
   "execution_count": 59,
   "id": "ff87e695-6207-4b7e-9f3f-46655a0dc956",
   "metadata": {
    "scrolled": true
   },
   "outputs": [],
   "source": [
    "# 最终所有步的短期状态\n",
    "out = torch.stack(tensors=out, dim=0)"
   ]
  },
  {
   "cell_type": "code",
   "execution_count": 60,
   "id": "65e74ea1-1398-42ae-b85c-52f42d2b9871",
   "metadata": {},
   "outputs": [],
   "source": [
    "# 最后一步的状态\n",
    "hn = h0\n",
    "cn = c0"
   ]
  },
  {
   "cell_type": "markdown",
   "id": "7f1fc6b3-fd00-44f6-9168-40f3176d8438",
   "metadata": {},
   "source": [
    "### GRU \n",
    "- 核心思想：吃LSTM的红利，化简LSTM!!\n",
    "- 调用层面：跟Simple RNN是一样的"
   ]
  },
  {
   "cell_type": "code",
   "execution_count": 24,
   "id": "30f6590d-571a-46b2-8731-ade8cba1c10a",
   "metadata": {},
   "outputs": [],
   "source": [
    "gru = nn.GRU(input_size=256, hidden_size=512)"
   ]
  },
  {
   "cell_type": "code",
   "execution_count": 25,
   "id": "64c861a5-5ed0-44a5-a717-efb0a725284c",
   "metadata": {},
   "outputs": [],
   "source": [
    "X = torch.randn(70, 3, 256)\n",
    "h0 = torch.zeros(1, 3, 512, dtype=torch.float32)"
   ]
  },
  {
   "cell_type": "code",
   "execution_count": 26,
   "id": "c9cbf3c0-9a26-4b23-9879-a0aa1a8e6a1f",
   "metadata": {},
   "outputs": [],
   "source": [
    "out, hn = gru(X, h0)"
   ]
  },
  {
   "cell_type": "code",
   "execution_count": 27,
   "id": "7a695678-bd20-4eb8-9fc9-506e644f8b86",
   "metadata": {},
   "outputs": [
    {
     "data": {
      "text/plain": [
       "torch.Size([70, 3, 512])"
      ]
     },
     "execution_count": 27,
     "metadata": {},
     "output_type": "execute_result"
    }
   ],
   "source": [
    "out.shape"
   ]
  },
  {
   "cell_type": "code",
   "execution_count": 28,
   "id": "c61988bf-0f38-40ee-a199-b8e06888a1be",
   "metadata": {},
   "outputs": [
    {
     "data": {
      "text/plain": [
       "torch.Size([1, 3, 512])"
      ]
     },
     "execution_count": 28,
     "metadata": {},
     "output_type": "execute_result"
    }
   ],
   "source": [
    "hn.shape"
   ]
  },
  {
   "cell_type": "code",
   "execution_count": 29,
   "id": "b7fe6b63-d5c6-4b7b-b74e-64aa813c05a6",
   "metadata": {},
   "outputs": [
    {
     "data": {
      "text/plain": [
       "torch.nn.modules.rnn.GRUCell"
      ]
     },
     "execution_count": 29,
     "metadata": {},
     "output_type": "execute_result"
    }
   ],
   "source": [
    "nn.GRUCell"
   ]
  },
  {
   "cell_type": "code",
   "execution_count": null,
   "id": "c7ba394f-4c63-4c5b-9cdd-0b639327171c",
   "metadata": {},
   "outputs": [],
   "source": []
  }
 ],
 "metadata": {
  "kernelspec": {
   "display_name": "Python 3 (ipykernel)",
   "language": "python",
   "name": "python3"
  },
  "language_info": {
   "codemirror_mode": {
    "name": "ipython",
    "version": 3
   },
   "file_extension": ".py",
   "mimetype": "text/x-python",
   "name": "python",
   "nbconvert_exporter": "python",
   "pygments_lexer": "ipython3",
   "version": "3.11.11"
  }
 },
 "nbformat": 4,
 "nbformat_minor": 5
}
