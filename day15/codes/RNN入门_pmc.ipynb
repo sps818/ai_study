{
 "cells": [
  {
   "cell_type": "code",
   "execution_count": 50,
   "id": "f1767008-6fc1-4a6c-94b7-f7142deeab4c",
   "metadata": {},
   "outputs": [],
   "source": [
    "import torch\n",
    "from torch import nn"
   ]
  },
  {
   "cell_type": "code",
   "execution_count": 51,
   "id": "e07cd07f-5fcc-4ec0-b768-7f91dc820ac2",
   "metadata": {},
   "outputs": [
    {
     "name": "stdout",
     "output_type": "stream",
     "text": [
      "out.shape:torch.Size([70, 3, 512]), hn.shape:torch.Size([1, 3, 512])\n"
     ]
    }
   ],
   "source": [
    "\"\"\"\n",
    "    RNN\n",
    "\"\"\"\n",
    "# 准备数据， h0是第一步的隐藏输入\n",
    "X = torch.randn(70, 3, 256)\n",
    "h0 = torch.zeros(1, 3, 512, dtype=torch.float32)\n",
    "\n",
    "# 实例化\n",
    "rnn = nn.RNN(input_size=256, hidden_size=512)\n",
    "\n",
    "# 调用RNN\n",
    "out, hn = rnn(X, h0)\n",
    "\n",
    "print(f'out.shape:{out.shape}, hn.shape:{hn.shape}')"
   ]
  },
  {
   "cell_type": "code",
   "execution_count": 63,
   "id": "d44c8ecd-23ce-426b-b125-a99a4021fba6",
   "metadata": {},
   "outputs": [
    {
     "name": "stdout",
     "output_type": "stream",
     "text": [
      "out.shape:torch.Size([70, 3, 512]), hn.shape:torch.Size([1, 3, 512]), cn.shape:torch.Size([1, 3, 512])\n"
     ]
    }
   ],
   "source": [
    "\"\"\"\n",
    "    LSTM\n",
    "\"\"\"\n",
    "# 准备数据， h0是第一步的隐藏输入\n",
    "X = torch.randn(70, 3, 256)\n",
    "h0 = torch.zeros(1, 3, 512, dtype=torch.float32)\n",
    "c0 = torch.zeros(1, 3, 512, dtype=torch.float32)\n",
    "\n",
    "# 实例化\n",
    "lstm = nn.LSTM(input_size=256, hidden_size=512)\n",
    "\n",
    "# 调用LSTM\n",
    "out, (hn, cn) = lstm(X, (h0, c0))\n",
    "\n",
    "print(f'out.shape:{out.shape}, hn.shape:{hn.shape}, cn.shape:{cn.shape}')"
   ]
  },
  {
   "cell_type": "code",
   "execution_count": null,
   "id": "badecb6a-f378-4479-becc-f18076b29277",
   "metadata": {},
   "outputs": [],
   "source": []
  }
 ],
 "metadata": {
  "kernelspec": {
   "display_name": "Python 3 (ipykernel)",
   "language": "python",
   "name": "python3"
  },
  "language_info": {
   "codemirror_mode": {
    "name": "ipython",
    "version": 3
   },
   "file_extension": ".py",
   "mimetype": "text/x-python",
   "name": "python",
   "nbconvert_exporter": "python",
   "pygments_lexer": "ipython3",
   "version": "3.11.11"
  }
 },
 "nbformat": 4,
 "nbformat_minor": 5
}
