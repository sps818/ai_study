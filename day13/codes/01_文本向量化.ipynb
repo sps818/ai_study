{
 "cells": [
  {
   "cell_type": "markdown",
   "id": "1008d997-81c2-408d-a65c-5065e5b1abce",
   "metadata": {},
   "source": [
    "### 1. 原始语料"
   ]
  },
  {
   "cell_type": "code",
   "execution_count": 1,
   "id": "7afabe38-b908-4b81-b603-cedc974c02b4",
   "metadata": {},
   "outputs": [],
   "source": [
    "s1 = \"\"\"\n",
    "11月1日出版的《求是》杂志发表习近平总书记重要文章《促进高质量充分就业》。\n",
    "文章中，总书记深刻总结新时代就业工作成就和经验，\n",
    "分析当前就业形势和面临的突出问题，就促进高质量充分就业提出要求。\n",
    "今年10月，总书记在安徽考察时再次强调：“解决好重点人群就业，\n",
    "完善农村低收入人口常态化帮扶政策，确保不发生规模性返贫致贫。”\n",
    "\"\"\""
   ]
  },
  {
   "cell_type": "code",
   "execution_count": 2,
   "id": "2c001203-63ed-437f-be8b-f167208fa320",
   "metadata": {},
   "outputs": [],
   "source": [
    "s2 =  \"\"\"\n",
    "“就业是家事，更是国事。”情牵百姓、心系民生，习近平总书记高度重视就业工作。如何依靠发展促进就业？\n",
    "如何抓好重点群体就业？如何培养更多专业技术人才？如何构建和谐劳动关系？这些问题，总书记念兹在兹。\n",
    "\"\"\""
   ]
  },
  {
   "cell_type": "code",
   "execution_count": 3,
   "id": "d26f925b-9af7-453e-bc17-8229e3032544",
   "metadata": {},
   "outputs": [],
   "source": [
    "s3 = \"\"\"\n",
    "2019年2月1日，习近平总书记在看望北京市前门石头胡同服务点的“快递小哥”时指出：\n",
    "“要坚持就业优先战略，把解决人民群众就业问题放在更加突出的位置，努力创造更多就业岗位。”\n",
    "学院的电子屏幕上，展示了该校毕业生去向落实率的柱状图，总书记仔细察看，反复询问具体数据。\n",
    "\"\"\""
   ]
  },
  {
   "cell_type": "markdown",
   "id": "e2dcb8cc-78df-4f31-8fbf-c33afaac3c54",
   "metadata": {},
   "source": [
    "### 2. 构建字典"
   ]
  },
  {
   "cell_type": "code",
   "execution_count": 4,
   "id": "4a13a792-f42e-4670-9c3b-092e2fac4213",
   "metadata": {},
   "outputs": [],
   "source": [
    "import jieba"
   ]
  },
  {
   "cell_type": "code",
   "execution_count": 5,
   "id": "02587093-d8d8-4a3f-b0fd-d5d8365f915e",
   "metadata": {},
   "outputs": [
    {
     "name": "stderr",
     "output_type": "stream",
     "text": [
      "Building prefix dict from the default dictionary ...\n",
      "Loading model from cache C:\\Users\\63447\\AppData\\Local\\Temp\\jieba.cache\n",
      "Loading model cost 0.359 seconds.\n",
      "Prefix dict has been built successfully.\n"
     ]
    }
   ],
   "source": [
    "words = {\"<PAD>\", \"<UNK>\"}\n",
    "for s in [s1, s2, s3]:\n",
    "    words = words.union(set(jieba.lcut(s)))"
   ]
  },
  {
   "cell_type": "code",
   "execution_count": 6,
   "id": "eec44ed4-1b92-407d-9f21-a41c6baeee66",
   "metadata": {},
   "outputs": [],
   "source": [
    "\"\"\"\n",
    "    构建字典\n",
    "\"\"\"\n",
    "word2idx = {word: idx for idx, word in enumerate(words)}\n",
    "idx2word = {idx: word for word, idx in word2idx.items()}"
   ]
  },
  {
   "cell_type": "code",
   "execution_count": 7,
   "id": "e1b4be51-b475-4200-985b-773d890704a6",
   "metadata": {},
   "outputs": [],
   "source": [
    "words1 = jieba.lcut(s1)\n",
    "words2 = jieba.lcut(s2)\n",
    "words3 = jieba.lcut(s3)"
   ]
  },
  {
   "cell_type": "code",
   "execution_count": 8,
   "id": "5cca68e2-84ce-46ae-8fd2-c69f5a386537",
   "metadata": {},
   "outputs": [
    {
     "data": {
      "text/plain": [
       "(94, 56, 79)"
      ]
     },
     "execution_count": 8,
     "metadata": {},
     "output_type": "execute_result"
    }
   ],
   "source": [
    "len(words1), len(words2), len(words3)"
   ]
  },
  {
   "cell_type": "code",
   "execution_count": 9,
   "id": "33000a05-ae86-41e4-b53c-b70e5981ba9a",
   "metadata": {},
   "outputs": [],
   "source": [
    "lens = [len(temp) for temp in [words1, words2, words3]]"
   ]
  },
  {
   "cell_type": "code",
   "execution_count": 10,
   "id": "491dc3f9-329c-4a3e-af5f-8b0b8bee5c9d",
   "metadata": {},
   "outputs": [
    {
     "data": {
      "text/plain": [
       "[94, 56, 79]"
      ]
     },
     "execution_count": 10,
     "metadata": {},
     "output_type": "execute_result"
    }
   ],
   "source": [
    "lens"
   ]
  },
  {
   "cell_type": "code",
   "execution_count": 11,
   "id": "965ba21a-d08a-49fa-8353-ef77b3a93629",
   "metadata": {},
   "outputs": [],
   "source": [
    "import numpy as np"
   ]
  },
  {
   "cell_type": "code",
   "execution_count": 12,
   "id": "96ed6116-9cc9-45b6-98e5-2112772a4e23",
   "metadata": {},
   "outputs": [],
   "source": [
    "lens = np.array(lens)"
   ]
  },
  {
   "cell_type": "code",
   "execution_count": 13,
   "id": "b85bc79c-6258-4649-9da8-3b7052720b26",
   "metadata": {},
   "outputs": [],
   "source": [
    "SEQ_LEN = int(lens.mean())"
   ]
  },
  {
   "cell_type": "code",
   "execution_count": 14,
   "id": "9880aac9-689d-4c82-8120-72c896c69280",
   "metadata": {},
   "outputs": [],
   "source": [
    "def pad_sentence(sentence, seq_len=SEQ_LEN):\n",
    "    \"\"\"\n",
    "        处理句子：\n",
    "            - 按照 seq_len的长度来统一句子的长度\n",
    "    \"\"\"\n",
    "    if len(sentence) >= seq_len:\n",
    "        sentence = sentence[:seq_len]\n",
    "    else:\n",
    "        sentence += [\"<PAD>\"] * (seq_len - len(sentence))\n",
    "    return sentence"
   ]
  },
  {
   "cell_type": "code",
   "execution_count": 15,
   "id": "9067b754-2c25-4dcf-9c7d-87fd64457a3f",
   "metadata": {},
   "outputs": [],
   "source": [
    "words1 = pad_sentence(sentence=words1)\n",
    "words2 = pad_sentence(sentence=words2)\n",
    "words3 = pad_sentence(sentence=words3)"
   ]
  },
  {
   "cell_type": "code",
   "execution_count": 16,
   "id": "c287e98a-c8ee-4715-833c-97bbc1634896",
   "metadata": {},
   "outputs": [],
   "source": [
    "ids1 = [word2idx.get(word, word2idx.get(\"<UNK>\")) for word in words1]\n",
    "ids2 = [word2idx.get(word, word2idx.get(\"<UNK>\")) for word in words2]\n",
    "ids3 = [word2idx.get(word, word2idx.get(\"<UNK>\")) for word in words3]"
   ]
  },
  {
   "cell_type": "code",
   "execution_count": 17,
   "id": "a7df25fc-94a0-4389-83cb-c7690fbe3867",
   "metadata": {},
   "outputs": [],
   "source": [
    "X = [ids1, ids2, ids3]"
   ]
  },
  {
   "cell_type": "code",
   "execution_count": 18,
   "id": "7b715be5-e998-4c7f-a860-430c2e979e1f",
   "metadata": {},
   "outputs": [],
   "source": [
    "import torch"
   ]
  },
  {
   "cell_type": "code",
   "execution_count": 19,
   "id": "2147c4a3-dd64-4d2a-b836-1d6cca63a94d",
   "metadata": {},
   "outputs": [],
   "source": [
    "X = torch.tensor(data=X, dtype=torch.long)"
   ]
  },
  {
   "cell_type": "code",
   "execution_count": 20,
   "id": "6aade76b-7d77-4d73-9df1-022ad63b2958",
   "metadata": {},
   "outputs": [
    {
     "data": {
      "text/plain": [
       "torch.Size([3, 76])"
      ]
     },
     "execution_count": 20,
     "metadata": {},
     "output_type": "execute_result"
    }
   ],
   "source": [
    "# [batch_size, seq_len]\n",
    "X.shape"
   ]
  },
  {
   "cell_type": "code",
   "execution_count": 21,
   "id": "290f61a5-63cb-4738-ba29-6e2fe7c4aa9f",
   "metadata": {},
   "outputs": [
    {
     "data": {
      "text/plain": [
       "torch.Size([76, 3])"
      ]
     },
     "execution_count": 21,
     "metadata": {},
     "output_type": "execute_result"
    }
   ],
   "source": [
    "# 数据的转置 [seq_len, batch_size]\n",
    "torch.permute(input=X, dims=(1, 0)).shape"
   ]
  },
  {
   "cell_type": "code",
   "execution_count": 22,
   "id": "4a135c8a-c434-4af5-9479-1bca1d062cd0",
   "metadata": {},
   "outputs": [],
   "source": [
    "from torch import nn"
   ]
  },
  {
   "cell_type": "code",
   "execution_count": 23,
   "id": "d26a7ca2-5fe5-4254-87e0-3478637739e0",
   "metadata": {},
   "outputs": [],
   "source": [
    "embed = nn.Embedding(num_embeddings=len(word2idx),\n",
    "                    embedding_dim=256,\n",
    "                    padding_idx=idx2word.get(\"<PAD>\"))"
   ]
  },
  {
   "cell_type": "code",
   "execution_count": 24,
   "id": "ae7e3078-7dee-4f16-a63c-6df8034ac03b",
   "metadata": {},
   "outputs": [],
   "source": [
    "X1 = embed(X)"
   ]
  },
  {
   "cell_type": "code",
   "execution_count": 25,
   "id": "3e135f4d-3a20-4349-978e-f0531f6217fc",
   "metadata": {},
   "outputs": [
    {
     "data": {
      "text/plain": [
       "torch.Size([3, 76, 256])"
      ]
     },
     "execution_count": 25,
     "metadata": {},
     "output_type": "execute_result"
    }
   ],
   "source": [
    "X1.shape"
   ]
  },
  {
   "cell_type": "code",
   "execution_count": 26,
   "id": "423f80b6-496e-4cc2-8962-b37b440d4cf9",
   "metadata": {},
   "outputs": [],
   "source": [
    "# 自动挡 自动循环了seq_len\n",
    "rnn = nn.RNN(input_size=256, hidden_size=512, batch_first=True)"
   ]
  },
  {
   "cell_type": "code",
   "execution_count": 27,
   "id": "8b260560-419f-4e32-a3db-75b78c3dd4f8",
   "metadata": {},
   "outputs": [],
   "source": [
    "h0 = torch.zeros(1, 3, 512, dtype=torch.float32)"
   ]
  },
  {
   "cell_type": "code",
   "execution_count": 28,
   "id": "e15f2b91-c01c-4f09-8d7a-5b42b905dcc4",
   "metadata": {},
   "outputs": [
    {
     "data": {
      "text/plain": [
       "tensor([[[0., 0., 0.,  ..., 0., 0., 0.],\n",
       "         [0., 0., 0.,  ..., 0., 0., 0.],\n",
       "         [0., 0., 0.,  ..., 0., 0., 0.]]])"
      ]
     },
     "execution_count": 28,
     "metadata": {},
     "output_type": "execute_result"
    }
   ],
   "source": [
    "h0"
   ]
  },
  {
   "cell_type": "code",
   "execution_count": 29,
   "id": "79848c38-43eb-475c-b974-1dca346f8493",
   "metadata": {},
   "outputs": [],
   "source": [
    "# 通过RNN的处理\n",
    "# 输入：input, h_0\n",
    "# 输出：output, h_n\n",
    "out, hn = rnn(X1, h0)"
   ]
  },
  {
   "cell_type": "code",
   "execution_count": 30,
   "id": "52b74abf-dc43-4c6d-ac20-0ef7d8247b84",
   "metadata": {},
   "outputs": [
    {
     "data": {
      "text/plain": [
       "torch.Size([3, 76, 512])"
      ]
     },
     "execution_count": 30,
     "metadata": {},
     "output_type": "execute_result"
    }
   ],
   "source": [
    "# [3, 76, 512]\n",
    "out.shape"
   ]
  },
  {
   "cell_type": "code",
   "execution_count": 31,
   "id": "ad816aab-90f4-472d-afe6-df5d6b898257",
   "metadata": {},
   "outputs": [
    {
     "data": {
      "text/plain": [
       "torch.Size([1, 3, 512])"
      ]
     },
     "execution_count": 31,
     "metadata": {},
     "output_type": "execute_result"
    }
   ],
   "source": [
    "# [1, 3, 512]\n",
    "hn.shape"
   ]
  },
  {
   "cell_type": "code",
   "execution_count": 32,
   "id": "fa44124a-1ba1-409d-adba-af72e0c01d9e",
   "metadata": {},
   "outputs": [
    {
     "data": {
      "text/plain": [
       "True"
      ]
     },
     "execution_count": 32,
     "metadata": {},
     "output_type": "execute_result"
    }
   ],
   "source": [
    "torch.allclose(out[:, -1, :], hn[0, :, :])"
   ]
  },
  {
   "cell_type": "code",
   "execution_count": 33,
   "id": "cd14340a-6c84-4f3a-81be-a60f39c8b5b9",
   "metadata": {},
   "outputs": [
    {
     "data": {
      "text/plain": [
       "torch.Size([3, 76])"
      ]
     },
     "execution_count": 33,
     "metadata": {},
     "output_type": "execute_result"
    }
   ],
   "source": [
    "X.shape"
   ]
  },
  {
   "cell_type": "code",
   "execution_count": 34,
   "id": "21fcd8c1-4c31-49f6-b4a4-51ad4d3d16d6",
   "metadata": {},
   "outputs": [],
   "source": [
    "X1 = embed(X)"
   ]
  },
  {
   "cell_type": "code",
   "execution_count": 35,
   "id": "e3c0220c-d3b3-4e76-9c72-2b79085c48ef",
   "metadata": {},
   "outputs": [
    {
     "data": {
      "text/plain": [
       "torch.Size([3, 76, 256])"
      ]
     },
     "execution_count": 35,
     "metadata": {},
     "output_type": "execute_result"
    }
   ],
   "source": [
    "X1.shape"
   ]
  },
  {
   "cell_type": "code",
   "execution_count": 36,
   "id": "427d56ec-f695-4eb2-ab1d-860ad2a305c5",
   "metadata": {},
   "outputs": [],
   "source": [
    "X2 = torch.permute(input=X1, dims=(1, 0, 2))"
   ]
  },
  {
   "cell_type": "code",
   "execution_count": 37,
   "id": "dd9b030a-1a21-4f50-9d38-d358c66e1f58",
   "metadata": {},
   "outputs": [
    {
     "data": {
      "text/plain": [
       "torch.Size([76, 3, 256])"
      ]
     },
     "execution_count": 37,
     "metadata": {},
     "output_type": "execute_result"
    }
   ],
   "source": [
    "# [seq_len, batch_size, embedding_dim]\n",
    "X2.shape"
   ]
  },
  {
   "cell_type": "markdown",
   "id": "b6eb0ac6-c3bd-4f04-b963-7aaa936042bb",
   "metadata": {},
   "source": [
    "$ h_t = \\tanh(x_t W_{ih}^T + b_{ih} + h_{t-1}W_{hh}^T + b_{hh}) $"
   ]
  },
  {
   "cell_type": "code",
   "execution_count": 38,
   "id": "b7059e85-150e-469d-b484-045e1ad3a863",
   "metadata": {},
   "outputs": [
    {
     "data": {
      "text/plain": [
       "'\\n    1，参数\\n    2，逻辑\\n'"
      ]
     },
     "execution_count": 38,
     "metadata": {},
     "output_type": "execute_result"
    }
   ],
   "source": [
    "\"\"\"\n",
    "    1，参数\n",
    "    2，逻辑\n",
    "\"\"\""
   ]
  },
  {
   "cell_type": "code",
   "execution_count": 39,
   "id": "d54d683f-6b82-44d2-bd20-e7c9a4c3ec0d",
   "metadata": {},
   "outputs": [],
   "source": [
    "rnn = nn.RNN(input_size=256, hidden_size=512, batch_first=False)"
   ]
  },
  {
   "cell_type": "code",
   "execution_count": 40,
   "id": "8d239bd7-9f5f-4c74-905c-9323c9313f23",
   "metadata": {},
   "outputs": [],
   "source": [
    "h0 = torch.zeros(1, 3, 512, dtype=torch.float32)"
   ]
  },
  {
   "cell_type": "code",
   "execution_count": 41,
   "id": "2c95d14a-fb10-4cb6-8290-2b2293b83f0f",
   "metadata": {},
   "outputs": [],
   "source": [
    "out, hn = rnn(X2, h0)"
   ]
  },
  {
   "cell_type": "code",
   "execution_count": 42,
   "id": "a1945b70-f659-42d4-8b9c-8926dd66b2d3",
   "metadata": {},
   "outputs": [
    {
     "data": {
      "text/plain": [
       "torch.Size([76, 3, 512])"
      ]
     },
     "execution_count": 42,
     "metadata": {},
     "output_type": "execute_result"
    }
   ],
   "source": [
    "# 所有步的特征\n",
    "out.shape"
   ]
  },
  {
   "cell_type": "code",
   "execution_count": 43,
   "id": "be7d67d7-7d2b-4abb-b8ca-e175a3d1c330",
   "metadata": {},
   "outputs": [
    {
     "data": {
      "text/plain": [
       "torch.Size([1, 3, 512])"
      ]
     },
     "execution_count": 43,
     "metadata": {},
     "output_type": "execute_result"
    }
   ],
   "source": [
    "# 最后一步\n",
    "hn.shape"
   ]
  },
  {
   "cell_type": "code",
   "execution_count": 44,
   "id": "f60b91db-9e04-43a0-b056-d8c6b8febd73",
   "metadata": {},
   "outputs": [
    {
     "data": {
      "text/plain": [
       "'\\n    手动挡\\n        - 自己控制循环\\n        - 系统每次只处理一步\\n'"
      ]
     },
     "execution_count": 44,
     "metadata": {},
     "output_type": "execute_result"
    }
   ],
   "source": [
    "\"\"\"\n",
    "    手动挡\n",
    "        - 自己控制循环\n",
    "        - 系统每次只处理一步\n",
    "\"\"\""
   ]
  },
  {
   "cell_type": "code",
   "execution_count": 45,
   "id": "2945bef1-b70c-4052-940b-c8868f9fa0cb",
   "metadata": {},
   "outputs": [],
   "source": [
    "rnn_cell = nn.RNNCell(input_size=256, hidden_size=512)"
   ]
  },
  {
   "cell_type": "code",
   "execution_count": 46,
   "id": "0627fb23-47d0-4cdc-b657-e86f94da77c2",
   "metadata": {},
   "outputs": [
    {
     "data": {
      "text/plain": [
       "torch.Size([76, 3, 256])"
      ]
     },
     "execution_count": 46,
     "metadata": {},
     "output_type": "execute_result"
    }
   ],
   "source": [
    "X2.shape"
   ]
  },
  {
   "cell_type": "code",
   "execution_count": 47,
   "id": "479683ad-5b6c-450e-9758-6ad52ca0c4b4",
   "metadata": {
    "scrolled": true
   },
   "outputs": [],
   "source": [
    "hn = torch.zeros(3, 512, dtype=torch.float32)\n",
    "out = []\n",
    "for x in X2:\n",
    "    hn = rnn_cell(x, hn)\n",
    "    out.append(hn)"
   ]
  },
  {
   "cell_type": "code",
   "execution_count": 48,
   "id": "3e9231ee-5cc7-4f33-8490-cde6fa218368",
   "metadata": {},
   "outputs": [
    {
     "data": {
      "text/plain": [
       "torch.Size([76, 3, 512])"
      ]
     },
     "execution_count": 48,
     "metadata": {},
     "output_type": "execute_result"
    }
   ],
   "source": [
    "torch.stack(tensors=out, dim=0).shape"
   ]
  },
  {
   "cell_type": "code",
   "execution_count": null,
   "id": "72301b69-bf68-4d48-9c1f-9d8e66c29e1b",
   "metadata": {},
   "outputs": [],
   "source": []
  }
 ],
 "metadata": {
  "kernelspec": {
   "display_name": "Python 3 (ipykernel)",
   "language": "python",
   "name": "python3"
  },
  "language_info": {
   "codemirror_mode": {
    "name": "ipython",
    "version": 3
   },
   "file_extension": ".py",
   "mimetype": "text/x-python",
   "name": "python",
   "nbconvert_exporter": "python",
   "pygments_lexer": "ipython3",
   "version": "3.9.19"
  }
 },
 "nbformat": 4,
 "nbformat_minor": 5
}
