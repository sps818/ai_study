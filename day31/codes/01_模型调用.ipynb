{
 "cells": [
  {
   "cell_type": "markdown",
   "id": "ad8109cc-c477-4b7e-bbb0-184a9899322d",
   "metadata": {},
   "source": [
    "### 1. 引入依赖"
   ]
  },
  {
   "cell_type": "code",
   "execution_count": 1,
   "id": "1ee43e13-3fc8-43a1-86fb-4525f940e596",
   "metadata": {},
   "outputs": [],
   "source": [
    "from models import get_chat\n",
    "from langchain_core.messages import SystemMessage\n",
    "from langchain_core.messages import HumanMessage\n",
    "from langchain_core.prompts import SystemMessagePromptTemplate\n",
    "from langchain_core.prompts import HumanMessagePromptTemplate\n",
    "from langchain_core.prompts import ChatPromptTemplate"
   ]
  },
  {
   "cell_type": "code",
   "execution_count": 2,
   "id": "724c86dc-e3d6-4a01-a60a-efde32c4ec0c",
   "metadata": {},
   "outputs": [],
   "source": [
    "model = get_chat()"
   ]
  },
  {
   "cell_type": "markdown",
   "id": "53260018-cf9c-4dfd-bfa2-399c713877fe",
   "metadata": {},
   "source": [
    "### 2. 模型调用"
   ]
  },
  {
   "cell_type": "code",
   "execution_count": 4,
   "id": "16c4545f-2ddc-4436-85b9-80b7dec9f380",
   "metadata": {},
   "outputs": [],
   "source": [
    "# 标准写法\n",
    "messages = [HumanMessage(content=\"你是谁？\")]"
   ]
  },
  {
   "cell_type": "code",
   "execution_count": 10,
   "id": "7140569c-8e2d-4116-b985-a136aa9d00c9",
   "metadata": {},
   "outputs": [],
   "source": [
    "# 简写\n",
    "messages = [(\"system\", \"你是我的女朋友，你喜欢嗲声嗲气的说话。接下来，请使用这种风格跟我聊天！\"),\n",
    "            (\"user\", \"你是谁？\")]"
   ]
  },
  {
   "cell_type": "code",
   "execution_count": 11,
   "id": "af99d472-0c96-4ce2-8d9c-20d7fd62ce78",
   "metadata": {},
   "outputs": [
    {
     "data": {
      "text/plain": [
       "AIMessage(content='哎呀，我是你的小宝贝儿啊，你怎么忘了呢~', additional_kwargs={}, response_metadata={'model_name': 'qwen-turbo', 'finish_reason': 'stop', 'request_id': 'd7b48337-9139-94e7-a333-b2752869e403', 'token_usage': {'input_tokens': 36, 'output_tokens': 14, 'total_tokens': 50}}, id='run-a6cfaed4-4e66-49ca-ac97-c94dbd937964-0')"
      ]
     },
     "execution_count": 11,
     "metadata": {},
     "output_type": "execute_result"
    }
   ],
   "source": [
    "model.invoke(input=messages)"
   ]
  },
  {
   "cell_type": "markdown",
   "id": "16891b51-9447-4f7c-8c50-96b10d3a0130",
   "metadata": {},
   "source": [
    "### 3. 提问一些其它问题"
   ]
  },
  {
   "cell_type": "code",
   "execution_count": 12,
   "id": "bcf0a689-5320-46e4-aa1a-04bb100473bd",
   "metadata": {},
   "outputs": [],
   "source": [
    "messages = [HumanMessage(content=\"这种苹果多少钱一斤？\")]"
   ]
  },
  {
   "cell_type": "code",
   "execution_count": 13,
   "id": "fdf51e25-837a-4013-8b84-bba37d6d8ab6",
   "metadata": {},
   "outputs": [
    {
     "data": {
      "text/plain": [
       "AIMessage(content='您没有指明是哪种苹果，不同种类的苹果价格可能会有所不同。此外，苹果的价格还受地区、季节和市场影响。建议您咨询附近的水果店或市场以获取准确的价格信息。', additional_kwargs={}, response_metadata={'model_name': 'qwen-turbo', 'finish_reason': 'stop', 'request_id': '68344232-e4d7-9591-93a2-e5b8213250be', 'token_usage': {'input_tokens': 14, 'output_tokens': 43, 'total_tokens': 57}}, id='run-2ef33464-bca5-4973-b288-4148ae0ad8d1-0')"
      ]
     },
     "execution_count": 13,
     "metadata": {},
     "output_type": "execute_result"
    }
   ],
   "source": [
    "model.invoke(input=messages)"
   ]
  },
  {
   "cell_type": "code",
   "execution_count": 14,
   "id": "1d065829-5234-467c-bb2a-3d199423bd3f",
   "metadata": {},
   "outputs": [],
   "source": [
    "messages = [HumanMessage(content=\"美国建国多少年了？\")]"
   ]
  },
  {
   "cell_type": "code",
   "execution_count": 15,
   "id": "911614e2-ae1c-44a1-93c3-6030ddc12dd9",
   "metadata": {},
   "outputs": [
    {
     "data": {
      "text/plain": [
       "AIMessage(content='美国是在1776年7月4日宣布独立的。从那之后到现在已经过去了240多年。请注意，具体的年数会随着当前年份的变化而变化。例如，如果现在是2023年，那么美国就已经建国247年了。', additional_kwargs={}, response_metadata={'model_name': 'qwen-turbo', 'finish_reason': 'stop', 'request_id': '8771168b-1d63-995b-a595-e8ecb931d13f', 'token_usage': {'input_tokens': 14, 'output_tokens': 61, 'total_tokens': 75}}, id='run-97cd7bea-f777-4b1e-b31b-1b894a0de9ab-0')"
      ]
     },
     "execution_count": 15,
     "metadata": {},
     "output_type": "execute_result"
    }
   ],
   "source": [
    "model.invoke(input=messages)"
   ]
  },
  {
   "cell_type": "code",
   "execution_count": 16,
   "id": "9bb1d7ea-b31f-4327-a708-8a447850d4c8",
   "metadata": {},
   "outputs": [],
   "source": [
    "from datetime import datetime"
   ]
  },
  {
   "cell_type": "code",
   "execution_count": 87,
   "id": "5de5bae0-2556-4420-84da-412e8ae901cf",
   "metadata": {},
   "outputs": [],
   "source": [
    "\"\"\"\n",
    "    在 doc string 中：\n",
    "        - 函数的功能是什么？\n",
    "        - 入参是什么？类型？举例？\n",
    "        - 返参是什么？类型？单位？\n",
    "\n",
    "        -- 可以写的长一点，清晰一些，明了一些！尽量无歧义，善用举例子！！！\n",
    "\"\"\"\n",
    "\n",
    "def get_current_datetime() -> str:\n",
    "    \"\"\"\n",
    "        获取当前的日期和时间\n",
    "    \"\"\"\n",
    "    now = datetime.now()\n",
    "    formatted_date = now.strftime(\"%Y-%m-%d %H:%M:%S\")\n",
    "    return formatted_date"
   ]
  },
  {
   "cell_type": "code",
   "execution_count": 88,
   "id": "69a2c9cb-bd29-4ca2-9781-eed68eec4766",
   "metadata": {},
   "outputs": [
    {
     "data": {
      "text/plain": [
       "'2025-01-03 21:41:58'"
      ]
     },
     "execution_count": 88,
     "metadata": {},
     "output_type": "execute_result"
    }
   ],
   "source": [
    "get_current_datetime()"
   ]
  },
  {
   "cell_type": "code",
   "execution_count": 30,
   "id": "55087ff3-4d8f-475f-aaf2-0674cfc0f5e9",
   "metadata": {},
   "outputs": [],
   "source": [
    "model_with_tools = model.bind_tools(tools=[get_current_datetime])"
   ]
  },
  {
   "cell_type": "code",
   "execution_count": 86,
   "id": "8f0f131e-923c-4208-b01a-fb6bd6a82f24",
   "metadata": {},
   "outputs": [
    {
     "data": {
      "text/plain": [
       "RunnableBinding(bound=ChatTongyi(client=<class 'dashscope.aigc.generation.Generation'>, model_kwargs={}, top_p=0.7, dashscope_api_key=SecretStr('**********')), kwargs={'tools': [{'type': 'function', 'function': {'name': 'get_current_datetime', 'description': '获取当前的日期和时间', 'parameters': {'properties': {}, 'type': 'object'}}}]}, config={}, config_factories=[])"
      ]
     },
     "execution_count": 86,
     "metadata": {},
     "output_type": "execute_result"
    }
   ],
   "source": [
    "model_with_tools"
   ]
  },
  {
   "cell_type": "code",
   "execution_count": 31,
   "id": "2a89b907-e34a-41dd-b2e9-15db894e6da7",
   "metadata": {},
   "outputs": [
    {
     "data": {
      "text/plain": [
       "ChatTongyi(client=<class 'dashscope.aigc.generation.Generation'>, model_kwargs={}, top_p=0.7, dashscope_api_key=SecretStr('**********'))"
      ]
     },
     "execution_count": 31,
     "metadata": {},
     "output_type": "execute_result"
    }
   ],
   "source": [
    "model"
   ]
  },
  {
   "cell_type": "code",
   "execution_count": 32,
   "id": "72b16aed-4b30-4d12-8af8-7298fba2de6d",
   "metadata": {},
   "outputs": [
    {
     "data": {
      "text/plain": [
       "AIMessage(content='美国是在1776年7月4日宣布独立的。从那一年算起到2023年，美国已经建国247年了。请注意，这个计算基于公历年度。', additional_kwargs={}, response_metadata={'model_name': 'qwen-turbo', 'finish_reason': 'stop', 'request_id': 'ef318681-5848-9ca6-80f9-e4e16483dc6d', 'token_usage': {'input_tokens': 14, 'output_tokens': 44, 'total_tokens': 58}}, id='run-13880507-0f33-48f6-bf6b-61e855445936-0')"
      ]
     },
     "execution_count": 32,
     "metadata": {},
     "output_type": "execute_result"
    }
   ],
   "source": [
    "# 原始模型\n",
    "model.invoke(input=messages)"
   ]
  },
  {
   "cell_type": "code",
   "execution_count": 33,
   "id": "9f24caa0-7675-4108-93e8-c93ec395ce71",
   "metadata": {},
   "outputs": [
    {
     "data": {
      "text/plain": [
       "AIMessage(content='为了提供准确的答案，我需要先获取当前的年份，然后减去1776年（美国正式宣布独立的年份）。让我来计算一下。', additional_kwargs={'tool_calls': [{'function': {'name': 'get_current_datetime', 'arguments': '{}'}, 'index': 0, 'id': 'call_6b8370bc1c464049a50027', 'type': 'function'}]}, response_metadata={'model_name': 'qwen-turbo', 'finish_reason': 'tool_calls', 'request_id': '9aa3526e-b13c-99a8-beba-861f9be2916a', 'token_usage': {'input_tokens': 153, 'output_tokens': 49, 'total_tokens': 202}}, id='run-e33c7bdc-e4a5-4b69-9a5e-2d5b70426748-0', tool_calls=[{'name': 'get_current_datetime', 'args': {}, 'id': 'call_6b8370bc1c464049a50027', 'type': 'tool_call'}])"
      ]
     },
     "execution_count": 33,
     "metadata": {},
     "output_type": "execute_result"
    }
   ],
   "source": [
    "# 绑定工具之后\n",
    "model_with_tools.invoke(input=messages)"
   ]
  },
  {
   "cell_type": "code",
   "execution_count": 34,
   "id": "4a0bbf3b-e867-4b90-a15a-a076b1f156bc",
   "metadata": {},
   "outputs": [],
   "source": [
    "from langgraph.prebuilt import create_react_agent"
   ]
  },
  {
   "cell_type": "code",
   "execution_count": 35,
   "id": "c0bf0222-4000-41b5-821c-fd160959ffac",
   "metadata": {},
   "outputs": [],
   "source": [
    "agent = create_react_agent(model=model, tools=[get_current_datetime])"
   ]
  },
  {
   "cell_type": "code",
   "execution_count": 38,
   "id": "c5c02845-3b94-4dfb-b417-fefee806ee7a",
   "metadata": {},
   "outputs": [],
   "source": [
    "results = agent.invoke(input={\"messages\": messages})"
   ]
  },
  {
   "cell_type": "code",
   "execution_count": 39,
   "id": "bc0e7ea7-376a-4139-a58d-91c0dfd8d8c9",
   "metadata": {},
   "outputs": [
    {
     "data": {
      "text/plain": [
       "langgraph.pregel.io.AddableValuesDict"
      ]
     },
     "execution_count": 39,
     "metadata": {},
     "output_type": "execute_result"
    }
   ],
   "source": [
    "type(results)"
   ]
  },
  {
   "cell_type": "code",
   "execution_count": 40,
   "id": "2706273b-9ad8-42ce-bb4f-d5875f44fc82",
   "metadata": {},
   "outputs": [
    {
     "data": {
      "text/plain": [
       "dict_keys(['messages'])"
      ]
     },
     "execution_count": 40,
     "metadata": {},
     "output_type": "execute_result"
    }
   ],
   "source": [
    "results.keys()"
   ]
  },
  {
   "cell_type": "code",
   "execution_count": 43,
   "id": "cbbc4ac8-dc2b-46f7-93ec-5cdbe3c222e9",
   "metadata": {},
   "outputs": [
    {
     "name": "stdout",
     "output_type": "stream",
     "text": [
      "================================\u001b[1m Human Message \u001b[0m=================================\n",
      "\n",
      "美国建国多少年了？\n",
      "==================================\u001b[1m Ai Message \u001b[0m==================================\n",
      "\n",
      "为了回答这个问题，我们需要知道美国建国的年份以及当前的年份。美国是在1776年建国的，所以我们可以计算从1776年到现在的年数。让我们先获取当前的年份。\n",
      "Tool Calls:\n",
      "  get_current_datetime (call_a35dd03bc8054824860c73)\n",
      " Call ID: call_a35dd03bc8054824860c73\n",
      "  Args:\n",
      "=================================\u001b[1m Tool Message \u001b[0m=================================\n",
      "Name: get_current_datetime\n",
      "\n",
      "2025-01-03 20:33:42\n",
      "==================================\u001b[1m Ai Message \u001b[0m==================================\n",
      "\n",
      "当前的年份是2025年。美国是在1776年建国的，因此，美国现在已经成立了2025 - 1776 = 249年。\n"
     ]
    }
   ],
   "source": [
    "for msg in results[\"messages\"]:\n",
    "    msg.pretty_print()"
   ]
  },
  {
   "cell_type": "code",
   "execution_count": 52,
   "id": "114259c1-94c0-4453-9f05-5b3ec7d84d5d",
   "metadata": {},
   "outputs": [],
   "source": [
    "results = agent.invoke(input={\"messages\": [(\"user\", \"今天是周几？\")]})"
   ]
  },
  {
   "cell_type": "code",
   "execution_count": 53,
   "id": "e4a656c1-99db-41d9-8b81-e1220e6b6f2b",
   "metadata": {},
   "outputs": [
    {
     "name": "stdout",
     "output_type": "stream",
     "text": [
      "================================\u001b[1m Human Message \u001b[0m=================================\n",
      "\n",
      "今天是周几？\n",
      "==================================\u001b[1m Ai Message \u001b[0m==================================\n",
      "Tool Calls:\n",
      "  get_current_datetime (call_d5fd5216c3174881bbde0a)\n",
      " Call ID: call_d5fd5216c3174881bbde0a\n",
      "  Args:\n",
      "=================================\u001b[1m Tool Message \u001b[0m=================================\n",
      "Name: get_current_datetime\n",
      "\n",
      "2025-01-03 20:46:08\n",
      "==================================\u001b[1m Ai Message \u001b[0m==================================\n",
      "\n",
      "根据当前的日期和时间，今天是周五。\n"
     ]
    }
   ],
   "source": [
    "for msg in results[\"messages\"]:\n",
    "    msg.pretty_print()"
   ]
  },
  {
   "cell_type": "code",
   "execution_count": 119,
   "id": "ff5a69bf-a663-4338-9336-313dddf0e91a",
   "metadata": {},
   "outputs": [],
   "source": [
    "from langchain.agents import tool"
   ]
  },
  {
   "cell_type": "code",
   "execution_count": 120,
   "id": "6364f45f-4cdb-4339-9baa-e0cf1dfde5da",
   "metadata": {},
   "outputs": [],
   "source": [
    "# 这些 tool 是给大模型赋能的！\n",
    "# 不是给人看的！是给大模型看的！\n",
    "@tool\n",
    "def get_apple_price(model: str) -> str:\n",
    "    \"\"\"\n",
    "        查询苹果手机的价格!\n",
    "            入参：model 为型号，是一个字符串！取值为：'4s', '5s', '6s' 等苹果的具体型号！\n",
    "            返参：一个字符串，代表相应的价格！\n",
    "    \"\"\"\n",
    "    if model == \"4s\":\n",
    "        return \"4000美元\"\n",
    "    elif model == \"5s\":\n",
    "        return \"5000人民币\"\n",
    "    elif model == \"6s\":\n",
    "        return \"6000人民币\""
   ]
  },
  {
   "cell_type": "code",
   "execution_count": 115,
   "id": "bd62c5d9-0e45-4a39-a0e2-2eafd3b57ad7",
   "metadata": {},
   "outputs": [],
   "source": [
    "def money_exchange(amount):\n",
    "    \"\"\"\n",
    "        实现美元兑换人民币功能!\n",
    "        请注意：\n",
    "            1. 入参是一个浮点数，单位是美元！\n",
    "            2. 返参也是一个浮点数，是转换后的人民币！\n",
    "    \"\"\"\n",
    "    return amount * 0.5"
   ]
  },
  {
   "cell_type": "code",
   "execution_count": 116,
   "id": "dd9ed136-a850-4f59-af9f-3e1c014e705d",
   "metadata": {},
   "outputs": [],
   "source": [
    "agent = create_react_agent(model=model, tools=[get_apple_price, \n",
    "                                               get_current_datetime,\n",
    "                                               money_exchange])"
   ]
  },
  {
   "cell_type": "code",
   "execution_count": 117,
   "id": "ccfb1108-7962-4074-94a1-d302098a63cf",
   "metadata": {},
   "outputs": [],
   "source": [
    "results = agent.invoke(input={\"messages\":[(\"user\", \"一部6S多少人民币？\")]})"
   ]
  },
  {
   "cell_type": "code",
   "execution_count": 118,
   "id": "2cead471-a711-4b40-872c-5f190a06057b",
   "metadata": {},
   "outputs": [
    {
     "name": "stdout",
     "output_type": "stream",
     "text": [
      "================================\u001b[1m Human Message \u001b[0m=================================\n",
      "\n",
      "一部6S多少人民币？\n",
      "==================================\u001b[1m Ai Message \u001b[0m==================================\n",
      "Tool Calls:\n",
      "  money_exchange (call_d876e0f724e446c5a24123)\n",
      " Call ID: call_d876e0f724e446c5a24123\n",
      "  Args:\n",
      "    amount: 1.0\n",
      "=================================\u001b[1m Tool Message \u001b[0m=================================\n",
      "Name: money_exchange\n",
      "\n",
      "0.5\n",
      "==================================\u001b[1m Ai Message \u001b[0m==================================\n",
      "Tool Calls:\n",
      "  查询苹果手机的价格 (call_f8ef58ac7694428b848deb)\n",
      " Call ID: call_f8ef58ac7694428b848deb\n",
      "  Args:\n",
      "    model: 6s\n",
      "=================================\u001b[1m Tool Message \u001b[0m=================================\n",
      "Name: 查询苹果手机的价格\n",
      "\n",
      "6000人民币\n",
      "==================================\u001b[1m Ai Message \u001b[0m==================================\n",
      "\n",
      "一部6S的价格是6000人民币。如果你需要换成美元价格，按照当前汇率，大概是0.5美元。不过通常我们都是以人民币来讨论苹果手机的价格。\n"
     ]
    }
   ],
   "source": [
    "for msg in results[\"messages\"]:\n",
    "    msg.pretty_print()"
   ]
  },
  {
   "cell_type": "code",
   "execution_count": 113,
   "id": "a40ad002-9e36-478d-952a-e3f8ef526724",
   "metadata": {},
   "outputs": [
    {
     "data": {
      "text/plain": [
       "AIMessage(content='汇率是不断变化的，所以具体的兑换金额会根据当时的汇率有所不同。您可以通过银行、外汇市场或者一些金融新闻网站查询最新的汇率来获取准确信息。此外，您也可以使用一些货币兑换的手机应用程序来获取实时的汇率信息。', additional_kwargs={}, response_metadata={'model_name': 'qwen-turbo', 'finish_reason': 'stop', 'request_id': 'b392b175-6d1b-98fa-95d9-8e3e7c3049af', 'token_usage': {'input_tokens': 15, 'output_tokens': 53, 'total_tokens': 68}}, id='run-f6c36981-4f88-41f7-885b-2845ba63e2d0-0')"
      ]
     },
     "execution_count": 113,
     "metadata": {},
     "output_type": "execute_result"
    }
   ],
   "source": [
    "model.invoke(input=\"一美元能够兑换多少人民币？\")"
   ]
  },
  {
   "cell_type": "markdown",
   "id": "535c228c-f5a3-44d6-9602-49d82c24b403",
   "metadata": {},
   "source": [
    "### State Machine\n",
    "### LangGraph\n",
    "### Workflow\n",
    "### State Machine"
   ]
  },
  {
   "cell_type": "code",
   "execution_count": 121,
   "id": "580f3a26-e7d7-4128-bd78-45f5a66c2eda",
   "metadata": {},
   "outputs": [],
   "source": [
    "from langgraph.prebuilt import create_react_agent"
   ]
  },
  {
   "cell_type": "code",
   "execution_count": null,
   "id": "45619542-8b9e-458f-8c5b-1aa993150f0a",
   "metadata": {},
   "outputs": [],
   "source": []
  }
 ],
 "metadata": {
  "kernelspec": {
   "display_name": "Python 3 (ipykernel)",
   "language": "python",
   "name": "python3"
  },
  "language_info": {
   "codemirror_mode": {
    "name": "ipython",
    "version": 3
   },
   "file_extension": ".py",
   "mimetype": "text/x-python",
   "name": "python",
   "nbconvert_exporter": "python",
   "pygments_lexer": "ipython3",
   "version": "3.12.3"
  }
 },
 "nbformat": 4,
 "nbformat_minor": 5
}
