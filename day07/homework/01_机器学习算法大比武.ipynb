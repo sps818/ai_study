{
 "cells": [
  {
   "cell_type": "markdown",
   "id": "0553dc67-38e1-4121-b9bd-c8109e4b9da0",
   "metadata": {},
   "source": [
    "### 1.生成数据"
   ]
  },
  {
   "cell_type": "code",
   "execution_count": 2,
   "id": "5c3e0fc8-7349-41ee-99ee-f34d87c0cad7",
   "metadata": {},
   "outputs": [],
   "source": [
    "from sklearn.datasets import make_classification\n",
    "import time"
   ]
  },
  {
   "cell_type": "code",
   "execution_count": 3,
   "id": "6fdbfa47-a8ae-417c-b433-1b19a489a4b6",
   "metadata": {},
   "outputs": [],
   "source": [
    "\"\"\"\n",
    "    参数说明：\n",
    "    n_samples:生成多少个样本\n",
    "    n_features:生成多少个特征\n",
    "    centers:想要几个类别\n",
    "    cluster_std: 标准差。数值越大越分散，数据越小越聚合\n",
    "\"\"\"\n",
    "\n",
    "X, y = make_classification(n_samples=100000, n_features=100, n_informative=40, n_classes=3, random_state=0)"
   ]
  },
  {
   "cell_type": "markdown",
   "id": "33a69e5c-e6e3-438a-9b50-809066816875",
   "metadata": {},
   "source": [
    "### 2.切分数据"
   ]
  },
  {
   "cell_type": "code",
   "execution_count": 5,
   "id": "b7c6d1f9-ebcc-4f46-af96-cf3247793b1c",
   "metadata": {},
   "outputs": [],
   "source": [
    "from sklearn.model_selection import train_test_split"
   ]
  },
  {
   "cell_type": "code",
   "execution_count": 6,
   "id": "3d39e63e-90d3-4c5c-ac3f-9033be5411fb",
   "metadata": {},
   "outputs": [],
   "source": [
    "X_train, X_test, y_train, y_test = train_test_split(X, y, test_size=0.2, random_state=0, shuffle=True)"
   ]
  },
  {
   "cell_type": "markdown",
   "id": "1a2ebe17-c63f-4d14-8a26-18f9f4404693",
   "metadata": {},
   "source": [
    "### 逻辑回归"
   ]
  },
  {
   "cell_type": "code",
   "execution_count": 8,
   "id": "abaac158-be9c-4a6c-9bef-d26e85c740a8",
   "metadata": {},
   "outputs": [],
   "source": [
    "from sklearn.linear_model import LogisticRegression"
   ]
  },
  {
   "cell_type": "code",
   "execution_count": 9,
   "id": "7eccc551-37b4-4e16-95d4-4ab1b253f980",
   "metadata": {},
   "outputs": [
    {
     "name": "stdout",
     "output_type": "stream",
     "text": [
      "逻辑回归的准确率:0.70715，训练耗时:3.024578094482422， 推测耗时:0.00189971923828125\n"
     ]
    }
   ],
   "source": [
    "# 实例化\n",
    "lr = LogisticRegression()\n",
    "\n",
    "# 训练\n",
    "start_fit_timestamp = time.time()\n",
    "lr.fit(X=X_train, y=y_train)\n",
    "end_fit_timestamp = time.time()\n",
    "\n",
    "# 预测\n",
    "y_pred = lr.predict(X=X_test)\n",
    "end_predict_timestamp = time.time()\n",
    "\n",
    "# 评估准确率\n",
    "lr_acc = (y_pred == y_test).mean()\n",
    "\n",
    "# 输出结果\n",
    "print(f'逻辑回归的准确率:{lr_acc}，训练耗时:{end_fit_timestamp-start_fit_timestamp}， 推测耗时:{end_predict_timestamp-end_fit_timestamp}')"
   ]
  },
  {
   "cell_type": "markdown",
   "id": "f827d7be-8fa8-4d14-a36f-58cac461d9a5",
   "metadata": {},
   "source": [
    "### KNN"
   ]
  },
  {
   "cell_type": "code",
   "execution_count": 11,
   "id": "947084fa-f55e-4a13-903f-a0f33da48e0b",
   "metadata": {},
   "outputs": [],
   "source": [
    "from sklearn.neighbors import KNeighborsClassifier"
   ]
  },
  {
   "cell_type": "code",
   "execution_count": 12,
   "id": "fa4f39a9-c7a4-4cc0-9135-3225a60a58c0",
   "metadata": {},
   "outputs": [
    {
     "name": "stdout",
     "output_type": "stream",
     "text": [
      "KNN的准确率:0.9747，训练耗时:0.008178949356079102， 推测耗时:3.1694231033325195\n"
     ]
    }
   ],
   "source": [
    "# 实例化\n",
    "knn = KNeighborsClassifier()\n",
    "\n",
    "# 训练\n",
    "start_fit_timestamp = time.time()\n",
    "knn.fit(X=X_train, y=y_train)\n",
    "end_fit_timestamp = time.time()\n",
    "\n",
    "# 预测\n",
    "y_pred = knn.predict(X=X_test)\n",
    "end_predict_timestamp = time.time()\n",
    "\n",
    "# 评估准确率\n",
    "knn_acc = (y_pred == y_test).mean()\n",
    "\n",
    "# 输出结果\n",
    "print(f'KNN的准确率:{knn_acc}，训练耗时:{end_fit_timestamp-start_fit_timestamp}， 推测耗时:{end_predict_timestamp-end_fit_timestamp}')"
   ]
  },
  {
   "cell_type": "markdown",
   "id": "cba2bbb5-55c0-4284-b03f-c5f039ce4f9f",
   "metadata": {},
   "source": [
    "### 朴素贝叶斯"
   ]
  },
  {
   "cell_type": "code",
   "execution_count": 14,
   "id": "69322d51-e3c7-4b8c-8623-b2d7037f5375",
   "metadata": {},
   "outputs": [],
   "source": [
    "from sklearn.naive_bayes import GaussianNB"
   ]
  },
  {
   "cell_type": "code",
   "execution_count": 15,
   "id": "80a73d5f-25b1-418a-af4d-76478a63bac7",
   "metadata": {},
   "outputs": [
    {
     "name": "stdout",
     "output_type": "stream",
     "text": [
      "朴素贝叶斯的准确率:0.6979，训练耗时:0.05208706855773926， 推测耗时:0.017900943756103516\n"
     ]
    }
   ],
   "source": [
    "# 实例化\n",
    "gnb = GaussianNB()\n",
    "\n",
    "# 训练\n",
    "start_fit_timestamp = time.time()\n",
    "gnb.fit(X=X_train, y=y_train)\n",
    "end_fit_timestamp = time.time()\n",
    "\n",
    "# 预测\n",
    "y_pred = gnb.predict(X=X_test)\n",
    "end_predict_timestamp = time.time()\n",
    "\n",
    "# 评估准确率\n",
    "gnb_acc = (y_pred == y_test).mean()\n",
    "\n",
    "# 输出结果\n",
    "print(f'朴素贝叶斯的准确率:{gnb_acc}，训练耗时:{end_fit_timestamp-start_fit_timestamp}， 推测耗时:{end_predict_timestamp-end_fit_timestamp}')"
   ]
  },
  {
   "cell_type": "markdown",
   "id": "93d8edee-490a-40ac-85db-0c6e0237466d",
   "metadata": {},
   "source": [
    "### 决策树"
   ]
  },
  {
   "cell_type": "code",
   "execution_count": 17,
   "id": "30d4606d-acb0-40e3-bf64-ec263cfc4449",
   "metadata": {},
   "outputs": [],
   "source": [
    "from sklearn.tree import DecisionTreeClassifier"
   ]
  },
  {
   "cell_type": "code",
   "execution_count": 18,
   "id": "d1f1170b-7c7b-41cc-a7b4-1ca69bd2fe1c",
   "metadata": {},
   "outputs": [
    {
     "name": "stdout",
     "output_type": "stream",
     "text": [
      "决策树的准确率:0.6632，训练耗时:13.077096939086914， 推测耗时:0.005236148834228516\n"
     ]
    }
   ],
   "source": [
    "# 实例化\n",
    "dtc = DecisionTreeClassifier()\n",
    "\n",
    "# 训练\n",
    "start_fit_timestamp = time.time()\n",
    "dtc.fit(X=X_train, y=y_train)\n",
    "end_fit_timestamp = time.time()\n",
    "\n",
    "# 预测\n",
    "y_pred = dtc.predict(X=X_test)\n",
    "end_predict_timestamp = time.time()\n",
    "\n",
    "# 评估准确率\n",
    "dtc_acc = (y_pred == y_test).mean()\n",
    "\n",
    "# 输出结果\n",
    "print(f'决策树的准确率:{dtc_acc}，训练耗时:{end_fit_timestamp-start_fit_timestamp}， 推测耗时:{end_predict_timestamp-end_fit_timestamp}')"
   ]
  },
  {
   "cell_type": "markdown",
   "id": "31d95787-1768-45d6-860b-552dde801bce",
   "metadata": {},
   "source": [
    "### 支持向量机"
   ]
  },
  {
   "cell_type": "code",
   "execution_count": 20,
   "id": "58f93bbf-aca4-4ae4-aec3-f19220b03aa2",
   "metadata": {},
   "outputs": [],
   "source": [
    "from sklearn.svm import SVC"
   ]
  },
  {
   "cell_type": "code",
   "execution_count": 21,
   "id": "49bd1bd9-ee0b-462a-9afe-40bf4e737f1d",
   "metadata": {},
   "outputs": [
    {
     "name": "stdout",
     "output_type": "stream",
     "text": [
      "支持向量机的准确率:0.98665，训练耗时:276.9527897834778， 推测耗时:40.311655044555664\n"
     ]
    }
   ],
   "source": [
    "# 实例化\n",
    "svc = SVC()\n",
    "\n",
    "# 训练\n",
    "start_fit_timestamp = time.time()\n",
    "svc.fit(X=X_train, y=y_train)\n",
    "end_fit_timestamp = time.time()\n",
    "\n",
    "# 预测\n",
    "y_pred = svc.predict(X=X_test)\n",
    "end_predict_timestamp = time.time()\n",
    "\n",
    "# 评估准确率\n",
    "svc_acc = (y_pred == y_test).mean()\n",
    "\n",
    "# 输出结果\n",
    "print(f'支持向量机的准确率:{svc_acc}，训练耗时:{end_fit_timestamp-start_fit_timestamp}， 推测耗时:{end_predict_timestamp-end_fit_timestamp}')"
   ]
  },
  {
   "cell_type": "markdown",
   "id": "448c2ac0-39f4-451a-9cce-dbca28509596",
   "metadata": {},
   "source": [
    "### 集成学习 - 随机森林"
   ]
  },
  {
   "cell_type": "code",
   "execution_count": 23,
   "id": "25591660-9ba6-4faf-b610-5cd2e4a8f602",
   "metadata": {},
   "outputs": [],
   "source": [
    "from sklearn.ensemble import RandomForestClassifier"
   ]
  },
  {
   "cell_type": "code",
   "execution_count": 24,
   "id": "aaa091e8-5910-4ac0-a16d-375e01a47dc0",
   "metadata": {},
   "outputs": [
    {
     "name": "stdout",
     "output_type": "stream",
     "text": [
      "随机森林的准确率:0.915，训练耗时:66.63083386421204， 推测耗时:0.34687304496765137\n"
     ]
    }
   ],
   "source": [
    "# 实例化\n",
    "rfc = RandomForestClassifier()\n",
    "\n",
    "# 训练\n",
    "start_fit_timestamp = time.time()\n",
    "rfc.fit(X=X_train, y=y_train)\n",
    "end_fit_timestamp = time.time()\n",
    "\n",
    "# 预测\n",
    "y_pred = rfc.predict(X=X_test)\n",
    "end_predict_timestamp = time.time()\n",
    "\n",
    "# 评估准确率\n",
    "rfc_acc = (y_pred == y_test).mean()\n",
    "\n",
    "# 输出结果\n",
    "print(f'随机森林的准确率:{rfc_acc}，训练耗时:{end_fit_timestamp-start_fit_timestamp}， 推测耗时:{end_predict_timestamp-end_fit_timestamp}')"
   ]
  },
  {
   "cell_type": "markdown",
   "id": "c02f16e3-281b-4257-bd1e-b093cdf32215",
   "metadata": {},
   "source": [
    "### 集成学习 - XGBoost"
   ]
  },
  {
   "cell_type": "code",
   "execution_count": 26,
   "id": "f03d71bf-fce5-4c07-aa59-4275746816ff",
   "metadata": {},
   "outputs": [],
   "source": [
    "from xgboost import XGBClassifier"
   ]
  },
  {
   "cell_type": "code",
   "execution_count": 27,
   "id": "b9227f91-e6ba-4097-9272-47c963838d53",
   "metadata": {},
   "outputs": [
    {
     "name": "stdout",
     "output_type": "stream",
     "text": [
      "XGBoost的准确率:0.94735，训练耗时:4.5469207763671875， 推测耗时:0.021589040756225586\n"
     ]
    }
   ],
   "source": [
    "# 实例化\n",
    "xgb = XGBClassifier()\n",
    "\n",
    "# 训练\n",
    "start_fit_timestamp = time.time()\n",
    "xgb.fit(X=X_train, y=y_train)\n",
    "end_fit_timestamp = time.time()\n",
    "\n",
    "# 预测\n",
    "y_pred = xgb.predict(X=X_test)\n",
    "end_predict_timestamp = time.time()\n",
    "\n",
    "# 评估准确率\n",
    "xgb_acc = (y_pred == y_test).mean()\n",
    "\n",
    "# 输出结果\n",
    "print(f'XGBoost的准确率:{xgb_acc}，训练耗时:{end_fit_timestamp-start_fit_timestamp}， 推测耗时:{end_predict_timestamp-end_fit_timestamp}')"
   ]
  },
  {
   "cell_type": "markdown",
   "id": "2d750aad-5ec0-4f2d-9b3e-04feb224f89f",
   "metadata": {},
   "source": [
    "### 集成学习 - LightGBM"
   ]
  },
  {
   "cell_type": "code",
   "execution_count": 29,
   "id": "8611d15b-dc97-429c-a87f-2d4ef3e18300",
   "metadata": {},
   "outputs": [],
   "source": [
    "from lightgbm import LGBMClassifier"
   ]
  },
  {
   "cell_type": "code",
   "execution_count": 30,
   "id": "8f7e8411-b5d7-47ed-a0d1-1fdc08dd56ae",
   "metadata": {},
   "outputs": [
    {
     "name": "stdout",
     "output_type": "stream",
     "text": [
      "[LightGBM] [Info] Auto-choosing col-wise multi-threading, the overhead of testing was 0.014312 seconds.\n",
      "You can set `force_col_wise=true` to remove the overhead.\n",
      "[LightGBM] [Info] Total Bins 25500\n",
      "[LightGBM] [Info] Number of data points in the train set: 80000, number of used features: 100\n",
      "[LightGBM] [Info] Start training from score -1.100965\n",
      "[LightGBM] [Info] Start training from score -1.099200\n",
      "[LightGBM] [Info] Start training from score -1.095679\n",
      "LightGBM的准确率:0.92265，训练耗时:4.181772947311401， 推测耗时:0.09781098365783691\n"
     ]
    }
   ],
   "source": [
    "# 实例化\n",
    "# LGBMClassifier(learning_rate=0.05, objective='binary')\n",
    "lgb = LGBMClassifier()\n",
    "\n",
    "# 训练\n",
    "start_fit_timestamp = time.time()\n",
    "lgb.fit(X=X_train, y=y_train)\n",
    "end_fit_timestamp = time.time()\n",
    "\n",
    "# 预测\n",
    "y_pred = lgb.predict(X=X_test)\n",
    "end_predict_timestamp = time.time()\n",
    "\n",
    "# 评估准确率\n",
    "lgb_acc = (y_pred == y_test).mean()\n",
    "\n",
    "# 输出结果\n",
    "print(f'LightGBM的准确率:{lgb_acc}，训练耗时:{end_fit_timestamp-start_fit_timestamp}， 推测耗时:{end_predict_timestamp-end_fit_timestamp}')"
   ]
  }
 ],
 "metadata": {
  "kernelspec": {
   "display_name": "Python 3 (ipykernel)",
   "language": "python",
   "name": "python3"
  },
  "language_info": {
   "codemirror_mode": {
    "name": "ipython",
    "version": 3
   },
   "file_extension": ".py",
   "mimetype": "text/x-python",
   "name": "python",
   "nbconvert_exporter": "python",
   "pygments_lexer": "ipython3",
   "version": "3.11.8"
  }
 },
 "nbformat": 4,
 "nbformat_minor": 5
}
