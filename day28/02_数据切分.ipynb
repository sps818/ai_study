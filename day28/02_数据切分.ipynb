{
 "cells": [
  {
   "cell_type": "code",
   "execution_count": 1,
   "id": "a285ca23-6f1d-4b43-befe-8f7bfb2384cf",
   "metadata": {
    "execution": {
     "iopub.execute_input": "2024-12-22T06:15:23.993503Z",
     "iopub.status.busy": "2024-12-22T06:15:23.993135Z",
     "iopub.status.idle": "2024-12-22T06:15:24.315393Z",
     "shell.execute_reply": "2024-12-22T06:15:24.314825Z",
     "shell.execute_reply.started": "2024-12-22T06:15:23.993471Z"
    }
   },
   "outputs": [],
   "source": [
    "import pandas as pd"
   ]
  },
  {
   "cell_type": "code",
   "execution_count": 2,
   "id": "40fd48bc-9a2f-427e-a0bf-54861f5b8a7b",
   "metadata": {
    "execution": {
     "iopub.execute_input": "2024-12-22T06:15:24.316925Z",
     "iopub.status.busy": "2024-12-22T06:15:24.316532Z",
     "iopub.status.idle": "2024-12-22T06:15:24.361829Z",
     "shell.execute_reply": "2024-12-22T06:15:24.361130Z",
     "shell.execute_reply.started": "2024-12-22T06:15:24.316902Z"
    }
   },
   "outputs": [],
   "source": [
    "data = pd.read_csv(filepath_or_buffer=\"samples.tsv\", sep=\"\\t\", encoding=\"utf8\")"
   ]
  },
  {
   "cell_type": "code",
   "execution_count": 3,
   "id": "044e92f5-b009-4d74-b42f-d11e2730fbe0",
   "metadata": {
    "ExecutionIndicator": {
     "show": true
    },
    "execution": {
     "iopub.execute_input": "2024-12-22T06:15:24.363117Z",
     "iopub.status.busy": "2024-12-22T06:15:24.362792Z",
     "iopub.status.idle": "2024-12-22T06:15:24.367388Z",
     "shell.execute_reply": "2024-12-22T06:15:24.366750Z",
     "shell.execute_reply.started": "2024-12-22T06:15:24.363090Z"
    },
    "tags": []
   },
   "outputs": [],
   "source": [
    "data = data.sample(frac=1)"
   ]
  },
  {
   "cell_type": "code",
   "execution_count": 4,
   "id": "01c13232-8ac6-49e6-b368-087407ea3651",
   "metadata": {
    "ExecutionIndicator": {
     "show": true
    },
    "execution": {
     "iopub.execute_input": "2024-12-22T06:15:24.368429Z",
     "iopub.status.busy": "2024-12-22T06:15:24.368161Z",
     "iopub.status.idle": "2024-12-22T06:15:24.371561Z",
     "shell.execute_reply": "2024-12-22T06:15:24.370930Z",
     "shell.execute_reply.started": "2024-12-22T06:15:24.368405Z"
    },
    "tags": []
   },
   "outputs": [],
   "source": [
    "data.reset_index(drop=True, inplace=True)"
   ]
  },
  {
   "cell_type": "code",
   "execution_count": 5,
   "id": "bf341801-1a46-45d7-a1ed-8ff2f22ac21d",
   "metadata": {
    "ExecutionIndicator": {
     "show": true
    },
    "execution": {
     "iopub.execute_input": "2024-12-22T06:15:24.372515Z",
     "iopub.status.busy": "2024-12-22T06:15:24.372268Z",
     "iopub.status.idle": "2024-12-22T06:15:24.375985Z",
     "shell.execute_reply": "2024-12-22T06:15:24.375278Z",
     "shell.execute_reply.started": "2024-12-22T06:15:24.372494Z"
    },
    "tags": []
   },
   "outputs": [],
   "source": [
    "# 包含 stop [start, stop]\n",
    "train = data.loc[1500:, :]\n",
    "test = data.loc[:1499, :]"
   ]
  },
  {
   "cell_type": "code",
   "execution_count": 6,
   "id": "4fca2232-7146-4d5a-8476-a8e4a662cfed",
   "metadata": {
    "execution": {
     "iopub.execute_input": "2024-12-22T06:15:24.376834Z",
     "iopub.status.busy": "2024-12-22T06:15:24.376588Z",
     "iopub.status.idle": "2024-12-22T06:15:24.382506Z",
     "shell.execute_reply": "2024-12-22T06:15:24.382056Z",
     "shell.execute_reply.started": "2024-12-22T06:15:24.376817Z"
    }
   },
   "outputs": [
    {
     "data": {
      "text/plain": [
       "(4489, 2)"
      ]
     },
     "execution_count": 6,
     "metadata": {},
     "output_type": "execute_result"
    }
   ],
   "source": [
    "train.shape"
   ]
  },
  {
   "cell_type": "code",
   "execution_count": 7,
   "id": "737b380b-5b0c-4be8-8e52-592fcc9600e3",
   "metadata": {
    "execution": {
     "iopub.execute_input": "2024-12-22T06:15:24.383934Z",
     "iopub.status.busy": "2024-12-22T06:15:24.383698Z",
     "iopub.status.idle": "2024-12-22T06:15:24.387516Z",
     "shell.execute_reply": "2024-12-22T06:15:24.386954Z",
     "shell.execute_reply.started": "2024-12-22T06:15:24.383917Z"
    }
   },
   "outputs": [
    {
     "data": {
      "text/plain": [
       "(1500, 2)"
      ]
     },
     "execution_count": 7,
     "metadata": {},
     "output_type": "execute_result"
    }
   ],
   "source": [
    "test.shape"
   ]
  },
  {
   "cell_type": "code",
   "execution_count": 8,
   "id": "e5d83419-d118-45f1-9560-a4c26b4232c5",
   "metadata": {
    "execution": {
     "iopub.execute_input": "2024-12-22T06:15:24.388300Z",
     "iopub.status.busy": "2024-12-22T06:15:24.388072Z",
     "iopub.status.idle": "2024-12-22T06:15:24.432416Z",
     "shell.execute_reply": "2024-12-22T06:15:24.431815Z",
     "shell.execute_reply.started": "2024-12-22T06:15:24.388280Z"
    }
   },
   "outputs": [],
   "source": [
    "train.to_csv(path_or_buf=\"train.tsv\", sep=\"\\t\", index=None)"
   ]
  },
  {
   "cell_type": "code",
   "execution_count": 9,
   "id": "3c6f12b2-4aff-4061-a636-3e98457a4062",
   "metadata": {
    "execution": {
     "iopub.execute_input": "2024-12-22T06:15:24.433316Z",
     "iopub.status.busy": "2024-12-22T06:15:24.433055Z",
     "iopub.status.idle": "2024-12-22T06:15:24.468897Z",
     "shell.execute_reply": "2024-12-22T06:15:24.468286Z",
     "shell.execute_reply.started": "2024-12-22T06:15:24.433298Z"
    }
   },
   "outputs": [],
   "source": [
    "test.to_csv(path_or_buf=\"test.tsv\", sep=\"\\t\", index=None)"
   ]
  },
  {
   "cell_type": "code",
   "execution_count": null,
   "id": "acc757bb-3512-4ebf-8052-c62b0314a191",
   "metadata": {},
   "outputs": [],
   "source": []
  }
 ],
 "metadata": {
  "kernelspec": {
   "display_name": "Python 3 (ipykernel)",
   "language": "python",
   "name": "python3"
  },
  "language_info": {
   "codemirror_mode": {
    "name": "ipython",
    "version": 3
   },
   "file_extension": ".py",
   "mimetype": "text/x-python",
   "name": "python",
   "nbconvert_exporter": "python",
   "pygments_lexer": "ipython3",
   "version": "3.10.14"
  }
 },
 "nbformat": 4,
 "nbformat_minor": 5
}
