{
 "cells": [
  {
   "cell_type": "markdown",
   "id": "c07e4229-1a87-49c8-b57e-13a688a2ae99",
   "metadata": {},
   "source": [
    "### 1. 测试安装"
   ]
  },
  {
   "cell_type": "code",
   "execution_count": 1,
   "id": "ae3c9af5-7cf8-44f3-a44b-b09e7417f411",
   "metadata": {
    "editable": true,
    "slideshow": {
     "slide_type": ""
    },
    "tags": []
   },
   "outputs": [],
   "source": [
    "import torch"
   ]
  },
  {
   "cell_type": "code",
   "execution_count": 2,
   "id": "4ea292dc-2df7-4e1d-89ae-19022cc06277",
   "metadata": {},
   "outputs": [
    {
     "data": {
      "text/plain": [
       "'2.7.0+cu128'"
      ]
     },
     "execution_count": 2,
     "metadata": {},
     "output_type": "execute_result"
    }
   ],
   "source": [
    "torch.__version__"
   ]
  },
  {
   "cell_type": "code",
   "execution_count": 3,
   "id": "01c7353e-48c7-4f4e-963b-36ea77e0e72f",
   "metadata": {},
   "outputs": [
    {
     "name": "stdout",
     "output_type": "stream",
     "text": [
      "Sun Apr 27 15:47:44 2025       \n",
      "+-----------------------------------------------------------------------------------------+\n",
      "| NVIDIA-SMI 576.02                 Driver Version: 576.02         CUDA Version: 12.9     |\n",
      "|-----------------------------------------+------------------------+----------------------+\n",
      "| GPU  Name                  Driver-Model | Bus-Id          Disp.A | Volatile Uncorr. ECC |\n",
      "| Fan  Temp   Perf          Pwr:Usage/Cap |           Memory-Usage | GPU-Util  Compute M. |\n",
      "|                                         |                        |               MIG M. |\n",
      "|=========================================+========================+======================|\n",
      "|   0  NVIDIA GeForce RTX 3080 Ti   WDDM  |   00000000:0A:00.0 Off |                  N/A |\n",
      "|  0%   43C    P8             47W /  400W |    2599MiB /  12288MiB |      0%      Default |\n",
      "|                                         |                        |                  N/A |\n",
      "+-----------------------------------------+------------------------+----------------------+\n",
      "                                                                                         \n",
      "+-----------------------------------------------------------------------------------------+\n",
      "| Processes:                                                                              |\n",
      "|  GPU   GI   CI              PID   Type   Process name                        GPU Memory |\n",
      "|        ID   ID                                                               Usage      |\n",
      "|=========================================================================================|\n",
      "|    0   N/A  N/A            2032    C+G   D:\\software\\Chatbox\\Chatbox.exe       N/A      |\n",
      "|    0   N/A  N/A            4944    C+G   ...IA app\\CEF\\NVIDIA Overlay.exe      N/A      |\n",
      "|    0   N/A  N/A            5944    C+G   ...yb3d8bbwe\\WindowsTerminal.exe      N/A      |\n",
      "|    0   N/A  N/A            6324    C+G   C:\\Windows\\explorer.exe               N/A      |\n",
      "|    0   N/A  N/A            6356    C+G   ...indows\\System32\\ShellHost.exe      N/A      |\n",
      "|    0   N/A  N/A            6644    C+G   ...ffice6\\promecefpluginhost.exe      N/A      |\n",
      "|    0   N/A  N/A            7792    C+G   ...IA app\\CEF\\NVIDIA Overlay.exe      N/A      |\n",
      "|    0   N/A  N/A            9820    C+G   ....0.3179.98\\msedgewebview2.exe      N/A      |\n",
      "|    0   N/A  N/A           10876    C+G   ..._cw5n1h2txyewy\\SearchHost.exe      N/A      |\n",
      "|    0   N/A  N/A           10900    C+G   ...y\\StartMenuExperienceHost.exe      N/A      |\n",
      "|    0   N/A  N/A           11716    C+G   ...lus\\logioptionsplus_agent.exe      N/A      |\n",
      "|    0   N/A  N/A           14420    C+G   ...oftware\\Obsidian\\Obsidian.exe      N/A      |\n",
      "|    0   N/A  N/A           15252    C+G   ...App_cw5n1h2txyewy\\LockApp.exe      N/A      |\n",
      "|    0   N/A  N/A           16284    C+G   ....0.3179.98\\msedgewebview2.exe      N/A      |\n",
      "|    0   N/A  N/A           17772    C+G   ...5n1h2txyewy\\TextInputHost.exe      N/A      |\n",
      "|    0   N/A  N/A           20084    C+G   ...al\\Programs\\Notion\\Notion.exe      N/A      |\n",
      "|    0   N/A  N/A           21160    C+G   ...ouryDevice\\asus_framework.exe      N/A      |\n",
      "|    0   N/A  N/A           21200    C+G   ...8bbwe\\PhoneExperienceHost.exe      N/A      |\n",
      "|    0   N/A  N/A           25376    C+G   ...t\\Edge\\Application\\msedge.exe      N/A      |\n",
      "|    0   N/A  N/A           29088    C+G   ...xyewy\\ShellExperienceHost.exe      N/A      |\n",
      "|    0   N/A  N/A           30560    C+G   D:\\software\\cursor\\Cursor.exe         N/A      |\n",
      "+-----------------------------------------------------------------------------------------+\n"
     ]
    }
   ],
   "source": [
    "! nvidia-smi"
   ]
  },
  {
   "cell_type": "code",
   "execution_count": 4,
   "id": "c555dd45-7aec-4f65-a181-91595d7b6e29",
   "metadata": {
    "scrolled": true
   },
   "outputs": [
    {
     "data": {
      "text/plain": [
       "True"
      ]
     },
     "execution_count": 4,
     "metadata": {},
     "output_type": "execute_result"
    }
   ],
   "source": [
    "# cuda == GPU\n",
    "torch.cuda.is_available()"
   ]
  },
  {
   "cell_type": "code",
   "execution_count": 5,
   "id": "87beba4f-a240-4e44-adf6-08b0130597d8",
   "metadata": {},
   "outputs": [
    {
     "data": {
      "text/plain": [
       "'NVIDIA GeForce RTX 3080 Ti'"
      ]
     },
     "execution_count": 5,
     "metadata": {},
     "output_type": "execute_result"
    }
   ],
   "source": [
    "torch.cuda.get_device_name()"
   ]
  },
  {
   "cell_type": "markdown",
   "id": "1a421c24-07bb-43a0-946f-c7188c887db4",
   "metadata": {},
   "source": [
    "### 2. 张量 基本计算"
   ]
  },
  {
   "cell_type": "code",
   "execution_count": 6,
   "id": "20be9896-44ef-4197-be11-e619971a409b",
   "metadata": {
    "editable": true,
    "slideshow": {
     "slide_type": ""
    },
    "tags": []
   },
   "outputs": [],
   "source": [
    "import random\n",
    "import numpy as np\n",
    "import torch"
   ]
  },
  {
   "cell_type": "code",
   "execution_count": 7,
   "id": "0b3c6acd-ddef-4a47-9d6b-b1cd8d85a015",
   "metadata": {
    "editable": true,
    "slideshow": {
     "slide_type": ""
    },
    "tags": []
   },
   "outputs": [
    {
     "name": "stdout",
     "output_type": "stream",
     "text": [
      "0.8484005514665999\n"
     ]
    }
   ],
   "source": [
    "np_score = [np.random.randint(low=0, high=101, size=(2,3)) for s in range(30)]\n",
    "# print(np_score)\n",
    "\n",
    "print(np.random.random())"
   ]
  },
  {
   "cell_type": "code",
   "execution_count": 8,
   "id": "a5f6304b-e9c3-43df-b9ac-980e15c3ab0c",
   "metadata": {
    "editable": true,
    "slideshow": {
     "slide_type": ""
    },
    "tags": []
   },
   "outputs": [],
   "source": [
    "# 生成30个0到100之间的随机整数\n",
    "scores = [random.randint(a=0, b=100) for i in range(30)]"
   ]
  },
  {
   "cell_type": "code",
   "execution_count": 9,
   "id": "8f8bf16a-332d-47f4-ab82-5beff50bb57e",
   "metadata": {
    "editable": true,
    "scrolled": true,
    "slideshow": {
     "slide_type": ""
    },
    "tags": []
   },
   "outputs": [
    {
     "data": {
      "text/plain": [
       "[78,\n",
       " 67,\n",
       " 28,\n",
       " 50,\n",
       " 54,\n",
       " 74,\n",
       " 72,\n",
       " 83,\n",
       " 13,\n",
       " 21,\n",
       " 89,\n",
       " 79,\n",
       " 44,\n",
       " 38,\n",
       " 26,\n",
       " 8,\n",
       " 87,\n",
       " 27,\n",
       " 54,\n",
       " 95,\n",
       " 88,\n",
       " 100,\n",
       " 2,\n",
       " 60,\n",
       " 30,\n",
       " 62,\n",
       " 24,\n",
       " 23,\n",
       " 77,\n",
       " 93]"
      ]
     },
     "execution_count": 9,
     "metadata": {},
     "output_type": "execute_result"
    }
   ],
   "source": [
    "scores"
   ]
  },
  {
   "cell_type": "code",
   "execution_count": 10,
   "id": "c0594467-f2b3-404f-91c1-30b9b25dda5d",
   "metadata": {
    "editable": true,
    "slideshow": {
     "slide_type": ""
    },
    "tags": []
   },
   "outputs": [],
   "source": [
    "# 转为numpy\n",
    "arr = np.array(scores)"
   ]
  },
  {
   "cell_type": "code",
   "execution_count": 11,
   "id": "b074bf69-1293-47c0-8556-26ef402075f9",
   "metadata": {
    "editable": true,
    "slideshow": {
     "slide_type": ""
    },
    "tags": []
   },
   "outputs": [
    {
     "data": {
      "text/plain": [
       "numpy.ndarray"
      ]
     },
     "execution_count": 11,
     "metadata": {},
     "output_type": "execute_result"
    }
   ],
   "source": [
    "type(arr)"
   ]
  },
  {
   "cell_type": "code",
   "execution_count": 12,
   "id": "daa06517-c489-4019-bd1c-77568abf9ad0",
   "metadata": {
    "editable": true,
    "slideshow": {
     "slide_type": ""
    },
    "tags": []
   },
   "outputs": [],
   "source": [
    "# 转为张量，也就是tensor\n",
    "t = torch.tensor(data=scores, dtype=torch.float32)"
   ]
  },
  {
   "cell_type": "code",
   "execution_count": 13,
   "id": "7d3e0a47-0a8c-4bb9-bf22-f91bca4ad7ea",
   "metadata": {
    "editable": true,
    "slideshow": {
     "slide_type": ""
    },
    "tags": []
   },
   "outputs": [
    {
     "name": "stdout",
     "output_type": "stream",
     "text": [
      "类型：<class 'torch.Tensor'>\n",
      "数据:tensor([ 78.,  67.,  28.,  50.,  54.,  74.,  72.,  83.,  13.,  21.,  89.,  79.,\n",
      "         44.,  38.,  26.,   8.,  87.,  27.,  54.,  95.,  88., 100.,   2.,  60.,\n",
      "         30.,  62.,  24.,  23.,  77.,  93.])\n"
     ]
    }
   ],
   "source": [
    "print(f'类型：{type(t)}\\n数据:{t}')"
   ]
  },
  {
   "cell_type": "code",
   "execution_count": 14,
   "id": "5f709e5f-4108-4eb4-8736-9dbec255969b",
   "metadata": {
    "editable": true,
    "slideshow": {
     "slide_type": ""
    },
    "tags": []
   },
   "outputs": [
    {
     "name": "stdout",
     "output_type": "stream",
     "text": [
      "类型：<class 'numpy.ndarray'>\n",
      "数据:[ 78  67  28  50  54  74  72  83  13  21  89  79  44  38  26   8  87  27\n",
      "  54  95  88 100   2  60  30  62  24  23  77  93]\n"
     ]
    }
   ],
   "source": [
    "print(f'类型：{type(arr)}\\n数据:{arr}')"
   ]
  },
  {
   "cell_type": "code",
   "execution_count": 15,
   "id": "58f180f2-1850-4929-aeef-303081fea461",
   "metadata": {
    "editable": true,
    "scrolled": true,
    "slideshow": {
     "slide_type": ""
    },
    "tags": []
   },
   "outputs": [
    {
     "name": "stdout",
     "output_type": "stream",
     "text": [
      "类型：<class 'list'>\n",
      "数据:[78, 67, 28, 50, 54, 74, 72, 83, 13, 21, 89, 79, 44, 38, 26, 8, 87, 27, 54, 95, 88, 100, 2, 60, 30, 62, 24, 23, 77, 93]\n"
     ]
    }
   ],
   "source": [
    "print(f'类型：{type(scores)}\\n数据:{scores}')"
   ]
  },
  {
   "cell_type": "code",
   "execution_count": 16,
   "id": "a1ef5981-5d88-4862-9983-3d41cd60bf11",
   "metadata": {
    "editable": true,
    "slideshow": {
     "slide_type": ""
    },
    "tags": []
   },
   "outputs": [
    {
     "data": {
      "text/plain": [
       "np.int64(2)"
      ]
     },
     "execution_count": 16,
     "metadata": {},
     "output_type": "execute_result"
    }
   ],
   "source": [
    "arr.min()"
   ]
  },
  {
   "cell_type": "code",
   "execution_count": 17,
   "id": "5ffd28e1-8d7a-4735-a583-4e87a9fc0154",
   "metadata": {
    "editable": true,
    "slideshow": {
     "slide_type": ""
    },
    "tags": []
   },
   "outputs": [
    {
     "data": {
      "text/plain": [
       "tensor(2.)"
      ]
     },
     "execution_count": 17,
     "metadata": {},
     "output_type": "execute_result"
    }
   ],
   "source": [
    "t.min()"
   ]
  },
  {
   "cell_type": "code",
   "execution_count": 18,
   "id": "45dcddc7-b575-479c-b543-ffe42fea817d",
   "metadata": {
    "editable": true,
    "slideshow": {
     "slide_type": ""
    },
    "tags": []
   },
   "outputs": [
    {
     "data": {
      "text/plain": [
       "np.int64(100)"
      ]
     },
     "execution_count": 18,
     "metadata": {},
     "output_type": "execute_result"
    }
   ],
   "source": [
    "arr.max()"
   ]
  },
  {
   "cell_type": "code",
   "execution_count": 19,
   "id": "8a3ab74e-d137-4a57-9605-1d9a11fbeb7d",
   "metadata": {
    "editable": true,
    "slideshow": {
     "slide_type": ""
    },
    "tags": []
   },
   "outputs": [
    {
     "data": {
      "text/plain": [
       "tensor(100.)"
      ]
     },
     "execution_count": 19,
     "metadata": {},
     "output_type": "execute_result"
    }
   ],
   "source": [
    "t.max()"
   ]
  },
  {
   "cell_type": "code",
   "execution_count": 20,
   "id": "9b6b267f-91f7-44e1-ae43-1072bb742bec",
   "metadata": {
    "editable": true,
    "slideshow": {
     "slide_type": ""
    },
    "tags": []
   },
   "outputs": [
    {
     "data": {
      "text/plain": [
       "np.float64(54.86666666666667)"
      ]
     },
     "execution_count": 20,
     "metadata": {},
     "output_type": "execute_result"
    }
   ],
   "source": [
    "arr.mean()"
   ]
  },
  {
   "cell_type": "code",
   "execution_count": 21,
   "id": "efb25f26-3784-45ae-b2cc-b435997fb5f0",
   "metadata": {
    "editable": true,
    "slideshow": {
     "slide_type": ""
    },
    "tags": []
   },
   "outputs": [
    {
     "data": {
      "text/plain": [
       "tensor(54.8667)"
      ]
     },
     "execution_count": 21,
     "metadata": {},
     "output_type": "execute_result"
    }
   ],
   "source": [
    "t.mean()"
   ]
  },
  {
   "cell_type": "code",
   "execution_count": 22,
   "id": "656e5175-c03a-46c9-b0d4-7349b01d765c",
   "metadata": {
    "editable": true,
    "slideshow": {
     "slide_type": ""
    },
    "tags": []
   },
   "outputs": [
    {
     "data": {
      "text/plain": [
       "np.int64(1646)"
      ]
     },
     "execution_count": 22,
     "metadata": {},
     "output_type": "execute_result"
    }
   ],
   "source": [
    "arr.sum()"
   ]
  },
  {
   "cell_type": "code",
   "execution_count": 23,
   "id": "73e9390f-4177-492c-ac8a-08c65e6d0587",
   "metadata": {
    "editable": true,
    "slideshow": {
     "slide_type": ""
    },
    "tags": []
   },
   "outputs": [
    {
     "data": {
      "text/plain": [
       "tensor(1646.)"
      ]
     },
     "execution_count": 23,
     "metadata": {},
     "output_type": "execute_result"
    }
   ],
   "source": [
    "t.sum()"
   ]
  },
  {
   "cell_type": "code",
   "execution_count": 24,
   "id": "45283ccf-404a-4561-aeeb-98fa041610d0",
   "metadata": {
    "editable": true,
    "slideshow": {
     "slide_type": ""
    },
    "tags": []
   },
   "outputs": [
    {
     "name": "stdout",
     "output_type": "stream",
     "text": [
      "830.5822222222222\n",
      "859.2229885057471\n"
     ]
    }
   ],
   "source": [
    "# NumPy 方差 默认求的是 样本方差\n",
    "print(arr.var())\n",
    "# NumPy 求 总体方差\n",
    "print(arr.var(ddof=1))"
   ]
  },
  {
   "cell_type": "code",
   "execution_count": 25,
   "id": "0991df42-31a5-4525-add3-ce07411f4e29",
   "metadata": {
    "editable": true,
    "slideshow": {
     "slide_type": ""
    },
    "tags": []
   },
   "outputs": [
    {
     "name": "stdout",
     "output_type": "stream",
     "text": [
      "tensor(859.2230)\n",
      "tensor(830.5822)\n"
     ]
    }
   ],
   "source": [
    "# PyTorch 方差 默认求的是 总体方差\n",
    "print(t.var())\n",
    "# PyTorch 求 样本方差\n",
    "print(t.var(correction=0))"
   ]
  },
  {
   "cell_type": "code",
   "execution_count": 26,
   "id": "a3dfa981-3996-493c-9852-d84d8054cdc6",
   "metadata": {
    "editable": true,
    "slideshow": {
     "slide_type": ""
    },
    "tags": []
   },
   "outputs": [
    {
     "data": {
      "text/plain": [
       "30"
      ]
     },
     "execution_count": 26,
     "metadata": {},
     "output_type": "execute_result"
    }
   ],
   "source": [
    "# 元素数量\n",
    "arr.size"
   ]
  },
  {
   "cell_type": "code",
   "execution_count": 27,
   "id": "2ab8aeb2-8dd1-45e0-8f31-29b8d708e7b4",
   "metadata": {
    "editable": true,
    "slideshow": {
     "slide_type": ""
    },
    "tags": []
   },
   "outputs": [
    {
     "data": {
      "text/plain": [
       "30"
      ]
     },
     "execution_count": 27,
     "metadata": {},
     "output_type": "execute_result"
    }
   ],
   "source": [
    "# 元素数量\n",
    "t.numel()"
   ]
  },
  {
   "cell_type": "code",
   "execution_count": 28,
   "id": "f2735111-b4ca-4d32-ace4-4d00ce0bc2ea",
   "metadata": {
    "editable": true,
    "slideshow": {
     "slide_type": ""
    },
    "tags": []
   },
   "outputs": [
    {
     "data": {
      "text/plain": [
       "1"
      ]
     },
     "execution_count": 28,
     "metadata": {},
     "output_type": "execute_result"
    }
   ],
   "source": [
    "# 查看维度\n",
    "arr.ndim"
   ]
  },
  {
   "cell_type": "code",
   "execution_count": 29,
   "id": "5cba4f88-b582-4a40-b16d-88e67c2a7f1e",
   "metadata": {
    "editable": true,
    "slideshow": {
     "slide_type": ""
    },
    "tags": []
   },
   "outputs": [
    {
     "data": {
      "text/plain": [
       "1"
      ]
     },
     "execution_count": 29,
     "metadata": {},
     "output_type": "execute_result"
    }
   ],
   "source": [
    "# 查看维度\n",
    "t.ndim"
   ]
  },
  {
   "cell_type": "code",
   "execution_count": 30,
   "id": "92177cab-3f84-4d0c-ab6a-2a52d4fcd300",
   "metadata": {
    "editable": true,
    "slideshow": {
     "slide_type": ""
    },
    "tags": []
   },
   "outputs": [
    {
     "data": {
      "text/plain": [
       "array([[ 0,  1,  2,  3],\n",
       "       [ 4,  5,  6,  7],\n",
       "       [ 8,  9, 10, 11]])"
      ]
     },
     "execution_count": 30,
     "metadata": {},
     "output_type": "execute_result"
    }
   ],
   "source": [
    "np.arange(12).reshape(3, 4)"
   ]
  },
  {
   "cell_type": "code",
   "execution_count": 31,
   "id": "0cc37c38-b112-493a-922b-633455458026",
   "metadata": {},
   "outputs": [
    {
     "data": {
      "text/plain": [
       "tensor([[ 0,  1,  2,  3],\n",
       "        [ 4,  5,  6,  7],\n",
       "        [ 8,  9, 10, 11]])"
      ]
     },
     "execution_count": 31,
     "metadata": {},
     "output_type": "execute_result"
    }
   ],
   "source": [
    "torch.arange(12).reshape(3, 4)"
   ]
  },
  {
   "cell_type": "code",
   "execution_count": 32,
   "id": "3fd67f56-588c-4570-883e-7b41cc3e26c9",
   "metadata": {},
   "outputs": [
    {
     "data": {
      "text/plain": [
       "array([[1., 1., 1.],\n",
       "       [1., 1., 1.]])"
      ]
     },
     "execution_count": 32,
     "metadata": {},
     "output_type": "execute_result"
    }
   ],
   "source": [
    "np.ones(shape=(2, 3))"
   ]
  },
  {
   "cell_type": "code",
   "execution_count": 33,
   "id": "ed9b8aae-9080-47b8-bd34-60b95bbdc95b",
   "metadata": {},
   "outputs": [
    {
     "data": {
      "text/plain": [
       "tensor([[1., 1., 1.],\n",
       "        [1., 1., 1.]])"
      ]
     },
     "execution_count": 33,
     "metadata": {},
     "output_type": "execute_result"
    }
   ],
   "source": [
    "torch.ones(2, 3)"
   ]
  },
  {
   "cell_type": "code",
   "execution_count": 34,
   "id": "52192b14-b688-4772-a683-6b085bdd94e4",
   "metadata": {},
   "outputs": [
    {
     "data": {
      "text/plain": [
       "np.float64(339.45250035903405)"
      ]
     },
     "execution_count": 34,
     "metadata": {},
     "output_type": "execute_result"
    }
   ],
   "source": [
    "np.linalg.norm(arr)"
   ]
  },
  {
   "cell_type": "code",
   "execution_count": 35,
   "id": "a097ea1c-3be0-428d-9d77-5d44ada604d1",
   "metadata": {},
   "outputs": [
    {
     "data": {
      "text/plain": [
       "tensor(339.4525)"
      ]
     },
     "execution_count": 35,
     "metadata": {},
     "output_type": "execute_result"
    }
   ],
   "source": [
    "torch.linalg.norm(t)"
   ]
  },
  {
   "cell_type": "code",
   "execution_count": 36,
   "id": "d42c62b0-23d3-4906-be37-d96e6a0edd0f",
   "metadata": {
    "scrolled": true
   },
   "outputs": [
    {
     "data": {
      "text/plain": [
       "array([-5.        , -4.8989899 , -4.7979798 , -4.6969697 , -4.5959596 ,\n",
       "       -4.49494949, -4.39393939, -4.29292929, -4.19191919, -4.09090909,\n",
       "       -3.98989899, -3.88888889, -3.78787879, -3.68686869, -3.58585859,\n",
       "       -3.48484848, -3.38383838, -3.28282828, -3.18181818, -3.08080808,\n",
       "       -2.97979798, -2.87878788, -2.77777778, -2.67676768, -2.57575758,\n",
       "       -2.47474747, -2.37373737, -2.27272727, -2.17171717, -2.07070707,\n",
       "       -1.96969697, -1.86868687, -1.76767677, -1.66666667, -1.56565657,\n",
       "       -1.46464646, -1.36363636, -1.26262626, -1.16161616, -1.06060606,\n",
       "       -0.95959596, -0.85858586, -0.75757576, -0.65656566, -0.55555556,\n",
       "       -0.45454545, -0.35353535, -0.25252525, -0.15151515, -0.05050505,\n",
       "        0.05050505,  0.15151515,  0.25252525,  0.35353535,  0.45454545,\n",
       "        0.55555556,  0.65656566,  0.75757576,  0.85858586,  0.95959596,\n",
       "        1.06060606,  1.16161616,  1.26262626,  1.36363636,  1.46464646,\n",
       "        1.56565657,  1.66666667,  1.76767677,  1.86868687,  1.96969697,\n",
       "        2.07070707,  2.17171717,  2.27272727,  2.37373737,  2.47474747,\n",
       "        2.57575758,  2.67676768,  2.77777778,  2.87878788,  2.97979798,\n",
       "        3.08080808,  3.18181818,  3.28282828,  3.38383838,  3.48484848,\n",
       "        3.58585859,  3.68686869,  3.78787879,  3.88888889,  3.98989899,\n",
       "        4.09090909,  4.19191919,  4.29292929,  4.39393939,  4.49494949,\n",
       "        4.5959596 ,  4.6969697 ,  4.7979798 ,  4.8989899 ,  5.        ])"
      ]
     },
     "execution_count": 36,
     "metadata": {},
     "output_type": "execute_result"
    }
   ],
   "source": [
    "np.linspace(start=-5, stop=5, num=100)"
   ]
  },
  {
   "cell_type": "code",
   "execution_count": 37,
   "id": "ddcf5f4e-3577-4744-8cbd-bbcaf962d8c4",
   "metadata": {
    "scrolled": true
   },
   "outputs": [
    {
     "data": {
      "text/plain": [
       "tensor([-5.0000, -4.8990, -4.7980, -4.6970, -4.5960, -4.4949, -4.3939, -4.2929,\n",
       "        -4.1919, -4.0909, -3.9899, -3.8889, -3.7879, -3.6869, -3.5859, -3.4848,\n",
       "        -3.3838, -3.2828, -3.1818, -3.0808, -2.9798, -2.8788, -2.7778, -2.6768,\n",
       "        -2.5758, -2.4747, -2.3737, -2.2727, -2.1717, -2.0707, -1.9697, -1.8687,\n",
       "        -1.7677, -1.6667, -1.5657, -1.4646, -1.3636, -1.2626, -1.1616, -1.0606,\n",
       "        -0.9596, -0.8586, -0.7576, -0.6566, -0.5556, -0.4545, -0.3535, -0.2525,\n",
       "        -0.1515, -0.0505,  0.0505,  0.1515,  0.2525,  0.3535,  0.4545,  0.5556,\n",
       "         0.6566,  0.7576,  0.8586,  0.9596,  1.0606,  1.1616,  1.2626,  1.3636,\n",
       "         1.4646,  1.5657,  1.6667,  1.7677,  1.8687,  1.9697,  2.0707,  2.1717,\n",
       "         2.2727,  2.3737,  2.4747,  2.5758,  2.6768,  2.7778,  2.8788,  2.9798,\n",
       "         3.0808,  3.1818,  3.2828,  3.3838,  3.4848,  3.5859,  3.6869,  3.7879,\n",
       "         3.8889,  3.9899,  4.0909,  4.1919,  4.2929,  4.3939,  4.4949,  4.5960,\n",
       "         4.6970,  4.7980,  4.8990,  5.0000])"
      ]
     },
     "execution_count": 37,
     "metadata": {},
     "output_type": "execute_result"
    }
   ],
   "source": [
    "torch.linspace(start=-5, end=5, steps=100)"
   ]
  },
  {
   "cell_type": "markdown",
   "id": "8ff15814-52d4-4641-b415-7151ac220a61",
   "metadata": {},
   "source": [
    "### 3. GPU的使用"
   ]
  },
  {
   "cell_type": "code",
   "execution_count": 38,
   "id": "77e486e9-71b9-4b18-b1df-e645479995cb",
   "metadata": {},
   "outputs": [],
   "source": [
    "device = \"cuda\" if torch.cuda.is_available() else \"cpu\""
   ]
  },
  {
   "cell_type": "code",
   "execution_count": 39,
   "id": "125d03c5-b203-4c8e-90c4-975ca3b8be5e",
   "metadata": {},
   "outputs": [
    {
     "data": {
      "text/plain": [
       "'cuda'"
      ]
     },
     "execution_count": 39,
     "metadata": {},
     "output_type": "execute_result"
    }
   ],
   "source": [
    "device"
   ]
  },
  {
   "cell_type": "code",
   "execution_count": 40,
   "id": "fc70c263-0513-4cb6-ba31-35423152beab",
   "metadata": {},
   "outputs": [],
   "source": [
    "# 此时使用的是CPU，而不是cuda\n",
    "t1 = torch.randn(2, 3)"
   ]
  },
  {
   "cell_type": "code",
   "execution_count": 41,
   "id": "ce0037a1-315e-4adc-83ad-57f2ca0cf505",
   "metadata": {},
   "outputs": [],
   "source": [
    "# 若想使用cuda的话可以这么写\n",
    "t2 = torch.randn(2, 3, device=device)"
   ]
  },
  {
   "cell_type": "code",
   "execution_count": 42,
   "id": "43387997-98c8-4b71-8663-28bf56a07be1",
   "metadata": {},
   "outputs": [
    {
     "data": {
      "text/plain": [
       "tensor([[ 1.9038, -0.0402, -0.5958],\n",
       "        [-0.5826,  0.5806,  0.4772]])"
      ]
     },
     "execution_count": 42,
     "metadata": {},
     "output_type": "execute_result"
    }
   ],
   "source": [
    "t1"
   ]
  },
  {
   "cell_type": "code",
   "execution_count": 43,
   "id": "6ea6b44d-a622-4058-b884-3a3bd57ed991",
   "metadata": {},
   "outputs": [
    {
     "data": {
      "text/plain": [
       "tensor([[ 0.3096,  1.9067,  0.9746],\n",
       "        [-0.5728,  0.1495, -1.0826]], device='cuda:0')"
      ]
     },
     "execution_count": 43,
     "metadata": {},
     "output_type": "execute_result"
    }
   ],
   "source": [
    "t2"
   ]
  },
  {
   "cell_type": "code",
   "execution_count": 44,
   "id": "114335d2-c750-4170-b025-c47e2eddb06e",
   "metadata": {},
   "outputs": [],
   "source": [
    "# 如果想做计算， 计算所需的数据必须放在同一个设备中，下面这种就由于数据不在一处所以无法运算\n",
    "# t1 + t2"
   ]
  },
  {
   "cell_type": "code",
   "execution_count": 45,
   "id": "ab9a7e84-9baa-4ef5-8d53-48b0d9d9922a",
   "metadata": {},
   "outputs": [
    {
     "data": {
      "text/plain": [
       "tensor([[ 2.2133,  1.8664,  0.3789],\n",
       "        [-1.1554,  0.7301, -0.6054]], device='cuda:0')"
      ]
     },
     "execution_count": 45,
     "metadata": {},
     "output_type": "execute_result"
    }
   ],
   "source": [
    "# 把t1放到cuda里再进行运算\n",
    "t1.to(device=device) + t2"
   ]
  },
  {
   "cell_type": "code",
   "execution_count": 46,
   "id": "2c51051a-05c6-4011-b5bb-866ffee6b598",
   "metadata": {},
   "outputs": [
    {
     "data": {
      "text/plain": [
       "tensor([[ 2.2133,  1.8664,  0.3789],\n",
       "        [-1.1554,  0.7301, -0.6054]])"
      ]
     },
     "execution_count": 46,
     "metadata": {},
     "output_type": "execute_result"
    }
   ],
   "source": [
    "# 把t2放到cpu里再进行运算\n",
    "t2.cpu() + t1"
   ]
  },
  {
   "cell_type": "code",
   "execution_count": 47,
   "id": "e1d4b0df-f4e6-45dd-b67a-9b593cbb4398",
   "metadata": {},
   "outputs": [
    {
     "data": {
      "text/plain": [
       "tensor([[ 2.2133,  1.8664,  0.3789],\n",
       "        [-1.1554,  0.7301, -0.6054]], device='cuda:0')"
      ]
     },
     "execution_count": 47,
     "metadata": {},
     "output_type": "execute_result"
    }
   ],
   "source": [
    "# 也可以这样把数据放到cuda里，但要确保设备上一定有显卡，所以这种方式有风险\n",
    "t1.cuda() + t2"
   ]
  },
  {
   "cell_type": "markdown",
   "id": "e5c0bf7a-0800-4c74-9ae4-183d73904507",
   "metadata": {},
   "source": [
    "### 4. 【重点】自动求导"
   ]
  },
  {
   "cell_type": "markdown",
   "id": "007860c8-a902-45fa-8b2a-936663a344a0",
   "metadata": {},
   "source": [
    "$ y = x^2$"
   ]
  },
  {
   "cell_type": "code",
   "execution_count": 48,
   "id": "4319411e-af01-48c3-93b0-d1c60809214d",
   "metadata": {},
   "outputs": [],
   "source": [
    "def fn(x):\n",
    "    \"\"\"\n",
    "        原函数\n",
    "    \"\"\"\n",
    "    return x ** 2"
   ]
  },
  {
   "cell_type": "code",
   "execution_count": 49,
   "id": "cfc33ff6-ae12-4b8f-b378-89d22b25c219",
   "metadata": {},
   "outputs": [],
   "source": [
    "def dfn(x):\n",
    "    \"\"\"\n",
    "        导函数\n",
    "    \"\"\"\n",
    "    return 2 * x"
   ]
  },
  {
   "cell_type": "code",
   "execution_count": 50,
   "id": "0f50b911-4041-4f1c-a5bb-bb49ec3b918b",
   "metadata": {},
   "outputs": [],
   "source": [
    "# x1数学意义上是个常量\n",
    "x1 = torch.randn(1)"
   ]
  },
  {
   "cell_type": "code",
   "execution_count": 51,
   "id": "14a8fcd3-4d1c-4c4a-9cdc-af8ee0743e6d",
   "metadata": {},
   "outputs": [
    {
     "data": {
      "text/plain": [
       "tensor([0.1014])"
      ]
     },
     "execution_count": 51,
     "metadata": {},
     "output_type": "execute_result"
    }
   ],
   "source": [
    "x1"
   ]
  },
  {
   "cell_type": "code",
   "execution_count": 52,
   "id": "65d78ba9-b3af-4987-a368-a379a2450c9f",
   "metadata": {},
   "outputs": [],
   "source": [
    "# x2数学数学意义上是个变量，把一个常量变成变量的方法就是加上requires_grad=True\n",
    "# 然后打印出来的话，前面有个数，后面显示requires_grad=True； 这时前面的数字是该变量的 当前值\n",
    "x2 = torch.randn(1, requires_grad=True)"
   ]
  },
  {
   "cell_type": "code",
   "execution_count": 53,
   "id": "fa976568-2fc8-4081-bf46-210598619233",
   "metadata": {},
   "outputs": [
    {
     "data": {
      "text/plain": [
       "tensor([1.8850], requires_grad=True)"
      ]
     },
     "execution_count": 53,
     "metadata": {},
     "output_type": "execute_result"
    }
   ],
   "source": [
    "x2"
   ]
  },
  {
   "cell_type": "code",
   "execution_count": 54,
   "id": "67363891-bcd0-4cde-bfc5-daea16042bff",
   "metadata": {},
   "outputs": [
    {
     "name": "stdout",
     "output_type": "stream",
     "text": [
      "x2的当前值是：tensor([1.8850])， x2的梯度值是：None\n"
     ]
    }
   ],
   "source": [
    "# 所以一个变量的当前值 和 一个变量的梯度值如下\n",
    "# 梯度值也就是它的导数值，现在还没求导所以梯度为空，求完导就有值了\n",
    "print(f'x2的当前值是：{x2.data}， x2的梯度值是：{x2.grad}')"
   ]
  },
  {
   "cell_type": "code",
   "execution_count": 55,
   "id": "ac5aff47-648a-448b-8891-735f156c6827",
   "metadata": {},
   "outputs": [],
   "source": [
    "# x2是自变量，在上面已经被标记为需要求导；那么y是因变量\n",
    "y = x2 ** 2"
   ]
  },
  {
   "cell_type": "code",
   "execution_count": 56,
   "id": "5fba9da9-52b3-4f1c-8d6e-e6204a810bdd",
   "metadata": {},
   "outputs": [
    {
     "data": {
      "text/plain": [
       "tensor([3.5530], grad_fn=<PowBackward0>)"
      ]
     },
     "execution_count": 56,
     "metadata": {},
     "output_type": "execute_result"
    }
   ],
   "source": [
    "# 下面输出有grad_fn 意思是它是因变量\n",
    "# 并且告诉了我们： 该因变量是由怎样的计算得来的，此处的例子是PowBackward0->意识是通过幂运算得来的\n",
    "y"
   ]
  },
  {
   "cell_type": "code",
   "execution_count": 57,
   "id": "e388bb53-0b1c-4155-a6ba-511ed5a187ee",
   "metadata": {},
   "outputs": [],
   "source": [
    "# 求导\n",
    "y.backward()"
   ]
  },
  {
   "cell_type": "code",
   "execution_count": 58,
   "id": "d94c022c-ad9a-477f-8b6b-c0b149a99097",
   "metadata": {},
   "outputs": [
    {
     "data": {
      "text/plain": [
       "tensor([3.7699])"
      ]
     },
     "execution_count": 58,
     "metadata": {},
     "output_type": "execute_result"
    }
   ],
   "source": [
    "# 求导后梯度就不再是None了\n",
    "# 梯度，这里的机制：梯度会累加，所以如果需要清空就用下面的函数\n",
    "x2.grad"
   ]
  },
  {
   "cell_type": "code",
   "execution_count": 59,
   "id": "cc389f1d-90b0-49a8-89a1-243730fe2d4a",
   "metadata": {},
   "outputs": [
    {
     "data": {
      "text/plain": [
       "tensor([0.])"
      ]
     },
     "execution_count": 59,
     "metadata": {},
     "output_type": "execute_result"
    }
   ],
   "source": [
    "# 清空梯度\n",
    "x2.grad.zero_()"
   ]
  },
  {
   "cell_type": "code",
   "execution_count": 60,
   "id": "5de3f977-718e-4990-a17e-075b9a58b6c7",
   "metadata": {},
   "outputs": [
    {
     "data": {
      "text/plain": [
       "tensor([0.])"
      ]
     },
     "execution_count": 60,
     "metadata": {},
     "output_type": "execute_result"
    }
   ],
   "source": [
    "x2.grad"
   ]
  },
  {
   "cell_type": "code",
   "execution_count": null,
   "id": "3a6ae17e-86ff-4a79-b76d-e3a9fca566f7",
   "metadata": {},
   "outputs": [],
   "source": []
  },
  {
   "cell_type": "code",
   "execution_count": null,
   "id": "7078e15d-0bae-47ea-ac80-6ef81ab5492b",
   "metadata": {},
   "outputs": [],
   "source": []
  },
  {
   "cell_type": "code",
   "execution_count": 61,
   "id": "0b332c2a-612a-480f-b2d6-ad7b059e9a38",
   "metadata": {},
   "outputs": [
    {
     "name": "stdout",
     "output_type": "stream",
     "text": [
      "tensor([-9.0146, -3.9253], grad_fn=<DivBackward0>)\n"
     ]
    }
   ],
   "source": [
    "x3 = torch.randn(2, requires_grad=True)\n",
    "y = x3 ** 3 / 2\n",
    "print(y)"
   ]
  },
  {
   "cell_type": "code",
   "execution_count": null,
   "id": "1fe8c15f-c157-4af6-a9ae-c4f6b36a2459",
   "metadata": {},
   "outputs": [],
   "source": []
  },
  {
   "cell_type": "code",
   "execution_count": null,
   "id": "cac07ccf-1df7-4d31-8c34-471434438468",
   "metadata": {},
   "outputs": [],
   "source": []
  },
  {
   "cell_type": "code",
   "execution_count": null,
   "id": "d8143f30-f7f2-440c-bb8c-d311d499fce4",
   "metadata": {},
   "outputs": [],
   "source": []
  },
  {
   "cell_type": "code",
   "execution_count": null,
   "id": "52d19585-5e1f-482c-b7a4-0be4a4110d51",
   "metadata": {},
   "outputs": [],
   "source": []
  },
  {
   "cell_type": "markdown",
   "id": "2c5de0e2-8edf-4465-80c1-491c8409f6b3",
   "metadata": {},
   "source": [
    "### 5. 使用PyTorch的自动求导实现梯度下降法"
   ]
  },
  {
   "cell_type": "code",
   "execution_count": 62,
   "id": "1ffb723c-b1c3-4515-8fa7-5fa0e027c2e2",
   "metadata": {},
   "outputs": [],
   "source": [
    "def model(x):\n",
    "    \"\"\"\n",
    "        定义 x ** 2的处理逻辑\n",
    "    \"\"\"\n",
    "    return x ** 2\n",
    "    \n",
    "steps = 10000\n",
    "# 1e-2 等于 ($1 \\times 10^{-2}$)，即 0.01\n",
    "learning_rate = 1e-3"
   ]
  },
  {
   "cell_type": "code",
   "execution_count": 63,
   "id": "b7e73a03-c4d9-4309-9b64-bd5a10c7a31d",
   "metadata": {},
   "outputs": [],
   "source": [
    "# rough start is the best start!\n",
    "# 随机生成一个数学意义上的 变量\n",
    "x = torch.randint(low=-1000, high=1001, size=(1,), dtype=torch.float32, requires_grad=True)"
   ]
  },
  {
   "cell_type": "code",
   "execution_count": 64,
   "id": "ca761d3e-da82-4b96-89e9-020f6aa64204",
   "metadata": {},
   "outputs": [
    {
     "name": "stdout",
     "output_type": "stream",
     "text": [
      "x的初始值为：tensor([-506.], requires_grad=True)\n",
      "x最终值为：tensor([-1.0223e-06], requires_grad=True)\n"
     ]
    }
   ],
   "source": [
    "print(f'x的初始值为：{x}')\n",
    "for step in range(steps):\n",
    "    # 1, 做反向传播的前提是，先做正向传播. 所以先正向传播，正向计算\n",
    "    y = model(x)\n",
    "    # 2, 反向传播，求y对x的偏导数\n",
    "    y.backward()\n",
    "    # 3, 梯度下降，经过第二步后grad有值了。梯度下降法： 当前值 = 当前值 - 梯度值*学习率\n",
    "    x.data -= learning_rate * x.grad\n",
    "    # 4, 清空梯度\n",
    "    x.grad.zero_()\n",
    "    # print(f\"优化了{step+1}步，x为：{x.data}\")\n",
    "print(f\"x最终值为：{x}\")"
   ]
  },
  {
   "cell_type": "code",
   "execution_count": null,
   "id": "bd41c4fd-495b-4d46-96ca-97b26edcb775",
   "metadata": {},
   "outputs": [],
   "source": []
  }
 ],
 "metadata": {
  "kernelspec": {
   "display_name": "Python(py311)",
   "language": "python",
   "name": "py311"
  },
  "language_info": {
   "codemirror_mode": {
    "name": "ipython",
    "version": 3
   },
   "file_extension": ".py",
   "mimetype": "text/x-python",
   "name": "python",
   "nbconvert_exporter": "python",
   "pygments_lexer": "ipython3",
   "version": "3.11.11"
  }
 },
 "nbformat": 4,
 "nbformat_minor": 5
}
