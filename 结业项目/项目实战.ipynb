{
 "cells": [
  {
   "cell_type": "markdown",
   "id": "408f8b95-5c8f-42af-8ccd-2fa49bed3d38",
   "metadata": {},
   "source": [
    "### 1. 读取数据"
   ]
  },
  {
   "cell_type": "code",
   "execution_count": 1,
   "id": "780f3bd2-e84a-4066-823d-d7747574954f",
   "metadata": {},
   "outputs": [],
   "source": [
    "# pandas 适合表格类数据读取\n",
    "import pandas as pd\n",
    "import numpy as np"
   ]
  },
  {
   "cell_type": "code",
   "execution_count": 2,
   "id": "c76b3fbf-3b88-49e7-be16-68cde2990704",
   "metadata": {
    "ExecutionIndicator": {
     "show": true
    },
    "tags": []
   },
   "outputs": [],
   "source": [
    "# sep: 分隔符\n",
    "data = pd.read_csv(filepath_or_buffer=\"samples.tsv\", sep=\"\\t\").to_numpy()"
   ]
  },
  {
   "cell_type": "code",
   "execution_count": 3,
   "id": "ffa3dacb-7e7c-40ef-8c65-169ef8a54593",
   "metadata": {},
   "outputs": [],
   "source": [
    "# 打乱样本顺序\n",
    "np.random.shuffle(data)"
   ]
  },
  {
   "cell_type": "markdown",
   "id": "2b6c7c63-3663-4eef-b8e8-10788887555a",
   "metadata": {
    "ExecutionIndicator": {
     "show": false
    },
    "execution": {
     "iopub.execute_input": "2024-11-16T07:23:48.487629Z",
     "iopub.status.busy": "2024-11-16T07:23:48.487293Z",
     "iopub.status.idle": "2024-11-16T07:23:48.490964Z",
     "shell.execute_reply": "2024-11-16T07:23:48.490493Z",
     "shell.execute_reply.started": "2024-11-16T07:23:48.487609Z"
    },
    "tags": []
   },
   "source": [
    "### 2. 打包数据"
   ]
  },
  {
   "cell_type": "code",
   "execution_count": 4,
   "id": "75de73e2-384a-476b-ba3f-3f2973fbc9d4",
   "metadata": {
    "ExecutionIndicator": {
     "show": true
    },
    "tags": []
   },
   "outputs": [],
   "source": [
    "# 深度学习框架\n",
    "import torch\n",
    "# 深度学习中的封装层\n",
    "from torch import nn\n",
    "# 引入数据集\n",
    "from torch.utils.data import Dataset\n",
    "# 引入数据集加载器\n",
    "from torch.utils.data import DataLoader"
   ]
  },
  {
   "cell_type": "code",
   "execution_count": 5,
   "id": "4732b378-6dde-4047-a287-3f1e76e957d0",
   "metadata": {
    "ExecutionIndicator": {
     "show": true
    },
    "tags": []
   },
   "outputs": [],
   "source": [
    "class SentiDataset(Dataset):\n",
    "    \"\"\"\n",
    "        自定义数据集\n",
    "    \"\"\"\n",
    "    def __init__(self, data):\n",
    "        \"\"\"\n",
    "            初始化\n",
    "        \"\"\"\n",
    "        self.data = data\n",
    "    \n",
    "    def __getitem__(self, idx):\n",
    "        \"\"\"\n",
    "            按索引获取单个样本\n",
    "        \"\"\"\n",
    "        x, y = self.data[idx]\n",
    "        return x, y\n",
    "    \n",
    "    def __len__(self):\n",
    "        \"\"\"\n",
    "            返回数据集中的样本个数\n",
    "        \"\"\"\n",
    "        return len(self.data)"
   ]
  },
  {
   "cell_type": "code",
   "execution_count": 6,
   "id": "6d0f5fbf-058b-4ccf-91b6-8970ae5c2db8",
   "metadata": {
    "ExecutionIndicator": {
     "show": true
    },
    "tags": []
   },
   "outputs": [],
   "source": [
    "# 训练集（前4500个作为训练集）\n",
    "train_dataset = SentiDataset(data=data[:4500])\n",
    "train_dataloader = DataLoader(dataset=train_dataset, shuffle=True, batch_size=32)\n",
    "# 测试集（4500之后的作为测试集）\n",
    "test_dataset = SentiDataset(data=data[4500:])\n",
    "test_dataloader = DataLoader(dataset=test_dataset, shuffle=False, batch_size=32)"
   ]
  },
  {
   "cell_type": "code",
   "execution_count": 7,
   "id": "477dec9f-9bf0-4fd0-980d-5170a6f5c937",
   "metadata": {
    "ExecutionIndicator": {
     "show": true
    },
    "tags": []
   },
   "outputs": [],
   "source": [
    "for x, y in train_dataloader:\n",
    "    \n",
    "    # print(x)\n",
    "    # print(y)\n",
    "    break"
   ]
  },
  {
   "cell_type": "markdown",
   "id": "86797d71-50e5-463a-bec4-81c18469f301",
   "metadata": {},
   "source": [
    "### 3. 构建模型"
   ]
  },
  {
   "cell_type": "code",
   "execution_count": 8,
   "id": "11b7777b-f491-4053-93f2-5e79c1a0aaef",
   "metadata": {},
   "outputs": [],
   "source": [
    "# 用于加载 BERT 分词器\n",
    "from transformers import BertTokenizer\n",
    "# 用于加载 BERT 序列分类器\n",
    "from transformers import BertForSequenceClassification"
   ]
  },
  {
   "cell_type": "code",
   "execution_count": 9,
   "id": "205c3e1a-93dd-498d-b522-01d80bd4527c",
   "metadata": {},
   "outputs": [
    {
     "name": "stdout",
     "output_type": "stream",
     "text": [
      "Downloading Model to directory: ./bert/hub/tiansz/bert-base-chinese\n"
     ]
    }
   ],
   "source": [
    "# 从 ModelScope 上下载 \n",
    "from modelscope import snapshot_download\n",
    "# 设置 模型id model_id\n",
    "# 设置 cache_dir 缓存目录\n",
    "model_dir = snapshot_download(model_id='tiansz/bert-base-chinese', cache_dir=\"./bert\")"
   ]
  },
  {
   "cell_type": "code",
   "execution_count": 10,
   "id": "1b3352b8-28e5-4ff4-9685-d0dc1276e338",
   "metadata": {},
   "outputs": [
    {
     "data": {
      "text/plain": [
       "'./bert/tiansz/bert-base-chinese'"
      ]
     },
     "execution_count": 10,
     "metadata": {},
     "output_type": "execute_result"
    }
   ],
   "source": [
    "# 模型地址\n",
    "model_dir"
   ]
  },
  {
   "cell_type": "code",
   "execution_count": 11,
   "id": "67b7774c-26b6-46d4-bdb4-bbbdee8eef90",
   "metadata": {},
   "outputs": [],
   "source": [
    "# 加载分词器\n",
    "tokenizer = BertTokenizer.from_pretrained(model_dir)"
   ]
  },
  {
   "cell_type": "code",
   "execution_count": 12,
   "id": "b875f118-2008-41e0-b634-49e8d9286e00",
   "metadata": {},
   "outputs": [],
   "source": [
    "# tokenizer"
   ]
  },
  {
   "cell_type": "code",
   "execution_count": 13,
   "id": "256ea46f-dcb8-4876-8a53-bfbaa5902dc1",
   "metadata": {},
   "outputs": [],
   "source": [
    "device = \"cuda:0\" if torch.cuda.is_available() else \"cpu\""
   ]
  },
  {
   "cell_type": "code",
   "execution_count": 14,
   "id": "d6685bc7-cec7-41bb-bb06-eb1348769980",
   "metadata": {
    "ExecutionIndicator": {
     "show": true
    },
    "scrolled": true,
    "tags": []
   },
   "outputs": [
    {
     "name": "stderr",
     "output_type": "stream",
     "text": [
      "Some weights of BertForSequenceClassification were not initialized from the model checkpoint at ./bert/tiansz/bert-base-chinese and are newly initialized: ['classifier.bias', 'classifier.weight']\n",
      "You should probably TRAIN this model on a down-stream task to be able to use it for predictions and inference.\n"
     ]
    },
    {
     "data": {
      "text/plain": [
       "BertForSequenceClassification(\n",
       "  (bert): BertModel(\n",
       "    (embeddings): BertEmbeddings(\n",
       "      (word_embeddings): Embedding(21128, 768, padding_idx=0)\n",
       "      (position_embeddings): Embedding(512, 768)\n",
       "      (token_type_embeddings): Embedding(2, 768)\n",
       "      (LayerNorm): LayerNorm((768,), eps=1e-12, elementwise_affine=True)\n",
       "      (dropout): Dropout(p=0.1, inplace=False)\n",
       "    )\n",
       "    (encoder): BertEncoder(\n",
       "      (layer): ModuleList(\n",
       "        (0-11): 12 x BertLayer(\n",
       "          (attention): BertAttention(\n",
       "            (self): BertSdpaSelfAttention(\n",
       "              (query): Linear(in_features=768, out_features=768, bias=True)\n",
       "              (key): Linear(in_features=768, out_features=768, bias=True)\n",
       "              (value): Linear(in_features=768, out_features=768, bias=True)\n",
       "              (dropout): Dropout(p=0.1, inplace=False)\n",
       "            )\n",
       "            (output): BertSelfOutput(\n",
       "              (dense): Linear(in_features=768, out_features=768, bias=True)\n",
       "              (LayerNorm): LayerNorm((768,), eps=1e-12, elementwise_affine=True)\n",
       "              (dropout): Dropout(p=0.1, inplace=False)\n",
       "            )\n",
       "          )\n",
       "          (intermediate): BertIntermediate(\n",
       "            (dense): Linear(in_features=768, out_features=3072, bias=True)\n",
       "            (intermediate_act_fn): GELUActivation()\n",
       "          )\n",
       "          (output): BertOutput(\n",
       "            (dense): Linear(in_features=3072, out_features=768, bias=True)\n",
       "            (LayerNorm): LayerNorm((768,), eps=1e-12, elementwise_affine=True)\n",
       "            (dropout): Dropout(p=0.1, inplace=False)\n",
       "          )\n",
       "        )\n",
       "      )\n",
       "    )\n",
       "    (pooler): BertPooler(\n",
       "      (dense): Linear(in_features=768, out_features=768, bias=True)\n",
       "      (activation): Tanh()\n",
       "    )\n",
       "  )\n",
       "  (dropout): Dropout(p=0.1, inplace=False)\n",
       "  (classifier): Linear(in_features=768, out_features=2, bias=True)\n",
       ")"
      ]
     },
     "execution_count": 14,
     "metadata": {},
     "output_type": "execute_result"
    }
   ],
   "source": [
    "# 二分类分类器\n",
    "model = BertForSequenceClassification.from_pretrained(model_dir, num_labels=2)\n",
    "model.to(device = device)"
   ]
  },
  {
   "cell_type": "code",
   "execution_count": 15,
   "id": "36d9f713-5b29-4efa-b44a-0300410efff6",
   "metadata": {},
   "outputs": [],
   "source": [
    "# 类别字典\n",
    "label2idx = {\"正面\": 0, \"负面\": 1}\n",
    "idx2label = {0: \"正面\", 1: \"负面\"}"
   ]
  },
  {
   "cell_type": "markdown",
   "id": "922afc30-e6e3-46c1-ac72-a4541188f5de",
   "metadata": {},
   "source": [
    "### 4. 训练"
   ]
  },
  {
   "cell_type": "code",
   "execution_count": 16,
   "id": "10b99c73-3feb-4f7c-ad97-ad9a78b03183",
   "metadata": {
    "ExecutionIndicator": {
     "show": true
    },
    "tags": []
   },
   "outputs": [],
   "source": [
    "from torch import nn\n",
    "# 损失函数\n",
    "loss_fn = nn.CrossEntropyLoss()\n",
    "# 优化器\n",
    "optimizer = torch.optim.AdamW(params=model.parameters(), lr=1e-4)\n",
    "# 定义训练轮次\n",
    "epochs = 5"
   ]
  },
  {
   "cell_type": "code",
   "execution_count": 17,
   "id": "10d502d0-f122-472d-aba1-c2e053f5c9dd",
   "metadata": {},
   "outputs": [],
   "source": [
    "def get_acc(dataloader):\n",
    "    \"\"\"\n",
    "        计算准确率\n",
    "    \"\"\"\n",
    "    # 设置为评估模式\n",
    "    model.eval()\n",
    "    accs = []\n",
    "    # 构建一个无梯度的环境\n",
    "    with torch.no_grad():\n",
    "        # 逐个批次计算\n",
    "        for X, y in train_dataloader:\n",
    "            # 编码\n",
    "            X = tokenizer.batch_encode_plus(batch_text_or_text_pairs=X, \n",
    "                                            padding=True, \n",
    "                                            truncation=True,\n",
    "                                            max_length=100,\n",
    "                                            return_tensors=\"pt\")\n",
    "            # 转张量\n",
    "            y = torch.tensor(data=[label2idx.get(label) for label in y], dtype=torch.long).cuda()\n",
    "            # 1. 正向传播\n",
    "            y_pred = model(input_ids=X[\"input_ids\"].to(device=device), \n",
    "                           attention_mask=X[\"attention_mask\"].to(device=device))\n",
    "            # 2. 计算准确率\n",
    "            acc = (y_pred.logits.argmax(dim=-1) == y).to(dtype=torch.float).mean().item()\n",
    "            accs.append(acc)\n",
    "    return sum(accs) / len(accs)"
   ]
  },
  {
   "cell_type": "code",
   "execution_count": 18,
   "id": "90696194-4c4d-4278-b556-ccb24d60da78",
   "metadata": {
    "ExecutionIndicator": {
     "show": true
    },
    "tags": []
   },
   "outputs": [],
   "source": [
    "def train():\n",
    "    \"\"\"\n",
    "        训练过程\n",
    "    \"\"\"\n",
    "    # 训练之前：先看看准确率\n",
    "    train_acc = get_acc(train_dataloader)\n",
    "    test_acc = get_acc(test_dataloader)\n",
    "    print(f\"初始：Train_Acc: {train_acc}, Test_Acc: {test_acc}\")\n",
    "    # 遍历每一轮\n",
    "    for epoch in range(epochs):\n",
    "        model.train()\n",
    "        # 遍历每个批次\n",
    "        for X, y in train_dataloader:\n",
    "            # 编码\n",
    "            X = tokenizer.batch_encode_plus(batch_text_or_text_pairs=X, \n",
    "                                            padding=True, \n",
    "                                            truncation=True,\n",
    "                                            max_length=100,\n",
    "                                            return_tensors=\"pt\")\n",
    "            # 转张量\n",
    "            y = torch.tensor(data=[label2idx.get(label) for label in y], dtype=torch.long).cuda()\n",
    "            \n",
    "            # 1. 正向传播\n",
    "            y_pred = model(input_ids=X[\"input_ids\"].to(device=device), \n",
    "                           attention_mask=X[\"attention_mask\"].to(device=device))\n",
    "                       \n",
    "            # break\n",
    "            # 2. 计算损失\n",
    "            loss = loss_fn(y_pred.logits, y)\n",
    "            \n",
    "            # 3. 反向传播\n",
    "            loss.backward()\n",
    "            \n",
    "            # 4. 优化一步\n",
    "            optimizer.step()\n",
    "            \n",
    "            # 5. 清空梯度\n",
    "            optimizer.zero_grad()\n",
    "        # 每轮都计算一下准备率\n",
    "        train_acc = get_acc(train_dataloader)\n",
    "        test_acc = get_acc(test_dataloader)\n",
    "        print(f\"Epoch: {epoch +1}, Train_Acc: {train_acc}, Test_Acc: {test_acc}\")"
   ]
  },
  {
   "cell_type": "code",
   "execution_count": 19,
   "id": "94b6d395-d159-49d3-8cdd-8df3e3b20c6e",
   "metadata": {},
   "outputs": [
    {
     "name": "stdout",
     "output_type": "stream",
     "text": [
      "初始：Train_Acc: 0.5043882981259772, Test_Acc: 0.5039893617021277\n",
      "Epoch: 1, Train_Acc: 0.9153368794326241, Test_Acc: 0.9157358158564737\n",
      "Epoch: 2, Train_Acc: 0.9570035460992907, Test_Acc: 0.9570035460992907\n",
      "Epoch: 3, Train_Acc: 0.9577570921140359, Test_Acc: 0.9578900709219859\n",
      "Epoch: 4, Train_Acc: 0.988031914893617, Test_Acc: 0.988031914893617\n",
      "Epoch: 5, Train_Acc: 0.9827127659574468, Test_Acc: 0.982579787149497\n"
     ]
    }
   ],
   "source": [
    "train()"
   ]
  },
  {
   "cell_type": "markdown",
   "id": "f4ad1a79-5c0e-4dd2-a316-e633d09f9c5d",
   "metadata": {},
   "source": [
    "### 5. 保存模型"
   ]
  },
  {
   "cell_type": "code",
   "execution_count": 27,
   "id": "1bba9d36-6d61-4352-a243-080fbc07920b",
   "metadata": {},
   "outputs": [
    {
     "data": {
      "text/plain": [
       "('./sentiment_model/tokenizer_config.json',\n",
       " './sentiment_model/special_tokens_map.json',\n",
       " './sentiment_model/vocab.txt',\n",
       " './sentiment_model/added_tokens.json')"
      ]
     },
     "execution_count": 27,
     "metadata": {},
     "output_type": "execute_result"
    }
   ],
   "source": [
    "# 保存训练好的模型\n",
    "model.save_pretrained(save_directory=\"./sentiment_model\")\n",
    "# 保存分词器\n",
    "tokenizer.save_pretrained(save_directory=\"./sentiment_model\")"
   ]
  },
  {
   "cell_type": "markdown",
   "id": "33a151da-ca0d-4939-9f3a-d247ef8cc3a5",
   "metadata": {},
   "source": [
    "### 6. 预测"
   ]
  },
  {
   "cell_type": "code",
   "execution_count": 28,
   "id": "31758258-c4a0-42e1-baab-1d79374b53ee",
   "metadata": {},
   "outputs": [],
   "source": [
    "# 加载分词器\n",
    "tokenizer = BertTokenizer.from_pretrained(\"./sentiment_model\")\n",
    "# 加载模型\n",
    "model = BertForSequenceClassification.from_pretrained(\"./sentiment_model\").cuda()"
   ]
  },
  {
   "cell_type": "code",
   "execution_count": 29,
   "id": "c096f5a6-cd34-4fac-a1ae-6d45f8942fd0",
   "metadata": {},
   "outputs": [],
   "source": [
    "def predict(text=\"楼梯老化，室内味道很大，没有电梯\"):\n",
    "    # 设置为评估模式\n",
    "    model.eval()\n",
    "    with torch.no_grad():\n",
    "        inputs = tokenizer(text=text,\n",
    "                           padding=True, \n",
    "                           truncation=True,\n",
    "                           max_length=100,\n",
    "                           return_tensors=\"pt\")\n",
    "        y_pred = model(input_ids=inputs[\"input_ids\"].to(device=device), \n",
    "                       attention_mask=inputs[\"attention_mask\"].to(device=device))\n",
    "        y_pred = y_pred.logits.argmax(dim=-1).cpu().numpy()\n",
    "        result = idx2label.get(y_pred[0])\n",
    "        return result"
   ]
  },
  {
   "cell_type": "code",
   "execution_count": 31,
   "id": "8fa76cc2-34db-4dea-8a06-a730c4180084",
   "metadata": {},
   "outputs": [
    {
     "data": {
      "text/plain": [
       "'负面'"
      ]
     },
     "execution_count": 31,
     "metadata": {},
     "output_type": "execute_result"
    }
   ],
   "source": [
    "predict(text=\"房价太小，地方有些偏僻，比较吵\")"
   ]
  },
  {
   "cell_type": "code",
   "execution_count": null,
   "id": "f5cace8b-117b-4d19-b69c-37ca9c65368f",
   "metadata": {},
   "outputs": [],
   "source": []
  }
 ],
 "metadata": {
  "kernelspec": {
   "display_name": "Python 3 (ipykernel)",
   "language": "python",
   "name": "python3"
  },
  "language_info": {
   "codemirror_mode": {
    "name": "ipython",
    "version": 3
   },
   "file_extension": ".py",
   "mimetype": "text/x-python",
   "name": "python",
   "nbconvert_exporter": "python",
   "pygments_lexer": "ipython3",
   "version": "3.12.3"
  }
 },
 "nbformat": 4,
 "nbformat_minor": 5
}
