{
 "cells": [
  {
   "cell_type": "markdown",
   "id": "d4cdcc23-dc70-40cb-96c1-fade74916c9b",
   "metadata": {},
   "source": [
    "### 1. P_Net 网络架构图"
   ]
  },
  {
   "cell_type": "markdown",
   "id": "7135b643-04ba-47dd-a63d-19f6d1fc79a9",
   "metadata": {},
   "source": [
    "![P_NET](p_net.jpg)"
   ]
  },
  {
   "cell_type": "markdown",
   "id": "9fd78bc0-0d1f-469d-a70d-081cb600ed5e",
   "metadata": {},
   "source": [
    "### 2. 搭建模型"
   ]
  },
  {
   "cell_type": "code",
   "execution_count": 1,
   "id": "150992db-78bf-49ec-922f-31afe802e5c2",
   "metadata": {},
   "outputs": [],
   "source": [
    "import torch\n",
    "from torch import nn"
   ]
  },
  {
   "cell_type": "code",
   "execution_count": 2,
   "id": "8eb0ba42-0948-4b99-99bb-7a155ad693ef",
   "metadata": {},
   "outputs": [],
   "source": [
    "class PNet(nn.Module):\n",
    "    \"\"\"\n",
    "        PNet 网络结构\n",
    "            - 全卷积网络\n",
    "    \"\"\"\n",
    "    \n",
    "    def __init__(self):\n",
    "        super().__init__()\n",
    "        self.conv1 = nn.Conv2d(in_channels=3, \n",
    "                               out_channels=10, \n",
    "                               kernel_size=3,\n",
    "                               stride=1,\n",
    "                               padding=0)\n",
    "        self.mp1 = nn.MaxPool2d(kernel_size=3,\n",
    "                               stride=2,\n",
    "                               padding=1)\n",
    "        self.conv2 = nn.Conv2d(in_channels=10, \n",
    "                              out_channels=16,\n",
    "                              kernel_size=3,\n",
    "                              stride=1,\n",
    "                              padding=0)\n",
    "        self.conv3 = nn.Conv2d(in_channels=16,\n",
    "                              out_channels=32,\n",
    "                              kernel_size=3,\n",
    "                              stride=1,\n",
    "                              padding=0)\n",
    "        self.classifier = nn.Conv2d(in_channels=32,\n",
    "                                   out_channels=2,\n",
    "                                   kernel_size=1,\n",
    "                                   stride=1,\n",
    "                                   padding=0)\n",
    "        self.regressor = nn.Conv2d(in_channels=32,\n",
    "                                  out_channels=4,\n",
    "                                  kernel_size=1,\n",
    "                                  stride=1,\n",
    "                                  padding=0)\n",
    "    def forward(self, x):\n",
    "        x = self.conv1(x)\n",
    "        x = self.mp1(x)\n",
    "        x = self.conv2(x)\n",
    "        x = self.conv3(x)\n",
    "        cls = self.classifier(x)\n",
    "        reg = self.regressor(x)\n",
    "        return cls, reg"
   ]
  },
  {
   "cell_type": "code",
   "execution_count": 3,
   "id": "809c53b7-fe42-4822-aadb-e38f1c1b83cc",
   "metadata": {},
   "outputs": [],
   "source": [
    "# [N, C, H, W]\n",
    "# [2, 3, 12, 12]\n",
    "\n",
    "model = PNet()"
   ]
  },
  {
   "cell_type": "code",
   "execution_count": 4,
   "id": "f28da3a7-db9d-4d8e-95e0-5d482b2ce797",
   "metadata": {},
   "outputs": [
    {
     "name": "stdout",
     "output_type": "stream",
     "text": [
      "torch.Size([2, 2, 955, 535])\n",
      "torch.Size([2, 4, 955, 535])\n"
     ]
    }
   ],
   "source": [
    "# [N, C, H, W]\n",
    "X = torch.randn(2, 3, 1920, 1080)\n",
    "cls, reg = model(X)\n",
    "print(cls.shape)\n",
    "print(reg.shape)"
   ]
  },
  {
   "cell_type": "code",
   "execution_count": 5,
   "id": "e7387a7e-023f-48c0-9fa4-28fe09cec112",
   "metadata": {},
   "outputs": [],
   "source": [
    "import math"
   ]
  },
  {
   "cell_type": "code",
   "execution_count": 6,
   "id": "e7997357-f139-44d3-971d-12e4ff10780f",
   "metadata": {},
   "outputs": [
    {
     "data": {
      "text/plain": [
       "955"
      ]
     },
     "execution_count": 6,
     "metadata": {},
     "output_type": "execute_result"
    }
   ],
   "source": [
    "math.ceil((1920 - 12) / 2 + 1)"
   ]
  },
  {
   "cell_type": "code",
   "execution_count": 7,
   "id": "ed5fd1b7-7dd1-4877-af56-7e06431ea837",
   "metadata": {},
   "outputs": [
    {
     "data": {
      "text/plain": [
       "510925"
      ]
     },
     "execution_count": 7,
     "metadata": {},
     "output_type": "execute_result"
    }
   ],
   "source": [
    "955 * 535"
   ]
  },
  {
   "cell_type": "markdown",
   "id": "3ad127fb-c142-4843-be35-eaf5fd3f4159",
   "metadata": {},
   "source": [
    "### 3. R_Net网络结构"
   ]
  },
  {
   "cell_type": "markdown",
   "id": "02495993-a500-41b3-88d8-ab967e8bcb5e",
   "metadata": {},
   "source": [
    "![R_NET](r_net.jpg)"
   ]
  },
  {
   "cell_type": "code",
   "execution_count": 43,
   "id": "8a308de4-6586-4640-83d8-c77935c6b70a",
   "metadata": {},
   "outputs": [],
   "source": [
    "class RNet(nn.Module):\n",
    "    \"\"\"\n",
    "        RNet网络\n",
    "    \"\"\"\n",
    "    def __init__(self):\n",
    "        super().__init__()\n",
    "        self.conv1 = nn.Conv2d(in_channels=3,\n",
    "                              out_channels=28,\n",
    "                              kernel_size=3,\n",
    "                              stride=1,\n",
    "                              padding=0)\n",
    "        self.mp1 = nn.MaxPool2d(kernel_size=3,\n",
    "                               stride=2,\n",
    "                               padding=1)\n",
    "        self.conv2 = nn.Conv2d(in_channels=28,\n",
    "                              out_channels=48,\n",
    "                              kernel_size=3,\n",
    "                              stride=1,\n",
    "                              padding=0)\n",
    "        self.mp2 = nn.MaxPool2d(kernel_size=3,\n",
    "                               stride=2,\n",
    "                               padding=0)\n",
    "        self.conv3 = nn.Conv2d(in_channels=48,\n",
    "                              out_channels=64,\n",
    "                              kernel_size=2,\n",
    "                              stride=1,\n",
    "                              padding=0)\n",
    "        self.flatten = nn.Flatten()\n",
    "        self.linear = nn.Linear(in_features=576, out_features=128)\n",
    "        self.classifier = nn.Linear(in_features=128, out_features=2)\n",
    "        self.regressor = nn.Linear(in_features=128, out_features=4)\n",
    "        \n",
    "    def forward(self, x):\n",
    "        x = self.conv1(x)\n",
    "        x = self.mp1(x)\n",
    "        x = self.conv2(x)\n",
    "        x = self.mp2(x)\n",
    "        x = self.conv3(x)\n",
    "        x = self.flatten(x)\n",
    "        x = self.linear(x)\n",
    "        cls = self.classifier(x)\n",
    "        reg = self.regressor(x)\n",
    "        return cls, reg"
   ]
  },
  {
   "cell_type": "code",
   "execution_count": 45,
   "id": "16d867a7-c291-4867-a743-3541b0383ac7",
   "metadata": {},
   "outputs": [],
   "source": [
    "# [N, C, H, W]\n",
    "X = torch.randn(2, 3, 24, 24)\n",
    "model = RNet()\n",
    "cls, reg = model(X)"
   ]
  },
  {
   "cell_type": "code",
   "execution_count": 46,
   "id": "b6a20c07-0938-4d8b-8ab0-ec555d68d3da",
   "metadata": {},
   "outputs": [
    {
     "data": {
      "text/plain": [
       "torch.Size([2, 2])"
      ]
     },
     "execution_count": 46,
     "metadata": {},
     "output_type": "execute_result"
    }
   ],
   "source": [
    "cls.shape"
   ]
  },
  {
   "cell_type": "code",
   "execution_count": 47,
   "id": "cce7ccb4-ca5a-47c0-be79-19ad97c6336f",
   "metadata": {},
   "outputs": [
    {
     "data": {
      "text/plain": [
       "torch.Size([2, 4])"
      ]
     },
     "execution_count": 47,
     "metadata": {},
     "output_type": "execute_result"
    }
   ],
   "source": [
    "reg.shape"
   ]
  },
  {
   "cell_type": "code",
   "execution_count": null,
   "id": "84edc48c-8e6b-4564-a0da-7b3533a005b6",
   "metadata": {},
   "outputs": [],
   "source": []
  }
 ],
 "metadata": {
  "kernelspec": {
   "display_name": "Python 3 (ipykernel)",
   "language": "python",
   "name": "python3"
  },
  "language_info": {
   "codemirror_mode": {
    "name": "ipython",
    "version": 3
   },
   "file_extension": ".py",
   "mimetype": "text/x-python",
   "name": "python",
   "nbconvert_exporter": "python",
   "pygments_lexer": "ipython3",
   "version": "3.11.11"
  }
 },
 "nbformat": 4,
 "nbformat_minor": 5
}
