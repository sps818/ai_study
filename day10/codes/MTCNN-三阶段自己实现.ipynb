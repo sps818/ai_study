{
 "cells": [
  {
   "cell_type": "markdown",
   "id": "11b997cc-b16c-4f67-acf1-ca20a132eb7a",
   "metadata": {},
   "source": [
    "# 1. MTCNN的第一阶段： P-Net 网络架构图"
   ]
  },
  {
   "cell_type": "code",
   "execution_count": 1,
   "id": "afce2717-6b52-4b2c-b304-61c3a369ca92",
   "metadata": {},
   "outputs": [],
   "source": [
    "import torch\n",
    "from torch import nn"
   ]
  },
  {
   "cell_type": "markdown",
   "id": "63c8edeb-2c87-471f-8836-1f6d95401395",
   "metadata": {},
   "source": [
    "![p_net](p_net.jpg)"
   ]
  },
  {
   "cell_type": "code",
   "execution_count": 2,
   "id": "bed553d2-6cb3-4094-8aac-76396bfd9b0d",
   "metadata": {},
   "outputs": [],
   "source": [
    "class Pnet(nn.Module):\n",
    "    \"\"\"\n",
    "        P-net网络结构\n",
    "            - 全卷积网络\n",
    "    \"\"\"\n",
    "    def __init__(self):\n",
    "        super().__init__()\n",
    "        self.conv1 = nn.Conv2d(in_channels=3, out_channels=10, kernel_size=3, stride=1, padding=0)\n",
    "        self.mp1 = nn.MaxPool2d(kernel_size=3, stride=2, padding=1)\n",
    "        self.conv2 = nn.Conv2d(in_channels=10, out_channels=16, kernel_size=3, stride=1, padding=0)\n",
    "        self.conv3 = nn.Conv2d(in_channels=16, out_channels=32, kernel_size=3, stride=1, padding=0)\n",
    "\n",
    "        self.classification = nn.Conv2d(in_channels=32, out_channels=2, kernel_size=1, stride=1, padding=0)\n",
    "        self.regression = nn.Conv2d(in_channels=32, out_channels=4, kernel_size=1, stride=1, padding=0)\n",
    "        self.localization = nn.Conv2d(in_channels=32, out_channels=10, kernel_size=1, stride=1, padding=0)\n",
    "\n",
    "    def forward(self, x):\n",
    "        print(x.shape)\n",
    "        x = self.conv1(x)\n",
    "        print(x.shape)\n",
    "        x = self.mp1(x)\n",
    "        print(x.shape)\n",
    "        x = self.conv2(x)\n",
    "        print(x.shape)\n",
    "        x = self.conv3(x)\n",
    "        print(x.shape)\n",
    "        cls = self.classification(x)\n",
    "        reg = self.regression(x)\n",
    "        loc = self.localization(x)\n",
    "        return cls, reg, loc"
   ]
  },
  {
   "cell_type": "code",
   "execution_count": 3,
   "id": "15781ecb-dd7a-40d0-ab62-f3dff2684261",
   "metadata": {},
   "outputs": [
    {
     "name": "stdout",
     "output_type": "stream",
     "text": [
      "torch.Size([2, 3, 12, 12])\n",
      "torch.Size([2, 10, 10, 10])\n",
      "torch.Size([2, 10, 5, 5])\n",
      "torch.Size([2, 16, 3, 3])\n",
      "torch.Size([2, 32, 1, 1])\n"
     ]
    }
   ],
   "source": [
    "# 模拟一个数据输入:N, C, H, W\n",
    "X = torch.randn(2, 3, 12, 12)\n",
    "# 实例化模型\n",
    "pnet = Pnet()\n",
    "cls, reg, loc = pnet(X)"
   ]
  },
  {
   "cell_type": "code",
   "execution_count": 4,
   "id": "9c70d57f-dc66-4fe0-a67e-0afbd82612c6",
   "metadata": {},
   "outputs": [
    {
     "name": "stdout",
     "output_type": "stream",
     "text": [
      "torch.Size([2, 2, 1, 1]) torch.Size([2, 4, 1, 1]) torch.Size([2, 10, 1, 1])\n"
     ]
    }
   ],
   "source": [
    "print(cls.shape, reg.shape, loc.shape)"
   ]
  },
  {
   "cell_type": "markdown",
   "id": "c42ec788-e467-48d9-9f92-20af18befce5",
   "metadata": {},
   "source": [
    "# 2. MTCNN的第二阶段： R-Net 网络架构图"
   ]
  },
  {
   "cell_type": "markdown",
   "id": "6acc4585-3373-44ba-b3ee-19b7a729ceda",
   "metadata": {},
   "source": [
    "![r_net](r_net.jpg)"
   ]
  },
  {
   "cell_type": "code",
   "execution_count": 5,
   "id": "3a04fdee-1029-4694-af6b-adc66148c06e",
   "metadata": {},
   "outputs": [],
   "source": [
    "class Rnet(nn.Module):\n",
    "    \"\"\"\n",
    "        Rnet网络\n",
    "    \"\"\"\n",
    "    def __init__(self):\n",
    "        super().__init__()\n",
    "        self.conv1 = nn.Conv2d(in_channels=3, out_channels=28, kernel_size=3, stride=1, padding=0)\n",
    "        self.mp1 = nn.MaxPool2d(kernel_size=3, stride=2, padding=1)\n",
    "        self.conv2 = nn.Conv2d(in_channels=28, out_channels=48, kernel_size=3, stride=1, padding=0)\n",
    "        self.mp2 = nn.MaxPool2d(kernel_size=3, stride=2, padding=0)\n",
    "        self.conv3 = nn.Conv2d(in_channels=48, out_channels=64, kernel_size=2, stride=1, padding=0)\n",
    "        self.flatten = nn.Flatten()\n",
    "        self.fc1 = nn.Linear(in_features=576, out_features=128)\n",
    "\n",
    "        self.classification = nn.Linear(in_features=128, out_features=2)\n",
    "        self.regression = nn.Linear(in_features=128, out_features=4)\n",
    "        self.localization = nn.Linear(in_features=128, out_features=10)\n",
    "\n",
    "    def forward(self, x):\n",
    "        print(x.shape)\n",
    "        x = self.conv1(x)\n",
    "        print(x.shape)\n",
    "        x = self.mp1(x)\n",
    "        print(x.shape)\n",
    "        x = self.conv2(x)\n",
    "        print(x.shape)\n",
    "        x = self.mp2(x)\n",
    "        print(x.shape)\n",
    "        x = self.conv3(x)\n",
    "        print(x.shape)\n",
    "        x = self.flatten(x)\n",
    "        x = self.fc1(x)\n",
    "        print(x.shape)\n",
    "        cls = self.classification(x)\n",
    "        reg = self.regression(x)\n",
    "        loc = self.localization(x)\n",
    "        return cls, reg, loc\n",
    "        "
   ]
  },
  {
   "cell_type": "code",
   "execution_count": 6,
   "id": "30468cab-0e5e-4f51-a486-524e4fc2047a",
   "metadata": {},
   "outputs": [
    {
     "name": "stdout",
     "output_type": "stream",
     "text": [
      "torch.Size([2, 3, 24, 24])\n",
      "torch.Size([2, 28, 22, 22])\n",
      "torch.Size([2, 28, 11, 11])\n",
      "torch.Size([2, 48, 9, 9])\n",
      "torch.Size([2, 48, 4, 4])\n",
      "torch.Size([2, 64, 3, 3])\n",
      "torch.Size([2, 128])\n"
     ]
    }
   ],
   "source": [
    "X = torch.randn(2, 3, 24, 24)\n",
    "rnet = Rnet()\n",
    "cls, reg, loc = rnet(X)"
   ]
  },
  {
   "cell_type": "code",
   "execution_count": 7,
   "id": "17d972bb-08ba-43ee-af62-3d50534299f6",
   "metadata": {},
   "outputs": [
    {
     "name": "stdout",
     "output_type": "stream",
     "text": [
      "torch.Size([2, 2]) torch.Size([2, 4]) torch.Size([2, 10])\n"
     ]
    }
   ],
   "source": [
    "print(cls.shape, reg.shape, loc.shape)"
   ]
  },
  {
   "cell_type": "markdown",
   "id": "7d35bff1-837a-44f2-b8b4-0018c66069c6",
   "metadata": {},
   "source": [
    "# 3. MTCNN的第三阶段： O-Net 网络架构图"
   ]
  },
  {
   "cell_type": "markdown",
   "id": "22ac6bc1-0422-4831-94e8-d3ef3114f5af",
   "metadata": {},
   "source": [
    "![o_net](o_net.jpg)"
   ]
  },
  {
   "cell_type": "code",
   "execution_count": 8,
   "id": "777b35e9-4f53-413e-970d-8bfe03cb06fc",
   "metadata": {},
   "outputs": [],
   "source": [
    "class Onet(nn.Module):\n",
    "    \"\"\"\n",
    "        Onet网络\n",
    "    \"\"\"\n",
    "    def __init__(self):\n",
    "        super().__init__()\n",
    "        self.conv1 = nn.Conv2d(in_channels=3, out_channels=32, kernel_size=3, stride=1, padding=0)\n",
    "        self.mp1 = nn.MaxPool2d(kernel_size=3, stride=2, padding=1)\n",
    "        self.conv2 = nn.Conv2d(in_channels=32, out_channels=64, kernel_size=3, stride=1, padding=0)\n",
    "        self.mp2 = nn.MaxPool2d(kernel_size=3, stride=2, padding=0)\n",
    "        self.conv3 = nn.Conv2d(in_channels=64, out_channels=64, kernel_size=3, stride=1, padding=0)\n",
    "        self.mp3 = nn.MaxPool2d(kernel_size=2, stride=2, padding=0)\n",
    "        self.conv4 = nn.Conv2d(in_channels=64, out_channels=128, kernel_size=2, stride=1, padding=0)        \n",
    "        self.flatten = nn.Flatten()\n",
    "        self.fc1 = nn.Linear(in_features=1152, out_features=256)\n",
    "\n",
    "        self.classification = nn.Linear(in_features=256, out_features=2)\n",
    "        self.regression = nn.Linear(in_features=256, out_features=4)\n",
    "        self.localization = nn.Linear(in_features=256, out_features=10)\n",
    "\n",
    "    def forward(self, x):\n",
    "        print(x.shape)\n",
    "        x = self.conv1(x)\n",
    "        print(x.shape)\n",
    "        x = self.mp1(x)\n",
    "        print(x.shape)\n",
    "        x = self.conv2(x)\n",
    "        print(x.shape)\n",
    "        x = self.mp2(x)\n",
    "        print(x.shape)\n",
    "        x = self.conv3(x)\n",
    "        print(x.shape)\n",
    "        x = self.mp3(x)\n",
    "        print(x.shape)\n",
    "        x = self.conv4(x)\n",
    "        print(x.shape)\n",
    "        x = self.flatten(x)\n",
    "        print(x.shape)\n",
    "        x = self.fc1(x)\n",
    "        print(x.shape)\n",
    "        cls = self.classification(x)\n",
    "        reg = self.regression(x)\n",
    "        loc = self.localization(x)\n",
    "        return cls, reg, loc\n",
    "        "
   ]
  },
  {
   "cell_type": "code",
   "execution_count": 9,
   "id": "a7d2b59f-f292-4e2e-af49-3e7adced7bc7",
   "metadata": {},
   "outputs": [
    {
     "name": "stdout",
     "output_type": "stream",
     "text": [
      "torch.Size([2, 3, 48, 48])\n",
      "torch.Size([2, 32, 46, 46])\n",
      "torch.Size([2, 32, 23, 23])\n",
      "torch.Size([2, 64, 21, 21])\n",
      "torch.Size([2, 64, 10, 10])\n",
      "torch.Size([2, 64, 8, 8])\n",
      "torch.Size([2, 64, 4, 4])\n",
      "torch.Size([2, 128, 3, 3])\n",
      "torch.Size([2, 1152])\n",
      "torch.Size([2, 256])\n"
     ]
    }
   ],
   "source": [
    "X = torch.randn(2, 3, 48, 48)\n",
    "onet = Onet()\n",
    "cls, reg, loc = onet(X)"
   ]
  },
  {
   "cell_type": "code",
   "execution_count": 10,
   "id": "bbb08efb-f9cf-4cbf-847a-065e9e2a20aa",
   "metadata": {},
   "outputs": [
    {
     "name": "stdout",
     "output_type": "stream",
     "text": [
      "torch.Size([2, 2]) torch.Size([2, 4]) torch.Size([2, 10])\n"
     ]
    }
   ],
   "source": [
    "print(cls.shape, reg.shape, loc.shape)"
   ]
  },
  {
   "cell_type": "code",
   "execution_count": null,
   "id": "b10d175c-0f26-42a6-9c20-7a873b3d2f1c",
   "metadata": {},
   "outputs": [],
   "source": []
  }
 ],
 "metadata": {
  "kernelspec": {
   "display_name": "Python(py311)",
   "language": "python",
   "name": "py311"
  },
  "language_info": {
   "codemirror_mode": {
    "name": "ipython",
    "version": 3
   },
   "file_extension": ".py",
   "mimetype": "text/x-python",
   "name": "python",
   "nbconvert_exporter": "python",
   "pygments_lexer": "ipython3",
   "version": "3.11.11"
  }
 },
 "nbformat": 4,
 "nbformat_minor": 5
}
