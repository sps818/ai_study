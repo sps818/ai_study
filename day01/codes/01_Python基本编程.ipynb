{
 "cells": [
  {
   "cell_type": "markdown",
   "id": "82dabc26-9257-41e4-aa8f-e513f5982b64",
   "metadata": {},
   "source": [
    "### 1. Python编程"
   ]
  },
  {
   "cell_type": "markdown",
   "id": "24f18150-2dfa-48de-ab58-62c3f7fa9a98",
   "metadata": {},
   "source": [
    "$y = ax^2 + bx + c$"
   ]
  },
  {
   "cell_type": "code",
   "execution_count": 1,
   "id": "73ae3412-9fd5-4e5e-a42c-c7eead641d32",
   "metadata": {},
   "outputs": [
    {
     "name": "stdout",
     "output_type": "stream",
     "text": [
      "1 2 3 4\n"
     ]
    }
   ],
   "source": [
    "print(1, 2, 3, 4)"
   ]
  },
  {
   "cell_type": "markdown",
   "id": "369b1b75-eaed-49e7-9037-4eea7bbeed47",
   "metadata": {},
   "source": [
    "python三板斧（Python的学习都是现学现卖）：\n",
    "- print：查看内容\n",
    "- type：查看类型\n",
    "- dir：查看功能"
   ]
  },
  {
   "cell_type": "code",
   "execution_count": 2,
   "id": "ec4ae8f8-4822-4cb4-a1bf-6c1db3b1acd4",
   "metadata": {},
   "outputs": [],
   "source": [
    "ls = [1, 2, 3, 4, 5, 6]"
   ]
  },
  {
   "cell_type": "code",
   "execution_count": 3,
   "id": "cd22bac6-4199-4948-beee-f66e4aea7f78",
   "metadata": {},
   "outputs": [
    {
     "name": "stdout",
     "output_type": "stream",
     "text": [
      "[1, 2, 3, 4, 5, 6]\n"
     ]
    }
   ],
   "source": [
    "print(ls)"
   ]
  },
  {
   "cell_type": "code",
   "execution_count": 4,
   "id": "6936bd59-3730-44ac-af75-f163d5f3d7c9",
   "metadata": {},
   "outputs": [
    {
     "data": {
      "text/plain": [
       "list"
      ]
     },
     "execution_count": 4,
     "metadata": {},
     "output_type": "execute_result"
    }
   ],
   "source": [
    "type(ls)"
   ]
  },
  {
   "cell_type": "code",
   "execution_count": 5,
   "id": "0f813d75-ec42-42a0-a858-0bf9e0f822a8",
   "metadata": {},
   "outputs": [
    {
     "data": {
      "text/plain": [
       "['__add__',\n",
       " '__class__',\n",
       " '__class_getitem__',\n",
       " '__contains__',\n",
       " '__delattr__',\n",
       " '__delitem__',\n",
       " '__dir__',\n",
       " '__doc__',\n",
       " '__eq__',\n",
       " '__format__',\n",
       " '__ge__',\n",
       " '__getattribute__',\n",
       " '__getitem__',\n",
       " '__getstate__',\n",
       " '__gt__',\n",
       " '__hash__',\n",
       " '__iadd__',\n",
       " '__imul__',\n",
       " '__init__',\n",
       " '__init_subclass__',\n",
       " '__iter__',\n",
       " '__le__',\n",
       " '__len__',\n",
       " '__lt__',\n",
       " '__mul__',\n",
       " '__ne__',\n",
       " '__new__',\n",
       " '__reduce__',\n",
       " '__reduce_ex__',\n",
       " '__repr__',\n",
       " '__reversed__',\n",
       " '__rmul__',\n",
       " '__setattr__',\n",
       " '__setitem__',\n",
       " '__sizeof__',\n",
       " '__str__',\n",
       " '__subclasshook__',\n",
       " 'append',\n",
       " 'clear',\n",
       " 'copy',\n",
       " 'count',\n",
       " 'extend',\n",
       " 'index',\n",
       " 'insert',\n",
       " 'pop',\n",
       " 'remove',\n",
       " 'reverse',\n",
       " 'sort']"
      ]
     },
     "execution_count": 5,
     "metadata": {},
     "output_type": "execute_result"
    }
   ],
   "source": [
    "dir(ls)"
   ]
  },
  {
   "cell_type": "code",
   "execution_count": 6,
   "id": "2ebfd23f-aca7-4ca2-9341-2016cc0af482",
   "metadata": {},
   "outputs": [
    {
     "name": "stdout",
     "output_type": "stream",
     "text": [
      "[2, 3, 4, 5, 6, 7]\n"
     ]
    }
   ],
   "source": [
    "\"\"\"\n",
    "    把ls的每个数据都加上1\n",
    "\"\"\"\n",
    "result = []\n",
    "\n",
    "for ele in ls:\n",
    "    result.append(ele + 1)\n",
    "\n",
    "print(result)"
   ]
  },
  {
   "cell_type": "code",
   "execution_count": 7,
   "id": "bae52a8a-378b-4aa4-9d79-9c974e85ee11",
   "metadata": {},
   "outputs": [
    {
     "data": {
      "text/plain": [
       "[2, 3, 4, 5, 6, 7]"
      ]
     },
     "execution_count": 7,
     "metadata": {},
     "output_type": "execute_result"
    }
   ],
   "source": [
    "# 也可以用列表推导来做\n",
    "[ele + 1 for ele in ls]"
   ]
  },
  {
   "cell_type": "code",
   "execution_count": 8,
   "id": "1a1a33cd-2277-437f-965c-affa0a8219b1",
   "metadata": {},
   "outputs": [],
   "source": [
    "# 但上面的两种方法都不是科学计算，下面这个才是\n",
    "import numpy as np"
   ]
  },
  {
   "cell_type": "code",
   "execution_count": 9,
   "id": "5ce1c83a-8703-4e5e-b23f-a6df314a25a3",
   "metadata": {},
   "outputs": [
    {
     "name": "stdout",
     "output_type": "stream",
     "text": [
      "[1 2 3 4 5 6]\n"
     ]
    }
   ],
   "source": [
    "arr = np.array(ls)\n",
    "print(arr)"
   ]
  },
  {
   "cell_type": "code",
   "execution_count": 10,
   "id": "cffbae59-2b52-4363-9111-b2a61c9f82ba",
   "metadata": {},
   "outputs": [
    {
     "name": "stdout",
     "output_type": "stream",
     "text": [
      "[2 3 4 5 6 7]\n"
     ]
    }
   ],
   "source": [
    "print(arr+1)"
   ]
  },
  {
   "cell_type": "code",
   "execution_count": 12,
   "id": "4a5368ab-e290-4749-8746-0223fd0da5c4",
   "metadata": {},
   "outputs": [],
   "source": [
    "\"\"\"\n",
    "    绘制一个抛物线\n",
    "\"\"\"\n",
    "\n",
    "# 定义函数\n",
    "def fn(x):\n",
    "    return 3 * x ** 2 + 5"
   ]
  },
  {
   "cell_type": "code",
   "execution_count": 15,
   "id": "fc3a842c-67cb-4454-a0cc-b80d02e2fbd5",
   "metadata": {},
   "outputs": [],
   "source": [
    "# 生成x轴数据\n",
    "x = np.linspace(start=-5, stop=5, num=100)"
   ]
  },
  {
   "cell_type": "code",
   "execution_count": 18,
   "id": "e358f417-7e0e-4f4a-a0ae-6cd9500bda2e",
   "metadata": {},
   "outputs": [],
   "source": [
    "# 调用函数生成y轴数据\n",
    "y = fn(x)"
   ]
  },
  {
   "cell_type": "code",
   "execution_count": 17,
   "id": "72a2304c-3a75-4cc5-89a9-e95bc9e7f4ec",
   "metadata": {},
   "outputs": [],
   "source": [
    "from matplotlib import pyplot as plt"
   ]
  },
  {
   "cell_type": "code",
   "execution_count": 26,
   "id": "9ae6fdfb-6441-47f3-8ebf-9c6052949a0b",
   "metadata": {},
   "outputs": [
    {
     "data": {
      "text/plain": [
       "<matplotlib.collections.PathCollection at 0x1ad92657310>"
      ]
     },
     "execution_count": 26,
     "metadata": {},
     "output_type": "execute_result"
    },
    {
     "data": {
      "image/png": "[encoded data removed]",
      "text/plain": [
       "<Figure size 640x480 with 1 Axes>"
      ]
     },
     "metadata": {},
     "output_type": "display_data"
    }
   ],
   "source": [
    "plt.scatter(x, y)"
   ]
  },
  {
   "cell_type": "code",
   "execution_count": 29,
   "id": "5e891fb5-7385-440c-a417-2962ba89ea60",
   "metadata": {},
   "outputs": [
    {
     "data": {
      "text/plain": [
       "[<matplotlib.lines.Line2D at 0x1ad926fa910>]"
      ]
     },
     "execution_count": 29,
     "metadata": {},
     "output_type": "execute_result"
    },
    {
     "data": {
      "image/png": "[encoded data removed]",
      "text/plain": [
       "<Figure size 640x480 with 1 Axes>"
      ]
     },
     "metadata": {},
     "output_type": "display_data"
    }
   ],
   "source": [
    "plt.plot(x, y)"
   ]
  },
  {
   "cell_type": "code",
   "execution_count": 32,
   "id": "cecdf707-d544-42c6-8015-511df2327040",
   "metadata": {},
   "outputs": [],
   "source": [
    "# pandas 二维表处理\n",
    "import pandas as pd"
   ]
  },
  {
   "cell_type": "code",
   "execution_count": null,
   "id": "e0b6d5de-ef4d-4697-a8f8-b0067459062b",
   "metadata": {},
   "outputs": [],
   "source": []
  }
 ],
 "metadata": {
  "kernelspec": {
   "display_name": "Python(py311)",
   "language": "python",
   "name": "py311"
  },
  "language_info": {
   "codemirror_mode": {
    "name": "ipython",
    "version": 3
   },
   "file_extension": ".py",
   "mimetype": "text/x-python",
   "name": "python",
   "nbconvert_exporter": "python",
   "pygments_lexer": "ipython3",
   "version": "3.11.11"
  }
 },
 "nbformat": 4,
 "nbformat_minor": 5
}
