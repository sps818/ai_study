{
 "cells": [
  {
   "cell_type": "markdown",
   "id": "a11a35b8-15da-4851-bfaf-f99a57f32823",
   "metadata": {},
   "source": [
    "# 1.传统计算"
   ]
  },
  {
   "cell_type": "code",
   "execution_count": 1,
   "id": "43eb1e44-8f1d-48fc-9481-9e3348b66726",
   "metadata": {},
   "outputs": [],
   "source": [
    "scores = [78, 45, 76, 23, 90]"
   ]
  },
  {
   "cell_type": "code",
   "execution_count": 2,
   "id": "8ddbb087-f001-4d6e-85c1-1da800ef9fcb",
   "metadata": {},
   "outputs": [
    {
     "data": {
      "text/plain": [
       "5"
      ]
     },
     "execution_count": 2,
     "metadata": {},
     "output_type": "execute_result"
    }
   ],
   "source": [
    "# 计算有多少个同学\n",
    "len(scores)"
   ]
  },
  {
   "cell_type": "code",
   "execution_count": 3,
   "id": "21da3ca0-414e-48b2-b262-f4be859a8801",
   "metadata": {},
   "outputs": [
    {
     "data": {
      "text/plain": [
       "62.4"
      ]
     },
     "execution_count": 3,
     "metadata": {},
     "output_type": "execute_result"
    }
   ],
   "source": [
    "# 平均分\n",
    "sum(scores) / len(scores)"
   ]
  },
  {
   "cell_type": "code",
   "execution_count": 4,
   "id": "35750742-4aef-4ae1-9f0e-d20117a0d935",
   "metadata": {},
   "outputs": [
    {
     "data": {
      "text/plain": [
       "90"
      ]
     },
     "execution_count": 4,
     "metadata": {},
     "output_type": "execute_result"
    }
   ],
   "source": [
    "# 最高分\n",
    "max(scores)"
   ]
  },
  {
   "cell_type": "code",
   "execution_count": 5,
   "id": "ef72f6f4-8b2a-4f36-a921-beeeaaf72325",
   "metadata": {},
   "outputs": [
    {
     "data": {
      "text/plain": [
       "23"
      ]
     },
     "execution_count": 5,
     "metadata": {},
     "output_type": "execute_result"
    }
   ],
   "source": [
    "# 最低分\n",
    "min(scores)"
   ]
  },
  {
   "cell_type": "code",
   "execution_count": 6,
   "id": "c013b95a-2fb4-4454-bd23-42dd7cf77de8",
   "metadata": {},
   "outputs": [],
   "source": [
    "# 方差， 没有办法直接求"
   ]
  },
  {
   "cell_type": "code",
   "execution_count": 7,
   "id": "39691e30-3c36-4b09-a6c1-cca9e51b294d",
   "metadata": {},
   "outputs": [
    {
     "data": {
      "text/plain": [
       "[83, 50, 81, 28, 95]"
      ]
     },
     "execution_count": 7,
     "metadata": {},
     "output_type": "execute_result"
    }
   ],
   "source": [
    "# 每个同学加 5 分， 只能遍历\n",
    "[i + 5 for i in scores]"
   ]
  },
  {
   "cell_type": "markdown",
   "id": "f8463dd1-a845-4479-b052-d9b7b5584d51",
   "metadata": {},
   "source": [
    "# 2.科学计算\n",
    "- 向量化计算\n",
    "- 矩阵计算\n",
    "- 高性能计算\n",
    "- 线性代数\n",
    "- GPU之类的\n",
    "- NumPy\n",
    "    - 科学计算神器！\n",
    "    - 通用科学计算库\n",
    "    - 深度学习框架 PyTorch，本质上是一个 NumPy++\n",
    "    - 容器：NDArray  N为数组\n",
    "    - 算法：各种数据处理方法"
   ]
  },
  {
   "cell_type": "code",
   "execution_count": 8,
   "id": "b4d56368-fda7-4e33-848a-39e89cbb7777",
   "metadata": {},
   "outputs": [],
   "source": [
    "import numpy as np"
   ]
  },
  {
   "cell_type": "code",
   "execution_count": 39,
   "id": "a85c2c4e-8dfe-4521-948c-bc479bc2fea9",
   "metadata": {},
   "outputs": [
    {
     "name": "stdout",
     "output_type": "stream",
     "text": [
      "[[-0.80749527 -0.16468945 -1.27244665]\n",
      " [-0.43535358  1.33707246 -0.37294362]]\n"
     ]
    }
   ],
   "source": [
    "print(np.random.randn(2,3))"
   ]
  },
  {
   "cell_type": "code",
   "execution_count": null,
   "id": "6fa9b256-2bef-4d14-8505-daaeaa4d0271",
   "metadata": {},
   "outputs": [],
   "source": []
  },
  {
   "cell_type": "code",
   "execution_count": 9,
   "id": "cb0f85b6-01a2-4401-9478-221a5c8ef545",
   "metadata": {},
   "outputs": [],
   "source": [
    "scores = [78, 45, 76, 23, 90]"
   ]
  },
  {
   "cell_type": "code",
   "execution_count": 10,
   "id": "33fe35f1-35be-4ae6-b730-b2a5e002fba7",
   "metadata": {},
   "outputs": [],
   "source": [
    "arr = np.array(scores)"
   ]
  },
  {
   "cell_type": "code",
   "execution_count": 11,
   "id": "ba72e956-8140-4596-b160-ba1026c5f494",
   "metadata": {},
   "outputs": [
    {
     "data": {
      "text/plain": [
       "array([78, 45, 76, 23, 90])"
      ]
     },
     "execution_count": 11,
     "metadata": {},
     "output_type": "execute_result"
    }
   ],
   "source": [
    "arr"
   ]
  },
  {
   "cell_type": "code",
   "execution_count": 12,
   "id": "6385bdaf-f361-441f-9a2a-0e24b1163b6e",
   "metadata": {},
   "outputs": [
    {
     "data": {
      "text/plain": [
       "np.int64(23)"
      ]
     },
     "execution_count": 12,
     "metadata": {},
     "output_type": "execute_result"
    }
   ],
   "source": [
    "arr.min()"
   ]
  },
  {
   "cell_type": "code",
   "execution_count": 13,
   "id": "4ab9398f-5fbc-4fbe-9342-a4fc6da3d9cc",
   "metadata": {},
   "outputs": [
    {
     "data": {
      "text/plain": [
       "np.int64(90)"
      ]
     },
     "execution_count": 13,
     "metadata": {},
     "output_type": "execute_result"
    }
   ],
   "source": [
    "arr.max()"
   ]
  },
  {
   "cell_type": "code",
   "execution_count": 14,
   "id": "fdbfbbda-cf5e-4879-a835-a16c2e227fe4",
   "metadata": {},
   "outputs": [
    {
     "data": {
      "text/plain": [
       "5"
      ]
     },
     "execution_count": 14,
     "metadata": {},
     "output_type": "execute_result"
    }
   ],
   "source": [
    "arr.size"
   ]
  },
  {
   "cell_type": "code",
   "execution_count": 15,
   "id": "cb581128-8627-462e-be63-8e199c2fb444",
   "metadata": {},
   "outputs": [
    {
     "data": {
      "text/plain": [
       "np.float64(62.4)"
      ]
     },
     "execution_count": 15,
     "metadata": {},
     "output_type": "execute_result"
    }
   ],
   "source": [
    "# 平均值\n",
    "arr.mean()"
   ]
  },
  {
   "cell_type": "code",
   "execution_count": 16,
   "id": "a7cc6219-8f7c-4da4-9787-c7625f101871",
   "metadata": {},
   "outputs": [
    {
     "data": {
      "text/plain": [
       "np.float64(609.0400000000001)"
      ]
     },
     "execution_count": 16,
     "metadata": {},
     "output_type": "execute_result"
    }
   ],
   "source": [
    "# 方差\n",
    "arr.var()"
   ]
  },
  {
   "cell_type": "code",
   "execution_count": 17,
   "id": "74af3744-186e-4869-a0da-6f8d72af87dd",
   "metadata": {},
   "outputs": [
    {
     "data": {
      "text/plain": [
       "np.float64(24.67873578609731)"
      ]
     },
     "execution_count": 17,
     "metadata": {},
     "output_type": "execute_result"
    }
   ],
   "source": [
    "# 标准差\n",
    "arr.std()"
   ]
  },
  {
   "cell_type": "code",
   "execution_count": 18,
   "id": "0f6abe0e-2073-4949-815e-df140e57f64a",
   "metadata": {},
   "outputs": [
    {
     "data": {
      "text/plain": [
       "array([83, 50, 81, 28, 95])"
      ]
     },
     "execution_count": 18,
     "metadata": {},
     "output_type": "execute_result"
    }
   ],
   "source": [
    "# 广播机制，5会自动对齐成一个向量\n",
    "arr + 5"
   ]
  },
  {
   "cell_type": "code",
   "execution_count": 19,
   "id": "5a02b695-4f05-408e-9a50-484364d15b83",
   "metadata": {},
   "outputs": [
    {
     "data": {
      "text/plain": [
       "0.6895759076191925"
      ]
     },
     "execution_count": 19,
     "metadata": {},
     "output_type": "execute_result"
    }
   ],
   "source": [
    "# 连续均匀分布[0，1) 前闭后开，不包含1\n",
    "np.random.rand()"
   ]
  },
  {
   "cell_type": "code",
   "execution_count": 20,
   "id": "6ae2e907-6c2b-48d8-8506-4373e6f13c01",
   "metadata": {},
   "outputs": [
    {
     "data": {
      "text/plain": [
       "array([67, 15, 24, 15, 34, 28, 24, 81, 94,  3,  7, 97, 91, 71, 46, 21, 82,\n",
       "       61, 93, 70,  5,  6,  4, 55,  5, 19, 33, 55, 16, 84], dtype=int32)"
      ]
     },
     "execution_count": 20,
     "metadata": {},
     "output_type": "execute_result"
    }
   ],
   "source": [
    "# 离散均匀分布[low, high) 前闭后开，不包含high\n",
    "np.random.randint(low=0, high=101, size=30)"
   ]
  },
  {
   "cell_type": "code",
   "execution_count": 21,
   "id": "07f4233f-8e66-4e6c-8a2d-0277f4b8db08",
   "metadata": {},
   "outputs": [
    {
     "data": {
      "text/plain": [
       "array([-0.67285747, -0.71532038,  0.26818598,  0.17010779,  0.33767336,\n",
       "        0.37471451, -0.83630808,  0.24421576,  0.47498205,  2.31080301])"
      ]
     },
     "execution_count": 21,
     "metadata": {},
     "output_type": "execute_result"
    }
   ],
   "source": [
    "# 标准正态分布/高斯分布/标准高斯分布 mu(均值)=0， sigma(标准差)=1\n",
    "np.random.randn(10)"
   ]
  },
  {
   "cell_type": "code",
   "execution_count": 22,
   "id": "17f83584-8d66-4d80-87d3-3231d461e198",
   "metadata": {},
   "outputs": [],
   "source": [
    "a = np.random.randint(low=0, high=11, size=5)\n",
    "b = np.random.randint(low=0, high=11, size=5)"
   ]
  },
  {
   "cell_type": "code",
   "execution_count": 23,
   "id": "36428c6d-bdb9-4d1b-abfa-9b967cff8d60",
   "metadata": {},
   "outputs": [
    {
     "data": {
      "text/plain": [
       "array([9, 9, 4, 0, 5], dtype=int32)"
      ]
     },
     "execution_count": 23,
     "metadata": {},
     "output_type": "execute_result"
    }
   ],
   "source": [
    "a"
   ]
  },
  {
   "cell_type": "code",
   "execution_count": 24,
   "id": "4c8d119f-2440-4bff-a63a-4d3b3ce63f00",
   "metadata": {},
   "outputs": [
    {
     "data": {
      "text/plain": [
       "array([ 6,  8,  3, 10,  8], dtype=int32)"
      ]
     },
     "execution_count": 24,
     "metadata": {},
     "output_type": "execute_result"
    }
   ],
   "source": [
    "b"
   ]
  },
  {
   "cell_type": "markdown",
   "id": "662b928d-2552-400a-8bf2-423fe299b0f7",
   "metadata": {},
   "source": [
    "向量的模，向量的模就是向量的长度。\n",
    "\n",
    "在坐标系中，就是把向量分别投射到x轴和y轴，会得到一个坐标(x,y)， 它的长度就是这个坐标到(0,0)的距离。\n",
    "\n",
    "根据勾股定理，模就是 $\\sqrt{x^2 + y^2}$ ， 如果是高纬度，则是 $\\sqrt{x^2 + y^2 + ... + n^2}$"
   ]
  },
  {
   "cell_type": "code",
   "execution_count": 25,
   "id": "13bd0b3a-0463-45fd-9a26-6f2a1a1f7f3e",
   "metadata": {},
   "outputs": [
    {
     "data": {
      "text/plain": [
       "np.float64(14.247806848775006)"
      ]
     },
     "execution_count": 25,
     "metadata": {},
     "output_type": "execute_result"
    }
   ],
   "source": [
    "# 取a向量的模\n",
    "(a ** 2).sum() ** 0.5"
   ]
  },
  {
   "cell_type": "code",
   "execution_count": 26,
   "id": "baa4457d-319c-4a1a-a0fd-a5c3d31d89f9",
   "metadata": {},
   "outputs": [
    {
     "data": {
      "text/plain": [
       "np.float64(14.247806848775006)"
      ]
     },
     "execution_count": 26,
     "metadata": {},
     "output_type": "execute_result"
    }
   ],
   "source": [
    "# 向量的模也可以用这个\n",
    "np.linalg.norm(a)"
   ]
  },
  {
   "cell_type": "code",
   "execution_count": 27,
   "id": "bc227572-3eb0-4c03-be4e-066251459f88",
   "metadata": {},
   "outputs": [],
   "source": [
    "# 向量求内积/点乘积\n",
    "# 注意力机制的核心。dot product"
   ]
  },
  {
   "cell_type": "markdown",
   "id": "d149c251-0641-40fa-8197-a75158907093",
   "metadata": {},
   "source": [
    "两个向量的乘积：$a·b = |a|·|b|·\\cos\\theta$ ， 内积的结果是个标量\n",
    "\n",
    "$\\cos$是 临边/斜边"
   ]
  },
  {
   "cell_type": "code",
   "execution_count": 28,
   "id": "c3a36871-55ba-4c86-b4d8-498df730b78d",
   "metadata": {},
   "outputs": [
    {
     "data": {
      "text/plain": [
       "np.int64(178)"
      ]
     },
     "execution_count": 28,
     "metadata": {},
     "output_type": "execute_result"
    }
   ],
   "source": [
    "(a * b).sum()"
   ]
  },
  {
   "cell_type": "code",
   "execution_count": 29,
   "id": "7d216f19-b762-411e-b357-f1eb62ca43e1",
   "metadata": {},
   "outputs": [
    {
     "data": {
      "text/plain": [
       "np.int32(178)"
      ]
     },
     "execution_count": 29,
     "metadata": {},
     "output_type": "execute_result"
    }
   ],
   "source": [
    "#内积也可以这么写\n",
    "a @ b"
   ]
  },
  {
   "cell_type": "markdown",
   "id": "9624e294-5dc1-4d2a-b9bd-509f3f8c980a",
   "metadata": {},
   "source": [
    "### 余弦相似度\n",
    "- 本质：使用向量的`夹角`的余弦来代表向量的相似情况\n",
    "    - 0°：相似度1，相似度是最高的\n",
    "    - 90°：相似度为0，相似度是中等的\n",
    "    - 180°：相似度-1，相似度是反向\n",
    "    - 余弦相似度越大，代表两个向量越相似\n",
    "    - 的确存在逻辑上的错误！！！\n",
    "    - 大数据的核心是：工程折中！！！不是精准核算！！！\n",
    "    - 从纯数学角度看，一切模型都是错的！！\n",
    "    - 从工程角度看，大部分模型是有效的！！\n",
    "    - 半科研，半工程"
   ]
  },
  {
   "cell_type": "code",
   "execution_count": 30,
   "id": "c177da85-8b0d-4072-8c24-52a8320f4ed8",
   "metadata": {},
   "outputs": [],
   "source": [
    "# 求余弦相似度， 余弦相似度越高说明他们越相似\n",
    "cosine_similarity = a @ b / np.linalg.norm(a) / np.linalg.norm(b)"
   ]
  },
  {
   "cell_type": "code",
   "execution_count": 31,
   "id": "c08e055d-5185-4516-baa0-fda650c20546",
   "metadata": {},
   "outputs": [
    {
     "data": {
      "text/plain": [
       "np.float64(0.7561198853864955)"
      ]
     },
     "execution_count": 31,
     "metadata": {},
     "output_type": "execute_result"
    }
   ],
   "source": [
    "cosine_similarity"
   ]
  },
  {
   "attachments": {},
   "cell_type": "markdown",
   "id": "89720ef7-3965-402a-9104-5235a8d0f872",
   "metadata": {},
   "source": [
    "以上是从向量的角度看待a和b。"
   ]
  },
  {
   "cell_type": "markdown",
   "id": "be3e42aa-41be-4cb6-a60b-1cf66448489f",
   "metadata": {},
   "source": [
    "### 从欧氏空间角度看"
   ]
  },
  {
   "cell_type": "markdown",
   "id": "430e830e-de57-4970-957c-be3e2174ff26",
   "metadata": {},
   "source": [
    "从欧式空间的角度看，a和b都是空间内的点。欧氏空间内的距离就是两点之间的距离。\n",
    "\n",
    "在坐标系中，求a，b的距离时需要把两个点`分别`投射到x轴和y轴。\n",
    "\n",
    "a的坐标为 $(x_1, y_1)$ ，b的坐标为 $(x_2, y_2)$ "
   ]
  },
  {
   "cell_type": "markdown",
   "id": "f49126f8-038e-4efa-b69a-92d7f9102dd5",
   "metadata": {},
   "source": [
    "<img src=\"./欧氏空间内求两点距离.png\" width=350>"
   ]
  },
  {
   "cell_type": "code",
   "execution_count": 32,
   "id": "783165ec-dfef-43a5-860f-4188d02a6803",
   "metadata": {},
   "outputs": [
    {
     "data": {
      "text/plain": [
       "np.float64(10.954451150103322)"
      ]
     },
     "execution_count": 32,
     "metadata": {},
     "output_type": "execute_result"
    }
   ],
   "source": [
    "((a - b) ** 2).sum() ** 0.5"
   ]
  },
  {
   "cell_type": "code",
   "execution_count": 33,
   "id": "6f808dbb-efc5-46ce-9499-466d23d125c9",
   "metadata": {},
   "outputs": [
    {
     "data": {
      "text/plain": [
       "np.float64(10.954451150103322)"
      ]
     },
     "execution_count": 33,
     "metadata": {},
     "output_type": "execute_result"
    }
   ],
   "source": [
    "# 以后可以这么写\n",
    "np.linalg.norm(a - b)"
   ]
  },
  {
   "cell_type": "markdown",
   "id": "cd2a8353-66b6-4266-bd36-5e190d8a6a5a",
   "metadata": {},
   "source": [
    "### 3.如何看待数据\n",
    "- 两个视角\n",
    "    - 线性代数：向量：\n",
    "        - 余弦相似度\n",
    "            - 余弦相似度越高，代表样本越相似\n",
    "    - 欧式空间：点：\n",
    "        - 欧式距离：\n",
    "            - 欧式距离越小，代表样本越相似"
   ]
  },
  {
   "cell_type": "code",
   "execution_count": null,
   "id": "b781ee47-af5a-452f-8471-34993bea51ec",
   "metadata": {},
   "outputs": [],
   "source": []
  }
 ],
 "metadata": {
  "kernelspec": {
   "display_name": "Python(py311)",
   "language": "python",
   "name": "py311"
  },
  "language_info": {
   "codemirror_mode": {
    "name": "ipython",
    "version": 3
   },
   "file_extension": ".py",
   "mimetype": "text/x-python",
   "name": "python",
   "nbconvert_exporter": "python",
   "pygments_lexer": "ipython3",
   "version": "3.11.11"
  }
 },
 "nbformat": 4,
 "nbformat_minor": 5
}
