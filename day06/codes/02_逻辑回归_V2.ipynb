{
 "cells": [
  {
   "cell_type": "markdown",
   "id": "f396192d-3e57-428d-9245-490ea799b682",
   "metadata": {},
   "source": [
    "### 1. 加载数据"
   ]
  },
  {
   "cell_type": "code",
   "execution_count": 1,
   "id": "cd996762-be5e-4791-b8ba-96c85b08a090",
   "metadata": {},
   "outputs": [],
   "source": [
    "from sklearn.datasets import load_breast_cancer\n",
    "from sklearn.model_selection import train_test_split"
   ]
  },
  {
   "cell_type": "code",
   "execution_count": 2,
   "id": "e3a869c2-63b5-4f1f-957c-61753131e5e4",
   "metadata": {},
   "outputs": [],
   "source": [
    "# 加载数据\n",
    "X, y = load_breast_cancer(return_X_y=True)\n",
    "# 切分数据\n",
    "X_train, X_test, y_train, y_test = train_test_split(X, y, test_size=0.2, random_state=0)"
   ]
  },
  {
   "cell_type": "markdown",
   "id": "becfa59d-ae43-4e9d-887b-1442b25a30e0",
   "metadata": {},
   "source": [
    "### 2. 数据预处理"
   ]
  },
  {
   "cell_type": "code",
   "execution_count": 3,
   "id": "bafca1c8-6070-4792-aa16-32e968d20aec",
   "metadata": {},
   "outputs": [],
   "source": [
    "\"\"\"\n",
    "    标准化\n",
    "        - 对特征进行标准化处理\n",
    "\"\"\"\n",
    "# 提取需要的参数\n",
    "mu = X_train.mean(axis=0)\n",
    "sigma = X_train.std(axis=0)\n",
    "# 预处理特征\n",
    "X_train = (X_train - mu) / sigma\n",
    "X_test = (X_test - mu) / sigma"
   ]
  },
  {
   "cell_type": "markdown",
   "id": "b9a3f4e4-b5fe-4185-9579-b185562a5395",
   "metadata": {},
   "source": [
    "### 3. 构建模型"
   ]
  },
  {
   "cell_type": "code",
   "execution_count": 4,
   "id": "81ceec63-3b6c-494f-991d-52cdab78ce53",
   "metadata": {},
   "outputs": [],
   "source": [
    "import torch\n",
    "from torch import nn"
   ]
  },
  {
   "cell_type": "code",
   "execution_count": 5,
   "id": "be8d64ce-fba0-46cc-a76c-d1359fdd886d",
   "metadata": {},
   "outputs": [],
   "source": [
    "# 在V1中是自己实现了模型，实际中几乎不会那么些，实际情况如下：直接引入模型使用\n",
    "# input30个特征，output分2类。 这个就是线性层。\n",
    "model = nn.Linear(in_features=30, out_features=2)"
   ]
  },
  {
   "cell_type": "code",
   "execution_count": 6,
   "id": "628acb4c-d14e-4db7-8047-09d8a62a7c90",
   "metadata": {},
   "outputs": [
    {
     "data": {
      "text/plain": [
       "Linear(in_features=30, out_features=2, bias=True)"
      ]
     },
     "execution_count": 6,
     "metadata": {},
     "output_type": "execute_result"
    }
   ],
   "source": [
    "model"
   ]
  },
  {
   "cell_type": "code",
   "execution_count": 7,
   "id": "415b4d18-5462-4d25-9b21-553ab7dc5338",
   "metadata": {},
   "outputs": [
    {
     "data": {
      "text/plain": [
       "(Parameter containing:\n",
       " tensor([[-0.1691,  0.1356, -0.1293,  0.1630,  0.0865,  0.0282,  0.0184,  0.0105,\n",
       "          -0.0972, -0.0629,  0.0327, -0.0730, -0.1175,  0.1272,  0.0557,  0.1294,\n",
       "           0.0443,  0.1193, -0.0422,  0.0369,  0.1700,  0.0327, -0.1695,  0.0311,\n",
       "           0.0160,  0.0624, -0.0936, -0.1264,  0.1237,  0.0577],\n",
       "         [ 0.0916,  0.0542,  0.0121, -0.1256,  0.0117,  0.0143,  0.1646, -0.0613,\n",
       "          -0.0347,  0.0972,  0.0558,  0.1168,  0.1597,  0.1333,  0.1290,  0.1140,\n",
       "          -0.0253, -0.1126,  0.0659,  0.1317, -0.1795, -0.0067, -0.1657,  0.0910,\n",
       "           0.1325, -0.1712, -0.1791,  0.0898,  0.1225, -0.1076]],\n",
       "        requires_grad=True),\n",
       " torch.Size([2, 30]))"
      ]
     },
     "execution_count": 7,
     "metadata": {},
     "output_type": "execute_result"
    }
   ],
   "source": [
    "# 权重\n",
    "model.weight, model.weight.shape"
   ]
  },
  {
   "cell_type": "code",
   "execution_count": 8,
   "id": "33e1f72e-4323-403d-af89-1117396a5c29",
   "metadata": {},
   "outputs": [
    {
     "data": {
      "text/plain": [
       "(Parameter containing:\n",
       " tensor([0.0868, 0.1728], requires_grad=True),\n",
       " torch.Size([2]))"
      ]
     },
     "execution_count": 8,
     "metadata": {},
     "output_type": "execute_result"
    }
   ],
   "source": [
    "# 偏置\n",
    "model.bias, model.bias.shape"
   ]
  },
  {
   "cell_type": "markdown",
   "id": "3ba37fae-4eda-48a2-892f-8e19c61629c8",
   "metadata": {},
   "source": [
    "### 4. 准备训练"
   ]
  },
  {
   "cell_type": "code",
   "execution_count": 9,
   "id": "5d336347-6e58-457b-94bd-8bdab1b29232",
   "metadata": {},
   "outputs": [],
   "source": [
    "# 训练步数\n",
    "steps = 200\n",
    "# 优化器：把减梯度 和 清空梯度，封装成一个优化器\n",
    "# SGD 随机梯度下降\n",
    "optimizer = torch.optim.SGD(params=model.parameters(), lr=1e-3)\n",
    "# 损失函数:在前面V1中写的 get_cross_entropy()函数不用自己写，nn已封装好，可直接使用\n",
    "loss_fn = nn.CrossEntropyLoss()"
   ]
  },
  {
   "cell_type": "code",
   "execution_count": 10,
   "id": "928063a7-6580-4aff-8387-6d5edf33d61a",
   "metadata": {},
   "outputs": [],
   "source": [
    "\"\"\"\n",
    "    数据转张量\n",
    "        - 全量训练\n",
    "\"\"\"\n",
    "X_train = torch.tensor(data=X_train, dtype=torch.float32)\n",
    "X_test = torch.tensor(data=X_test, dtype=torch.float32)\n",
    "y_train = torch.tensor(data=y_train, dtype=torch.long)\n",
    "y_test = torch.tensor(data=y_test, dtype=torch.long)"
   ]
  },
  {
   "cell_type": "markdown",
   "id": "4ef5260c-fe13-4b7a-9e19-3d7c86b1358d",
   "metadata": {},
   "source": [
    "### 4. 过程监控"
   ]
  },
  {
   "cell_type": "code",
   "execution_count": 11,
   "id": "9c0ab109-54e7-4b8d-ba6c-0bdf0581a2e2",
   "metadata": {},
   "outputs": [],
   "source": [
    "def get_acc(X, y):\n",
    "    \"\"\"\n",
    "        计算准确率\n",
    "    \"\"\"\n",
    "    with torch.no_grad():\n",
    "        # 1，正向传播\n",
    "        y_pred = model(X)\n",
    "        # 2，解析结果\n",
    "        y_pred = y_pred.argmax(dim=1)\n",
    "        # 3, 计算准确率\n",
    "        acc = (y == y_pred).to(dtype=torch.float32).mean().item()\n",
    "    return acc"
   ]
  },
  {
   "cell_type": "markdown",
   "id": "72e92116-7a14-4ce7-bb89-f7dd7850fda6",
   "metadata": {},
   "source": [
    "### 5. 训练过程"
   ]
  },
  {
   "cell_type": "code",
   "execution_count": 12,
   "id": "dd56967e-5623-43e6-9dfd-66c829b4c546",
   "metadata": {},
   "outputs": [],
   "source": [
    "def train():\n",
    "    # 训练前，测试一下准确率\n",
    "    train_acc = get_acc(X=X_train, y=y_train)\n",
    "    test_acc = get_acc(X=X_test, y=y_test)\n",
    "    print(f\"开始训练之前，train_acc: {train_acc}, test_acc: {test_acc}\")\n",
    "    for step in range(steps):\n",
    "        # 1, 正向传播\n",
    "        y_pred = model(X_train)\n",
    "        # 2，计算损失\n",
    "        loss = loss_fn(y_pred, y_train)\n",
    "        # 3, 反向传播\n",
    "        loss.backward()\n",
    "        # 4, 优化一步\n",
    "        optimizer.step()\n",
    "        # 5，清空梯度\n",
    "        optimizer.zero_grad()\n",
    "\n",
    "        # 6, 模型评估\n",
    "        train_acc = get_acc(X=X_train, y=y_train)\n",
    "        test_acc = get_acc(X=X_test, y=y_test)\n",
    "        print(f\"训练了{step + 1}轮，train_acc: {train_acc}, test_acc: {test_acc}\")"
   ]
  },
  {
   "cell_type": "code",
   "execution_count": 13,
   "id": "2ca19edc-da35-4300-bb0a-af08033d9f85",
   "metadata": {
    "scrolled": true
   },
   "outputs": [
    {
     "name": "stdout",
     "output_type": "stream",
     "text": [
      "开始训练之前，train_acc: 0.6527472734451294, test_acc: 0.640350878238678\n",
      "训练了1轮，train_acc: 0.6615384817123413, test_acc: 0.6491228342056274\n",
      "训练了2轮，train_acc: 0.6615384817123413, test_acc: 0.6491228342056274\n",
      "训练了3轮，train_acc: 0.6659340858459473, test_acc: 0.6666666865348816\n",
      "训练了4轮，train_acc: 0.6681318879127502, test_acc: 0.6754385828971863\n",
      "训练了5轮，train_acc: 0.6769230961799622, test_acc: 0.6842105388641357\n",
      "训练了6轮，train_acc: 0.6769230961799622, test_acc: 0.7017543911933899\n",
      "训练了7轮，train_acc: 0.6747252941131592, test_acc: 0.7105262875556946\n",
      "训练了8轮，train_acc: 0.6769230961799622, test_acc: 0.7105262875556946\n",
      "训练了9轮，train_acc: 0.6857143044471741, test_acc: 0.7105262875556946\n",
      "训练了10轮，train_acc: 0.696703314781189, test_acc: 0.7105262875556946\n",
      "训练了11轮，train_acc: 0.7010989189147949, test_acc: 0.7105262875556946\n",
      "训练了12轮，train_acc: 0.7054945230484009, test_acc: 0.7105262875556946\n",
      "训练了13轮，train_acc: 0.7120879292488098, test_acc: 0.719298243522644\n",
      "训练了14轮，train_acc: 0.7142857313156128, test_acc: 0.7368420958518982\n",
      "训练了15轮，train_acc: 0.7164835333824158, test_acc: 0.7456140518188477\n",
      "训练了16轮，train_acc: 0.7318681478500366, test_acc: 0.7456140518188477\n",
      "训练了17轮，train_acc: 0.7318681478500366, test_acc: 0.7456140518188477\n",
      "训练了18轮，train_acc: 0.7384615540504456, test_acc: 0.7456140518188477\n",
      "训练了19轮，train_acc: 0.7450549602508545, test_acc: 0.7543859481811523\n",
      "训练了20轮，train_acc: 0.7450549602508545, test_acc: 0.7543859481811523\n",
      "训练了21轮，train_acc: 0.7472527623176575, test_acc: 0.7543859481811523\n",
      "训练了22轮，train_acc: 0.7560439705848694, test_acc: 0.7543859481811523\n",
      "训练了23轮，train_acc: 0.7604395747184753, test_acc: 0.7543859481811523\n",
      "训练了24轮，train_acc: 0.7670329809188843, test_acc: 0.7543859481811523\n",
      "训练了25轮，train_acc: 0.7714285850524902, test_acc: 0.7631579041481018\n",
      "训练了26轮，train_acc: 0.7736263871192932, test_acc: 0.7631579041481018\n",
      "训练了27轮，train_acc: 0.7780219912528992, test_acc: 0.7719298005104065\n",
      "训练了28轮，train_acc: 0.7824175953865051, test_acc: 0.7719298005104065\n",
      "训练了29轮，train_acc: 0.7846153974533081, test_acc: 0.7719298005104065\n",
      "训练了30轮，train_acc: 0.7868131995201111, test_acc: 0.780701756477356\n",
      "训练了31轮，train_acc: 0.7868131995201111, test_acc: 0.780701756477356\n",
      "训练了32轮，train_acc: 0.7890110015869141, test_acc: 0.7982456088066101\n",
      "训练了33轮，train_acc: 0.795604407787323, test_acc: 0.8070175647735596\n",
      "训练了34轮，train_acc: 0.8021978139877319, test_acc: 0.8070175647735596\n",
      "训练了35轮，train_acc: 0.8021978139877319, test_acc: 0.8157894611358643\n",
      "训练了36轮，train_acc: 0.8087912201881409, test_acc: 0.8157894611358643\n",
      "训练了37轮，train_acc: 0.8131868243217468, test_acc: 0.8245614171028137\n",
      "训练了38轮，train_acc: 0.8153846263885498, test_acc: 0.8333333134651184\n",
      "训练了39轮，train_acc: 0.8197802305221558, test_acc: 0.8333333134651184\n",
      "训练了40轮，train_acc: 0.8197802305221558, test_acc: 0.8333333134651184\n",
      "训练了41轮，train_acc: 0.8197802305221558, test_acc: 0.8333333134651184\n",
      "训练了42轮，train_acc: 0.8219780325889587, test_acc: 0.8333333134651184\n",
      "训练了43轮，train_acc: 0.8263736367225647, test_acc: 0.8333333134651184\n",
      "训练了44轮，train_acc: 0.8263736367225647, test_acc: 0.8508771657943726\n",
      "训练了45轮，train_acc: 0.8263736367225647, test_acc: 0.8508771657943726\n",
      "训练了46轮，train_acc: 0.8373626470565796, test_acc: 0.8508771657943726\n",
      "训练了47轮，train_acc: 0.8439560532569885, test_acc: 0.8508771657943726\n",
      "训练了48轮，train_acc: 0.8439560532569885, test_acc: 0.8508771657943726\n",
      "训练了49轮，train_acc: 0.8439560532569885, test_acc: 0.8508771657943726\n",
      "训练了50轮，train_acc: 0.8505494594573975, test_acc: 0.8508771657943726\n",
      "训练了51轮，train_acc: 0.8505494594573975, test_acc: 0.8508771657943726\n",
      "训练了52轮，train_acc: 0.8505494594573975, test_acc: 0.859649121761322\n",
      "训练了53轮，train_acc: 0.8549450635910034, test_acc: 0.859649121761322\n",
      "训练了54轮，train_acc: 0.8593406677246094, test_acc: 0.8684210777282715\n",
      "训练了55轮，train_acc: 0.8593406677246094, test_acc: 0.8684210777282715\n",
      "训练了56轮，train_acc: 0.8593406677246094, test_acc: 0.8684210777282715\n",
      "训练了57轮，train_acc: 0.8593406677246094, test_acc: 0.8684210777282715\n",
      "训练了58轮，train_acc: 0.8593406677246094, test_acc: 0.8684210777282715\n",
      "训练了59轮，train_acc: 0.8593406677246094, test_acc: 0.8684210777282715\n",
      "训练了60轮，train_acc: 0.8593406677246094, test_acc: 0.8684210777282715\n",
      "训练了61轮，train_acc: 0.8593406677246094, test_acc: 0.8684210777282715\n",
      "训练了62轮，train_acc: 0.8637362718582153, test_acc: 0.8771929740905762\n",
      "训练了63轮，train_acc: 0.8637362718582153, test_acc: 0.8771929740905762\n",
      "训练了64轮，train_acc: 0.8659340739250183, test_acc: 0.8771929740905762\n",
      "训练了65轮，train_acc: 0.8703296780586243, test_acc: 0.8771929740905762\n",
      "训练了66轮，train_acc: 0.8725274801254272, test_acc: 0.8771929740905762\n",
      "训练了67轮，train_acc: 0.8725274801254272, test_acc: 0.8771929740905762\n",
      "训练了68轮，train_acc: 0.8725274801254272, test_acc: 0.8771929740905762\n",
      "训练了69轮，train_acc: 0.8725274801254272, test_acc: 0.8771929740905762\n",
      "训练了70轮，train_acc: 0.8747252821922302, test_acc: 0.8771929740905762\n",
      "训练了71轮，train_acc: 0.8725274801254272, test_acc: 0.8771929740905762\n",
      "训练了72轮，train_acc: 0.8747252821922302, test_acc: 0.8771929740905762\n",
      "训练了73轮，train_acc: 0.8747252821922302, test_acc: 0.8771929740905762\n",
      "训练了74轮，train_acc: 0.8769230842590332, test_acc: 0.8771929740905762\n",
      "训练了75轮，train_acc: 0.8791208863258362, test_acc: 0.8771929740905762\n",
      "训练了76轮，train_acc: 0.8813186883926392, test_acc: 0.8771929740905762\n",
      "训练了77轮，train_acc: 0.8813186883926392, test_acc: 0.8771929740905762\n",
      "训练了78轮，train_acc: 0.8835164904594421, test_acc: 0.8771929740905762\n",
      "训练了79轮，train_acc: 0.8835164904594421, test_acc: 0.8771929740905762\n",
      "训练了80轮，train_acc: 0.8857142925262451, test_acc: 0.8771929740905762\n",
      "训练了81轮，train_acc: 0.8857142925262451, test_acc: 0.8859649300575256\n",
      "训练了82轮，train_acc: 0.8879120945930481, test_acc: 0.8859649300575256\n",
      "训练了83轮，train_acc: 0.8879120945930481, test_acc: 0.8859649300575256\n",
      "训练了84轮，train_acc: 0.8879120945930481, test_acc: 0.8859649300575256\n",
      "训练了85轮，train_acc: 0.8879120945930481, test_acc: 0.8859649300575256\n",
      "训练了86轮，train_acc: 0.8879120945930481, test_acc: 0.8947368264198303\n",
      "训练了87轮，train_acc: 0.8879120945930481, test_acc: 0.9035087823867798\n",
      "训练了88轮，train_acc: 0.8901098966598511, test_acc: 0.9035087823867798\n",
      "训练了89轮，train_acc: 0.8901098966598511, test_acc: 0.9035087823867798\n",
      "训练了90轮，train_acc: 0.8901098966598511, test_acc: 0.9035087823867798\n",
      "训练了91轮，train_acc: 0.892307698726654, test_acc: 0.9035087823867798\n",
      "训练了92轮，train_acc: 0.892307698726654, test_acc: 0.9035087823867798\n",
      "训练了93轮，train_acc: 0.892307698726654, test_acc: 0.9035087823867798\n",
      "训练了94轮，train_acc: 0.892307698726654, test_acc: 0.9035087823867798\n",
      "训练了95轮，train_acc: 0.892307698726654, test_acc: 0.9035087823867798\n",
      "训练了96轮，train_acc: 0.892307698726654, test_acc: 0.9035087823867798\n",
      "训练了97轮，train_acc: 0.892307698726654, test_acc: 0.9035087823867798\n",
      "训练了98轮，train_acc: 0.892307698726654, test_acc: 0.9035087823867798\n",
      "训练了99轮，train_acc: 0.892307698726654, test_acc: 0.9122806787490845\n",
      "训练了100轮，train_acc: 0.8901098966598511, test_acc: 0.9122806787490845\n",
      "训练了101轮，train_acc: 0.8901098966598511, test_acc: 0.9122806787490845\n",
      "训练了102轮，train_acc: 0.8901098966598511, test_acc: 0.9122806787490845\n",
      "训练了103轮，train_acc: 0.892307698726654, test_acc: 0.9122806787490845\n",
      "训练了104轮，train_acc: 0.8901098966598511, test_acc: 0.9122806787490845\n",
      "训练了105轮，train_acc: 0.8901098966598511, test_acc: 0.9122806787490845\n",
      "训练了106轮，train_acc: 0.892307698726654, test_acc: 0.9122806787490845\n",
      "训练了107轮，train_acc: 0.892307698726654, test_acc: 0.9122806787490845\n",
      "训练了108轮，train_acc: 0.894505500793457, test_acc: 0.9122806787490845\n",
      "训练了109轮，train_acc: 0.894505500793457, test_acc: 0.9122806787490845\n",
      "训练了110轮，train_acc: 0.894505500793457, test_acc: 0.9122806787490845\n",
      "训练了111轮，train_acc: 0.898901104927063, test_acc: 0.9122806787490845\n",
      "训练了112轮，train_acc: 0.898901104927063, test_acc: 0.9122806787490845\n",
      "训练了113轮，train_acc: 0.901098906993866, test_acc: 0.9122806787490845\n",
      "训练了114轮，train_acc: 0.901098906993866, test_acc: 0.9122806787490845\n",
      "训练了115轮，train_acc: 0.903296709060669, test_acc: 0.9122806787490845\n",
      "训练了116轮，train_acc: 0.903296709060669, test_acc: 0.9122806787490845\n",
      "训练了117轮，train_acc: 0.9054945111274719, test_acc: 0.9122806787490845\n",
      "训练了118轮，train_acc: 0.9054945111274719, test_acc: 0.9122806787490845\n",
      "训练了119轮，train_acc: 0.9054945111274719, test_acc: 0.9122806787490845\n",
      "训练了120轮，train_acc: 0.9054945111274719, test_acc: 0.9122806787490845\n",
      "训练了121轮，train_acc: 0.9054945111274719, test_acc: 0.9122806787490845\n",
      "训练了122轮，train_acc: 0.9054945111274719, test_acc: 0.9122806787490845\n",
      "训练了123轮，train_acc: 0.9054945111274719, test_acc: 0.9122806787490845\n",
      "训练了124轮，train_acc: 0.9054945111274719, test_acc: 0.9122806787490845\n",
      "训练了125轮，train_acc: 0.9054945111274719, test_acc: 0.9122806787490845\n",
      "训练了126轮，train_acc: 0.9076923131942749, test_acc: 0.9122806787490845\n",
      "训练了127轮，train_acc: 0.9120879173278809, test_acc: 0.9122806787490845\n",
      "训练了128轮，train_acc: 0.9120879173278809, test_acc: 0.9122806787490845\n",
      "训练了129轮，train_acc: 0.9164835214614868, test_acc: 0.9122806787490845\n",
      "训练了130轮，train_acc: 0.9164835214614868, test_acc: 0.9122806787490845\n",
      "训练了131轮，train_acc: 0.9164835214614868, test_acc: 0.9122806787490845\n",
      "训练了132轮，train_acc: 0.9164835214614868, test_acc: 0.9122806787490845\n",
      "训练了133轮，train_acc: 0.9164835214614868, test_acc: 0.9122806787490845\n",
      "训练了134轮，train_acc: 0.9164835214614868, test_acc: 0.9122806787490845\n",
      "训练了135轮，train_acc: 0.9164835214614868, test_acc: 0.9122806787490845\n",
      "训练了136轮，train_acc: 0.9164835214614868, test_acc: 0.9122806787490845\n",
      "训练了137轮，train_acc: 0.9164835214614868, test_acc: 0.9122806787490845\n",
      "训练了138轮，train_acc: 0.9164835214614868, test_acc: 0.9122806787490845\n",
      "训练了139轮，train_acc: 0.9186813235282898, test_acc: 0.9122806787490845\n",
      "训练了140轮，train_acc: 0.9186813235282898, test_acc: 0.9122806787490845\n",
      "训练了141轮，train_acc: 0.9186813235282898, test_acc: 0.9122806787490845\n",
      "训练了142轮，train_acc: 0.9186813235282898, test_acc: 0.9122806787490845\n",
      "训练了143轮，train_acc: 0.9186813235282898, test_acc: 0.9122806787490845\n",
      "训练了144轮，train_acc: 0.9186813235282898, test_acc: 0.9122806787490845\n",
      "训练了145轮，train_acc: 0.9186813235282898, test_acc: 0.9122806787490845\n",
      "训练了146轮，train_acc: 0.9186813235282898, test_acc: 0.9122806787490845\n",
      "训练了147轮，train_acc: 0.9186813235282898, test_acc: 0.9122806787490845\n",
      "训练了148轮，train_acc: 0.9186813235282898, test_acc: 0.9122806787490845\n",
      "训练了149轮，train_acc: 0.9186813235282898, test_acc: 0.9122806787490845\n",
      "训练了150轮，train_acc: 0.9186813235282898, test_acc: 0.9122806787490845\n",
      "训练了151轮，train_acc: 0.9186813235282898, test_acc: 0.9122806787490845\n",
      "训练了152轮，train_acc: 0.9186813235282898, test_acc: 0.9122806787490845\n",
      "训练了153轮，train_acc: 0.9186813235282898, test_acc: 0.9035087823867798\n",
      "训练了154轮，train_acc: 0.9186813235282898, test_acc: 0.9035087823867798\n",
      "训练了155轮，train_acc: 0.9186813235282898, test_acc: 0.9035087823867798\n",
      "训练了156轮，train_acc: 0.9208791255950928, test_acc: 0.9035087823867798\n",
      "训练了157轮，train_acc: 0.9208791255950928, test_acc: 0.9035087823867798\n",
      "训练了158轮，train_acc: 0.9208791255950928, test_acc: 0.9035087823867798\n",
      "训练了159轮，train_acc: 0.9208791255950928, test_acc: 0.9035087823867798\n",
      "训练了160轮，train_acc: 0.9208791255950928, test_acc: 0.9035087823867798\n",
      "训练了161轮，train_acc: 0.9230769276618958, test_acc: 0.9035087823867798\n",
      "训练了162轮，train_acc: 0.9230769276618958, test_acc: 0.9035087823867798\n",
      "训练了163轮，train_acc: 0.9230769276618958, test_acc: 0.9035087823867798\n",
      "训练了164轮，train_acc: 0.9230769276618958, test_acc: 0.9035087823867798\n",
      "训练了165轮，train_acc: 0.9230769276618958, test_acc: 0.9035087823867798\n",
      "训练了166轮，train_acc: 0.9230769276618958, test_acc: 0.9035087823867798\n",
      "训练了167轮，train_acc: 0.9230769276618958, test_acc: 0.9035087823867798\n",
      "训练了168轮，train_acc: 0.9230769276618958, test_acc: 0.9035087823867798\n",
      "训练了169轮，train_acc: 0.9230769276618958, test_acc: 0.9035087823867798\n",
      "训练了170轮，train_acc: 0.9230769276618958, test_acc: 0.9035087823867798\n",
      "训练了171轮，train_acc: 0.9230769276618958, test_acc: 0.9035087823867798\n",
      "训练了172轮，train_acc: 0.9230769276618958, test_acc: 0.9035087823867798\n",
      "训练了173轮，train_acc: 0.9230769276618958, test_acc: 0.9122806787490845\n",
      "训练了174轮，train_acc: 0.9230769276618958, test_acc: 0.9122806787490845\n",
      "训练了175轮，train_acc: 0.9230769276618958, test_acc: 0.9122806787490845\n",
      "训练了176轮，train_acc: 0.9230769276618958, test_acc: 0.9122806787490845\n",
      "训练了177轮，train_acc: 0.9230769276618958, test_acc: 0.9122806787490845\n",
      "训练了178轮，train_acc: 0.9230769276618958, test_acc: 0.9122806787490845\n",
      "训练了179轮，train_acc: 0.9230769276618958, test_acc: 0.9122806787490845\n",
      "训练了180轮，train_acc: 0.9230769276618958, test_acc: 0.9122806787490845\n",
      "训练了181轮，train_acc: 0.9230769276618958, test_acc: 0.9122806787490845\n",
      "训练了182轮，train_acc: 0.9230769276618958, test_acc: 0.9122806787490845\n",
      "训练了183轮，train_acc: 0.9230769276618958, test_acc: 0.9122806787490845\n",
      "训练了184轮，train_acc: 0.9230769276618958, test_acc: 0.9122806787490845\n",
      "训练了185轮，train_acc: 0.9230769276618958, test_acc: 0.9122806787490845\n",
      "训练了186轮，train_acc: 0.9230769276618958, test_acc: 0.9122806787490845\n",
      "训练了187轮，train_acc: 0.9230769276618958, test_acc: 0.9122806787490845\n",
      "训练了188轮，train_acc: 0.9252747297286987, test_acc: 0.9122806787490845\n",
      "训练了189轮，train_acc: 0.9252747297286987, test_acc: 0.9122806787490845\n",
      "训练了190轮，train_acc: 0.9252747297286987, test_acc: 0.9122806787490845\n",
      "训练了191轮，train_acc: 0.9252747297286987, test_acc: 0.9122806787490845\n",
      "训练了192轮，train_acc: 0.9252747297286987, test_acc: 0.9122806787490845\n",
      "训练了193轮，train_acc: 0.9252747297286987, test_acc: 0.9122806787490845\n",
      "训练了194轮，train_acc: 0.9252747297286987, test_acc: 0.9122806787490845\n",
      "训练了195轮，train_acc: 0.9252747297286987, test_acc: 0.9122806787490845\n",
      "训练了196轮，train_acc: 0.9252747297286987, test_acc: 0.9122806787490845\n",
      "训练了197轮，train_acc: 0.9252747297286987, test_acc: 0.9122806787490845\n",
      "训练了198轮，train_acc: 0.9252747297286987, test_acc: 0.9122806787490845\n",
      "训练了199轮，train_acc: 0.9252747297286987, test_acc: 0.9122806787490845\n",
      "训练了200轮，train_acc: 0.9252747297286987, test_acc: 0.9122806787490845\n"
     ]
    }
   ],
   "source": [
    "train()"
   ]
  },
  {
   "cell_type": "markdown",
   "id": "ad5c7670-c835-4c00-977f-07176b7e9639",
   "metadata": {},
   "source": [
    "### 6, 模型保存"
   ]
  },
  {
   "cell_type": "code",
   "execution_count": 14,
   "id": "7c37b935-3e9f-4f3e-a426-1f1ae89fafda",
   "metadata": {},
   "outputs": [],
   "source": [
    "\"\"\"\n",
    "    1，模型整体保存和加载\n",
    "        - 不推荐\n",
    "\"\"\"\n",
    "# 保存模型\n",
    "torch.save(obj=model, f=\"model.lxh\")\n",
    "# 加载模型\n",
    "m = torch.load(f=\"model.lxh\", weights_only=False)"
   ]
  },
  {
   "cell_type": "code",
   "execution_count": 15,
   "id": "c636d27e-1825-427b-a465-93cc0465e8ab",
   "metadata": {},
   "outputs": [
    {
     "data": {
      "text/plain": [
       "<All keys matched successfully>"
      ]
     },
     "execution_count": 15,
     "metadata": {},
     "output_type": "execute_result"
    }
   ],
   "source": [
    "\"\"\"\n",
    "    2, 参数和网络分离式保存\n",
    "        - 骨肉分离\n",
    "\"\"\"\n",
    "# 1, 保存权重\n",
    "# torch.save(obj=model.state_dict(), f=\"model.pt\")\n",
    "\n",
    "# 加载模型：1，构建模型(随机初始化)。 2，把加载的权重 替换给刚刚初始化的模型里\n",
    "m = nn.Linear(in_features=30, out_features=2)\n",
    "m.load_state_dict(state_dict=torch.load(f=\"model.pt\", weights_only=True))"
   ]
  },
  {
   "cell_type": "markdown",
   "id": "b8d6a4e6-cf05-4641-9fe9-ce1482d02603",
   "metadata": {},
   "source": [
    "### 7. 推理流程"
   ]
  },
  {
   "cell_type": "code",
   "execution_count": 16,
   "id": "97ac4e7c-0ef3-41af-91c5-eb50a397a58e",
   "metadata": {},
   "outputs": [],
   "source": [
    "# 初始化模型\n",
    "m = nn.Linear(in_features=30, out_features=2)\n",
    "\n",
    "# 加载训练好的权重\n",
    "m.load_state_dict(state_dict=torch.load(f='./model.pt', weights_only=True))\n",
    "\n",
    "def predict(X):\n",
    "    \"\"\"\n",
    "        推理流程\n",
    "    \"\"\"\n",
    "    # 类型校验. Tensor是强类型，所以本身就是tensor却又进行转换就会出警告，为了不看到这个警告 所以先对类型进行校验\n",
    "    if not isinstance(X, torch.Tensor):\n",
    "        X = torch.tensor(data=X, dtype=torch.float32)\n",
    "    # 数据结构判断 [batch_size, num_features]\n",
    "    if X.ndim !=2 or X.size(1) != 30:\n",
    "        raise ValueError(\"输入数据有误！！！\")\n",
    "    # 模型推理\n",
    "    y_pred = m(X)\n",
    "    y_pred = y_pred.argmax(dim=1)\n",
    "    return y_pred"
   ]
  },
  {
   "cell_type": "code",
   "execution_count": 17,
   "id": "d4e7e0db-ee57-40c1-9bde-19c6efdf925a",
   "metadata": {},
   "outputs": [],
   "source": [
    "y_pred = predict(X=X_test)"
   ]
  },
  {
   "cell_type": "code",
   "execution_count": 18,
   "id": "7e5b3c74-bcad-4752-af69-34175a382244",
   "metadata": {},
   "outputs": [
    {
     "data": {
      "text/plain": [
       "tensor([0, 1, 1, 1, 1, 1, 1, 1, 1, 1, 1, 1, 1, 1, 1, 0, 1, 0, 0, 0, 0, 0, 1, 1,\n",
       "        0, 1, 1, 0, 1, 0, 1, 0, 1, 0, 1, 0, 1, 0, 1, 0, 0, 1, 0, 1, 1, 0, 1, 1,\n",
       "        1, 0, 0, 0, 0, 1, 1, 1, 1, 1, 1, 0, 0, 0, 1, 1, 0, 1, 0, 0, 0, 1, 1, 0,\n",
       "        1, 0, 0, 1, 1, 1, 1, 1, 0, 0, 0, 1, 0, 1, 1, 1, 0, 0, 1, 0, 1, 0, 1, 1,\n",
       "        0, 1, 1, 1, 1, 1, 1, 1, 0, 1, 0, 1, 0, 0, 1, 0, 0, 1])"
      ]
     },
     "execution_count": 18,
     "metadata": {},
     "output_type": "execute_result"
    }
   ],
   "source": [
    "y_test"
   ]
  },
  {
   "cell_type": "code",
   "execution_count": 19,
   "id": "38825ce6-168a-4087-8c71-4d7af4a6cfbd",
   "metadata": {},
   "outputs": [],
   "source": [
    "from sklearn.metrics import accuracy_score"
   ]
  },
  {
   "cell_type": "code",
   "execution_count": 20,
   "id": "bedce566-31b7-482c-b54d-d1fa45309420",
   "metadata": {},
   "outputs": [
    {
     "data": {
      "text/plain": [
       "0.9473684210526315"
      ]
     },
     "execution_count": 20,
     "metadata": {},
     "output_type": "execute_result"
    }
   ],
   "source": [
    "acc = accuracy_score(y_true=y_test, y_pred=y_pred)\n",
    "acc"
   ]
  },
  {
   "cell_type": "code",
   "execution_count": null,
   "id": "66e9014f-ddd8-4d45-8168-ff1d9381c467",
   "metadata": {},
   "outputs": [],
   "source": []
  }
 ],
 "metadata": {
  "kernelspec": {
   "display_name": "Python(py311)",
   "language": "python",
   "name": "py311"
  },
  "language_info": {
   "codemirror_mode": {
    "name": "ipython",
    "version": 3
   },
   "file_extension": ".py",
   "mimetype": "text/x-python",
   "name": "python",
   "nbconvert_exporter": "python",
   "pygments_lexer": "ipython3",
   "version": "3.11.11"
  }
 },
 "nbformat": 4,
 "nbformat_minor": 5
}
