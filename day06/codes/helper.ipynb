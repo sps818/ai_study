{
 "cells": [
  {
   "cell_type": "markdown",
   "id": "63873333-be96-49da-add8-523188a0c362",
   "metadata": {},
   "source": [
    "### 1. 信息熵\n",
    "- information entropy\n",
    "- 决策树里会用到"
   ]
  },
  {
   "cell_type": "code",
   "execution_count": 37,
   "id": "147cc0f4-9fae-4fc8-9661-47ebb9b005d7",
   "metadata": {},
   "outputs": [],
   "source": [
    "import numpy as np"
   ]
  },
  {
   "cell_type": "code",
   "execution_count": 39,
   "id": "da1ac38b-f787-40db-ae76-55028db77783",
   "metadata": {},
   "outputs": [],
   "source": [
    "probs = np.array([0.999, 0.001, 0.001])"
   ]
  },
  {
   "cell_type": "code",
   "execution_count": 41,
   "id": "57c91958-20bf-449b-adf1-08f6ea35084b",
   "metadata": {},
   "outputs": [
    {
     "data": {
      "text/plain": [
       "0.02137354202212335"
      ]
     },
     "execution_count": 41,
     "metadata": {},
     "output_type": "execute_result"
    }
   ],
   "source": [
    "entropy = probs @ np.log2(1 / probs) \n",
    "entropy"
   ]
  },
  {
   "cell_type": "markdown",
   "id": "40f4d08b-f566-4e50-a567-1e07143171bb",
   "metadata": {},
   "source": [
    "### 2. 交叉熵\n",
    "- cross entropy\n",
    "- 分类问题最重要的损失函数\n",
    "- 衡量预测结果和真实分类之间的误差\n",
    "- 本质：从概率分布的角度来衡量损失"
   ]
  },
  {
   "cell_type": "code",
   "execution_count": 44,
   "id": "54f7e587-8d45-42fd-8644-b770e83a69dd",
   "metadata": {},
   "outputs": [],
   "source": [
    "\"\"\"\n",
    "    总共有3类：\n",
    "        - 0， 1， 2\n",
    "        - 真实标签：2\n",
    "\"\"\"\n",
    "# 真实标签\n",
    "y_true = 2\n",
    "# 预测结果（原始输出）\n",
    "y_pred = np.array([-0.32, 0.04, 1.98])\n",
    "# y_pred = np.array([-0.32, 1.90, 1.98])"
   ]
  },
  {
   "cell_type": "code",
   "execution_count": 46,
   "id": "69e195f8-4765-4c9f-974e-36d5360d31e4",
   "metadata": {},
   "outputs": [],
   "source": [
    "# 1，把真实标签变为概率分布（one-hot）\n",
    "y_true = np.array([0.0, 0.0, 1.0])"
   ]
  },
  {
   "cell_type": "code",
   "execution_count": 48,
   "id": "25e09881-664e-4e84-af6d-5a0634a5046e",
   "metadata": {},
   "outputs": [],
   "source": [
    "# 2，把模型原始预测输出变为概率分布（softmax）\n",
    "y_pred = np.exp(y_pred) / np.exp(y_pred).sum()"
   ]
  },
  {
   "cell_type": "code",
   "execution_count": 54,
   "id": "e71e2726-c1e8-4b4e-a630-7fc795f88191",
   "metadata": {},
   "outputs": [],
   "source": [
    "# 3. 交叉熵 cross entropy\n",
    "ce = y_true @ np.log(1 / y_pred)"
   ]
  },
  {
   "cell_type": "code",
   "execution_count": 56,
   "id": "059f0532-9252-4c55-9753-1e8d2d4b53eb",
   "metadata": {},
   "outputs": [
    {
     "data": {
      "text/plain": [
       "0.21830208510806134"
      ]
     },
     "execution_count": 56,
     "metadata": {},
     "output_type": "execute_result"
    }
   ],
   "source": [
    "ce"
   ]
  },
  {
   "cell_type": "code",
   "execution_count": null,
   "id": "8e61a69c-e8e4-4428-9334-7c9d39f804e8",
   "metadata": {},
   "outputs": [],
   "source": []
  }
 ],
 "metadata": {
  "kernelspec": {
   "display_name": "Python 3 (ipykernel)",
   "language": "python",
   "name": "python3"
  },
  "language_info": {
   "codemirror_mode": {
    "name": "ipython",
    "version": 3
   },
   "file_extension": ".py",
   "mimetype": "text/x-python",
   "name": "python",
   "nbconvert_exporter": "python",
   "pygments_lexer": "ipython3",
   "version": "3.11.8"
  }
 },
 "nbformat": 4,
 "nbformat_minor": 5
}
