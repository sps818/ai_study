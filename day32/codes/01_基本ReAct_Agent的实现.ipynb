{
 "cells": [
  {
   "cell_type": "markdown",
   "id": "fda1d05b-8d3e-4224-bbb1-08a7fbd4f698",
   "metadata": {},
   "source": [
    "### 1. 基本调用模型"
   ]
  },
  {
   "cell_type": "code",
   "execution_count": 1,
   "id": "632338a8-e6c9-4cb6-a91f-723081a49864",
   "metadata": {},
   "outputs": [],
   "source": [
    "from models import get_chat"
   ]
  },
  {
   "cell_type": "code",
   "execution_count": 2,
   "id": "368dfaa8-eb80-4150-8110-46f323b6aaaf",
   "metadata": {},
   "outputs": [],
   "source": [
    "model = get_chat()"
   ]
  },
  {
   "cell_type": "code",
   "execution_count": 3,
   "id": "bc66f595-84e4-43ec-ac2b-d44ec4749d14",
   "metadata": {},
   "outputs": [
    {
     "data": {
      "text/plain": [
       "AIMessage(content='我是阿里云开发的一款超大规模语言模型，我叫通义千问。', additional_kwargs={}, response_metadata={'model_name': 'qwen-turbo', 'finish_reason': 'stop', 'request_id': '0d386928-bd21-9737-bd38-fc2fcc893f7e', 'token_usage': {'input_tokens': 11, 'output_tokens': 17, 'total_tokens': 28}}, id='run-4597435c-731d-48e9-9061-4082f183e73f-0')"
      ]
     },
     "execution_count": 3,
     "metadata": {},
     "output_type": "execute_result"
    }
   ],
   "source": [
    "model.invoke(input=\"你是谁？\")"
   ]
  },
  {
   "cell_type": "code",
   "execution_count": 4,
   "id": "ff261ce6-18c7-449d-8bee-f533356451e4",
   "metadata": {},
   "outputs": [
    {
     "data": {
      "text/plain": [
       "AIMessage(content='我无法回答您的问题，因为我不具有查看时间的功能。您可以查看所在设备的时间来获取准确的时间信息。', additional_kwargs={}, response_metadata={'model_name': 'qwen-turbo', 'finish_reason': 'stop', 'request_id': 'fdbe2d23-67f2-9348-997a-bc3cfa6ba90c', 'token_usage': {'input_tokens': 12, 'output_tokens': 24, 'total_tokens': 36}}, id='run-5f3dc2d9-9219-4ea3-86ee-6e5cc0b5a5b7-0')"
      ]
     },
     "execution_count": 4,
     "metadata": {},
     "output_type": "execute_result"
    }
   ],
   "source": [
    "model.invoke(input=\"现在几点了？\")"
   ]
  },
  {
   "cell_type": "markdown",
   "id": "0b32b9d3-cff7-4db7-ab04-f58aba224518",
   "metadata": {},
   "source": [
    "### 2. 定义外部工具"
   ]
  },
  {
   "cell_type": "code",
   "execution_count": 5,
   "id": "85d426b4-e757-41f1-95b2-2b1b5c5323dd",
   "metadata": {},
   "outputs": [],
   "source": [
    "from datetime import datetime"
   ]
  },
  {
   "cell_type": "code",
   "execution_count": 6,
   "id": "f45f3dcc-b2b4-4c7d-a908-4dfcbe51b4b7",
   "metadata": {},
   "outputs": [],
   "source": [
    "def get_current_datetime():\n",
    "    \"\"\"\n",
    "        查询当前的日期和时间\n",
    "    \"\"\" \n",
    "    now = datetime.now()\n",
    "    formatted_date = now.strftime(\"%Y-%m-%d %H:%M:%S\")\n",
    "    return formatted_date"
   ]
  },
  {
   "cell_type": "markdown",
   "id": "1410acbf-4aec-4453-a77c-367640f50868",
   "metadata": {},
   "source": [
    "### 3. 构建一个Agent"
   ]
  },
  {
   "cell_type": "code",
   "execution_count": 7,
   "id": "79b782d8-fab1-4fdc-8094-fd76bfd6ae7f",
   "metadata": {},
   "outputs": [],
   "source": [
    "from langgraph.prebuilt import create_react_agent"
   ]
  },
  {
   "cell_type": "code",
   "execution_count": 8,
   "id": "a7526033-affa-4d7f-bb48-7a0eeaa23062",
   "metadata": {},
   "outputs": [],
   "source": [
    "agent = create_react_agent(model=model, tools=[get_current_datetime])"
   ]
  },
  {
   "cell_type": "markdown",
   "id": "2f8871f5-afbe-4c89-bbd8-1c6197c080ab",
   "metadata": {},
   "source": [
    "### 3. 调用agent"
   ]
  },
  {
   "cell_type": "code",
   "execution_count": 9,
   "id": "31778cd2-849d-4d54-80d3-d581195833b5",
   "metadata": {},
   "outputs": [],
   "source": [
    "results = agent.invoke(input={\"messages\": [(\"user\", \"现在几点了？\")]})"
   ]
  },
  {
   "cell_type": "code",
   "execution_count": 10,
   "id": "31ad15c1-74fc-404c-86e5-083d2b161b6e",
   "metadata": {},
   "outputs": [
    {
     "name": "stdout",
     "output_type": "stream",
     "text": [
      "================================\u001b[1m Human Message \u001b[0m=================================\n",
      "\n",
      "现在几点了？\n",
      "==================================\u001b[1m Ai Message \u001b[0m==================================\n",
      "Tool Calls:\n",
      "  get_current_datetime (call_5a442b89a4d34d04af845f)\n",
      " Call ID: call_5a442b89a4d34d04af845f\n",
      "  Args:\n",
      "=================================\u001b[1m Tool Message \u001b[0m=================================\n",
      "Name: get_current_datetime\n",
      "\n",
      "2025-01-05 09:23:46\n",
      "==================================\u001b[1m Ai Message \u001b[0m==================================\n",
      "\n",
      "现在的时间是 2025年1月5日 上午9:23:46。\n"
     ]
    }
   ],
   "source": [
    "for msg in results[\"messages\"]:\n",
    "    msg.pretty_print()"
   ]
  },
  {
   "cell_type": "code",
   "execution_count": null,
   "id": "ac2be049-7795-4036-866f-3b2bbf474826",
   "metadata": {},
   "outputs": [],
   "source": []
  }
 ],
 "metadata": {
  "kernelspec": {
   "display_name": "Python 3 (ipykernel)",
   "language": "python",
   "name": "python3"
  },
  "language_info": {
   "codemirror_mode": {
    "name": "ipython",
    "version": 3
   },
   "file_extension": ".py",
   "mimetype": "text/x-python",
   "name": "python",
   "nbconvert_exporter": "python",
   "pygments_lexer": "ipython3",
   "version": "3.12.4"
  }
 },
 "nbformat": 4,
 "nbformat_minor": 5
}
