{
 "cells": [
  {
   "cell_type": "code",
   "execution_count": 1,
   "id": "6b60a84f-bf90-4544-bc7e-6edf27f39191",
   "metadata": {},
   "outputs": [],
   "source": [
    "from langchain_core.prompts import PromptTemplate\n",
    "\n",
    "prompt = PromptTemplate.from_template(\"{instructions}\\n\\nYou have access to the following tools:\\n\\n{tools}\\n\\nTo use a tool, please use the following format:\\n\\n        Thought: Do I need to use a tool? Yes\\n        Action: the action to take, should be one of [{tool_names}]\\n        Action Input: the input to the action\\n        Observation: the result of the action\\n\\nWhen you have a response to say to the Human, or if you do not need to use a tool, you MUST use the format:\\n\\n        Thought: Do I need to use a tool? No\\n        Final Answer: [your response here]\\n\\nDo not attach backticks to any of your outputs, including thoughts, tool calls and final answers.\\n\\nBegin!\\n\\nNew input: {input}\\n\\n{agent_scratchpad} \")"
   ]
  },
  {
   "cell_type": "code",
   "execution_count": 4,
   "id": "aa472e58-a58f-4732-aa10-4c3ba6a5e38b",
   "metadata": {},
   "outputs": [
    {
     "name": "stdout",
     "output_type": "stream",
     "text": [
      "{instructions}\n",
      "\n",
      "You have access to the following tools:\n",
      "\n",
      "{tools}\n",
      "\n",
      "To use a tool, please use the following format:\n",
      "\n",
      "        Thought: Do I need to use a tool? Yes\n",
      "        Action: the action to take, should be one of [{tool_names}]\n",
      "        Action Input: the input to the action\n",
      "        Observation: the result of the action\n",
      "\n",
      "When you have a response to say to the Human, or if you do not need to use a tool, you MUST use the format:\n",
      "\n",
      "        Thought: Do I need to use a tool? No\n",
      "        Final Answer: [your response here]\n",
      "\n",
      "Do not attach backticks to any of your outputs, including thoughts, tool calls and final answers.\n",
      "\n",
      "Begin!\n",
      "\n",
      "New input: {input}\n",
      "\n",
      "{agent_scratchpad} \n"
     ]
    }
   ],
   "source": [
    "print(prompt.template)"
   ]
  },
  {
   "cell_type": "code",
   "execution_count": null,
   "id": "0f52e993-b314-48d2-8bb0-4b87b50d0179",
   "metadata": {},
   "outputs": [],
   "source": []
  }
 ],
 "metadata": {
  "kernelspec": {
   "display_name": "Python 3 (ipykernel)",
   "language": "python",
   "name": "python3"
  },
  "language_info": {
   "codemirror_mode": {
    "name": "ipython",
    "version": 3
   },
   "file_extension": ".py",
   "mimetype": "text/x-python",
   "name": "python",
   "nbconvert_exporter": "python",
   "pygments_lexer": "ipython3",
   "version": "3.12.4"
  }
 },
 "nbformat": 4,
 "nbformat_minor": 5
}
