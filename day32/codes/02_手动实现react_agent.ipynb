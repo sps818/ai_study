{
 "cells": [
  {
   "cell_type": "markdown",
   "id": "4cddbce7-36a2-4400-a1d7-b137d4d29693",
   "metadata": {},
   "source": [
    "### 1. 引入依赖"
   ]
  },
  {
   "cell_type": "code",
   "execution_count": 1,
   "id": "14910c29-a170-4a1a-94e4-9f1b831df33e",
   "metadata": {},
   "outputs": [],
   "source": [
    "# 类型 限制\n",
    "from typing import Annotated, Literal, TypedDict\n",
    "# 人类消息\n",
    "from langchain_core.messages import HumanMessage\n",
    "# 加载大模型\n",
    "from models import get_chat\n",
    "# 当做装饰器使用，把一个普通的函数变成一个agent可以调用的工具\n",
    "from langchain_core.tools import tool\n",
    "# 消息持久化\n",
    "from langgraph.checkpoint.memory import MemorySaver\n",
    "# 引入预定义的一些类或工具\n",
    "from langgraph.graph import END, START, StateGraph, MessagesState\n",
    "# 引入一个预编译的工具节点\n",
    "from langgraph.prebuilt import ToolNode\n",
    "# 引入一个 datetime\n",
    "from datetime import datetime"
   ]
  },
  {
   "cell_type": "markdown",
   "id": "2db75e45-8493-40b3-8be0-e022ed8240bd",
   "metadata": {},
   "source": [
    "### 2. 定义外部工具"
   ]
  },
  {
   "cell_type": "code",
   "execution_count": 2,
   "id": "dcdebf3a-7d32-4b02-83c0-04754ce48584",
   "metadata": {},
   "outputs": [],
   "source": [
    "# 定义一个工具\n",
    "# @tool 写不写都可以\n",
    "@tool\n",
    "def get_current_datetime() -> str:\n",
    "    \"\"\"\n",
    "        查询当前的日期和时间\n",
    "    \"\"\" \n",
    "    now = datetime.now()\n",
    "    formatted_date = now.strftime(\"%Y-%m-%d %H:%M:%S\")\n",
    "    return formatted_date\n",
    "\n",
    "@tool\n",
    "def get_apple_price(model: str) -> int:\n",
    "    \"\"\"\n",
    "        查询苹果手机的价格！\n",
    "        入参：model 是苹果手机的型号，目前，只有如下3个型号 '4s'、'5s'、'6s'，其它型号暂不支持\n",
    "    \"\"\" \n",
    "    if model == \"4s\":\n",
    "        return 4000\n",
    "    elif model == \"5s\":\n",
    "        return 5000\n",
    "    elif model == \"6s\":\n",
    "        return 6000\n",
    "    else:\n",
    "        raise ValueError(\"model 是苹果手机的型号，目前，只有如下3个型号 '4s'、'5s'、'6s'，其它型号暂不支持\")"
   ]
  },
  {
   "cell_type": "code",
   "execution_count": 3,
   "id": "8cdc9093-78c9-4393-857e-1cf711a1299b",
   "metadata": {},
   "outputs": [],
   "source": [
    "call_datetime = ToolNode(tools=[get_current_datetime], name=\"datetime\")\n",
    "call_apple_price = ToolNode(tools=[get_apple_price], name=\"apple_price\")"
   ]
  },
  {
   "cell_type": "code",
   "execution_count": 4,
   "id": "910331b9-9ee4-4d06-80bd-fe5db8c2d50f",
   "metadata": {},
   "outputs": [],
   "source": [
    "# 连接大模型\n",
    "model = get_chat()\n",
    "# 绑定工具\n",
    "model_with_tools = model.bind_tools(tools=[get_apple_price, get_current_datetime])"
   ]
  },
  {
   "cell_type": "code",
   "execution_count": 5,
   "id": "0da40182-aa1c-4b12-829c-97cc3202fa57",
   "metadata": {},
   "outputs": [],
   "source": [
    "# result = model_with_tools.invoke(input=[HumanMessage(content=\"几点了？\")])"
   ]
  },
  {
   "cell_type": "code",
   "execution_count": 6,
   "id": "c01fa29e-45f4-4713-87c0-65505184b4c3",
   "metadata": {},
   "outputs": [],
   "source": [
    "# result"
   ]
  },
  {
   "cell_type": "code",
   "execution_count": 7,
   "id": "8b16c611-24ee-4e3e-bf69-954606262363",
   "metadata": {},
   "outputs": [],
   "source": [
    "# result.tool_calls"
   ]
  },
  {
   "cell_type": "code",
   "execution_count": 8,
   "id": "538a6d2a-e4f5-47c7-b25f-b737c0e098e6",
   "metadata": {},
   "outputs": [],
   "source": [
    "# 定义一个条件边\n",
    "def should_continue(state: MessagesState) -> Literal[\"datetime\", \"apple_price\", END]:\n",
    "    # 获取当前的消息\n",
    "    messages = state['messages']\n",
    "    # 取出最后一条消息\n",
    "    last_message = messages[-1]\n",
    "    # 如果大模型发出工具调用请求，我们就转向 工具节点\n",
    "    # print(last_message)\n",
    "    if not last_message.tool_calls:\n",
    "        return END\n",
    "    elif last_message.tool_calls[0][\"name\"] == \"get_current_datetime\":\n",
    "        return \"datetime\"\n",
    "    else: \n",
    "        return \"apple_price\""
   ]
  },
  {
   "cell_type": "code",
   "execution_count": 9,
   "id": "3203bdcc-af32-43f0-a888-e3c2753027ce",
   "metadata": {},
   "outputs": [],
   "source": [
    "# Define the function that calls the model\n",
    "def call_model(state: MessagesState):\n",
    "    # 取出消息列表（所有的历史对话）\n",
    "    messages = state['messages']\n",
    "    # 调用大模型\n",
    "    response = model_with_tools.invoke(messages)\n",
    "    # 只需要通过列表形式返回当前这一步的消息即可\n",
    "    # 系统会自动把当前这一步的消息追加到 系统状态中\n",
    "    return {\"messages\": [response]}"
   ]
  },
  {
   "cell_type": "code",
   "execution_count": 10,
   "id": "5c08f8a6-71b7-4bde-b8b9-947e76be8125",
   "metadata": {},
   "outputs": [
    {
     "data": {
      "text/plain": [
       "<langgraph.graph.state.StateGraph at 0x23756973e60>"
      ]
     },
     "execution_count": 10,
     "metadata": {},
     "output_type": "execute_result"
    }
   ],
   "source": [
    "# 定义一个新的图\n",
    "workflow = StateGraph(MessagesState)\n",
    "# 添加一个大模型节点\n",
    "workflow.add_node(node=\"model\", action=call_model)\n",
    "# 添加一个查询日期和时间的节点\n",
    "workflow.add_node(node=\"datetime\", action=call_datetime)\n",
    "# 添加一个查询苹果手机价格节点\n",
    "workflow.add_node(node=\"apple_price\", action=call_apple_price)\n",
    "# 添加一条边\n",
    "workflow.add_edge(start_key=START, end_key=\"model\")\n",
    "# 添加一个条件边\n",
    "workflow.add_conditional_edges(source=\"model\", path=should_continue)\n",
    "# 工具掉完，都转向大模型\n",
    "workflow.add_edge(start_key=\"datetime\", end_key='model')\n",
    "workflow.add_edge(start_key=\"apple_price\", end_key='model')"
   ]
  },
  {
   "cell_type": "code",
   "execution_count": 11,
   "id": "18e9d852-4875-4d67-8905-0e5da6bb8fec",
   "metadata": {},
   "outputs": [],
   "source": [
    "# 消息持久化\n",
    "checkpointer = MemorySaver()\n",
    "# 编译整个图\n",
    "agent = workflow.compile(checkpointer=checkpointer)"
   ]
  },
  {
   "cell_type": "markdown",
   "id": "6631054f-75a2-493e-8202-2ab61d5227a7",
   "metadata": {},
   "source": [
    "### 把图可视化"
   ]
  },
  {
   "cell_type": "code",
   "execution_count": 12,
   "id": "adbdd146-bbf8-47a1-831e-9095e9da7863",
   "metadata": {},
   "outputs": [
    {
     "data": {
      "image/png": "[encoded data removed]",
      "text/plain": [
       "<IPython.core.display.Image object>"
      ]
     },
     "metadata": {},
     "output_type": "display_data"
    }
   ],
   "source": [
    "from IPython.display import Image, display\n",
    "\n",
    "try:\n",
    "    display(Image(agent.get_graph().draw_mermaid_png()))\n",
    "except Exception:\n",
    "    # This requires some extra dependencies and is optional\n",
    "    pass"
   ]
  },
  {
   "cell_type": "code",
   "execution_count": 13,
   "id": "bb01bddc-3ab8-43ec-b6dc-562081691b52",
   "metadata": {},
   "outputs": [
    {
     "data": {
      "text/plain": [
       "'现在是2025年1月5日，而新中国是在1949年成立的。从1949年到2025年已经过去了 \\\\(2025 - 1949 = 76\\\\) 年。\\n\\n根据您的要求，您想购买76部iPhone 5s。每部iPhone 5s的价格是5000元，那么总共需要准备的钱是 \\\\(76 \\\\times 5000 = 380,000\\\\) 元。\\n\\n所以您应该准备380,000元。'"
      ]
     },
     "execution_count": 13,
     "metadata": {},
     "output_type": "execute_result"
    }
   ],
   "source": [
    "# 调用 Agent\n",
    "final_state = agent.invoke(input={\"messages\": [HumanMessage(content=\"新中国成立多少年，我就买多少部5s，请问我该准备多少钱？\")]},\n",
    "                           config={\"configurable\": {\"thread_id\": 42}})\n",
    "# 只打印最后一条消息\n",
    "final_state[\"messages\"][-1].content"
   ]
  },
  {
   "cell_type": "code",
   "execution_count": 14,
   "id": "aa5e000e-c553-48ab-a223-8933345c4808",
   "metadata": {},
   "outputs": [
    {
     "name": "stdout",
     "output_type": "stream",
     "text": [
      "================================\u001b[1m Human Message \u001b[0m=================================\n",
      "\n",
      "新中国成立多少年，我就买多少部5s，请问我该准备多少钱？\n",
      "==================================\u001b[1m Ai Message \u001b[0m==================================\n",
      "\n",
      "首先，我们需要知道新中国成立的年份以及现在的时间。先查询一下现在的日期和时间。\n",
      "Tool Calls:\n",
      "  get_current_datetime (call_3eb4c520ee874708b22afc)\n",
      " Call ID: call_3eb4c520ee874708b22afc\n",
      "  Args:\n",
      "=================================\u001b[1m Tool Message \u001b[0m=================================\n",
      "Name: get_current_datetime\n",
      "\n",
      "2025-01-05 11:06:14\n",
      "==================================\u001b[1m Ai Message \u001b[0m==================================\n",
      "Tool Calls:\n",
      "  get_apple_price (call_78c96e4aaf914629b42598)\n",
      " Call ID: call_78c96e4aaf914629b42598\n",
      "  Args:\n",
      "    model: 5s\n",
      "=================================\u001b[1m Tool Message \u001b[0m=================================\n",
      "Name: get_apple_price\n",
      "\n",
      "5000\n",
      "==================================\u001b[1m Ai Message \u001b[0m==================================\n",
      "\n",
      "现在是2025年1月5日，而新中国是在1949年成立的。从1949年到2025年已经过去了 \\(2025 - 1949 = 76\\) 年。\n",
      "\n",
      "根据您的要求，您想购买76部iPhone 5s。每部iPhone 5s的价格是5000元，那么总共需要准备的钱是 \\(76 \\times 5000 = 380,000\\) 元。\n",
      "\n",
      "所以您应该准备380,000元。\n"
     ]
    }
   ],
   "source": [
    "# 打印所有消息\n",
    "for msg in final_state[\"messages\"]:\n",
    "    msg.pretty_print()"
   ]
  },
  {
   "cell_type": "code",
   "execution_count": null,
   "id": "673cf9ec-bf2c-455e-8490-b2f1abfadc96",
   "metadata": {},
   "outputs": [],
   "source": []
  },
  {
   "cell_type": "code",
   "execution_count": null,
   "id": "dcf4fd74-23a9-4ebe-8370-861b31b4f3b9",
   "metadata": {},
   "outputs": [],
   "source": []
  }
 ],
 "metadata": {
  "kernelspec": {
   "display_name": "Python 3 (ipykernel)",
   "language": "python",
   "name": "python3"
  },
  "language_info": {
   "codemirror_mode": {
    "name": "ipython",
    "version": 3
   },
   "file_extension": ".py",
   "mimetype": "text/x-python",
   "name": "python",
   "nbconvert_exporter": "python",
   "pygments_lexer": "ipython3",
   "version": "3.12.4"
  }
 },
 "nbformat": 4,
 "nbformat_minor": 5
}
