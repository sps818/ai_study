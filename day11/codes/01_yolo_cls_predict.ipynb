{
 "cells": [
  {
   "cell_type": "code",
   "execution_count": 1,
   "id": "8f958786-f068-49ef-859e-395b46eda2c7",
   "metadata": {},
   "outputs": [
    {
     "name": "stdout",
     "output_type": "stream",
     "text": [
      "Downloading https://github.com/ultralytics/assets/releases/download/v8.3.0/yolo11n-cls.pt to 'yolo11n-cls.pt'...\n"
     ]
    },
    {
     "name": "stderr",
     "output_type": "stream",
     "text": [
      "100%|█████████████████████████████████████████████████████████████████████████████████████████████████████████████████████████████████████████| 5.52M/5.52M [00:01<00:00, 5.18MB/s]\n"
     ]
    }
   ],
   "source": [
    "from ultralytics import YOLO\n",
    "\n",
    "# Load a model\n",
    "model = YOLO(\"yolo11n-cls.pt\")  # load an official model"
   ]
  },
  {
   "cell_type": "code",
   "execution_count": 2,
   "id": "1942c286-d79d-4b1e-9e38-c34b31aa0ac2",
   "metadata": {},
   "outputs": [
    {
     "name": "stdout",
     "output_type": "stream",
     "text": [
      "\n",
      "0: 224x224 minibus 0.57, police_van 0.34, trolleybus 0.04, recreational_vehicle 0.01, amphibian 0.01, 35.2ms\n",
      "1: 224x224 minibus 0.57, police_van 0.34, trolleybus 0.04, recreational_vehicle 0.01, amphibian 0.01, 35.2ms\n",
      "Speed: 8.3ms preprocess, 35.2ms inference, 0.0ms postprocess per image at shape (1, 3, 224, 224)\n"
     ]
    }
   ],
   "source": [
    "# Predict with the model\n",
    "results = model(source=[\"bus.jpg\", \"bus.jpg\"])  # predict on an image"
   ]
  },
  {
   "cell_type": "code",
   "execution_count": 3,
   "id": "71a339ef-ac19-466d-80cb-3a1b2188be1b",
   "metadata": {},
   "outputs": [
    {
     "data": {
      "text/plain": [
       "list"
      ]
     },
     "execution_count": 3,
     "metadata": {},
     "output_type": "execute_result"
    }
   ],
   "source": [
    "type(results)"
   ]
  },
  {
   "cell_type": "code",
   "execution_count": 4,
   "id": "ce95b3ce-a149-4a7d-b904-64c268c3af27",
   "metadata": {},
   "outputs": [
    {
     "data": {
      "text/plain": [
       "ultralytics.engine.results.Results object with attributes:\n",
       "\n",
       "boxes: None\n",
       "keypoints: None\n",
       "masks: None\n",
       "names: {0: 'tench', 1: 'goldfish', 2: 'great_white_shark', 3: 'tiger_shark', 4: 'hammerhead', 5: 'electric_ray', 6: 'stingray', 7: 'cock', 8: 'hen', 9: 'ostrich', 10: 'brambling', 11: 'goldfinch', 12: 'house_finch', 13: 'junco', 14: 'indigo_bunting', 15: 'robin', 16: 'bulbul', 17: 'jay', 18: 'magpie', 19: 'chickadee', 20: 'water_ouzel', 21: 'kite', 22: 'bald_eagle', 23: 'vulture', 24: 'great_grey_owl', 25: 'European_fire_salamander', 26: 'common_newt', 27: 'eft', 28: 'spotted_salamander', 29: 'axolotl', 30: 'bullfrog', 31: 'tree_frog', 32: 'tailed_frog', 33: 'loggerhead', 34: 'leatherback_turtle', 35: 'mud_turtle', 36: 'terrapin', 37: 'box_turtle', 38: 'banded_gecko', 39: 'common_iguana', 40: 'American_chameleon', 41: 'whiptail', 42: 'agama', 43: 'frilled_lizard', 44: 'alligator_lizard', 45: 'Gila_monster', 46: 'green_lizard', 47: 'African_chameleon', 48: 'Komodo_dragon', 49: 'African_crocodile', 50: 'American_alligator', 51: 'triceratops', 52: 'thunder_snake', 53: 'ringneck_snake', 54: 'hognose_snake', 55: 'green_snake', 56: 'king_snake', 57: 'garter_snake', 58: 'water_snake', 59: 'vine_snake', 60: 'night_snake', 61: 'boa_constrictor', 62: 'rock_python', 63: 'Indian_cobra', 64: 'green_mamba', 65: 'sea_snake', 66: 'horned_viper', 67: 'diamondback', 68: 'sidewinder', 69: 'trilobite', 70: 'harvestman', 71: 'scorpion', 72: 'black_and_gold_garden_spider', 73: 'barn_spider', 74: 'garden_spider', 75: 'black_widow', 76: 'tarantula', 77: 'wolf_spider', 78: 'tick', 79: 'centipede', 80: 'black_grouse', 81: 'ptarmigan', 82: 'ruffed_grouse', 83: 'prairie_chicken', 84: 'peacock', 85: 'quail', 86: 'partridge', 87: 'African_grey', 88: 'macaw', 89: 'sulphur-crested_cockatoo', 90: 'lorikeet', 91: 'coucal', 92: 'bee_eater', 93: 'hornbill', 94: 'hummingbird', 95: 'jacamar', 96: 'toucan', 97: 'drake', 98: 'red-breasted_merganser', 99: 'goose', 100: 'black_swan', 101: 'tusker', 102: 'echidna', 103: 'platypus', 104: 'wallaby', 105: 'koala', 106: 'wombat', 107: 'jellyfish', 108: 'sea_anemone', 109: 'brain_coral', 110: 'flatworm', 111: 'nematode', 112: 'conch', 113: 'snail', 114: 'slug', 115: 'sea_slug', 116: 'chiton', 117: 'chambered_nautilus', 118: 'Dungeness_crab', 119: 'rock_crab', 120: 'fiddler_crab', 121: 'king_crab', 122: 'American_lobster', 123: 'spiny_lobster', 124: 'crayfish', 125: 'hermit_crab', 126: 'isopod', 127: 'white_stork', 128: 'black_stork', 129: 'spoonbill', 130: 'flamingo', 131: 'little_blue_heron', 132: 'American_egret', 133: 'bittern', 134: 'crane_(bird)', 135: 'limpkin', 136: 'European_gallinule', 137: 'American_coot', 138: 'bustard', 139: 'ruddy_turnstone', 140: 'red-backed_sandpiper', 141: 'redshank', 142: 'dowitcher', 143: 'oystercatcher', 144: 'pelican', 145: 'king_penguin', 146: 'albatross', 147: 'grey_whale', 148: 'killer_whale', 149: 'dugong', 150: 'sea_lion', 151: 'Chihuahua', 152: 'Japanese_spaniel', 153: 'Maltese_dog', 154: 'Pekinese', 155: 'Shih-Tzu', 156: 'Blenheim_spaniel', 157: 'papillon', 158: 'toy_terrier', 159: 'Rhodesian_ridgeback', 160: 'Afghan_hound', 161: 'basset', 162: 'beagle', 163: 'bloodhound', 164: 'bluetick', 165: 'black-and-tan_coonhound', 166: 'Walker_hound', 167: 'English_foxhound', 168: 'redbone', 169: 'borzoi', 170: 'Irish_wolfhound', 171: 'Italian_greyhound', 172: 'whippet', 173: 'Ibizan_hound', 174: 'Norwegian_elkhound', 175: 'otterhound', 176: 'Saluki', 177: 'Scottish_deerhound', 178: 'Weimaraner', 179: 'Staffordshire_bullterrier', 180: 'American_Staffordshire_terrier', 181: 'Bedlington_terrier', 182: 'Border_terrier', 183: 'Kerry_blue_terrier', 184: 'Irish_terrier', 185: 'Norfolk_terrier', 186: 'Norwich_terrier', 187: 'Yorkshire_terrier', 188: 'wire-haired_fox_terrier', 189: 'Lakeland_terrier', 190: 'Sealyham_terrier', 191: 'Airedale', 192: 'cairn', 193: 'Australian_terrier', 194: 'Dandie_Dinmont', 195: 'Boston_bull', 196: 'miniature_schnauzer', 197: 'giant_schnauzer', 198: 'standard_schnauzer', 199: 'Scotch_terrier', 200: 'Tibetan_terrier', 201: 'silky_terrier', 202: 'soft-coated_wheaten_terrier', 203: 'West_Highland_white_terrier', 204: 'Lhasa', 205: 'flat-coated_retriever', 206: 'curly-coated_retriever', 207: 'golden_retriever', 208: 'Labrador_retriever', 209: 'Chesapeake_Bay_retriever', 210: 'German_short-haired_pointer', 211: 'vizsla', 212: 'English_setter', 213: 'Irish_setter', 214: 'Gordon_setter', 215: 'Brittany_spaniel', 216: 'clumber', 217: 'English_springer', 218: 'Welsh_springer_spaniel', 219: 'cocker_spaniel', 220: 'Sussex_spaniel', 221: 'Irish_water_spaniel', 222: 'kuvasz', 223: 'schipperke', 224: 'groenendael', 225: 'malinois', 226: 'briard', 227: 'kelpie', 228: 'komondor', 229: 'Old_English_sheepdog', 230: 'Shetland_sheepdog', 231: 'collie', 232: 'Border_collie', 233: 'Bouvier_des_Flandres', 234: 'Rottweiler', 235: 'German_shepherd', 236: 'Doberman', 237: 'miniature_pinscher', 238: 'Greater_Swiss_Mountain_dog', 239: 'Bernese_mountain_dog', 240: 'Appenzeller', 241: 'EntleBucher', 242: 'boxer', 243: 'bull_mastiff', 244: 'Tibetan_mastiff', 245: 'French_bulldog', 246: 'Great_Dane', 247: 'Saint_Bernard', 248: 'Eskimo_dog', 249: 'malamute', 250: 'Siberian_husky', 251: 'dalmatian', 252: 'affenpinscher', 253: 'basenji', 254: 'pug', 255: 'Leonberg', 256: 'Newfoundland', 257: 'Great_Pyrenees', 258: 'Samoyed', 259: 'Pomeranian', 260: 'chow', 261: 'keeshond', 262: 'Brabancon_griffon', 263: 'Pembroke', 264: 'Cardigan', 265: 'toy_poodle', 266: 'miniature_poodle', 267: 'standard_poodle', 268: 'Mexican_hairless', 269: 'timber_wolf', 270: 'white_wolf', 271: 'red_wolf', 272: 'coyote', 273: 'dingo', 274: 'dhole', 275: 'African_hunting_dog', 276: 'hyena', 277: 'red_fox', 278: 'kit_fox', 279: 'Arctic_fox', 280: 'grey_fox', 281: 'tabby', 282: 'tiger_cat', 283: 'Persian_cat', 284: 'Siamese_cat', 285: 'Egyptian_cat', 286: 'cougar', 287: 'lynx', 288: 'leopard', 289: 'snow_leopard', 290: 'jaguar', 291: 'lion', 292: 'tiger', 293: 'cheetah', 294: 'brown_bear', 295: 'American_black_bear', 296: 'ice_bear', 297: 'sloth_bear', 298: 'mongoose', 299: 'meerkat', 300: 'tiger_beetle', 301: 'ladybug', 302: 'ground_beetle', 303: 'long-horned_beetle', 304: 'leaf_beetle', 305: 'dung_beetle', 306: 'rhinoceros_beetle', 307: 'weevil', 308: 'fly', 309: 'bee', 310: 'ant', 311: 'grasshopper', 312: 'cricket', 313: 'walking_stick', 314: 'cockroach', 315: 'mantis', 316: 'cicada', 317: 'leafhopper', 318: 'lacewing', 319: 'dragonfly', 320: 'damselfly', 321: 'admiral', 322: 'ringlet', 323: 'monarch', 324: 'cabbage_butterfly', 325: 'sulphur_butterfly', 326: 'lycaenid', 327: 'starfish', 328: 'sea_urchin', 329: 'sea_cucumber', 330: 'wood_rabbit', 331: 'hare', 332: 'Angora', 333: 'hamster', 334: 'porcupine', 335: 'fox_squirrel', 336: 'marmot', 337: 'beaver', 338: 'guinea_pig', 339: 'sorrel', 340: 'zebra', 341: 'hog', 342: 'wild_boar', 343: 'warthog', 344: 'hippopotamus', 345: 'ox', 346: 'water_buffalo', 347: 'bison', 348: 'ram', 349: 'bighorn', 350: 'ibex', 351: 'hartebeest', 352: 'impala', 353: 'gazelle', 354: 'Arabian_camel', 355: 'llama', 356: 'weasel', 357: 'mink', 358: 'polecat', 359: 'black-footed_ferret', 360: 'otter', 361: 'skunk', 362: 'badger', 363: 'armadillo', 364: 'three-toed_sloth', 365: 'orangutan', 366: 'gorilla', 367: 'chimpanzee', 368: 'gibbon', 369: 'siamang', 370: 'guenon', 371: 'patas', 372: 'baboon', 373: 'macaque', 374: 'langur', 375: 'colobus', 376: 'proboscis_monkey', 377: 'marmoset', 378: 'capuchin', 379: 'howler_monkey', 380: 'titi', 381: 'spider_monkey', 382: 'squirrel_monkey', 383: 'Madagascar_cat', 384: 'indri', 385: 'Indian_elephant', 386: 'African_elephant', 387: 'lesser_panda', 388: 'giant_panda', 389: 'barracouta', 390: 'eel', 391: 'coho', 392: 'rock_beauty', 393: 'anemone_fish', 394: 'sturgeon', 395: 'gar', 396: 'lionfish', 397: 'puffer', 398: 'abacus', 399: 'abaya', 400: 'academic_gown', 401: 'accordion', 402: 'acoustic_guitar', 403: 'aircraft_carrier', 404: 'airliner', 405: 'airship', 406: 'altar', 407: 'ambulance', 408: 'amphibian', 409: 'analog_clock', 410: 'apiary', 411: 'apron', 412: 'ashcan', 413: 'assault_rifle', 414: 'backpack', 415: 'bakery', 416: 'balance_beam', 417: 'balloon', 418: 'ballpoint', 419: 'Band_Aid', 420: 'banjo', 421: 'bannister', 422: 'barbell', 423: 'barber_chair', 424: 'barbershop', 425: 'barn', 426: 'barometer', 427: 'barrel', 428: 'barrow', 429: 'baseball', 430: 'basketball', 431: 'bassinet', 432: 'bassoon', 433: 'bathing_cap', 434: 'bath_towel', 435: 'bathtub', 436: 'beach_wagon', 437: 'beacon', 438: 'beaker', 439: 'bearskin', 440: 'beer_bottle', 441: 'beer_glass', 442: 'bell_cote', 443: 'bib', 444: 'bicycle-built-for-two', 445: 'bikini', 446: 'binder', 447: 'binoculars', 448: 'birdhouse', 449: 'boathouse', 450: 'bobsled', 451: 'bolo_tie', 452: 'bonnet', 453: 'bookcase', 454: 'bookshop', 455: 'bottlecap', 456: 'bow', 457: 'bow_tie', 458: 'brass', 459: 'brassiere', 460: 'breakwater', 461: 'breastplate', 462: 'broom', 463: 'bucket', 464: 'buckle', 465: 'bulletproof_vest', 466: 'bullet_train', 467: 'butcher_shop', 468: 'cab', 469: 'caldron', 470: 'candle', 471: 'cannon', 472: 'canoe', 473: 'can_opener', 474: 'cardigan', 475: 'car_mirror', 476: 'carousel', 477: \"carpenter's_kit\", 478: 'carton', 479: 'car_wheel', 480: 'cash_machine', 481: 'cassette', 482: 'cassette_player', 483: 'castle', 484: 'catamaran', 485: 'CD_player', 486: 'cello', 487: 'cellular_telephone', 488: 'chain', 489: 'chainlink_fence', 490: 'chain_mail', 491: 'chain_saw', 492: 'chest', 493: 'chiffonier', 494: 'chime', 495: 'china_cabinet', 496: 'Christmas_stocking', 497: 'church', 498: 'cinema', 499: 'cleaver', 500: 'cliff_dwelling', 501: 'cloak', 502: 'clog', 503: 'cocktail_shaker', 504: 'coffee_mug', 505: 'coffeepot', 506: 'coil', 507: 'combination_lock', 508: 'computer_keyboard', 509: 'confectionery', 510: 'container_ship', 511: 'convertible', 512: 'corkscrew', 513: 'cornet', 514: 'cowboy_boot', 515: 'cowboy_hat', 516: 'cradle', 517: 'crane_(machine)', 518: 'crash_helmet', 519: 'crate', 520: 'crib', 521: 'Crock_Pot', 522: 'croquet_ball', 523: 'crutch', 524: 'cuirass', 525: 'dam', 526: 'desk', 527: 'desktop_computer', 528: 'dial_telephone', 529: 'diaper', 530: 'digital_clock', 531: 'digital_watch', 532: 'dining_table', 533: 'dishrag', 534: 'dishwasher', 535: 'disk_brake', 536: 'dock', 537: 'dogsled', 538: 'dome', 539: 'doormat', 540: 'drilling_platform', 541: 'drum', 542: 'drumstick', 543: 'dumbbell', 544: 'Dutch_oven', 545: 'electric_fan', 546: 'electric_guitar', 547: 'electric_locomotive', 548: 'entertainment_center', 549: 'envelope', 550: 'espresso_maker', 551: 'face_powder', 552: 'feather_boa', 553: 'file', 554: 'fireboat', 555: 'fire_engine', 556: 'fire_screen', 557: 'flagpole', 558: 'flute', 559: 'folding_chair', 560: 'football_helmet', 561: 'forklift', 562: 'fountain', 563: 'fountain_pen', 564: 'four-poster', 565: 'freight_car', 566: 'French_horn', 567: 'frying_pan', 568: 'fur_coat', 569: 'garbage_truck', 570: 'gasmask', 571: 'gas_pump', 572: 'goblet', 573: 'go-kart', 574: 'golf_ball', 575: 'golfcart', 576: 'gondola', 577: 'gong', 578: 'gown', 579: 'grand_piano', 580: 'greenhouse', 581: 'grille', 582: 'grocery_store', 583: 'guillotine', 584: 'hair_slide', 585: 'hair_spray', 586: 'half_track', 587: 'hammer', 588: 'hamper', 589: 'hand_blower', 590: 'hand-held_computer', 591: 'handkerchief', 592: 'hard_disc', 593: 'harmonica', 594: 'harp', 595: 'harvester', 596: 'hatchet', 597: 'holster', 598: 'home_theater', 599: 'honeycomb', 600: 'hook', 601: 'hoopskirt', 602: 'horizontal_bar', 603: 'horse_cart', 604: 'hourglass', 605: 'iPod', 606: 'iron', 607: \"jack-o'-lantern\", 608: 'jean', 609: 'jeep', 610: 'jersey', 611: 'jigsaw_puzzle', 612: 'jinrikisha', 613: 'joystick', 614: 'kimono', 615: 'knee_pad', 616: 'knot', 617: 'lab_coat', 618: 'ladle', 619: 'lampshade', 620: 'laptop', 621: 'lawn_mower', 622: 'lens_cap', 623: 'letter_opener', 624: 'library', 625: 'lifeboat', 626: 'lighter', 627: 'limousine', 628: 'liner', 629: 'lipstick', 630: 'Loafer', 631: 'lotion', 632: 'loudspeaker', 633: 'loupe', 634: 'lumbermill', 635: 'magnetic_compass', 636: 'mailbag', 637: 'mailbox', 638: 'maillot_(tights)', 639: 'maillot_(tank_suit)', 640: 'manhole_cover', 641: 'maraca', 642: 'marimba', 643: 'mask', 644: 'matchstick', 645: 'maypole', 646: 'maze', 647: 'measuring_cup', 648: 'medicine_chest', 649: 'megalith', 650: 'microphone', 651: 'microwave', 652: 'military_uniform', 653: 'milk_can', 654: 'minibus', 655: 'miniskirt', 656: 'minivan', 657: 'missile', 658: 'mitten', 659: 'mixing_bowl', 660: 'mobile_home', 661: 'Model_T', 662: 'modem', 663: 'monastery', 664: 'monitor', 665: 'moped', 666: 'mortar', 667: 'mortarboard', 668: 'mosque', 669: 'mosquito_net', 670: 'motor_scooter', 671: 'mountain_bike', 672: 'mountain_tent', 673: 'mouse', 674: 'mousetrap', 675: 'moving_van', 676: 'muzzle', 677: 'nail', 678: 'neck_brace', 679: 'necklace', 680: 'nipple', 681: 'notebook', 682: 'obelisk', 683: 'oboe', 684: 'ocarina', 685: 'odometer', 686: 'oil_filter', 687: 'organ', 688: 'oscilloscope', 689: 'overskirt', 690: 'oxcart', 691: 'oxygen_mask', 692: 'packet', 693: 'paddle', 694: 'paddlewheel', 695: 'padlock', 696: 'paintbrush', 697: 'pajama', 698: 'palace', 699: 'panpipe', 700: 'paper_towel', 701: 'parachute', 702: 'parallel_bars', 703: 'park_bench', 704: 'parking_meter', 705: 'passenger_car', 706: 'patio', 707: 'pay-phone', 708: 'pedestal', 709: 'pencil_box', 710: 'pencil_sharpener', 711: 'perfume', 712: 'Petri_dish', 713: 'photocopier', 714: 'pick', 715: 'pickelhaube', 716: 'picket_fence', 717: 'pickup', 718: 'pier', 719: 'piggy_bank', 720: 'pill_bottle', 721: 'pillow', 722: 'ping-pong_ball', 723: 'pinwheel', 724: 'pirate', 725: 'pitcher', 726: 'plane', 727: 'planetarium', 728: 'plastic_bag', 729: 'plate_rack', 730: 'plow', 731: 'plunger', 732: 'Polaroid_camera', 733: 'pole', 734: 'police_van', 735: 'poncho', 736: 'pool_table', 737: 'pop_bottle', 738: 'pot', 739: \"potter's_wheel\", 740: 'power_drill', 741: 'prayer_rug', 742: 'printer', 743: 'prison', 744: 'projectile', 745: 'projector', 746: 'puck', 747: 'punching_bag', 748: 'purse', 749: 'quill', 750: 'quilt', 751: 'racer', 752: 'racket', 753: 'radiator', 754: 'radio', 755: 'radio_telescope', 756: 'rain_barrel', 757: 'recreational_vehicle', 758: 'reel', 759: 'reflex_camera', 760: 'refrigerator', 761: 'remote_control', 762: 'restaurant', 763: 'revolver', 764: 'rifle', 765: 'rocking_chair', 766: 'rotisserie', 767: 'rubber_eraser', 768: 'rugby_ball', 769: 'rule', 770: 'running_shoe', 771: 'safe', 772: 'safety_pin', 773: 'saltshaker', 774: 'sandal', 775: 'sarong', 776: 'sax', 777: 'scabbard', 778: 'scale', 779: 'school_bus', 780: 'schooner', 781: 'scoreboard', 782: 'screen', 783: 'screw', 784: 'screwdriver', 785: 'seat_belt', 786: 'sewing_machine', 787: 'shield', 788: 'shoe_shop', 789: 'shoji', 790: 'shopping_basket', 791: 'shopping_cart', 792: 'shovel', 793: 'shower_cap', 794: 'shower_curtain', 795: 'ski', 796: 'ski_mask', 797: 'sleeping_bag', 798: 'slide_rule', 799: 'sliding_door', 800: 'slot', 801: 'snorkel', 802: 'snowmobile', 803: 'snowplow', 804: 'soap_dispenser', 805: 'soccer_ball', 806: 'sock', 807: 'solar_dish', 808: 'sombrero', 809: 'soup_bowl', 810: 'space_bar', 811: 'space_heater', 812: 'space_shuttle', 813: 'spatula', 814: 'speedboat', 815: 'spider_web', 816: 'spindle', 817: 'sports_car', 818: 'spotlight', 819: 'stage', 820: 'steam_locomotive', 821: 'steel_arch_bridge', 822: 'steel_drum', 823: 'stethoscope', 824: 'stole', 825: 'stone_wall', 826: 'stopwatch', 827: 'stove', 828: 'strainer', 829: 'streetcar', 830: 'stretcher', 831: 'studio_couch', 832: 'stupa', 833: 'submarine', 834: 'suit', 835: 'sundial', 836: 'sunglass', 837: 'sunglasses', 838: 'sunscreen', 839: 'suspension_bridge', 840: 'swab', 841: 'sweatshirt', 842: 'swimming_trunks', 843: 'swing', 844: 'switch', 845: 'syringe', 846: 'table_lamp', 847: 'tank', 848: 'tape_player', 849: 'teapot', 850: 'teddy', 851: 'television', 852: 'tennis_ball', 853: 'thatch', 854: 'theater_curtain', 855: 'thimble', 856: 'thresher', 857: 'throne', 858: 'tile_roof', 859: 'toaster', 860: 'tobacco_shop', 861: 'toilet_seat', 862: 'torch', 863: 'totem_pole', 864: 'tow_truck', 865: 'toyshop', 866: 'tractor', 867: 'trailer_truck', 868: 'tray', 869: 'trench_coat', 870: 'tricycle', 871: 'trimaran', 872: 'tripod', 873: 'triumphal_arch', 874: 'trolleybus', 875: 'trombone', 876: 'tub', 877: 'turnstile', 878: 'typewriter_keyboard', 879: 'umbrella', 880: 'unicycle', 881: 'upright', 882: 'vacuum', 883: 'vase', 884: 'vault', 885: 'velvet', 886: 'vending_machine', 887: 'vestment', 888: 'viaduct', 889: 'violin', 890: 'volleyball', 891: 'waffle_iron', 892: 'wall_clock', 893: 'wallet', 894: 'wardrobe', 895: 'warplane', 896: 'washbasin', 897: 'washer', 898: 'water_bottle', 899: 'water_jug', 900: 'water_tower', 901: 'whiskey_jug', 902: 'whistle', 903: 'wig', 904: 'window_screen', 905: 'window_shade', 906: 'Windsor_tie', 907: 'wine_bottle', 908: 'wing', 909: 'wok', 910: 'wooden_spoon', 911: 'wool', 912: 'worm_fence', 913: 'wreck', 914: 'yawl', 915: 'yurt', 916: 'web_site', 917: 'comic_book', 918: 'crossword_puzzle', 919: 'street_sign', 920: 'traffic_light', 921: 'book_jacket', 922: 'menu', 923: 'plate', 924: 'guacamole', 925: 'consomme', 926: 'hot_pot', 927: 'trifle', 928: 'ice_cream', 929: 'ice_lolly', 930: 'French_loaf', 931: 'bagel', 932: 'pretzel', 933: 'cheeseburger', 934: 'hotdog', 935: 'mashed_potato', 936: 'head_cabbage', 937: 'broccoli', 938: 'cauliflower', 939: 'zucchini', 940: 'spaghetti_squash', 941: 'acorn_squash', 942: 'butternut_squash', 943: 'cucumber', 944: 'artichoke', 945: 'bell_pepper', 946: 'cardoon', 947: 'mushroom', 948: 'Granny_Smith', 949: 'strawberry', 950: 'orange', 951: 'lemon', 952: 'fig', 953: 'pineapple', 954: 'banana', 955: 'jackfruit', 956: 'custard_apple', 957: 'pomegranate', 958: 'hay', 959: 'carbonara', 960: 'chocolate_sauce', 961: 'dough', 962: 'meat_loaf', 963: 'pizza', 964: 'potpie', 965: 'burrito', 966: 'red_wine', 967: 'espresso', 968: 'cup', 969: 'eggnog', 970: 'alp', 971: 'bubble', 972: 'cliff', 973: 'coral_reef', 974: 'geyser', 975: 'lakeside', 976: 'promontory', 977: 'sandbar', 978: 'seashore', 979: 'valley', 980: 'volcano', 981: 'ballplayer', 982: 'groom', 983: 'scuba_diver', 984: 'rapeseed', 985: 'daisy', 986: \"yellow_lady's_slipper\", 987: 'corn', 988: 'acorn', 989: 'hip', 990: 'buckeye', 991: 'coral_fungus', 992: 'agaric', 993: 'gyromitra', 994: 'stinkhorn', 995: 'earthstar', 996: 'hen-of-the-woods', 997: 'bolete', 998: 'ear', 999: 'toilet_tissue'}\n",
       "obb: None\n",
       "orig_img: array([[[119, 146, 172],\n",
       "        [121, 148, 174],\n",
       "        [122, 152, 177],\n",
       "        ...,\n",
       "        [161, 171, 188],\n",
       "        [160, 170, 187],\n",
       "        [160, 170, 187]],\n",
       "\n",
       "       [[120, 147, 173],\n",
       "        [122, 149, 175],\n",
       "        [123, 153, 178],\n",
       "        ...,\n",
       "        [161, 171, 188],\n",
       "        [160, 170, 187],\n",
       "        [160, 170, 187]],\n",
       "\n",
       "       [[123, 150, 176],\n",
       "        [124, 151, 177],\n",
       "        [125, 155, 180],\n",
       "        ...,\n",
       "        [161, 171, 188],\n",
       "        [160, 170, 187],\n",
       "        [160, 170, 187]],\n",
       "\n",
       "       ...,\n",
       "\n",
       "       [[183, 182, 186],\n",
       "        [179, 178, 182],\n",
       "        [180, 179, 183],\n",
       "        ...,\n",
       "        [121, 111, 117],\n",
       "        [113, 103, 109],\n",
       "        [115, 105, 111]],\n",
       "\n",
       "       [[165, 164, 168],\n",
       "        [173, 172, 176],\n",
       "        [187, 186, 190],\n",
       "        ...,\n",
       "        [102,  92,  98],\n",
       "        [101,  91,  97],\n",
       "        [103,  93,  99]],\n",
       "\n",
       "       [[123, 122, 126],\n",
       "        [145, 144, 148],\n",
       "        [176, 175, 179],\n",
       "        ...,\n",
       "        [ 95,  85,  91],\n",
       "        [ 96,  86,  92],\n",
       "        [ 98,  88,  94]]], dtype=uint8)\n",
       "orig_shape: (1080, 810)\n",
       "path: 'D:\\\\workspaces\\\\ai_study\\\\day11\\\\codes\\\\bus.jpg'\n",
       "probs: ultralytics.engine.results.Probs object\n",
       "save_dir: 'E:\\\\ultralytics_runs\\\\runs\\\\classify\\\\predict'\n",
       "speed: {'preprocess': 8.331099998031277, 'inference': 35.24035000009462, 'postprocess': 0.03065000055357814}"
      ]
     },
     "execution_count": 4,
     "metadata": {},
     "output_type": "execute_result"
    }
   ],
   "source": [
    "results[0]"
   ]
  },
  {
   "cell_type": "code",
   "execution_count": 6,
   "id": "d0695ddd-0436-4ccd-8aa6-a3b305a6c5bf",
   "metadata": {},
   "outputs": [
    {
     "data": {
      "text/plain": [
       "ultralytics.engine.results.Probs object with attributes:\n",
       "\n",
       "data: tensor([5.2337e-09, 1.4659e-07, 6.3250e-06, 7.3530e-07, 1.0383e-06, 1.7098e-08, 2.7537e-08, 2.6993e-07, 1.3616e-08, 1.9812e-07, 6.8316e-11, 4.7684e-09, 1.2658e-08, 2.2979e-10, 2.8298e-07, 4.7569e-10, 5.2280e-09, 1.3580e-06, 2.1756e-07, 1.1402e-09, 2.4049e-11, 6.8415e-09, 5.5479e-08, 9.1584e-08, 6.2262e-09, 2.4147e-08,\n",
       "        5.2053e-08, 2.7539e-09, 1.9983e-08, 9.0246e-08, 5.2964e-08, 4.6297e-09, 1.4062e-07, 1.4982e-07, 4.3003e-07, 2.2092e-08, 1.3367e-07, 2.5656e-08, 2.6453e-09, 2.1094e-07, 7.5931e-09, 7.9510e-08, 4.5851e-08, 3.9823e-09, 3.6348e-09, 1.9328e-07, 4.1675e-09, 5.1140e-09, 3.8418e-07, 5.4488e-08, 1.5084e-06, 2.9079e-06,\n",
       "        5.9249e-08, 1.2057e-08, 2.6946e-08, 1.4027e-08, 1.2643e-08, 9.2304e-10, 4.0874e-09, 2.0912e-08, 1.3356e-06, 2.8218e-06, 2.4709e-07, 3.1310e-08, 2.6479e-08, 9.5281e-07, 3.3716e-09, 8.8756e-07, 2.9184e-09, 1.7819e-09, 5.4808e-10, 3.7797e-07, 7.8532e-09, 1.8528e-08, 3.1158e-08, 6.5317e-09, 2.2379e-07, 7.6394e-09,\n",
       "        5.9204e-08, 8.4592e-09, 2.7775e-07, 1.4930e-08, 2.0258e-08, 1.3021e-08, 1.1054e-06, 2.3151e-09, 7.5831e-10, 1.0205e-07, 1.8736e-07, 7.3257e-08, 3.1310e-08, 9.6370e-09, 1.8617e-09, 1.6436e-07, 4.5279e-08, 2.5863e-09, 2.6456e-07, 2.2099e-08, 2.7858e-08, 2.6631e-08, 5.3101e-08, 6.7233e-07, 1.4758e-08, 1.5767e-08,\n",
       "        1.2922e-08, 6.0594e-07, 1.2685e-07, 7.9731e-08, 1.5400e-09, 3.7412e-08, 9.8287e-10, 1.5308e-09, 1.0112e-07, 2.9065e-09, 1.9583e-09, 2.2960e-09, 1.9723e-08, 4.6012e-09, 1.5177e-07, 1.5021e-08, 8.5776e-08, 1.8361e-07, 1.2375e-08, 8.7421e-08, 4.8418e-07, 3.1980e-08, 8.0917e-08, 1.0409e-08, 3.4808e-09, 8.4404e-09,\n",
       "        7.7707e-10, 1.9004e-08, 8.3084e-08, 3.8987e-10, 5.8390e-07, 1.5462e-08, 9.5867e-08, 3.6577e-09, 4.2519e-10, 4.1388e-09, 8.2144e-10, 1.5514e-10, 7.5129e-11, 1.4813e-08, 1.4332e-07, 1.1200e-07, 1.4188e-08, 1.5407e-07, 8.5997e-06, 8.9087e-08, 1.8306e-06, 3.3068e-07, 8.3811e-08, 5.3882e-08, 5.1464e-07, 1.7166e-07,\n",
       "        6.0267e-07, 4.3818e-07, 1.0932e-07, 1.5818e-07, 4.4801e-06, 2.9876e-07, 2.0649e-07, 2.7898e-07, 2.7062e-06, 6.6906e-07, 6.7294e-08, 1.4390e-08, 6.9409e-07, 2.1756e-06, 5.7566e-05, 2.7651e-07, 2.4109e-07, 5.4132e-07, 9.0675e-07, 1.1761e-07, 7.1981e-06, 7.2823e-05, 1.1802e-06, 1.7687e-07, 1.8860e-07, 4.0858e-07,\n",
       "        1.3924e-07, 7.0701e-07, 4.0288e-07, 5.5190e-07, 8.6802e-07, 3.2878e-07, 1.2985e-07, 2.1344e-07, 7.9050e-09, 3.9005e-08, 3.0717e-07, 5.6993e-07, 1.0410e-08, 1.9673e-06, 6.6983e-08, 2.3852e-06, 2.3621e-07, 9.3233e-07, 5.0868e-07, 1.9887e-07, 2.4308e-07, 6.5305e-07, 1.0053e-07, 7.4373e-05, 2.9094e-05, 6.6023e-06,\n",
       "        5.3661e-06, 2.4326e-06, 1.3500e-05, 3.2102e-06, 7.2581e-06, 1.5250e-06, 8.3671e-06, 8.0811e-06, 3.1514e-05, 3.7308e-05, 1.6580e-06, 1.8076e-06, 1.4134e-06, 1.0510e-05, 2.2112e-06, 2.2447e-05, 5.2303e-05, 1.5131e-06, 1.3899e-05, 3.1661e-07, 4.2707e-06, 4.3233e-06, 2.5663e-07, 1.2484e-05, 9.0240e-06, 3.5953e-06,\n",
       "        6.0072e-07, 1.1559e-06, 2.1294e-07, 1.8009e-07, 1.9508e-06, 5.8966e-06, 4.8406e-07, 2.0726e-07, 7.9421e-08, 5.6162e-07, 6.6558e-05, 5.4489e-07, 1.0966e-05, 3.5906e-06, 5.3395e-07, 4.9286e-07, 1.6232e-07, 1.3243e-05, 2.8592e-07, 5.9826e-08, 5.3833e-06, 7.9776e-06, 1.4525e-04, 3.8177e-06, 5.8141e-06, 2.0370e-07,\n",
       "        1.0009e-06, 1.7126e-07, 6.1244e-08, 1.5577e-08, 1.4110e-07, 1.7906e-05, 2.2884e-05, 1.7197e-05, 8.2957e-07, 3.4894e-07, 5.8211e-07, 2.3084e-07, 1.0463e-07, 1.2480e-06, 6.0975e-10, 2.2343e-08, 2.2552e-07, 6.9578e-09, 8.6828e-10, 3.9979e-08, 8.3889e-09, 2.0303e-06, 1.1123e-07, 5.2657e-08, 1.7577e-07, 4.0294e-07,\n",
       "        6.6092e-08, 3.9170e-08, 5.1666e-08, 6.2084e-08, 5.6581e-08, 2.3704e-07, 9.0347e-08, 3.3758e-08, 3.5732e-08, 4.3062e-07, 3.3285e-08, 1.0917e-07, 2.4013e-09, 1.4018e-09, 2.2072e-09, 1.2863e-08, 1.3965e-09, 5.6253e-09, 8.8231e-09, 9.8700e-08, 1.4178e-08, 2.7383e-09, 4.1736e-08, 4.1179e-08, 1.6121e-09, 8.1217e-09,\n",
       "        1.2219e-08, 4.8379e-08, 1.7554e-08, 8.7410e-09, 3.8889e-08, 1.0048e-08, 3.8959e-09, 1.2652e-07, 1.4956e-08, 1.4783e-08, 4.3475e-10, 1.2906e-09, 2.8395e-09, 2.4539e-10, 3.5549e-10, 3.6811e-08, 1.0868e-08, 1.9445e-07, 1.5367e-09, 1.5670e-08, 3.1357e-08, 2.1271e-09, 6.0059e-07, 1.2845e-09, 6.5910e-09, 4.2350e-08,\n",
       "        7.6638e-09, 9.9199e-07, 2.1415e-06, 1.8689e-06, 7.2049e-07, 2.3142e-06, 1.1922e-07, 5.1536e-07, 1.0344e-06, 7.8131e-07, 3.7077e-07, 1.1124e-07, 4.5236e-08, 1.9676e-10, 1.2676e-10, 6.1801e-10, 1.3032e-06, 4.1688e-06, 3.5725e-08, 1.8502e-08, 4.2774e-07, 4.2938e-08, 2.7215e-08, 2.1440e-06, 4.3379e-08, 6.3806e-07,\n",
       "        3.5023e-08, 3.2912e-08, 8.2393e-08, 7.5203e-06, 1.0212e-07, 9.7464e-07, 1.8101e-08, 1.6488e-08, 1.1844e-06, 4.6479e-07, 1.3021e-08, 1.8460e-07, 8.8534e-09, 2.5386e-07, 8.6902e-08, 3.9172e-08, 1.3493e-07, 8.2493e-08, 3.6727e-09, 1.3278e-08, 3.2756e-09, 2.4974e-06, 3.1037e-06, 1.4109e-08, 2.9357e-08, 1.3461e-07,\n",
       "        2.6237e-07, 2.2280e-06, 8.6936e-09, 2.0182e-09, 5.9021e-07, 4.3732e-07, 1.1850e-08, 3.8093e-08, 9.2548e-08, 4.6222e-07, 8.1749e-07, 1.8824e-06, 1.4306e-06, 1.8093e-05, 6.2170e-06, 6.9023e-07, 1.0344e-07, 4.4136e-03, 5.8739e-03, 1.6196e-06, 5.5554e-08, 3.7598e-07, 3.1360e-05, 6.2769e-06, 6.9434e-06, 2.0056e-06,\n",
       "        2.5896e-06, 3.4017e-06, 5.4038e-07, 2.0131e-07, 1.2742e-06, 4.7920e-07, 9.9164e-07, 8.9618e-07, 1.3523e-05, 1.6734e-08, 8.1826e-08, 1.7361e-06, 3.6254e-06, 1.9230e-06, 1.5758e-06, 1.2482e-07, 7.6828e-07, 8.8068e-07, 5.8665e-08, 1.4050e-07, 5.5496e-05, 6.8572e-09, 1.9332e-07, 6.6947e-06, 1.0167e-06, 6.1024e-07,\n",
       "        1.4557e-07, 1.7044e-08, 6.6781e-07, 8.1937e-07, 1.0957e-07, 7.5922e-06, 4.7291e-09, 2.6140e-06, 3.5014e-05, 1.8469e-06, 3.4457e-07, 1.8544e-07, 1.1285e-05, 3.4732e-06, 8.7838e-07, 2.8292e-06, 7.6992e-08, 3.2944e-07, 2.1816e-07, 1.2010e-06, 1.9874e-05, 5.6668e-07, 1.1236e-08, 4.9632e-06, 2.8639e-03, 3.9278e-07,\n",
       "        3.2384e-05, 1.9872e-06, 5.7932e-08, 1.2876e-06, 4.3008e-06, 1.3444e-08, 1.2105e-07, 1.8322e-06, 1.8297e-06, 6.5561e-07, 3.8194e-06, 2.2771e-05, 4.9453e-04, 5.0041e-08, 3.4629e-06, 2.1265e-08, 2.4582e-05, 1.2198e-07, 2.1666e-07, 3.5763e-06, 2.6925e-07, 1.4389e-07, 2.3602e-07, 3.5844e-06, 4.0662e-07, 1.4672e-08,\n",
       "        9.2694e-08, 1.7103e-07, 8.6503e-08, 7.2330e-09, 6.0450e-07, 4.1391e-08, 2.5302e-08, 9.5221e-07, 1.5555e-06, 7.1899e-07, 1.3452e-06, 5.8590e-08, 2.6575e-08, 4.3510e-08, 1.1515e-07, 1.3937e-06, 6.7716e-07, 4.0829e-07, 7.2164e-08, 7.5724e-07, 3.9684e-06, 5.3596e-05, 3.6527e-08, 4.4500e-06, 6.3468e-05, 7.6251e-07,\n",
       "        1.3462e-07, 5.8757e-08, 1.0405e-06, 1.1188e-04, 3.0040e-08, 2.4908e-08, 4.6861e-07, 4.8263e-07, 1.4237e-06, 6.4368e-07, 2.0394e-06, 3.2401e-06, 1.0301e-07, 6.3266e-09, 4.5914e-07, 4.0068e-08, 2.9172e-05, 2.9575e-07, 2.6084e-07, 1.3014e-06, 7.8534e-07, 6.4474e-06, 7.4278e-07, 1.4921e-06, 2.9756e-08, 3.3690e-07,\n",
       "        1.7399e-06, 1.9810e-05, 1.7043e-06, 8.0974e-09, 1.4341e-07, 1.8262e-08, 1.7381e-05, 8.8801e-07, 1.9200e-07, 9.4869e-05, 1.4497e-08, 1.2724e-06, 1.8889e-06, 1.1486e-07, 4.9588e-06, 7.5813e-05, 3.0564e-07, 1.3440e-07, 2.5046e-07, 5.1127e-08, 2.1297e-07, 6.3562e-08, 1.7604e-05, 2.9076e-04, 2.9286e-06, 9.8311e-05,\n",
       "        8.7667e-07, 2.1566e-07, 3.6287e-07, 2.1238e-03, 1.8368e-07, 8.0306e-08, 1.0726e-07, 2.4054e-06, 4.3367e-07, 2.9811e-06, 2.5465e-06, 6.6486e-07, 1.7646e-08, 1.3237e-06, 3.0784e-05, 1.1518e-06, 4.6584e-08, 3.0752e-06, 1.1183e-07, 1.1700e-06, 1.8566e-08, 5.0899e-07, 1.5342e-07, 1.2826e-06, 2.6628e-07, 3.7679e-08,\n",
       "        1.9990e-06, 1.2560e-07, 1.2561e-07, 2.0515e-07, 4.2139e-06, 2.3131e-05, 1.9039e-07, 3.6101e-06, 4.6225e-07, 1.7970e-08, 1.4443e-05, 9.7577e-04, 8.0796e-07, 6.0983e-07, 2.7314e-04, 1.5025e-07, 1.7117e-07, 1.5289e-05, 6.5395e-07, 4.5747e-06, 4.0685e-07, 1.0701e-08, 1.6780e-06, 2.9626e-06, 1.6568e-07, 1.4052e-08,\n",
       "        4.1496e-07, 2.2942e-06, 1.4997e-08, 3.2388e-04, 4.1298e-06, 5.4720e-08, 9.7001e-07, 2.4378e-07, 3.0750e-06, 1.9597e-08, 1.0212e-06, 2.6289e-08, 3.6385e-06, 7.4236e-06, 4.7318e-06, 1.1845e-07, 1.7869e-08, 2.1612e-06, 1.6276e-07, 1.9941e-06, 4.6786e-09, 1.8123e-07, 4.6724e-07, 4.6825e-08, 6.9196e-08, 2.4538e-08,\n",
       "        1.0702e-06, 6.2060e-07, 1.4627e-04, 1.0580e-07, 5.7142e-01, 2.8229e-04, 2.9151e-03, 1.1022e-05, 6.5898e-08, 8.1489e-09, 1.6377e-04, 3.0677e-04, 1.9800e-07, 7.6918e-08, 1.8716e-06, 1.4494e-05, 1.4821e-07, 5.5643e-06, 1.2263e-06, 2.9474e-07, 2.1382e-05, 6.8230e-07, 3.9650e-07, 1.1473e-07, 2.0219e-08, 4.2760e-04,\n",
       "        2.1235e-06, 1.7937e-08, 1.8903e-05, 7.2795e-09, 2.1214e-07, 1.0144e-06, 6.6990e-08, 3.4330e-07, 4.8737e-06, 9.5236e-08, 1.6603e-08, 1.6603e-08, 1.9606e-07, 1.1278e-07, 5.4184e-06, 6.0834e-05, 2.7899e-08, 6.5703e-07, 1.7160e-08, 1.7839e-08, 1.0161e-06, 1.9539e-07, 5.8059e-07, 3.1000e-07, 8.7176e-07, 1.9340e-06,\n",
       "        5.0959e-06, 3.4258e-07, 1.3940e-04, 2.5755e-03, 1.4699e-06, 3.8713e-05, 1.6118e-07, 1.1198e-07, 7.0412e-08, 1.2142e-07, 1.8873e-08, 1.5430e-06, 5.4546e-08, 2.1374e-07, 4.2824e-07, 1.5150e-05, 2.4988e-07, 1.1698e-06, 1.1867e-08, 1.1765e-06, 5.4106e-06, 5.8297e-09, 2.1548e-07, 2.6989e-07, 1.4386e-09, 6.1433e-06,\n",
       "        8.1357e-07, 3.2249e-10, 8.2351e-07, 1.1892e-05, 1.4112e-06, 1.8394e-05, 3.3712e-01, 1.3510e-05, 9.0756e-06, 3.3863e-06, 3.6987e-08, 1.7598e-07, 1.9682e-06, 2.2942e-08, 3.4253e-06, 7.6411e-07, 4.3233e-05, 1.0565e-07, 2.7799e-06, 4.7726e-06, 6.3186e-08, 4.7792e-08, 5.9593e-07, 2.1584e-05, 2.1762e-05, 1.4329e-07,\n",
       "        5.8866e-07, 1.4642e-07, 6.1149e-06, 1.4144e-02, 7.7229e-07, 2.7191e-07, 1.7453e-06, 2.2714e-07, 2.0749e-06, 6.4793e-07, 6.8882e-07, 9.5889e-08, 7.9085e-07, 2.9999e-07, 1.5627e-05, 4.5767e-08, 2.4595e-06, 6.5611e-07, 1.5397e-07, 5.5100e-08, 1.8023e-07, 5.7800e-06, 5.5393e-06, 1.0398e-07, 3.4248e-06, 6.5893e-04,\n",
       "        1.6587e-08, 3.1158e-07, 8.5363e-07, 1.1928e-07, 4.9275e-07, 2.0094e-06, 1.0200e-06, 4.6147e-06, 4.8404e-06, 1.8498e-08, 3.5745e-06, 4.0105e-05, 3.5997e-05, 6.4527e-07, 1.4714e-07, 9.5715e-06, 2.5350e-06, 1.3618e-06, 7.1179e-09, 3.7263e-05, 1.2410e-07, 1.7678e-05, 5.0044e-06, 1.5647e-06, 3.1950e-08, 1.9524e-05,\n",
       "        3.7130e-07, 1.4309e-06, 4.1701e-06, 1.1378e-08, 2.9504e-08, 7.9883e-08, 4.3408e-05, 7.3993e-08, 3.0304e-06, 9.4244e-09, 1.2869e-07, 8.8122e-07, 1.1692e-06, 5.9905e-05, 6.1933e-06, 2.6959e-07, 5.2675e-06, 4.2889e-07, 5.2525e-06, 3.1725e-09, 7.1755e-07, 4.7379e-08, 5.4460e-08, 5.8679e-03, 4.5572e-04, 1.1697e-07,\n",
       "        4.1411e-08, 1.3018e-06, 4.0184e-06, 1.8399e-08, 4.7983e-06, 1.9135e-05, 2.6837e-06, 2.2085e-07, 5.6451e-06, 1.7224e-06, 1.7245e-06, 8.6948e-06, 8.4611e-09, 1.8478e-07, 2.8963e-08, 1.0280e-05, 6.4718e-07, 9.3785e-08, 5.5237e-07, 6.4876e-06, 6.3111e-06, 2.2527e-07, 6.2252e-08, 5.8134e-09, 1.4696e-06, 1.1005e-07,\n",
       "        7.9730e-09, 8.3546e-07, 4.7196e-06, 3.9233e-07, 1.0129e-05, 7.1759e-07, 5.4880e-05, 1.1109e-05, 1.4439e-05, 5.2927e-05, 7.5560e-07, 1.4767e-05, 8.7472e-06, 1.7061e-06, 4.6405e-06, 5.3108e-07, 4.2096e-02, 1.5014e-06, 3.1376e-07, 1.0477e-05, 2.3200e-08, 1.8782e-05, 8.6267e-06, 1.3434e-06, 2.0665e-05, 6.8622e-07,\n",
       "        4.3603e-08, 8.0823e-08, 1.8177e-05, 8.0193e-08, 5.4045e-07, 2.5704e-06, 7.8829e-06, 2.7065e-09, 3.0170e-07, 1.3464e-07, 8.4463e-07, 1.6279e-05, 1.8135e-07, 1.6073e-06, 1.2933e-05, 6.0285e-06, 1.7558e-07, 9.7729e-09, 9.0876e-06, 3.0615e-06, 2.7760e-07, 2.1963e-08, 2.6260e-07, 1.0998e-07, 1.8593e-05, 2.1870e-08,\n",
       "        1.7222e-07, 9.1541e-08, 4.3648e-08, 6.5124e-08, 3.0693e-08, 2.3450e-05, 5.2398e-06, 1.8698e-06, 3.0773e-07, 2.0440e-06, 4.9169e-06, 9.0871e-08, 1.0312e-08, 4.1539e-09, 2.5283e-08, 1.1537e-08, 1.2707e-09, 5.5073e-09, 2.9431e-08, 1.2063e-05, 1.1444e-08, 1.3859e-07, 5.9019e-06, 5.8261e-09, 5.2485e-07, 3.7225e-09,\n",
       "        2.2743e-08, 1.0928e-08, 5.0215e-07, 5.1131e-08, 4.3953e-10, 1.0377e-09, 1.5862e-08, 1.4051e-08, 1.3091e-08, 4.7184e-09, 6.0811e-09, 2.7860e-08, 1.0177e-07, 4.0188e-08, 9.2156e-08, 4.8583e-09, 2.2116e-08, 5.8577e-08, 1.6648e-07, 9.1769e-08, 2.3203e-08, 1.2252e-08, 1.2424e-07, 2.4969e-09, 8.5333e-08, 2.0170e-08,\n",
       "        1.6628e-08, 4.3802e-09, 9.7845e-09, 4.7722e-08, 6.4055e-08, 8.5888e-08, 4.2957e-08, 2.5397e-08, 3.4245e-06, 1.8194e-04, 2.5348e-07, 1.6365e-07, 1.8529e-07, 4.8471e-06, 1.1389e-07, 4.4777e-06, 2.8015e-07, 2.2147e-07, 9.6839e-07, 3.6602e-05, 2.2986e-05, 2.4387e-06, 6.7889e-09, 2.1677e-09, 3.7565e-10, 1.7436e-07,\n",
       "        2.3670e-08, 7.5902e-09, 5.3967e-09, 6.2834e-10, 5.9720e-09, 6.1471e-10, 6.3701e-10, 2.7243e-09, 3.5860e-09, 9.5823e-10, 1.0188e-07, 2.1631e-06], device='cuda:0')\n",
       "orig_shape: None\n",
       "shape: torch.Size([1000])\n",
       "top1: 654\n",
       "top1conf: tensor(0.5714, device='cuda:0')\n",
       "top5: [654, 734, 874, 757, 408]\n",
       "top5conf: tensor([0.5714, 0.3371, 0.0421, 0.0141, 0.0059], device='cuda:0')"
      ]
     },
     "execution_count": 6,
     "metadata": {},
     "output_type": "execute_result"
    }
   ],
   "source": [
    "# 根据上面的输出可以看得出  probs是概率\n",
    "results[0].probs"
   ]
  },
  {
   "cell_type": "code",
   "execution_count": null,
   "id": "4dabc9ff-84ff-45f9-a8f4-2c92e54af01b",
   "metadata": {},
   "outputs": [],
   "source": []
  }
 ],
 "metadata": {
  "kernelspec": {
   "display_name": "Python(py311)",
   "language": "python",
   "name": "py311"
  },
  "language_info": {
   "codemirror_mode": {
    "name": "ipython",
    "version": 3
   },
   "file_extension": ".py",
   "mimetype": "text/x-python",
   "name": "python",
   "nbconvert_exporter": "python",
   "pygments_lexer": "ipython3",
   "version": "3.11.11"
  }
 },
 "nbformat": 4,
 "nbformat_minor": 5
}
