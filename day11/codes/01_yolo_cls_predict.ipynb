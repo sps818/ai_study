{
 "cells": [
  {
   "cell_type": "code",
   "execution_count": 1,
   "id": "8f958786-f068-49ef-859e-395b46eda2c7",
   "metadata": {},
   "outputs": [],
   "source": [
    "from ultralytics import YOLO\n",
    "\n",
    "# Load a model\n",
    "model = YOLO(\"yolo11n-cls.pt\")  # load an official model\n",
    "# model = YOLO(\"path/to/best.pt\")  # load a custom model"
   ]
  },
  {
   "cell_type": "code",
   "execution_count": 2,
   "id": "1942c286-d79d-4b1e-9e38-c34b31aa0ac2",
   "metadata": {},
   "outputs": [
    {
     "name": "stdout",
     "output_type": "stream",
     "text": [
      "\n",
      "0: 224x224 minibus 0.58, police_van 0.33, trolleybus 0.04, recreational_vehicle 0.01, streetcar 0.01, 13.0ms\n",
      "1: 224x224 minibus 0.58, police_van 0.33, trolleybus 0.04, recreational_vehicle 0.01, streetcar 0.01, 13.0ms\n",
      "Speed: 10.8ms preprocess, 13.0ms inference, 0.0ms postprocess per image at shape (1, 3, 224, 224)\n"
     ]
    }
   ],
   "source": [
    "# Predict with the model\n",
    "results = model(source=[\"bus.jpg\", \"bus.jpg\"])  # predict on an image"
   ]
  },
  {
   "cell_type": "code",
   "execution_count": 3,
   "id": "71a339ef-ac19-466d-80cb-3a1b2188be1b",
   "metadata": {},
   "outputs": [
    {
     "data": {
      "text/plain": [
       "list"
      ]
     },
     "execution_count": 3,
     "metadata": {},
     "output_type": "execute_result"
    }
   ],
   "source": [
    "type(results)"
   ]
  },
  {
   "cell_type": "code",
   "execution_count": 4,
   "id": "ce95b3ce-a149-4a7d-b904-64c268c3af27",
   "metadata": {},
   "outputs": [
    {
     "data": {
      "text/plain": [
       "ultralytics.engine.results.Results object with attributes:\n",
       "\n",
       "boxes: None\n",
       "keypoints: None\n",
       "masks: None\n",
       "names: {0: 'tench', 1: 'goldfish', 2: 'great_white_shark', 3: 'tiger_shark', 4: 'hammerhead', 5: 'electric_ray', 6: 'stingray', 7: 'cock', 8: 'hen', 9: 'ostrich', 10: 'brambling', 11: 'goldfinch', 12: 'house_finch', 13: 'junco', 14: 'indigo_bunting', 15: 'robin', 16: 'bulbul', 17: 'jay', 18: 'magpie', 19: 'chickadee', 20: 'water_ouzel', 21: 'kite', 22: 'bald_eagle', 23: 'vulture', 24: 'great_grey_owl', 25: 'European_fire_salamander', 26: 'common_newt', 27: 'eft', 28: 'spotted_salamander', 29: 'axolotl', 30: 'bullfrog', 31: 'tree_frog', 32: 'tailed_frog', 33: 'loggerhead', 34: 'leatherback_turtle', 35: 'mud_turtle', 36: 'terrapin', 37: 'box_turtle', 38: 'banded_gecko', 39: 'common_iguana', 40: 'American_chameleon', 41: 'whiptail', 42: 'agama', 43: 'frilled_lizard', 44: 'alligator_lizard', 45: 'Gila_monster', 46: 'green_lizard', 47: 'African_chameleon', 48: 'Komodo_dragon', 49: 'African_crocodile', 50: 'American_alligator', 51: 'triceratops', 52: 'thunder_snake', 53: 'ringneck_snake', 54: 'hognose_snake', 55: 'green_snake', 56: 'king_snake', 57: 'garter_snake', 58: 'water_snake', 59: 'vine_snake', 60: 'night_snake', 61: 'boa_constrictor', 62: 'rock_python', 63: 'Indian_cobra', 64: 'green_mamba', 65: 'sea_snake', 66: 'horned_viper', 67: 'diamondback', 68: 'sidewinder', 69: 'trilobite', 70: 'harvestman', 71: 'scorpion', 72: 'black_and_gold_garden_spider', 73: 'barn_spider', 74: 'garden_spider', 75: 'black_widow', 76: 'tarantula', 77: 'wolf_spider', 78: 'tick', 79: 'centipede', 80: 'black_grouse', 81: 'ptarmigan', 82: 'ruffed_grouse', 83: 'prairie_chicken', 84: 'peacock', 85: 'quail', 86: 'partridge', 87: 'African_grey', 88: 'macaw', 89: 'sulphur-crested_cockatoo', 90: 'lorikeet', 91: 'coucal', 92: 'bee_eater', 93: 'hornbill', 94: 'hummingbird', 95: 'jacamar', 96: 'toucan', 97: 'drake', 98: 'red-breasted_merganser', 99: 'goose', 100: 'black_swan', 101: 'tusker', 102: 'echidna', 103: 'platypus', 104: 'wallaby', 105: 'koala', 106: 'wombat', 107: 'jellyfish', 108: 'sea_anemone', 109: 'brain_coral', 110: 'flatworm', 111: 'nematode', 112: 'conch', 113: 'snail', 114: 'slug', 115: 'sea_slug', 116: 'chiton', 117: 'chambered_nautilus', 118: 'Dungeness_crab', 119: 'rock_crab', 120: 'fiddler_crab', 121: 'king_crab', 122: 'American_lobster', 123: 'spiny_lobster', 124: 'crayfish', 125: 'hermit_crab', 126: 'isopod', 127: 'white_stork', 128: 'black_stork', 129: 'spoonbill', 130: 'flamingo', 131: 'little_blue_heron', 132: 'American_egret', 133: 'bittern', 134: 'crane_(bird)', 135: 'limpkin', 136: 'European_gallinule', 137: 'American_coot', 138: 'bustard', 139: 'ruddy_turnstone', 140: 'red-backed_sandpiper', 141: 'redshank', 142: 'dowitcher', 143: 'oystercatcher', 144: 'pelican', 145: 'king_penguin', 146: 'albatross', 147: 'grey_whale', 148: 'killer_whale', 149: 'dugong', 150: 'sea_lion', 151: 'Chihuahua', 152: 'Japanese_spaniel', 153: 'Maltese_dog', 154: 'Pekinese', 155: 'Shih-Tzu', 156: 'Blenheim_spaniel', 157: 'papillon', 158: 'toy_terrier', 159: 'Rhodesian_ridgeback', 160: 'Afghan_hound', 161: 'basset', 162: 'beagle', 163: 'bloodhound', 164: 'bluetick', 165: 'black-and-tan_coonhound', 166: 'Walker_hound', 167: 'English_foxhound', 168: 'redbone', 169: 'borzoi', 170: 'Irish_wolfhound', 171: 'Italian_greyhound', 172: 'whippet', 173: 'Ibizan_hound', 174: 'Norwegian_elkhound', 175: 'otterhound', 176: 'Saluki', 177: 'Scottish_deerhound', 178: 'Weimaraner', 179: 'Staffordshire_bullterrier', 180: 'American_Staffordshire_terrier', 181: 'Bedlington_terrier', 182: 'Border_terrier', 183: 'Kerry_blue_terrier', 184: 'Irish_terrier', 185: 'Norfolk_terrier', 186: 'Norwich_terrier', 187: 'Yorkshire_terrier', 188: 'wire-haired_fox_terrier', 189: 'Lakeland_terrier', 190: 'Sealyham_terrier', 191: 'Airedale', 192: 'cairn', 193: 'Australian_terrier', 194: 'Dandie_Dinmont', 195: 'Boston_bull', 196: 'miniature_schnauzer', 197: 'giant_schnauzer', 198: 'standard_schnauzer', 199: 'Scotch_terrier', 200: 'Tibetan_terrier', 201: 'silky_terrier', 202: 'soft-coated_wheaten_terrier', 203: 'West_Highland_white_terrier', 204: 'Lhasa', 205: 'flat-coated_retriever', 206: 'curly-coated_retriever', 207: 'golden_retriever', 208: 'Labrador_retriever', 209: 'Chesapeake_Bay_retriever', 210: 'German_short-haired_pointer', 211: 'vizsla', 212: 'English_setter', 213: 'Irish_setter', 214: 'Gordon_setter', 215: 'Brittany_spaniel', 216: 'clumber', 217: 'English_springer', 218: 'Welsh_springer_spaniel', 219: 'cocker_spaniel', 220: 'Sussex_spaniel', 221: 'Irish_water_spaniel', 222: 'kuvasz', 223: 'schipperke', 224: 'groenendael', 225: 'malinois', 226: 'briard', 227: 'kelpie', 228: 'komondor', 229: 'Old_English_sheepdog', 230: 'Shetland_sheepdog', 231: 'collie', 232: 'Border_collie', 233: 'Bouvier_des_Flandres', 234: 'Rottweiler', 235: 'German_shepherd', 236: 'Doberman', 237: 'miniature_pinscher', 238: 'Greater_Swiss_Mountain_dog', 239: 'Bernese_mountain_dog', 240: 'Appenzeller', 241: 'EntleBucher', 242: 'boxer', 243: 'bull_mastiff', 244: 'Tibetan_mastiff', 245: 'French_bulldog', 246: 'Great_Dane', 247: 'Saint_Bernard', 248: 'Eskimo_dog', 249: 'malamute', 250: 'Siberian_husky', 251: 'dalmatian', 252: 'affenpinscher', 253: 'basenji', 254: 'pug', 255: 'Leonberg', 256: 'Newfoundland', 257: 'Great_Pyrenees', 258: 'Samoyed', 259: 'Pomeranian', 260: 'chow', 261: 'keeshond', 262: 'Brabancon_griffon', 263: 'Pembroke', 264: 'Cardigan', 265: 'toy_poodle', 266: 'miniature_poodle', 267: 'standard_poodle', 268: 'Mexican_hairless', 269: 'timber_wolf', 270: 'white_wolf', 271: 'red_wolf', 272: 'coyote', 273: 'dingo', 274: 'dhole', 275: 'African_hunting_dog', 276: 'hyena', 277: 'red_fox', 278: 'kit_fox', 279: 'Arctic_fox', 280: 'grey_fox', 281: 'tabby', 282: 'tiger_cat', 283: 'Persian_cat', 284: 'Siamese_cat', 285: 'Egyptian_cat', 286: 'cougar', 287: 'lynx', 288: 'leopard', 289: 'snow_leopard', 290: 'jaguar', 291: 'lion', 292: 'tiger', 293: 'cheetah', 294: 'brown_bear', 295: 'American_black_bear', 296: 'ice_bear', 297: 'sloth_bear', 298: 'mongoose', 299: 'meerkat', 300: 'tiger_beetle', 301: 'ladybug', 302: 'ground_beetle', 303: 'long-horned_beetle', 304: 'leaf_beetle', 305: 'dung_beetle', 306: 'rhinoceros_beetle', 307: 'weevil', 308: 'fly', 309: 'bee', 310: 'ant', 311: 'grasshopper', 312: 'cricket', 313: 'walking_stick', 314: 'cockroach', 315: 'mantis', 316: 'cicada', 317: 'leafhopper', 318: 'lacewing', 319: 'dragonfly', 320: 'damselfly', 321: 'admiral', 322: 'ringlet', 323: 'monarch', 324: 'cabbage_butterfly', 325: 'sulphur_butterfly', 326: 'lycaenid', 327: 'starfish', 328: 'sea_urchin', 329: 'sea_cucumber', 330: 'wood_rabbit', 331: 'hare', 332: 'Angora', 333: 'hamster', 334: 'porcupine', 335: 'fox_squirrel', 336: 'marmot', 337: 'beaver', 338: 'guinea_pig', 339: 'sorrel', 340: 'zebra', 341: 'hog', 342: 'wild_boar', 343: 'warthog', 344: 'hippopotamus', 345: 'ox', 346: 'water_buffalo', 347: 'bison', 348: 'ram', 349: 'bighorn', 350: 'ibex', 351: 'hartebeest', 352: 'impala', 353: 'gazelle', 354: 'Arabian_camel', 355: 'llama', 356: 'weasel', 357: 'mink', 358: 'polecat', 359: 'black-footed_ferret', 360: 'otter', 361: 'skunk', 362: 'badger', 363: 'armadillo', 364: 'three-toed_sloth', 365: 'orangutan', 366: 'gorilla', 367: 'chimpanzee', 368: 'gibbon', 369: 'siamang', 370: 'guenon', 371: 'patas', 372: 'baboon', 373: 'macaque', 374: 'langur', 375: 'colobus', 376: 'proboscis_monkey', 377: 'marmoset', 378: 'capuchin', 379: 'howler_monkey', 380: 'titi', 381: 'spider_monkey', 382: 'squirrel_monkey', 383: 'Madagascar_cat', 384: 'indri', 385: 'Indian_elephant', 386: 'African_elephant', 387: 'lesser_panda', 388: 'giant_panda', 389: 'barracouta', 390: 'eel', 391: 'coho', 392: 'rock_beauty', 393: 'anemone_fish', 394: 'sturgeon', 395: 'gar', 396: 'lionfish', 397: 'puffer', 398: 'abacus', 399: 'abaya', 400: 'academic_gown', 401: 'accordion', 402: 'acoustic_guitar', 403: 'aircraft_carrier', 404: 'airliner', 405: 'airship', 406: 'altar', 407: 'ambulance', 408: 'amphibian', 409: 'analog_clock', 410: 'apiary', 411: 'apron', 412: 'ashcan', 413: 'assault_rifle', 414: 'backpack', 415: 'bakery', 416: 'balance_beam', 417: 'balloon', 418: 'ballpoint', 419: 'Band_Aid', 420: 'banjo', 421: 'bannister', 422: 'barbell', 423: 'barber_chair', 424: 'barbershop', 425: 'barn', 426: 'barometer', 427: 'barrel', 428: 'barrow', 429: 'baseball', 430: 'basketball', 431: 'bassinet', 432: 'bassoon', 433: 'bathing_cap', 434: 'bath_towel', 435: 'bathtub', 436: 'beach_wagon', 437: 'beacon', 438: 'beaker', 439: 'bearskin', 440: 'beer_bottle', 441: 'beer_glass', 442: 'bell_cote', 443: 'bib', 444: 'bicycle-built-for-two', 445: 'bikini', 446: 'binder', 447: 'binoculars', 448: 'birdhouse', 449: 'boathouse', 450: 'bobsled', 451: 'bolo_tie', 452: 'bonnet', 453: 'bookcase', 454: 'bookshop', 455: 'bottlecap', 456: 'bow', 457: 'bow_tie', 458: 'brass', 459: 'brassiere', 460: 'breakwater', 461: 'breastplate', 462: 'broom', 463: 'bucket', 464: 'buckle', 465: 'bulletproof_vest', 466: 'bullet_train', 467: 'butcher_shop', 468: 'cab', 469: 'caldron', 470: 'candle', 471: 'cannon', 472: 'canoe', 473: 'can_opener', 474: 'cardigan', 475: 'car_mirror', 476: 'carousel', 477: \"carpenter's_kit\", 478: 'carton', 479: 'car_wheel', 480: 'cash_machine', 481: 'cassette', 482: 'cassette_player', 483: 'castle', 484: 'catamaran', 485: 'CD_player', 486: 'cello', 487: 'cellular_telephone', 488: 'chain', 489: 'chainlink_fence', 490: 'chain_mail', 491: 'chain_saw', 492: 'chest', 493: 'chiffonier', 494: 'chime', 495: 'china_cabinet', 496: 'Christmas_stocking', 497: 'church', 498: 'cinema', 499: 'cleaver', 500: 'cliff_dwelling', 501: 'cloak', 502: 'clog', 503: 'cocktail_shaker', 504: 'coffee_mug', 505: 'coffeepot', 506: 'coil', 507: 'combination_lock', 508: 'computer_keyboard', 509: 'confectionery', 510: 'container_ship', 511: 'convertible', 512: 'corkscrew', 513: 'cornet', 514: 'cowboy_boot', 515: 'cowboy_hat', 516: 'cradle', 517: 'crane_(machine)', 518: 'crash_helmet', 519: 'crate', 520: 'crib', 521: 'Crock_Pot', 522: 'croquet_ball', 523: 'crutch', 524: 'cuirass', 525: 'dam', 526: 'desk', 527: 'desktop_computer', 528: 'dial_telephone', 529: 'diaper', 530: 'digital_clock', 531: 'digital_watch', 532: 'dining_table', 533: 'dishrag', 534: 'dishwasher', 535: 'disk_brake', 536: 'dock', 537: 'dogsled', 538: 'dome', 539: 'doormat', 540: 'drilling_platform', 541: 'drum', 542: 'drumstick', 543: 'dumbbell', 544: 'Dutch_oven', 545: 'electric_fan', 546: 'electric_guitar', 547: 'electric_locomotive', 548: 'entertainment_center', 549: 'envelope', 550: 'espresso_maker', 551: 'face_powder', 552: 'feather_boa', 553: 'file', 554: 'fireboat', 555: 'fire_engine', 556: 'fire_screen', 557: 'flagpole', 558: 'flute', 559: 'folding_chair', 560: 'football_helmet', 561: 'forklift', 562: 'fountain', 563: 'fountain_pen', 564: 'four-poster', 565: 'freight_car', 566: 'French_horn', 567: 'frying_pan', 568: 'fur_coat', 569: 'garbage_truck', 570: 'gasmask', 571: 'gas_pump', 572: 'goblet', 573: 'go-kart', 574: 'golf_ball', 575: 'golfcart', 576: 'gondola', 577: 'gong', 578: 'gown', 579: 'grand_piano', 580: 'greenhouse', 581: 'grille', 582: 'grocery_store', 583: 'guillotine', 584: 'hair_slide', 585: 'hair_spray', 586: 'half_track', 587: 'hammer', 588: 'hamper', 589: 'hand_blower', 590: 'hand-held_computer', 591: 'handkerchief', 592: 'hard_disc', 593: 'harmonica', 594: 'harp', 595: 'harvester', 596: 'hatchet', 597: 'holster', 598: 'home_theater', 599: 'honeycomb', 600: 'hook', 601: 'hoopskirt', 602: 'horizontal_bar', 603: 'horse_cart', 604: 'hourglass', 605: 'iPod', 606: 'iron', 607: \"jack-o'-lantern\", 608: 'jean', 609: 'jeep', 610: 'jersey', 611: 'jigsaw_puzzle', 612: 'jinrikisha', 613: 'joystick', 614: 'kimono', 615: 'knee_pad', 616: 'knot', 617: 'lab_coat', 618: 'ladle', 619: 'lampshade', 620: 'laptop', 621: 'lawn_mower', 622: 'lens_cap', 623: 'letter_opener', 624: 'library', 625: 'lifeboat', 626: 'lighter', 627: 'limousine', 628: 'liner', 629: 'lipstick', 630: 'Loafer', 631: 'lotion', 632: 'loudspeaker', 633: 'loupe', 634: 'lumbermill', 635: 'magnetic_compass', 636: 'mailbag', 637: 'mailbox', 638: 'maillot_(tights)', 639: 'maillot_(tank_suit)', 640: 'manhole_cover', 641: 'maraca', 642: 'marimba', 643: 'mask', 644: 'matchstick', 645: 'maypole', 646: 'maze', 647: 'measuring_cup', 648: 'medicine_chest', 649: 'megalith', 650: 'microphone', 651: 'microwave', 652: 'military_uniform', 653: 'milk_can', 654: 'minibus', 655: 'miniskirt', 656: 'minivan', 657: 'missile', 658: 'mitten', 659: 'mixing_bowl', 660: 'mobile_home', 661: 'Model_T', 662: 'modem', 663: 'monastery', 664: 'monitor', 665: 'moped', 666: 'mortar', 667: 'mortarboard', 668: 'mosque', 669: 'mosquito_net', 670: 'motor_scooter', 671: 'mountain_bike', 672: 'mountain_tent', 673: 'mouse', 674: 'mousetrap', 675: 'moving_van', 676: 'muzzle', 677: 'nail', 678: 'neck_brace', 679: 'necklace', 680: 'nipple', 681: 'notebook', 682: 'obelisk', 683: 'oboe', 684: 'ocarina', 685: 'odometer', 686: 'oil_filter', 687: 'organ', 688: 'oscilloscope', 689: 'overskirt', 690: 'oxcart', 691: 'oxygen_mask', 692: 'packet', 693: 'paddle', 694: 'paddlewheel', 695: 'padlock', 696: 'paintbrush', 697: 'pajama', 698: 'palace', 699: 'panpipe', 700: 'paper_towel', 701: 'parachute', 702: 'parallel_bars', 703: 'park_bench', 704: 'parking_meter', 705: 'passenger_car', 706: 'patio', 707: 'pay-phone', 708: 'pedestal', 709: 'pencil_box', 710: 'pencil_sharpener', 711: 'perfume', 712: 'Petri_dish', 713: 'photocopier', 714: 'pick', 715: 'pickelhaube', 716: 'picket_fence', 717: 'pickup', 718: 'pier', 719: 'piggy_bank', 720: 'pill_bottle', 721: 'pillow', 722: 'ping-pong_ball', 723: 'pinwheel', 724: 'pirate', 725: 'pitcher', 726: 'plane', 727: 'planetarium', 728: 'plastic_bag', 729: 'plate_rack', 730: 'plow', 731: 'plunger', 732: 'Polaroid_camera', 733: 'pole', 734: 'police_van', 735: 'poncho', 736: 'pool_table', 737: 'pop_bottle', 738: 'pot', 739: \"potter's_wheel\", 740: 'power_drill', 741: 'prayer_rug', 742: 'printer', 743: 'prison', 744: 'projectile', 745: 'projector', 746: 'puck', 747: 'punching_bag', 748: 'purse', 749: 'quill', 750: 'quilt', 751: 'racer', 752: 'racket', 753: 'radiator', 754: 'radio', 755: 'radio_telescope', 756: 'rain_barrel', 757: 'recreational_vehicle', 758: 'reel', 759: 'reflex_camera', 760: 'refrigerator', 761: 'remote_control', 762: 'restaurant', 763: 'revolver', 764: 'rifle', 765: 'rocking_chair', 766: 'rotisserie', 767: 'rubber_eraser', 768: 'rugby_ball', 769: 'rule', 770: 'running_shoe', 771: 'safe', 772: 'safety_pin', 773: 'saltshaker', 774: 'sandal', 775: 'sarong', 776: 'sax', 777: 'scabbard', 778: 'scale', 779: 'school_bus', 780: 'schooner', 781: 'scoreboard', 782: 'screen', 783: 'screw', 784: 'screwdriver', 785: 'seat_belt', 786: 'sewing_machine', 787: 'shield', 788: 'shoe_shop', 789: 'shoji', 790: 'shopping_basket', 791: 'shopping_cart', 792: 'shovel', 793: 'shower_cap', 794: 'shower_curtain', 795: 'ski', 796: 'ski_mask', 797: 'sleeping_bag', 798: 'slide_rule', 799: 'sliding_door', 800: 'slot', 801: 'snorkel', 802: 'snowmobile', 803: 'snowplow', 804: 'soap_dispenser', 805: 'soccer_ball', 806: 'sock', 807: 'solar_dish', 808: 'sombrero', 809: 'soup_bowl', 810: 'space_bar', 811: 'space_heater', 812: 'space_shuttle', 813: 'spatula', 814: 'speedboat', 815: 'spider_web', 816: 'spindle', 817: 'sports_car', 818: 'spotlight', 819: 'stage', 820: 'steam_locomotive', 821: 'steel_arch_bridge', 822: 'steel_drum', 823: 'stethoscope', 824: 'stole', 825: 'stone_wall', 826: 'stopwatch', 827: 'stove', 828: 'strainer', 829: 'streetcar', 830: 'stretcher', 831: 'studio_couch', 832: 'stupa', 833: 'submarine', 834: 'suit', 835: 'sundial', 836: 'sunglass', 837: 'sunglasses', 838: 'sunscreen', 839: 'suspension_bridge', 840: 'swab', 841: 'sweatshirt', 842: 'swimming_trunks', 843: 'swing', 844: 'switch', 845: 'syringe', 846: 'table_lamp', 847: 'tank', 848: 'tape_player', 849: 'teapot', 850: 'teddy', 851: 'television', 852: 'tennis_ball', 853: 'thatch', 854: 'theater_curtain', 855: 'thimble', 856: 'thresher', 857: 'throne', 858: 'tile_roof', 859: 'toaster', 860: 'tobacco_shop', 861: 'toilet_seat', 862: 'torch', 863: 'totem_pole', 864: 'tow_truck', 865: 'toyshop', 866: 'tractor', 867: 'trailer_truck', 868: 'tray', 869: 'trench_coat', 870: 'tricycle', 871: 'trimaran', 872: 'tripod', 873: 'triumphal_arch', 874: 'trolleybus', 875: 'trombone', 876: 'tub', 877: 'turnstile', 878: 'typewriter_keyboard', 879: 'umbrella', 880: 'unicycle', 881: 'upright', 882: 'vacuum', 883: 'vase', 884: 'vault', 885: 'velvet', 886: 'vending_machine', 887: 'vestment', 888: 'viaduct', 889: 'violin', 890: 'volleyball', 891: 'waffle_iron', 892: 'wall_clock', 893: 'wallet', 894: 'wardrobe', 895: 'warplane', 896: 'washbasin', 897: 'washer', 898: 'water_bottle', 899: 'water_jug', 900: 'water_tower', 901: 'whiskey_jug', 902: 'whistle', 903: 'wig', 904: 'window_screen', 905: 'window_shade', 906: 'Windsor_tie', 907: 'wine_bottle', 908: 'wing', 909: 'wok', 910: 'wooden_spoon', 911: 'wool', 912: 'worm_fence', 913: 'wreck', 914: 'yawl', 915: 'yurt', 916: 'web_site', 917: 'comic_book', 918: 'crossword_puzzle', 919: 'street_sign', 920: 'traffic_light', 921: 'book_jacket', 922: 'menu', 923: 'plate', 924: 'guacamole', 925: 'consomme', 926: 'hot_pot', 927: 'trifle', 928: 'ice_cream', 929: 'ice_lolly', 930: 'French_loaf', 931: 'bagel', 932: 'pretzel', 933: 'cheeseburger', 934: 'hotdog', 935: 'mashed_potato', 936: 'head_cabbage', 937: 'broccoli', 938: 'cauliflower', 939: 'zucchini', 940: 'spaghetti_squash', 941: 'acorn_squash', 942: 'butternut_squash', 943: 'cucumber', 944: 'artichoke', 945: 'bell_pepper', 946: 'cardoon', 947: 'mushroom', 948: 'Granny_Smith', 949: 'strawberry', 950: 'orange', 951: 'lemon', 952: 'fig', 953: 'pineapple', 954: 'banana', 955: 'jackfruit', 956: 'custard_apple', 957: 'pomegranate', 958: 'hay', 959: 'carbonara', 960: 'chocolate_sauce', 961: 'dough', 962: 'meat_loaf', 963: 'pizza', 964: 'potpie', 965: 'burrito', 966: 'red_wine', 967: 'espresso', 968: 'cup', 969: 'eggnog', 970: 'alp', 971: 'bubble', 972: 'cliff', 973: 'coral_reef', 974: 'geyser', 975: 'lakeside', 976: 'promontory', 977: 'sandbar', 978: 'seashore', 979: 'valley', 980: 'volcano', 981: 'ballplayer', 982: 'groom', 983: 'scuba_diver', 984: 'rapeseed', 985: 'daisy', 986: \"yellow_lady's_slipper\", 987: 'corn', 988: 'acorn', 989: 'hip', 990: 'buckeye', 991: 'coral_fungus', 992: 'agaric', 993: 'gyromitra', 994: 'stinkhorn', 995: 'earthstar', 996: 'hen-of-the-woods', 997: 'bolete', 998: 'ear', 999: 'toilet_tissue'}\n",
       "obb: None\n",
       "orig_img: array([[[119, 146, 172],\n",
       "        [121, 148, 174],\n",
       "        [124, 151, 177],\n",
       "        ...,\n",
       "        [161, 171, 188],\n",
       "        [160, 170, 187],\n",
       "        [160, 170, 187]],\n",
       "\n",
       "       [[120, 147, 173],\n",
       "        [122, 149, 175],\n",
       "        [125, 152, 178],\n",
       "        ...,\n",
       "        [161, 171, 188],\n",
       "        [160, 170, 187],\n",
       "        [160, 170, 187]],\n",
       "\n",
       "       [[123, 150, 176],\n",
       "        [124, 151, 177],\n",
       "        [127, 154, 180],\n",
       "        ...,\n",
       "        [161, 171, 188],\n",
       "        [160, 170, 187],\n",
       "        [160, 170, 187]],\n",
       "\n",
       "       ...,\n",
       "\n",
       "       [[183, 182, 186],\n",
       "        [179, 178, 182],\n",
       "        [180, 179, 183],\n",
       "        ...,\n",
       "        [121, 111, 117],\n",
       "        [113, 103, 109],\n",
       "        [115, 105, 111]],\n",
       "\n",
       "       [[165, 164, 168],\n",
       "        [173, 172, 176],\n",
       "        [187, 186, 190],\n",
       "        ...,\n",
       "        [102,  92,  98],\n",
       "        [101,  91,  97],\n",
       "        [103,  93,  99]],\n",
       "\n",
       "       [[123, 122, 126],\n",
       "        [145, 144, 148],\n",
       "        [176, 175, 179],\n",
       "        ...,\n",
       "        [ 95,  85,  91],\n",
       "        [ 96,  86,  92],\n",
       "        [ 98,  88,  94]]], dtype=uint8)\n",
       "orig_shape: (1080, 810)\n",
       "path: 'D:\\\\workspaces\\\\Machine_Learning_Lesson\\\\day11\\\\codes\\\\bus.jpg'\n",
       "probs: ultralytics.engine.results.Probs object\n",
       "save_dir: 'D:\\\\workspaces\\\\ultralyticsruns\\\\classify\\\\predict'\n",
       "speed: {'preprocess': 10.83827018737793, 'inference': 13.002991676330566, 'postprocess': 0.0}"
      ]
     },
     "execution_count": 4,
     "metadata": {},
     "output_type": "execute_result"
    }
   ],
   "source": [
    "results[0]"
   ]
  },
  {
   "cell_type": "code",
   "execution_count": 5,
   "id": "d0695ddd-0436-4ccd-8aa6-a3b305a6c5bf",
   "metadata": {},
   "outputs": [
    {
     "data": {
      "text/plain": [
       "ultralytics.engine.results.Probs object with attributes:\n",
       "\n",
       "data: tensor([5.0650e-09, 1.4827e-07, 6.3138e-06, 7.1384e-07, 9.9192e-07, 1.6832e-08, 2.6838e-08, 2.6656e-07, 1.2955e-08, 1.8851e-07, 6.9011e-11, 4.6414e-09, 1.2752e-08, 2.2368e-10, 2.8631e-07, 4.8115e-10, 5.1972e-09, 1.2922e-06, 2.1246e-07, 1.1148e-09, 2.3609e-11, 6.7716e-09, 5.4397e-08, 9.0988e-08, 6.0475e-09, 2.4094e-08,\n",
       "        5.2158e-08, 2.7170e-09, 1.9736e-08, 8.9999e-08, 5.2020e-08, 4.6168e-09, 1.4293e-07, 1.4850e-07, 4.2309e-07, 2.1562e-08, 1.3486e-07, 2.5606e-08, 2.5992e-09, 2.0458e-07, 7.4549e-09, 7.8704e-08, 4.5517e-08, 3.8560e-09, 3.5160e-09, 1.9063e-07, 4.0183e-09, 4.8770e-09, 3.7601e-07, 5.2571e-08, 1.4699e-06, 2.8523e-06,\n",
       "        5.7892e-08, 1.1646e-08, 2.6564e-08, 1.3625e-08, 1.2422e-08, 8.9548e-10, 4.0281e-09, 2.0522e-08, 1.2921e-06, 2.6954e-06, 2.3953e-07, 3.1973e-08, 2.5860e-08, 9.4844e-07, 3.3788e-09, 8.6656e-07, 2.8635e-09, 1.7336e-09, 5.3672e-10, 3.8415e-07, 7.8647e-09, 1.8458e-08, 3.0879e-08, 6.3753e-09, 2.1097e-07, 7.5217e-09,\n",
       "        5.5626e-08, 8.1807e-09, 2.7450e-07, 1.5121e-08, 1.9951e-08, 1.2791e-08, 1.1124e-06, 2.2695e-09, 7.5157e-10, 9.8457e-08, 1.8205e-07, 7.0138e-08, 3.1824e-08, 9.4879e-09, 1.8712e-09, 1.6072e-07, 4.5875e-08, 2.5879e-09, 2.5258e-07, 2.2660e-08, 2.7797e-08, 2.6061e-08, 5.2379e-08, 6.5534e-07, 1.4121e-08, 1.5312e-08,\n",
       "        1.2271e-08, 5.7975e-07, 1.1906e-07, 7.8697e-08, 1.4943e-09, 3.6856e-08, 9.6249e-10, 1.4903e-09, 9.8439e-08, 2.9329e-09, 1.9359e-09, 2.1998e-09, 1.9756e-08, 4.4580e-09, 1.4547e-07, 1.4365e-08, 8.5027e-08, 1.7679e-07, 1.2102e-08, 8.2982e-08, 4.5895e-07, 3.1849e-08, 7.9529e-08, 9.8103e-09, 3.3911e-09, 8.3762e-09,\n",
       "        7.7318e-10, 1.8736e-08, 8.0361e-08, 3.8188e-10, 5.8178e-07, 1.5462e-08, 9.6970e-08, 3.6040e-09, 4.0693e-10, 4.1170e-09, 8.3374e-10, 1.5109e-10, 7.5181e-11, 1.4892e-08, 1.3709e-07, 1.1246e-07, 1.3912e-08, 1.4961e-07, 9.0213e-06, 8.8086e-08, 1.9018e-06, 3.1549e-07, 7.9682e-08, 5.2482e-08, 4.8939e-07, 1.6421e-07,\n",
       "        5.9648e-07, 4.3042e-07, 1.0637e-07, 1.5679e-07, 4.3853e-06, 2.9746e-07, 2.0929e-07, 2.8316e-07, 2.8275e-06, 6.8583e-07, 6.6448e-08, 1.4668e-08, 6.8567e-07, 2.0888e-06, 5.6579e-05, 2.5962e-07, 2.3409e-07, 5.1432e-07, 8.9475e-07, 1.1752e-07, 7.0447e-06, 7.2270e-05, 1.1297e-06, 1.7092e-07, 1.8267e-07, 3.9265e-07,\n",
       "        1.3707e-07, 6.9219e-07, 3.9014e-07, 5.3995e-07, 8.4645e-07, 3.2174e-07, 1.2828e-07, 2.0748e-07, 7.6838e-09, 3.8732e-08, 2.8983e-07, 5.5935e-07, 1.0478e-08, 1.8597e-06, 6.4565e-08, 2.2855e-06, 2.3419e-07, 8.7532e-07, 4.8911e-07, 1.9246e-07, 2.4360e-07, 6.3740e-07, 9.8174e-08, 7.2916e-05, 2.8725e-05, 6.4375e-06,\n",
       "        5.1144e-06, 2.3103e-06, 1.3205e-05, 3.1733e-06, 7.1291e-06, 1.5203e-06, 8.6306e-06, 8.0318e-06, 3.0699e-05, 3.5041e-05, 1.6269e-06, 1.7323e-06, 1.3391e-06, 1.0309e-05, 2.1300e-06, 2.1148e-05, 4.9652e-05, 1.4649e-06, 1.3440e-05, 3.1076e-07, 4.1337e-06, 4.1892e-06, 2.4718e-07, 1.2092e-05, 8.6455e-06, 3.4859e-06,\n",
       "        5.9677e-07, 1.1338e-06, 2.1253e-07, 1.7640e-07, 1.9264e-06, 5.7123e-06, 4.8177e-07, 2.1087e-07, 7.8576e-08, 5.5108e-07, 6.6906e-05, 5.1369e-07, 1.0635e-05, 3.4959e-06, 5.0321e-07, 4.5958e-07, 1.5119e-07, 1.2743e-05, 2.7009e-07, 5.9637e-08, 5.0050e-06, 8.0146e-06, 1.3868e-04, 3.6537e-06, 5.5399e-06, 1.9043e-07,\n",
       "        9.3255e-07, 1.6257e-07, 5.8863e-08, 1.4886e-08, 1.3584e-07, 1.7419e-05, 2.1777e-05, 1.6204e-05, 8.1097e-07, 3.3823e-07, 5.5809e-07, 2.2765e-07, 9.9996e-08, 1.1947e-06, 5.9056e-10, 2.2678e-08, 2.2437e-07, 6.9866e-09, 8.5267e-10, 3.9020e-08, 8.3850e-09, 2.0158e-06, 1.0710e-07, 5.0472e-08, 1.6906e-07, 3.9402e-07,\n",
       "        6.4953e-08, 3.8012e-08, 5.0999e-08, 5.9579e-08, 5.6357e-08, 2.3581e-07, 8.8326e-08, 3.3157e-08, 3.5173e-08, 4.1606e-07, 3.2481e-08, 1.0315e-07, 2.3994e-09, 1.3922e-09, 2.1210e-09, 1.2888e-08, 1.3441e-09, 5.3491e-09, 8.7214e-09, 9.5820e-08, 1.3721e-08, 2.7185e-09, 4.1283e-08, 4.0954e-08, 1.5798e-09, 7.8367e-09,\n",
       "        1.1951e-08, 4.6237e-08, 1.7066e-08, 8.6339e-09, 3.8646e-08, 9.9223e-09, 3.8088e-09, 1.1935e-07, 1.4004e-08, 1.4391e-08, 4.3426e-10, 1.2756e-09, 2.7472e-09, 2.4195e-10, 3.5160e-10, 3.6809e-08, 1.0390e-08, 1.8482e-07, 1.4903e-09, 1.4878e-08, 2.9444e-08, 2.0314e-09, 5.7466e-07, 1.2657e-09, 6.4565e-09, 4.1215e-08,\n",
       "        7.5554e-09, 9.5543e-07, 2.0617e-06, 1.7911e-06, 7.0109e-07, 2.2560e-06, 1.1756e-07, 5.0013e-07, 1.0226e-06, 7.7715e-07, 3.5293e-07, 1.0837e-07, 4.4560e-08, 1.9285e-10, 1.2418e-10, 6.0405e-10, 1.2793e-06, 3.9242e-06, 3.3075e-08, 1.7093e-08, 3.9073e-07, 4.0176e-08, 2.6217e-08, 2.0365e-06, 4.1566e-08, 5.9920e-07,\n",
       "        3.4003e-08, 3.2588e-08, 8.0833e-08, 7.2921e-06, 9.8267e-08, 9.5331e-07, 1.7568e-08, 1.6270e-08, 1.1755e-06, 4.4229e-07, 1.2873e-08, 1.7704e-07, 8.8944e-09, 2.4461e-07, 8.3734e-08, 3.7734e-08, 1.3138e-07, 8.1130e-08, 3.6070e-09, 1.3117e-08, 3.2509e-09, 2.4690e-06, 3.1368e-06, 1.3930e-08, 2.7993e-08, 1.3155e-07,\n",
       "        2.5981e-07, 2.1781e-06, 8.6085e-09, 2.0293e-09, 5.6576e-07, 4.0956e-07, 1.1594e-08, 3.8053e-08, 9.0904e-08, 4.6611e-07, 7.9200e-07, 1.8362e-06, 1.3984e-06, 1.7478e-05, 5.9535e-06, 6.7516e-07, 1.0495e-07, 4.2731e-03, 5.7884e-03, 1.6035e-06, 5.3058e-08, 3.5017e-07, 3.0099e-05, 5.8725e-06, 6.5095e-06, 1.9626e-06,\n",
       "        2.4988e-06, 3.3367e-06, 5.2248e-07, 1.9447e-07, 1.2436e-06, 4.5547e-07, 9.6071e-07, 8.7493e-07, 1.3474e-05, 1.6872e-08, 7.8613e-08, 1.6250e-06, 3.3752e-06, 1.8510e-06, 1.5408e-06, 1.2390e-07, 7.3076e-07, 8.8383e-07, 5.6502e-08, 1.3689e-07, 5.4835e-05, 6.7199e-09, 1.8508e-07, 6.2900e-06, 9.8868e-07, 5.8162e-07,\n",
       "        1.3516e-07, 1.5855e-08, 6.2569e-07, 7.9068e-07, 1.0649e-07, 7.1733e-06, 4.6061e-09, 2.6248e-06, 3.2652e-05, 1.7644e-06, 3.2847e-07, 1.8361e-07, 1.1378e-05, 3.3723e-06, 8.3756e-07, 2.7724e-06, 7.6150e-08, 3.2289e-07, 2.1491e-07, 1.1540e-06, 1.9491e-05, 5.3045e-07, 1.0861e-08, 4.6728e-06, 2.8051e-03, 3.8531e-07,\n",
       "        3.2293e-05, 1.8576e-06, 5.3994e-08, 1.2033e-06, 4.2033e-06, 1.2392e-08, 1.1586e-07, 1.7830e-06, 1.7992e-06, 6.3097e-07, 3.6907e-06, 2.2142e-05, 4.6873e-04, 4.7398e-08, 3.2180e-06, 2.0781e-08, 2.4282e-05, 1.1317e-07, 2.0601e-07, 3.4478e-06, 2.6846e-07, 1.3862e-07, 2.3325e-07, 3.3726e-06, 4.0092e-07, 1.4338e-08,\n",
       "        8.8275e-08, 1.6623e-07, 8.2362e-08, 7.2263e-09, 5.9348e-07, 3.9079e-08, 2.3944e-08, 9.2726e-07, 1.5497e-06, 7.2164e-07, 1.3076e-06, 5.6515e-08, 2.6139e-08, 4.2456e-08, 1.1070e-07, 1.3700e-06, 6.5236e-07, 3.8419e-07, 7.2081e-08, 7.3482e-07, 3.9143e-06, 5.1546e-05, 3.6517e-08, 4.1798e-06, 5.7902e-05, 7.4963e-07,\n",
       "        1.3732e-07, 5.5774e-08, 1.0205e-06, 1.0646e-04, 2.9487e-08, 2.3846e-08, 4.5770e-07, 4.7805e-07, 1.3897e-06, 6.3224e-07, 1.9843e-06, 3.1228e-06, 1.0117e-07, 6.1676e-09, 4.2525e-07, 3.8162e-08, 2.9203e-05, 2.8255e-07, 2.6063e-07, 1.2701e-06, 7.5703e-07, 6.1403e-06, 6.9984e-07, 1.4987e-06, 2.7837e-08, 3.2101e-07,\n",
       "        1.6742e-06, 1.9253e-05, 1.6980e-06, 7.8240e-09, 1.3799e-07, 1.7919e-08, 1.6748e-05, 8.4743e-07, 1.8323e-07, 9.1494e-05, 1.4180e-08, 1.2625e-06, 1.7714e-06, 1.1188e-07, 4.8580e-06, 7.3502e-05, 3.0266e-07, 1.2855e-07, 2.4697e-07, 4.9587e-08, 2.0491e-07, 6.1072e-08, 1.6918e-05, 2.7912e-04, 2.8134e-06, 9.2256e-05,\n",
       "        8.7372e-07, 2.0146e-07, 3.6339e-07, 2.0854e-03, 1.8216e-07, 7.7860e-08, 1.0267e-07, 2.2892e-06, 4.3271e-07, 2.9724e-06, 2.5101e-06, 6.3806e-07, 1.7267e-08, 1.2456e-06, 3.0857e-05, 1.0912e-06, 4.4223e-08, 2.8651e-06, 1.0671e-07, 1.1320e-06, 1.7644e-08, 4.7988e-07, 1.4953e-07, 1.2133e-06, 2.5957e-07, 3.5933e-08,\n",
       "        1.9503e-06, 1.2322e-07, 1.2178e-07, 2.0040e-07, 3.9771e-06, 2.2603e-05, 1.9033e-07, 3.4048e-06, 4.4510e-07, 1.7529e-08, 1.3190e-05, 9.5426e-04, 7.6472e-07, 5.8527e-07, 2.5856e-04, 1.4829e-07, 1.6274e-07, 1.4416e-05, 6.4953e-07, 4.1986e-06, 4.0249e-07, 1.0614e-08, 1.6061e-06, 2.7456e-06, 1.5523e-07, 1.3229e-08,\n",
       "        4.0671e-07, 2.2499e-06, 1.4022e-08, 3.0853e-04, 4.0897e-06, 5.3387e-08, 9.2131e-07, 2.3401e-07, 2.9213e-06, 1.8382e-08, 1.0191e-06, 2.5323e-08, 3.5160e-06, 7.0541e-06, 4.5787e-06, 1.1606e-07, 1.7160e-08, 2.1137e-06, 1.6359e-07, 1.9593e-06, 4.5831e-09, 1.7748e-07, 4.9040e-07, 4.4504e-08, 6.7888e-08, 2.4273e-08,\n",
       "        9.9102e-07, 5.9386e-07, 1.4721e-04, 1.0146e-07, 5.7861e-01, 2.6742e-04, 2.8857e-03, 1.0338e-05, 6.2222e-08, 7.9617e-09, 1.6260e-04, 2.9600e-04, 1.8703e-07, 7.6742e-08, 1.8811e-06, 1.3156e-05, 1.4198e-07, 5.4016e-06, 1.1958e-06, 2.9303e-07, 1.9896e-05, 6.4707e-07, 3.9731e-07, 1.1190e-07, 1.9072e-08, 4.1677e-04,\n",
       "        2.0263e-06, 1.7579e-08, 1.7720e-05, 7.1838e-09, 2.0410e-07, 9.7640e-07, 6.7374e-08, 3.2574e-07, 4.7959e-06, 9.0544e-08, 1.5870e-08, 1.6162e-08, 1.8454e-07, 1.0819e-07, 5.3638e-06, 5.9079e-05, 2.6946e-08, 6.4103e-07, 1.6672e-08, 1.6955e-08, 9.5473e-07, 1.8395e-07, 5.7674e-07, 2.9075e-07, 8.2119e-07, 1.8973e-06,\n",
       "        4.7871e-06, 3.3487e-07, 1.3057e-04, 2.5725e-03, 1.4529e-06, 3.6951e-05, 1.5776e-07, 1.0283e-07, 6.6964e-08, 1.1932e-07, 1.8396e-08, 1.5052e-06, 5.2872e-08, 2.0683e-07, 4.1567e-07, 1.4536e-05, 2.4122e-07, 1.1044e-06, 1.1822e-08, 1.1493e-06, 5.2563e-06, 5.5735e-09, 2.1342e-07, 2.5915e-07, 1.4137e-09, 6.1237e-06,\n",
       "        7.8192e-07, 3.1590e-10, 7.9550e-07, 1.1457e-05, 1.3397e-06, 1.7793e-05, 3.3027e-01, 1.3164e-05, 9.0015e-06, 3.3340e-06, 3.6401e-08, 1.7085e-07, 1.8194e-06, 2.2698e-08, 3.3038e-06, 7.6425e-07, 4.0534e-05, 1.0041e-07, 2.6715e-06, 4.6536e-06, 5.9016e-08, 4.7015e-08, 5.8494e-07, 2.0345e-05, 2.1430e-05, 1.3572e-07,\n",
       "        5.5167e-07, 1.4052e-07, 5.6986e-06, 1.4364e-02, 7.3561e-07, 2.4968e-07, 1.6549e-06, 2.0993e-07, 2.0558e-06, 6.0466e-07, 6.5851e-07, 9.0833e-08, 7.6646e-07, 2.8545e-07, 1.5134e-05, 4.3310e-08, 2.3686e-06, 6.4475e-07, 1.5146e-07, 5.5530e-08, 1.6865e-07, 5.6191e-06, 5.3528e-06, 9.9602e-08, 3.1659e-06, 6.6891e-04,\n",
       "        1.5926e-08, 2.9571e-07, 8.5621e-07, 1.1690e-07, 4.6498e-07, 1.9335e-06, 9.4645e-07, 4.6147e-06, 4.7857e-06, 1.8128e-08, 3.3513e-06, 3.8159e-05, 3.4516e-05, 6.1772e-07, 1.4119e-07, 9.1129e-06, 2.4578e-06, 1.2875e-06, 6.6609e-09, 3.6362e-05, 1.2120e-07, 1.7165e-05, 4.7324e-06, 1.5313e-06, 3.0690e-08, 1.8514e-05,\n",
       "        3.5772e-07, 1.3589e-06, 4.0026e-06, 1.0996e-08, 2.8330e-08, 7.4582e-08, 4.0201e-05, 6.9574e-08, 2.9097e-06, 9.2167e-09, 1.2965e-07, 8.5418e-07, 1.1548e-06, 5.9354e-05, 5.7928e-06, 2.6813e-07, 5.1353e-06, 4.0864e-07, 4.9971e-06, 3.1141e-09, 6.7999e-07, 4.5215e-08, 5.1732e-08, 5.9780e-03, 4.4395e-04, 1.1648e-07,\n",
       "        4.0621e-08, 1.2410e-06, 3.8867e-06, 1.8104e-08, 4.6184e-06, 1.8646e-05, 2.5741e-06, 2.1205e-07, 5.3597e-06, 1.6547e-06, 1.6789e-06, 8.2227e-06, 7.9344e-09, 1.7191e-07, 2.9392e-08, 1.0019e-05, 5.8708e-07, 9.3101e-08, 5.3633e-07, 6.3159e-06, 6.2818e-06, 2.2236e-07, 6.1891e-08, 5.8591e-09, 1.3989e-06, 1.1022e-07,\n",
       "        7.5563e-09, 8.1306e-07, 4.6283e-06, 3.6087e-07, 9.5134e-06, 6.8786e-07, 5.2300e-05, 1.0806e-05, 1.3624e-05, 5.0502e-05, 7.4543e-07, 1.4147e-05, 8.1390e-06, 1.6725e-06, 4.2571e-06, 5.0555e-07, 4.2041e-02, 1.4503e-06, 3.0410e-07, 1.0185e-05, 2.2099e-08, 1.8327e-05, 8.4068e-06, 1.2759e-06, 1.8910e-05, 6.8560e-07,\n",
       "        4.3423e-08, 7.8008e-08, 1.7263e-05, 8.0555e-08, 5.1814e-07, 2.4388e-06, 7.6086e-06, 2.5172e-09, 2.8947e-07, 1.3094e-07, 8.1724e-07, 1.6138e-05, 1.7526e-07, 1.5262e-06, 1.2633e-05, 5.6817e-06, 1.7036e-07, 9.5705e-09, 8.6003e-06, 3.0285e-06, 2.7306e-07, 2.1275e-08, 2.5772e-07, 1.0696e-07, 1.8094e-05, 2.0080e-08,\n",
       "        1.6408e-07, 8.9725e-08, 4.4281e-08, 6.4204e-08, 2.9852e-08, 2.4304e-05, 5.0291e-06, 1.8397e-06, 2.9175e-07, 1.9690e-06, 4.8419e-06, 8.9541e-08, 1.0030e-08, 3.9746e-09, 2.4303e-08, 1.1127e-08, 1.2103e-09, 5.5134e-09, 2.9026e-08, 1.1481e-05, 1.1291e-08, 1.3531e-07, 5.7409e-06, 5.7582e-09, 5.1073e-07, 3.5719e-09,\n",
       "        2.2472e-08, 1.0528e-08, 4.8734e-07, 4.9400e-08, 4.1860e-10, 1.0171e-09, 1.5099e-08, 1.3795e-08, 1.2701e-08, 4.5987e-09, 6.0596e-09, 2.8084e-08, 9.7202e-08, 3.9631e-08, 9.4326e-08, 4.8442e-09, 2.2022e-08, 5.7537e-08, 1.6009e-07, 8.8205e-08, 2.2853e-08, 1.2242e-08, 1.1655e-07, 2.4062e-09, 8.1594e-08, 1.9173e-08,\n",
       "        1.6374e-08, 4.2660e-09, 9.3844e-09, 4.6341e-08, 6.1076e-08, 8.1373e-08, 4.1081e-08, 2.4036e-08, 3.4346e-06, 1.7810e-04, 2.4774e-07, 1.6234e-07, 1.8036e-07, 4.7850e-06, 1.1409e-07, 4.3997e-06, 2.7567e-07, 2.1526e-07, 9.6030e-07, 3.6227e-05, 2.2043e-05, 2.2718e-06, 6.5881e-09, 2.0713e-09, 3.6880e-10, 1.6951e-07,\n",
       "        2.3616e-08, 7.7295e-09, 5.2226e-09, 6.0808e-10, 5.9695e-09, 6.0156e-10, 6.3427e-10, 2.6371e-09, 3.4817e-09, 9.1543e-10, 9.9371e-08, 2.0838e-06], device='cuda:0')\n",
       "orig_shape: None\n",
       "shape: torch.Size([1000])\n",
       "top1: 654\n",
       "top1conf: tensor(0.5786, device='cuda:0')\n",
       "top5: [654, 734, 874, 757, 829]\n",
       "top5conf: tensor([0.5786, 0.3303, 0.0420, 0.0144, 0.0060], device='cuda:0')"
      ]
     },
     "execution_count": 5,
     "metadata": {},
     "output_type": "execute_result"
    }
   ],
   "source": [
    "results[0].probs"
   ]
  },
  {
   "cell_type": "code",
   "execution_count": null,
   "id": "4dabc9ff-84ff-45f9-a8f4-2c92e54af01b",
   "metadata": {},
   "outputs": [],
   "source": []
  }
 ],
 "metadata": {
  "kernelspec": {
   "display_name": "Python 3 (ipykernel)",
   "language": "python",
   "name": "python3"
  },
  "language_info": {
   "codemirror_mode": {
    "name": "ipython",
    "version": 3
   },
   "file_extension": ".py",
   "mimetype": "text/x-python",
   "name": "python",
   "nbconvert_exporter": "python",
   "pygments_lexer": "ipython3",
   "version": "3.9.19"
  }
 },
 "nbformat": 4,
 "nbformat_minor": 5
}
