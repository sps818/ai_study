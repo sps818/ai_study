{
 "cells": [
  {
   "cell_type": "markdown",
   "id": "ba195ba6-e899-43fa-9a9d-73e5ba885690",
   "metadata": {},
   "source": [
    "### VOC格式\n",
    "- .xml\n",
    "- 原始坐标\n",
    "- 左上角 + 右下角"
   ]
  },
  {
   "cell_type": "code",
   "execution_count": 1,
   "id": "986fe56f-2c91-40be-b4bd-6c192d481539",
   "metadata": {},
   "outputs": [],
   "source": [
    "from xml.etree import ElementTree"
   ]
  },
  {
   "cell_type": "code",
   "execution_count": 3,
   "id": "8f41b978-f817-4093-a762-ec2530ae207a",
   "metadata": {},
   "outputs": [],
   "source": [
    "tree = ElementTree.parse(source=\"0000001.xml\")"
   ]
  },
  {
   "cell_type": "code",
   "execution_count": 4,
   "id": "de30f86f-5e59-44bf-96af-5ec44a7d09b5",
   "metadata": {},
   "outputs": [],
   "source": [
    "root = tree.getroot()"
   ]
  },
  {
   "cell_type": "code",
   "execution_count": 8,
   "id": "a93ce433-765b-4c61-a29c-304ad3191413",
   "metadata": {},
   "outputs": [],
   "source": [
    "img_path = root.find(path=\"path\").text"
   ]
  },
  {
   "cell_type": "code",
   "execution_count": 9,
   "id": "be94bdcc-f7b7-45d4-8f94-76859410b719",
   "metadata": {},
   "outputs": [
    {
     "data": {
      "text/plain": [
       "'C:\\\\Users\\\\pkulx\\\\Desktop\\\\day14\\\\label_demo\\\\images\\\\0000001.jpg'"
      ]
     },
     "execution_count": 9,
     "metadata": {},
     "output_type": "execute_result"
    }
   ],
   "source": [
    "img_path"
   ]
  },
  {
   "cell_type": "code",
   "execution_count": 17,
   "id": "072db004-3c5b-4494-8c5f-2aeb4f7fea7e",
   "metadata": {},
   "outputs": [],
   "source": [
    "img_width = int(root.find(path=\"size\").find(path=\"width\").text)\n",
    "img_height = int(root.find(path=\"size\").find(path=\"height\").text)"
   ]
  },
  {
   "cell_type": "code",
   "execution_count": 18,
   "id": "c6c867b1-727d-46d7-9b61-410ed18da7b5",
   "metadata": {},
   "outputs": [
    {
     "data": {
      "text/plain": [
       "(1500, 1500)"
      ]
     },
     "execution_count": 18,
     "metadata": {},
     "output_type": "execute_result"
    }
   ],
   "source": [
    "img_height, img_width"
   ]
  },
  {
   "cell_type": "code",
   "execution_count": 27,
   "id": "9a8ef692-d3d7-4236-8585-92d791aa4ffe",
   "metadata": {},
   "outputs": [
    {
     "name": "stdout",
     "output_type": "stream",
     "text": [
      "A330\n",
      "639 112 825 304\n",
      "--------------------------------------------------------------------------------\n",
      "ARJ21\n",
      "241 786 422 967\n",
      "--------------------------------------------------------------------------------\n",
      "Boeing787\n",
      "933 750 1122 973\n",
      "--------------------------------------------------------------------------------\n",
      "other\n",
      "158 90 329 275\n",
      "--------------------------------------------------------------------------------\n"
     ]
    }
   ],
   "source": [
    "for obj in root.findall(path=\"object\"):\n",
    "    print(obj.find(\"name\").text)\n",
    "    xmin = int(obj.find(\"bndbox\").find(\"xmin\").text)\n",
    "    ymin = int(obj.find(\"bndbox\").find(\"ymin\").text)\n",
    "    xmax = int(obj.find(\"bndbox\").find(\"xmax\").text)\n",
    "    ymax = int(obj.find(\"bndbox\").find(\"ymax\").text)\n",
    "    print(xmin, ymin, xmax, ymax)\n",
    "    print(\"-\" * 80)"
   ]
  },
  {
   "cell_type": "code",
   "execution_count": 30,
   "id": "9e343688-5356-47f7-a162-2bead8a5ba6c",
   "metadata": {},
   "outputs": [],
   "source": [
    "label2idx = {\"A330\": 0, \n",
    "             \"A320/321\": 1, \n",
    "             \"A220\": 2, \n",
    "             \"ARJ21\":3, \n",
    "             \"Boeing737\": 4, \n",
    "             \"Boeing787\":5, \n",
    "             \"other\":6}"
   ]
  },
  {
   "cell_type": "code",
   "execution_count": 31,
   "id": "63e06050-5795-4a1b-9c6b-149b3ddf7bd9",
   "metadata": {},
   "outputs": [],
   "source": [
    "idx2label = {idx: label for label, idx in label2idx.items()}"
   ]
  },
  {
   "cell_type": "code",
   "execution_count": 32,
   "id": "b9209452-bf1c-4f24-ac33-10fb990f4e5f",
   "metadata": {},
   "outputs": [
    {
     "data": {
      "text/plain": [
       "{0: 'A330',\n",
       " 1: 'A320/321',\n",
       " 2: 'A220',\n",
       " 3: 'ARJ21',\n",
       " 4: 'Boeing737',\n",
       " 5: 'Boeing787',\n",
       " 6: 'other'}"
      ]
     },
     "execution_count": 32,
     "metadata": {},
     "output_type": "execute_result"
    }
   ],
   "source": [
    "idx2label"
   ]
  },
  {
   "cell_type": "code",
   "execution_count": 41,
   "id": "a70cee0d-372e-4530-a8db-68b73f70dc46",
   "metadata": {},
   "outputs": [],
   "source": [
    "def transfer_yolo(file_name=\"./0000001.xml\"):\n",
    "    \"\"\"\n",
    "     把VOC格式转为yolo格式\n",
    "    \"\"\"\n",
    "    tree = ElementTree.parse(source=file_name)\n",
    "    root = tree.getroot()\n",
    "    # 图像宽度和高度\n",
    "    img_width = int(root.find(path=\"size\").find(path=\"width\").text)\n",
    "    img_height = int(root.find(path=\"size\").find(path=\"height\").text)\n",
    "    with open(file=file_name.replace(\".xml\", \".txt\"), mode=\"w\", encoding=\"utf8\") as f:\n",
    "        # 遍历每个目标\n",
    "        for obj in root.findall(path=\"object\"):\n",
    "            name = obj.find(\"name\").text\n",
    "            cls_id = label2idx.get(name)\n",
    "            xmin = int(obj.find(\"bndbox\").find(\"xmin\").text)\n",
    "            ymin = int(obj.find(\"bndbox\").find(\"ymin\").text)\n",
    "            xmax = int(obj.find(\"bndbox\").find(\"xmax\").text)\n",
    "            ymax = int(obj.find(\"bndbox\").find(\"ymax\").text)\n",
    "            # 中心点x\n",
    "            x_center = round(number=(xmin + xmax) / 2 / img_width, ndigits=6)\n",
    "            y_center = round(number=(ymin + ymax) / 2 / img_height, ndigits=6)\n",
    "            box_width = round(number=(xmax - xmin) / img_width, ndigits=6)\n",
    "            box_height = round(number=(ymax - ymin) / img_height, ndigits=6)\n",
    "            print(cls_id, x_center, y_center, box_width, box_height, sep=\" \", end=\"\\n\", file=f)"
   ]
  },
  {
   "cell_type": "code",
   "execution_count": 42,
   "id": "e9e2571d-0d4e-4e41-9d37-53c695cb60f4",
   "metadata": {},
   "outputs": [],
   "source": [
    "transfer_yolo()"
   ]
  },
  {
   "cell_type": "markdown",
   "id": "3c19baa1-f76a-4091-a866-6f67595855d8",
   "metadata": {},
   "source": [
    "### 2. COCO"
   ]
  },
  {
   "cell_type": "code",
   "execution_count": 43,
   "id": "ed7c1cb0-c185-42d5-9114-ff91efb71e70",
   "metadata": {},
   "outputs": [],
   "source": [
    "import json"
   ]
  },
  {
   "cell_type": "code",
   "execution_count": 46,
   "id": "3fdfcf0a-e533-49d5-9c01-670b495a32f7",
   "metadata": {},
   "outputs": [],
   "source": [
    "with open(file=\"./0000001.json\", mode=\"r\", encoding=\"utf8\") as f:\n",
    "    data = json.loads(s=f.read())"
   ]
  },
  {
   "cell_type": "code",
   "execution_count": 50,
   "id": "5ba815fc-b7bd-42a4-85cc-71021786aadc",
   "metadata": {},
   "outputs": [],
   "source": [
    "objs = data[0]"
   ]
  },
  {
   "cell_type": "code",
   "execution_count": 54,
   "id": "b9c6365a-3381-4143-bfe9-895d276aeb0e",
   "metadata": {},
   "outputs": [
    {
     "data": {
      "text/plain": [
       "dict_keys(['image', 'annotations'])"
      ]
     },
     "execution_count": 54,
     "metadata": {},
     "output_type": "execute_result"
    }
   ],
   "source": [
    "objs.keys()"
   ]
  },
  {
   "cell_type": "code",
   "execution_count": 55,
   "id": "3232842b-d51e-45b6-ba2b-793115d6f788",
   "metadata": {},
   "outputs": [
    {
     "data": {
      "text/plain": [
       "'0000001.jpg'"
      ]
     },
     "execution_count": 55,
     "metadata": {},
     "output_type": "execute_result"
    }
   ],
   "source": [
    "objs[\"image\"]"
   ]
  },
  {
   "cell_type": "code",
   "execution_count": 60,
   "id": "a5734f45-d376-46ed-9bcf-f57169b7cf0b",
   "metadata": {},
   "outputs": [
    {
     "name": "stdout",
     "output_type": "stream",
     "text": [
      "A330\n",
      "{'x': 732.5, 'y': 208.0769230769231, 'width': 186.0, 'height': 192.0}\n",
      "ARJ21\n",
      "{'x': 332.0, 'y': 876.5769230769231, 'width': 181.0, 'height': 181.0}\n",
      "Boeing787\n",
      "{'x': 1028.0, 'y': 861.5769230769231, 'width': 189.0, 'height': 223.0}\n",
      "other\n",
      "{'x': 244.0, 'y': 182.5769230769231, 'width': 171.0, 'height': 185.0}\n"
     ]
    }
   ],
   "source": [
    "for obj in objs[\"annotations\"]:\n",
    "    label = obj[\"label\"]\n",
    "    coordinates = obj[\"coordinates\"]\n",
    "    print(label)\n",
    "    print(coordinates)"
   ]
  },
  {
   "cell_type": "code",
   "execution_count": null,
   "id": "8435bbe9-bc98-4b12-8c74-4d984426ed05",
   "metadata": {},
   "outputs": [],
   "source": []
  }
 ],
 "metadata": {
  "kernelspec": {
   "display_name": "Python 3 (ipykernel)",
   "language": "python",
   "name": "python3"
  },
  "language_info": {
   "codemirror_mode": {
    "name": "ipython",
    "version": 3
   },
   "file_extension": ".py",
   "mimetype": "text/x-python",
   "name": "python",
   "nbconvert_exporter": "python",
   "pygments_lexer": "ipython3",
   "version": "3.12.4"
  }
 },
 "nbformat": 4,
 "nbformat_minor": 5
}
