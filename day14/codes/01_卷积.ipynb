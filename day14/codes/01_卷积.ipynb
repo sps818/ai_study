{
 "cells": [
  {
   "cell_type": "code",
   "execution_count": 1,
   "id": "c8eb20b1-97a5-427e-81fa-0e08b00538f1",
   "metadata": {},
   "outputs": [],
   "source": [
    "import torch\n",
    "from torch import nn"
   ]
  },
  {
   "cell_type": "code",
   "execution_count": null,
   "id": "c62e2cc2-dfa0-44aa-ae1a-12d6505516e4",
   "metadata": {},
   "outputs": [],
   "source": [
    "nn.Conv2d(in_channels=3, out_channels=8, kernel_size=3, stride=1, padding=1, dilation=1, groups=1)"
   ]
  },
  {
   "cell_type": "code",
   "execution_count": null,
   "id": "9732e4c4-27f4-497e-b0eb-377dfd52f0bd",
   "metadata": {},
   "outputs": [],
   "source": []
  },
  {
   "cell_type": "code",
   "execution_count": null,
   "id": "6e03dc0f-7ad8-43a9-ad2f-396c70369765",
   "metadata": {},
   "outputs": [],
   "source": []
  }
 ],
 "metadata": {
  "kernelspec": {
   "display_name": "Python 3 (ipykernel)",
   "language": "python",
   "name": "python3"
  },
  "language_info": {
   "codemirror_mode": {
    "name": "ipython",
    "version": 3
   },
   "file_extension": ".py",
   "mimetype": "text/x-python",
   "name": "python",
   "nbconvert_exporter": "python",
   "pygments_lexer": "ipython3",
   "version": "3.12.4"
  }
 },
 "nbformat": 4,
 "nbformat_minor": 5
}
