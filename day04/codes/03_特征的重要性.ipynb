{
 "cells": [
  {
   "cell_type": "markdown",
   "id": "3b886869-50c8-424a-bfb2-d203656caa98",
   "metadata": {},
   "source": [
    "### 1. 使用决策树来判断特征的重要性"
   ]
  },
  {
   "cell_type": "code",
   "execution_count": 10,
   "id": "23bca921-8486-4074-b2c0-d6f49f63a46d",
   "metadata": {},
   "outputs": [],
   "source": [
    "import joblib"
   ]
  },
  {
   "cell_type": "code",
   "execution_count": 12,
   "id": "93457630-1fc4-4bce-8c69-f3540aa547f4",
   "metadata": {},
   "outputs": [],
   "source": [
    "_, data = joblib.load(filename=\"./all_data.lxh\")"
   ]
  },
  {
   "cell_type": "code",
   "execution_count": 14,
   "id": "2b2800ac-05fe-48a7-8255-24ad7c1eaba9",
   "metadata": {},
   "outputs": [
    {
     "data": {
      "text/plain": [
       "[array([[ 1.07985708, -1.05339234, -0.27066045, ..., -1.30988549,\n",
       "          1.19617181, -0.47557594],\n",
       "        [-1.79857225, -1.05339234, -1.81584743, ...,  0.13965207,\n",
       "         -0.97666724, -0.9884621 ],\n",
       "        [-1.42312495,  0.94931391,  1.27452653, ...,  0.65125357,\n",
       "         -0.04426121, -0.35553876],\n",
       "        ...,\n",
       "        [ 1.70560258, -1.05339234, -1.04325394, ...,  0.09701861,\n",
       "          0.83819449, -0.38100119],\n",
       "        [ 0.57926067, -1.05339234,  0.50193304, ...,  2.31395842,\n",
       "          0.26376578, -0.83205001],\n",
       "        [ 0.82955888,  0.94931391, -1.04325394, ..., -1.18198512,\n",
       "         -0.12751175,  1.96881763]]),\n",
       " array([0, 0, 0, ..., 0, 0, 0]),\n",
       " array([[-0.29678304, -1.05339234,  2.04712002, ..., -0.24404905,\n",
       "          0.7924067 , -0.62471305],\n",
       "        [-0.29678304,  0.94931391,  0.50193304, ..., -0.20141559,\n",
       "         -0.72691562, -0.9884621 ],\n",
       "        [-1.17282675,  0.94931391,  0.50193304, ...,  0.09701861,\n",
       "         -0.93087944,  1.77603064],\n",
       "        ...,\n",
       "        [ 0.70440977,  0.94931391, -0.27066045, ..., -1.0967182 ,\n",
       "         -0.06923637,  2.21616698],\n",
       "        [-0.54708124,  0.94931391,  0.50193304, ...,  0.3101859 ,\n",
       "          0.36366643,  1.96154265],\n",
       "        [-0.92252854, -1.05339234, -1.04325394, ...,  1.50392272,\n",
       "         -0.0733989 , -0.19912667]]),\n",
       " array([0, 1, 0, ..., 1, 0, 0])]"
      ]
     },
     "execution_count": 14,
     "metadata": {},
     "output_type": "execute_result"
    }
   ],
   "source": [
    "data"
   ]
  },
  {
   "cell_type": "code",
   "execution_count": 16,
   "id": "6867cab4-4507-44b8-9ad8-6e50173b1f6e",
   "metadata": {},
   "outputs": [],
   "source": [
    "X_train, y_train, X_test, y_test = data"
   ]
  },
  {
   "cell_type": "code",
   "execution_count": 18,
   "id": "a5a4bdd3-73c1-4e09-bb96-ad99c0d78922",
   "metadata": {},
   "outputs": [
    {
     "data": {
      "text/plain": [
       "(8101, 19)"
      ]
     },
     "execution_count": 18,
     "metadata": {},
     "output_type": "execute_result"
    }
   ],
   "source": [
    "X_train.shape"
   ]
  },
  {
   "cell_type": "code",
   "execution_count": 20,
   "id": "9a42a7a5-2fd4-4c90-a905-2d101fdcdcea",
   "metadata": {},
   "outputs": [
    {
     "data": {
      "text/plain": [
       "(8101,)"
      ]
     },
     "execution_count": 20,
     "metadata": {},
     "output_type": "execute_result"
    }
   ],
   "source": [
    "y_train.shape"
   ]
  },
  {
   "cell_type": "code",
   "execution_count": 22,
   "id": "1609a696-b893-4306-b74d-71b3e6a51d9e",
   "metadata": {},
   "outputs": [],
   "source": [
    "from sklearn.tree import DecisionTreeClassifier"
   ]
  },
  {
   "cell_type": "code",
   "execution_count": 23,
   "id": "9f8b27c9-2a0f-4a5c-b486-9f95d1c0c127",
   "metadata": {},
   "outputs": [],
   "source": [
    "dtc = DecisionTreeClassifier()"
   ]
  },
  {
   "cell_type": "code",
   "execution_count": 26,
   "id": "34fb2e8a-1f0b-4fbc-bb50-12b2ae00417f",
   "metadata": {},
   "outputs": [
    {
     "data": {
      "text/html": [
       "<style>#sk-container-id-1 {color: black;background-color: white;}#sk-container-id-1 pre{padding: 0;}#sk-container-id-1 div.sk-toggleable {background-color: white;}#sk-container-id-1 label.sk-toggleable__label {cursor: pointer;display: block;width: 100%;margin-bottom: 0;padding: 0.3em;box-sizing: border-box;text-align: center;}#sk-container-id-1 label.sk-toggleable__label-arrow:before {content: \"▸\";float: left;margin-right: 0.25em;color: #696969;}#sk-container-id-1 label.sk-toggleable__label-arrow:hover:before {color: black;}#sk-container-id-1 div.sk-estimator:hover label.sk-toggleable__label-arrow:before {color: black;}#sk-container-id-1 div.sk-toggleable__content {max-height: 0;max-width: 0;overflow: hidden;text-align: left;background-color: #f0f8ff;}#sk-container-id-1 div.sk-toggleable__content pre {margin: 0.2em;color: black;border-radius: 0.25em;background-color: #f0f8ff;}#sk-container-id-1 input.sk-toggleable__control:checked~div.sk-toggleable__content {max-height: 200px;max-width: 100%;overflow: auto;}#sk-container-id-1 input.sk-toggleable__control:checked~label.sk-toggleable__label-arrow:before {content: \"▾\";}#sk-container-id-1 div.sk-estimator input.sk-toggleable__control:checked~label.sk-toggleable__label {background-color: #d4ebff;}#sk-container-id-1 div.sk-label input.sk-toggleable__control:checked~label.sk-toggleable__label {background-color: #d4ebff;}#sk-container-id-1 input.sk-hidden--visually {border: 0;clip: rect(1px 1px 1px 1px);clip: rect(1px, 1px, 1px, 1px);height: 1px;margin: -1px;overflow: hidden;padding: 0;position: absolute;width: 1px;}#sk-container-id-1 div.sk-estimator {font-family: monospace;background-color: #f0f8ff;border: 1px dotted black;border-radius: 0.25em;box-sizing: border-box;margin-bottom: 0.5em;}#sk-container-id-1 div.sk-estimator:hover {background-color: #d4ebff;}#sk-container-id-1 div.sk-parallel-item::after {content: \"\";width: 100%;border-bottom: 1px solid gray;flex-grow: 1;}#sk-container-id-1 div.sk-label:hover label.sk-toggleable__label {background-color: #d4ebff;}#sk-container-id-1 div.sk-serial::before {content: \"\";position: absolute;border-left: 1px solid gray;box-sizing: border-box;top: 0;bottom: 0;left: 50%;z-index: 0;}#sk-container-id-1 div.sk-serial {display: flex;flex-direction: column;align-items: center;background-color: white;padding-right: 0.2em;padding-left: 0.2em;position: relative;}#sk-container-id-1 div.sk-item {position: relative;z-index: 1;}#sk-container-id-1 div.sk-parallel {display: flex;align-items: stretch;justify-content: center;background-color: white;position: relative;}#sk-container-id-1 div.sk-item::before, #sk-container-id-1 div.sk-parallel-item::before {content: \"\";position: absolute;border-left: 1px solid gray;box-sizing: border-box;top: 0;bottom: 0;left: 50%;z-index: -1;}#sk-container-id-1 div.sk-parallel-item {display: flex;flex-direction: column;z-index: 1;position: relative;background-color: white;}#sk-container-id-1 div.sk-parallel-item:first-child::after {align-self: flex-end;width: 50%;}#sk-container-id-1 div.sk-parallel-item:last-child::after {align-self: flex-start;width: 50%;}#sk-container-id-1 div.sk-parallel-item:only-child::after {width: 0;}#sk-container-id-1 div.sk-dashed-wrapped {border: 1px dashed gray;margin: 0 0.4em 0.5em 0.4em;box-sizing: border-box;padding-bottom: 0.4em;background-color: white;}#sk-container-id-1 div.sk-label label {font-family: monospace;font-weight: bold;display: inline-block;line-height: 1.2em;}#sk-container-id-1 div.sk-label-container {text-align: center;}#sk-container-id-1 div.sk-container {/* jupyter's `normalize.less` sets `[hidden] { display: none; }` but bootstrap.min.css set `[hidden] { display: none !important; }` so we also need the `!important` here to be able to override the default hidden behavior on the sphinx rendered scikit-learn.org. See: https://github.com/scikit-learn/scikit-learn/issues/21755 */display: inline-block !important;position: relative;}#sk-container-id-1 div.sk-text-repr-fallback {display: none;}</style><div id=\"sk-container-id-1\" class=\"sk-top-container\"><div class=\"sk-text-repr-fallback\"><pre>DecisionTreeClassifier()</pre><b>In a Jupyter environment, please rerun this cell to show the HTML representation or trust the notebook. <br />On GitHub, the HTML representation is unable to render, please try loading this page with nbviewer.org.</b></div><div class=\"sk-container\" hidden><div class=\"sk-item\"><div class=\"sk-estimator sk-toggleable\"><input class=\"sk-toggleable__control sk-hidden--visually\" id=\"sk-estimator-id-1\" type=\"checkbox\" checked><label for=\"sk-estimator-id-1\" class=\"sk-toggleable__label sk-toggleable__label-arrow\">DecisionTreeClassifier</label><div class=\"sk-toggleable__content\"><pre>DecisionTreeClassifier()</pre></div></div></div></div></div>"
      ],
      "text/plain": [
       "DecisionTreeClassifier()"
      ]
     },
     "execution_count": 26,
     "metadata": {},
     "output_type": "execute_result"
    }
   ],
   "source": [
    "dtc.fit(X=X_train, y=y_train)"
   ]
  },
  {
   "cell_type": "code",
   "execution_count": 28,
   "id": "173b3724-1fbc-486d-8d24-7031bfd5e3db",
   "metadata": {},
   "outputs": [],
   "source": [
    "# 有一个属性，就是表示 特征的重要性：feature_importances_，数字越大越重要\n",
    "dtc.feature_importances_.sort()"
   ]
  },
  {
   "cell_type": "code",
   "execution_count": 22,
   "id": "6820e59a-9763-420f-8164-a21ccbd0e0c8",
   "metadata": {},
   "outputs": [],
   "source": [
    "feature_importances = dtc.feature_importances_"
   ]
  },
  {
   "cell_type": "code",
   "execution_count": 24,
   "id": "76a5bbb2-0e08-4111-b331-36e22a28911f",
   "metadata": {},
   "outputs": [],
   "source": [
    "import numpy as np\n",
    "# 排序特征重要性（降序）\n",
    "sorted_indices = np.argsort(feature_importances)[::-1]  # 获取 降序的特征索引\n",
    "sorted_feature_importances = feature_importances[sorted_indices]"
   ]
  },
  {
   "cell_type": "code",
   "execution_count": 26,
   "id": "f9079c02-9e7d-4f1f-96e2-ca6936ca559e",
   "metadata": {},
   "outputs": [
    {
     "name": "stdout",
     "output_type": "stream",
     "text": [
      "Feature 1: Importance = 0.2924544778574079\n",
      "Feature 2: Importance = 0.1919007318450222\n",
      "Feature 3: Importance = 0.1375470555866088\n",
      "Feature 4: Importance = 0.09650320754779879\n",
      "Feature 5: Importance = 0.0783160494465354\n",
      "Feature 6: Importance = 0.04654192347727185\n",
      "Feature 7: Importance = 0.03280553384576188\n",
      "Feature 8: Importance = 0.023886693495660524\n",
      "Feature 9: Importance = 0.01898815202676916\n",
      "Feature 10: Importance = 0.018699697051833306\n",
      "Feature 11: Importance = 0.01601885811490221\n",
      "Feature 12: Importance = 0.010790689480232634\n",
      "Feature 13: Importance = 0.007346600528807828\n",
      "Feature 14: Importance = 0.007162409864629087\n",
      "Feature 15: Importance = 0.006281359081700409\n",
      "Feature 16: Importance = 0.0060647159832427884\n",
      "Feature 17: Importance = 0.004597153127334927\n",
      "Feature 18: Importance = 0.0025422618354727705\n",
      "Feature 19: Importance = 0.0015524298030075091\n"
     ]
    }
   ],
   "source": [
    "# 打印排序后的特征重要性\n",
    "for index, importance in enumerate(sorted_feature_importances):\n",
    "    print(f\"Feature {index + 1}: Importance = {importance}\")"
   ]
  },
  {
   "cell_type": "code",
   "execution_count": null,
   "id": "5b3fff47-61e6-4637-92cb-b283e21ed4c2",
   "metadata": {},
   "outputs": [],
   "source": []
  },
  {
   "cell_type": "markdown",
   "id": "015b7720-09eb-4cc7-8e79-62bcdfc35b55",
   "metadata": {},
   "source": [
    "### 2，分类问题的评价\n",
    "- 准确率 accuracy\n",
    "  - 样本均衡时，可靠！\n",
    "    - 不同类别的样本，数量上不会相差太多！\n",
    "  - 样本不均衡时，特别是深度学习模型（梯度下降法）\n",
    "    - 这个指标有欺骗性！\n",
    "  - 预测对了的个数 / 总的测试个数\n",
    "- 召回率 recall（查全率）：所有目标当中，找出来的概率。（上帝视角看人群有10个新冠阳性的， 算法查出来2个， 召回率 = 2 / 10）\n",
    "    - 哪怕有0.01%的可能是阳性，也认为是阳性。\n",
    "- 精准率 precision（查准率）,与recall成为制衡。 精准率 = 真正的阳性 / 声称的阳性。\n",
    "    - 只有是100% 认为是阳性，才可以认为是声称的阳性，恰好跟recall相反\n",
    "- f1-score（精准率和召回率的结合）\n",
    "    - f1就是 recall  和 precision的 **调和平均**\n",
    "    - 平均数 通常有这么三种：\n",
    "        - 算数平均：$\\Large \\frac{a+b}{2}$\n",
    "        - 几何平均：$\\large \\sqrt{ab}$\n",
    "        - 调和平均：$\\Large \\frac{1}{S}=\\frac{\\frac{1}{a}+\\frac{1}{b}}{2}$，$S$ 是平均值\n",
    "          所以， $\\Large S = \\frac{2ab}{a+b}$\n",
    "    - 即 $\\Large f1 = \\frac{2RP}{R+P} $，R=Recall，P=Precision"
   ]
  },
  {
   "cell_type": "code",
   "execution_count": 57,
   "id": "7bf572ec-16e4-4695-a13e-b90dd034ab71",
   "metadata": {},
   "outputs": [],
   "source": [
    "y_pred = dtc.predict(X=X_test)"
   ]
  },
  {
   "cell_type": "code",
   "execution_count": 59,
   "id": "9f3fbd5b-ab65-4a0d-97ce-916637d1392b",
   "metadata": {},
   "outputs": [
    {
     "data": {
      "text/plain": [
       "0.9353405725567621"
      ]
     },
     "execution_count": 59,
     "metadata": {},
     "output_type": "execute_result"
    }
   ],
   "source": [
    "(y_test == y_pred).mean()"
   ]
  },
  {
   "cell_type": "code",
   "execution_count": 61,
   "id": "0a1323da-f734-48cb-ad47-40e6239a93f6",
   "metadata": {},
   "outputs": [],
   "source": [
    "# 上面是自己动手计算的时候，但几乎所有框架里都有一个叫metrics（度量）的东西，这里已经都封装好了。\n",
    "from sklearn.metrics import accuracy_score, recall_score, precision_score, f1_score"
   ]
  },
  {
   "cell_type": "code",
   "execution_count": 63,
   "id": "68911052-4559-4d4c-86a7-252755e7542a",
   "metadata": {},
   "outputs": [
    {
     "data": {
      "text/plain": [
       "0.8373040365386989"
      ]
     },
     "execution_count": 63,
     "metadata": {},
     "output_type": "execute_result"
    }
   ],
   "source": [
    "# 样本均衡问题，查看0类数据占比 是83%\n",
    "(y_train == 0).mean()"
   ]
  },
  {
   "cell_type": "code",
   "execution_count": 65,
   "id": "e5c4587c-c639-4312-a137-57445e3dcd46",
   "metadata": {},
   "outputs": [
    {
     "data": {
      "text/plain": [
       "0.16269596346130108"
      ]
     },
     "execution_count": 65,
     "metadata": {},
     "output_type": "execute_result"
    }
   ],
   "source": [
    "# 查看1类数据占比是16%，样本数据 不怎么均衡\n",
    "(y_train == 1).mean()"
   ]
  },
  {
   "cell_type": "code",
   "execution_count": 75,
   "id": "f1b842c0-51e9-452e-93fb-6913fa3ccac9",
   "metadata": {},
   "outputs": [
    {
     "name": "stdout",
     "output_type": "stream",
     "text": [
      "准确率：0.9353405725567621\n",
      "召回率：[0.96039604 0.7961165 ]\n",
      "精准率：[0.96320093 0.78343949]\n",
      "f1：[0.96179644 0.78972713]\n"
     ]
    }
   ],
   "source": [
    "# 准确率\n",
    "acc = accuracy_score(y_true=y_test, y_pred=y_pred)\n",
    "# 召回率\n",
    "recall = recall_score(y_true=y_test, y_pred=y_pred, average=None)\n",
    "# 精准率\n",
    "precision = precision_score(y_true=y_test, y_pred=y_pred, average=None)\n",
    "# f1\n",
    "f1 = f1_score(y_true=y_test, y_pred=y_pred, average=None)\n",
    "# 打印\n",
    "print(f'准确率：{acc}')\n",
    "print(f'召回率：{recall}')\n",
    "print(f'精准率：{precision}')\n",
    "print(f'f1：{f1}')"
   ]
  },
  {
   "cell_type": "code",
   "execution_count": null,
   "id": "6bbacc26-a99a-4ea7-ad01-d1f548d1797a",
   "metadata": {},
   "outputs": [],
   "source": []
  },
  {
   "cell_type": "markdown",
   "id": "dfe1cb62-de72-4d15-acc2-83dbbc9ff5fb",
   "metadata": {},
   "source": [
    "### 3. 特征筛选(特征的降维)\n",
    "- 干掉一部分不重要的特征\n",
    "- 保留一部分重要的特征\n",
    "- 剩下的特征还是原来的一部分\n",
    "- 优化 = 降本增效 = 裁员"
   ]
  },
  {
   "cell_type": "code",
   "execution_count": 78,
   "id": "35f16939-1228-4e87-a28f-02941b5dee72",
   "metadata": {},
   "outputs": [
    {
     "data": {
      "text/plain": [
       "(8101, 19)"
      ]
     },
     "execution_count": 78,
     "metadata": {},
     "output_type": "execute_result"
    }
   ],
   "source": [
    "X_train.shape"
   ]
  },
  {
   "cell_type": "code",
   "execution_count": 86,
   "id": "ace442a2-a5ef-4c6b-867c-9579d3ae93bb",
   "metadata": {},
   "outputs": [
    {
     "data": {
      "text/plain": [
       "array([0.03280553, 0.00254226, 0.00459715, 0.00628136, 0.00716241,\n",
       "       0.00606472, 0.00155243, 0.01079069, 0.09650321, 0.02388669,\n",
       "       0.0186997 , 0.01898815, 0.19190073, 0.01601886, 0.04654192,\n",
       "       0.13754706, 0.29245448, 0.07831605, 0.0073466 ])"
      ]
     },
     "execution_count": 86,
     "metadata": {},
     "output_type": "execute_result"
    }
   ],
   "source": [
    "dtc.feature_importances_"
   ]
  },
  {
   "cell_type": "code",
   "execution_count": 149,
   "id": "888a369b-fe26-40a3-ab4b-1e14978901bb",
   "metadata": {},
   "outputs": [
    {
     "name": "stdout",
     "output_type": "stream",
     "text": [
      "[16 12 15  8 17]\n"
     ]
    }
   ],
   "source": [
    "\"\"\"\n",
    "    抽取出 5 个最重要的特征，然后测试准确率\n",
    "\"\"\"\n",
    "import numpy as np\n",
    "from sklearn.metrics import accuracy_score\n",
    "\n",
    "feature_importances = dtc.feature_importances_\n",
    "\n",
    "# 排序特征重要性（降序）\n",
    "sorted_idxes_top5 = np.argsort(feature_importances)[::-1][:5]  # 获取 重要度前5的特征的索引\n",
    "\n",
    "print(sorted_idxes_top5)"
   ]
  },
  {
   "cell_type": "code",
   "execution_count": 151,
   "id": "83e7fe08-d076-4703-927c-b349dae49933",
   "metadata": {},
   "outputs": [],
   "source": [
    "# 花式索引，把这5个特征抽取出来\n",
    "X_train_top5 = X_train[:, sorted_idxes_top5]\n",
    "X_test_top5 = X_test[:, sorted_idxes_top5]"
   ]
  },
  {
   "cell_type": "code",
   "execution_count": 153,
   "id": "7855d045-5463-4654-89b6-feb11a42d7c0",
   "metadata": {},
   "outputs": [],
   "source": [
    "# 构建模型\n",
    "dtc_top5 = DecisionTreeClassifier()\n",
    "# 训练模型\n",
    "dtc_top5.fit(X=X_train_top5, y=y_train)\n",
    "# 预测模型\n",
    "y_pred_top5 = dtc_top5.predict(X=X_test_top5)\n",
    "# 计算准确率\n",
    "y_acc_top5 = accuracy_score(y_true=y_test, y_pred=y_pred_top5)"
   ]
  },
  {
   "cell_type": "code",
   "execution_count": 155,
   "id": "57b7c31d-6430-40d8-a560-29ecebca7fc7",
   "metadata": {},
   "outputs": [
    {
     "data": {
      "text/plain": [
       "0.9348469891411648"
      ]
     },
     "execution_count": 155,
     "metadata": {},
     "output_type": "execute_result"
    }
   ],
   "source": [
    "y_acc_top5"
   ]
  },
  {
   "cell_type": "code",
   "execution_count": null,
   "id": "f266d9e5-f6d4-4e3e-8458-3852c74fbaa9",
   "metadata": {},
   "outputs": [],
   "source": []
  },
  {
   "cell_type": "code",
   "execution_count": 185,
   "id": "7ddc07c8-4173-49a8-89cf-5b517bcfae16",
   "metadata": {
    "scrolled": true
   },
   "outputs": [
    {
     "name": "stdout",
     "output_type": "stream",
     "text": [
      "1 ==== 0.866238894373149\n",
      "2 ==== 0.8854886475814413\n",
      "3 ==== 0.9052319842053307\n",
      "4 ==== 0.9313919052319842\n",
      "5 ==== 0.9353405725567621\n",
      "6 ==== 0.9368213228035538\n",
      "7 ==== 0.941263573543929\n",
      "8 ==== 0.9383020730503455\n",
      "9 ==== 0.9343534057255676\n",
      "10 ==== 0.9318854886475815\n",
      "11 ==== 0.9333662388943732\n",
      "12 ==== 0.930898321816387\n",
      "13 ==== 0.9353405725567621\n",
      "14 ==== 0.937314906219151\n",
      "15 ==== 0.9343534057255676\n",
      "16 ==== 0.9353405725567621\n",
      "17 ==== 0.932872655478776\n",
      "18 ==== 0.9318854886475815\n",
      "19 ==== 0.9318854886475815\n"
     ]
    }
   ],
   "source": [
    "# 发现 抽取5个最高重要度的进行评估结果跟之前准确率几乎一致，这应该是碰巧，  所以下面进行验证\n",
    "# 验证的方法就是，不限定5，依次都取一遍，然后对比看取top几的时候准确率最高\n",
    "import numpy as np\n",
    "from sklearn.metrics import accuracy_score\n",
    "\n",
    "# 构建模型\n",
    "dtc_topN = DecisionTreeClassifier()\n",
    "\n",
    "for num_features in range(1, 20, 1):\n",
    "    feature_importances = dtc.feature_importances_\n",
    "    \n",
    "    # 排序特征重要性（降序）\n",
    "    sorted_idxes_topN = np.argsort(feature_importances)[::-1][:num_features]  # 获取 重要度前 N 的特征的索引\n",
    "\n",
    "    # 花式索引，把这5个特征抽取出来\n",
    "    X_train_topN = X_train[:, sorted_idxes_topN]\n",
    "    X_test_topN = X_test[:, sorted_idxes_topN]\n",
    "    \n",
    "    # 训练模型\n",
    "    dtc_topN.fit(X=X_train_topN, y=y_train)\n",
    "    # 预测模型\n",
    "    y_pred_topN = dtc_topN.predict(X=X_test_topN)\n",
    "    # 计算准确率\n",
    "    y_acc_topN = accuracy_score(y_true=y_test, y_pred=y_pred_topN)\n",
    "\n",
    "    print(num_features, \"====\", y_acc_topN)"
   ]
  },
  {
   "cell_type": "code",
   "execution_count": null,
   "id": "ecd71449-bdaa-4c77-8ded-bee11b785daf",
   "metadata": {},
   "outputs": [],
   "source": []
  },
  {
   "cell_type": "markdown",
   "id": "1030a23f-6f2d-4194-a81c-f1275ab744f2",
   "metadata": {},
   "source": [
    "### 4. 特征融合（也是一种特征的降维）\n",
    "- 把所有特征中重要的成份抽出来\n",
    "- 注入的几个新的特征中\n",
    "- 新的特征不是原来的任何一部分\n",
    "- 原地解散，根据实际需要，重新招人！\n",
    "- PCA：主成分分析法  Principal component analysis"
   ]
  },
  {
   "cell_type": "code",
   "execution_count": 231,
   "id": "a1f8ff00-827b-4fe9-be38-9ce81ca4a29e",
   "metadata": {},
   "outputs": [],
   "source": [
    "from sklearn.decomposition import PCA"
   ]
  },
  {
   "cell_type": "code",
   "execution_count": 233,
   "id": "7f746734-6ff5-43a8-a4f2-c7f55a3dd77a",
   "metadata": {},
   "outputs": [],
   "source": [
    "# 初始化 PCA\n",
    "pca = PCA(n_components=5)   # 降维到 5 维"
   ]
  },
  {
   "cell_type": "code",
   "execution_count": 235,
   "id": "e561b667-2075-49f4-8c7b-d51230643bd6",
   "metadata": {},
   "outputs": [
    {
     "data": {
      "text/html": [
       "<style>#sk-container-id-7 {color: black;background-color: white;}#sk-container-id-7 pre{padding: 0;}#sk-container-id-7 div.sk-toggleable {background-color: white;}#sk-container-id-7 label.sk-toggleable__label {cursor: pointer;display: block;width: 100%;margin-bottom: 0;padding: 0.3em;box-sizing: border-box;text-align: center;}#sk-container-id-7 label.sk-toggleable__label-arrow:before {content: \"▸\";float: left;margin-right: 0.25em;color: #696969;}#sk-container-id-7 label.sk-toggleable__label-arrow:hover:before {color: black;}#sk-container-id-7 div.sk-estimator:hover label.sk-toggleable__label-arrow:before {color: black;}#sk-container-id-7 div.sk-toggleable__content {max-height: 0;max-width: 0;overflow: hidden;text-align: left;background-color: #f0f8ff;}#sk-container-id-7 div.sk-toggleable__content pre {margin: 0.2em;color: black;border-radius: 0.25em;background-color: #f0f8ff;}#sk-container-id-7 input.sk-toggleable__control:checked~div.sk-toggleable__content {max-height: 200px;max-width: 100%;overflow: auto;}#sk-container-id-7 input.sk-toggleable__control:checked~label.sk-toggleable__label-arrow:before {content: \"▾\";}#sk-container-id-7 div.sk-estimator input.sk-toggleable__control:checked~label.sk-toggleable__label {background-color: #d4ebff;}#sk-container-id-7 div.sk-label input.sk-toggleable__control:checked~label.sk-toggleable__label {background-color: #d4ebff;}#sk-container-id-7 input.sk-hidden--visually {border: 0;clip: rect(1px 1px 1px 1px);clip: rect(1px, 1px, 1px, 1px);height: 1px;margin: -1px;overflow: hidden;padding: 0;position: absolute;width: 1px;}#sk-container-id-7 div.sk-estimator {font-family: monospace;background-color: #f0f8ff;border: 1px dotted black;border-radius: 0.25em;box-sizing: border-box;margin-bottom: 0.5em;}#sk-container-id-7 div.sk-estimator:hover {background-color: #d4ebff;}#sk-container-id-7 div.sk-parallel-item::after {content: \"\";width: 100%;border-bottom: 1px solid gray;flex-grow: 1;}#sk-container-id-7 div.sk-label:hover label.sk-toggleable__label {background-color: #d4ebff;}#sk-container-id-7 div.sk-serial::before {content: \"\";position: absolute;border-left: 1px solid gray;box-sizing: border-box;top: 0;bottom: 0;left: 50%;z-index: 0;}#sk-container-id-7 div.sk-serial {display: flex;flex-direction: column;align-items: center;background-color: white;padding-right: 0.2em;padding-left: 0.2em;position: relative;}#sk-container-id-7 div.sk-item {position: relative;z-index: 1;}#sk-container-id-7 div.sk-parallel {display: flex;align-items: stretch;justify-content: center;background-color: white;position: relative;}#sk-container-id-7 div.sk-item::before, #sk-container-id-7 div.sk-parallel-item::before {content: \"\";position: absolute;border-left: 1px solid gray;box-sizing: border-box;top: 0;bottom: 0;left: 50%;z-index: -1;}#sk-container-id-7 div.sk-parallel-item {display: flex;flex-direction: column;z-index: 1;position: relative;background-color: white;}#sk-container-id-7 div.sk-parallel-item:first-child::after {align-self: flex-end;width: 50%;}#sk-container-id-7 div.sk-parallel-item:last-child::after {align-self: flex-start;width: 50%;}#sk-container-id-7 div.sk-parallel-item:only-child::after {width: 0;}#sk-container-id-7 div.sk-dashed-wrapped {border: 1px dashed gray;margin: 0 0.4em 0.5em 0.4em;box-sizing: border-box;padding-bottom: 0.4em;background-color: white;}#sk-container-id-7 div.sk-label label {font-family: monospace;font-weight: bold;display: inline-block;line-height: 1.2em;}#sk-container-id-7 div.sk-label-container {text-align: center;}#sk-container-id-7 div.sk-container {/* jupyter's `normalize.less` sets `[hidden] { display: none; }` but bootstrap.min.css set `[hidden] { display: none !important; }` so we also need the `!important` here to be able to override the default hidden behavior on the sphinx rendered scikit-learn.org. See: https://github.com/scikit-learn/scikit-learn/issues/21755 */display: inline-block !important;position: relative;}#sk-container-id-7 div.sk-text-repr-fallback {display: none;}</style><div id=\"sk-container-id-7\" class=\"sk-top-container\"><div class=\"sk-text-repr-fallback\"><pre>PCA(n_components=5)</pre><b>In a Jupyter environment, please rerun this cell to show the HTML representation or trust the notebook. <br />On GitHub, the HTML representation is unable to render, please try loading this page with nbviewer.org.</b></div><div class=\"sk-container\" hidden><div class=\"sk-item\"><div class=\"sk-estimator sk-toggleable\"><input class=\"sk-toggleable__control sk-hidden--visually\" id=\"sk-estimator-id-7\" type=\"checkbox\" checked><label for=\"sk-estimator-id-7\" class=\"sk-toggleable__label sk-toggleable__label-arrow\">PCA</label><div class=\"sk-toggleable__content\"><pre>PCA(n_components=5)</pre></div></div></div></div></div>"
      ],
      "text/plain": [
       "PCA(n_components=5)"
      ]
     },
     "execution_count": 235,
     "metadata": {},
     "output_type": "execute_result"
    }
   ],
   "source": [
    "pca.fit(X=X_train)  # pca是无监督，所以标签参数不用传值"
   ]
  },
  {
   "cell_type": "code",
   "execution_count": 237,
   "id": "df56024f-28f0-4bd6-b6ce-044bb78e79b8",
   "metadata": {},
   "outputs": [],
   "source": [
    "X_train_transformed = pca.transform(X=X_train)\n",
    "X_test_transformed = pca.transform(X=X_test)"
   ]
  },
  {
   "cell_type": "code",
   "execution_count": 239,
   "id": "90bf0fb6-3667-4cd6-a6f2-d334b71872ca",
   "metadata": {},
   "outputs": [
    {
     "data": {
      "text/plain": [
       "(8101, 5)"
      ]
     },
     "execution_count": 239,
     "metadata": {},
     "output_type": "execute_result"
    }
   ],
   "source": [
    "X_train_transformed.shape"
   ]
  },
  {
   "cell_type": "code",
   "execution_count": 241,
   "id": "605b066a-0235-448a-869d-790b6c2b7e57",
   "metadata": {},
   "outputs": [
    {
     "data": {
      "text/plain": [
       "(2026, 5)"
      ]
     },
     "execution_count": 241,
     "metadata": {},
     "output_type": "execute_result"
    }
   ],
   "source": [
    "X_test_transformed.shape"
   ]
  },
  {
   "cell_type": "code",
   "execution_count": 243,
   "id": "78071bdb-388f-4667-8e62-32cdf3f47f39",
   "metadata": {},
   "outputs": [],
   "source": [
    "# 然后用决策树\n",
    "dtc2 = DecisionTreeClassifier()"
   ]
  },
  {
   "cell_type": "code",
   "execution_count": 245,
   "id": "0cfff4cb-fe8a-4752-914a-73efc0c4fdc1",
   "metadata": {},
   "outputs": [
    {
     "data": {
      "text/html": [
       "<style>#sk-container-id-8 {color: black;background-color: white;}#sk-container-id-8 pre{padding: 0;}#sk-container-id-8 div.sk-toggleable {background-color: white;}#sk-container-id-8 label.sk-toggleable__label {cursor: pointer;display: block;width: 100%;margin-bottom: 0;padding: 0.3em;box-sizing: border-box;text-align: center;}#sk-container-id-8 label.sk-toggleable__label-arrow:before {content: \"▸\";float: left;margin-right: 0.25em;color: #696969;}#sk-container-id-8 label.sk-toggleable__label-arrow:hover:before {color: black;}#sk-container-id-8 div.sk-estimator:hover label.sk-toggleable__label-arrow:before {color: black;}#sk-container-id-8 div.sk-toggleable__content {max-height: 0;max-width: 0;overflow: hidden;text-align: left;background-color: #f0f8ff;}#sk-container-id-8 div.sk-toggleable__content pre {margin: 0.2em;color: black;border-radius: 0.25em;background-color: #f0f8ff;}#sk-container-id-8 input.sk-toggleable__control:checked~div.sk-toggleable__content {max-height: 200px;max-width: 100%;overflow: auto;}#sk-container-id-8 input.sk-toggleable__control:checked~label.sk-toggleable__label-arrow:before {content: \"▾\";}#sk-container-id-8 div.sk-estimator input.sk-toggleable__control:checked~label.sk-toggleable__label {background-color: #d4ebff;}#sk-container-id-8 div.sk-label input.sk-toggleable__control:checked~label.sk-toggleable__label {background-color: #d4ebff;}#sk-container-id-8 input.sk-hidden--visually {border: 0;clip: rect(1px 1px 1px 1px);clip: rect(1px, 1px, 1px, 1px);height: 1px;margin: -1px;overflow: hidden;padding: 0;position: absolute;width: 1px;}#sk-container-id-8 div.sk-estimator {font-family: monospace;background-color: #f0f8ff;border: 1px dotted black;border-radius: 0.25em;box-sizing: border-box;margin-bottom: 0.5em;}#sk-container-id-8 div.sk-estimator:hover {background-color: #d4ebff;}#sk-container-id-8 div.sk-parallel-item::after {content: \"\";width: 100%;border-bottom: 1px solid gray;flex-grow: 1;}#sk-container-id-8 div.sk-label:hover label.sk-toggleable__label {background-color: #d4ebff;}#sk-container-id-8 div.sk-serial::before {content: \"\";position: absolute;border-left: 1px solid gray;box-sizing: border-box;top: 0;bottom: 0;left: 50%;z-index: 0;}#sk-container-id-8 div.sk-serial {display: flex;flex-direction: column;align-items: center;background-color: white;padding-right: 0.2em;padding-left: 0.2em;position: relative;}#sk-container-id-8 div.sk-item {position: relative;z-index: 1;}#sk-container-id-8 div.sk-parallel {display: flex;align-items: stretch;justify-content: center;background-color: white;position: relative;}#sk-container-id-8 div.sk-item::before, #sk-container-id-8 div.sk-parallel-item::before {content: \"\";position: absolute;border-left: 1px solid gray;box-sizing: border-box;top: 0;bottom: 0;left: 50%;z-index: -1;}#sk-container-id-8 div.sk-parallel-item {display: flex;flex-direction: column;z-index: 1;position: relative;background-color: white;}#sk-container-id-8 div.sk-parallel-item:first-child::after {align-self: flex-end;width: 50%;}#sk-container-id-8 div.sk-parallel-item:last-child::after {align-self: flex-start;width: 50%;}#sk-container-id-8 div.sk-parallel-item:only-child::after {width: 0;}#sk-container-id-8 div.sk-dashed-wrapped {border: 1px dashed gray;margin: 0 0.4em 0.5em 0.4em;box-sizing: border-box;padding-bottom: 0.4em;background-color: white;}#sk-container-id-8 div.sk-label label {font-family: monospace;font-weight: bold;display: inline-block;line-height: 1.2em;}#sk-container-id-8 div.sk-label-container {text-align: center;}#sk-container-id-8 div.sk-container {/* jupyter's `normalize.less` sets `[hidden] { display: none; }` but bootstrap.min.css set `[hidden] { display: none !important; }` so we also need the `!important` here to be able to override the default hidden behavior on the sphinx rendered scikit-learn.org. See: https://github.com/scikit-learn/scikit-learn/issues/21755 */display: inline-block !important;position: relative;}#sk-container-id-8 div.sk-text-repr-fallback {display: none;}</style><div id=\"sk-container-id-8\" class=\"sk-top-container\"><div class=\"sk-text-repr-fallback\"><pre>DecisionTreeClassifier()</pre><b>In a Jupyter environment, please rerun this cell to show the HTML representation or trust the notebook. <br />On GitHub, the HTML representation is unable to render, please try loading this page with nbviewer.org.</b></div><div class=\"sk-container\" hidden><div class=\"sk-item\"><div class=\"sk-estimator sk-toggleable\"><input class=\"sk-toggleable__control sk-hidden--visually\" id=\"sk-estimator-id-8\" type=\"checkbox\" checked><label for=\"sk-estimator-id-8\" class=\"sk-toggleable__label sk-toggleable__label-arrow\">DecisionTreeClassifier</label><div class=\"sk-toggleable__content\"><pre>DecisionTreeClassifier()</pre></div></div></div></div></div>"
      ],
      "text/plain": [
       "DecisionTreeClassifier()"
      ]
     },
     "execution_count": 245,
     "metadata": {},
     "output_type": "execute_result"
    }
   ],
   "source": [
    "dtc2.fit(X=X_train_transformed, y=y_train)"
   ]
  },
  {
   "cell_type": "code",
   "execution_count": 247,
   "id": "34ff43c3-785c-4a2b-ae92-4f48f65c11a9",
   "metadata": {},
   "outputs": [],
   "source": [
    "y_pred2 = dtc2.predict(X=X_test_transformed)"
   ]
  },
  {
   "cell_type": "code",
   "execution_count": 249,
   "id": "b49d18b7-aea6-4eb7-b299-0c7f68dcf04b",
   "metadata": {},
   "outputs": [],
   "source": [
    "acc2 = (y_pred2 == y_test).mean()"
   ]
  },
  {
   "cell_type": "code",
   "execution_count": 251,
   "id": "ecdcc99a-d759-40f4-bb17-15aa9301a353",
   "metadata": {},
   "outputs": [
    {
     "data": {
      "text/plain": [
       "0.8361303060217177"
      ]
     },
     "execution_count": 251,
     "metadata": {},
     "output_type": "execute_result"
    }
   ],
   "source": [
    "acc2"
   ]
  },
  {
   "cell_type": "code",
   "execution_count": 269,
   "id": "e69049dd-9176-4ea2-9c6e-2ca5fee8fc5f",
   "metadata": {},
   "outputs": [
    {
     "name": "stdout",
     "output_type": "stream",
     "text": [
      "1 ==== 0.7408687068114511\n",
      "2 ==== 0.7704837117472852\n",
      "3 ==== 0.7902270483711747\n",
      "4 ==== 0.8455083909180652\n",
      "5 ==== 0.8420533070088845\n",
      "6 ==== 0.8455083909180652\n",
      "7 ==== 0.8538993089832182\n",
      "8 ==== 0.8445212240868707\n",
      "9 ==== 0.8509378084896347\n",
      "10 ==== 0.8553800592300099\n",
      "11 ==== 0.8519249753208292\n",
      "12 ==== 0.8450148075024679\n",
      "13 ==== 0.8672260612043435\n",
      "14 ==== 0.8761105626850938\n",
      "15 ==== 0.8756169792694966\n",
      "16 ==== 0.8711747285291214\n",
      "17 ==== 0.8692003948667325\n",
      "18 ==== 0.8820335636722606\n",
      "19 ==== 0.8830207305034551\n"
     ]
    }
   ],
   "source": [
    "\"\"\"\n",
    "    遍历寻优\n",
    "\"\"\"\n",
    "from sklearn.decomposition import PCA\n",
    "\n",
    "for num_features in range(1, 20, 1):\n",
    "    # 初始化 PCA\n",
    "    pca = PCA(n_components=num_features)   # 降维到 5 维\n",
    "    pca.fit(X=X_train)  # pca是无监督，所以标签参数不用传值\n",
    "    X_train_transformed = pca.transform(X=X_train)\n",
    "    X_test_transformed = pca.transform(X=X_test)\n",
    "    dtc2 = DecisionTreeClassifier()\n",
    "    dtc2.fit(X=X_train_transformed, y=y_train)\n",
    "    y_pred2 = dtc2.predict(X=X_test_transformed)\n",
    "    acc2 = (y_pred2 == y_test).mean()\n",
    "    print(num_features, \"====\", acc2)"
   ]
  },
  {
   "cell_type": "code",
   "execution_count": null,
   "id": "13a9ccd2-8656-4853-b21c-daa54cca3dc2",
   "metadata": {},
   "outputs": [],
   "source": []
  },
  {
   "cell_type": "code",
   "execution_count": null,
   "id": "7d91c258-31fb-4011-9344-17a6127e8f3c",
   "metadata": {},
   "outputs": [],
   "source": []
  },
  {
   "cell_type": "markdown",
   "id": "103ce2ea-4f3b-4bd6-a19a-d42a8e23ebf7",
   "metadata": {},
   "source": [
    "### 5，特征分解\n",
    "- FFT\n",
    "- 上述的PCA降维，主要是通过svd分解来实现的"
   ]
  },
  {
   "cell_type": "code",
   "execution_count": 274,
   "id": "b67083d1-d0d2-408f-ac53-19bbf579a75a",
   "metadata": {},
   "outputs": [
    {
     "data": {
      "text/plain": [
       "(8101, 19)"
      ]
     },
     "execution_count": 274,
     "metadata": {},
     "output_type": "execute_result"
    }
   ],
   "source": [
    "X_train.shape"
   ]
  },
  {
   "cell_type": "code",
   "execution_count": 276,
   "id": "b1ae682c-73e0-432e-94b7-2c8c42ee94d0",
   "metadata": {},
   "outputs": [],
   "source": [
    "import numpy as np"
   ]
  },
  {
   "cell_type": "code",
   "execution_count": 278,
   "id": "3be78fee-3891-40cc-ae7e-a14f57abc9e3",
   "metadata": {
    "scrolled": true
   },
   "outputs": [],
   "source": [
    "# 通过SVD分解，将看不懂的的矩阵信息转换，用S来控制\n",
    "# U：左歧义，Vt：右歧义，S：歧义值\n",
    "U, S, Vt = np.linalg.svd(a=X_train, full_matrices=False)"
   ]
  },
  {
   "cell_type": "code",
   "execution_count": 280,
   "id": "055be801-58aa-46ef-bd8c-9ed38c7012b5",
   "metadata": {},
   "outputs": [],
   "source": [
    "from matplotlib import pyplot as plt"
   ]
  },
  {
   "cell_type": "code",
   "execution_count": 282,
   "id": "e83317d0-a97f-4933-8775-5715592343e8",
   "metadata": {},
   "outputs": [
    {
     "data": {
      "text/plain": [
       "<matplotlib.collections.PathCollection at 0x1565cc350>"
      ]
     },
     "execution_count": 282,
     "metadata": {},
     "output_type": "execute_result"
    },
    {
     "data": {
      "image/png": "[encoded data removed]",
      "text/plain": [
       "<Figure size 640x480 with 1 Axes>"
      ]
     },
     "metadata": {},
     "output_type": "display_data"
    }
   ],
   "source": [
    "plt.scatter(range(len(S)), S)"
   ]
  },
  {
   "cell_type": "code",
   "execution_count": 284,
   "id": "4edb3c20-b156-4bae-94b6-aafecd21c9be",
   "metadata": {},
   "outputs": [],
   "source": [
    "from sklearn.datasets import load_breast_cancer"
   ]
  },
  {
   "cell_type": "code",
   "execution_count": 286,
   "id": "ae506b86-fb03-40c2-9b67-5f7857be3113",
   "metadata": {},
   "outputs": [],
   "source": [
    "X, y = load_breast_cancer(return_X_y=True)"
   ]
  },
  {
   "cell_type": "code",
   "execution_count": 288,
   "id": "b171eb26-5412-4d14-bf23-a6dd9d30fbe0",
   "metadata": {},
   "outputs": [
    {
     "data": {
      "text/plain": [
       "(569, 30)"
      ]
     },
     "execution_count": 288,
     "metadata": {},
     "output_type": "execute_result"
    }
   ],
   "source": [
    "X.shape"
   ]
  },
  {
   "cell_type": "code",
   "execution_count": 290,
   "id": "6334b140-084c-415e-a104-65c2fa53cd31",
   "metadata": {},
   "outputs": [],
   "source": [
    "U1, S1, Vt1 = np.linalg.svd(a=X, full_matrices=False)"
   ]
  },
  {
   "cell_type": "code",
   "execution_count": 292,
   "id": "3f60e2cc-9425-40a1-8e3b-6efdb5d0c2bd",
   "metadata": {},
   "outputs": [
    {
     "data": {
      "text/plain": [
       "[<matplotlib.lines.Line2D at 0x1567e36d0>]"
      ]
     },
     "execution_count": 292,
     "metadata": {},
     "output_type": "execute_result"
    },
    {
     "data": {
      "image/png": "[encoded data removed]",
      "text/plain": [
       "<Figure size 640x480 with 1 Axes>"
      ]
     },
     "metadata": {},
     "output_type": "display_data"
    }
   ],
   "source": [
    "plt.plot(S1)"
   ]
  },
  {
   "cell_type": "code",
   "execution_count": null,
   "id": "5c59f8d8-1b9a-49ec-a998-72daf5555869",
   "metadata": {},
   "outputs": [],
   "source": []
  },
  {
   "cell_type": "code",
   "execution_count": null,
   "id": "50ddbde0-59fd-460b-a016-1927e6ed402c",
   "metadata": {},
   "outputs": [],
   "source": []
  }
 ],
 "metadata": {
  "kernelspec": {
   "display_name": "Python 3 (ipykernel)",
   "language": "python",
   "name": "python3"
  },
  "language_info": {
   "codemirror_mode": {
    "name": "ipython",
    "version": 3
   },
   "file_extension": ".py",
   "mimetype": "text/x-python",
   "name": "python",
   "nbconvert_exporter": "python",
   "pygments_lexer": "ipython3",
   "version": "3.11.11"
  }
 },
 "nbformat": 4,
 "nbformat_minor": 5
}
