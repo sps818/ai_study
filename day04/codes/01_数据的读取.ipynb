{
 "cells": [
  {
   "cell_type": "markdown",
   "id": "510c2ba1-1ff3-44af-b3ce-1c1aa13ecbbd",
   "metadata": {},
   "source": [
    "### 1. 数据读取"
   ]
  },
  {
   "cell_type": "code",
   "execution_count": 1,
   "id": "0ccb38a1-3278-40cb-8833-e33bed05762a",
   "metadata": {},
   "outputs": [],
   "source": [
    "import pandas as pd"
   ]
  },
  {
   "cell_type": "code",
   "execution_count": 2,
   "id": "a18c9d82-307b-4211-92c2-87efc2043354",
   "metadata": {},
   "outputs": [],
   "source": [
    "data = pd.read_csv(filepath_or_buffer=\"./信用卡客户流失数据集.csv\")"
   ]
  },
  {
   "cell_type": "code",
   "execution_count": 3,
   "id": "6b674d54-0d42-4198-a0ea-e466fce2970e",
   "metadata": {},
   "outputs": [
    {
     "data": {
      "text/plain": [
       "(10134, 21)"
      ]
     },
     "execution_count": 3,
     "metadata": {},
     "output_type": "execute_result"
    }
   ],
   "source": [
    "data.shape"
   ]
  },
  {
   "cell_type": "code",
   "execution_count": 4,
   "id": "78660eb5-a4e1-4821-8ac5-6a7103d8e7cc",
   "metadata": {
    "scrolled": true
   },
   "outputs": [
    {
     "name": "stdout",
     "output_type": "stream",
     "text": [
      "<class 'pandas.core.frame.DataFrame'>\n",
      "RangeIndex: 10134 entries, 0 to 10133\n",
      "Data columns (total 21 columns):\n",
      " #   Column                    Non-Null Count  Dtype  \n",
      "---  ------                    --------------  -----  \n",
      " 0   CLIENTNUM                 10134 non-null  int64  \n",
      " 1   Attrition_Flag            10134 non-null  object \n",
      " 2   Customer_Age              10134 non-null  int64  \n",
      " 3   Gender                    10134 non-null  object \n",
      " 4   Dependent_count           10134 non-null  int64  \n",
      " 5   Education_Level           10133 non-null  object \n",
      " 6   Marital_Status            10134 non-null  object \n",
      " 7   Income_Category           10134 non-null  object \n",
      " 8   Card_Category             10133 non-null  object \n",
      " 9   Months_on_book            10134 non-null  int64  \n",
      " 10  Total_Relationship_Count  10134 non-null  int64  \n",
      " 11  Months_Inactive_12_mon    10134 non-null  int64  \n",
      " 12  Contacts_Count_12_mon     10134 non-null  int64  \n",
      " 13  Credit_Limit              10134 non-null  float64\n",
      " 14  Total_Revolving_Bal       10134 non-null  int64  \n",
      " 15  Avg_Open_To_Buy           10134 non-null  float64\n",
      " 16  Total_Amt_Chng_Q4_Q1      10134 non-null  float64\n",
      " 17  Total_Trans_Amt           10134 non-null  int64  \n",
      " 18  Total_Trans_Ct            10134 non-null  int64  \n",
      " 19  Total_Ct_Chng_Q4_Q1       10134 non-null  float64\n",
      " 20  Avg_Utilization_Ratio     10134 non-null  float64\n",
      "dtypes: float64(5), int64(10), object(6)\n",
      "memory usage: 1.6+ MB\n"
     ]
    }
   ],
   "source": [
    "data.info()"
   ]
  },
  {
   "cell_type": "code",
   "execution_count": 5,
   "id": "e55635d4-de7d-4bbc-bbb0-076020f81660",
   "metadata": {
    "scrolled": true
   },
   "outputs": [
    {
     "data": {
      "text/html": [
       "<div>\n",
       "<style scoped>\n",
       "    .dataframe tbody tr th:only-of-type {\n",
       "        vertical-align: middle;\n",
       "    }\n",
       "\n",
       "    .dataframe tbody tr th {\n",
       "        vertical-align: top;\n",
       "    }\n",
       "\n",
       "    .dataframe thead th {\n",
       "        text-align: right;\n",
       "    }\n",
       "</style>\n",
       "<table border=\"1\" class=\"dataframe\">\n",
       "  <thead>\n",
       "    <tr style=\"text-align: right;\">\n",
       "      <th></th>\n",
       "      <th>CLIENTNUM</th>\n",
       "      <th>Attrition_Flag</th>\n",
       "      <th>Customer_Age</th>\n",
       "      <th>Gender</th>\n",
       "      <th>Dependent_count</th>\n",
       "      <th>Education_Level</th>\n",
       "      <th>Marital_Status</th>\n",
       "      <th>Income_Category</th>\n",
       "      <th>Card_Category</th>\n",
       "      <th>Months_on_book</th>\n",
       "      <th>...</th>\n",
       "      <th>Months_Inactive_12_mon</th>\n",
       "      <th>Contacts_Count_12_mon</th>\n",
       "      <th>Credit_Limit</th>\n",
       "      <th>Total_Revolving_Bal</th>\n",
       "      <th>Avg_Open_To_Buy</th>\n",
       "      <th>Total_Amt_Chng_Q4_Q1</th>\n",
       "      <th>Total_Trans_Amt</th>\n",
       "      <th>Total_Trans_Ct</th>\n",
       "      <th>Total_Ct_Chng_Q4_Q1</th>\n",
       "      <th>Avg_Utilization_Ratio</th>\n",
       "    </tr>\n",
       "  </thead>\n",
       "  <tbody>\n",
       "    <tr>\n",
       "      <th>0</th>\n",
       "      <td>768805383</td>\n",
       "      <td>Existing Customer</td>\n",
       "      <td>45</td>\n",
       "      <td>M</td>\n",
       "      <td>3</td>\n",
       "      <td>High School</td>\n",
       "      <td>Married</td>\n",
       "      <td>$60K - $80K</td>\n",
       "      <td>Blue</td>\n",
       "      <td>39</td>\n",
       "      <td>...</td>\n",
       "      <td>1</td>\n",
       "      <td>3</td>\n",
       "      <td>12691.0</td>\n",
       "      <td>777</td>\n",
       "      <td>11914.0</td>\n",
       "      <td>1.335</td>\n",
       "      <td>1144</td>\n",
       "      <td>42</td>\n",
       "      <td>1.625</td>\n",
       "      <td>0.061</td>\n",
       "    </tr>\n",
       "    <tr>\n",
       "      <th>1</th>\n",
       "      <td>818770008</td>\n",
       "      <td>Existing Customer</td>\n",
       "      <td>49</td>\n",
       "      <td>F</td>\n",
       "      <td>5</td>\n",
       "      <td>Graduate</td>\n",
       "      <td>Single</td>\n",
       "      <td>Less than $40K</td>\n",
       "      <td>Blue</td>\n",
       "      <td>44</td>\n",
       "      <td>...</td>\n",
       "      <td>1</td>\n",
       "      <td>2</td>\n",
       "      <td>8256.0</td>\n",
       "      <td>864</td>\n",
       "      <td>7392.0</td>\n",
       "      <td>1.541</td>\n",
       "      <td>1291</td>\n",
       "      <td>33</td>\n",
       "      <td>3.714</td>\n",
       "      <td>0.105</td>\n",
       "    </tr>\n",
       "    <tr>\n",
       "      <th>2</th>\n",
       "      <td>713982108</td>\n",
       "      <td>Existing Customer</td>\n",
       "      <td>51</td>\n",
       "      <td>M</td>\n",
       "      <td>3</td>\n",
       "      <td>Graduate</td>\n",
       "      <td>Married</td>\n",
       "      <td>$80K - $120K</td>\n",
       "      <td>Blue</td>\n",
       "      <td>36</td>\n",
       "      <td>...</td>\n",
       "      <td>1</td>\n",
       "      <td>0</td>\n",
       "      <td>3418.0</td>\n",
       "      <td>0</td>\n",
       "      <td>3418.0</td>\n",
       "      <td>2.594</td>\n",
       "      <td>1887</td>\n",
       "      <td>20</td>\n",
       "      <td>2.333</td>\n",
       "      <td>0.000</td>\n",
       "    </tr>\n",
       "    <tr>\n",
       "      <th>3</th>\n",
       "      <td>769911858</td>\n",
       "      <td>Existing Customer</td>\n",
       "      <td>40</td>\n",
       "      <td>F</td>\n",
       "      <td>4</td>\n",
       "      <td>High School</td>\n",
       "      <td>Unknown</td>\n",
       "      <td>Less than $40K</td>\n",
       "      <td>Blue</td>\n",
       "      <td>34</td>\n",
       "      <td>...</td>\n",
       "      <td>4</td>\n",
       "      <td>1</td>\n",
       "      <td>3313.0</td>\n",
       "      <td>2517</td>\n",
       "      <td>796.0</td>\n",
       "      <td>1.405</td>\n",
       "      <td>1171</td>\n",
       "      <td>20</td>\n",
       "      <td>2.333</td>\n",
       "      <td>0.760</td>\n",
       "    </tr>\n",
       "    <tr>\n",
       "      <th>4</th>\n",
       "      <td>709106358</td>\n",
       "      <td>Existing Customer</td>\n",
       "      <td>40</td>\n",
       "      <td>M</td>\n",
       "      <td>3</td>\n",
       "      <td>Uneducated</td>\n",
       "      <td>Married</td>\n",
       "      <td>$60K - $80K</td>\n",
       "      <td>Blue</td>\n",
       "      <td>21</td>\n",
       "      <td>...</td>\n",
       "      <td>1</td>\n",
       "      <td>0</td>\n",
       "      <td>4716.0</td>\n",
       "      <td>0</td>\n",
       "      <td>4716.0</td>\n",
       "      <td>2.175</td>\n",
       "      <td>816</td>\n",
       "      <td>28</td>\n",
       "      <td>2.500</td>\n",
       "      <td>0.000</td>\n",
       "    </tr>\n",
       "  </tbody>\n",
       "</table>\n",
       "<p>5 rows × 21 columns</p>\n",
       "</div>"
      ],
      "text/plain": [
       "   CLIENTNUM     Attrition_Flag  Customer_Age Gender  Dependent_count  \\\n",
       "0  768805383  Existing Customer            45      M                3   \n",
       "1  818770008  Existing Customer            49      F                5   \n",
       "2  713982108  Existing Customer            51      M                3   \n",
       "3  769911858  Existing Customer            40      F                4   \n",
       "4  709106358  Existing Customer            40      M                3   \n",
       "\n",
       "  Education_Level Marital_Status Income_Category Card_Category  \\\n",
       "0     High School        Married     $60K - $80K          Blue   \n",
       "1        Graduate         Single  Less than $40K          Blue   \n",
       "2        Graduate        Married    $80K - $120K          Blue   \n",
       "3     High School        Unknown  Less than $40K          Blue   \n",
       "4      Uneducated        Married     $60K - $80K          Blue   \n",
       "\n",
       "   Months_on_book  ...  Months_Inactive_12_mon  Contacts_Count_12_mon  \\\n",
       "0              39  ...                       1                      3   \n",
       "1              44  ...                       1                      2   \n",
       "2              36  ...                       1                      0   \n",
       "3              34  ...                       4                      1   \n",
       "4              21  ...                       1                      0   \n",
       "\n",
       "   Credit_Limit  Total_Revolving_Bal  Avg_Open_To_Buy  Total_Amt_Chng_Q4_Q1  \\\n",
       "0       12691.0                  777          11914.0                 1.335   \n",
       "1        8256.0                  864           7392.0                 1.541   \n",
       "2        3418.0                    0           3418.0                 2.594   \n",
       "3        3313.0                 2517            796.0                 1.405   \n",
       "4        4716.0                    0           4716.0                 2.175   \n",
       "\n",
       "   Total_Trans_Amt  Total_Trans_Ct  Total_Ct_Chng_Q4_Q1  Avg_Utilization_Ratio  \n",
       "0             1144              42                1.625                  0.061  \n",
       "1             1291              33                3.714                  0.105  \n",
       "2             1887              20                2.333                  0.000  \n",
       "3             1171              20                2.333                  0.760  \n",
       "4              816              28                2.500                  0.000  \n",
       "\n",
       "[5 rows x 21 columns]"
      ]
     },
     "execution_count": 5,
     "metadata": {},
     "output_type": "execute_result"
    }
   ],
   "source": [
    "data.head()"
   ]
  },
  {
   "cell_type": "code",
   "execution_count": 6,
   "id": "318d58e2-b5f2-442c-98a3-205ceb4b030e",
   "metadata": {},
   "outputs": [
    {
     "data": {
      "text/html": [
       "<div>\n",
       "<style scoped>\n",
       "    .dataframe tbody tr th:only-of-type {\n",
       "        vertical-align: middle;\n",
       "    }\n",
       "\n",
       "    .dataframe tbody tr th {\n",
       "        vertical-align: top;\n",
       "    }\n",
       "\n",
       "    .dataframe thead th {\n",
       "        text-align: right;\n",
       "    }\n",
       "</style>\n",
       "<table border=\"1\" class=\"dataframe\">\n",
       "  <thead>\n",
       "    <tr style=\"text-align: right;\">\n",
       "      <th></th>\n",
       "      <th>CLIENTNUM</th>\n",
       "      <th>Attrition_Flag</th>\n",
       "      <th>Customer_Age</th>\n",
       "      <th>Gender</th>\n",
       "      <th>Dependent_count</th>\n",
       "      <th>Education_Level</th>\n",
       "      <th>Marital_Status</th>\n",
       "      <th>Income_Category</th>\n",
       "      <th>Card_Category</th>\n",
       "      <th>Months_on_book</th>\n",
       "      <th>...</th>\n",
       "      <th>Months_Inactive_12_mon</th>\n",
       "      <th>Contacts_Count_12_mon</th>\n",
       "      <th>Credit_Limit</th>\n",
       "      <th>Total_Revolving_Bal</th>\n",
       "      <th>Avg_Open_To_Buy</th>\n",
       "      <th>Total_Amt_Chng_Q4_Q1</th>\n",
       "      <th>Total_Trans_Amt</th>\n",
       "      <th>Total_Trans_Ct</th>\n",
       "      <th>Total_Ct_Chng_Q4_Q1</th>\n",
       "      <th>Avg_Utilization_Ratio</th>\n",
       "    </tr>\n",
       "  </thead>\n",
       "  <tbody>\n",
       "    <tr>\n",
       "      <th>10131</th>\n",
       "      <td>714337233</td>\n",
       "      <td>Attrited Customer</td>\n",
       "      <td>43</td>\n",
       "      <td>F</td>\n",
       "      <td>2</td>\n",
       "      <td>Graduate</td>\n",
       "      <td>Married</td>\n",
       "      <td>Less than $40K</td>\n",
       "      <td>Silver</td>\n",
       "      <td>25</td>\n",
       "      <td>...</td>\n",
       "      <td>2</td>\n",
       "      <td>4</td>\n",
       "      <td>10388.0</td>\n",
       "      <td>1961</td>\n",
       "      <td>8427.0</td>\n",
       "      <td>0.703</td>\n",
       "      <td>10294</td>\n",
       "      <td>61</td>\n",
       "      <td>0.649</td>\n",
       "      <td>0.189</td>\n",
       "    </tr>\n",
       "    <tr>\n",
       "      <th>10132</th>\n",
       "      <td>78874666</td>\n",
       "      <td>Existing Customer</td>\n",
       "      <td>53</td>\n",
       "      <td>F</td>\n",
       "      <td>1</td>\n",
       "      <td>Graduate</td>\n",
       "      <td>Married</td>\n",
       "      <td>Less than $40K</td>\n",
       "      <td>NaN</td>\n",
       "      <td>32</td>\n",
       "      <td>...</td>\n",
       "      <td>2</td>\n",
       "      <td>3</td>\n",
       "      <td>7832.0</td>\n",
       "      <td>1784</td>\n",
       "      <td>6048.0</td>\n",
       "      <td>0.711</td>\n",
       "      <td>14614</td>\n",
       "      <td>106</td>\n",
       "      <td>0.656</td>\n",
       "      <td>0.228</td>\n",
       "    </tr>\n",
       "    <tr>\n",
       "      <th>10133</th>\n",
       "      <td>71737777</td>\n",
       "      <td>Existing Customer</td>\n",
       "      <td>56</td>\n",
       "      <td>M</td>\n",
       "      <td>3</td>\n",
       "      <td>NaN</td>\n",
       "      <td>Single</td>\n",
       "      <td>$120K +</td>\n",
       "      <td>Blue</td>\n",
       "      <td>44</td>\n",
       "      <td>...</td>\n",
       "      <td>1</td>\n",
       "      <td>2</td>\n",
       "      <td>34516.0</td>\n",
       "      <td>1307</td>\n",
       "      <td>33209.0</td>\n",
       "      <td>0.558</td>\n",
       "      <td>13759</td>\n",
       "      <td>120</td>\n",
       "      <td>0.765</td>\n",
       "      <td>0.038</td>\n",
       "    </tr>\n",
       "  </tbody>\n",
       "</table>\n",
       "<p>3 rows × 21 columns</p>\n",
       "</div>"
      ],
      "text/plain": [
       "       CLIENTNUM     Attrition_Flag  Customer_Age Gender  Dependent_count  \\\n",
       "10131  714337233  Attrited Customer            43      F                2   \n",
       "10132   78874666  Existing Customer            53      F                1   \n",
       "10133   71737777  Existing Customer            56      M                3   \n",
       "\n",
       "      Education_Level Marital_Status Income_Category Card_Category  \\\n",
       "10131        Graduate        Married  Less than $40K        Silver   \n",
       "10132        Graduate        Married  Less than $40K           NaN   \n",
       "10133             NaN         Single         $120K +          Blue   \n",
       "\n",
       "       Months_on_book  ...  Months_Inactive_12_mon  Contacts_Count_12_mon  \\\n",
       "10131              25  ...                       2                      4   \n",
       "10132              32  ...                       2                      3   \n",
       "10133              44  ...                       1                      2   \n",
       "\n",
       "       Credit_Limit  Total_Revolving_Bal  Avg_Open_To_Buy  \\\n",
       "10131       10388.0                 1961           8427.0   \n",
       "10132        7832.0                 1784           6048.0   \n",
       "10133       34516.0                 1307          33209.0   \n",
       "\n",
       "       Total_Amt_Chng_Q4_Q1  Total_Trans_Amt  Total_Trans_Ct  \\\n",
       "10131                 0.703            10294              61   \n",
       "10132                 0.711            14614             106   \n",
       "10133                 0.558            13759             120   \n",
       "\n",
       "       Total_Ct_Chng_Q4_Q1  Avg_Utilization_Ratio  \n",
       "10131                0.649                  0.189  \n",
       "10132                0.656                  0.228  \n",
       "10133                0.765                  0.038  \n",
       "\n",
       "[3 rows x 21 columns]"
      ]
     },
     "execution_count": 6,
     "metadata": {},
     "output_type": "execute_result"
    }
   ],
   "source": [
    "data.tail(n=3)"
   ]
  },
  {
   "cell_type": "code",
   "execution_count": 7,
   "id": "fbd04cbf-2fde-40ba-afb8-b7d1c8cbe858",
   "metadata": {},
   "outputs": [
    {
     "data": {
      "text/html": [
       "<div>\n",
       "<style scoped>\n",
       "    .dataframe tbody tr th:only-of-type {\n",
       "        vertical-align: middle;\n",
       "    }\n",
       "\n",
       "    .dataframe tbody tr th {\n",
       "        vertical-align: top;\n",
       "    }\n",
       "\n",
       "    .dataframe thead th {\n",
       "        text-align: right;\n",
       "    }\n",
       "</style>\n",
       "<table border=\"1\" class=\"dataframe\">\n",
       "  <thead>\n",
       "    <tr style=\"text-align: right;\">\n",
       "      <th></th>\n",
       "      <th>CLIENTNUM</th>\n",
       "      <th>Attrition_Flag</th>\n",
       "      <th>Customer_Age</th>\n",
       "      <th>Gender</th>\n",
       "      <th>Dependent_count</th>\n",
       "      <th>Education_Level</th>\n",
       "      <th>Marital_Status</th>\n",
       "      <th>Income_Category</th>\n",
       "      <th>Card_Category</th>\n",
       "      <th>Months_on_book</th>\n",
       "      <th>...</th>\n",
       "      <th>Months_Inactive_12_mon</th>\n",
       "      <th>Contacts_Count_12_mon</th>\n",
       "      <th>Credit_Limit</th>\n",
       "      <th>Total_Revolving_Bal</th>\n",
       "      <th>Avg_Open_To_Buy</th>\n",
       "      <th>Total_Amt_Chng_Q4_Q1</th>\n",
       "      <th>Total_Trans_Amt</th>\n",
       "      <th>Total_Trans_Ct</th>\n",
       "      <th>Total_Ct_Chng_Q4_Q1</th>\n",
       "      <th>Avg_Utilization_Ratio</th>\n",
       "    </tr>\n",
       "  </thead>\n",
       "  <tbody>\n",
       "    <tr>\n",
       "      <th>7793</th>\n",
       "      <td>805524708</td>\n",
       "      <td>Attrited Customer</td>\n",
       "      <td>52</td>\n",
       "      <td>F</td>\n",
       "      <td>3</td>\n",
       "      <td>High School</td>\n",
       "      <td>Divorced</td>\n",
       "      <td>Less than $40K</td>\n",
       "      <td>Blue</td>\n",
       "      <td>47</td>\n",
       "      <td>...</td>\n",
       "      <td>3</td>\n",
       "      <td>1</td>\n",
       "      <td>6629.0</td>\n",
       "      <td>2517</td>\n",
       "      <td>4112.0</td>\n",
       "      <td>0.932</td>\n",
       "      <td>2599</td>\n",
       "      <td>50</td>\n",
       "      <td>0.562</td>\n",
       "      <td>0.380</td>\n",
       "    </tr>\n",
       "    <tr>\n",
       "      <th>4088</th>\n",
       "      <td>710905908</td>\n",
       "      <td>Existing Customer</td>\n",
       "      <td>43</td>\n",
       "      <td>M</td>\n",
       "      <td>4</td>\n",
       "      <td>High School</td>\n",
       "      <td>Single</td>\n",
       "      <td>$60K - $80K</td>\n",
       "      <td>Blue</td>\n",
       "      <td>36</td>\n",
       "      <td>...</td>\n",
       "      <td>3</td>\n",
       "      <td>3</td>\n",
       "      <td>4983.0</td>\n",
       "      <td>1355</td>\n",
       "      <td>3628.0</td>\n",
       "      <td>0.660</td>\n",
       "      <td>1939</td>\n",
       "      <td>30</td>\n",
       "      <td>0.500</td>\n",
       "      <td>0.272</td>\n",
       "    </tr>\n",
       "    <tr>\n",
       "      <th>4204</th>\n",
       "      <td>741116058</td>\n",
       "      <td>Existing Customer</td>\n",
       "      <td>48</td>\n",
       "      <td>M</td>\n",
       "      <td>2</td>\n",
       "      <td>Graduate</td>\n",
       "      <td>Married</td>\n",
       "      <td>$40K - $60K</td>\n",
       "      <td>Blue</td>\n",
       "      <td>41</td>\n",
       "      <td>...</td>\n",
       "      <td>2</td>\n",
       "      <td>4</td>\n",
       "      <td>2582.0</td>\n",
       "      <td>1399</td>\n",
       "      <td>1183.0</td>\n",
       "      <td>0.559</td>\n",
       "      <td>2144</td>\n",
       "      <td>42</td>\n",
       "      <td>0.909</td>\n",
       "      <td>0.542</td>\n",
       "    </tr>\n",
       "  </tbody>\n",
       "</table>\n",
       "<p>3 rows × 21 columns</p>\n",
       "</div>"
      ],
      "text/plain": [
       "      CLIENTNUM     Attrition_Flag  Customer_Age Gender  Dependent_count  \\\n",
       "7793  805524708  Attrited Customer            52      F                3   \n",
       "4088  710905908  Existing Customer            43      M                4   \n",
       "4204  741116058  Existing Customer            48      M                2   \n",
       "\n",
       "     Education_Level Marital_Status Income_Category Card_Category  \\\n",
       "7793     High School       Divorced  Less than $40K          Blue   \n",
       "4088     High School         Single     $60K - $80K          Blue   \n",
       "4204        Graduate        Married     $40K - $60K          Blue   \n",
       "\n",
       "      Months_on_book  ...  Months_Inactive_12_mon  Contacts_Count_12_mon  \\\n",
       "7793              47  ...                       3                      1   \n",
       "4088              36  ...                       3                      3   \n",
       "4204              41  ...                       2                      4   \n",
       "\n",
       "      Credit_Limit  Total_Revolving_Bal  Avg_Open_To_Buy  \\\n",
       "7793        6629.0                 2517           4112.0   \n",
       "4088        4983.0                 1355           3628.0   \n",
       "4204        2582.0                 1399           1183.0   \n",
       "\n",
       "      Total_Amt_Chng_Q4_Q1  Total_Trans_Amt  Total_Trans_Ct  \\\n",
       "7793                 0.932             2599              50   \n",
       "4088                 0.660             1939              30   \n",
       "4204                 0.559             2144              42   \n",
       "\n",
       "      Total_Ct_Chng_Q4_Q1  Avg_Utilization_Ratio  \n",
       "7793                0.562                  0.380  \n",
       "4088                0.500                  0.272  \n",
       "4204                0.909                  0.542  \n",
       "\n",
       "[3 rows x 21 columns]"
      ]
     },
     "execution_count": 7,
     "metadata": {},
     "output_type": "execute_result"
    }
   ],
   "source": [
    "data.sample(n=3)"
   ]
  },
  {
   "cell_type": "markdown",
   "id": "b4161253-ad8e-4405-b082-0a68e8d41dc9",
   "metadata": {},
   "source": [
    "### 2. 数据清洗\n",
    "- 重复\n",
    "    - 什么叫重复？user_id?\n",
    "- 缺失\n",
    "- 异常"
   ]
  },
  {
   "cell_type": "code",
   "execution_count": 8,
   "id": "d300f0c5-206d-4756-ab6b-3d1144c824f4",
   "metadata": {},
   "outputs": [
    {
     "data": {
      "text/plain": [
       "np.int64(5)"
      ]
     },
     "execution_count": 8,
     "metadata": {},
     "output_type": "execute_result"
    }
   ],
   "source": [
    "# 只是判断是否有重复\n",
    "data.duplicated(subset=[\"CLIENTNUM\"]).sum()"
   ]
  },
  {
   "cell_type": "code",
   "execution_count": 9,
   "id": "665c3712-d8b3-4a4a-9acf-bf090a912a5b",
   "metadata": {},
   "outputs": [],
   "source": [
    "# 删除重复（注意：删除多余的，保留其中一条）\n",
    "# inplace  覆盖原数据\n",
    "data.drop_duplicates(subset=[\"CLIENTNUM\"], inplace=True)"
   ]
  },
  {
   "cell_type": "code",
   "execution_count": 10,
   "id": "16b79a89-e27e-46e2-8a0d-e31ebfdc4502",
   "metadata": {},
   "outputs": [
    {
     "name": "stdout",
     "output_type": "stream",
     "text": [
      "<class 'pandas.core.frame.DataFrame'>\n",
      "Index: 10129 entries, 0 to 10133\n",
      "Data columns (total 21 columns):\n",
      " #   Column                    Non-Null Count  Dtype  \n",
      "---  ------                    --------------  -----  \n",
      " 0   CLIENTNUM                 10129 non-null  int64  \n",
      " 1   Attrition_Flag            10129 non-null  object \n",
      " 2   Customer_Age              10129 non-null  int64  \n",
      " 3   Gender                    10129 non-null  object \n",
      " 4   Dependent_count           10129 non-null  int64  \n",
      " 5   Education_Level           10128 non-null  object \n",
      " 6   Marital_Status            10129 non-null  object \n",
      " 7   Income_Category           10129 non-null  object \n",
      " 8   Card_Category             10128 non-null  object \n",
      " 9   Months_on_book            10129 non-null  int64  \n",
      " 10  Total_Relationship_Count  10129 non-null  int64  \n",
      " 11  Months_Inactive_12_mon    10129 non-null  int64  \n",
      " 12  Contacts_Count_12_mon     10129 non-null  int64  \n",
      " 13  Credit_Limit              10129 non-null  float64\n",
      " 14  Total_Revolving_Bal       10129 non-null  int64  \n",
      " 15  Avg_Open_To_Buy           10129 non-null  float64\n",
      " 16  Total_Amt_Chng_Q4_Q1      10129 non-null  float64\n",
      " 17  Total_Trans_Amt           10129 non-null  int64  \n",
      " 18  Total_Trans_Ct            10129 non-null  int64  \n",
      " 19  Total_Ct_Chng_Q4_Q1       10129 non-null  float64\n",
      " 20  Avg_Utilization_Ratio     10129 non-null  float64\n",
      "dtypes: float64(5), int64(10), object(6)\n",
      "memory usage: 1.7+ MB\n"
     ]
    }
   ],
   "source": [
    "data.info()"
   ]
  },
  {
   "cell_type": "code",
   "execution_count": 11,
   "id": "3bfa1945-17e7-433c-8d24-1abf58fb468d",
   "metadata": {
    "scrolled": true
   },
   "outputs": [
    {
     "data": {
      "text/plain": [
       "CLIENTNUM                   0\n",
       "Attrition_Flag              0\n",
       "Customer_Age                0\n",
       "Gender                      0\n",
       "Dependent_count             0\n",
       "Education_Level             1\n",
       "Marital_Status              0\n",
       "Income_Category             0\n",
       "Card_Category               1\n",
       "Months_on_book              0\n",
       "Total_Relationship_Count    0\n",
       "Months_Inactive_12_mon      0\n",
       "Contacts_Count_12_mon       0\n",
       "Credit_Limit                0\n",
       "Total_Revolving_Bal         0\n",
       "Avg_Open_To_Buy             0\n",
       "Total_Amt_Chng_Q4_Q1        0\n",
       "Total_Trans_Amt             0\n",
       "Total_Trans_Ct              0\n",
       "Total_Ct_Chng_Q4_Q1         0\n",
       "Avg_Utilization_Ratio       0\n",
       "dtype: int64"
      ]
     },
     "execution_count": 11,
     "metadata": {},
     "output_type": "execute_result"
    }
   ],
   "source": [
    "# 判断是否缺失 等效于 data.isnull()\n",
    "data.isna().sum()"
   ]
  },
  {
   "cell_type": "code",
   "execution_count": 12,
   "id": "e544e62f-0a6b-4c5f-87d6-f44d355ad9c6",
   "metadata": {},
   "outputs": [],
   "source": [
    "# 删除缺失数据\n",
    "# how=“all” 的话就是这一行全缺失，那就删\n",
    "data.dropna(how=\"any\", inplace=True)"
   ]
  },
  {
   "cell_type": "code",
   "execution_count": 13,
   "id": "b88b9207-39f0-4f97-95d1-f669ca781e68",
   "metadata": {},
   "outputs": [
    {
     "name": "stdout",
     "output_type": "stream",
     "text": [
      "<class 'pandas.core.frame.DataFrame'>\n",
      "Index: 10127 entries, 0 to 10126\n",
      "Data columns (total 21 columns):\n",
      " #   Column                    Non-Null Count  Dtype  \n",
      "---  ------                    --------------  -----  \n",
      " 0   CLIENTNUM                 10127 non-null  int64  \n",
      " 1   Attrition_Flag            10127 non-null  object \n",
      " 2   Customer_Age              10127 non-null  int64  \n",
      " 3   Gender                    10127 non-null  object \n",
      " 4   Dependent_count           10127 non-null  int64  \n",
      " 5   Education_Level           10127 non-null  object \n",
      " 6   Marital_Status            10127 non-null  object \n",
      " 7   Income_Category           10127 non-null  object \n",
      " 8   Card_Category             10127 non-null  object \n",
      " 9   Months_on_book            10127 non-null  int64  \n",
      " 10  Total_Relationship_Count  10127 non-null  int64  \n",
      " 11  Months_Inactive_12_mon    10127 non-null  int64  \n",
      " 12  Contacts_Count_12_mon     10127 non-null  int64  \n",
      " 13  Credit_Limit              10127 non-null  float64\n",
      " 14  Total_Revolving_Bal       10127 non-null  int64  \n",
      " 15  Avg_Open_To_Buy           10127 non-null  float64\n",
      " 16  Total_Amt_Chng_Q4_Q1      10127 non-null  float64\n",
      " 17  Total_Trans_Amt           10127 non-null  int64  \n",
      " 18  Total_Trans_Ct            10127 non-null  int64  \n",
      " 19  Total_Ct_Chng_Q4_Q1       10127 non-null  float64\n",
      " 20  Avg_Utilization_Ratio     10127 non-null  float64\n",
      "dtypes: float64(5), int64(10), object(6)\n",
      "memory usage: 1.7+ MB\n"
     ]
    }
   ],
   "source": [
    "data.info()"
   ]
  },
  {
   "cell_type": "code",
   "execution_count": 14,
   "id": "43132bf3-2fab-4d31-9cb6-7571b49bd181",
   "metadata": {},
   "outputs": [
    {
     "data": {
      "text/html": [
       "<div>\n",
       "<style scoped>\n",
       "    .dataframe tbody tr th:only-of-type {\n",
       "        vertical-align: middle;\n",
       "    }\n",
       "\n",
       "    .dataframe tbody tr th {\n",
       "        vertical-align: top;\n",
       "    }\n",
       "\n",
       "    .dataframe thead th {\n",
       "        text-align: right;\n",
       "    }\n",
       "</style>\n",
       "<table border=\"1\" class=\"dataframe\">\n",
       "  <thead>\n",
       "    <tr style=\"text-align: right;\">\n",
       "      <th></th>\n",
       "      <th>CLIENTNUM</th>\n",
       "      <th>Attrition_Flag</th>\n",
       "      <th>Customer_Age</th>\n",
       "      <th>Gender</th>\n",
       "      <th>Dependent_count</th>\n",
       "      <th>Education_Level</th>\n",
       "      <th>Marital_Status</th>\n",
       "      <th>Income_Category</th>\n",
       "      <th>Card_Category</th>\n",
       "      <th>Months_on_book</th>\n",
       "      <th>...</th>\n",
       "      <th>Months_Inactive_12_mon</th>\n",
       "      <th>Contacts_Count_12_mon</th>\n",
       "      <th>Credit_Limit</th>\n",
       "      <th>Total_Revolving_Bal</th>\n",
       "      <th>Avg_Open_To_Buy</th>\n",
       "      <th>Total_Amt_Chng_Q4_Q1</th>\n",
       "      <th>Total_Trans_Amt</th>\n",
       "      <th>Total_Trans_Ct</th>\n",
       "      <th>Total_Ct_Chng_Q4_Q1</th>\n",
       "      <th>Avg_Utilization_Ratio</th>\n",
       "    </tr>\n",
       "  </thead>\n",
       "  <tbody>\n",
       "    <tr>\n",
       "      <th>9787</th>\n",
       "      <td>710527533</td>\n",
       "      <td>Attrited Customer</td>\n",
       "      <td>45</td>\n",
       "      <td>M</td>\n",
       "      <td>5</td>\n",
       "      <td>College</td>\n",
       "      <td>Single</td>\n",
       "      <td>$40K - $60K</td>\n",
       "      <td>Blue</td>\n",
       "      <td>36</td>\n",
       "      <td>...</td>\n",
       "      <td>3</td>\n",
       "      <td>3</td>\n",
       "      <td>4982.0</td>\n",
       "      <td>0</td>\n",
       "      <td>4982.0</td>\n",
       "      <td>0.886</td>\n",
       "      <td>8586</td>\n",
       "      <td>58</td>\n",
       "      <td>1.000</td>\n",
       "      <td>0.000</td>\n",
       "    </tr>\n",
       "    <tr>\n",
       "      <th>8618</th>\n",
       "      <td>778894233</td>\n",
       "      <td>Existing Customer</td>\n",
       "      <td>42</td>\n",
       "      <td>M</td>\n",
       "      <td>5</td>\n",
       "      <td>High School</td>\n",
       "      <td>Unknown</td>\n",
       "      <td>$80K - $120K</td>\n",
       "      <td>Blue</td>\n",
       "      <td>23</td>\n",
       "      <td>...</td>\n",
       "      <td>2</td>\n",
       "      <td>3</td>\n",
       "      <td>7253.0</td>\n",
       "      <td>0</td>\n",
       "      <td>7253.0</td>\n",
       "      <td>0.644</td>\n",
       "      <td>7595</td>\n",
       "      <td>83</td>\n",
       "      <td>0.804</td>\n",
       "      <td>0.000</td>\n",
       "    </tr>\n",
       "    <tr>\n",
       "      <th>7201</th>\n",
       "      <td>717870108</td>\n",
       "      <td>Existing Customer</td>\n",
       "      <td>46</td>\n",
       "      <td>F</td>\n",
       "      <td>4</td>\n",
       "      <td>Unknown</td>\n",
       "      <td>Unknown</td>\n",
       "      <td>$40K - $60K</td>\n",
       "      <td>Blue</td>\n",
       "      <td>37</td>\n",
       "      <td>...</td>\n",
       "      <td>4</td>\n",
       "      <td>2</td>\n",
       "      <td>1912.0</td>\n",
       "      <td>1172</td>\n",
       "      <td>740.0</td>\n",
       "      <td>0.827</td>\n",
       "      <td>4841</td>\n",
       "      <td>81</td>\n",
       "      <td>0.884</td>\n",
       "      <td>0.613</td>\n",
       "    </tr>\n",
       "  </tbody>\n",
       "</table>\n",
       "<p>3 rows × 21 columns</p>\n",
       "</div>"
      ],
      "text/plain": [
       "      CLIENTNUM     Attrition_Flag  Customer_Age Gender  Dependent_count  \\\n",
       "9787  710527533  Attrited Customer            45      M                5   \n",
       "8618  778894233  Existing Customer            42      M                5   \n",
       "7201  717870108  Existing Customer            46      F                4   \n",
       "\n",
       "     Education_Level Marital_Status Income_Category Card_Category  \\\n",
       "9787         College         Single     $40K - $60K          Blue   \n",
       "8618     High School        Unknown    $80K - $120K          Blue   \n",
       "7201         Unknown        Unknown     $40K - $60K          Blue   \n",
       "\n",
       "      Months_on_book  ...  Months_Inactive_12_mon  Contacts_Count_12_mon  \\\n",
       "9787              36  ...                       3                      3   \n",
       "8618              23  ...                       2                      3   \n",
       "7201              37  ...                       4                      2   \n",
       "\n",
       "      Credit_Limit  Total_Revolving_Bal  Avg_Open_To_Buy  \\\n",
       "9787        4982.0                    0           4982.0   \n",
       "8618        7253.0                    0           7253.0   \n",
       "7201        1912.0                 1172            740.0   \n",
       "\n",
       "      Total_Amt_Chng_Q4_Q1  Total_Trans_Amt  Total_Trans_Ct  \\\n",
       "9787                 0.886             8586              58   \n",
       "8618                 0.644             7595              83   \n",
       "7201                 0.827             4841              81   \n",
       "\n",
       "      Total_Ct_Chng_Q4_Q1  Avg_Utilization_Ratio  \n",
       "9787                1.000                  0.000  \n",
       "8618                0.804                  0.000  \n",
       "7201                0.884                  0.613  \n",
       "\n",
       "[3 rows x 21 columns]"
      ]
     },
     "execution_count": 14,
     "metadata": {},
     "output_type": "execute_result"
    }
   ],
   "source": [
    "data.sample(n=3)"
   ]
  },
  {
   "cell_type": "code",
   "execution_count": 15,
   "id": "8e132339-aca9-4fa2-a471-4da647403a81",
   "metadata": {},
   "outputs": [],
   "source": [
    "# 删除无用的列\n",
    "data.drop(columns=[\"CLIENTNUM\"], inplace=True)"
   ]
  },
  {
   "cell_type": "code",
   "execution_count": 16,
   "id": "3129078b-8afb-411a-b0a4-48d464ac9982",
   "metadata": {},
   "outputs": [
    {
     "name": "stdout",
     "output_type": "stream",
     "text": [
      "<class 'pandas.core.frame.DataFrame'>\n",
      "Index: 10127 entries, 0 to 10126\n",
      "Data columns (total 20 columns):\n",
      " #   Column                    Non-Null Count  Dtype  \n",
      "---  ------                    --------------  -----  \n",
      " 0   Attrition_Flag            10127 non-null  object \n",
      " 1   Customer_Age              10127 non-null  int64  \n",
      " 2   Gender                    10127 non-null  object \n",
      " 3   Dependent_count           10127 non-null  int64  \n",
      " 4   Education_Level           10127 non-null  object \n",
      " 5   Marital_Status            10127 non-null  object \n",
      " 6   Income_Category           10127 non-null  object \n",
      " 7   Card_Category             10127 non-null  object \n",
      " 8   Months_on_book            10127 non-null  int64  \n",
      " 9   Total_Relationship_Count  10127 non-null  int64  \n",
      " 10  Months_Inactive_12_mon    10127 non-null  int64  \n",
      " 11  Contacts_Count_12_mon     10127 non-null  int64  \n",
      " 12  Credit_Limit              10127 non-null  float64\n",
      " 13  Total_Revolving_Bal       10127 non-null  int64  \n",
      " 14  Avg_Open_To_Buy           10127 non-null  float64\n",
      " 15  Total_Amt_Chng_Q4_Q1      10127 non-null  float64\n",
      " 16  Total_Trans_Amt           10127 non-null  int64  \n",
      " 17  Total_Trans_Ct            10127 non-null  int64  \n",
      " 18  Total_Ct_Chng_Q4_Q1       10127 non-null  float64\n",
      " 19  Avg_Utilization_Ratio     10127 non-null  float64\n",
      "dtypes: float64(5), int64(9), object(6)\n",
      "memory usage: 1.6+ MB\n"
     ]
    }
   ],
   "source": [
    "data.info()"
   ]
  },
  {
   "cell_type": "markdown",
   "id": "3b476517-6e4d-4d80-940c-8bb32e123691",
   "metadata": {},
   "source": [
    "### 3, 数据预处理\n",
    "- 编码问题\n",
    "- 异常问题\n",
    "- 量纲问题"
   ]
  },
  {
   "cell_type": "code",
   "execution_count": 17,
   "id": "5a85f34e-aef6-40f8-a085-f58c8b3d4d02",
   "metadata": {},
   "outputs": [
    {
     "data": {
      "text/plain": [
       "(10127, 20)"
      ]
     },
     "execution_count": 17,
     "metadata": {},
     "output_type": "execute_result"
    }
   ],
   "source": [
    "data.shape"
   ]
  },
  {
   "cell_type": "code",
   "execution_count": 18,
   "id": "b3d2b139-4f93-495b-becf-4e85ba5a7ac7",
   "metadata": {
    "scrolled": true
   },
   "outputs": [
    {
     "name": "stdout",
     "output_type": "stream",
     "text": [
      "<class 'pandas.core.frame.DataFrame'>\n",
      "Index: 10127 entries, 0 to 10126\n",
      "Data columns (total 20 columns):\n",
      " #   Column                    Non-Null Count  Dtype  \n",
      "---  ------                    --------------  -----  \n",
      " 0   Attrition_Flag            10127 non-null  object \n",
      " 1   Customer_Age              10127 non-null  int64  \n",
      " 2   Gender                    10127 non-null  object \n",
      " 3   Dependent_count           10127 non-null  int64  \n",
      " 4   Education_Level           10127 non-null  object \n",
      " 5   Marital_Status            10127 non-null  object \n",
      " 6   Income_Category           10127 non-null  object \n",
      " 7   Card_Category             10127 non-null  object \n",
      " 8   Months_on_book            10127 non-null  int64  \n",
      " 9   Total_Relationship_Count  10127 non-null  int64  \n",
      " 10  Months_Inactive_12_mon    10127 non-null  int64  \n",
      " 11  Contacts_Count_12_mon     10127 non-null  int64  \n",
      " 12  Credit_Limit              10127 non-null  float64\n",
      " 13  Total_Revolving_Bal       10127 non-null  int64  \n",
      " 14  Avg_Open_To_Buy           10127 non-null  float64\n",
      " 15  Total_Amt_Chng_Q4_Q1      10127 non-null  float64\n",
      " 16  Total_Trans_Amt           10127 non-null  int64  \n",
      " 17  Total_Trans_Ct            10127 non-null  int64  \n",
      " 18  Total_Ct_Chng_Q4_Q1       10127 non-null  float64\n",
      " 19  Avg_Utilization_Ratio     10127 non-null  float64\n",
      "dtypes: float64(5), int64(9), object(6)\n",
      "memory usage: 1.6+ MB\n"
     ]
    }
   ],
   "source": [
    "data.info()"
   ]
  },
  {
   "cell_type": "code",
   "execution_count": 19,
   "id": "9baf6cb2-413a-4f3e-9f9d-032e2e64657c",
   "metadata": {},
   "outputs": [
    {
     "name": "stdout",
     "output_type": "stream",
     "text": [
      "{'Existing Customer': 0, 'Attrited Customer': 1}\n"
     ]
    }
   ],
   "source": [
    "attrition_dict = {attrition:index for index, attrition in enumerate(data['Attrition_Flag'].unique())}\n",
    "print(attrition_dict)"
   ]
  },
  {
   "cell_type": "code",
   "execution_count": 20,
   "id": "c51af117-38f7-4c65-891f-e20df4ff42da",
   "metadata": {},
   "outputs": [
    {
     "data": {
      "text/plain": [
       "array(['Existing Customer', 'Attrited Customer'], dtype=object)"
      ]
     },
     "execution_count": 20,
     "metadata": {},
     "output_type": "execute_result"
    }
   ],
   "source": [
    "data['Attrition_Flag'].unique()"
   ]
  },
  {
   "cell_type": "code",
   "execution_count": 21,
   "id": "e9874d3c-693f-40ce-b86a-2ef30ecfdab8",
   "metadata": {},
   "outputs": [],
   "source": [
    "\"\"\"\n",
    "    1, Attrition_Flag\n",
    "\"\"\"\n",
    "# 判断有多少个离散的状态\n",
    "data[\"Attrition_Flag\"].unique()\n",
    "# 构建 状态字典\n",
    "attrition_dict = {attrition:idx for idx, attrition in enumerate(data[\"Attrition_Flag\"].unique())}\n",
    "# 更新对应的列\n",
    "data[\"Attrition_Flag\"] = data[\"Attrition_Flag\"].apply(func=lambda ele: attrition_dict[ele])\n",
    "idx2label = {idx: attrition for attrition, idx in attrition_dict.items()}"
   ]
  },
  {
   "cell_type": "code",
   "execution_count": 22,
   "id": "256c3c87-725f-4986-824a-473c9f91762b",
   "metadata": {},
   "outputs": [
    {
     "data": {
      "text/plain": [
       "np.int64(0)"
      ]
     },
     "execution_count": 22,
     "metadata": {},
     "output_type": "execute_result"
    }
   ],
   "source": [
    "\"\"\"\n",
    "    2, Customer_Age\n",
    "\n",
    "    | 按位或\n",
    "    & 按位与\n",
    "    ! 按位取反\n",
    "\"\"\"\n",
    "# 异常判断\n",
    "((data[\"Customer_Age\"] < 0) | (data[\"Customer_Age\"] > 150)).sum()"
   ]
  },
  {
   "cell_type": "code",
   "execution_count": 23,
   "id": "31286fb2-1fbe-4120-a20b-e487bd04af9a",
   "metadata": {},
   "outputs": [],
   "source": [
    "\"\"\"\n",
    "    3, Gender\n",
    "\"\"\"\n",
    "# 判断有多少个离散的状态\n",
    "data[\"Gender\"].unique()\n",
    "# 构建 状态字典\n",
    "gender_dict = {gender: idx for idx, gender in enumerate(data[\"Gender\"].unique())}\n",
    "# 更新对应的列\n",
    "data[\"Gender\"] = data[\"Gender\"].apply(func=lambda ele: gender_dict[ele])"
   ]
  },
  {
   "cell_type": "code",
   "execution_count": 24,
   "id": "01a1bb58-2edc-4421-9bc7-4a2209b787f0",
   "metadata": {},
   "outputs": [
    {
     "data": {
      "text/plain": [
       "array([3, 5, 4, 2, 0, 1])"
      ]
     },
     "execution_count": 24,
     "metadata": {},
     "output_type": "execute_result"
    }
   ],
   "source": [
    "\"\"\"\n",
    "    4, Dependent_count\n",
    "\"\"\"\n",
    "data[\"Dependent_count\"].unique()"
   ]
  },
  {
   "cell_type": "code",
   "execution_count": 25,
   "id": "54364a9d-ad05-4b0b-8712-b6bbc0cc2164",
   "metadata": {},
   "outputs": [],
   "source": [
    "\"\"\"\n",
    "    5, Education_Level\n",
    "\"\"\"\n",
    "data[\"Education_Level\"].unique()\n",
    "# 构建 状态字典\n",
    "education_dict = {education: idx for idx, education in enumerate(data[\"Education_Level\"].unique())}\n",
    "# 更新对应的列\n",
    "data[\"Education_Level\"] = data[\"Education_Level\"].apply(func=lambda ele: education_dict[ele])"
   ]
  },
  {
   "cell_type": "code",
   "execution_count": 26,
   "id": "61fdc202-ab36-4e3d-8a3a-c19ebc503ca9",
   "metadata": {},
   "outputs": [],
   "source": [
    "\"\"\"\n",
    "    6, Marital_Status\n",
    "\"\"\"\n",
    "data[\"Marital_Status\"].unique()\n",
    "# 构建 状态字典\n",
    "marital_dict = {marital: idx for idx, marital in enumerate(data[\"Marital_Status\"].unique())}\n",
    "# 更新对应的列\n",
    "data[\"Marital_Status\"] = data[\"Marital_Status\"].apply(func=lambda ele: marital_dict[ele])"
   ]
  },
  {
   "cell_type": "code",
   "execution_count": 27,
   "id": "c4c22110-b811-43ee-a609-1262c229811e",
   "metadata": {},
   "outputs": [],
   "source": [
    "\"\"\"\n",
    "    7, Income_Category\n",
    "\"\"\"\n",
    "data[\"Income_Category\"].unique()\n",
    "# 构建 状态字典\n",
    "income_dict = {income: idx for idx, income in enumerate(data[\"Income_Category\"].unique())}\n",
    "# 更新对应的列\n",
    "data[\"Income_Category\"] = data[\"Income_Category\"].apply(func=lambda ele: income_dict[ele])"
   ]
  },
  {
   "cell_type": "code",
   "execution_count": 28,
   "id": "87df0d3f-d838-4180-9cbf-81e41aad772f",
   "metadata": {},
   "outputs": [],
   "source": [
    "\"\"\"\n",
    "    8，Card_Category\n",
    "\"\"\"\n",
    "data[\"Card_Category\"].unique()\n",
    "# 构建 状态字典\n",
    "card_dict = {card: idx for idx, card in enumerate(data[\"Card_Category\"].unique())}\n",
    "# 更新对应的列\n",
    "data[\"Card_Category\"] = data[\"Card_Category\"].apply(func=lambda ele: card_dict[ele])"
   ]
  },
  {
   "cell_type": "code",
   "execution_count": 29,
   "id": "e5c5770e-b4b0-43ab-8fcb-7767f3188bd9",
   "metadata": {},
   "outputs": [
    {
     "data": {
      "text/plain": [
       "array([39, 44, 36, 34, 21, 46, 27, 31, 54, 30, 48, 37, 56, 42, 49, 33, 28,\n",
       "       38, 41, 43, 45, 52, 40, 50, 35, 47, 32, 20, 29, 25, 53, 24, 55, 23,\n",
       "       22, 26, 13, 51, 19, 15, 17, 18, 16, 14])"
      ]
     },
     "execution_count": 29,
     "metadata": {},
     "output_type": "execute_result"
    }
   ],
   "source": [
    "\"\"\"\n",
    "    9, Months_on_book\n",
    "\"\"\"\n",
    "data[\"Months_on_book\"].unique()"
   ]
  },
  {
   "cell_type": "code",
   "execution_count": 30,
   "id": "a9405a59-aa09-45c9-a3d7-55a02d446049",
   "metadata": {},
   "outputs": [
    {
     "data": {
      "text/plain": [
       "array([5, 6, 4, 3, 2, 1])"
      ]
     },
     "execution_count": 30,
     "metadata": {},
     "output_type": "execute_result"
    }
   ],
   "source": [
    "\"\"\"\n",
    "    10, Total_Relationship_Count\n",
    "\"\"\"\n",
    "data[\"Total_Relationship_Count\"].unique()"
   ]
  },
  {
   "cell_type": "code",
   "execution_count": 31,
   "id": "7bdff147-229a-4743-91fb-a92d4e4be2a2",
   "metadata": {},
   "outputs": [
    {
     "data": {
      "text/plain": [
       "array([1, 4, 2, 3, 6, 0, 5])"
      ]
     },
     "execution_count": 31,
     "metadata": {},
     "output_type": "execute_result"
    }
   ],
   "source": [
    "\"\"\"\n",
    "    11, Months_Inactive_12_mon\n",
    "\"\"\"\n",
    "data[\"Months_Inactive_12_mon\"].unique()"
   ]
  },
  {
   "cell_type": "code",
   "execution_count": 32,
   "id": "164b586f-72c5-4b79-b99c-59cdda908b6e",
   "metadata": {},
   "outputs": [
    {
     "data": {
      "text/plain": [
       "array([3, 2, 0, 1, 4, 5, 6])"
      ]
     },
     "execution_count": 32,
     "metadata": {},
     "output_type": "execute_result"
    }
   ],
   "source": [
    "\"\"\"\n",
    "    12, Contacts_Count_12_mon\n",
    "\"\"\"\n",
    "data[\"Contacts_Count_12_mon\"].unique()"
   ]
  },
  {
   "cell_type": "code",
   "execution_count": 33,
   "id": "6a254149-5f84-405a-9444-c4375b4a6f46",
   "metadata": {},
   "outputs": [
    {
     "data": {
      "text/plain": [
       "(np.float64(1438.3), np.float64(34516.0), np.float64(8631.953698034955))"
      ]
     },
     "execution_count": 33,
     "metadata": {},
     "output_type": "execute_result"
    }
   ],
   "source": [
    "\"\"\"\n",
    "    13, Credit_Limit\n",
    "\"\"\"\n",
    "data[\"Credit_Limit\"].min(), data[\"Credit_Limit\"].max(), data[\"Credit_Limit\"].mean()"
   ]
  },
  {
   "cell_type": "code",
   "execution_count": 34,
   "id": "b6daec41-7811-4e48-b5c5-8f6fdd3e2b53",
   "metadata": {},
   "outputs": [
    {
     "data": {
      "text/plain": [
       "(np.int64(0), np.int64(2517), np.float64(1162.8140614199665))"
      ]
     },
     "execution_count": 34,
     "metadata": {},
     "output_type": "execute_result"
    }
   ],
   "source": [
    "\"\"\"\n",
    "    14, Total_Revolving_Bal\n",
    "\"\"\"\n",
    "data[\"Total_Revolving_Bal\"].min(), data[\"Total_Revolving_Bal\"].max(), data[\"Total_Revolving_Bal\"].mean()"
   ]
  },
  {
   "cell_type": "code",
   "execution_count": 35,
   "id": "cb0b3e5c-cf4f-4e22-ae69-6063c92bc3df",
   "metadata": {},
   "outputs": [
    {
     "data": {
      "text/plain": [
       "(np.float64(3.0), np.float64(34516.0), np.float64(7469.139636614989))"
      ]
     },
     "execution_count": 35,
     "metadata": {},
     "output_type": "execute_result"
    }
   ],
   "source": [
    "\"\"\"\n",
    "    15, Avg_Open_To_Buy\n",
    "\"\"\"\n",
    "data[\"Avg_Open_To_Buy\"].min(), data[\"Avg_Open_To_Buy\"].max(), data[\"Avg_Open_To_Buy\"].mean()"
   ]
  },
  {
   "cell_type": "code",
   "execution_count": 36,
   "id": "7d991c68-abac-4f8e-b06a-44cd712dd64c",
   "metadata": {},
   "outputs": [
    {
     "data": {
      "text/plain": [
       "(np.float64(0.0), np.float64(3.397), np.float64(0.7599406536980349))"
      ]
     },
     "execution_count": 36,
     "metadata": {},
     "output_type": "execute_result"
    }
   ],
   "source": [
    "\"\"\"\n",
    "    16, Total_Amt_Chng_Q4_Q1\n",
    "\"\"\"\n",
    "data[\"Total_Amt_Chng_Q4_Q1\"].min(), data[\"Total_Amt_Chng_Q4_Q1\"].max(), data[\"Total_Amt_Chng_Q4_Q1\"].mean()"
   ]
  },
  {
   "cell_type": "code",
   "execution_count": 37,
   "id": "93fd1657-88cc-4171-9679-31b566dd542b",
   "metadata": {},
   "outputs": [
    {
     "data": {
      "text/plain": [
       "(np.int64(510), np.int64(18484), np.float64(4404.086303939963))"
      ]
     },
     "execution_count": 37,
     "metadata": {},
     "output_type": "execute_result"
    }
   ],
   "source": [
    "\"\"\"\n",
    "    17, Total_Trans_Amt\n",
    "\"\"\"\n",
    "data[\"Total_Trans_Amt\"].min(), data[\"Total_Trans_Amt\"].max(), data[\"Total_Trans_Amt\"].mean()"
   ]
  },
  {
   "cell_type": "code",
   "execution_count": 38,
   "id": "d6861eb1-5854-4354-b7c0-eb5b0abc8f7a",
   "metadata": {},
   "outputs": [
    {
     "data": {
      "text/plain": [
       "(np.int64(10), np.int64(139), np.float64(64.85869457884863))"
      ]
     },
     "execution_count": 38,
     "metadata": {},
     "output_type": "execute_result"
    }
   ],
   "source": [
    "\"\"\"\n",
    "    18, Total_Trans_Ct\n",
    "\"\"\"\n",
    "data[\"Total_Trans_Ct\"].min(), data[\"Total_Trans_Ct\"].max(), data[\"Total_Trans_Ct\"].mean()"
   ]
  },
  {
   "cell_type": "code",
   "execution_count": 39,
   "id": "f2d5dd11-0117-4742-abde-83fe00d0662c",
   "metadata": {},
   "outputs": [
    {
     "data": {
      "text/plain": [
       "(np.float64(0.0), np.float64(3.714), np.float64(0.7122223758269972))"
      ]
     },
     "execution_count": 39,
     "metadata": {},
     "output_type": "execute_result"
    }
   ],
   "source": [
    "\"\"\"\n",
    "    19, Total_Ct_Chng_Q4_Q1\n",
    "\"\"\"\n",
    "data[\"Total_Ct_Chng_Q4_Q1\"].min(), data[\"Total_Ct_Chng_Q4_Q1\"].max(), data[\"Total_Ct_Chng_Q4_Q1\"].mean()"
   ]
  },
  {
   "cell_type": "code",
   "execution_count": 40,
   "id": "f4a1ec0a-6e26-404c-b043-0a021eb4a056",
   "metadata": {},
   "outputs": [
    {
     "data": {
      "text/plain": [
       "(np.float64(0.0), np.float64(0.999), np.float64(0.2748935518909845))"
      ]
     },
     "execution_count": 40,
     "metadata": {},
     "output_type": "execute_result"
    }
   ],
   "source": [
    "\"\"\"\n",
    "    20，Avg_Utilization_Ratio\n",
    "\"\"\"\n",
    "data[\"Avg_Utilization_Ratio\"].min(), data[\"Avg_Utilization_Ratio\"].max(), data[\"Avg_Utilization_Ratio\"].mean()"
   ]
  },
  {
   "cell_type": "code",
   "execution_count": 41,
   "id": "52799ef1-1f66-416a-bd96-3fc69ed84378",
   "metadata": {},
   "outputs": [
    {
     "data": {
      "text/html": [
       "<div>\n",
       "<style scoped>\n",
       "    .dataframe tbody tr th:only-of-type {\n",
       "        vertical-align: middle;\n",
       "    }\n",
       "\n",
       "    .dataframe tbody tr th {\n",
       "        vertical-align: top;\n",
       "    }\n",
       "\n",
       "    .dataframe thead th {\n",
       "        text-align: right;\n",
       "    }\n",
       "</style>\n",
       "<table border=\"1\" class=\"dataframe\">\n",
       "  <thead>\n",
       "    <tr style=\"text-align: right;\">\n",
       "      <th></th>\n",
       "      <th>Attrition_Flag</th>\n",
       "      <th>Customer_Age</th>\n",
       "      <th>Gender</th>\n",
       "      <th>Dependent_count</th>\n",
       "      <th>Education_Level</th>\n",
       "      <th>Marital_Status</th>\n",
       "      <th>Income_Category</th>\n",
       "      <th>Card_Category</th>\n",
       "      <th>Months_on_book</th>\n",
       "      <th>Total_Relationship_Count</th>\n",
       "      <th>Months_Inactive_12_mon</th>\n",
       "      <th>Contacts_Count_12_mon</th>\n",
       "      <th>Credit_Limit</th>\n",
       "      <th>Total_Revolving_Bal</th>\n",
       "      <th>Avg_Open_To_Buy</th>\n",
       "      <th>Total_Amt_Chng_Q4_Q1</th>\n",
       "      <th>Total_Trans_Amt</th>\n",
       "      <th>Total_Trans_Ct</th>\n",
       "      <th>Total_Ct_Chng_Q4_Q1</th>\n",
       "      <th>Avg_Utilization_Ratio</th>\n",
       "    </tr>\n",
       "  </thead>\n",
       "  <tbody>\n",
       "    <tr>\n",
       "      <th>8903</th>\n",
       "      <td>1</td>\n",
       "      <td>52</td>\n",
       "      <td>1</td>\n",
       "      <td>2</td>\n",
       "      <td>1</td>\n",
       "      <td>1</td>\n",
       "      <td>5</td>\n",
       "      <td>0</td>\n",
       "      <td>41</td>\n",
       "      <td>2</td>\n",
       "      <td>3</td>\n",
       "      <td>3</td>\n",
       "      <td>3608.0</td>\n",
       "      <td>2517</td>\n",
       "      <td>1091.0</td>\n",
       "      <td>1.057</td>\n",
       "      <td>4907</td>\n",
       "      <td>53</td>\n",
       "      <td>0.559</td>\n",
       "      <td>0.698</td>\n",
       "    </tr>\n",
       "    <tr>\n",
       "      <th>8897</th>\n",
       "      <td>0</td>\n",
       "      <td>45</td>\n",
       "      <td>0</td>\n",
       "      <td>4</td>\n",
       "      <td>1</td>\n",
       "      <td>1</td>\n",
       "      <td>4</td>\n",
       "      <td>3</td>\n",
       "      <td>34</td>\n",
       "      <td>2</td>\n",
       "      <td>2</td>\n",
       "      <td>1</td>\n",
       "      <td>34516.0</td>\n",
       "      <td>1488</td>\n",
       "      <td>33028.0</td>\n",
       "      <td>0.732</td>\n",
       "      <td>7281</td>\n",
       "      <td>95</td>\n",
       "      <td>0.532</td>\n",
       "      <td>0.043</td>\n",
       "    </tr>\n",
       "    <tr>\n",
       "      <th>1057</th>\n",
       "      <td>0</td>\n",
       "      <td>40</td>\n",
       "      <td>0</td>\n",
       "      <td>2</td>\n",
       "      <td>1</td>\n",
       "      <td>0</td>\n",
       "      <td>2</td>\n",
       "      <td>0</td>\n",
       "      <td>31</td>\n",
       "      <td>5</td>\n",
       "      <td>1</td>\n",
       "      <td>2</td>\n",
       "      <td>18693.0</td>\n",
       "      <td>2052</td>\n",
       "      <td>16641.0</td>\n",
       "      <td>0.500</td>\n",
       "      <td>1516</td>\n",
       "      <td>44</td>\n",
       "      <td>0.630</td>\n",
       "      <td>0.110</td>\n",
       "    </tr>\n",
       "  </tbody>\n",
       "</table>\n",
       "</div>"
      ],
      "text/plain": [
       "      Attrition_Flag  Customer_Age  Gender  Dependent_count  Education_Level  \\\n",
       "8903               1            52       1                2                1   \n",
       "8897               0            45       0                4                1   \n",
       "1057               0            40       0                2                1   \n",
       "\n",
       "      Marital_Status  Income_Category  Card_Category  Months_on_book  \\\n",
       "8903               1                5              0              41   \n",
       "8897               1                4              3              34   \n",
       "1057               0                2              0              31   \n",
       "\n",
       "      Total_Relationship_Count  Months_Inactive_12_mon  Contacts_Count_12_mon  \\\n",
       "8903                         2                       3                      3   \n",
       "8897                         2                       2                      1   \n",
       "1057                         5                       1                      2   \n",
       "\n",
       "      Credit_Limit  Total_Revolving_Bal  Avg_Open_To_Buy  \\\n",
       "8903        3608.0                 2517           1091.0   \n",
       "8897       34516.0                 1488          33028.0   \n",
       "1057       18693.0                 2052          16641.0   \n",
       "\n",
       "      Total_Amt_Chng_Q4_Q1  Total_Trans_Amt  Total_Trans_Ct  \\\n",
       "8903                 1.057             4907              53   \n",
       "8897                 0.732             7281              95   \n",
       "1057                 0.500             1516              44   \n",
       "\n",
       "      Total_Ct_Chng_Q4_Q1  Avg_Utilization_Ratio  \n",
       "8903                0.559                  0.698  \n",
       "8897                0.532                  0.043  \n",
       "1057                0.630                  0.110  "
      ]
     },
     "execution_count": 41,
     "metadata": {},
     "output_type": "execute_result"
    }
   ],
   "source": [
    "data.sample(n=3)"
   ]
  },
  {
   "cell_type": "markdown",
   "id": "dd99f300-185e-44ae-861b-37b3977b0139",
   "metadata": {},
   "source": [
    "### 4，数据拆分"
   ]
  },
  {
   "cell_type": "code",
   "execution_count": 42,
   "id": "f408b3b6-d889-430a-9272-c451e291454e",
   "metadata": {},
   "outputs": [
    {
     "name": "stdout",
     "output_type": "stream",
     "text": [
      "<class 'pandas.core.frame.DataFrame'>\n",
      "Index: 10127 entries, 0 to 10126\n",
      "Data columns (total 20 columns):\n",
      " #   Column                    Non-Null Count  Dtype  \n",
      "---  ------                    --------------  -----  \n",
      " 0   Attrition_Flag            10127 non-null  int64  \n",
      " 1   Customer_Age              10127 non-null  int64  \n",
      " 2   Gender                    10127 non-null  int64  \n",
      " 3   Dependent_count           10127 non-null  int64  \n",
      " 4   Education_Level           10127 non-null  int64  \n",
      " 5   Marital_Status            10127 non-null  int64  \n",
      " 6   Income_Category           10127 non-null  int64  \n",
      " 7   Card_Category             10127 non-null  int64  \n",
      " 8   Months_on_book            10127 non-null  int64  \n",
      " 9   Total_Relationship_Count  10127 non-null  int64  \n",
      " 10  Months_Inactive_12_mon    10127 non-null  int64  \n",
      " 11  Contacts_Count_12_mon     10127 non-null  int64  \n",
      " 12  Credit_Limit              10127 non-null  float64\n",
      " 13  Total_Revolving_Bal       10127 non-null  int64  \n",
      " 14  Avg_Open_To_Buy           10127 non-null  float64\n",
      " 15  Total_Amt_Chng_Q4_Q1      10127 non-null  float64\n",
      " 16  Total_Trans_Amt           10127 non-null  int64  \n",
      " 17  Total_Trans_Ct            10127 non-null  int64  \n",
      " 18  Total_Ct_Chng_Q4_Q1       10127 non-null  float64\n",
      " 19  Avg_Utilization_Ratio     10127 non-null  float64\n",
      "dtypes: float64(5), int64(15)\n",
      "memory usage: 1.6 MB\n"
     ]
    }
   ],
   "source": [
    "data.info()"
   ]
  },
  {
   "cell_type": "code",
   "execution_count": 43,
   "id": "5a4b9d33-a14c-4aa5-8c3b-a29de22bd6f7",
   "metadata": {},
   "outputs": [],
   "source": [
    "y = data[\"Attrition_Flag\"].to_numpy()"
   ]
  },
  {
   "cell_type": "code",
   "execution_count": 44,
   "id": "5e757663-be36-418d-bb2d-820d3695e8cd",
   "metadata": {},
   "outputs": [],
   "source": [
    "X = data.drop(columns=[\"Attrition_Flag\"]).to_numpy()"
   ]
  },
  {
   "cell_type": "code",
   "execution_count": 45,
   "id": "31bcdf77-ad2c-4870-ba7a-dc2edd64106f",
   "metadata": {},
   "outputs": [
    {
     "data": {
      "text/plain": [
       "((10127, 19), (10127,))"
      ]
     },
     "execution_count": 45,
     "metadata": {},
     "output_type": "execute_result"
    }
   ],
   "source": [
    "X.shape, y.shape"
   ]
  },
  {
   "cell_type": "code",
   "execution_count": 46,
   "id": "31f2632d-acbc-4d33-a734-c86b718103fa",
   "metadata": {},
   "outputs": [],
   "source": [
    "from sklearn.model_selection import train_test_split"
   ]
  },
  {
   "cell_type": "code",
   "execution_count": 47,
   "id": "2ca061a1-fca5-42a5-974a-fd9f07d2a360",
   "metadata": {},
   "outputs": [],
   "source": [
    "X_train, X_test, y_train, y_test = train_test_split(X, y, test_size=0.2, random_state=0)"
   ]
  },
  {
   "cell_type": "code",
   "execution_count": 48,
   "id": "5a3e0033-b3ee-4226-a358-94d8471c8c72",
   "metadata": {
    "scrolled": true
   },
   "outputs": [
    {
     "data": {
      "text/plain": [
       "(8101, 19)"
      ]
     },
     "execution_count": 48,
     "metadata": {},
     "output_type": "execute_result"
    }
   ],
   "source": [
    "X_train.shape"
   ]
  },
  {
   "cell_type": "code",
   "execution_count": 49,
   "id": "eca607ba-b99f-4920-aeab-36880267a7ad",
   "metadata": {},
   "outputs": [
    {
     "data": {
      "text/plain": [
       "(2026, 19)"
      ]
     },
     "execution_count": 49,
     "metadata": {},
     "output_type": "execute_result"
    }
   ],
   "source": [
    "X_test.shape"
   ]
  },
  {
   "cell_type": "code",
   "execution_count": 50,
   "id": "dc764f9e-af5a-4a52-8c88-ba64819b9e56",
   "metadata": {},
   "outputs": [
    {
     "data": {
      "text/plain": [
       "(8101,)"
      ]
     },
     "execution_count": 50,
     "metadata": {},
     "output_type": "execute_result"
    }
   ],
   "source": [
    "y_train.shape"
   ]
  },
  {
   "cell_type": "code",
   "execution_count": 51,
   "id": "818cef80-a9d5-4eeb-8792-37b3d240a353",
   "metadata": {},
   "outputs": [
    {
     "data": {
      "text/plain": [
       "(2026,)"
      ]
     },
     "execution_count": 51,
     "metadata": {},
     "output_type": "execute_result"
    }
   ],
   "source": [
    "y_test.shape"
   ]
  },
  {
   "cell_type": "markdown",
   "id": "54b60ce8-ccd2-4779-a172-cf4614d10588",
   "metadata": {},
   "source": [
    "### 5. 数据标准化处理"
   ]
  },
  {
   "cell_type": "markdown",
   "id": "3bcf166d-ac1e-4937-b350-8f8c16a087fb",
   "metadata": {},
   "source": [
    "标准化的公式：$ x = \\frac{x - \\mu}{\\sigma}$"
   ]
  },
  {
   "cell_type": "code",
   "execution_count": 52,
   "id": "098bfa1f-adad-41aa-9cf8-e4e5f5a02b74",
   "metadata": {},
   "outputs": [],
   "source": [
    "# 从训练集中抽取预处理参数 mu 和 sigma\n",
    "mu = X_train.mean(axis=0)\n",
    "sigma = X_train.std(axis=0)"
   ]
  },
  {
   "cell_type": "code",
   "execution_count": 53,
   "id": "98f7b0c6-654e-48a0-a8c7-f5345e3b5daa",
   "metadata": {},
   "outputs": [
    {
     "data": {
      "text/plain": [
       "array([4.63714356e+01, 5.25984446e-01, 2.35032712e+00, 1.98197753e+00,\n",
       "       7.57931120e-01, 2.02061474e+00, 1.26651031e-01, 3.59549438e+01,\n",
       "       3.81150475e+00, 2.34304407e+00, 2.45562276e+00, 8.69590811e+03,\n",
       "       1.16181360e+03, 7.53409451e+03, 7.59565362e-01, 4.38340995e+03,\n",
       "       6.47243550e+01, 7.12633255e-01, 2.71742871e-01])"
      ]
     },
     "execution_count": 53,
     "metadata": {},
     "output_type": "execute_result"
    }
   ],
   "source": [
    "mu"
   ]
  },
  {
   "cell_type": "code",
   "execution_count": 54,
   "id": "3b7ffbd7-9361-4f81-a7a9-593a1649eca9",
   "metadata": {},
   "outputs": [
    {
     "data": {
      "text/plain": [
       "array([7.99046888e+00, 4.99324352e-01, 1.29434174e+00, 1.68121584e+00,\n",
       "       8.82023834e-01, 1.53964830e+00, 4.82767610e-01, 7.96817019e+00,\n",
       "       1.55566459e+00, 1.01693356e+00, 1.11289068e+00, 9.10740964e+03,\n",
       "       8.19411770e+02, 9.10600361e+03, 2.19319993e-01, 3.39352315e+03,\n",
       "       2.34557564e+01, 2.40238688e-01, 2.74914812e-01])"
      ]
     },
     "execution_count": 54,
     "metadata": {},
     "output_type": "execute_result"
    }
   ],
   "source": [
    "sigma"
   ]
  },
  {
   "cell_type": "code",
   "execution_count": 55,
   "id": "89498286-119a-4985-b440-05b586843ba7",
   "metadata": {},
   "outputs": [
    {
     "data": {
      "text/plain": [
       "array([[5.50e+01, 0.00e+00, 2.00e+00, ..., 3.40e+01, 1.00e+00, 1.41e-01],\n",
       "       [3.20e+01, 0.00e+00, 0.00e+00, ..., 6.80e+01, 4.78e-01, 0.00e+00],\n",
       "       [3.50e+01, 1.00e+00, 4.00e+00, ..., 8.00e+01, 7.02e-01, 1.74e-01],\n",
       "       ...,\n",
       "       [6.00e+01, 0.00e+00, 1.00e+00, ..., 6.70e+01, 9.14e-01, 1.67e-01],\n",
       "       [5.10e+01, 0.00e+00, 3.00e+00, ..., 1.19e+02, 7.76e-01, 4.30e-02],\n",
       "       [5.30e+01, 1.00e+00, 1.00e+00, ..., 3.70e+01, 6.82e-01, 8.13e-01]],\n",
       "      shape=(8101, 19))"
      ]
     },
     "execution_count": 55,
     "metadata": {},
     "output_type": "execute_result"
    }
   ],
   "source": [
    "# 标准化前的X_train\n",
    "X_train"
   ]
  },
  {
   "cell_type": "code",
   "execution_count": 56,
   "id": "1504adf4-6c9e-486d-9de7-1abc375310f5",
   "metadata": {},
   "outputs": [
    {
     "data": {
      "text/plain": [
       "array([[ 44.   ,   0.   ,   5.   , ...,  59.   ,   0.903,   0.1  ],\n",
       "       [ 44.   ,   1.   ,   3.   , ...,  60.   ,   0.538,   0.   ],\n",
       "       [ 37.   ,   1.   ,   3.   , ...,  67.   ,   0.489,   0.76 ],\n",
       "       ...,\n",
       "       [ 52.   ,   1.   ,   2.   , ...,  39.   ,   0.696,   0.881],\n",
       "       [ 42.   ,   1.   ,   3.   , ...,  72.   ,   0.8  ,   0.811],\n",
       "       [ 39.   ,   0.   ,   1.   , ..., 100.   ,   0.695,   0.217]],\n",
       "      shape=(2026, 19))"
      ]
     },
     "execution_count": 56,
     "metadata": {},
     "output_type": "execute_result"
    }
   ],
   "source": [
    "# 标准化前的X_test\n",
    "X_test"
   ]
  },
  {
   "cell_type": "code",
   "execution_count": 57,
   "id": "47db5cf5-e35d-4cb7-84d4-e200e30b8b5f",
   "metadata": {},
   "outputs": [],
   "source": [
    "# 执行标准化操作（执行预处理）\n",
    "# 样本集进行标准化的主要原因是为了消除不同特征之间的量纲影响，使得所有特征能够在同一量级上进行比较和分析。\n",
    "X_train = (X_train - mu) / sigma\n",
    "X_test = (X_test - mu) / sigma"
   ]
  },
  {
   "cell_type": "code",
   "execution_count": 58,
   "id": "1cfd4115-d42d-43bc-b650-d16a9dfa8ecc",
   "metadata": {},
   "outputs": [
    {
     "data": {
      "text/plain": [
       "array([[ 1.07985708, -1.05339234, -0.27066045, ..., -1.30988549,\n",
       "         1.19617181, -0.47557594],\n",
       "       [-1.79857225, -1.05339234, -1.81584743, ...,  0.13965207,\n",
       "        -0.97666724, -0.9884621 ],\n",
       "       [-1.42312495,  0.94931391,  1.27452653, ...,  0.65125357,\n",
       "        -0.04426121, -0.35553876],\n",
       "       ...,\n",
       "       [ 1.70560258, -1.05339234, -1.04325394, ...,  0.09701861,\n",
       "         0.83819449, -0.38100119],\n",
       "       [ 0.57926067, -1.05339234,  0.50193304, ...,  2.31395842,\n",
       "         0.26376578, -0.83205001],\n",
       "       [ 0.82955888,  0.94931391, -1.04325394, ..., -1.18198512,\n",
       "        -0.12751175,  1.96881763]], shape=(8101, 19))"
      ]
     },
     "execution_count": 58,
     "metadata": {},
     "output_type": "execute_result"
    }
   ],
   "source": [
    "# 标准化后的X_train\n",
    "X_train"
   ]
  },
  {
   "cell_type": "code",
   "execution_count": 59,
   "id": "7366cfc3-134e-4c09-a5e8-0163aba9da12",
   "metadata": {},
   "outputs": [
    {
     "data": {
      "text/plain": [
       "array([[-0.29678304, -1.05339234,  2.04712002, ..., -0.24404905,\n",
       "         0.7924067 , -0.62471305],\n",
       "       [-0.29678304,  0.94931391,  0.50193304, ..., -0.20141559,\n",
       "        -0.72691562, -0.9884621 ],\n",
       "       [-1.17282675,  0.94931391,  0.50193304, ...,  0.09701861,\n",
       "        -0.93087944,  1.77603064],\n",
       "       ...,\n",
       "       [ 0.70440977,  0.94931391, -0.27066045, ..., -1.0967182 ,\n",
       "        -0.06923637,  2.21616698],\n",
       "       [-0.54708124,  0.94931391,  0.50193304, ...,  0.3101859 ,\n",
       "         0.36366643,  1.96154265],\n",
       "       [-0.92252854, -1.05339234, -1.04325394, ...,  1.50392272,\n",
       "        -0.0733989 , -0.19912667]], shape=(2026, 19))"
      ]
     },
     "execution_count": 59,
     "metadata": {},
     "output_type": "execute_result"
    }
   ],
   "source": [
    "# 标准化后的X_test\n",
    "X_test"
   ]
  },
  {
   "cell_type": "markdown",
   "id": "6948a94c-a048-4f6e-9fb0-5c439710088e",
   "metadata": {},
   "source": [
    "### 6, 数据保存\n",
    "- 特征编码时的状态字典\n",
    "- 特征的各种异常判断\n",
    "- 标准化处理的参数"
   ]
  },
  {
   "cell_type": "code",
   "execution_count": 60,
   "id": "59fd41b6-4b68-46b4-b65e-d3c56530f7d0",
   "metadata": {},
   "outputs": [],
   "source": [
    "import joblib"
   ]
  },
  {
   "cell_type": "code",
   "execution_count": 61,
   "id": "01e86c95-576b-4446-b23b-fffcf046d99d",
   "metadata": {},
   "outputs": [],
   "source": [
    "state_dict = [idx2label, gender_dict, education_dict, marital_dict, income_dict, card_dict, mu, sigma]\n",
    "data = [X_train, y_train, X_test, y_test]"
   ]
  },
  {
   "cell_type": "code",
   "execution_count": 62,
   "id": "80f60103-498f-489e-9065-4567d3c955af",
   "metadata": {},
   "outputs": [
    {
     "data": {
      "text/plain": [
       "[{0: 'Existing Customer', 1: 'Attrited Customer'},\n",
       " {'M': 0, 'F': 1},\n",
       " {'High School': 0,\n",
       "  'Graduate': 1,\n",
       "  'Uneducated': 2,\n",
       "  'Unknown': 3,\n",
       "  'College': 4,\n",
       "  'Post-Graduate': 5,\n",
       "  'Doctorate': 6},\n",
       " {'Married': 0, 'Single': 1, 'Unknown': 2, 'Divorced': 3},\n",
       " {'$60K - $80K': 0,\n",
       "  'Less than $40K': 1,\n",
       "  '$80K - $120K': 2,\n",
       "  '$40K - $60K': 3,\n",
       "  '$120K +': 4,\n",
       "  'Unknown': 5},\n",
       " {'Blue': 0, 'Gold': 1, 'Silver': 2, 'Platinum': 3},\n",
       " array([4.63714356e+01, 5.25984446e-01, 2.35032712e+00, 1.98197753e+00,\n",
       "        7.57931120e-01, 2.02061474e+00, 1.26651031e-01, 3.59549438e+01,\n",
       "        3.81150475e+00, 2.34304407e+00, 2.45562276e+00, 8.69590811e+03,\n",
       "        1.16181360e+03, 7.53409451e+03, 7.59565362e-01, 4.38340995e+03,\n",
       "        6.47243550e+01, 7.12633255e-01, 2.71742871e-01]),\n",
       " array([7.99046888e+00, 4.99324352e-01, 1.29434174e+00, 1.68121584e+00,\n",
       "        8.82023834e-01, 1.53964830e+00, 4.82767610e-01, 7.96817019e+00,\n",
       "        1.55566459e+00, 1.01693356e+00, 1.11289068e+00, 9.10740964e+03,\n",
       "        8.19411770e+02, 9.10600361e+03, 2.19319993e-01, 3.39352315e+03,\n",
       "        2.34557564e+01, 2.40238688e-01, 2.74914812e-01])]"
      ]
     },
     "execution_count": 62,
     "metadata": {},
     "output_type": "execute_result"
    }
   ],
   "source": [
    "state_dict"
   ]
  },
  {
   "cell_type": "code",
   "execution_count": 63,
   "id": "22e3db69-c147-4e94-9438-6c95c0b41005",
   "metadata": {},
   "outputs": [
    {
     "data": {
      "text/plain": [
       "[array([[ 1.07985708, -1.05339234, -0.27066045, ..., -1.30988549,\n",
       "          1.19617181, -0.47557594],\n",
       "        [-1.79857225, -1.05339234, -1.81584743, ...,  0.13965207,\n",
       "         -0.97666724, -0.9884621 ],\n",
       "        [-1.42312495,  0.94931391,  1.27452653, ...,  0.65125357,\n",
       "         -0.04426121, -0.35553876],\n",
       "        ...,\n",
       "        [ 1.70560258, -1.05339234, -1.04325394, ...,  0.09701861,\n",
       "          0.83819449, -0.38100119],\n",
       "        [ 0.57926067, -1.05339234,  0.50193304, ...,  2.31395842,\n",
       "          0.26376578, -0.83205001],\n",
       "        [ 0.82955888,  0.94931391, -1.04325394, ..., -1.18198512,\n",
       "         -0.12751175,  1.96881763]], shape=(8101, 19)),\n",
       " array([0, 0, 0, ..., 0, 0, 0], shape=(8101,)),\n",
       " array([[-0.29678304, -1.05339234,  2.04712002, ..., -0.24404905,\n",
       "          0.7924067 , -0.62471305],\n",
       "        [-0.29678304,  0.94931391,  0.50193304, ..., -0.20141559,\n",
       "         -0.72691562, -0.9884621 ],\n",
       "        [-1.17282675,  0.94931391,  0.50193304, ...,  0.09701861,\n",
       "         -0.93087944,  1.77603064],\n",
       "        ...,\n",
       "        [ 0.70440977,  0.94931391, -0.27066045, ..., -1.0967182 ,\n",
       "         -0.06923637,  2.21616698],\n",
       "        [-0.54708124,  0.94931391,  0.50193304, ...,  0.3101859 ,\n",
       "          0.36366643,  1.96154265],\n",
       "        [-0.92252854, -1.05339234, -1.04325394, ...,  1.50392272,\n",
       "         -0.0733989 , -0.19912667]], shape=(2026, 19)),\n",
       " array([0, 1, 0, ..., 1, 0, 0], shape=(2026,))]"
      ]
     },
     "execution_count": 63,
     "metadata": {},
     "output_type": "execute_result"
    }
   ],
   "source": [
    "data"
   ]
  },
  {
   "cell_type": "code",
   "execution_count": 64,
   "id": "94e13bd8-c71d-4dbb-8fde-f142767aad0f",
   "metadata": {},
   "outputs": [
    {
     "data": {
      "text/plain": [
       "['all_data.lxh']"
      ]
     },
     "execution_count": 64,
     "metadata": {},
     "output_type": "execute_result"
    }
   ],
   "source": [
    "joblib.dump(value=[state_dict, data], filename=\"all_data.lxh\")"
   ]
  }
 ],
 "metadata": {
  "kernelspec": {
   "display_name": "Python(py311)",
   "language": "python",
   "name": "py311"
  },
  "language_info": {
   "codemirror_mode": {
    "name": "ipython",
    "version": 3
   },
   "file_extension": ".py",
   "mimetype": "text/x-python",
   "name": "python",
   "nbconvert_exporter": "python",
   "pygments_lexer": "ipython3",
   "version": "3.11.11"
  }
 },
 "nbformat": 4,
 "nbformat_minor": 5
}
