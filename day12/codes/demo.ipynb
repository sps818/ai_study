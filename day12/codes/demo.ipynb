{
 "cells": [
  {
   "cell_type": "code",
   "execution_count": 1,
   "id": "b6399d63",
   "metadata": {},
   "outputs": [],
   "source": [
    "import torch\n",
    "from torch import nn\n",
    "from torch.nn import functional as F\n",
    "\n",
    "from torchvision import datasets\n",
    "from torchvision import transforms\n",
    "from torch.utils.data import DataLoader\n",
    "\n",
    "from matplotlib import pyplot as plt\n",
    "\n",
    "from matplotlib import gridspec\n",
    "\n",
    "import numpy as np\n",
    "\n",
    "import os\n",
    "os.environ[\"KMP_DUPLICATE_LIB_OK\"]=\"TRUE\"\n",
    "\n",
    "from IPython import display"
   ]
  },
  {
   "cell_type": "code",
   "execution_count": 2,
   "id": "d9eb0c00",
   "metadata": {},
   "outputs": [
    {
     "data": {
      "text/plain": [
       "'cuda:0'"
      ]
     },
     "execution_count": 2,
     "metadata": {},
     "output_type": "execute_result"
    }
   ],
   "source": [
    "# 判断是否有GPU\n",
    "\n",
    "device = \"cuda:0\" if torch.cuda.is_available() else \"cpu\"\n",
    "device"
   ]
  },
  {
   "cell_type": "code",
   "execution_count": 3,
   "id": "3adb1aca",
   "metadata": {},
   "outputs": [],
   "source": [
    "\"\"\"\n",
    "    加载数据\n",
    "    - 模仿的对象\n",
    "    - 真品\n",
    "\"\"\"\n",
    "\n",
    "# 加载并预处理图像\n",
    "data = datasets.MNIST(root=\"data\", \n",
    "                      train=True, \n",
    "                      transform = transforms.Compose(transforms=[transforms.ToTensor(),\n",
    "                                                                transforms.Normalize(mean=[0.5], \n",
    "                                                                                     std=[0.5])]),\n",
    "                      download=True)\n",
    "# 封装成 DataLoader\n",
    "data_loader = DataLoader(dataset=data, batch_size=100, shuffle=True)"
   ]
  },
  {
   "cell_type": "code",
   "execution_count": 4,
   "id": "213afb54",
   "metadata": {},
   "outputs": [
    {
     "name": "stdout",
     "output_type": "stream",
     "text": [
      "torch.Size([100, 1, 28, 28])\n",
      "torch.Size([100])\n"
     ]
    }
   ],
   "source": [
    "for image, label in data_loader:\n",
    "    print(image.shape)\n",
    "    print(label.shape)\n",
    "    break"
   ]
  },
  {
   "cell_type": "markdown",
   "id": "74ebc52b-6f41-46ea-b18f-96477584c0c7",
   "metadata": {},
   "source": [
    "#### 核心的GAN思想"
   ]
  },
  {
   "cell_type": "code",
   "execution_count": 5,
   "id": "f0662964",
   "metadata": {},
   "outputs": [],
   "source": [
    "\"\"\"\n",
    "    定义生成器\n",
    "\"\"\"\n",
    "\n",
    "class Generator(nn.Module):\n",
    "    \"\"\"\n",
    "        定义一个图像生成\n",
    "        输入：一个向量(随机噪声，随机数)\n",
    "        输出：一个向量（代表图像，28 * 28）\n",
    "    \"\"\"\n",
    "    def __init__(self, in_features=128, out_features=28 * 28):\n",
    "        \"\"\"\n",
    "            挂载超参数\n",
    "        \"\"\"\n",
    "        # 先初始化父类，再初始化子类\n",
    "        super(Generator, self).__init__()\n",
    "        \n",
    "        self.in_features = in_features\n",
    "        self.out_features = out_features\n",
    "        \n",
    "        # 第一个隐藏层\n",
    "        self.hidden0 = nn.Linear(in_features=self.in_features, out_features=256)\n",
    "        \n",
    "        # 第二个隐藏层\n",
    "        self.hidden1 = nn.Linear(in_features=256, out_features=512)\n",
    "        \n",
    "        # 第三个隐藏层\n",
    "        self.hidden2 = nn.Linear(in_features=512, out_features=self.out_features)\n",
    "    \n",
    "    def forward(self, x):\n",
    "        \n",
    "        # 第一层 [b, 128] --> [b, 256]\n",
    "        h = self.hidden0(x)\n",
    "        h = F.leaky_relu(input=h, negative_slope=0.2)\n",
    "        \n",
    "        # 第二层 [b, 256] --> [b, 512]\n",
    "        h = self.hidden1(h)\n",
    "        h = F.leaky_relu(input=h, negative_slope=0.2)\n",
    "        \n",
    "        # 第三层 [b, 512] --> [b, 28 * 28]\n",
    "        h = self.hidden2(h)\n",
    "        \n",
    "        # 压缩数据的变化范围\n",
    "        o = torch.tanh(h)\n",
    "        \n",
    "        return o"
   ]
  },
  {
   "cell_type": "code",
   "execution_count": 6,
   "id": "dabdd8ed-1335-4b06-b414-7ef5cc0d88c3",
   "metadata": {},
   "outputs": [
    {
     "data": {
      "text/plain": [
       "Generator(\n",
       "  (hidden0): Linear(in_features=128, out_features=256, bias=True)\n",
       "  (hidden1): Linear(in_features=256, out_features=512, bias=True)\n",
       "  (hidden2): Linear(in_features=512, out_features=784, bias=True)\n",
       ")"
      ]
     },
     "execution_count": 6,
     "metadata": {},
     "output_type": "execute_result"
    }
   ],
   "source": [
    "g = Generator()\n",
    "g"
   ]
  },
  {
   "cell_type": "code",
   "execution_count": 7,
   "id": "9550e835",
   "metadata": {},
   "outputs": [],
   "source": [
    "\"\"\"\n",
    "    定义一个鉴别器\n",
    "\"\"\"\n",
    "\n",
    "class Discriminator(nn.Module):\n",
    "    \"\"\"\n",
    "        本质：二分类分类器\n",
    "        输入：一个对象\n",
    "        输出：真品还是赝品\n",
    "    \"\"\"\n",
    "    def __init__(self, in_features=28*28, out_features=1):\n",
    "        super(Discriminator, self).__init__()\n",
    "        \n",
    "        self.in_features=in_features\n",
    "        self.out_features=out_features\n",
    "        \n",
    "        # 第一个隐藏层\n",
    "        self.hidden0= nn.Linear(in_features=self.in_features, out_features=512)\n",
    "        \n",
    "        # 第二个隐藏层\n",
    "        self.hidden1= nn.Linear(in_features=512, out_features=256)\n",
    "        \n",
    "        # 第三个隐藏层\n",
    "        self.hidden2= nn.Linear(in_features=256, out_features=32)\n",
    "        \n",
    "        # 第四个隐藏层\n",
    "        self.hidden3= nn.Linear(in_features=32, out_features=self.out_features)\n",
    "        \n",
    "    \n",
    "    def forward(self, x):\n",
    "        \n",
    "        # 第一层\n",
    "        h = self.hidden0(x)\n",
    "        h = F.leaky_relu(input=h, negative_slope=0.2)\n",
    "        h = F.dropout(input=h, p=0.2)\n",
    "        \n",
    "        # 第二层\n",
    "        h = self.hidden1(h)\n",
    "        h = F.leaky_relu(input=h, negative_slope=0.2)\n",
    "        h = F.dropout(input=h, p=0.2)\n",
    "        \n",
    "        # 第三层\n",
    "        h = self.hidden2(h)\n",
    "        h = F.leaky_relu(input=h, negative_slope=0.2)\n",
    "        h = F.dropout(input=h, p=0.2)\n",
    "        \n",
    "        # 第四层\n",
    "        h = self.hidden3(h)\n",
    "        \n",
    "        # 输出概率\n",
    "        o = torch.sigmoid(h)\n",
    "        \n",
    "        return o"
   ]
  },
  {
   "cell_type": "code",
   "execution_count": 8,
   "id": "678147aa-7fa3-4af6-b125-e4c6436788b4",
   "metadata": {},
   "outputs": [
    {
     "data": {
      "text/plain": [
       "Discriminator(\n",
       "  (hidden0): Linear(in_features=784, out_features=512, bias=True)\n",
       "  (hidden1): Linear(in_features=512, out_features=256, bias=True)\n",
       "  (hidden2): Linear(in_features=256, out_features=32, bias=True)\n",
       "  (hidden3): Linear(in_features=32, out_features=1, bias=True)\n",
       ")"
      ]
     },
     "execution_count": 8,
     "metadata": {},
     "output_type": "execute_result"
    }
   ],
   "source": [
    "d = Discriminator()\n",
    "d"
   ]
  },
  {
   "cell_type": "code",
   "execution_count": 9,
   "id": "f9acef33",
   "metadata": {},
   "outputs": [
    {
     "data": {
      "text/plain": [
       "Discriminator(\n",
       "  (hidden0): Linear(in_features=784, out_features=512, bias=True)\n",
       "  (hidden1): Linear(in_features=512, out_features=256, bias=True)\n",
       "  (hidden2): Linear(in_features=256, out_features=32, bias=True)\n",
       "  (hidden3): Linear(in_features=32, out_features=1, bias=True)\n",
       ")"
      ]
     },
     "execution_count": 9,
     "metadata": {},
     "output_type": "execute_result"
    }
   ],
   "source": [
    "\"\"\"\n",
    "    构建模型\n",
    "\"\"\"\n",
    "# 定义一个生成器\n",
    "generator = Generator(in_features=128, out_features=784)\n",
    "generator.to(device=device)\n",
    "\n",
    "# 定义一个鉴别器\n",
    "discriminator = Discriminator(in_features=784, out_features=1)\n",
    "discriminator.to(device=device)"
   ]
  },
  {
   "cell_type": "code",
   "execution_count": 10,
   "id": "88cb9255",
   "metadata": {},
   "outputs": [],
   "source": [
    "\"\"\"\n",
    "    定义优化器\n",
    "\"\"\"\n",
    "\n",
    "# 定义一个生成器的优化器\n",
    "g_optimizer = torch.optim.Adam(params=generator.parameters(), lr=1e-4)\n",
    "\n",
    "# 定义一个鉴别的优化器\n",
    "d_optimizer = torch.optim.Adam(params=discriminator.parameters(), lr=1e-4)"
   ]
  },
  {
   "cell_type": "code",
   "execution_count": 11,
   "id": "1886dd52",
   "metadata": {},
   "outputs": [],
   "source": [
    "\"\"\"\n",
    "    定义一个损失函数\n",
    "\"\"\"\n",
    "loss_fn = nn.BCELoss()"
   ]
  },
  {
   "cell_type": "code",
   "execution_count": 12,
   "id": "361ea6e4",
   "metadata": {},
   "outputs": [],
   "source": [
    "# 定义训练轮次\n",
    "num_epochs = 1000"
   ]
  },
  {
   "cell_type": "code",
   "execution_count": 13,
   "id": "5b7af8d3",
   "metadata": {},
   "outputs": [],
   "source": [
    "\"\"\"\n",
    "    获取数据的标签\n",
    "\"\"\"\n",
    "\n",
    "def get_real_data_labels(size):\n",
    "    \"\"\"\n",
    "        获取真实数据的标签（待模仿的数据）\n",
    "        所有的真实数据标签都是1\n",
    "    \"\"\"\n",
    "    labels = torch.ones(size, 1, device=device)\n",
    "    \n",
    "    return labels\n",
    "\n",
    "def get_fake_data_labels(size):\n",
    "    \"\"\"\n",
    "        获取虚假数据的标签（生成器生成的）\n",
    "        所有的假数据，标签都是 0\n",
    "    \"\"\"\n",
    "    labels = torch.zeros(size, 1, device=device)\n",
    "    \n",
    "    return labels"
   ]
  },
  {
   "cell_type": "code",
   "execution_count": 14,
   "id": "c8592d6c",
   "metadata": {},
   "outputs": [],
   "source": [
    "\"\"\"\n",
    "    噪声生成器\n",
    "\"\"\"\n",
    "def get_noise(size):\n",
    "    \"\"\"\n",
    "        给生成器准备数据\n",
    "        - 128维度的向量\n",
    "    \"\"\"\n",
    "    X = torch.randn(size, 128, device=device)\n",
    "    \n",
    "    return X"
   ]
  },
  {
   "cell_type": "code",
   "execution_count": 15,
   "id": "3e86e064",
   "metadata": {},
   "outputs": [
    {
     "data": {
      "text/plain": [
       "tensor([[ 0.7035, -0.8111, -2.4900,  ..., -0.6464,  0.6331, -0.4489],\n",
       "        [ 0.5030, -0.8843, -0.0699,  ...,  0.7729,  0.7199,  0.3298],\n",
       "        [-0.9679, -0.1979,  0.8632,  ...,  0.8631, -0.2749, -0.5711],\n",
       "        ...,\n",
       "        [-0.1938,  1.1533,  0.4422,  ...,  0.2853,  0.3913, -0.5949],\n",
       "        [-0.5555, -0.7614, -0.8890,  ...,  0.6492,  0.4755, -0.6436],\n",
       "        [-1.0538, -0.5677,  0.4047,  ..., -1.2094,  0.7488, -1.1955]],\n",
       "       device='cuda:0')"
      ]
     },
     "execution_count": 15,
     "metadata": {},
     "output_type": "execute_result"
    }
   ],
   "source": [
    "get_noise(16)"
   ]
  },
  {
   "cell_type": "code",
   "execution_count": 16,
   "id": "0674b255",
   "metadata": {},
   "outputs": [],
   "source": [
    "# 获取一批测试数据\n",
    "\n",
    "num_test_samples = 16\n",
    "test_noise = get_noise(num_test_samples)"
   ]
  },
  {
   "cell_type": "code",
   "execution_count": 17,
   "id": "0264a778",
   "metadata": {
    "scrolled": true
   },
   "outputs": [
    {
     "data": {
      "text/plain": [
       "tensor([[ 1.5485, -1.6386, -0.1702,  ..., -1.4640, -1.0126, -0.8069],\n",
       "        [ 0.3440, -0.4498, -1.0465,  ...,  1.0047, -0.4676,  2.1257],\n",
       "        [-0.3004,  0.4766, -0.0169,  ..., -0.5042, -0.3124,  0.3842],\n",
       "        ...,\n",
       "        [-0.9603, -0.3229,  0.4839,  ..., -1.5256, -1.3794, -0.6486],\n",
       "        [-1.1472,  1.1017, -0.2488,  ..., -0.0352,  0.3801,  0.7767],\n",
       "        [-0.1638, -0.0291,  0.9411,  ..., -0.7695,  1.3742, -0.2904]],\n",
       "       device='cuda:0')"
      ]
     },
     "execution_count": 17,
     "metadata": {},
     "output_type": "execute_result"
    }
   ],
   "source": [
    "test_noise"
   ]
  },
  {
   "cell_type": "code",
   "execution_count": 18,
   "id": "d0c8c082",
   "metadata": {},
   "outputs": [
    {
     "data": {
      "image/png": "[encoded data removed]",
      "text/plain": [
       "<Figure size 1200x800 with 16 Axes>"
      ]
     },
     "metadata": {},
     "output_type": "display_data"
    },
    {
     "name": "stdout",
     "output_type": "stream",
     "text": [
      "当前正在进行 第 45 轮 ....\n"
     ]
    },
    {
     "ename": "KeyboardInterrupt",
     "evalue": "",
     "output_type": "error",
     "traceback": [
      "\u001b[1;31m---------------------------------------------------------------------------\u001b[0m",
      "\u001b[1;31mKeyboardInterrupt\u001b[0m                         Traceback (most recent call last)",
      "Cell \u001b[1;32mIn[18], line 17\u001b[0m\n\u001b[0;32m     14\u001b[0m discriminator\u001b[38;5;241m.\u001b[39mtrain()\n\u001b[0;32m     16\u001b[0m \u001b[38;5;66;03m# 遍历真实的图像\u001b[39;00m\n\u001b[1;32m---> 17\u001b[0m \u001b[43m\u001b[49m\u001b[38;5;28;43;01mfor\u001b[39;49;00m\u001b[43m \u001b[49m\u001b[43mbatch_idx\u001b[49m\u001b[43m,\u001b[49m\u001b[43m \u001b[49m\u001b[43m(\u001b[49m\u001b[43mbatch_real_data\u001b[49m\u001b[43m,\u001b[49m\u001b[43m \u001b[49m\u001b[43m_\u001b[49m\u001b[43m)\u001b[49m\u001b[43m \u001b[49m\u001b[38;5;129;43;01min\u001b[39;49;00m\u001b[43m \u001b[49m\u001b[38;5;28;43menumerate\u001b[39;49m\u001b[43m(\u001b[49m\u001b[43mdata_loader\u001b[49m\u001b[43m)\u001b[49m\u001b[43m:\u001b[49m\n\u001b[0;32m     20\u001b[0m \u001b[38;5;250;43m    \u001b[39;49m\u001b[38;5;124;43;03m\"\"\"\u001b[39;49;00m\n\u001b[0;32m     21\u001b[0m \u001b[38;5;124;43;03m    1, 先训练鉴别器\u001b[39;49;00m\n\u001b[0;32m     22\u001b[0m \u001b[38;5;124;43;03m        鉴别器就是一个二分类问题\u001b[39;49;00m\n\u001b[1;32m   (...)\u001b[0m\n\u001b[0;32m     25\u001b[0m \u001b[38;5;124;43;03m    \u001b[39;49;00m\n\u001b[0;32m     26\u001b[0m \u001b[38;5;124;43;03m    \"\"\"\u001b[39;49;00m\n\u001b[0;32m     28\u001b[0m \u001b[43m    \u001b[49m\u001b[38;5;66;43;03m# 1.1 准备数据\u001b[39;49;00m\n\u001b[0;32m     29\u001b[0m \u001b[43m    \u001b[49m\u001b[38;5;66;43;03m# 图像转向量 [b, 1, 28, 28] ---> [b, 784]\u001b[39;49;00m\n\u001b[0;32m     30\u001b[0m \u001b[43m    \u001b[49m\u001b[38;5;66;43;03m# 从数据集中获取100个真实的手写数字图像\u001b[39;49;00m\n",
      "File \u001b[1;32mD:\\software\\Anaconda\\envs\\py311\\Lib\\site-packages\\torch\\utils\\data\\dataloader.py:733\u001b[0m, in \u001b[0;36m_BaseDataLoaderIter.__next__\u001b[1;34m(self)\u001b[0m\n\u001b[0;32m    730\u001b[0m \u001b[38;5;28;01mif\u001b[39;00m \u001b[38;5;28mself\u001b[39m\u001b[38;5;241m.\u001b[39m_sampler_iter \u001b[38;5;129;01mis\u001b[39;00m \u001b[38;5;28;01mNone\u001b[39;00m:\n\u001b[0;32m    731\u001b[0m     \u001b[38;5;66;03m# TODO(https://github.com/pytorch/pytorch/issues/76750)\u001b[39;00m\n\u001b[0;32m    732\u001b[0m     \u001b[38;5;28mself\u001b[39m\u001b[38;5;241m.\u001b[39m_reset()  \u001b[38;5;66;03m# type: ignore[call-arg]\u001b[39;00m\n\u001b[1;32m--> 733\u001b[0m data \u001b[38;5;241m=\u001b[39m \u001b[38;5;28;43mself\u001b[39;49m\u001b[38;5;241;43m.\u001b[39;49m\u001b[43m_next_data\u001b[49m\u001b[43m(\u001b[49m\u001b[43m)\u001b[49m\n\u001b[0;32m    734\u001b[0m \u001b[38;5;28mself\u001b[39m\u001b[38;5;241m.\u001b[39m_num_yielded \u001b[38;5;241m+\u001b[39m\u001b[38;5;241m=\u001b[39m \u001b[38;5;241m1\u001b[39m\n\u001b[0;32m    735\u001b[0m \u001b[38;5;28;01mif\u001b[39;00m (\n\u001b[0;32m    736\u001b[0m     \u001b[38;5;28mself\u001b[39m\u001b[38;5;241m.\u001b[39m_dataset_kind \u001b[38;5;241m==\u001b[39m _DatasetKind\u001b[38;5;241m.\u001b[39mIterable\n\u001b[0;32m    737\u001b[0m     \u001b[38;5;129;01mand\u001b[39;00m \u001b[38;5;28mself\u001b[39m\u001b[38;5;241m.\u001b[39m_IterableDataset_len_called \u001b[38;5;129;01mis\u001b[39;00m \u001b[38;5;129;01mnot\u001b[39;00m \u001b[38;5;28;01mNone\u001b[39;00m\n\u001b[0;32m    738\u001b[0m     \u001b[38;5;129;01mand\u001b[39;00m \u001b[38;5;28mself\u001b[39m\u001b[38;5;241m.\u001b[39m_num_yielded \u001b[38;5;241m>\u001b[39m \u001b[38;5;28mself\u001b[39m\u001b[38;5;241m.\u001b[39m_IterableDataset_len_called\n\u001b[0;32m    739\u001b[0m ):\n",
      "File \u001b[1;32mD:\\software\\Anaconda\\envs\\py311\\Lib\\site-packages\\torch\\utils\\data\\dataloader.py:789\u001b[0m, in \u001b[0;36m_SingleProcessDataLoaderIter._next_data\u001b[1;34m(self)\u001b[0m\n\u001b[0;32m    787\u001b[0m \u001b[38;5;28;01mdef\u001b[39;00m \u001b[38;5;21m_next_data\u001b[39m(\u001b[38;5;28mself\u001b[39m):\n\u001b[0;32m    788\u001b[0m     index \u001b[38;5;241m=\u001b[39m \u001b[38;5;28mself\u001b[39m\u001b[38;5;241m.\u001b[39m_next_index()  \u001b[38;5;66;03m# may raise StopIteration\u001b[39;00m\n\u001b[1;32m--> 789\u001b[0m     data \u001b[38;5;241m=\u001b[39m \u001b[38;5;28;43mself\u001b[39;49m\u001b[38;5;241;43m.\u001b[39;49m\u001b[43m_dataset_fetcher\u001b[49m\u001b[38;5;241;43m.\u001b[39;49m\u001b[43mfetch\u001b[49m\u001b[43m(\u001b[49m\u001b[43mindex\u001b[49m\u001b[43m)\u001b[49m  \u001b[38;5;66;03m# may raise StopIteration\u001b[39;00m\n\u001b[0;32m    790\u001b[0m     \u001b[38;5;28;01mif\u001b[39;00m \u001b[38;5;28mself\u001b[39m\u001b[38;5;241m.\u001b[39m_pin_memory:\n\u001b[0;32m    791\u001b[0m         data \u001b[38;5;241m=\u001b[39m _utils\u001b[38;5;241m.\u001b[39mpin_memory\u001b[38;5;241m.\u001b[39mpin_memory(data, \u001b[38;5;28mself\u001b[39m\u001b[38;5;241m.\u001b[39m_pin_memory_device)\n",
      "File \u001b[1;32mD:\\software\\Anaconda\\envs\\py311\\Lib\\site-packages\\torch\\utils\\data\\_utils\\fetch.py:52\u001b[0m, in \u001b[0;36m_MapDatasetFetcher.fetch\u001b[1;34m(self, possibly_batched_index)\u001b[0m\n\u001b[0;32m     50\u001b[0m         data \u001b[38;5;241m=\u001b[39m \u001b[38;5;28mself\u001b[39m\u001b[38;5;241m.\u001b[39mdataset\u001b[38;5;241m.\u001b[39m__getitems__(possibly_batched_index)\n\u001b[0;32m     51\u001b[0m     \u001b[38;5;28;01melse\u001b[39;00m:\n\u001b[1;32m---> 52\u001b[0m         data \u001b[38;5;241m=\u001b[39m \u001b[43m[\u001b[49m\u001b[38;5;28;43mself\u001b[39;49m\u001b[38;5;241;43m.\u001b[39;49m\u001b[43mdataset\u001b[49m\u001b[43m[\u001b[49m\u001b[43midx\u001b[49m\u001b[43m]\u001b[49m\u001b[43m \u001b[49m\u001b[38;5;28;43;01mfor\u001b[39;49;00m\u001b[43m \u001b[49m\u001b[43midx\u001b[49m\u001b[43m \u001b[49m\u001b[38;5;129;43;01min\u001b[39;49;00m\u001b[43m \u001b[49m\u001b[43mpossibly_batched_index\u001b[49m\u001b[43m]\u001b[49m\n\u001b[0;32m     53\u001b[0m \u001b[38;5;28;01melse\u001b[39;00m:\n\u001b[0;32m     54\u001b[0m     data \u001b[38;5;241m=\u001b[39m \u001b[38;5;28mself\u001b[39m\u001b[38;5;241m.\u001b[39mdataset[possibly_batched_index]\n",
      "File \u001b[1;32mD:\\software\\Anaconda\\envs\\py311\\Lib\\site-packages\\torch\\utils\\data\\_utils\\fetch.py:52\u001b[0m, in \u001b[0;36m<listcomp>\u001b[1;34m(.0)\u001b[0m\n\u001b[0;32m     50\u001b[0m         data \u001b[38;5;241m=\u001b[39m \u001b[38;5;28mself\u001b[39m\u001b[38;5;241m.\u001b[39mdataset\u001b[38;5;241m.\u001b[39m__getitems__(possibly_batched_index)\n\u001b[0;32m     51\u001b[0m     \u001b[38;5;28;01melse\u001b[39;00m:\n\u001b[1;32m---> 52\u001b[0m         data \u001b[38;5;241m=\u001b[39m [\u001b[38;5;28;43mself\u001b[39;49m\u001b[38;5;241;43m.\u001b[39;49m\u001b[43mdataset\u001b[49m\u001b[43m[\u001b[49m\u001b[43midx\u001b[49m\u001b[43m]\u001b[49m \u001b[38;5;28;01mfor\u001b[39;00m idx \u001b[38;5;129;01min\u001b[39;00m possibly_batched_index]\n\u001b[0;32m     53\u001b[0m \u001b[38;5;28;01melse\u001b[39;00m:\n\u001b[0;32m     54\u001b[0m     data \u001b[38;5;241m=\u001b[39m \u001b[38;5;28mself\u001b[39m\u001b[38;5;241m.\u001b[39mdataset[possibly_batched_index]\n",
      "File \u001b[1;32mD:\\software\\Anaconda\\envs\\py311\\Lib\\site-packages\\torchvision\\datasets\\mnist.py:146\u001b[0m, in \u001b[0;36mMNIST.__getitem__\u001b[1;34m(self, index)\u001b[0m\n\u001b[0;32m    143\u001b[0m img \u001b[38;5;241m=\u001b[39m Image\u001b[38;5;241m.\u001b[39mfromarray(img\u001b[38;5;241m.\u001b[39mnumpy(), mode\u001b[38;5;241m=\u001b[39m\u001b[38;5;124m\"\u001b[39m\u001b[38;5;124mL\u001b[39m\u001b[38;5;124m\"\u001b[39m)\n\u001b[0;32m    145\u001b[0m \u001b[38;5;28;01mif\u001b[39;00m \u001b[38;5;28mself\u001b[39m\u001b[38;5;241m.\u001b[39mtransform \u001b[38;5;129;01mis\u001b[39;00m \u001b[38;5;129;01mnot\u001b[39;00m \u001b[38;5;28;01mNone\u001b[39;00m:\n\u001b[1;32m--> 146\u001b[0m     img \u001b[38;5;241m=\u001b[39m \u001b[38;5;28;43mself\u001b[39;49m\u001b[38;5;241;43m.\u001b[39;49m\u001b[43mtransform\u001b[49m\u001b[43m(\u001b[49m\u001b[43mimg\u001b[49m\u001b[43m)\u001b[49m\n\u001b[0;32m    148\u001b[0m \u001b[38;5;28;01mif\u001b[39;00m \u001b[38;5;28mself\u001b[39m\u001b[38;5;241m.\u001b[39mtarget_transform \u001b[38;5;129;01mis\u001b[39;00m \u001b[38;5;129;01mnot\u001b[39;00m \u001b[38;5;28;01mNone\u001b[39;00m:\n\u001b[0;32m    149\u001b[0m     target \u001b[38;5;241m=\u001b[39m \u001b[38;5;28mself\u001b[39m\u001b[38;5;241m.\u001b[39mtarget_transform(target)\n",
      "File \u001b[1;32mD:\\software\\Anaconda\\envs\\py311\\Lib\\site-packages\\torchvision\\transforms\\transforms.py:95\u001b[0m, in \u001b[0;36mCompose.__call__\u001b[1;34m(self, img)\u001b[0m\n\u001b[0;32m     93\u001b[0m \u001b[38;5;28;01mdef\u001b[39;00m \u001b[38;5;21m__call__\u001b[39m(\u001b[38;5;28mself\u001b[39m, img):\n\u001b[0;32m     94\u001b[0m     \u001b[38;5;28;01mfor\u001b[39;00m t \u001b[38;5;129;01min\u001b[39;00m \u001b[38;5;28mself\u001b[39m\u001b[38;5;241m.\u001b[39mtransforms:\n\u001b[1;32m---> 95\u001b[0m         img \u001b[38;5;241m=\u001b[39m \u001b[43mt\u001b[49m\u001b[43m(\u001b[49m\u001b[43mimg\u001b[49m\u001b[43m)\u001b[49m\n\u001b[0;32m     96\u001b[0m     \u001b[38;5;28;01mreturn\u001b[39;00m img\n",
      "File \u001b[1;32mD:\\software\\Anaconda\\envs\\py311\\Lib\\site-packages\\torch\\nn\\modules\\module.py:1751\u001b[0m, in \u001b[0;36mModule._wrapped_call_impl\u001b[1;34m(self, *args, **kwargs)\u001b[0m\n\u001b[0;32m   1749\u001b[0m     \u001b[38;5;28;01mreturn\u001b[39;00m \u001b[38;5;28mself\u001b[39m\u001b[38;5;241m.\u001b[39m_compiled_call_impl(\u001b[38;5;241m*\u001b[39margs, \u001b[38;5;241m*\u001b[39m\u001b[38;5;241m*\u001b[39mkwargs)  \u001b[38;5;66;03m# type: ignore[misc]\u001b[39;00m\n\u001b[0;32m   1750\u001b[0m \u001b[38;5;28;01melse\u001b[39;00m:\n\u001b[1;32m-> 1751\u001b[0m     \u001b[38;5;28;01mreturn\u001b[39;00m \u001b[38;5;28;43mself\u001b[39;49m\u001b[38;5;241;43m.\u001b[39;49m\u001b[43m_call_impl\u001b[49m\u001b[43m(\u001b[49m\u001b[38;5;241;43m*\u001b[39;49m\u001b[43margs\u001b[49m\u001b[43m,\u001b[49m\u001b[43m \u001b[49m\u001b[38;5;241;43m*\u001b[39;49m\u001b[38;5;241;43m*\u001b[39;49m\u001b[43mkwargs\u001b[49m\u001b[43m)\u001b[49m\n",
      "File \u001b[1;32mD:\\software\\Anaconda\\envs\\py311\\Lib\\site-packages\\torch\\nn\\modules\\module.py:1762\u001b[0m, in \u001b[0;36mModule._call_impl\u001b[1;34m(self, *args, **kwargs)\u001b[0m\n\u001b[0;32m   1757\u001b[0m \u001b[38;5;66;03m# If we don't have any hooks, we want to skip the rest of the logic in\u001b[39;00m\n\u001b[0;32m   1758\u001b[0m \u001b[38;5;66;03m# this function, and just call forward.\u001b[39;00m\n\u001b[0;32m   1759\u001b[0m \u001b[38;5;28;01mif\u001b[39;00m \u001b[38;5;129;01mnot\u001b[39;00m (\u001b[38;5;28mself\u001b[39m\u001b[38;5;241m.\u001b[39m_backward_hooks \u001b[38;5;129;01mor\u001b[39;00m \u001b[38;5;28mself\u001b[39m\u001b[38;5;241m.\u001b[39m_backward_pre_hooks \u001b[38;5;129;01mor\u001b[39;00m \u001b[38;5;28mself\u001b[39m\u001b[38;5;241m.\u001b[39m_forward_hooks \u001b[38;5;129;01mor\u001b[39;00m \u001b[38;5;28mself\u001b[39m\u001b[38;5;241m.\u001b[39m_forward_pre_hooks\n\u001b[0;32m   1760\u001b[0m         \u001b[38;5;129;01mor\u001b[39;00m _global_backward_pre_hooks \u001b[38;5;129;01mor\u001b[39;00m _global_backward_hooks\n\u001b[0;32m   1761\u001b[0m         \u001b[38;5;129;01mor\u001b[39;00m _global_forward_hooks \u001b[38;5;129;01mor\u001b[39;00m _global_forward_pre_hooks):\n\u001b[1;32m-> 1762\u001b[0m     \u001b[38;5;28;01mreturn\u001b[39;00m \u001b[43mforward_call\u001b[49m\u001b[43m(\u001b[49m\u001b[38;5;241;43m*\u001b[39;49m\u001b[43margs\u001b[49m\u001b[43m,\u001b[49m\u001b[43m \u001b[49m\u001b[38;5;241;43m*\u001b[39;49m\u001b[38;5;241;43m*\u001b[39;49m\u001b[43mkwargs\u001b[49m\u001b[43m)\u001b[49m\n\u001b[0;32m   1764\u001b[0m result \u001b[38;5;241m=\u001b[39m \u001b[38;5;28;01mNone\u001b[39;00m\n\u001b[0;32m   1765\u001b[0m called_always_called_hooks \u001b[38;5;241m=\u001b[39m \u001b[38;5;28mset\u001b[39m()\n",
      "File \u001b[1;32mD:\\software\\Anaconda\\envs\\py311\\Lib\\site-packages\\torchvision\\transforms\\transforms.py:277\u001b[0m, in \u001b[0;36mNormalize.forward\u001b[1;34m(self, tensor)\u001b[0m\n\u001b[0;32m    269\u001b[0m \u001b[38;5;28;01mdef\u001b[39;00m \u001b[38;5;21mforward\u001b[39m(\u001b[38;5;28mself\u001b[39m, tensor: Tensor) \u001b[38;5;241m-\u001b[39m\u001b[38;5;241m>\u001b[39m Tensor:\n\u001b[0;32m    270\u001b[0m \u001b[38;5;250m    \u001b[39m\u001b[38;5;124;03m\"\"\"\u001b[39;00m\n\u001b[0;32m    271\u001b[0m \u001b[38;5;124;03m    Args:\u001b[39;00m\n\u001b[0;32m    272\u001b[0m \u001b[38;5;124;03m        tensor (Tensor): Tensor image to be normalized.\u001b[39;00m\n\u001b[1;32m   (...)\u001b[0m\n\u001b[0;32m    275\u001b[0m \u001b[38;5;124;03m        Tensor: Normalized Tensor image.\u001b[39;00m\n\u001b[0;32m    276\u001b[0m \u001b[38;5;124;03m    \"\"\"\u001b[39;00m\n\u001b[1;32m--> 277\u001b[0m     \u001b[38;5;28;01mreturn\u001b[39;00m \u001b[43mF\u001b[49m\u001b[38;5;241;43m.\u001b[39;49m\u001b[43mnormalize\u001b[49m\u001b[43m(\u001b[49m\u001b[43mtensor\u001b[49m\u001b[43m,\u001b[49m\u001b[43m \u001b[49m\u001b[38;5;28;43mself\u001b[39;49m\u001b[38;5;241;43m.\u001b[39;49m\u001b[43mmean\u001b[49m\u001b[43m,\u001b[49m\u001b[43m \u001b[49m\u001b[38;5;28;43mself\u001b[39;49m\u001b[38;5;241;43m.\u001b[39;49m\u001b[43mstd\u001b[49m\u001b[43m,\u001b[49m\u001b[43m \u001b[49m\u001b[38;5;28;43mself\u001b[39;49m\u001b[38;5;241;43m.\u001b[39;49m\u001b[43minplace\u001b[49m\u001b[43m)\u001b[49m\n",
      "File \u001b[1;32mD:\\software\\Anaconda\\envs\\py311\\Lib\\site-packages\\torchvision\\transforms\\functional.py:350\u001b[0m, in \u001b[0;36mnormalize\u001b[1;34m(tensor, mean, std, inplace)\u001b[0m\n\u001b[0;32m    347\u001b[0m \u001b[38;5;28;01mif\u001b[39;00m \u001b[38;5;129;01mnot\u001b[39;00m \u001b[38;5;28misinstance\u001b[39m(tensor, torch\u001b[38;5;241m.\u001b[39mTensor):\n\u001b[0;32m    348\u001b[0m     \u001b[38;5;28;01mraise\u001b[39;00m \u001b[38;5;167;01mTypeError\u001b[39;00m(\u001b[38;5;124mf\u001b[39m\u001b[38;5;124m\"\u001b[39m\u001b[38;5;124mimg should be Tensor Image. Got \u001b[39m\u001b[38;5;132;01m{\u001b[39;00m\u001b[38;5;28mtype\u001b[39m(tensor)\u001b[38;5;132;01m}\u001b[39;00m\u001b[38;5;124m\"\u001b[39m)\n\u001b[1;32m--> 350\u001b[0m \u001b[38;5;28;01mreturn\u001b[39;00m \u001b[43mF_t\u001b[49m\u001b[38;5;241;43m.\u001b[39;49m\u001b[43mnormalize\u001b[49m\u001b[43m(\u001b[49m\u001b[43mtensor\u001b[49m\u001b[43m,\u001b[49m\u001b[43m \u001b[49m\u001b[43mmean\u001b[49m\u001b[38;5;241;43m=\u001b[39;49m\u001b[43mmean\u001b[49m\u001b[43m,\u001b[49m\u001b[43m \u001b[49m\u001b[43mstd\u001b[49m\u001b[38;5;241;43m=\u001b[39;49m\u001b[43mstd\u001b[49m\u001b[43m,\u001b[49m\u001b[43m \u001b[49m\u001b[43minplace\u001b[49m\u001b[38;5;241;43m=\u001b[39;49m\u001b[43minplace\u001b[49m\u001b[43m)\u001b[49m\n",
      "File \u001b[1;32mD:\\software\\Anaconda\\envs\\py311\\Lib\\site-packages\\torchvision\\transforms\\_functional_tensor.py:925\u001b[0m, in \u001b[0;36mnormalize\u001b[1;34m(tensor, mean, std, inplace)\u001b[0m\n\u001b[0;32m    923\u001b[0m     \u001b[38;5;28;01mraise\u001b[39;00m \u001b[38;5;167;01mValueError\u001b[39;00m(\u001b[38;5;124mf\u001b[39m\u001b[38;5;124m\"\u001b[39m\u001b[38;5;124mstd evaluated to zero after conversion to \u001b[39m\u001b[38;5;132;01m{\u001b[39;00mdtype\u001b[38;5;132;01m}\u001b[39;00m\u001b[38;5;124m, leading to division by zero.\u001b[39m\u001b[38;5;124m\"\u001b[39m)\n\u001b[0;32m    924\u001b[0m \u001b[38;5;28;01mif\u001b[39;00m mean\u001b[38;5;241m.\u001b[39mndim \u001b[38;5;241m==\u001b[39m \u001b[38;5;241m1\u001b[39m:\n\u001b[1;32m--> 925\u001b[0m     mean \u001b[38;5;241m=\u001b[39m \u001b[43mmean\u001b[49m\u001b[38;5;241;43m.\u001b[39;49m\u001b[43mview\u001b[49m\u001b[43m(\u001b[49m\u001b[38;5;241;43m-\u001b[39;49m\u001b[38;5;241;43m1\u001b[39;49m\u001b[43m,\u001b[49m\u001b[43m \u001b[49m\u001b[38;5;241;43m1\u001b[39;49m\u001b[43m,\u001b[49m\u001b[43m \u001b[49m\u001b[38;5;241;43m1\u001b[39;49m\u001b[43m)\u001b[49m\n\u001b[0;32m    926\u001b[0m \u001b[38;5;28;01mif\u001b[39;00m std\u001b[38;5;241m.\u001b[39mndim \u001b[38;5;241m==\u001b[39m \u001b[38;5;241m1\u001b[39m:\n\u001b[0;32m    927\u001b[0m     std \u001b[38;5;241m=\u001b[39m std\u001b[38;5;241m.\u001b[39mview(\u001b[38;5;241m-\u001b[39m\u001b[38;5;241m1\u001b[39m, \u001b[38;5;241m1\u001b[39m, \u001b[38;5;241m1\u001b[39m)\n",
      "\u001b[1;31mKeyboardInterrupt\u001b[0m: "
     ]
    }
   ],
   "source": [
    "\"\"\"\n",
    "    训练过程\n",
    "\"\"\"\n",
    "g_losses = []\n",
    "d_losses = []\n",
    "\n",
    "for epoch in range(1, num_epochs+1):\n",
    "    print(f\"当前正在进行 第 {epoch} 轮 ....\")\n",
    "    \n",
    "    # 设置训练模式\n",
    "    generator.train()\n",
    "    discriminator.train()\n",
    "    \n",
    "    # 遍历真实的图像\n",
    "    for batch_idx, (batch_real_data, _) in enumerate(data_loader):   \n",
    "        \"\"\"\n",
    "        1, 先训练鉴别器\n",
    "            鉴别器就是一个二分类问题\n",
    "            - 给一批真数据，输出真\n",
    "            - 给一批假数据，输出假\n",
    "        \"\"\"\n",
    "        \n",
    "        # 1.1 准备数据\n",
    "        # 图像转向量 [b, 1, 28, 28] ---> [b, 784]\n",
    "        # 从数据集中获取100个真实的手写数字图像\n",
    "        real_data = batch_real_data.view(batch_real_data.size(0), -1).to(device=device)\n",
    "        \n",
    "        # 噪声[b, 100]\n",
    "        # 随机生成100个100维度的噪声，用于生成假图像\n",
    "        noise = get_noise(real_data.size(0))\n",
    "        \n",
    "        # 根据噪声，生成假数据 \n",
    "        # [b, 100] --> [b, 784]\n",
    "        fake_data = generator(noise).detach()\n",
    "                \n",
    "        \n",
    "        # 1.2 训练过程\n",
    "        # 鉴别器的优化器梯度情况\n",
    "        d_optimizer.zero_grad()\n",
    "        \n",
    "        # 对真实数据鉴别\n",
    "        real_pred = discriminator(real_data)\n",
    "        \n",
    "        # 计算真实数据的误差\n",
    "        real_loss = loss_fn(real_pred, get_real_data_labels(real_data.size(0)))\n",
    "        \n",
    "        # 真实数据的梯度回传\n",
    "        real_loss.backward()\n",
    "        \n",
    "        # 对假数据鉴别\n",
    "        fake_pred = discriminator(fake_data)\n",
    "        \n",
    "        # 计算假数据的误差\n",
    "        fake_loss = loss_fn(fake_pred, get_fake_data_labels(fake_data.size(0)))\n",
    "        \n",
    "        # 假数据梯度回传\n",
    "        fake_loss.backward()\n",
    "        \n",
    "        # 梯度更新\n",
    "        d_optimizer.step()\n",
    "\n",
    "        # ----------------\n",
    "        \n",
    "        d_losses.append((real_loss + fake_loss).item())\n",
    "        \n",
    "#         print(f\"鉴别器的损失:{real_loss + fake_loss}\")\n",
    "        \n",
    "        \"\"\"2, 再训练生成器\"\"\"\n",
    "        \n",
    "        # 获取生成器的生成结果\n",
    "        fake_pred = generator(get_noise(real_data.size(0)))\n",
    "        \n",
    "        # 生产器梯度清空\n",
    "        g_optimizer.zero_grad()\n",
    "        \n",
    "        # 把假数据让鉴别器鉴别一下\n",
    "        # 把discriminator requires_grad = False\n",
    "        # 设置为不可学习\n",
    "        for param in discriminator.parameters():\n",
    "            param.requires_grad = False\n",
    "            \n",
    "        d_pred = discriminator(fake_pred)\n",
    "        \n",
    "        # 设置为可学习\n",
    "        for param in discriminator.parameters():\n",
    "            param.requires_grad = True\n",
    "        \n",
    "        # 计算损失\n",
    "        # 把一个假东西，给专家看，专家说是真的，这个时候，造假的水平就可以了\n",
    "        g_loss = loss_fn(d_pred, get_real_data_labels(d_pred.size(0)))\n",
    "        \n",
    "        # 梯度回传\n",
    "        g_loss.backward()\n",
    "        \n",
    "        # 参数更新\n",
    "        g_optimizer.step()\n",
    "        \n",
    "#         print(f\"生成器误差：{g_loss}\")\n",
    "        g_losses.append(g_loss.item())\n",
    "   \n",
    "    # 每轮训练之后，观察生成器的效果\n",
    "    generator.eval()\n",
    "    \n",
    "    with torch.no_grad():\n",
    "        \n",
    "        # 正向推理\n",
    "        img_pred = generator(test_noise)\n",
    "        img_pred = img_pred.view(img_pred.size(0), 28, 28).cpu().data\n",
    "        \n",
    "        # 画图\n",
    "        display.clear_output(wait=True)\n",
    "        \n",
    "        # 设置画图的大小\n",
    "        fig = plt.figure(1, figsize=(12, 8)) \n",
    "        # 划分为 4 x 4 的 网格\n",
    "        gs = gridspec.GridSpec(4, 4)\n",
    "        \n",
    "        # 遍历每一个\n",
    "        for i in range(4):\n",
    "            for j in range(4):\n",
    "                # 取每一个图\n",
    "                X = img_pred[i * 4 + j, :, :]\n",
    "                # 添加一个对应网格内的子图\n",
    "                ax = fig.add_subplot(gs[i, j])\n",
    "                # 在子图内绘制图像\n",
    "                ax.matshow(X, cmap=plt.get_cmap(\"Greys\"))\n",
    "#                 ax.set_xlabel(f\"{label}\")\n",
    "                ax.set_xticks(())\n",
    "                ax.set_yticks(())\n",
    "        plt.show()\n",
    " "
   ]
  },
  {
   "cell_type": "code",
   "execution_count": null,
   "id": "9fda406d",
   "metadata": {},
   "outputs": [],
   "source": [
    "generator"
   ]
  },
  {
   "cell_type": "code",
   "execution_count": null,
   "id": "1d28e8d2",
   "metadata": {},
   "outputs": [],
   "source": [
    "get_noise(1)"
   ]
  },
  {
   "cell_type": "code",
   "execution_count": null,
   "id": "b4c4c7da",
   "metadata": {},
   "outputs": [],
   "source": [
    "img = generator(get_noise(1)).detach()"
   ]
  },
  {
   "cell_type": "code",
   "execution_count": null,
   "id": "7ce1f605",
   "metadata": {},
   "outputs": [],
   "source": [
    "img"
   ]
  },
  {
   "cell_type": "code",
   "execution_count": null,
   "id": "62df4848",
   "metadata": {},
   "outputs": [],
   "source": [
    "img1 = ((img * 0.5 + 0.5) * 255).cpu().numpy().astype(int).reshape(28, 28)"
   ]
  },
  {
   "cell_type": "code",
   "execution_count": null,
   "id": "f4d5ad19",
   "metadata": {},
   "outputs": [],
   "source": [
    "plt.imshow(X=img1, cmap=\"gray\")"
   ]
  },
  {
   "cell_type": "code",
   "execution_count": null,
   "id": "30ee1517",
   "metadata": {},
   "outputs": [],
   "source": [
    "def generate_fake_img():\n",
    "    with torch.no_grad():\n",
    "        noise = torch.randn(1, 128).cuda()\n",
    "        img = generator(noise)\n",
    "        img = ((img * 0.5 + 0.5) * 255).cpu().numpy().astype(int).reshape(28, 28)\n",
    "        plt.imshow(X=img, cmap=\"gray\")\n",
    "        "
   ]
  },
  {
   "cell_type": "code",
   "execution_count": null,
   "id": "fb3cc1c9",
   "metadata": {},
   "outputs": [],
   "source": [
    "generate_fake_img()"
   ]
  },
  {
   "cell_type": "code",
   "execution_count": null,
   "id": "ec0768a6",
   "metadata": {},
   "outputs": [],
   "source": [
    "# prompts"
   ]
  },
  {
   "cell_type": "code",
   "execution_count": null,
   "id": "ad0e5c3e-d9a7-4a14-b845-26845eaa92f8",
   "metadata": {},
   "outputs": [],
   "source": []
  }
 ],
 "metadata": {
  "kernelspec": {
   "display_name": "Python(py311)",
   "language": "python",
   "name": "py311"
  },
  "language_info": {
   "codemirror_mode": {
    "name": "ipython",
    "version": 3
   },
   "file_extension": ".py",
   "mimetype": "text/x-python",
   "name": "python",
   "nbconvert_exporter": "python",
   "pygments_lexer": "ipython3",
   "version": "3.11.11"
  }
 },
 "nbformat": 4,
 "nbformat_minor": 5
}
