{
 "cells": [
  {
   "cell_type": "code",
   "execution_count": 51,
   "id": "3005ad4b-6978-4061-8aa3-ca654c2fafac",
   "metadata": {},
   "outputs": [],
   "source": [
    "import torch\n",
    "from torch import nn\n",
    "from torchvision import datasets\n",
    "from torchvision import transforms\n",
    "from torch.utils.data import DataLoader\n",
    "from matplotlib import pyplot as plt\n",
    "from matplotlib import gridspec\n",
    "import os\n",
    "os.environ[\"KMP_DUPLICATE_LIB_OK\"] = \"TRUE\"\n",
    "from IPython import display"
   ]
  },
  {
   "cell_type": "code",
   "execution_count": 52,
   "id": "75f87760-637b-4cf3-bb75-7f8803d76d8c",
   "metadata": {},
   "outputs": [],
   "source": [
    "# 检测设备\n",
    "device = \"cuda\" if torch.cuda.is_available() else \"cpu\""
   ]
  },
  {
   "cell_type": "code",
   "execution_count": 53,
   "id": "4292b4e4-b8fc-48af-ac9c-414fa59f6c38",
   "metadata": {},
   "outputs": [
    {
     "data": {
      "text/plain": [
       "'cuda'"
      ]
     },
     "execution_count": 53,
     "metadata": {},
     "output_type": "execute_result"
    }
   ],
   "source": [
    "device"
   ]
  },
  {
   "cell_type": "code",
   "execution_count": 54,
   "id": "69208fd0-d9e1-46c9-ae4b-7295da8356f0",
   "metadata": {},
   "outputs": [],
   "source": [
    "\"\"\"\n",
    "    图像预处理\n",
    "        1. 转张量\n",
    "\"\"\"\n",
    "trans = transforms.Compose(transforms=[\n",
    "    # 原本格式[0, 255] [H, W, C]\n",
    "    # ToTensor会转换成[0, 1] [C, H, W]\n",
    "    transforms.ToTensor(),\n",
    "    # [0, 1]\n",
    "    # [-1, 1]\n",
    "    transforms.Normalize(mean=[0.5], std=[0.5])\n",
    "])"
   ]
  },
  {
   "cell_type": "code",
   "execution_count": 55,
   "id": "6b2177ca-f508-4d36-8482-d386a36988d6",
   "metadata": {},
   "outputs": [],
   "source": [
    "# 加载图像\n",
    "data = datasets.MNIST(root=\"data\", train=True, transform=trans, download=True)"
   ]
  },
  {
   "cell_type": "code",
   "execution_count": 56,
   "id": "50df8ccf-63a1-4e3a-a45b-e4902d0791c9",
   "metadata": {},
   "outputs": [
    {
     "data": {
      "text/plain": [
       "Dataset MNIST\n",
       "    Number of datapoints: 60000\n",
       "    Root location: data\n",
       "    Split: Train\n",
       "    StandardTransform\n",
       "Transform: Compose(\n",
       "               ToTensor()\n",
       "               Normalize(mean=[0.5], std=[0.5])\n",
       "           )"
      ]
     },
     "execution_count": 56,
     "metadata": {},
     "output_type": "execute_result"
    }
   ],
   "source": [
    "data"
   ]
  },
  {
   "cell_type": "code",
   "execution_count": 57,
   "id": "e6bbfdfd-627a-46d1-9d58-6898395a0c47",
   "metadata": {},
   "outputs": [],
   "source": [
    "dataloader = DataLoader(dataset=data, batch_size=128, shuffle=True)"
   ]
  },
  {
   "cell_type": "code",
   "execution_count": 58,
   "id": "074dd19c-6e8c-4d5b-8e72-8f44486ce5f2",
   "metadata": {},
   "outputs": [
    {
     "name": "stdout",
     "output_type": "stream",
     "text": [
      "torch.Size([128, 1, 28, 28])\n",
      "torch.Size([128])\n"
     ]
    }
   ],
   "source": [
    "# 测试图像\n",
    "for batch_X, batch_y in dataloader:\n",
    "    print(batch_X.shape)\n",
    "    print(batch_y.shape)\n",
    "    break"
   ]
  },
  {
   "cell_type": "code",
   "execution_count": 59,
   "id": "7416f3f0-ca99-43fb-940b-a7a741dcc943",
   "metadata": {},
   "outputs": [],
   "source": [
    "\"\"\"\n",
    "    定义一个生成器\n",
    "        - 造假图像的网络\n",
    "            - 输入：一个向量（Z，noise，噪声，随机数, 比如：128维）\n",
    "            - 输出：一个图像（[1, 28, 28]），一个向量（28 * 28）\n",
    "\"\"\"\n",
    "class Generator(nn.Module):\n",
    "    # 784\n",
    "    def __init__(self, in_features=128, out_features=28 * 28):\n",
    "        super().__init__()\n",
    "        self.linear1 = nn.Linear(in_features=in_features, out_features=256)\n",
    "        self.linear2 = nn.Linear(in_features=256, out_features=512)\n",
    "        self.linear3 = nn.Linear(in_features=512, out_features=28 * 28)\n",
    "    def forward(self, x):\n",
    "        x = self.linear1(x)\n",
    "        x = torch.relu(x)\n",
    "        x = self.linear2(x)\n",
    "        x = torch.relu(x)\n",
    "        x = self.linear3(x)\n",
    "        x = torch.tanh(x)\n",
    "        return x"
   ]
  },
  {
   "cell_type": "code",
   "execution_count": 60,
   "id": "0b33f118-5df0-4d9c-8d99-32428ecda39d",
   "metadata": {},
   "outputs": [],
   "source": [
    "\"\"\"\n",
    "    定义一个生成器\n",
    "        - 造假图像的网络\n",
    "            - 输入：一个向量（Z，noise，噪声，随机数, 比如：128维）\n",
    "            - 输出：一个图像（[1, 28, 28]），一个向量（28 * 28）\n",
    "\"\"\"\n",
    "class Generator1(nn.Module):\n",
    "    # 784\n",
    "    def __init__(self, in_features=128, out_features=28 * 28):\n",
    "        super().__init__()\n",
    "        self.linear1 = nn.Linear(in_features=in_features, out_features=28 * 28)\n",
    "        # self.linear2 = nn.Linear(in_features=256, out_features=512)\n",
    "        # self.linear3 = nn.Linear(in_features=512, out_features=28 * 28)\n",
    "    def forward(self, x):\n",
    "        x = self.linear1(x)\n",
    "        # x = torch.relu(x)\n",
    "        # x = self.linear2(x)\n",
    "        x = torch.relu(x)\n",
    "        # x = self.linear3(x)\n",
    "        x = torch.tanh(x)\n",
    "        return x"
   ]
  },
  {
   "cell_type": "code",
   "execution_count": 61,
   "id": "db750bbe-6c8a-4709-b16c-f2fede6ad6b8",
   "metadata": {},
   "outputs": [],
   "source": [
    "\"\"\"\n",
    "    鉴别器\n",
    "        - 判断真假！\n",
    "        - 给你一个图像，你告诉我这是个真的还是假的？\n",
    "        - 二分类算法！\n",
    "\"\"\"\n",
    "class Discriminator1(nn.Module):\n",
    "    def __init__(self, in_features=28 * 28, out_features=2):\n",
    "        super().__init__()\n",
    "        self.linear1 = nn.Linear(in_features=in_features, out_features=out_features)\n",
    "        # self.linear2 = nn.Linear(in_features=512, out_features=256)\n",
    "        # self.linear3 = nn.Linear(in_features=256, out_features=32)\n",
    "        # self.linear4 = nn.Linear(in_features=32, out_features=out_features)\n",
    "    def forward(self, x):\n",
    "        x = self.linear1(x)\n",
    "        x = torch.relu(x)\n",
    "        # x = self.linear2(x)\n",
    "        # x = torch.relu(x)\n",
    "        # x = self.linear3(x)\n",
    "        # x = torch.relu(x)\n",
    "        # x = self.linear4(x)\n",
    "        return x"
   ]
  },
  {
   "cell_type": "code",
   "execution_count": 62,
   "id": "d5fb82f5-5916-471a-ba8e-1dbd9bbf5a61",
   "metadata": {},
   "outputs": [],
   "source": [
    "\"\"\"\n",
    "    鉴别器\n",
    "        - 判断真假！\n",
    "        - 给你一个图像，你告诉我这是个真的还是假的？\n",
    "        - 二分类算法！\n",
    "\"\"\"\n",
    "class Discriminator(nn.Module):\n",
    "    def __init__(self, in_features=28 * 28, out_features=2):\n",
    "        super().__init__()\n",
    "        self.linear1 = nn.Linear(in_features=in_features, out_features=512)\n",
    "        self.linear2 = nn.Linear(in_features=512, out_features=256)\n",
    "        self.linear3 = nn.Linear(in_features=256, out_features=32)\n",
    "        self.linear4 = nn.Linear(in_features=32, out_features=out_features)\n",
    "    def forward(self, x):\n",
    "        x = self.linear1(x)\n",
    "        x = torch.relu(x)\n",
    "        x = self.linear2(x)\n",
    "        x = torch.relu(x)\n",
    "        x = self.linear3(x)\n",
    "        x = torch.relu(x)\n",
    "        x = self.linear4(x)\n",
    "        return x"
   ]
  },
  {
   "cell_type": "code",
   "execution_count": 63,
   "id": "7568e737-8d6d-48e2-ab2a-82fcdf4c8d79",
   "metadata": {},
   "outputs": [
    {
     "data": {
      "text/plain": [
       "Discriminator1(\n",
       "  (linear1): Linear(in_features=784, out_features=2, bias=True)\n",
       ")"
      ]
     },
     "execution_count": 63,
     "metadata": {},
     "output_type": "execute_result"
    }
   ],
   "source": [
    "\"\"\"\n",
    "    构建模型\n",
    "\"\"\"\n",
    "# 定义一个生成器\n",
    "generator = Generator(in_features=128, out_features=28 * 28)\n",
    "generator.to(device=device)\n",
    "# 定义一个鉴别器\n",
    "discriminator = Discriminator(in_features=28 * 28, out_features=2)\n",
    "discriminator.to(device=device)\n",
    "\n",
    "# 定义一个生成器\n",
    "generator1 = Generator1(in_features=128, out_features=28 * 28)\n",
    "generator1.to(device=device)\n",
    "# 定义一个鉴别器\n",
    "discriminator1 = Discriminator1(in_features=28 * 28, out_features=2)\n",
    "discriminator1.to(device=device)"
   ]
  },
  {
   "cell_type": "code",
   "execution_count": 64,
   "id": "f4bff7df-fe13-4ead-83bf-6a94ce866094",
   "metadata": {},
   "outputs": [],
   "source": [
    "\"\"\"\n",
    "    优化器\n",
    "        - 执行梯度下降\n",
    "        - 2个网络，几个优化器？\n",
    "        - 同时训练的吗？\n",
    "\"\"\"\n",
    "g_optimizer = torch.optim.Adam(params=generator.parameters(), lr=1e-4)\n",
    "d_optimizer = torch.optim.Adam(params=discriminator.parameters(), lr=1e-4)"
   ]
  },
  {
   "cell_type": "code",
   "execution_count": 65,
   "id": "b06d7ad4-649c-4f86-bc5c-983464669f1e",
   "metadata": {},
   "outputs": [],
   "source": [
    "\"\"\"\n",
    "    定义一个损失函数\n",
    "\"\"\"\n",
    "\n",
    "loss_fn = nn.CrossEntropyLoss()"
   ]
  },
  {
   "cell_type": "code",
   "execution_count": 66,
   "id": "7b837780-33f5-47c8-a117-e9c447d3065b",
   "metadata": {},
   "outputs": [],
   "source": [
    "\"\"\"\n",
    "    训练轮次\n",
    "\"\"\"\n",
    "epochs = 1000"
   ]
  },
  {
   "cell_type": "code",
   "execution_count": 67,
   "id": "c8f9d7f8-1ba6-4a2d-b74e-2f02fb1eada9",
   "metadata": {},
   "outputs": [],
   "source": [
    "\"\"\"\n",
    "    训练样本构建：\n",
    "        - 真实图像：1\n",
    "            - 来自于待模仿的对象\n",
    "                - 手写数字\n",
    "        - 假图像：0\n",
    "            - 生成器生成的结果\n",
    "                - 输入随机数，生成的假图像\n",
    "\"\"\"\n",
    "def get_real_data_labels(size):\n",
    "    \"\"\"\n",
    "        获取真实数据的标签\n",
    "    \"\"\"\n",
    "    labels = torch.ones(size, device=device, dtype=torch.long)\n",
    "    return labels\n",
    "    \n",
    "def get_fake_data_labels(size):\n",
    "    \"\"\"\n",
    "        获取假数据的标签\n",
    "    \"\"\"\n",
    "    labels = torch.zeros(size, device=device, dtype=torch.long)\n",
    "    return labels"
   ]
  },
  {
   "cell_type": "code",
   "execution_count": 68,
   "id": "7ced799c-c36b-4161-bd3a-051b1bee361e",
   "metadata": {},
   "outputs": [],
   "source": [
    "\"\"\"\n",
    "    随机获取一批随机数\n",
    "\"\"\"\n",
    "def get_noise(size):\n",
    "    X = torch.randn(size, 128, device=device)\n",
    "    return X"
   ]
  },
  {
   "cell_type": "code",
   "execution_count": 69,
   "id": "fd4f5c7b-cc23-4ca8-983b-40d425167c3a",
   "metadata": {},
   "outputs": [],
   "source": [
    "\"\"\"\n",
    "    获取一批测试噪声\n",
    "    num_test_samples = 16\n",
    "\"\"\"\n",
    "num_test_samples = 16\n",
    "test_noise = get_noise(num_test_samples)"
   ]
  },
  {
   "cell_type": "code",
   "execution_count": 70,
   "id": "0663987d-0dfe-4c7a-910e-302e2b1c4dd2",
   "metadata": {},
   "outputs": [
    {
     "data": {
      "image/png": "[encoded data removed]",
      "text/plain": [
       "<Figure size 1200x800 with 16 Axes>"
      ]
     },
     "metadata": {},
     "output_type": "display_data"
    },
    {
     "name": "stdout",
     "output_type": "stream",
     "text": [
      "当前正在进行第108轮训练\n"
     ]
    },
    {
     "ename": "KeyboardInterrupt",
     "evalue": "",
     "output_type": "error",
     "traceback": [
      "\u001b[1;31m---------------------------------------------------------------------------\u001b[0m",
      "\u001b[1;31mKeyboardInterrupt\u001b[0m                         Traceback (most recent call last)",
      "Cell \u001b[1;32mIn[70], line 32\u001b[0m\n\u001b[0;32m     30\u001b[0m fake_pred \u001b[38;5;241m=\u001b[39m discriminator(fake_data)\n\u001b[0;32m     31\u001b[0m fake_loss \u001b[38;5;241m=\u001b[39m loss_fn(fake_pred, get_fake_data_labels(fake_data\u001b[38;5;241m.\u001b[39msize(\u001b[38;5;241m0\u001b[39m)))\n\u001b[1;32m---> 32\u001b[0m \u001b[43mfake_loss\u001b[49m\u001b[38;5;241;43m.\u001b[39;49m\u001b[43mbackward\u001b[49m\u001b[43m(\u001b[49m\u001b[43m)\u001b[49m\n\u001b[0;32m     33\u001b[0m \u001b[38;5;66;03m# 鉴别器优化一步\u001b[39;00m\n\u001b[0;32m     34\u001b[0m d_optimizer\u001b[38;5;241m.\u001b[39mstep()\n",
      "File \u001b[1;32mD:\\software\\Anaconda\\envs\\py39_normal\\lib\\site-packages\\torch\\_tensor.py:521\u001b[0m, in \u001b[0;36mTensor.backward\u001b[1;34m(self, gradient, retain_graph, create_graph, inputs)\u001b[0m\n\u001b[0;32m    511\u001b[0m \u001b[38;5;28;01mif\u001b[39;00m has_torch_function_unary(\u001b[38;5;28mself\u001b[39m):\n\u001b[0;32m    512\u001b[0m     \u001b[38;5;28;01mreturn\u001b[39;00m handle_torch_function(\n\u001b[0;32m    513\u001b[0m         Tensor\u001b[38;5;241m.\u001b[39mbackward,\n\u001b[0;32m    514\u001b[0m         (\u001b[38;5;28mself\u001b[39m,),\n\u001b[1;32m   (...)\u001b[0m\n\u001b[0;32m    519\u001b[0m         inputs\u001b[38;5;241m=\u001b[39minputs,\n\u001b[0;32m    520\u001b[0m     )\n\u001b[1;32m--> 521\u001b[0m \u001b[43mtorch\u001b[49m\u001b[38;5;241;43m.\u001b[39;49m\u001b[43mautograd\u001b[49m\u001b[38;5;241;43m.\u001b[39;49m\u001b[43mbackward\u001b[49m\u001b[43m(\u001b[49m\n\u001b[0;32m    522\u001b[0m \u001b[43m    \u001b[49m\u001b[38;5;28;43mself\u001b[39;49m\u001b[43m,\u001b[49m\u001b[43m \u001b[49m\u001b[43mgradient\u001b[49m\u001b[43m,\u001b[49m\u001b[43m \u001b[49m\u001b[43mretain_graph\u001b[49m\u001b[43m,\u001b[49m\u001b[43m \u001b[49m\u001b[43mcreate_graph\u001b[49m\u001b[43m,\u001b[49m\u001b[43m \u001b[49m\u001b[43minputs\u001b[49m\u001b[38;5;241;43m=\u001b[39;49m\u001b[43minputs\u001b[49m\n\u001b[0;32m    523\u001b[0m \u001b[43m\u001b[49m\u001b[43m)\u001b[49m\n",
      "File \u001b[1;32mD:\\software\\Anaconda\\envs\\py39_normal\\lib\\site-packages\\torch\\autograd\\__init__.py:289\u001b[0m, in \u001b[0;36mbackward\u001b[1;34m(tensors, grad_tensors, retain_graph, create_graph, grad_variables, inputs)\u001b[0m\n\u001b[0;32m    284\u001b[0m     retain_graph \u001b[38;5;241m=\u001b[39m create_graph\n\u001b[0;32m    286\u001b[0m \u001b[38;5;66;03m# The reason we repeat the same comment below is that\u001b[39;00m\n\u001b[0;32m    287\u001b[0m \u001b[38;5;66;03m# some Python versions print out the first line of a multi-line function\u001b[39;00m\n\u001b[0;32m    288\u001b[0m \u001b[38;5;66;03m# calls in the traceback and some print out the last line\u001b[39;00m\n\u001b[1;32m--> 289\u001b[0m \u001b[43m_engine_run_backward\u001b[49m\u001b[43m(\u001b[49m\n\u001b[0;32m    290\u001b[0m \u001b[43m    \u001b[49m\u001b[43mtensors\u001b[49m\u001b[43m,\u001b[49m\n\u001b[0;32m    291\u001b[0m \u001b[43m    \u001b[49m\u001b[43mgrad_tensors_\u001b[49m\u001b[43m,\u001b[49m\n\u001b[0;32m    292\u001b[0m \u001b[43m    \u001b[49m\u001b[43mretain_graph\u001b[49m\u001b[43m,\u001b[49m\n\u001b[0;32m    293\u001b[0m \u001b[43m    \u001b[49m\u001b[43mcreate_graph\u001b[49m\u001b[43m,\u001b[49m\n\u001b[0;32m    294\u001b[0m \u001b[43m    \u001b[49m\u001b[43minputs\u001b[49m\u001b[43m,\u001b[49m\n\u001b[0;32m    295\u001b[0m \u001b[43m    \u001b[49m\u001b[43mallow_unreachable\u001b[49m\u001b[38;5;241;43m=\u001b[39;49m\u001b[38;5;28;43;01mTrue\u001b[39;49;00m\u001b[43m,\u001b[49m\n\u001b[0;32m    296\u001b[0m \u001b[43m    \u001b[49m\u001b[43maccumulate_grad\u001b[49m\u001b[38;5;241;43m=\u001b[39;49m\u001b[38;5;28;43;01mTrue\u001b[39;49;00m\u001b[43m,\u001b[49m\n\u001b[0;32m    297\u001b[0m \u001b[43m\u001b[49m\u001b[43m)\u001b[49m\n",
      "File \u001b[1;32mD:\\software\\Anaconda\\envs\\py39_normal\\lib\\site-packages\\torch\\autograd\\graph.py:769\u001b[0m, in \u001b[0;36m_engine_run_backward\u001b[1;34m(t_outputs, *args, **kwargs)\u001b[0m\n\u001b[0;32m    767\u001b[0m     unregister_hooks \u001b[38;5;241m=\u001b[39m _register_logging_hooks_on_whole_graph(t_outputs)\n\u001b[0;32m    768\u001b[0m \u001b[38;5;28;01mtry\u001b[39;00m:\n\u001b[1;32m--> 769\u001b[0m     \u001b[38;5;28;01mreturn\u001b[39;00m Variable\u001b[38;5;241m.\u001b[39m_execution_engine\u001b[38;5;241m.\u001b[39mrun_backward(  \u001b[38;5;66;03m# Calls into the C++ engine to run the backward pass\u001b[39;00m\n\u001b[0;32m    770\u001b[0m         t_outputs, \u001b[38;5;241m*\u001b[39margs, \u001b[38;5;241m*\u001b[39m\u001b[38;5;241m*\u001b[39mkwargs\n\u001b[0;32m    771\u001b[0m     )  \u001b[38;5;66;03m# Calls into the C++ engine to run the backward pass\u001b[39;00m\n\u001b[0;32m    772\u001b[0m \u001b[38;5;28;01mfinally\u001b[39;00m:\n\u001b[0;32m    773\u001b[0m     \u001b[38;5;28;01mif\u001b[39;00m attach_logging_hooks:\n",
      "\u001b[1;31mKeyboardInterrupt\u001b[0m: "
     ]
    }
   ],
   "source": [
    "\"\"\"\n",
    "    训练过程\n",
    "\"\"\"\n",
    "for epoch in range(1, epochs + 1):\n",
    "    print(f\"当前正在进行第{epoch}轮训练\")\n",
    "    # 逐批次训练\n",
    "    for batch_idx, (batch_X, batch_y) in enumerate(dataloader):\n",
    "        # 1. 真实图像 \n",
    "        real_data = batch_X.view(batch_X.size(0), -1).to(device=device)\n",
    "        # 2. 给生成器准备的输入噪声\n",
    "        noise = get_noise(batch_X.size(0)).to(device=device)\n",
    "        # 把这部分计算从计算图中删掉\n",
    "        # 得到一个常量假数据\n",
    "        fake_data = generator(noise).detach()\n",
    "        \n",
    "        \"\"\"\n",
    "            互相踩在对方的肩上，一点点的进步！！！！！\n",
    "        \"\"\"\n",
    "        \"\"\"\n",
    "            优化一步鉴别器\n",
    "        \"\"\"\n",
    "        # 1. 训练过程\n",
    "        d_optimizer.zero_grad()\n",
    "        # 把真实数据交给鉴别器去鉴别\n",
    "        real_pred = discriminator(real_data)\n",
    "        # 计算真实数据产生的损失\n",
    "        real_loss = loss_fn(real_pred, get_real_data_labels(real_data.size(0)))\n",
    "        real_loss.backward()\n",
    "        \n",
    "        fake_pred = discriminator(fake_data)\n",
    "        fake_loss = loss_fn(fake_pred, get_fake_data_labels(fake_data.size(0)))\n",
    "        fake_loss.backward()\n",
    "        # 鉴别器优化一步\n",
    "        d_optimizer.step()\n",
    "\n",
    "        \"\"\"\n",
    "            训练一步生成器\n",
    "        \"\"\"\n",
    "        noise = get_noise(size=real_data.size(0))\n",
    "        fake_pred = generator(noise)\n",
    "        g_optimizer.zero_grad()\n",
    "        # 临时冻结 鉴别器，只有\n",
    "        for param in discriminator.parameters():\n",
    "            param.requires_grad=False\n",
    "        d_pred = discriminator(fake_pred)\n",
    "        # 解除冻结 鉴别器\n",
    "        for param in discriminator.parameters():\n",
    "            param.requires_grad=True\n",
    "        # 互相博弈的关键\n",
    "        g_loss = loss_fn(d_pred, get_real_data_labels(d_pred.size(0)))\n",
    "        g_loss.backward()\n",
    "        g_optimizer.step()\n",
    "    \n",
    "    # 每训练一轮，看看训练结果\n",
    "    with torch.no_grad():\n",
    "        \n",
    "        # 正向推理\n",
    "        img_pred = generator(test_noise)\n",
    "        img_pred = img_pred.view(img_pred.size(0), 28, 28).cpu().data\n",
    "        \n",
    "        # 画图\n",
    "        display.clear_output(wait=True)\n",
    "        \n",
    "        # 设置画图的大小\n",
    "        fig = plt.figure(1, figsize=(12, 8)) \n",
    "        # 划分为 4 x 4 的 网格\n",
    "        gs = gridspec.GridSpec(4, 4)\n",
    "        \n",
    "        # 遍历每一个\n",
    "        for i in range(4):\n",
    "            for j in range(4):\n",
    "                # 取每一个图\n",
    "                X = img_pred[i * 4 + j, :, :]\n",
    "                # 添加一个对应网格内的子图\n",
    "                ax = fig.add_subplot(gs[i, j])\n",
    "                # 在子图内绘制图像\n",
    "                ax.matshow(X, cmap=plt.get_cmap(\"Greys\"))\n",
    "#                 ax.set_xlabel(f\"{label}\")\n",
    "                ax.set_xticks(())\n",
    "                ax.set_yticks(())\n",
    "        plt.show()"
   ]
  },
  {
   "cell_type": "code",
   "execution_count": null,
   "id": "8ce12ed3-b7bd-42e1-8b22-a9b35fdac0ef",
   "metadata": {},
   "outputs": [],
   "source": []
  }
 ],
 "metadata": {
  "kernelspec": {
   "display_name": "Python 3 (ipykernel)",
   "language": "python",
   "name": "python3"
  },
  "language_info": {
   "codemirror_mode": {
    "name": "ipython",
    "version": 3
   },
   "file_extension": ".py",
   "mimetype": "text/x-python",
   "name": "python",
   "nbconvert_exporter": "python",
   "pygments_lexer": "ipython3",
   "version": "3.9.19"
  }
 },
 "nbformat": 4,
 "nbformat_minor": 5
}
