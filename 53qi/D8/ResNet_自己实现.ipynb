{
 "cells": [
  {
   "cell_type": "code",
   "execution_count": 1,
   "id": "6ba87797-2fe3-4f28-8167-6a1f41634e4b",
   "metadata": {},
   "outputs": [],
   "source": [
    "import torch\n",
    "from torch import nn"
   ]
  },
  {
   "cell_type": "markdown",
   "id": "d706caa2-afef-45c6-b9bd-63c83200c7af",
   "metadata": {},
   "source": [
    "# 1. 残差快"
   ]
  },
  {
   "cell_type": "code",
   "execution_count": 2,
   "id": "fba0e899-0965-4f4f-8913-b047d8feb95a",
   "metadata": {},
   "outputs": [],
   "source": [
    "class Residual(nn.Module):\n",
    "    \"\"\"\n",
    "        残差快：组成残差网络的最小单位\n",
    "        in_channels: 输入通道数\n",
    "        out_channels: 输出通道数\n",
    "        stride: 步长\n",
    "    \"\"\"\n",
    "    def __init__(self, in_channels, out_channels, stride=1):\n",
    "        \"\"\"\n",
    "            初始化函数\n",
    "        \"\"\"\n",
    "        super().__init__()\n",
    "\n",
    "        self.conv1 = nn.Conv2d(in_channels=in_channels, out_channels=out_channels, kernel_size=3, stride=stride, padding=1)\n",
    "        self.bn1 = nn.BatchNorm2d(num_features=out_channels)\n",
    "        self.relu = nn.ReLU()\n",
    "        self.conv2 = nn.Conv2d(in_channels=out_channels, out_channels=out_channels, kernel_size=3, stride=1, padding=1)\n",
    "        self.bn2 = nn.BatchNorm2d(num_features=out_channels)\n",
    "        # 处理维度不匹配的情况\n",
    "        self.shortcut = nn.Sequential()\n",
    "        if stride != 1 or in_channels != out_channels:\n",
    "            self.shortcut = nn.Sequential(nn.Conv2d(in_channels=in_channels, out_channels=out_channels, kernel_size=1, stride=stride),\n",
    "                                          nn.BatchNorm2d(num_features=out_channels))\n",
    "\n",
    "    def forward(self, x):\n",
    "        \"\"\"\n",
    "            前向传播\n",
    "            返回f(x) + 短接\n",
    "        \"\"\"\n",
    "        out = self.conv1(x)\n",
    "        out = self.bn1(out)\n",
    "        out = self.relu(out)\n",
    "        out = self.conv2(out)\n",
    "        out = self.bn2(out)\n",
    "        \n",
    "        return self.relu(out + self.shortcut(x))"
   ]
  },
  {
   "cell_type": "markdown",
   "id": "5b487446-6e81-4cce-8d4b-1f610b8a6481",
   "metadata": {},
   "source": [
    "# 2. 残差模块"
   ]
  },
  {
   "cell_type": "code",
   "execution_count": 3,
   "id": "ece335ba-4965-4ef8-a9b4-aa30b987e609",
   "metadata": {},
   "outputs": [],
   "source": [
    "class ResnetBlock(nn.Module):\n",
    "    \"\"\"\n",
    "        残差模块：由多个残差块（Residual）堆叠而成\n",
    "        num_channels: 每个残差块的输出通道数\n",
    "        num_res: 残差块的数量\n",
    "        first_block: 是否为网络的第一个残差模块\n",
    "    \"\"\"\n",
    "    # def __init__(self, num_channels, num_res, first_block=False):\n",
    "    #     super().__init__()\n",
    "    #     layers = []\n",
    "\n",
    "    #     for i in range(num_res):\n",
    "    #         if i == 0 and not first_block:\n",
    "    #             # 第一个残差快，但不是第一个残差模块时， 下采样+通道变化\n",
    "    #             layers.append(Residual(in_channels=num_channels // 2, out_channels=num_channels, stride=2))\n",
    "    #         else:\n",
    "    #             layers.append(Residual(in_channels=num_channels, out_channels=num_channels))\n",
    "    #     self.net = nn.Sequential(*layers)\n",
    "\n",
    "    def __init__(self, in_channels, out_channels, num_res, first_block=False):\n",
    "        super().__init__()\n",
    "        layers = []\n",
    "        for i in range(num_res):\n",
    "            if i == 0:\n",
    "                # 第一个残差块，输入输出通道可能不同\n",
    "                stride = 1 if first_block else 2\n",
    "                layers.append(Residual(in_channels, out_channels, stride=stride))\n",
    "            else:\n",
    "                # 后续残差块，输入输出通道一致\n",
    "                layers.append(Residual(out_channels, out_channels, stride=1))\n",
    "        self.net = nn.Sequential(*layers)\n",
    "         \n",
    "    def forward(self, x):\n",
    "        return self.net(x)        "
   ]
  },
  {
   "cell_type": "markdown",
   "id": "8a3bdf57-5158-4e57-8e79-81b483be2e81",
   "metadata": {},
   "source": [
    "# 3. 残差网络"
   ]
  },
  {
   "cell_type": "code",
   "execution_count": 4,
   "id": "94c7f82e-a1da-4eb7-95e3-bf6a7049536a",
   "metadata": {},
   "outputs": [],
   "source": [
    "class ResNet(nn.Module):\n",
    "    \"\"\"\n",
    "        残差模块：由输入层， 残差模块层(由多个残差模块组成)， 输出层组成。\n",
    "        num_blocks: 残差模块内的残差快数量\n",
    "        num_classes: 最终分类的数量\n",
    "    \"\"\"\n",
    "    def __init__(self, num_blocks=[3, 4, 6, 3], num_classes=10):\n",
    "        super().__init__()\n",
    "\n",
    "        # 输入层\n",
    "        self.input_layer = nn.Sequential(nn.Conv2d(in_channels=1, out_channels=64, kernel_size=7, stride=2, padding=3),\n",
    "                                         nn.BatchNorm2d(num_features=64),\n",
    "                                         nn.ReLU(),\n",
    "                                         nn.MaxPool2d(kernel_size=3, stride=2, padding=1))\n",
    "\n",
    "        # 残差模块\n",
    "        self.resblock_layer =  nn.Sequential(ResnetBlock(in_channels=64, out_channels=64, num_res=num_blocks[0], first_block=True),\n",
    "                                              ResnetBlock(in_channels=64, out_channels=128, num_res=num_blocks[1]),\n",
    "                                              ResnetBlock(in_channels=128, out_channels=256, num_res=num_blocks[2]),\n",
    "                                              ResnetBlock(in_channels=256, out_channels=512, num_res=num_blocks[3]))\n",
    "\n",
    "        # 全局平均池化和全连接层\n",
    "        self.output_layer =  nn.Sequential(nn.AdaptiveAvgPool2d((1, 1)),\n",
    "                                           nn.Flatten(start_dim=1, end_dim=-1),\n",
    "                                           nn.Linear(in_features=512, out_features=num_classes))\n",
    "\n",
    "    def forward(self, x):\n",
    "        x = self.input_layer(x)\n",
    "        x = self.resblock_layer(x)\n",
    "        x = self.output_layer(x)\n",
    "        return x"
   ]
  },
  {
   "cell_type": "markdown",
   "id": "afeffe49-8243-4307-92d5-1ddff7ae8cf7",
   "metadata": {},
   "source": [
    "# 4. 数据读取"
   ]
  },
  {
   "cell_type": "code",
   "execution_count": 5,
   "id": "96365ad0-149b-43e9-9a02-4135df25d55b",
   "metadata": {},
   "outputs": [],
   "source": [
    "import numpy as np\n",
    "from torchvision import datasets, transforms\n",
    "from torch.utils.data import DataLoader, random_split\n",
    "\n",
    "# 定义数据预处理\n",
    "transform = transforms.Compose([\n",
    "    transforms.Resize((224, 224)),\n",
    "    transforms.ToTensor(),\n",
    "])\n",
    "\n",
    "# 下载MNIST数据集\n",
    "train_dataset = datasets.MNIST(root='./data', train=True, download=True, transform=transform)\n",
    "test_dataset = datasets.MNIST(root='./data', train=False, download=True, transform=transform)\n",
    "\n",
    "# 划分部分训练集用于验证\n",
    "train_size = int(0.9 * len(train_dataset))\n",
    "val_size = len(train_dataset) - train_size\n",
    "train_dataset, val_dataset = random_split(train_dataset, [train_size, val_size])\n",
    "\n",
    "train_loader = DataLoader(train_dataset, batch_size=128, shuffle=True)\n",
    "val_loader = DataLoader(val_dataset, batch_size=128, shuffle=False)\n",
    "test_loader = DataLoader(test_dataset, batch_size=128, shuffle=False)"
   ]
  },
  {
   "cell_type": "markdown",
   "id": "147a4aef-f8da-4819-98bb-0cd42bbb844b",
   "metadata": {},
   "source": [
    "# 5. 模型训练与验证"
   ]
  },
  {
   "cell_type": "code",
   "execution_count": 6,
   "id": "8426fa46-6fd9-41a0-b93c-ce25801a6231",
   "metadata": {},
   "outputs": [],
   "source": [
    "import torch.optim as optim\n",
    "\n",
    "device = torch.device('cuda' if torch.cuda.is_available() else 'cpu')\n",
    "mynet = ResNet(num_blocks=[2, 2, 2, 2], num_classes=10).to(device)\n",
    "\n",
    "criterion = nn.CrossEntropyLoss()\n",
    "optimizer = optim.SGD(mynet.parameters(), lr=0.01, momentum=0.0)\n",
    "\n",
    "def train(model, loader, optimizer, criterion, device):\n",
    "    model.train()\n",
    "    total_loss, total_correct = 0, 0\n",
    "    for data, target in loader:\n",
    "        data, target = data.to(device), target.to(device)\n",
    "        optimizer.zero_grad()\n",
    "        output = model(data)\n",
    "        loss = criterion(output, target)\n",
    "        loss.backward()\n",
    "        optimizer.step()\n",
    "        total_loss += loss.item() * data.size(0)\n",
    "        total_correct += (output.argmax(1) == target).sum().item()\n",
    "    avg_loss = total_loss / len(loader.dataset)\n",
    "    avg_acc = total_correct / len(loader.dataset)\n",
    "    return avg_loss, avg_acc\n",
    "\n",
    "def evaluate(model, loader, criterion, device):\n",
    "    model.eval()\n",
    "    total_loss, total_correct = 0, 0\n",
    "    with torch.no_grad():\n",
    "        for data, target in loader:\n",
    "            data, target = data.to(device), target.to(device)\n",
    "            output = model(data)\n",
    "            loss = criterion(output, target)\n",
    "            total_loss += loss.item() * data.size(0)\n",
    "            total_correct += (output.argmax(1) == target).sum().item()\n",
    "    avg_loss = total_loss / len(loader.dataset)\n",
    "    avg_acc = total_correct / len(loader.dataset)\n",
    "    return avg_loss, avg_acc"
   ]
  },
  {
   "cell_type": "markdown",
   "id": "f03adfb4-1631-4953-a3ea-c81738fd1e7e",
   "metadata": {},
   "source": [
    "# 6. 训练与验证"
   ]
  },
  {
   "cell_type": "code",
   "execution_count": 7,
   "id": "60762eac-4983-4544-9f1d-f5094553024c",
   "metadata": {},
   "outputs": [
    {
     "name": "stdout",
     "output_type": "stream",
     "text": [
      "Epoch 1: Train Loss=0.3896, Train Acc=0.9046, Val Loss=0.1039, Val Acc=0.9733\n",
      "Epoch 2: Train Loss=0.0632, Train Acc=0.9837, Val Loss=0.0587, Val Acc=0.9847\n",
      "Epoch 3: Train Loss=0.0387, Train Acc=0.9901, Val Loss=0.0425, Val Acc=0.9867\n"
     ]
    }
   ],
   "source": [
    "for epoch in range(3):\n",
    "    train_loss, train_acc = train(mynet, train_loader, optimizer, criterion, device)\n",
    "    val_loss, val_acc = evaluate(mynet, val_loader, criterion, device)\n",
    "    print(f\"Epoch {epoch+1}: Train Loss={train_loss:.4f}, Train Acc={train_acc:.4f}, Val Loss={val_loss:.4f}, Val Acc={val_acc:.4f}\")"
   ]
  },
  {
   "cell_type": "markdown",
   "id": "72015a6f-e67a-4914-b05d-0c8c811d2dd5",
   "metadata": {},
   "source": [
    "# 7. 测试集评估"
   ]
  },
  {
   "cell_type": "code",
   "execution_count": 8,
   "id": "07ff9938-b2c6-4c59-840d-5d8ccd96f0c5",
   "metadata": {},
   "outputs": [
    {
     "name": "stdout",
     "output_type": "stream",
     "text": [
      "Test Loss=0.0390, Test Acc=0.9884\n"
     ]
    }
   ],
   "source": [
    "test_loss, test_acc = evaluate(mynet, test_loader, criterion, device)\n",
    "print(f\"Test Loss={test_loss:.4f}, Test Acc={test_acc:.4f}\")"
   ]
  }
 ],
 "metadata": {
  "kernelspec": {
   "display_name": "Python(py311)",
   "language": "python",
   "name": "py311"
  },
  "language_info": {
   "codemirror_mode": {
    "name": "ipython",
    "version": 3
   },
   "file_extension": ".py",
   "mimetype": "text/x-python",
   "name": "python",
   "nbconvert_exporter": "python",
   "pygments_lexer": "ipython3",
   "version": "3.11.11"
  }
 },
 "nbformat": 4,
 "nbformat_minor": 5
}
