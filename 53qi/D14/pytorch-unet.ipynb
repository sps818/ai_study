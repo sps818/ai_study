{
 "cells": [
  {
   "cell_type": "markdown",
   "id": "96bdb940-77a1-4453-ba98-50d0953d128e",
   "metadata": {},
   "source": [
    "![unet.png](unet.png)"
   ]
  },
  {
   "cell_type": "code",
   "execution_count": 5,
   "id": "e4a3fd41-a2cd-4fd5-8e8e-bcb4137c82d0",
   "metadata": {},
   "outputs": [],
   "source": [
    "import os\n",
    "from IPython.display import Image,display\n",
    "from tensorflow.keras.preprocessing.image import load_img\n",
    "from PIL import ImageOps"
   ]
  }
 ],
 "metadata": {
  "kernelspec": {
   "display_name": "Python(py311)",
   "language": "python",
   "name": "py311"
  },
  "language_info": {
   "codemirror_mode": {
    "name": "ipython",
    "version": 3
   },
   "file_extension": ".py",
   "mimetype": "text/x-python",
   "name": "python",
   "nbconvert_exporter": "python",
   "pygments_lexer": "ipython3",
   "version": "3.11.11"
  }
 },
 "nbformat": 4,
 "nbformat_minor": 5
}
