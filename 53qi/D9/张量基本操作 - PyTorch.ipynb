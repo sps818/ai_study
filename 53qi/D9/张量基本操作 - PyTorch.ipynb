{
 "cells": [
  {
   "cell_type": "code",
   "execution_count": 1,
   "id": "64bba753-97d7-4a8b-b345-f621828da21d",
   "metadata": {},
   "outputs": [],
   "source": [
    "import torch\n",
    "import numpy as np"
   ]
  },
  {
   "cell_type": "markdown",
   "id": "8e6ffd30-ff19-4a27-ad63-acdfa639b867",
   "metadata": {},
   "source": [
    "# 1.张量的基础操作"
   ]
  },
  {
   "cell_type": "code",
   "execution_count": 2,
   "id": "fa59f440-7221-4a22-871b-f7379df9b46f",
   "metadata": {},
   "outputs": [
    {
     "name": "stdout",
     "output_type": "stream",
     "text": [
      "直接输出：3, \n",
      "数据类型：<class 'torch.Tensor'>, \n",
      "形状：torch.Size([])\n"
     ]
    }
   ],
   "source": [
    "# 创建0维张量\n",
    "data = torch.tensor(3)\n",
    "print(f'直接输出：{data}, \\n数据类型：{type(data)}, \\n形状：{data.shape}')"
   ]
  },
  {
   "cell_type": "code",
   "execution_count": 3,
   "id": "9053165e-462c-41a8-9b08-82f845bac734",
   "metadata": {},
   "outputs": [
    {
     "name": "stdout",
     "output_type": "stream",
     "text": [
      "直接输出：tensor([1., 2., 3.]), \n",
      "数据类型：<class 'torch.Tensor'>, \n",
      "形状：torch.Size([3])\n"
     ]
    }
   ],
   "source": [
    "# 创建1维张量\n",
    "data = torch.tensor([1.0, 2.0, 3.0])\n",
    "print(f'直接输出：{data}, \\n数据类型：{type(data)}, \\n形状：{data.shape}')"
   ]
  },
  {
   "cell_type": "code",
   "execution_count": 4,
   "id": "1763c51d-0657-4fe3-81ff-39699a9cb4ec",
   "metadata": {},
   "outputs": [
    {
     "name": "stdout",
     "output_type": "stream",
     "text": [
      "直接输出：tensor([[1., 2.],\n",
      "        [3., 4.],\n",
      "        [5., 6.]], dtype=torch.float16), \n",
      "数据类型：<class 'torch.Tensor'>, \n",
      "形状：torch.Size([3, 2])\n"
     ]
    }
   ],
   "source": [
    "# 创建2维张量\n",
    "data = torch.tensor([[1, 2],\n",
    "                     [3, 4],\n",
    "                     [5, 6]], dtype=torch.float16)\n",
    "print(f'直接输出：{data}, \\n数据类型：{type(data)}, \\n形状：{data.shape}')"
   ]
  },
  {
   "cell_type": "code",
   "execution_count": 5,
   "id": "1713db59-d1d1-4ec8-af47-5e7ea3198b47",
   "metadata": {},
   "outputs": [
    {
     "name": "stdout",
     "output_type": "stream",
     "text": [
      "直接输出：tensor([[[1., 2., 3., 4., 5.],\n",
      "         [2., 3., 4., 5., 6.]],\n",
      "\n",
      "        [[1., 2., 3., 4., 5.],\n",
      "         [2., 3., 4., 5., 6.]]], dtype=torch.float64), \n",
      "数据类型：<class 'torch.Tensor'>, \n",
      "形状：torch.Size([2, 2, 5])\n"
     ]
    }
   ],
   "source": [
    "# 创建3维张量\n",
    "data = torch.tensor([\n",
    "    [[1, 2, 3, 4, 5],\n",
    "     [2, 3, 4, 5, 6]],\n",
    "    [[1, 2, 3, 4, 5],\n",
    "     [2, 3, 4, 5, 6]]\n",
    "], dtype=torch.float64)\n",
    "print(f'直接输出：{data}, \\n数据类型：{type(data)}, \\n形状：{data.shape}')"
   ]
  },
  {
   "cell_type": "markdown",
   "id": "26a0bd86-4fad-40f2-ba42-b466c9f70309",
   "metadata": {},
   "source": [
    "# 转换成numpy"
   ]
  },
  {
   "cell_type": "code",
   "execution_count": 6,
   "id": "fbda0373-6e35-4cd0-9e3d-a84563c01824",
   "metadata": {},
   "outputs": [
    {
     "name": "stdout",
     "output_type": "stream",
     "text": [
      "直接输出：tensor([1, 2, 3, 4, 5]), \n",
      "数据类型：<class 'torch.Tensor'>, \n",
      "形状：torch.Size([5])\n",
      "直接输出：[1 2 3 4 5], \n",
      "数据类型：<class 'numpy.ndarray'>, \n",
      "形状：(5,)\n",
      "直接输出：[1 2 3 4 5], \n",
      "数据类型：<class 'numpy.ndarray'>, \n",
      "形状：(5,)\n"
     ]
    }
   ],
   "source": [
    "data = torch.tensor([1, 2, 3, 4, 5])\n",
    "print(f'直接输出：{data}, \\n数据类型：{type(data)}, \\n形状：{data.shape}')\n",
    "data = data.numpy()\n",
    "print(f'直接输出：{data}, \\n数据类型：{type(data)}, \\n形状：{data.shape}')\n",
    "data = np.array(data)\n",
    "print(f'直接输出：{data}, \\n数据类型：{type(data)}, \\n形状：{data.shape}')"
   ]
  },
  {
   "cell_type": "markdown",
   "id": "dd444c03-3b37-4e5b-b85e-be7eaf78b390",
   "metadata": {},
   "source": [
    "# 3.常用函数"
   ]
  },
  {
   "cell_type": "code",
   "execution_count": 7,
   "id": "730b5df6-5711-4f2a-8dff-21f04e2f2e6f",
   "metadata": {},
   "outputs": [],
   "source": [
    "a = torch.tensor([[1, 2],\n",
    "                 [3, 4]])\n",
    "b = torch.tensor([[1, 1],\n",
    "                 [1, 1]])"
   ]
  },
  {
   "cell_type": "code",
   "execution_count": 8,
   "id": "4a169793-7f6e-49db-b22e-6287e0c36f93",
   "metadata": {},
   "outputs": [
    {
     "data": {
      "text/plain": [
       "tensor([[2, 3],\n",
       "        [4, 5]])"
      ]
     },
     "execution_count": 8,
     "metadata": {},
     "output_type": "execute_result"
    }
   ],
   "source": [
    "# 加法\n",
    "torch.add(a, b)"
   ]
  },
  {
   "cell_type": "code",
   "execution_count": 9,
   "id": "6aff41e3-55a0-4564-a612-9203241fdb3d",
   "metadata": {},
   "outputs": [
    {
     "data": {
      "text/plain": [
       "tensor([[1, 2],\n",
       "        [3, 4]])"
      ]
     },
     "execution_count": 9,
     "metadata": {},
     "output_type": "execute_result"
    }
   ],
   "source": [
    "# 元素相乘\n",
    "torch.multiply(a, b)"
   ]
  },
  {
   "cell_type": "code",
   "execution_count": 10,
   "id": "f24805bf-0cd4-442f-9d3b-4b3f22208b7d",
   "metadata": {},
   "outputs": [
    {
     "data": {
      "text/plain": [
       "tensor([[3, 3],\n",
       "        [7, 7]])"
      ]
     },
     "execution_count": 10,
     "metadata": {},
     "output_type": "execute_result"
    }
   ],
   "source": [
    "# 矩阵乘法\n",
    "# a.dtype\n",
    "torch.matmul(a, b)"
   ]
  },
  {
   "cell_type": "code",
   "execution_count": 11,
   "id": "9e5eba67-f1fe-4b8b-b286-59d58eea87d7",
   "metadata": {},
   "outputs": [
    {
     "data": {
      "text/plain": [
       "tensor(4)"
      ]
     },
     "execution_count": 11,
     "metadata": {},
     "output_type": "execute_result"
    }
   ],
   "source": [
    "# 最大值\n",
    "torch.max(a)"
   ]
  },
  {
   "cell_type": "code",
   "execution_count": 12,
   "id": "d138db3c-0e49-4d55-af70-8381044aba1c",
   "metadata": {},
   "outputs": [
    {
     "data": {
      "text/plain": [
       "tensor(3)"
      ]
     },
     "execution_count": 12,
     "metadata": {},
     "output_type": "execute_result"
    }
   ],
   "source": [
    "# 全局最大值索引\n",
    "torch.argmax(a)"
   ]
  },
  {
   "cell_type": "code",
   "execution_count": 13,
   "id": "8e49170c-900b-4c0d-bc12-c5fd10ced276",
   "metadata": {},
   "outputs": [
    {
     "data": {
      "text/plain": [
       "tensor([1, 1])"
      ]
     },
     "execution_count": 13,
     "metadata": {},
     "output_type": "execute_result"
    }
   ],
   "source": [
    "# 按维度最大值索引\n",
    "torch.max(a, dim=1).indices"
   ]
  },
  {
   "cell_type": "code",
   "execution_count": 15,
   "id": "cf02a060-524d-43d0-aff4-1a55b57b8769",
   "metadata": {},
   "outputs": [
    {
     "data": {
      "text/plain": [
       "tensor(2.5000)"
      ]
     },
     "execution_count": 15,
     "metadata": {},
     "output_type": "execute_result"
    }
   ],
   "source": [
    "# 平均值\n",
    "torch.mean(a.float())"
   ]
  },
  {
   "cell_type": "code",
   "execution_count": null,
   "id": "0f7e5afb-678c-40b7-9ce7-c9ec18eae517",
   "metadata": {},
   "outputs": [],
   "source": []
  }
 ],
 "metadata": {
  "kernelspec": {
   "display_name": "Python(py311)",
   "language": "python",
   "name": "py311"
  },
  "language_info": {
   "codemirror_mode": {
    "name": "ipython",
    "version": 3
   },
   "file_extension": ".py",
   "mimetype": "text/x-python",
   "name": "python",
   "nbconvert_exporter": "python",
   "pygments_lexer": "ipython3",
   "version": "3.11.11"
  }
 },
 "nbformat": 4,
 "nbformat_minor": 5
}
