{
 "cells": [
  {
   "cell_type": "code",
   "execution_count": 1,
   "id": "cf7cb082-e4e5-446e-b4c4-81091167cf21",
   "metadata": {},
   "outputs": [],
   "source": [
    "\"\"\"\n",
    "    He 初始化卷积\n",
    "\"\"\"\n",
    "import torch\n",
    "from torch import nn\n",
    "from torch.nn import init\n",
    "\n",
    "# 定义一个卷积层\n",
    "conv = nn.Conv2d(in_channels=3, out_channels=16, kernel_size=3)\n",
    "\n",
    "# 使用 He 初始化 (Kaiming 初始化)\n",
    "init.kaiming_normal_(tensor=conv.weight, mode=\"fan_out\", nonlinearity=\"leaky_relu\")\n",
    "\n",
    "# 如果有偏置项，可以用常数初始化\n",
    "if conv.bias is not None:\n",
    "    init.constant_(conv.bias, 0)"
   ]
  },
  {
   "cell_type": "code",
   "execution_count": 3,
   "id": "3db2b6f0-bf4a-4c94-bc84-cc7e22614441",
   "metadata": {},
   "outputs": [
    {
     "data": {
      "text/plain": [
       "torch.Size([16, 3, 3, 3])"
      ]
     },
     "execution_count": 3,
     "metadata": {},
     "output_type": "execute_result"
    }
   ],
   "source": [
    "conv.weight.shape"
   ]
  },
  {
   "cell_type": "code",
   "execution_count": 4,
   "id": "7dcf2796-d0d3-4bf8-a03a-4d0744f32592",
   "metadata": {
    "scrolled": true
   },
   "outputs": [
    {
     "data": {
      "text/plain": [
       "Parameter containing:\n",
       "tensor([0., 0., 0., 0., 0., 0., 0., 0., 0., 0., 0., 0., 0., 0., 0., 0.],\n",
       "       requires_grad=True)"
      ]
     },
     "execution_count": 4,
     "metadata": {},
     "output_type": "execute_result"
    }
   ],
   "source": [
    "conv.bias"
   ]
  },
  {
   "cell_type": "code",
   "execution_count": null,
   "id": "d2408f5b-ddca-4c68-bab7-6b66b69e43cb",
   "metadata": {},
   "outputs": [],
   "source": []
  }
 ],
 "metadata": {
  "kernelspec": {
   "display_name": "Python(py311)",
   "language": "python",
   "name": "py311"
  },
  "language_info": {
   "codemirror_mode": {
    "name": "ipython",
    "version": 3
   },
   "file_extension": ".py",
   "mimetype": "text/x-python",
   "name": "python",
   "nbconvert_exporter": "python",
   "pygments_lexer": "ipython3",
   "version": "3.11.11"
  }
 },
 "nbformat": 4,
 "nbformat_minor": 5
}
