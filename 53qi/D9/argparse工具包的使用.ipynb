{
 "cells": [
  {
   "cell_type": "code",
   "execution_count": 9,
   "id": "fbdec875-d415-44ff-ad77-afff87cae922",
   "metadata": {},
   "outputs": [],
   "source": [
    "import argparse"
   ]
  },
  {
   "cell_type": "code",
   "execution_count": 10,
   "id": "a1988d72-97dd-4cd2-97e7-5b74d0cea04a",
   "metadata": {},
   "outputs": [],
   "source": [
    "ap = argparse.ArgumentParser()"
   ]
  },
  {
   "cell_type": "code",
   "execution_count": 11,
   "id": "a32cc459-8dcf-44f9-84ae-94d26ef74f27",
   "metadata": {},
   "outputs": [
    {
     "data": {
      "text/plain": [
       "_StoreAction(option_strings=['-c', '--cascade'], dest='cascade', nargs=None, const=None, default=None, type=None, choices=None, required=True, help='请输入xxx', metavar=None)"
      ]
     },
     "execution_count": 11,
     "metadata": {},
     "output_type": "execute_result"
    }
   ],
   "source": [
    "# -c是小名，--cascade是完整的参数名，这一步是自定义参数\n",
    "ap.add_argument(\"-c\", \"--cascade\", required=True, help=\"请输入cascade\")\n",
    "ap.add_argument(\"-m\", \"--model\", required=True, help=\"请输入model\")\n",
    "ap.add_argument(\"-v\", \"--video\", required=True, help=\"请输入video\")"
   ]
  },
  {
   "cell_type": "code",
   "execution_count": null,
   "id": "5a05a7d8-b523-4b67-a2fc-ff650df4e83d",
   "metadata": {},
   "outputs": [],
   "source": [
    "# 对所有自定义参数打包\n",
    "args = vars(ap)"
   ]
  },
  {
   "cell_type": "code",
   "execution_count": null,
   "id": "e1f70d4d-b1eb-4e6d-993c-7df1dc63519d",
   "metadata": {},
   "outputs": [],
   "source": []
  }
 ],
 "metadata": {
  "kernelspec": {
   "display_name": "Python(py311)",
   "language": "python",
   "name": "py311"
  },
  "language_info": {
   "codemirror_mode": {
    "name": "ipython",
    "version": 3
   },
   "file_extension": ".py",
   "mimetype": "text/x-python",
   "name": "python",
   "nbconvert_exporter": "python",
   "pygments_lexer": "ipython3",
   "version": "3.11.11"
  }
 },
 "nbformat": 4,
 "nbformat_minor": 5
}
