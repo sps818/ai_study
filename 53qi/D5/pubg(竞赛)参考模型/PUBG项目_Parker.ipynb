{
 "cells": [
  {
   "cell_type": "markdown",
   "id": "f3304482-9723-4781-a6e1-d8b9acca0c9c",
   "metadata": {},
   "source": [
    "### 数据读取"
   ]
  },
  {
   "cell_type": "code",
   "execution_count": 1,
   "id": "c3acb0a0-4645-4edc-88a1-fa9d760d7e71",
   "metadata": {},
   "outputs": [],
   "source": [
    "import pandas as pd"
   ]
  },
  {
   "cell_type": "code",
   "execution_count": 2,
   "id": "a4d38c53-8284-4156-8a5b-3c7f15568231",
   "metadata": {},
   "outputs": [],
   "source": [
    "data = pd.read_csv(filepath_or_buffer=\"./data/train_V2.csv\")"
   ]
  },
  {
   "cell_type": "code",
   "execution_count": 3,
   "id": "26d55572-05f1-4ff7-ada1-0a607d75349e",
   "metadata": {
    "scrolled": true
   },
   "outputs": [
    {
     "data": {
      "text/html": [
       "<div>\n",
       "<style scoped>\n",
       "    .dataframe tbody tr th:only-of-type {\n",
       "        vertical-align: middle;\n",
       "    }\n",
       "\n",
       "    .dataframe tbody tr th {\n",
       "        vertical-align: top;\n",
       "    }\n",
       "\n",
       "    .dataframe thead th {\n",
       "        text-align: right;\n",
       "    }\n",
       "</style>\n",
       "<table border=\"1\" class=\"dataframe\">\n",
       "  <thead>\n",
       "    <tr style=\"text-align: right;\">\n",
       "      <th></th>\n",
       "      <th>Id</th>\n",
       "      <th>groupId</th>\n",
       "      <th>matchId</th>\n",
       "      <th>assists</th>\n",
       "      <th>boosts</th>\n",
       "      <th>damageDealt</th>\n",
       "      <th>DBNOs</th>\n",
       "      <th>headshotKills</th>\n",
       "      <th>heals</th>\n",
       "      <th>killPlace</th>\n",
       "      <th>...</th>\n",
       "      <th>revives</th>\n",
       "      <th>rideDistance</th>\n",
       "      <th>roadKills</th>\n",
       "      <th>swimDistance</th>\n",
       "      <th>teamKills</th>\n",
       "      <th>vehicleDestroys</th>\n",
       "      <th>walkDistance</th>\n",
       "      <th>weaponsAcquired</th>\n",
       "      <th>winPoints</th>\n",
       "      <th>winPlacePerc</th>\n",
       "    </tr>\n",
       "  </thead>\n",
       "  <tbody>\n",
       "    <tr>\n",
       "      <th>0</th>\n",
       "      <td>7f96b2f878858a</td>\n",
       "      <td>4d4b580de459be</td>\n",
       "      <td>a10357fd1a4a91</td>\n",
       "      <td>0</td>\n",
       "      <td>0</td>\n",
       "      <td>0.00</td>\n",
       "      <td>0</td>\n",
       "      <td>0</td>\n",
       "      <td>0</td>\n",
       "      <td>60</td>\n",
       "      <td>...</td>\n",
       "      <td>0</td>\n",
       "      <td>0.0000</td>\n",
       "      <td>0</td>\n",
       "      <td>0.000</td>\n",
       "      <td>0</td>\n",
       "      <td>0</td>\n",
       "      <td>244.80</td>\n",
       "      <td>1</td>\n",
       "      <td>1466</td>\n",
       "      <td>0.4444</td>\n",
       "    </tr>\n",
       "    <tr>\n",
       "      <th>1</th>\n",
       "      <td>eef90569b9d03c</td>\n",
       "      <td>684d5656442f9e</td>\n",
       "      <td>aeb375fc57110c</td>\n",
       "      <td>0</td>\n",
       "      <td>0</td>\n",
       "      <td>91.47</td>\n",
       "      <td>0</td>\n",
       "      <td>0</td>\n",
       "      <td>0</td>\n",
       "      <td>57</td>\n",
       "      <td>...</td>\n",
       "      <td>0</td>\n",
       "      <td>0.0045</td>\n",
       "      <td>0</td>\n",
       "      <td>11.040</td>\n",
       "      <td>0</td>\n",
       "      <td>0</td>\n",
       "      <td>1434.00</td>\n",
       "      <td>5</td>\n",
       "      <td>0</td>\n",
       "      <td>0.6400</td>\n",
       "    </tr>\n",
       "    <tr>\n",
       "      <th>2</th>\n",
       "      <td>1eaf90ac73de72</td>\n",
       "      <td>6a4a42c3245a74</td>\n",
       "      <td>110163d8bb94ae</td>\n",
       "      <td>1</td>\n",
       "      <td>0</td>\n",
       "      <td>68.00</td>\n",
       "      <td>0</td>\n",
       "      <td>0</td>\n",
       "      <td>0</td>\n",
       "      <td>47</td>\n",
       "      <td>...</td>\n",
       "      <td>0</td>\n",
       "      <td>0.0000</td>\n",
       "      <td>0</td>\n",
       "      <td>0.000</td>\n",
       "      <td>0</td>\n",
       "      <td>0</td>\n",
       "      <td>161.80</td>\n",
       "      <td>2</td>\n",
       "      <td>0</td>\n",
       "      <td>0.7755</td>\n",
       "    </tr>\n",
       "    <tr>\n",
       "      <th>3</th>\n",
       "      <td>4616d365dd2853</td>\n",
       "      <td>a930a9c79cd721</td>\n",
       "      <td>f1f1f4ef412d7e</td>\n",
       "      <td>0</td>\n",
       "      <td>0</td>\n",
       "      <td>32.90</td>\n",
       "      <td>0</td>\n",
       "      <td>0</td>\n",
       "      <td>0</td>\n",
       "      <td>75</td>\n",
       "      <td>...</td>\n",
       "      <td>0</td>\n",
       "      <td>0.0000</td>\n",
       "      <td>0</td>\n",
       "      <td>0.000</td>\n",
       "      <td>0</td>\n",
       "      <td>0</td>\n",
       "      <td>202.70</td>\n",
       "      <td>3</td>\n",
       "      <td>0</td>\n",
       "      <td>0.1667</td>\n",
       "    </tr>\n",
       "    <tr>\n",
       "      <th>4</th>\n",
       "      <td>315c96c26c9aac</td>\n",
       "      <td>de04010b3458dd</td>\n",
       "      <td>6dc8ff871e21e6</td>\n",
       "      <td>0</td>\n",
       "      <td>0</td>\n",
       "      <td>100.00</td>\n",
       "      <td>0</td>\n",
       "      <td>0</td>\n",
       "      <td>0</td>\n",
       "      <td>45</td>\n",
       "      <td>...</td>\n",
       "      <td>0</td>\n",
       "      <td>0.0000</td>\n",
       "      <td>0</td>\n",
       "      <td>0.000</td>\n",
       "      <td>0</td>\n",
       "      <td>0</td>\n",
       "      <td>49.75</td>\n",
       "      <td>2</td>\n",
       "      <td>0</td>\n",
       "      <td>0.1875</td>\n",
       "    </tr>\n",
       "    <tr>\n",
       "      <th>...</th>\n",
       "      <td>...</td>\n",
       "      <td>...</td>\n",
       "      <td>...</td>\n",
       "      <td>...</td>\n",
       "      <td>...</td>\n",
       "      <td>...</td>\n",
       "      <td>...</td>\n",
       "      <td>...</td>\n",
       "      <td>...</td>\n",
       "      <td>...</td>\n",
       "      <td>...</td>\n",
       "      <td>...</td>\n",
       "      <td>...</td>\n",
       "      <td>...</td>\n",
       "      <td>...</td>\n",
       "      <td>...</td>\n",
       "      <td>...</td>\n",
       "      <td>...</td>\n",
       "      <td>...</td>\n",
       "      <td>...</td>\n",
       "      <td>...</td>\n",
       "    </tr>\n",
       "    <tr>\n",
       "      <th>4446961</th>\n",
       "      <td>afff7f652dbc10</td>\n",
       "      <td>d238e426f50de7</td>\n",
       "      <td>18492834ce5635</td>\n",
       "      <td>0</td>\n",
       "      <td>0</td>\n",
       "      <td>0.00</td>\n",
       "      <td>0</td>\n",
       "      <td>0</td>\n",
       "      <td>0</td>\n",
       "      <td>74</td>\n",
       "      <td>...</td>\n",
       "      <td>0</td>\n",
       "      <td>1292.0000</td>\n",
       "      <td>0</td>\n",
       "      <td>0.000</td>\n",
       "      <td>0</td>\n",
       "      <td>0</td>\n",
       "      <td>1019.00</td>\n",
       "      <td>3</td>\n",
       "      <td>1507</td>\n",
       "      <td>0.1786</td>\n",
       "    </tr>\n",
       "    <tr>\n",
       "      <th>4446962</th>\n",
       "      <td>f4197cf374e6c0</td>\n",
       "      <td>408cdb5c46b2ac</td>\n",
       "      <td>ee854b837376d9</td>\n",
       "      <td>0</td>\n",
       "      <td>1</td>\n",
       "      <td>44.15</td>\n",
       "      <td>0</td>\n",
       "      <td>0</td>\n",
       "      <td>0</td>\n",
       "      <td>69</td>\n",
       "      <td>...</td>\n",
       "      <td>0</td>\n",
       "      <td>0.0000</td>\n",
       "      <td>0</td>\n",
       "      <td>0.000</td>\n",
       "      <td>0</td>\n",
       "      <td>0</td>\n",
       "      <td>81.70</td>\n",
       "      <td>6</td>\n",
       "      <td>0</td>\n",
       "      <td>0.2935</td>\n",
       "    </tr>\n",
       "    <tr>\n",
       "      <th>4446963</th>\n",
       "      <td>e1948b1295c88a</td>\n",
       "      <td>e26ac84bdf7cef</td>\n",
       "      <td>6d0cd12784f1ab</td>\n",
       "      <td>0</td>\n",
       "      <td>0</td>\n",
       "      <td>59.06</td>\n",
       "      <td>0</td>\n",
       "      <td>0</td>\n",
       "      <td>0</td>\n",
       "      <td>66</td>\n",
       "      <td>...</td>\n",
       "      <td>0</td>\n",
       "      <td>0.0000</td>\n",
       "      <td>0</td>\n",
       "      <td>2.184</td>\n",
       "      <td>0</td>\n",
       "      <td>0</td>\n",
       "      <td>788.70</td>\n",
       "      <td>4</td>\n",
       "      <td>0</td>\n",
       "      <td>0.4815</td>\n",
       "    </tr>\n",
       "    <tr>\n",
       "      <th>4446964</th>\n",
       "      <td>cc032cdd73b7ac</td>\n",
       "      <td>c2223f35411394</td>\n",
       "      <td>c9c701d0ad758a</td>\n",
       "      <td>0</td>\n",
       "      <td>4</td>\n",
       "      <td>180.40</td>\n",
       "      <td>1</td>\n",
       "      <td>1</td>\n",
       "      <td>2</td>\n",
       "      <td>11</td>\n",
       "      <td>...</td>\n",
       "      <td>2</td>\n",
       "      <td>0.0000</td>\n",
       "      <td>0</td>\n",
       "      <td>0.000</td>\n",
       "      <td>0</td>\n",
       "      <td>0</td>\n",
       "      <td>2748.00</td>\n",
       "      <td>8</td>\n",
       "      <td>0</td>\n",
       "      <td>0.8000</td>\n",
       "    </tr>\n",
       "    <tr>\n",
       "      <th>4446965</th>\n",
       "      <td>0d8e7ed728b6fd</td>\n",
       "      <td>8c74f72fedf5ff</td>\n",
       "      <td>62a16aabcc095c</td>\n",
       "      <td>0</td>\n",
       "      <td>2</td>\n",
       "      <td>268.00</td>\n",
       "      <td>0</td>\n",
       "      <td>0</td>\n",
       "      <td>1</td>\n",
       "      <td>18</td>\n",
       "      <td>...</td>\n",
       "      <td>0</td>\n",
       "      <td>1369.0000</td>\n",
       "      <td>0</td>\n",
       "      <td>0.000</td>\n",
       "      <td>0</td>\n",
       "      <td>0</td>\n",
       "      <td>1244.00</td>\n",
       "      <td>5</td>\n",
       "      <td>0</td>\n",
       "      <td>0.5464</td>\n",
       "    </tr>\n",
       "  </tbody>\n",
       "</table>\n",
       "<p>4446966 rows × 29 columns</p>\n",
       "</div>"
      ],
      "text/plain": [
       "                     Id         groupId         matchId  assists  boosts  \\\n",
       "0        7f96b2f878858a  4d4b580de459be  a10357fd1a4a91        0       0   \n",
       "1        eef90569b9d03c  684d5656442f9e  aeb375fc57110c        0       0   \n",
       "2        1eaf90ac73de72  6a4a42c3245a74  110163d8bb94ae        1       0   \n",
       "3        4616d365dd2853  a930a9c79cd721  f1f1f4ef412d7e        0       0   \n",
       "4        315c96c26c9aac  de04010b3458dd  6dc8ff871e21e6        0       0   \n",
       "...                 ...             ...             ...      ...     ...   \n",
       "4446961  afff7f652dbc10  d238e426f50de7  18492834ce5635        0       0   \n",
       "4446962  f4197cf374e6c0  408cdb5c46b2ac  ee854b837376d9        0       1   \n",
       "4446963  e1948b1295c88a  e26ac84bdf7cef  6d0cd12784f1ab        0       0   \n",
       "4446964  cc032cdd73b7ac  c2223f35411394  c9c701d0ad758a        0       4   \n",
       "4446965  0d8e7ed728b6fd  8c74f72fedf5ff  62a16aabcc095c        0       2   \n",
       "\n",
       "         damageDealt  DBNOs  headshotKills  heals  killPlace  ...  revives  \\\n",
       "0               0.00      0              0      0         60  ...        0   \n",
       "1              91.47      0              0      0         57  ...        0   \n",
       "2              68.00      0              0      0         47  ...        0   \n",
       "3              32.90      0              0      0         75  ...        0   \n",
       "4             100.00      0              0      0         45  ...        0   \n",
       "...              ...    ...            ...    ...        ...  ...      ...   \n",
       "4446961         0.00      0              0      0         74  ...        0   \n",
       "4446962        44.15      0              0      0         69  ...        0   \n",
       "4446963        59.06      0              0      0         66  ...        0   \n",
       "4446964       180.40      1              1      2         11  ...        2   \n",
       "4446965       268.00      0              0      1         18  ...        0   \n",
       "\n",
       "         rideDistance  roadKills  swimDistance  teamKills vehicleDestroys  \\\n",
       "0              0.0000          0         0.000          0               0   \n",
       "1              0.0045          0        11.040          0               0   \n",
       "2              0.0000          0         0.000          0               0   \n",
       "3              0.0000          0         0.000          0               0   \n",
       "4              0.0000          0         0.000          0               0   \n",
       "...               ...        ...           ...        ...             ...   \n",
       "4446961     1292.0000          0         0.000          0               0   \n",
       "4446962        0.0000          0         0.000          0               0   \n",
       "4446963        0.0000          0         2.184          0               0   \n",
       "4446964        0.0000          0         0.000          0               0   \n",
       "4446965     1369.0000          0         0.000          0               0   \n",
       "\n",
       "         walkDistance  weaponsAcquired  winPoints  winPlacePerc  \n",
       "0              244.80                1       1466        0.4444  \n",
       "1             1434.00                5          0        0.6400  \n",
       "2              161.80                2          0        0.7755  \n",
       "3              202.70                3          0        0.1667  \n",
       "4               49.75                2          0        0.1875  \n",
       "...               ...              ...        ...           ...  \n",
       "4446961       1019.00                3       1507        0.1786  \n",
       "4446962         81.70                6          0        0.2935  \n",
       "4446963        788.70                4          0        0.4815  \n",
       "4446964       2748.00                8          0        0.8000  \n",
       "4446965       1244.00                5          0        0.5464  \n",
       "\n",
       "[4446966 rows x 29 columns]"
      ]
     },
     "execution_count": 3,
     "metadata": {},
     "output_type": "execute_result"
    }
   ],
   "source": [
    "data"
   ]
  },
  {
   "cell_type": "code",
   "execution_count": 4,
   "id": "037c85f2-ca24-4589-b7fc-6de9f0f5f8b1",
   "metadata": {},
   "outputs": [
    {
     "data": {
      "text/plain": [
       "(4446966, 29)"
      ]
     },
     "execution_count": 4,
     "metadata": {},
     "output_type": "execute_result"
    }
   ],
   "source": [
    "data.shape"
   ]
  },
  {
   "cell_type": "code",
   "execution_count": 5,
   "id": "f10dac00-0835-4c01-ab15-55f7a257e922",
   "metadata": {
    "scrolled": true
   },
   "outputs": [
    {
     "name": "stdout",
     "output_type": "stream",
     "text": [
      "<class 'pandas.core.frame.DataFrame'>\n",
      "RangeIndex: 4446966 entries, 0 to 4446965\n",
      "Data columns (total 29 columns):\n",
      " #   Column           Dtype  \n",
      "---  ------           -----  \n",
      " 0   Id               object \n",
      " 1   groupId          object \n",
      " 2   matchId          object \n",
      " 3   assists          int64  \n",
      " 4   boosts           int64  \n",
      " 5   damageDealt      float64\n",
      " 6   DBNOs            int64  \n",
      " 7   headshotKills    int64  \n",
      " 8   heals            int64  \n",
      " 9   killPlace        int64  \n",
      " 10  killPoints       int64  \n",
      " 11  kills            int64  \n",
      " 12  killStreaks      int64  \n",
      " 13  longestKill      float64\n",
      " 14  matchDuration    int64  \n",
      " 15  matchType        object \n",
      " 16  maxPlace         int64  \n",
      " 17  numGroups        int64  \n",
      " 18  rankPoints       int64  \n",
      " 19  revives          int64  \n",
      " 20  rideDistance     float64\n",
      " 21  roadKills        int64  \n",
      " 22  swimDistance     float64\n",
      " 23  teamKills        int64  \n",
      " 24  vehicleDestroys  int64  \n",
      " 25  walkDistance     float64\n",
      " 26  weaponsAcquired  int64  \n",
      " 27  winPoints        int64  \n",
      " 28  winPlacePerc     float64\n",
      "dtypes: float64(6), int64(19), object(4)\n",
      "memory usage: 983.9+ MB\n"
     ]
    }
   ],
   "source": [
    "data.info()"
   ]
  },
  {
   "cell_type": "markdown",
   "id": "6164dc15-710c-4d85-af79-1a6d60d4922a",
   "metadata": {},
   "source": [
    "### 数据异常问题"
   ]
  },
  {
   "cell_type": "code",
   "execution_count": 6,
   "id": "91db7243-0c2b-449e-bafd-5ce80c09b852",
   "metadata": {},
   "outputs": [
    {
     "data": {
      "text/plain": [
       "np.int64(0)"
      ]
     },
     "execution_count": 6,
     "metadata": {},
     "output_type": "execute_result"
    }
   ],
   "source": [
    "# 检查是否有重复ID\n",
    "data.duplicated(subset=[\"Id\"]).sum()"
   ]
  },
  {
   "cell_type": "code",
   "execution_count": 7,
   "id": "c371f251-66d6-4981-8cf7-879dd18ff81d",
   "metadata": {
    "scrolled": true
   },
   "outputs": [
    {
     "data": {
      "text/plain": [
       "Id                 0\n",
       "groupId            0\n",
       "matchId            0\n",
       "assists            0\n",
       "boosts             0\n",
       "damageDealt        0\n",
       "DBNOs              0\n",
       "headshotKills      0\n",
       "heals              0\n",
       "killPlace          0\n",
       "killPoints         0\n",
       "kills              0\n",
       "killStreaks        0\n",
       "longestKill        0\n",
       "matchDuration      0\n",
       "matchType          0\n",
       "maxPlace           0\n",
       "numGroups          0\n",
       "rankPoints         0\n",
       "revives            0\n",
       "rideDistance       0\n",
       "roadKills          0\n",
       "swimDistance       0\n",
       "teamKills          0\n",
       "vehicleDestroys    0\n",
       "walkDistance       0\n",
       "weaponsAcquired    0\n",
       "winPoints          0\n",
       "winPlacePerc       1\n",
       "dtype: int64"
      ]
     },
     "execution_count": 7,
     "metadata": {},
     "output_type": "execute_result"
    }
   ],
   "source": [
    "# 检查NaN的样本\n",
    "data.isna().sum()"
   ]
  },
  {
   "cell_type": "code",
   "execution_count": 8,
   "id": "7e04fe30-dabe-4ee4-acfc-31995a3819d0",
   "metadata": {},
   "outputs": [],
   "source": [
    "# 把NaN的样本干掉\n",
    "data.dropna(how=\"any\", inplace=True)"
   ]
  },
  {
   "cell_type": "code",
   "execution_count": 9,
   "id": "e760247d-7af8-4f85-83b2-6479e7f25190",
   "metadata": {
    "scrolled": true
   },
   "outputs": [
    {
     "data": {
      "text/plain": [
       "Id                 0\n",
       "groupId            0\n",
       "matchId            0\n",
       "assists            0\n",
       "boosts             0\n",
       "damageDealt        0\n",
       "DBNOs              0\n",
       "headshotKills      0\n",
       "heals              0\n",
       "killPlace          0\n",
       "killPoints         0\n",
       "kills              0\n",
       "killStreaks        0\n",
       "longestKill        0\n",
       "matchDuration      0\n",
       "matchType          0\n",
       "maxPlace           0\n",
       "numGroups          0\n",
       "rankPoints         0\n",
       "revives            0\n",
       "rideDistance       0\n",
       "roadKills          0\n",
       "swimDistance       0\n",
       "teamKills          0\n",
       "vehicleDestroys    0\n",
       "walkDistance       0\n",
       "weaponsAcquired    0\n",
       "winPoints          0\n",
       "winPlacePerc       0\n",
       "dtype: int64"
      ]
     },
     "execution_count": 9,
     "metadata": {},
     "output_type": "execute_result"
    }
   ],
   "source": [
    "data.isna().sum()"
   ]
  },
  {
   "cell_type": "code",
   "execution_count": 10,
   "id": "35b1664e-f7ea-405a-8d2c-1e3dd0348e27",
   "metadata": {},
   "outputs": [],
   "source": [
    "# 去掉无用特征\n",
    "data.drop(columns=[\"Id\", \"groupId\", \"matchId\"], axis=1, inplace=True)"
   ]
  },
  {
   "cell_type": "code",
   "execution_count": 11,
   "id": "c22efeb3-3e4b-4291-87a0-99ff4c3326be",
   "metadata": {
    "scrolled": true
   },
   "outputs": [
    {
     "name": "stdout",
     "output_type": "stream",
     "text": [
      "<class 'pandas.core.frame.DataFrame'>\n",
      "Index: 4446965 entries, 0 to 4446965\n",
      "Data columns (total 26 columns):\n",
      " #   Column           Dtype  \n",
      "---  ------           -----  \n",
      " 0   assists          int64  \n",
      " 1   boosts           int64  \n",
      " 2   damageDealt      float64\n",
      " 3   DBNOs            int64  \n",
      " 4   headshotKills    int64  \n",
      " 5   heals            int64  \n",
      " 6   killPlace        int64  \n",
      " 7   killPoints       int64  \n",
      " 8   kills            int64  \n",
      " 9   killStreaks      int64  \n",
      " 10  longestKill      float64\n",
      " 11  matchDuration    int64  \n",
      " 12  matchType        object \n",
      " 13  maxPlace         int64  \n",
      " 14  numGroups        int64  \n",
      " 15  rankPoints       int64  \n",
      " 16  revives          int64  \n",
      " 17  rideDistance     float64\n",
      " 18  roadKills        int64  \n",
      " 19  swimDistance     float64\n",
      " 20  teamKills        int64  \n",
      " 21  vehicleDestroys  int64  \n",
      " 22  walkDistance     float64\n",
      " 23  weaponsAcquired  int64  \n",
      " 24  winPoints        int64  \n",
      " 25  winPlacePerc     float64\n",
      "dtypes: float64(6), int64(19), object(1)\n",
      "memory usage: 916.0+ MB\n"
     ]
    }
   ],
   "source": [
    "data.info()"
   ]
  },
  {
   "cell_type": "markdown",
   "id": "5fa9f033-c1f8-4259-be89-ee85948cd8fe",
   "metadata": {},
   "source": [
    "### 编码"
   ]
  },
  {
   "cell_type": "code",
   "execution_count": 12,
   "id": "47bde8f3-1632-40ce-9975-b2df0da90a3c",
   "metadata": {},
   "outputs": [
    {
     "data": {
      "text/plain": [
       "array(['squad-fpp', 'duo', 'solo-fpp', 'squad', 'duo-fpp', 'solo',\n",
       "       'normal-squad-fpp', 'crashfpp', 'flaretpp', 'normal-solo-fpp',\n",
       "       'flarefpp', 'normal-duo-fpp', 'normal-duo', 'normal-squad',\n",
       "       'crashtpp', 'normal-solo'], dtype=object)"
      ]
     },
     "execution_count": 12,
     "metadata": {},
     "output_type": "execute_result"
    }
   ],
   "source": [
    "# 通过观察发现，matchType需要编码，其余都是连续量。所以对matchType进行编码\n",
    "# 判断有多少个离散的状态\n",
    "data[\"matchType\"].unique()"
   ]
  },
  {
   "cell_type": "code",
   "execution_count": 13,
   "id": "4ae6bb71-191e-4dae-b8c0-0e65e7cd3dd7",
   "metadata": {},
   "outputs": [
    {
     "name": "stdout",
     "output_type": "stream",
     "text": [
      "{'squad-fpp': 0, 'duo': 1, 'solo-fpp': 2, 'squad': 3, 'duo-fpp': 4, 'solo': 5, 'normal-squad-fpp': 6, 'crashfpp': 7, 'flaretpp': 8, 'normal-solo-fpp': 9, 'flarefpp': 10, 'normal-duo-fpp': 11, 'normal-duo': 12, 'normal-squad': 13, 'crashtpp': 14, 'normal-solo': 15}\n"
     ]
    }
   ],
   "source": [
    "# 构建 状态词典\n",
    "matchtype_dict = {matchtype:idx for idx, matchtype in enumerate(data[\"matchType\"].unique())}\n",
    "print(matchtype_dict)\n",
    "# 更新对应特征\n",
    "data[\"matchType\"] = data[\"matchType\"].apply(func=lambda ele: matchtype_dict[ele])"
   ]
  },
  {
   "cell_type": "code",
   "execution_count": 14,
   "id": "ec21b187-93d3-4c55-bac9-8384ca01957d",
   "metadata": {
    "scrolled": true
   },
   "outputs": [
    {
     "data": {
      "text/plain": [
       "0          0\n",
       "1          0\n",
       "2          1\n",
       "3          0\n",
       "4          2\n",
       "          ..\n",
       "4446961    0\n",
       "4446962    5\n",
       "4446963    0\n",
       "4446964    0\n",
       "4446965    2\n",
       "Name: matchType, Length: 4446965, dtype: int64"
      ]
     },
     "execution_count": 14,
     "metadata": {},
     "output_type": "execute_result"
    }
   ],
   "source": [
    "data[\"matchType\"]"
   ]
  },
  {
   "cell_type": "markdown",
   "id": "ec070d61-5763-4b6a-9116-c278cbbde7bc",
   "metadata": {},
   "source": [
    "### 每次执|行太慢了 =..=    只取了一点数据意思一下吧"
   ]
  },
  {
   "cell_type": "code",
   "execution_count": 15,
   "id": "0b6efc94-f2a8-4c25-b175-18c724e9e3d2",
   "metadata": {},
   "outputs": [],
   "source": [
    "df_data = data.sample(1000)"
   ]
  },
  {
   "cell_type": "code",
   "execution_count": 16,
   "id": "909fa5a3-7e7d-46ac-9593-c72baf6c1d1c",
   "metadata": {},
   "outputs": [
    {
     "name": "stdout",
     "output_type": "stream",
     "text": [
      "(1000, 26)\n"
     ]
    }
   ],
   "source": [
    "print(df_data.shape)\n",
    "y = df_data[\"winPlacePerc\"]\n",
    "X = df_data.drop(columns=[\"winPlacePerc\"], axis=1)"
   ]
  },
  {
   "cell_type": "code",
   "execution_count": 17,
   "id": "9f6d2e05-5dc7-42c2-95e6-c71fba8b70cd",
   "metadata": {},
   "outputs": [
    {
     "name": "stdout",
     "output_type": "stream",
     "text": [
      "(1000, 25) (1000,)\n"
     ]
    }
   ],
   "source": [
    "print(X.shape, y.shape)"
   ]
  },
  {
   "cell_type": "markdown",
   "id": "40b2bbff-d46f-486f-884f-e3c7ca98ad3f",
   "metadata": {},
   "source": [
    "### 数据拆分"
   ]
  },
  {
   "cell_type": "code",
   "execution_count": 18,
   "id": "b0b0c38b-19cc-4da3-91c7-b9dfa934bfd7",
   "metadata": {},
   "outputs": [],
   "source": [
    "from sklearn.model_selection import train_test_split\n",
    "X_train, X_test, y_train, y_test = train_test_split(X, y, test_size=0.2, random_state=0)"
   ]
  },
  {
   "cell_type": "code",
   "execution_count": 19,
   "id": "4fdde318-3832-4df8-aef7-4f478f9a2c70",
   "metadata": {},
   "outputs": [
    {
     "data": {
      "text/plain": [
       "(800, 25)"
      ]
     },
     "execution_count": 19,
     "metadata": {},
     "output_type": "execute_result"
    }
   ],
   "source": [
    "X_train.shape"
   ]
  },
  {
   "cell_type": "code",
   "execution_count": 20,
   "id": "c413d643-ef24-4f0e-b2bd-bda85c8080da",
   "metadata": {},
   "outputs": [
    {
     "data": {
      "text/plain": [
       "(200, 25)"
      ]
     },
     "execution_count": 20,
     "metadata": {},
     "output_type": "execute_result"
    }
   ],
   "source": [
    "X_test.shape"
   ]
  },
  {
   "cell_type": "code",
   "execution_count": 21,
   "id": "64cb0e0f-f456-43a2-b2bd-1e27f949c5b6",
   "metadata": {},
   "outputs": [
    {
     "data": {
      "text/plain": [
       "(800,)"
      ]
     },
     "execution_count": 21,
     "metadata": {},
     "output_type": "execute_result"
    }
   ],
   "source": [
    "y_train.shape"
   ]
  },
  {
   "cell_type": "code",
   "execution_count": 22,
   "id": "ede9cbad-1c8d-47e1-823a-8ee8fab9bbd4",
   "metadata": {},
   "outputs": [
    {
     "data": {
      "text/plain": [
       "(200,)"
      ]
     },
     "execution_count": 22,
     "metadata": {},
     "output_type": "execute_result"
    }
   ],
   "source": [
    "y_test.shape"
   ]
  },
  {
   "cell_type": "code",
   "execution_count": null,
   "id": "2fa82c71-7bff-4214-9b7c-70be59560ef3",
   "metadata": {},
   "outputs": [],
   "source": []
  },
  {
   "cell_type": "markdown",
   "id": "5c245f74-2495-4936-a519-3ce3d8f74d1a",
   "metadata": {},
   "source": [
    "### 构建模型"
   ]
  },
  {
   "cell_type": "code",
   "execution_count": 23,
   "id": "2251df84-0686-41bf-90a5-5abf29c546ff",
   "metadata": {},
   "outputs": [],
   "source": [
    "from sklearn.ensemble import RandomForestRegressor\n",
    "from sklearn.metrics import mean_absolute_error"
   ]
  },
  {
   "cell_type": "code",
   "execution_count": 24,
   "id": "2172235e-360e-4669-b3aa-2819878511fd",
   "metadata": {},
   "outputs": [
    {
     "name": "stdout",
     "output_type": "stream",
     "text": [
      "mae是0.082053\n"
     ]
    }
   ],
   "source": [
    "rf1 = RandomForestRegressor(n_estimators=60, \n",
    "                           min_samples_leaf=1, \n",
    "                           max_features='sqrt',\n",
    "                           random_state=0, \n",
    "                           n_jobs=-1)\n",
    "rf1.fit(X=X_train, y=y_train)\n",
    "y_pred = rf1.predict(X=X_test)\n",
    "rf1_mae = mean_absolute_error(y_true=y_test, y_pred=y_pred)\n",
    "print(f'mae是{rf1_mae:4f}')"
   ]
  },
  {
   "cell_type": "markdown",
   "id": "66503740-b2b2-4cc4-90f3-b6031c9033a0",
   "metadata": {},
   "source": [
    "### 只保留重要特征后，再构建模型"
   ]
  },
  {
   "cell_type": "code",
   "execution_count": 25,
   "id": "f626c91c-c487-49c0-98fb-4ae746961afa",
   "metadata": {},
   "outputs": [
    {
     "data": {
      "text/plain": [
       "array([9.40215876e-03, 1.61339041e-01, 3.70112840e-02, 7.43412574e-03,\n",
       "       3.81750602e-03, 3.33471074e-02, 1.90450518e-01, 7.89288762e-03,\n",
       "       1.10316026e-02, 5.94215217e-03, 4.46614462e-02, 2.14256876e-02,\n",
       "       7.41880615e-03, 1.58729403e-02, 1.64768078e-02, 1.46710966e-02,\n",
       "       4.38593944e-03, 3.06254519e-02, 7.24186896e-05, 6.95508622e-03,\n",
       "       1.40559596e-03, 1.76309652e-04, 2.87710544e-01, 7.06679531e-02,\n",
       "       9.80553278e-03])"
      ]
     },
     "execution_count": 25,
     "metadata": {},
     "output_type": "execute_result"
    }
   ],
   "source": [
    "rf1.feature_importances_"
   ]
  },
  {
   "cell_type": "code",
   "execution_count": 26,
   "id": "1b97a698-1052-4925-bede-00f1bbcd981c",
   "metadata": {},
   "outputs": [
    {
     "data": {
      "text/plain": [
       "Index(['assists', 'boosts', 'damageDealt', 'DBNOs', 'headshotKills', 'heals',\n",
       "       'killPlace', 'killPoints', 'kills', 'killStreaks', 'longestKill',\n",
       "       'matchDuration', 'matchType', 'maxPlace', 'numGroups', 'rankPoints',\n",
       "       'revives', 'rideDistance', 'roadKills', 'swimDistance', 'teamKills',\n",
       "       'vehicleDestroys', 'walkDistance', 'weaponsAcquired', 'winPoints'],\n",
       "      dtype='object')"
      ]
     },
     "execution_count": 26,
     "metadata": {},
     "output_type": "execute_result"
    }
   ],
   "source": [
    "X.columns"
   ]
  },
  {
   "cell_type": "code",
   "execution_count": 27,
   "id": "da5490e9-67a1-4b82-84ed-a7ed9192367d",
   "metadata": {},
   "outputs": [],
   "source": [
    "imp_df = pd.DataFrame({\"cols\":X.columns, \"imp\":rf1.feature_importances_})"
   ]
  },
  {
   "cell_type": "code",
   "execution_count": 28,
   "id": "80e9a81d-b741-4131-89f9-e7acf0665704",
   "metadata": {},
   "outputs": [],
   "source": [
    "imp_df = imp_df.sort_values(\"imp\", ascending=False)"
   ]
  },
  {
   "cell_type": "code",
   "execution_count": 29,
   "id": "df0b61ff-cf3a-4064-a8a4-77a6221d62c6",
   "metadata": {
    "scrolled": true
   },
   "outputs": [
    {
     "data": {
      "text/html": [
       "<div>\n",
       "<style scoped>\n",
       "    .dataframe tbody tr th:only-of-type {\n",
       "        vertical-align: middle;\n",
       "    }\n",
       "\n",
       "    .dataframe tbody tr th {\n",
       "        vertical-align: top;\n",
       "    }\n",
       "\n",
       "    .dataframe thead th {\n",
       "        text-align: right;\n",
       "    }\n",
       "</style>\n",
       "<table border=\"1\" class=\"dataframe\">\n",
       "  <thead>\n",
       "    <tr style=\"text-align: right;\">\n",
       "      <th></th>\n",
       "      <th>cols</th>\n",
       "      <th>imp</th>\n",
       "    </tr>\n",
       "  </thead>\n",
       "  <tbody>\n",
       "    <tr>\n",
       "      <th>22</th>\n",
       "      <td>walkDistance</td>\n",
       "      <td>0.287711</td>\n",
       "    </tr>\n",
       "    <tr>\n",
       "      <th>6</th>\n",
       "      <td>killPlace</td>\n",
       "      <td>0.190451</td>\n",
       "    </tr>\n",
       "    <tr>\n",
       "      <th>1</th>\n",
       "      <td>boosts</td>\n",
       "      <td>0.161339</td>\n",
       "    </tr>\n",
       "    <tr>\n",
       "      <th>23</th>\n",
       "      <td>weaponsAcquired</td>\n",
       "      <td>0.070668</td>\n",
       "    </tr>\n",
       "    <tr>\n",
       "      <th>10</th>\n",
       "      <td>longestKill</td>\n",
       "      <td>0.044661</td>\n",
       "    </tr>\n",
       "    <tr>\n",
       "      <th>2</th>\n",
       "      <td>damageDealt</td>\n",
       "      <td>0.037011</td>\n",
       "    </tr>\n",
       "    <tr>\n",
       "      <th>5</th>\n",
       "      <td>heals</td>\n",
       "      <td>0.033347</td>\n",
       "    </tr>\n",
       "    <tr>\n",
       "      <th>17</th>\n",
       "      <td>rideDistance</td>\n",
       "      <td>0.030625</td>\n",
       "    </tr>\n",
       "    <tr>\n",
       "      <th>11</th>\n",
       "      <td>matchDuration</td>\n",
       "      <td>0.021426</td>\n",
       "    </tr>\n",
       "    <tr>\n",
       "      <th>14</th>\n",
       "      <td>numGroups</td>\n",
       "      <td>0.016477</td>\n",
       "    </tr>\n",
       "    <tr>\n",
       "      <th>13</th>\n",
       "      <td>maxPlace</td>\n",
       "      <td>0.015873</td>\n",
       "    </tr>\n",
       "    <tr>\n",
       "      <th>15</th>\n",
       "      <td>rankPoints</td>\n",
       "      <td>0.014671</td>\n",
       "    </tr>\n",
       "    <tr>\n",
       "      <th>8</th>\n",
       "      <td>kills</td>\n",
       "      <td>0.011032</td>\n",
       "    </tr>\n",
       "    <tr>\n",
       "      <th>24</th>\n",
       "      <td>winPoints</td>\n",
       "      <td>0.009806</td>\n",
       "    </tr>\n",
       "    <tr>\n",
       "      <th>0</th>\n",
       "      <td>assists</td>\n",
       "      <td>0.009402</td>\n",
       "    </tr>\n",
       "    <tr>\n",
       "      <th>7</th>\n",
       "      <td>killPoints</td>\n",
       "      <td>0.007893</td>\n",
       "    </tr>\n",
       "    <tr>\n",
       "      <th>3</th>\n",
       "      <td>DBNOs</td>\n",
       "      <td>0.007434</td>\n",
       "    </tr>\n",
       "    <tr>\n",
       "      <th>12</th>\n",
       "      <td>matchType</td>\n",
       "      <td>0.007419</td>\n",
       "    </tr>\n",
       "    <tr>\n",
       "      <th>19</th>\n",
       "      <td>swimDistance</td>\n",
       "      <td>0.006955</td>\n",
       "    </tr>\n",
       "    <tr>\n",
       "      <th>9</th>\n",
       "      <td>killStreaks</td>\n",
       "      <td>0.005942</td>\n",
       "    </tr>\n",
       "    <tr>\n",
       "      <th>16</th>\n",
       "      <td>revives</td>\n",
       "      <td>0.004386</td>\n",
       "    </tr>\n",
       "    <tr>\n",
       "      <th>4</th>\n",
       "      <td>headshotKills</td>\n",
       "      <td>0.003818</td>\n",
       "    </tr>\n",
       "    <tr>\n",
       "      <th>20</th>\n",
       "      <td>teamKills</td>\n",
       "      <td>0.001406</td>\n",
       "    </tr>\n",
       "    <tr>\n",
       "      <th>21</th>\n",
       "      <td>vehicleDestroys</td>\n",
       "      <td>0.000176</td>\n",
       "    </tr>\n",
       "    <tr>\n",
       "      <th>18</th>\n",
       "      <td>roadKills</td>\n",
       "      <td>0.000072</td>\n",
       "    </tr>\n",
       "  </tbody>\n",
       "</table>\n",
       "</div>"
      ],
      "text/plain": [
       "               cols       imp\n",
       "22     walkDistance  0.287711\n",
       "6         killPlace  0.190451\n",
       "1            boosts  0.161339\n",
       "23  weaponsAcquired  0.070668\n",
       "10      longestKill  0.044661\n",
       "2       damageDealt  0.037011\n",
       "5             heals  0.033347\n",
       "17     rideDistance  0.030625\n",
       "11    matchDuration  0.021426\n",
       "14        numGroups  0.016477\n",
       "13         maxPlace  0.015873\n",
       "15       rankPoints  0.014671\n",
       "8             kills  0.011032\n",
       "24        winPoints  0.009806\n",
       "0           assists  0.009402\n",
       "7        killPoints  0.007893\n",
       "3             DBNOs  0.007434\n",
       "12        matchType  0.007419\n",
       "19     swimDistance  0.006955\n",
       "9       killStreaks  0.005942\n",
       "16          revives  0.004386\n",
       "4     headshotKills  0.003818\n",
       "20        teamKills  0.001406\n",
       "21  vehicleDestroys  0.000176\n",
       "18        roadKills  0.000072"
      ]
     },
     "execution_count": 29,
     "metadata": {},
     "output_type": "execute_result"
    }
   ],
   "source": [
    "imp_df"
   ]
  },
  {
   "cell_type": "code",
   "execution_count": 30,
   "id": "8efdfa50-8595-4075-9305-fae783ad3c4e",
   "metadata": {},
   "outputs": [],
   "source": [
    "new_X = X[imp_df[imp_df.imp>0.006].cols]"
   ]
  },
  {
   "cell_type": "code",
   "execution_count": 31,
   "id": "d6b66e5a-1adf-4393-b6c3-668af67c51c5",
   "metadata": {},
   "outputs": [],
   "source": [
    "X_train, X_test, y_train, y_test = train_test_split(new_X, y, test_size=0.2, random_state=0)"
   ]
  },
  {
   "cell_type": "markdown",
   "id": "ac664bed-8191-4657-81a5-352e30be662d",
   "metadata": {},
   "source": [
    "### 用新特征再来一遍RF"
   ]
  },
  {
   "cell_type": "code",
   "execution_count": 32,
   "id": "dc81e1d5-8082-4787-a272-e78d50d87080",
   "metadata": {},
   "outputs": [
    {
     "name": "stdout",
     "output_type": "stream",
     "text": [
      "mae是0.090686\n"
     ]
    }
   ],
   "source": [
    "rf2 = RandomForestRegressor(n_estimators=11, \n",
    "                           min_samples_leaf=1, \n",
    "                           max_features='sqrt',\n",
    "                           random_state=0, \n",
    "                           n_jobs=-1)\n",
    "rf2.fit(X=X_train, y=y_train)\n",
    "y_pred = rf2.predict(X=X_test)\n",
    "rf2_mae = mean_absolute_error(y_true=y_test, y_pred=y_pred)\n",
    "print(f'mae是{rf2_mae:4f}')"
   ]
  },
  {
   "cell_type": "markdown",
   "id": "2bc52096-4829-4fbd-81be-5ad5d9649f71",
   "metadata": {},
   "source": [
    "### 网格搜索RF"
   ]
  },
  {
   "cell_type": "code",
   "execution_count": 33,
   "id": "51921016-ea09-44b3-9e7c-8eac261d3ae3",
   "metadata": {},
   "outputs": [
    {
     "name": "stdout",
     "output_type": "stream",
     "text": [
      "最佳参数:{'max_depth': None, 'min_samples_split': 5, 'n_estimators': 200}\n",
      "mae是0.072653\n"
     ]
    }
   ],
   "source": [
    "from sklearn.model_selection import GridSearchCV\n",
    "\n",
    "# 定义参数网格\n",
    "param_grid = {\n",
    "    'n_estimators': [50, 100, 200],\n",
    "    'max_depth': [None, 10, 20],\n",
    "    'min_samples_split': [2, 5, 10]\n",
    "}\n",
    "\n",
    "# 网格搜索\n",
    "grid_search = GridSearchCV(estimator=RandomForestRegressor(random_state=0),\n",
    "                           param_grid=param_grid,\n",
    "                           scoring='neg_mean_absolute_error',\n",
    "                           cv=3,\n",
    "                           n_jobs=-1)\n",
    "grid_search.fit(X=X_train, y=y_train)\n",
    "\n",
    "# 输出最佳参数\n",
    "print(f'最佳参数:{grid_search.best_params_}')\n",
    "\n",
    "y_pred = grid_search.predict(X=X_test)\n",
    "grid_search_mae = mean_absolute_error(y_true=y_test, y_pred=y_pred)\n",
    "print(f'mae是{grid_search_mae:4f}')"
   ]
  },
  {
   "cell_type": "markdown",
   "id": "fe4ddbfc-d07a-47aa-b1a6-ad01846c9dd3",
   "metadata": {},
   "source": [
    "### 网格搜索Light GBM"
   ]
  },
  {
   "cell_type": "code",
   "execution_count": 34,
   "id": "38f89b12-383a-46ef-8e51-6e0be1039897",
   "metadata": {},
   "outputs": [
    {
     "name": "stdout",
     "output_type": "stream",
     "text": [
      "[LightGBM] [Info] Auto-choosing col-wise multi-threading, the overhead of testing was 0.000321 seconds.\n",
      "You can set `force_col_wise=true` to remove the overhead.\n",
      "[LightGBM] [Info] Total Bins 1415\n",
      "[LightGBM] [Info] Number of data points in the train set: 800, number of used features: 19\n",
      "[LightGBM] [Info] Start training from score 0.465555\n",
      "LightGBM MAE: 0.069363\n"
     ]
    }
   ],
   "source": [
    "import lightgbm as lgb\n",
    "\n",
    "estimator = lgb.LGBMRegressor()\n",
    "param_grid = {\n",
    "    'learning_rate': [0.05, 0.08, 0.2],\n",
    "    'n_estimators': [20, 400, 600],\n",
    "    'num_leaves': [10, 40, 50]\n",
    "}\n",
    "\n",
    "lgb_reg = GridSearchCV(estimator=estimator, param_grid=param_grid, cv=5, n_jobs=-1)\n",
    "\n",
    "# 训练模型\n",
    "lgb_reg.fit(X=X_train, y=y_train)\n",
    "\n",
    "# 预测与评估\n",
    "y_pred = lgb_reg.predict(X=X_test)\n",
    "lgb_mae = mean_absolute_error(y_true=y_test, y_pred=y_pred)\n",
    "print(f\"LightGBM MAE: {lgb_mae:4f}\")"
   ]
  },
  {
   "cell_type": "code",
   "execution_count": null,
   "id": "cac22812-c07f-4dfa-98c9-adb9447387a5",
   "metadata": {},
   "outputs": [],
   "source": []
  }
 ],
 "metadata": {
  "kernelspec": {
   "display_name": "Python(py311)",
   "language": "python",
   "name": "py311"
  },
  "language_info": {
   "codemirror_mode": {
    "name": "ipython",
    "version": 3
   },
   "file_extension": ".py",
   "mimetype": "text/x-python",
   "name": "python",
   "nbconvert_exporter": "python",
   "pygments_lexer": "ipython3",
   "version": "3.11.11"
  }
 },
 "nbformat": 4,
 "nbformat_minor": 5
}
